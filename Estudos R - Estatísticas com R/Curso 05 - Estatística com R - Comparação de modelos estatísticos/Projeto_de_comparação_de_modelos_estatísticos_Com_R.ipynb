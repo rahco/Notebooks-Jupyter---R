{
  "cells": [
    {
      "cell_type": "markdown",
      "source": [
        "# Definindo o projeto do curso"
      ],
      "metadata": {
        "id": "dTIiEcv_eRl-"
      }
    },
    {
      "cell_type": "markdown",
      "source": [
        "Pergunta: O que afeta a qualidade do ar? Como?"
      ],
      "metadata": {
        "id": "JAO6jKi_eX4f"
      }
    },
    {
      "cell_type": "code",
      "source": [
        "install.packages(\"Ecdat\")"
      ],
      "metadata": {
        "colab": {
          "base_uri": "https://localhost:8080/"
        },
        "id": "OsSD82h8cdZY",
        "outputId": "6424266f-c43b-463d-bb79-70055d4bb673"
      },
      "execution_count": null,
      "outputs": [
        {
          "output_type": "stream",
          "name": "stderr",
          "text": [
            "Installing package into ‘/usr/local/lib/R/site-library’\n",
            "(as ‘lib’ is unspecified)\n",
            "\n",
            "also installing the dependencies ‘Rcpp’, ‘misc3d’, ‘locfit’, ‘ash’, ‘FNN’, ‘kernlab’, ‘mclust’, ‘multicool’, ‘plot3D’, ‘pracma’, ‘hdrcde’, ‘ks’, ‘bitops’, ‘rainbow’, ‘RCurl’, ‘DEoptimR’, ‘pcaPP’, ‘fds’, ‘deSolve’, ‘leaps’, ‘robustbase’, ‘inline’, ‘rrcov’, ‘fda’, ‘tis’, ‘jpeg’, ‘TeachingDemos’, ‘BMA’, ‘mvtnorm’, ‘Ecfun’\n",
            "\n",
            "\n"
          ]
        }
      ]
    },
    {
      "cell_type": "code",
      "source": [
        "library(Ecdat)"
      ],
      "metadata": {
        "id": "FjNlBpNHcY33"
      },
      "execution_count": null,
      "outputs": []
    },
    {
      "cell_type": "code",
      "execution_count": null,
      "metadata": {
        "id": "JgBLHvclZTOw"
      },
      "outputs": [],
      "source": [
        "# Carregando o bd\n",
        "data(Airq)"
      ]
    },
    {
      "cell_type": "code",
      "source": [
        "names(Airq)"
      ],
      "metadata": {
        "colab": {
          "base_uri": "https://localhost:8080/",
          "height": 34
        },
        "id": "Rgs6Z85ge9Pd",
        "outputId": "0767fe79-3717-44b3-b32d-92fd4f0ca174"
      },
      "execution_count": null,
      "outputs": [
        {
          "output_type": "display_data",
          "data": {
            "text/html": [
              "<style>\n",
              ".list-inline {list-style: none; margin:0; padding: 0}\n",
              ".list-inline>li {display: inline-block}\n",
              ".list-inline>li:not(:last-child)::after {content: \"\\00b7\"; padding: 0 .5ex}\n",
              "</style>\n",
              "<ol class=list-inline><li>'airq'</li><li>'vala'</li><li>'rain'</li><li>'coas'</li><li>'dens'</li><li>'medi'</li></ol>\n"
            ],
            "text/markdown": "1. 'airq'\n2. 'vala'\n3. 'rain'\n4. 'coas'\n5. 'dens'\n6. 'medi'\n\n\n",
            "text/latex": "\\begin{enumerate*}\n\\item 'airq'\n\\item 'vala'\n\\item 'rain'\n\\item 'coas'\n\\item 'dens'\n\\item 'medi'\n\\end{enumerate*}\n",
            "text/plain": [
              "[1] \"airq\" \"vala\" \"rain\" \"coas\" \"dens\" \"medi\""
            ]
          },
          "metadata": {}
        }
      ]
    },
    {
      "cell_type": "markdown",
      "source": [
        "## Descrição das variáveis:\n",
        "\n",
        "airq <- índice de qualidade do ar (quanto menor, melhor)\n",
        "\n",
        "vala <- valor das empresas nas cidades (milhares de dólares)\n",
        "\n",
        "rain <- quantidade de chuva (em polegadas)\n",
        "\n",
        "coas <- posição costeira da cidade (sim ou não)\n",
        "\n",
        "dens <- densidade populacional (milha quadrada)\n",
        "\n",
        "medi <- renda média per capita (dólares)"
      ],
      "metadata": {
        "id": "1nZJy1ASfTyC"
      }
    },
    {
      "cell_type": "code",
      "source": [
        "head(Airq)"
      ],
      "metadata": {
        "colab": {
          "base_uri": "https://localhost:8080/",
          "height": 286
        },
        "id": "YdXPiJqKfDXJ",
        "outputId": "8b5f9fa8-bc1f-483f-9366-32d89ffd47e6"
      },
      "execution_count": null,
      "outputs": [
        {
          "output_type": "display_data",
          "data": {
            "text/html": [
              "<table class=\"dataframe\">\n",
              "<caption>A data.frame: 6 × 6</caption>\n",
              "<thead>\n",
              "\t<tr><th></th><th scope=col>airq</th><th scope=col>vala</th><th scope=col>rain</th><th scope=col>coas</th><th scope=col>dens</th><th scope=col>medi</th></tr>\n",
              "\t<tr><th></th><th scope=col>&lt;int&gt;</th><th scope=col>&lt;dbl&gt;</th><th scope=col>&lt;dbl&gt;</th><th scope=col>&lt;fct&gt;</th><th scope=col>&lt;dbl&gt;</th><th scope=col>&lt;int&gt;</th></tr>\n",
              "</thead>\n",
              "<tbody>\n",
              "\t<tr><th scope=row>1</th><td>104</td><td> 2734.4</td><td>12.63</td><td>yes</td><td>1815.86</td><td> 4397</td></tr>\n",
              "\t<tr><th scope=row>2</th><td> 85</td><td> 2479.2</td><td>47.14</td><td>yes</td><td> 804.86</td><td> 5667</td></tr>\n",
              "\t<tr><th scope=row>3</th><td>127</td><td> 4845.0</td><td>42.77</td><td>yes</td><td>1907.86</td><td>15817</td></tr>\n",
              "\t<tr><th scope=row>4</th><td>145</td><td>19733.8</td><td>33.18</td><td>no </td><td>1876.08</td><td>32698</td></tr>\n",
              "\t<tr><th scope=row>5</th><td> 84</td><td> 4093.6</td><td>34.55</td><td>yes</td><td> 340.93</td><td> 6250</td></tr>\n",
              "\t<tr><th scope=row>6</th><td>135</td><td> 1849.8</td><td>14.81</td><td>no </td><td> 335.52</td><td> 4705</td></tr>\n",
              "</tbody>\n",
              "</table>\n"
            ],
            "text/markdown": "\nA data.frame: 6 × 6\n\n| <!--/--> | airq &lt;int&gt; | vala &lt;dbl&gt; | rain &lt;dbl&gt; | coas &lt;fct&gt; | dens &lt;dbl&gt; | medi &lt;int&gt; |\n|---|---|---|---|---|---|---|\n| 1 | 104 |  2734.4 | 12.63 | yes | 1815.86 |  4397 |\n| 2 |  85 |  2479.2 | 47.14 | yes |  804.86 |  5667 |\n| 3 | 127 |  4845.0 | 42.77 | yes | 1907.86 | 15817 |\n| 4 | 145 | 19733.8 | 33.18 | no  | 1876.08 | 32698 |\n| 5 |  84 |  4093.6 | 34.55 | yes |  340.93 |  6250 |\n| 6 | 135 |  1849.8 | 14.81 | no  |  335.52 |  4705 |\n\n",
            "text/latex": "A data.frame: 6 × 6\n\\begin{tabular}{r|llllll}\n  & airq & vala & rain & coas & dens & medi\\\\\n  & <int> & <dbl> & <dbl> & <fct> & <dbl> & <int>\\\\\n\\hline\n\t1 & 104 &  2734.4 & 12.63 & yes & 1815.86 &  4397\\\\\n\t2 &  85 &  2479.2 & 47.14 & yes &  804.86 &  5667\\\\\n\t3 & 127 &  4845.0 & 42.77 & yes & 1907.86 & 15817\\\\\n\t4 & 145 & 19733.8 & 33.18 & no  & 1876.08 & 32698\\\\\n\t5 &  84 &  4093.6 & 34.55 & yes &  340.93 &  6250\\\\\n\t6 & 135 &  1849.8 & 14.81 & no  &  335.52 &  4705\\\\\n\\end{tabular}\n",
            "text/plain": [
              "  airq vala    rain  coas dens    medi \n",
              "1 104   2734.4 12.63 yes  1815.86  4397\n",
              "2  85   2479.2 47.14 yes   804.86  5667\n",
              "3 127   4845.0 42.77 yes  1907.86 15817\n",
              "4 145  19733.8 33.18 no   1876.08 32698\n",
              "5  84   4093.6 34.55 yes   340.93  6250\n",
              "6 135   1849.8 14.81 no    335.52  4705"
            ]
          },
          "metadata": {}
        }
      ]
    },
    {
      "cell_type": "markdown",
      "source": [
        "# Sumário das variáveis"
      ],
      "metadata": {
        "id": "u0_sm3UGk_R4"
      }
    },
    {
      "cell_type": "code",
      "source": [
        "# No bd temos variáveis contínuas e categóricas (coas)\n",
        "\n",
        "summary(Airq)"
      ],
      "metadata": {
        "colab": {
          "base_uri": "https://localhost:8080/",
          "height": 260
        },
        "id": "oWdTNyWLfLUj",
        "outputId": "677793ee-2f2f-4731-c5bf-cdc5a1e160e0"
      },
      "execution_count": null,
      "outputs": [
        {
          "output_type": "display_data",
          "data": {
            "text/plain": [
              "      airq            vala              rain        coas         dens        \n",
              " Min.   : 59.0   Min.   :  992.9   Min.   :12.63   no : 9   Min.   :  271.6  \n",
              " 1st Qu.: 81.0   1st Qu.: 1535.8   1st Qu.:31.02   yes:21   1st Qu.:  365.2  \n",
              " Median :114.0   Median : 2629.8   Median :36.66            Median :  796.2  \n",
              " Mean   :104.7   Mean   : 4188.5   Mean   :36.08            Mean   : 1728.6  \n",
              " 3rd Qu.:126.2   3rd Qu.: 4141.4   3rd Qu.:42.70            3rd Qu.: 1635.2  \n",
              " Max.   :165.0   Max.   :19733.8   Max.   :68.13            Max.   :12957.5  \n",
              "      medi      \n",
              " Min.   :  853  \n",
              " 1st Qu.: 3340  \n",
              " Median : 4858  \n",
              " Mean   : 9477  \n",
              " 3rd Qu.: 8715  \n",
              " Max.   :59460  "
            ]
          },
          "metadata": {}
        }
      ]
    },
    {
      "cell_type": "code",
      "source": [
        "# Plotando um primeiro gráfico de relação y em função x com as variáveis airq em função de vala\n",
        "\n",
        "plot(airq~vala, data=Airq)"
      ],
      "metadata": {
        "colab": {
          "base_uri": "https://localhost:8080/",
          "height": 437
        },
        "id": "yYf8f2EBkyKL",
        "outputId": "dc22cab7-1257-4737-8477-f10dc6feee5b"
      },
      "execution_count": null,
      "outputs": [
        {
          "output_type": "display_data",
          "data": {
            "text/plain": [
              "plot without title"
            ],
            "image/png": "[encoded data removed]"
          },
          "metadata": {
            "image/png": {
              "width": 420,
              "height": 420
            }
          }
        }
      ]
    },
    {
      "cell_type": "markdown",
      "source": [
        "# Criando um modelo estatístico - M1"
      ],
      "metadata": {
        "id": "biGIYNbSmh3K"
      }
    },
    {
      "cell_type": "markdown",
      "source": [
        "y (resposta) ~ x(explicativa)\n",
        "\n",
        "ex: y(crescimento de uma planta) ~ x(quantidade de adubo) + x(quantidade de luz)\n",
        "\n",
        "y ~ x1 + x2 + x3\n",
        "\n",
        "airq ~ vala + coas + rain + ..."
      ],
      "metadata": {
        "id": "iK0vhB92mk8U"
      }
    },
    {
      "cell_type": "code",
      "source": [
        "# Criando a função de regressão linear de airq em função de vala.\n",
        "\n",
        "m1 <- lm(airq~vala, data=Airq)\n",
        "m1"
      ],
      "metadata": {
        "colab": {
          "base_uri": "https://localhost:8080/",
          "height": 139
        },
        "id": "LUewFE4NlQSF",
        "outputId": "d0c41bc3-cb56-42b6-9517-79b0866212c6"
      },
      "execution_count": null,
      "outputs": [
        {
          "output_type": "display_data",
          "data": {
            "text/plain": [
              "\n",
              "Call:\n",
              "lm(formula = airq ~ vala, data = Airq)\n",
              "\n",
              "Coefficients:\n",
              "(Intercept)         vala  \n",
              "  96.451419     0.001969  \n"
            ]
          },
          "metadata": {}
        }
      ]
    },
    {
      "cell_type": "code",
      "source": [
        "# Obtendo os dados estatísticos do modelo criado.\n",
        "\n",
        "summary(m1)"
      ],
      "metadata": {
        "colab": {
          "base_uri": "https://localhost:8080/",
          "height": 329
        },
        "id": "cR8Y7SlGmgMB",
        "outputId": "7b127bee-3f67-4d6a-c0fc-0346c9866742"
      },
      "execution_count": null,
      "outputs": [
        {
          "output_type": "display_data",
          "data": {
            "text/plain": [
              "\n",
              "Call:\n",
              "lm(formula = airq ~ vala, data = Airq)\n",
              "\n",
              "Residuals:\n",
              "    Min      1Q  Median      3Q     Max \n",
              "-44.970 -22.002   7.228  20.774  60.361 \n",
              "\n",
              "Coefficients:\n",
              "             Estimate Std. Error t value Pr(>|t|)    \n",
              "(Intercept) 96.451419   6.691801  14.413 1.76e-14 ***\n",
              "vala         0.001969   0.001082   1.821   0.0794 .  \n",
              "---\n",
              "Signif. codes:  0 ‘***’ 0.001 ‘**’ 0.01 ‘*’ 0.05 ‘.’ 0.1 ‘ ’ 1\n",
              "\n",
              "Residual standard error: 26.97 on 28 degrees of freedom\n",
              "Multiple R-squared:  0.1058,\tAdjusted R-squared:  0.07391 \n",
              "F-statistic: 3.314 on 1 and 28 DF,  p-value: 0.07938\n"
            ]
          },
          "metadata": {}
        }
      ]
    },
    {
      "cell_type": "markdown",
      "source": [
        "P-valor = Pr(>|t|) do summary, indica a significância do modelo ou da variável.\n",
        "\n",
        "Sendo p-valor <= 0.05 podemos concluir que a variável explicativa é significativa a determinação de Y.\n",
        "\n",
        "Sendo p-valor > 0.05 podemos concluir que a variável explicativa não é significativa a determinação de Y."
      ],
      "metadata": {
        "id": "cPyv_X0Do2UL"
      }
    },
    {
      "cell_type": "markdown",
      "source": [
        "**Sendo p-valor = 0.0794 > 0.05** entendemos que a fórmula de airq em função de vala não é significante a explicar sua variação. "
      ],
      "metadata": {
        "id": "rHg13m6apYBq"
      }
    },
    {
      "cell_type": "code",
      "source": [
        "# Plot do gráfico de regressão linear\n",
        "\n",
        "plot(airq~vala, data=Airq)"
      ],
      "metadata": {
        "colab": {
          "base_uri": "https://localhost:8080/",
          "height": 437
        },
        "id": "o-PwK3J1qh7K",
        "outputId": "89a15260-badb-45a9-920e-115de95460fc"
      },
      "execution_count": null,
      "outputs": [
        {
          "output_type": "display_data",
          "data": {
            "text/plain": [
              "plot without title"
            ],
            "image/png": "[encoded data removed]"
          },
          "metadata": {
            "image/png": {
              "width": 420,
              "height": 420
            }
          }
        }
      ]
    },
    {
      "cell_type": "markdown",
      "source": [
        "# Criando um modelo estatístico - M2"
      ],
      "metadata": {
        "id": "XzxedBzFqIrG"
      }
    },
    {
      "cell_type": "code",
      "source": [
        "# Criando a função de regressão linear de airq em função de vala.\n",
        "\n",
        "m2 <- lm(airq~coas, data=Airq)\n",
        "m2"
      ],
      "metadata": {
        "colab": {
          "base_uri": "https://localhost:8080/",
          "height": 139
        },
        "id": "F5okJ_xXonc_",
        "outputId": "fef2c887-c616-4e26-9a8d-6b9ae35aabde"
      },
      "execution_count": null,
      "outputs": [
        {
          "output_type": "display_data",
          "data": {
            "text/plain": [
              "\n",
              "Call:\n",
              "lm(formula = airq ~ coas, data = Airq)\n",
              "\n",
              "Coefficients:\n",
              "(Intercept)      coasyes  \n",
              "     125.33       -29.48  \n"
            ]
          },
          "metadata": {}
        }
      ]
    },
    {
      "cell_type": "code",
      "source": [
        "# Obtendo os dados estatísticos do modelo criado.\n",
        "\n",
        "summary(m2)"
      ],
      "metadata": {
        "colab": {
          "base_uri": "https://localhost:8080/",
          "height": 329
        },
        "id": "N55IvZMUq3WE",
        "outputId": "978ef580-8f4a-458b-d867-900be044f3c7"
      },
      "execution_count": null,
      "outputs": [
        {
          "output_type": "display_data",
          "data": {
            "text/plain": [
              "\n",
              "Call:\n",
              "lm(formula = airq ~ coas, data = Airq)\n",
              "\n",
              "Residuals:\n",
              "    Min      1Q  Median      3Q     Max \n",
              "-36.857 -15.726  -6.333  17.167  69.143 \n",
              "\n",
              "Coefficients:\n",
              "            Estimate Std. Error t value Pr(>|t|)    \n",
              "(Intercept)  125.333      8.288  15.123 5.32e-15 ***\n",
              "coasyes      -29.476      9.906  -2.976  0.00596 ** \n",
              "---\n",
              "Signif. codes:  0 ‘***’ 0.001 ‘**’ 0.01 ‘*’ 0.05 ‘.’ 0.1 ‘ ’ 1\n",
              "\n",
              "Residual standard error: 24.86 on 28 degrees of freedom\n",
              "Multiple R-squared:  0.2403,\tAdjusted R-squared:  0.2131 \n",
              "F-statistic: 8.855 on 1 and 28 DF,  p-value: 0.005965\n"
            ]
          },
          "metadata": {}
        }
      ]
    },
    {
      "cell_type": "markdown",
      "source": [
        "**Sendo p-valor = 0.00596 <= 0.05** entendemos que a fórmula de airq em função de coas é significante a explicar sua variação."
      ],
      "metadata": {
        "id": "PPIQZNYorI4q"
      }
    },
    {
      "cell_type": "markdown",
      "source": [
        "No gráfico da regressão linear abaixo podemos confirmar que a posição costeira da cidade influência a qualidade do ar."
      ],
      "metadata": {
        "id": "DXy3KZmcr6vJ"
      }
    },
    {
      "cell_type": "code",
      "source": [
        "# Plot do gráfico de regressão linear.\n",
        "# Ao postar o gráfico de regressão linear de uma variável categórica, a linguagem automáticamente cria um gráfico do tipo box-plot.\n",
        "\n",
        "plot(airq~coas, data=Airq)"
      ],
      "metadata": {
        "colab": {
          "base_uri": "https://localhost:8080/",
          "height": 437
        },
        "id": "y2AlYwlZq6h9",
        "outputId": "08e756fe-30a3-4891-872d-9c86d8016d80"
      },
      "execution_count": null,
      "outputs": [
        {
          "output_type": "display_data",
          "data": {
            "text/plain": [
              "plot without title"
            ],
            "image/png": "[encoded data removed]"
          },
          "metadata": {
            "image/png": {
              "width": 420,
              "height": 420
            }
          }
        }
      ]
    },
    {
      "cell_type": "markdown",
      "source": [
        "# Criando um modelo estatístico - M3"
      ],
      "metadata": {
        "id": "tTmYVFyaCbA5"
      }
    },
    {
      "cell_type": "code",
      "source": [
        "# Criando a função de regressão linear de airq em função de medi.\n",
        "\n",
        "m3 <- lm(airq~medi, data=Airq)\n",
        "m3"
      ],
      "metadata": {
        "id": "YjcQ3MeOrHJw",
        "colab": {
          "base_uri": "https://localhost:8080/",
          "height": 139
        },
        "outputId": "4ca0e9a1-6ad1-46d1-ac7d-09a40e07098c"
      },
      "execution_count": null,
      "outputs": [
        {
          "output_type": "display_data",
          "data": {
            "text/plain": [
              "\n",
              "Call:\n",
              "lm(formula = airq ~ medi, data = Airq)\n",
              "\n",
              "Coefficients:\n",
              "(Intercept)         medi  \n",
              "  9.936e+01    5.638e-04  \n"
            ]
          },
          "metadata": {}
        }
      ]
    },
    {
      "cell_type": "code",
      "source": [
        "# Obtendo os dados estatísticos do modelo criado.\n",
        "\n",
        "summary(m3)"
      ],
      "metadata": {
        "colab": {
          "base_uri": "https://localhost:8080/",
          "height": 329
        },
        "id": "lIxhd4xZCgx5",
        "outputId": "90387153-2c12-4cfe-ba9f-243823f74709"
      },
      "execution_count": null,
      "outputs": [
        {
          "output_type": "display_data",
          "data": {
            "text/plain": [
              "\n",
              "Call:\n",
              "lm(formula = airq ~ medi, data = Airq)\n",
              "\n",
              "Residuals:\n",
              "    Min      1Q  Median      3Q     Max \n",
              "-49.214 -21.358   5.696  19.247  60.410 \n",
              "\n",
              "Coefficients:\n",
              "             Estimate Std. Error t value Pr(>|t|)    \n",
              "(Intercept) 9.936e+01  6.365e+00  15.609  2.4e-15 ***\n",
              "medi        5.638e-04  4.102e-04   1.374     0.18    \n",
              "---\n",
              "Signif. codes:  0 ‘***’ 0.001 ‘**’ 0.01 ‘*’ 0.05 ‘.’ 0.1 ‘ ’ 1\n",
              "\n",
              "Residual standard error: 27.61 on 28 degrees of freedom\n",
              "Multiple R-squared:  0.0632,\tAdjusted R-squared:  0.02975 \n",
              "F-statistic: 1.889 on 1 and 28 DF,  p-value: 0.1802\n"
            ]
          },
          "metadata": {}
        }
      ]
    },
    {
      "cell_type": "markdown",
      "source": [
        "**Sendo p-valor = 0.18 > 0.05** entendemos que a fórmula de airq em função de medi não é significante a explicar sua variação. \n"
      ],
      "metadata": {
        "id": "QKC3LLHNCy7r"
      }
    },
    {
      "cell_type": "code",
      "source": [
        "# Plot do gráfico de regressão linear\n",
        "\n",
        "plot(airq~medi, data=Airq)"
      ],
      "metadata": {
        "colab": {
          "base_uri": "https://localhost:8080/",
          "height": 437
        },
        "id": "7pOoZBVmCxmY",
        "outputId": "1694542c-19e5-49b8-8727-2e90e561bdbd"
      },
      "execution_count": null,
      "outputs": [
        {
          "output_type": "display_data",
          "data": {
            "text/plain": [
              "plot without title"
            ],
            "image/png": "[encoded data removed]"
          },
          "metadata": {
            "image/png": {
              "width": 420,
              "height": 420
            }
          }
        }
      ]
    },
    {
      "cell_type": "markdown",
      "source": [
        "# Criando um modelo estatístico - M4"
      ],
      "metadata": {
        "id": "VWoZAJwyC92x"
      }
    },
    {
      "cell_type": "code",
      "source": [
        "# Criando a função de regressão linear de airq em função de rain.\n",
        "\n",
        "m4 <- lm(airq~rain, data=Airq)\n",
        "m4"
      ],
      "metadata": {
        "colab": {
          "base_uri": "https://localhost:8080/",
          "height": 139
        },
        "id": "Bg6fkfyXC6wr",
        "outputId": "ec046efe-5bcf-4cff-de57-77df571e33d7"
      },
      "execution_count": null,
      "outputs": [
        {
          "output_type": "display_data",
          "data": {
            "text/plain": [
              "\n",
              "Call:\n",
              "lm(formula = airq ~ rain, data = Airq)\n",
              "\n",
              "Coefficients:\n",
              "(Intercept)         rain  \n",
              "   106.6662      -0.0545  \n"
            ]
          },
          "metadata": {}
        }
      ]
    },
    {
      "cell_type": "code",
      "source": [
        "# Obtendo os dados estatísticos do modelo criado.\n",
        "\n",
        "summary(m4)"
      ],
      "metadata": {
        "colab": {
          "base_uri": "https://localhost:8080/",
          "height": 329
        },
        "id": "ipv7SWd8DG8z",
        "outputId": "28b01590-19a4-488f-c163-85704e2627be"
      },
      "execution_count": null,
      "outputs": [
        {
          "output_type": "display_data",
          "data": {
            "text/plain": [
              "\n",
              "Call:\n",
              "lm(formula = airq ~ rain, data = Airq)\n",
              "\n",
              "Residuals:\n",
              "    Min      1Q  Median      3Q     Max \n",
              "-46.648 -24.679   9.367  21.734  60.303 \n",
              "\n",
              "Coefficients:\n",
              "            Estimate Std. Error t value Pr(>|t|)    \n",
              "(Intercept) 106.6662    15.0895   7.069 1.09e-07 ***\n",
              "rain         -0.0545     0.3926  -0.139    0.891    \n",
              "---\n",
              "Signif. codes:  0 ‘***’ 0.001 ‘**’ 0.01 ‘*’ 0.05 ‘.’ 0.1 ‘ ’ 1\n",
              "\n",
              "Residual standard error: 28.51 on 28 degrees of freedom\n",
              "Multiple R-squared:  0.0006878,\tAdjusted R-squared:  -0.035 \n",
              "F-statistic: 0.01927 on 1 and 28 DF,  p-value: 0.8906\n"
            ]
          },
          "metadata": {}
        }
      ]
    },
    {
      "cell_type": "markdown",
      "source": [
        "**Sendo p-valor = 0.891 > 0.05** entendemos que a fórmula de airq em função de rain não é significante a explicar sua variação. \n"
      ],
      "metadata": {
        "id": "VtkX5Rz0DMR2"
      }
    },
    {
      "cell_type": "code",
      "source": [
        "# Plot do gráfico de regressão linear\n",
        "\n",
        "plot(airq~rain, data=Airq)"
      ],
      "metadata": {
        "colab": {
          "base_uri": "https://localhost:8080/",
          "height": 437
        },
        "id": "H8Ewk7ZZDJeb",
        "outputId": "fd8ea407-f4cd-4cd5-e90c-3eb94c469f0b"
      },
      "execution_count": null,
      "outputs": [
        {
          "output_type": "display_data",
          "data": {
            "text/plain": [
              "plot without title"
            ],
            "image/png": "[encoded data removed]"
          },
          "metadata": {
            "image/png": {
              "width": 420,
              "height": 420
            }
          }
        }
      ]
    },
    {
      "cell_type": "markdown",
      "source": [
        "# Criando um modelo estatístico - M5"
      ],
      "metadata": {
        "id": "Rq_eoLvZDY3O"
      }
    },
    {
      "cell_type": "code",
      "source": [
        "# Criando a função de regressão linear de airq em função de dens.\n",
        "\n",
        "m5 <- lm(airq~dens, data=Airq)\n",
        "m5"
      ],
      "metadata": {
        "colab": {
          "base_uri": "https://localhost:8080/",
          "height": 139
        },
        "id": "HflKFNFGDUZK",
        "outputId": "64f70cd9-d774-4925-d33c-dfe786ac0e16"
      },
      "execution_count": null,
      "outputs": [
        {
          "output_type": "display_data",
          "data": {
            "text/plain": [
              "\n",
              "Call:\n",
              "lm(formula = airq ~ dens, data = Airq)\n",
              "\n",
              "Coefficients:\n",
              "(Intercept)         dens  \n",
              "  1.054e+02   -3.857e-04  \n"
            ]
          },
          "metadata": {}
        }
      ]
    },
    {
      "cell_type": "code",
      "source": [
        "# Obtendo os dados estatísticos do modelo criado.\n",
        "\n",
        "summary(m5)"
      ],
      "metadata": {
        "colab": {
          "base_uri": "https://localhost:8080/",
          "height": 329
        },
        "id": "hzfpIJquDfyq",
        "outputId": "7ee70bad-719b-4b99-e962-ad60a40d3410"
      },
      "execution_count": null,
      "outputs": [
        {
          "output_type": "display_data",
          "data": {
            "text/plain": [
              "\n",
              "Call:\n",
              "lm(formula = airq ~ dens, data = Airq)\n",
              "\n",
              "Residuals:\n",
              "    Min      1Q  Median      3Q     Max \n",
              "-46.051 -24.248   8.847  22.365  59.937 \n",
              "\n",
              "Coefficients:\n",
              "              Estimate Std. Error t value Pr(>|t|)    \n",
              "(Intercept)  1.054e+02  6.128e+00  17.195   <2e-16 ***\n",
              "dens        -3.857e-04  1.872e-03  -0.206    0.838    \n",
              "---\n",
              "Signif. codes:  0 ‘***’ 0.001 ‘**’ 0.01 ‘*’ 0.05 ‘.’ 0.1 ‘ ’ 1\n",
              "\n",
              "Residual standard error: 28.5 on 28 degrees of freedom\n",
              "Multiple R-squared:  0.001514,\tAdjusted R-squared:  -0.03415 \n",
              "F-statistic: 0.04246 on 1 and 28 DF,  p-value: 0.8382\n"
            ]
          },
          "metadata": {}
        }
      ]
    },
    {
      "cell_type": "markdown",
      "source": [
        "**Sendo p-valor = 0.838 > 0.05** entendemos que a fórmula de airq em função de dens não é significante a explicar sua variação. \n"
      ],
      "metadata": {
        "id": "j0wvWDS0DnR8"
      }
    },
    {
      "cell_type": "code",
      "source": [
        "# Plot do gráfico de regressão linear\n",
        "\n",
        "plot(airq~dens, data=Airq)"
      ],
      "metadata": {
        "colab": {
          "base_uri": "https://localhost:8080/",
          "height": 437
        },
        "id": "gcMJ-qhwDjnC",
        "outputId": "b9bc2214-daf1-4611-dcd2-b19dc6b2cd1c"
      },
      "execution_count": null,
      "outputs": [
        {
          "output_type": "display_data",
          "data": {
            "text/plain": [
              "plot without title"
            ],
            "image/png": "[encoded data removed]"
          },
          "metadata": {
            "image/png": {
              "width": 420,
              "height": 420
            }
          }
        }
      ]
    },
    {
      "cell_type": "markdown",
      "source": [
        "# Inserindo a reta e melhorando os gráficos"
      ],
      "metadata": {
        "id": "dvRWysKQD75O"
      }
    },
    {
      "cell_type": "code",
      "source": [
        "# Gerando o gráfico de airq~medi\n",
        "\n",
        "plot(airq~medi, data=Airq)\n",
        "\n",
        "# Sendo a função de ln = y = a+b*x\n",
        "# Onde:\n",
        "# a = intercepto (onde a reta vai tocar o eixo y)\n",
        "# b = é a inclinação da reta\n",
        "\n",
        "# Comando para traçar a reta no gráfico\n",
        "curve(9.936e+01+5.638e-04*x, add = TRUE)"
      ],
      "metadata": {
        "colab": {
          "base_uri": "https://localhost:8080/",
          "height": 437
        },
        "id": "VJWuA5quDuQp",
        "outputId": "2173dcf6-e4a0-4f67-e610-a8dd7af1f589"
      },
      "execution_count": null,
      "outputs": [
        {
          "output_type": "display_data",
          "data": {
            "text/plain": [
              "plot without title"
            ],
            "image/png": "[encoded data removed]"
          },
          "metadata": {
            "image/png": {
              "width": 420,
              "height": 420
            }
          }
        }
      ]
    },
    {
      "cell_type": "code",
      "source": [
        "# Melhorando o gráfico\n",
        "plot(\n",
        "  airq~medi, \n",
        "  data=Airq, \n",
        "  xlab = \"Renda média per capita\", \n",
        "  ylab = \"Qualidade do ar\",\n",
        "  pch = 16,\n",
        "  col = \"blue\",\n",
        "  cex = 1.5,\n",
        "  cex.lab = 1.3,\n",
        "  main = \"Renda média - 2010\"\n",
        ")\n",
        "# Melhorando a linha\n",
        "curve(\n",
        "  9.936e+01+5.638e-04*x, \n",
        "  add = TRUE,\n",
        "  col = \"darkblue\",\n",
        "  lwd = 2,\n",
        "  lty = 2\n",
        ")"
      ],
      "metadata": {
        "colab": {
          "base_uri": "https://localhost:8080/",
          "height": 437
        },
        "id": "bq1_yu5HEySv",
        "outputId": "06a757be-91f2-4788-fb8c-dc3c961c8421"
      },
      "execution_count": null,
      "outputs": [
        {
          "output_type": "display_data",
          "data": {
            "text/plain": [
              "Plot with title “Renda média - 2010”"
            ],
            "image/png": "[encoded data removed]"
          },
          "metadata": {
            "image/png": {
              "width": 420,
              "height": 420
            }
          }
        }
      ]
    },
    {
      "cell_type": "code",
      "source": [
        "# Gerando o gráfico de airq~coas\n",
        "\n",
        "plot(\n",
        "  airq~coas, \n",
        "  data=Airq, \n",
        "  xlab = \"Posição costeira\", \n",
        "  ylab = \"Qualidade do ar\",\n",
        "  col = \"lightblue\",\n",
        "  ylim = c(50,170),\n",
        "  cex.lab = 1.3,\n",
        "  main = \"Análise da qualidade do ar\"\n",
        ")"
      ],
      "metadata": {
        "colab": {
          "base_uri": "https://localhost:8080/",
          "height": 437
        },
        "id": "3qLtitCRE8sG",
        "outputId": "dd5a76a9-3bf2-4352-af1a-82569d1e9508"
      },
      "execution_count": null,
      "outputs": [
        {
          "output_type": "display_data",
          "data": {
            "text/plain": [
              "Plot with title “Análise da qualidade do ar”"
            ],
            "image/png": "[encoded data removed]"
          },
          "metadata": {
            "image/png": {
              "width": 420,
              "height": 420
            }
          }
        }
      ]
    },
    {
      "cell_type": "markdown",
      "source": [
        "# Regressão múltipla"
      ],
      "metadata": {
        "id": "IU1EX6HiJB99"
      }
    },
    {
      "cell_type": "markdown",
      "source": [
        "Modelo de regressão múltipla - M1"
      ],
      "metadata": {
        "id": "SOmEt00UJavx"
      }
    },
    {
      "cell_type": "code",
      "source": [
        "mRM1 <- lm(airq~vala+coas, data=Airq)\n",
        "mRM1"
      ],
      "metadata": {
        "colab": {
          "base_uri": "https://localhost:8080/",
          "height": 139
        },
        "id": "LN3TQCYGHl-o",
        "outputId": "1479a3ec-65e2-4340-d05d-745d34853f81"
      },
      "execution_count": null,
      "outputs": [
        {
          "output_type": "display_data",
          "data": {
            "text/plain": [
              "\n",
              "Call:\n",
              "lm(formula = airq ~ vala + coas, data = Airq)\n",
              "\n",
              "Coefficients:\n",
              "(Intercept)         vala      coasyes  \n",
              "    117.099        0.002      -29.677  \n"
            ]
          },
          "metadata": {}
        }
      ]
    },
    {
      "cell_type": "code",
      "source": [
        "# Com o summary observamos que agora variáveis que isoladamente não eram significantes ao modelo,\n",
        "# agora inseridas em um modelo de regressão múltipla passam a ter significância.\n",
        "\n",
        "summary(mRM1)"
      ],
      "metadata": {
        "colab": {
          "base_uri": "https://localhost:8080/",
          "height": 347
        },
        "id": "HxEl454vJnP2",
        "outputId": "60a875c5-8273-42de-c555-675e86e23e9b"
      },
      "execution_count": null,
      "outputs": [
        {
          "output_type": "display_data",
          "data": {
            "text/plain": [
              "\n",
              "Call:\n",
              "lm(formula = airq ~ vala + coas, data = Airq)\n",
              "\n",
              "Residuals:\n",
              "    Min      1Q  Median      3Q     Max \n",
              "-36.056 -13.349  -5.879  12.785  69.265 \n",
              "\n",
              "Coefficients:\n",
              "              Estimate Std. Error t value Pr(>|t|)    \n",
              "(Intercept)  1.171e+02  8.717e+00  13.434  1.8e-13 ***\n",
              "vala         1.999e-03  9.397e-04   2.128  0.04264 *  \n",
              "coasyes     -2.968e+01  9.336e+00  -3.179  0.00369 ** \n",
              "---\n",
              "Signif. codes:  0 ‘***’ 0.001 ‘**’ 0.01 ‘*’ 0.05 ‘.’ 0.1 ‘ ’ 1\n",
              "\n",
              "Residual standard error: 23.43 on 27 degrees of freedom\n",
              "Multiple R-squared:  0.3494,\tAdjusted R-squared:  0.3012 \n",
              "F-statistic: 7.249 on 2 and 27 DF,  p-value: 0.003021\n"
            ]
          },
          "metadata": {}
        }
      ]
    },
    {
      "cell_type": "markdown",
      "source": [
        "# Gráfico de Regressão múltipla"
      ],
      "metadata": {
        "id": "MsMtzMGdKAGg"
      }
    },
    {
      "cell_type": "code",
      "source": [
        "# Gráfico base de airq~vala\n",
        "plot(\n",
        "  airq~vala,\n",
        "  data=Airq,\n",
        "  xlab = \"Valor das empresas ($)\",\n",
        "  ylab = \"Qualidade do ar\"  \n",
        ")\n",
        "\n",
        "# Reta para as cidades não consteiras\n",
        "curve(\n",
        "  1.171e+02+1.999e-03*x,\n",
        "  add = TRUE  \n",
        ")\n",
        "\n",
        "# Reta para as cidades consteiras\n",
        "curve(\n",
        "  1.171e+02+1.999e-03*x+-2.968e+01,\n",
        "  lty = 2,\n",
        "  add = TRUE  \n",
        ")\n",
        "\n",
        "# Inserindo legendas\n",
        "legend(\n",
        "  \"bottomright\",\n",
        "  c(\"Não-costeiras\",\"Costeiras\"),\n",
        "  pch = 1,\n",
        "  lty = c(1,2),\n",
        "  bty = \"n\"\n",
        ")"
      ],
      "metadata": {
        "colab": {
          "base_uri": "https://localhost:8080/",
          "height": 437
        },
        "id": "oYP6oxC1JqV8",
        "outputId": "46b05fae-bed0-4004-dbed-e9f3599a2d97"
      },
      "execution_count": null,
      "outputs": [
        {
          "output_type": "display_data",
          "data": {
            "text/plain": [
              "plot without title"
            ],
            "image/png": "[encoded data removed]"
          },
          "metadata": {
            "image/png": {
              "width": 420,
              "height": 420
            }
          }
        }
      ]
    },
    {
      "cell_type": "markdown",
      "source": [
        "A qualidade do ar das cidades é afetada tanto pelo valor das empresas quanto pela posição costeira das cidades.\n",
        "\n",
        "Quanto maior o valor das empresas, pior a qualidade do ar das cidades.\n",
        "\n",
        "Além disso, as cidades não-costeiras apresemtam qualidade do ar pior do que as cidades costeiras."
      ],
      "metadata": {
        "id": "TFGxbB00L9sw"
      }
    },
    {
      "cell_type": "markdown",
      "source": [
        "# Modelo de regressão múltipla - M2"
      ],
      "metadata": {
        "id": "eSM-5RwpMhbP"
      }
    },
    {
      "cell_type": "code",
      "source": [
        "mRM2 <- lm(airq~vala+coas+dens, data=Airq)\n",
        "mRM2"
      ],
      "metadata": {
        "colab": {
          "base_uri": "https://localhost:8080/",
          "height": 139
        },
        "id": "4e9b8xhCKzVr",
        "outputId": "3619cbc9-8787-416e-e093-ecb70b899ffd"
      },
      "execution_count": null,
      "outputs": [
        {
          "output_type": "display_data",
          "data": {
            "text/plain": [
              "\n",
              "Call:\n",
              "lm(formula = airq ~ vala + coas + dens, data = Airq)\n",
              "\n",
              "Coefficients:\n",
              "(Intercept)         vala      coasyes         dens  \n",
              "  1.183e+02    2.087e-03   -2.966e+01   -9.005e-04  \n"
            ]
          },
          "metadata": {}
        }
      ]
    },
    {
      "cell_type": "code",
      "source": [
        "summary(mRM2)"
      ],
      "metadata": {
        "colab": {
          "base_uri": "https://localhost:8080/",
          "height": 364
        },
        "id": "m2mqvmvwM269",
        "outputId": "ce23bc27-ac82-490c-e53f-af923f1f2a0c"
      },
      "execution_count": null,
      "outputs": [
        {
          "output_type": "display_data",
          "data": {
            "text/plain": [
              "\n",
              "Call:\n",
              "lm(formula = airq ~ vala + coas + dens, data = Airq)\n",
              "\n",
              "Residuals:\n",
              "   Min     1Q Median     3Q    Max \n",
              "-36.46 -12.83  -6.34  12.70  68.42 \n",
              "\n",
              "Coefficients:\n",
              "              Estimate Std. Error t value Pr(>|t|)    \n",
              "(Intercept)  1.183e+02  9.066e+00  13.046 6.43e-13 ***\n",
              "vala         2.086e-03  9.638e-04   2.165  0.03977 *  \n",
              "coasyes     -2.966e+01  9.454e+00  -3.137  0.00421 ** \n",
              "dens        -9.005e-04  1.578e-03  -0.571  0.57317    \n",
              "---\n",
              "Signif. codes:  0 ‘***’ 0.001 ‘**’ 0.01 ‘*’ 0.05 ‘.’ 0.1 ‘ ’ 1\n",
              "\n",
              "Residual standard error: 23.73 on 26 degrees of freedom\n",
              "Multiple R-squared:  0.3574,\tAdjusted R-squared:  0.2833 \n",
              "F-statistic:  4.82 on 3 and 26 DF,  p-value: 0.008454\n"
            ]
          },
          "metadata": {}
        }
      ]
    },
    {
      "cell_type": "markdown",
      "source": [
        "# Contraste de modelos"
      ],
      "metadata": {
        "id": "gxZ0lR6CpEwa"
      }
    },
    {
      "cell_type": "markdown",
      "source": [
        "Comparação de um modelo completo (todas as variáveis) e um modelo sem uma variável em questão."
      ],
      "metadata": {
        "id": "aKaf9jeJpK1c"
      }
    },
    {
      "cell_type": "code",
      "source": [
        "modelocompleto <- lm(airq~vala+coas+dens, data=Airq)\n",
        "modeloincompleto <- lm(airq~vala+coas, data=Airq)"
      ],
      "metadata": {
        "id": "ulWt3_ciM4ed"
      },
      "execution_count": null,
      "outputs": []
    },
    {
      "cell_type": "markdown",
      "source": [
        "Para avaliar se existe uma relevância de uma variável no modelo, comparamos ambos os modelos utilizando a função Anova.\n",
        "\n",
        "**Sendo o resultado de p > 0.05** consideramos que não existe diferença entre os modelos, portanto seguimos com o modelos incompleto por ser mais simples.\n",
        "\n",
        "**Sendo o resultado de p < 0.05** os modelos são diferentes, portanto a variável não deve ser removida do modelo, ou seja, seguimos com o modelo completo."
      ],
      "metadata": {
        "id": "A_pxmdfJpexe"
      }
    },
    {
      "cell_type": "code",
      "source": [
        "# Sendo p > 0.05, desconsideramos a relevância da variável dens ao modelo, e seguimos com o modelos incompleto sem ele.\n",
        "\n",
        "anova(modelocompleto, modeloincompleto)"
      ],
      "metadata": {
        "colab": {
          "base_uri": "https://localhost:8080/",
          "height": 161
        },
        "id": "cMH-4gCFpcLB",
        "outputId": "01794148-9ec4-4df5-826e-55b6e46cb279"
      },
      "execution_count": null,
      "outputs": [
        {
          "output_type": "display_data",
          "data": {
            "text/html": [
              "<table class=\"dataframe\">\n",
              "<caption>A anova: 2 × 6</caption>\n",
              "<thead>\n",
              "\t<tr><th></th><th scope=col>Res.Df</th><th scope=col>RSS</th><th scope=col>Df</th><th scope=col>Sum of Sq</th><th scope=col>F</th><th scope=col>Pr(&gt;F)</th></tr>\n",
              "\t<tr><th></th><th scope=col>&lt;dbl&gt;</th><th scope=col>&lt;dbl&gt;</th><th scope=col>&lt;dbl&gt;</th><th scope=col>&lt;dbl&gt;</th><th scope=col>&lt;dbl&gt;</th><th scope=col>&lt;dbl&gt;</th></tr>\n",
              "</thead>\n",
              "<tbody>\n",
              "\t<tr><th scope=row>1</th><td>26</td><td>14639.75</td><td>NA</td><td>       NA</td><td>       NA</td><td>      NA</td></tr>\n",
              "\t<tr><th scope=row>2</th><td>27</td><td>14823.07</td><td>-1</td><td>-183.3266</td><td>0.3255856</td><td>0.573169</td></tr>\n",
              "</tbody>\n",
              "</table>\n"
            ],
            "text/markdown": "\nA anova: 2 × 6\n\n| <!--/--> | Res.Df &lt;dbl&gt; | RSS &lt;dbl&gt; | Df &lt;dbl&gt; | Sum of Sq &lt;dbl&gt; | F &lt;dbl&gt; | Pr(&gt;F) &lt;dbl&gt; |\n|---|---|---|---|---|---|---|\n| 1 | 26 | 14639.75 | NA |        NA |        NA |       NA |\n| 2 | 27 | 14823.07 | -1 | -183.3266 | 0.3255856 | 0.573169 |\n\n",
            "text/latex": "A anova: 2 × 6\n\\begin{tabular}{r|llllll}\n  & Res.Df & RSS & Df & Sum of Sq & F & Pr(>F)\\\\\n  & <dbl> & <dbl> & <dbl> & <dbl> & <dbl> & <dbl>\\\\\n\\hline\n\t1 & 26 & 14639.75 & NA &        NA &        NA &       NA\\\\\n\t2 & 27 & 14823.07 & -1 & -183.3266 & 0.3255856 & 0.573169\\\\\n\\end{tabular}\n",
            "text/plain": [
              "  Res.Df RSS      Df Sum of Sq F         Pr(>F)  \n",
              "1 26     14639.75 NA        NA        NA       NA\n",
              "2 27     14823.07 -1 -183.3266 0.3255856 0.573169"
            ]
          },
          "metadata": {}
        }
      ]
    },
    {
      "cell_type": "markdown",
      "source": [
        "# Conclusão"
      ],
      "metadata": {
        "id": "CbEdML_lrI8M"
      }
    },
    {
      "cell_type": "markdown",
      "source": [
        "Concluímos que as variáveis que afetaram o modelo foram: (a) o valor das empresas e (b) a posição costeira das cidades. \n",
        "\n",
        "Quanto maior o valor das empresas, pior a qualidade do ar. \n",
        "\n",
        "Cidades costeiras apresentam uma melhor qualidade do ar."
      ],
      "metadata": {
        "id": "JryKS76jsTxN"
      }
    },
    {
      "cell_type": "code",
      "source": [
        "# Gráfico base de airq~vala\n",
        "plot(\n",
        "  airq~vala,\n",
        "  data=Airq,\n",
        "  xlab = \"Valor das empresas ($)\",\n",
        "  ylab = \"Qualidade do ar\"  \n",
        ")\n",
        "\n",
        "# Reta para as cidades não consteiras\n",
        "curve(\n",
        "  1.171e+02+1.999e-03*x,\n",
        "  add = TRUE  \n",
        ")\n",
        "\n",
        "# Reta para as cidades consteiras\n",
        "curve(\n",
        "  1.171e+02+1.999e-03*x+-2.968e+01,\n",
        "  lty = 2,\n",
        "  add = TRUE  \n",
        ")\n",
        "\n",
        "# Inserindo legendas\n",
        "legend(\n",
        "  \"bottomright\",\n",
        "  c(\"Não-costeiras\",\"Costeiras\"),\n",
        "  pch = 1,\n",
        "  lty = c(1,2),\n",
        "  bty = \"n\"\n",
        ")"
      ],
      "metadata": {
        "colab": {
          "base_uri": "https://localhost:8080/",
          "height": 437
        },
        "id": "A_gh5QdwqVgN",
        "outputId": "7b51e081-a21a-407f-82d8-d98c5dbca86e"
      },
      "execution_count": null,
      "outputs": [
        {
          "output_type": "display_data",
          "data": {
            "text/plain": [
              "plot without title"
            ],
            "image/png": "[encoded data removed]"
          },
          "metadata": {
            "image/png": {
              "width": 420,
              "height": 420
            }
          }
        }
      ]
    }
  ],
  "metadata": {
    "kernelspec": {
      "display_name": "R",
      "language": "R",
      "name": "ir"
    },
    "language_info": {
      "codemirror_mode": "r",
      "file_extension": ".r",
      "mimetype": "text/x-r-source",
      "name": "R",
      "pygments_lexer": "r",
      "version": "3.6.1"
    },
    "colab": {
      "provenance": []
    }
  },
  "nbformat": 4,
  "nbformat_minor": 0
}