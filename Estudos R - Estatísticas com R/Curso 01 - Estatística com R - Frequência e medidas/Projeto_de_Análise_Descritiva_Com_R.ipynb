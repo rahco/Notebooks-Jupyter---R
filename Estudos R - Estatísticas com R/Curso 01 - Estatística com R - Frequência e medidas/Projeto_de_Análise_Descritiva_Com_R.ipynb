{
  "cells": [
    {
      "cell_type": "markdown",
      "metadata": {
        "id": "WvMflodMjQKe"
      },
      "source": [
        "***\n",
        "# <font color=green size=10>CURSO DE ESTATÍSTICA - PARTE 1</font>\n",
        "***\n",
        "\n",
        "## Trabalho de Análise Descritiva de um Conjunto de Dados\n",
        "\n",
        "Utilizando os conhecimentos adquiridos em nosso treinamento realize uma análise descritiva básica de um conjunto de dados retirados da Pesquisa Nacional por Amostra de Domicílios - 2015 do IBGE. \n",
        "\n",
        "Vamos construir histogramas, calcular e avaliar medidas de tendência central, medidas separatrizes e de dispersão dos dados.\n",
        "\n",
        "Siga o roteiro proposto e vá completando as células vazias. Procure pensar em mais informações interessantes que podem ser exploradas em nosso dataset."
      ]
    },
    {
      "cell_type": "markdown",
      "metadata": {
        "id": "cVgsZ_E3jQKg"
      },
      "source": [
        "# <font color=green>DATASET DO PROJETO</font>\n",
        "***"
      ]
    },
    {
      "cell_type": "markdown",
      "metadata": {
        "id": "iN1gIbaKjQKh"
      },
      "source": [
        "### Pesquisa Nacional por Amostra de Domicílios - 2015\n",
        "\n",
        "A <b>Pesquisa Nacional por Amostra de Domicílios - PNAD</b> investiga anualmente, de forma permanente, características gerais da população, de educação, trabalho, rendimento e habitação e outras, com periodicidade variável, de acordo com as necessidades de informação para o país, como as características sobre migração, fecundidade, nupcialidade, saúde, segurança alimentar, entre outros temas. O levantamento dessas estatísticas constitui, ao longo dos 49 anos de realização da pesquisa, um importante instrumento para formulação, validação e avaliação de políticas orientadas para o desenvolvimento socioeconômico e a melhoria das condições de vida no Brasil."
      ]
    },
    {
      "cell_type": "markdown",
      "metadata": {
        "id": "U6V7br1RjQKi"
      },
      "source": [
        "### Fonte dos Dados\n",
        "\n",
        "https://ww2.ibge.gov.br/home/estatistica/populacao/trabalhoerendimento/pnad2015/microdados.shtm"
      ]
    },
    {
      "cell_type": "markdown",
      "metadata": {
        "id": "r0Fe_qnzjQKj"
      },
      "source": [
        "### Variáveis utilizadas\n",
        "\n",
        "> ### Renda\n",
        "> ***\n",
        "\n",
        "Rendimento mensal do trabalho principal para pessoas de 10 anos ou mais de idade.\n",
        "\n",
        "> ### Idade\n",
        "> ***\n",
        "\n",
        "Idade do morador na data de referência em anos.\n",
        "\n",
        "> ### Altura (elaboração própria)\n",
        "> ***\n",
        "\n",
        "Altura do morador em metros.\n",
        "\n",
        "> ### UF\n",
        "> ***\n",
        "\n",
        "|Código|Descrição|\n",
        "|---|---|\n",
        "|11|Rondônia|\n",
        "|12|Acre|\n",
        "|13|Amazonas|\n",
        "|14|Roraima|\n",
        "|15|Pará|\n",
        "|16|Amapá|\n",
        "|17|Tocantins|\n",
        "|21|Maranhão|\n",
        "|22|Piauí|\n",
        "|23|Ceará|\n",
        "|24|Rio Grande do Norte|\n",
        "|25|Paraíba|\n",
        "|26|Pernambuco|\n",
        "|27|Alagoas|\n",
        "|28|Sergipe|\n",
        "|29|Bahia|\n",
        "|31|Minas Gerais|\n",
        "|32|Espírito Santo|\n",
        "|33|Rio de Janeiro|\n",
        "|35|São Paulo|\n",
        "|41|Paraná|\n",
        "|42|Santa Catarina|\n",
        "|43|Rio Grande do Sul|\n",
        "|50|Mato Grosso do Sul|\n",
        "|51|Mato Grosso|\n",
        "|52|Goiás|\n",
        "|53|Distrito Federal|\n",
        "\n",
        "> ### Sexo\t\n",
        "> ***\n",
        "\n",
        "|Código|Descrição|\n",
        "|---|---|\n",
        "|0|Masculino|\n",
        "|1|Feminino|\n",
        "\n",
        "> ### Anos de Estudo\n",
        "> ***\n",
        "\n",
        "|Código|Descrição|\n",
        "|---|---|\n",
        "|1|Sem instrução e menos de 1 ano|\n",
        "|2|1 ano|\n",
        "|3|2 anos|\n",
        "|4|3 anos|\n",
        "|5|4 anos|\n",
        "|6|5 anos|\n",
        "|7|6 anos|\n",
        "|8|7 anos|\n",
        "|9|8 anos|\n",
        "|10|9 anos|\n",
        "|11|10 anos|\n",
        "|12|11 anos|\n",
        "|13|12 anos|\n",
        "|14|13 anos|\n",
        "|15|14 anos|\n",
        "|16|15 anos ou mais|\n",
        "|17|Não determinados| \n",
        "||Não aplicável|\n",
        "\n",
        "> ### Cor\n",
        "> ***\n",
        "\n",
        "|Código|Descrição|\n",
        "|---|---|\n",
        "|0|Indígena|\n",
        "|2|Branca|\n",
        "|4|Preta|\n",
        "|6|Amarela|\n",
        "|8|Parda|\n",
        "|9|Sem declaração|"
      ]
    },
    {
      "cell_type": "markdown",
      "metadata": {
        "id": "OK1IQH5cX7Gb"
      },
      "source": [
        "#### <font color='red'>Observação</font>\n",
        "***\n",
        "> Os seguintes tratamentos foram realizados nos dados originais:\n",
        "> 1. Foram eliminados os registros onde a <b>Renda</b> era inválida (999 999 999 999);\n",
        "> 2. Foram eliminados os registros onde a <b>Renda</b> era missing;\n",
        "> 3. Foram considerados somente os registros das <b>Pessoas de Referência</b> de cada domicílio (responsável pelo domicílio)."
      ]
    },
    {
      "cell_type": "markdown",
      "metadata": {
        "id": "ZIqLOffNTg1Y"
      },
      "source": [
        "***\n",
        "***"
      ]
    },
    {
      "cell_type": "markdown",
      "metadata": {
        "id": "8Rw70V6ojQKk"
      },
      "source": [
        "### Utilize as células abaixo para importar as bibliotecas que precisar e para configurações gerais\n",
        "#### <font color='red'>Sugestões: dplyr, ggplot2 etc.</font>"
      ]
    },
    {
      "cell_type": "code",
      "execution_count": null,
      "metadata": {
        "id": "fcTgimHBybMz",
        "vscode": {
          "languageId": "r"
        }
      },
      "outputs": [],
      "source": [
        "library(dplyr)\n",
        "library(ggplot2)"
      ]
    },
    {
      "cell_type": "code",
      "execution_count": null,
      "metadata": {
        "vscode": {
          "languageId": "r"
        },
        "id": "1j5efN-38gca"
      },
      "outputs": [],
      "source": [
        "options(repr.plot.width = 9, repr.plot.height = 6)\n",
        "formatos <- theme(\n",
        "        plot.title=element_text(size = 14, hjust = 0.5),\n",
        "        axis.title.y=element_text(size = 12, vjust = +0.2),\n",
        "        axis.title.x=element_text(size = 12, vjust = -0.2),\n",
        "        axis.text.y=element_text(size = 10),\n",
        "        axis.text.x=element_text(size = 10)\n",
        ")"
      ]
    },
    {
      "cell_type": "markdown",
      "metadata": {
        "id": "2a-gvBvCULwt"
      },
      "source": [
        "### Importe o dataset e armazene o conteúdo em uma DataFrame"
      ]
    },
    {
      "cell_type": "code",
      "execution_count": null,
      "metadata": {
        "id": "ufRZ7TLwjQKo",
        "vscode": {
          "languageId": "r"
        }
      },
      "outputs": [],
      "source": [
        "dados <- read.csv(\"dados.csv\")"
      ]
    },
    {
      "cell_type": "markdown",
      "metadata": {
        "id": "Oq3CKHCmTg1j"
      },
      "source": [
        "### Visualize o conteúdo do DataFrame"
      ]
    },
    {
      "cell_type": "code",
      "execution_count": null,
      "metadata": {
        "id": "GsC_WhLFjQKq",
        "scrolled": true,
        "vscode": {
          "languageId": "r"
        },
        "outputId": "6853e963-58ca-4352-f981-b8e7ccfd22bc",
        "colab": {
          "base_uri": "https://localhost:8080/",
          "height": 286
        }
      },
      "outputs": [
        {
          "output_type": "display_data",
          "data": {
            "text/html": [
              "<table class=\"dataframe\">\n",
              "<caption>A data.frame: 6 × 7</caption>\n",
              "<thead>\n",
              "\t<tr><th></th><th scope=col>UF</th><th scope=col>Sexo</th><th scope=col>Idade</th><th scope=col>Cor</th><th scope=col>Anos.de.Estudo</th><th scope=col>Renda</th><th scope=col>Altura</th></tr>\n",
              "\t<tr><th></th><th scope=col>&lt;int&gt;</th><th scope=col>&lt;int&gt;</th><th scope=col>&lt;int&gt;</th><th scope=col>&lt;int&gt;</th><th scope=col>&lt;int&gt;</th><th scope=col>&lt;int&gt;</th><th scope=col>&lt;dbl&gt;</th></tr>\n",
              "</thead>\n",
              "<tbody>\n",
              "\t<tr><th scope=row>1</th><td>11</td><td>0</td><td>23</td><td>8</td><td>12</td><td> 800</td><td>1.603808</td></tr>\n",
              "\t<tr><th scope=row>2</th><td>11</td><td>1</td><td>23</td><td>2</td><td>12</td><td>1150</td><td>1.739790</td></tr>\n",
              "\t<tr><th scope=row>3</th><td>11</td><td>1</td><td>35</td><td>8</td><td>15</td><td> 880</td><td>1.760444</td></tr>\n",
              "\t<tr><th scope=row>4</th><td>11</td><td>0</td><td>46</td><td>2</td><td> 6</td><td>3500</td><td>1.783158</td></tr>\n",
              "\t<tr><th scope=row>5</th><td>11</td><td>1</td><td>47</td><td>8</td><td> 9</td><td> 150</td><td>1.690631</td></tr>\n",
              "\t<tr><th scope=row>6</th><td>11</td><td>1</td><td>34</td><td>8</td><td>12</td><td> 790</td><td>1.637906</td></tr>\n",
              "</tbody>\n",
              "</table>\n"
            ],
            "text/markdown": "\nA data.frame: 6 × 7\n\n| <!--/--> | UF &lt;int&gt; | Sexo &lt;int&gt; | Idade &lt;int&gt; | Cor &lt;int&gt; | Anos.de.Estudo &lt;int&gt; | Renda &lt;int&gt; | Altura &lt;dbl&gt; |\n|---|---|---|---|---|---|---|---|\n| 1 | 11 | 0 | 23 | 8 | 12 |  800 | 1.603808 |\n| 2 | 11 | 1 | 23 | 2 | 12 | 1150 | 1.739790 |\n| 3 | 11 | 1 | 35 | 8 | 15 |  880 | 1.760444 |\n| 4 | 11 | 0 | 46 | 2 |  6 | 3500 | 1.783158 |\n| 5 | 11 | 1 | 47 | 8 |  9 |  150 | 1.690631 |\n| 6 | 11 | 1 | 34 | 8 | 12 |  790 | 1.637906 |\n\n",
            "text/latex": "A data.frame: 6 × 7\n\\begin{tabular}{r|lllllll}\n  & UF & Sexo & Idade & Cor & Anos.de.Estudo & Renda & Altura\\\\\n  & <int> & <int> & <int> & <int> & <int> & <int> & <dbl>\\\\\n\\hline\n\t1 & 11 & 0 & 23 & 8 & 12 &  800 & 1.603808\\\\\n\t2 & 11 & 1 & 23 & 2 & 12 & 1150 & 1.739790\\\\\n\t3 & 11 & 1 & 35 & 8 & 15 &  880 & 1.760444\\\\\n\t4 & 11 & 0 & 46 & 2 &  6 & 3500 & 1.783158\\\\\n\t5 & 11 & 1 & 47 & 8 &  9 &  150 & 1.690631\\\\\n\t6 & 11 & 1 & 34 & 8 & 12 &  790 & 1.637906\\\\\n\\end{tabular}\n",
            "text/plain": [
              "  UF Sexo Idade Cor Anos.de.Estudo Renda Altura  \n",
              "1 11 0    23    8   12              800  1.603808\n",
              "2 11 1    23    2   12             1150  1.739790\n",
              "3 11 1    35    8   15              880  1.760444\n",
              "4 11 0    46    2    6             3500  1.783158\n",
              "5 11 1    47    8    9              150  1.690631\n",
              "6 11 1    34    8   12              790  1.637906"
            ]
          },
          "metadata": {}
        }
      ],
      "source": [
        "head(dados)"
      ]
    },
    {
      "cell_type": "markdown",
      "metadata": {
        "id": "HDrFJQitTg1n"
      },
      "source": [
        "### Para avaliar o comportamento da variável RENDA vamos construir uma tabela de frequências considerando as seguintes classes em salários mínimos (SM)\n",
        "#### <font color='blue'>Descreva os pontos mais relevantes que você observa na tabela e no gráfico.</font>\n",
        "\n",
        "Classes de renda:\n",
        "\n",
        "<b>A</b> ► Acima de 25 SM\n",
        "\n",
        "<b>B</b> ► De 15 a 25 SM\n",
        "\n",
        "<b>C</b> ► De 5 a 15 SM\n",
        "\n",
        "<b>D</b> ► De 2 a 5 SM\n",
        "\n",
        "<b>E</b> ► Até 2 SM\n",
        "\n",
        "Para construir as classes de renda considere que o salário mínimo na época da pesquisa era de <b>R$ 788,00</b>.\n",
        "\n",
        "#### Siga os passos abaixo:"
      ]
    },
    {
      "cell_type": "markdown",
      "metadata": {
        "id": "zJBkeGxiTg1o"
      },
      "source": [
        "### 1º Definir os intevalos das classes em reais (R$)"
      ]
    },
    {
      "cell_type": "code",
      "execution_count": null,
      "metadata": {
        "id": "-Ct3QUj6Tg1p",
        "vscode": {
          "languageId": "r"
        },
        "colab": {
          "base_uri": "https://localhost:8080/",
          "height": 34
        },
        "outputId": "84b9a0c1-dc8a-47d8-ee2d-a127987f5700"
      },
      "outputs": [
        {
          "output_type": "display_data",
          "data": {
            "text/html": [
              "<style>\n",
              ".list-inline {list-style: none; margin:0; padding: 0}\n",
              ".list-inline>li {display: inline-block}\n",
              ".list-inline>li:not(:last-child)::after {content: \"\\00b7\"; padding: 0 .5ex}\n",
              "</style>\n",
              "<ol class=list-inline><li>0</li><li>1576</li><li>3940</li><li>11820</li><li>19700</li><li>2e+05</li></ol>\n"
            ],
            "text/markdown": "1. 0\n2. 1576\n3. 3940\n4. 11820\n5. 19700\n6. 2e+05\n\n\n",
            "text/latex": "\\begin{enumerate*}\n\\item 0\n\\item 1576\n\\item 3940\n\\item 11820\n\\item 19700\n\\item 2e+05\n\\end{enumerate*}\n",
            "text/plain": [
              "[1]      0   1576   3940  11820  19700 200000"
            ]
          },
          "metadata": {}
        }
      ],
      "source": [
        "classes <- c(\n",
        "  min(dados$Renda),\n",
        "  2 * 788,\n",
        "  5 * 788,\n",
        "  15 * 788,\n",
        "  25 * 788,\n",
        "  max(dados$Renda)\n",
        ")\n",
        "classes"
      ]
    },
    {
      "cell_type": "markdown",
      "metadata": {
        "id": "dZ7X37CGTg1t"
      },
      "source": [
        "### 2º Definir os labels das classes"
      ]
    },
    {
      "cell_type": "code",
      "execution_count": null,
      "metadata": {
        "id": "4UFOzitTTg1u",
        "vscode": {
          "languageId": "r"
        },
        "colab": {
          "base_uri": "https://localhost:8080/",
          "height": 34
        },
        "outputId": "9286e54d-525d-479b-eb1e-60b06b86f71f"
      },
      "outputs": [
        {
          "output_type": "display_data",
          "data": {
            "text/html": [
              "<style>\n",
              ".list-inline {list-style: none; margin:0; padding: 0}\n",
              ".list-inline>li {display: inline-block}\n",
              ".list-inline>li:not(:last-child)::after {content: \"\\00b7\"; padding: 0 .5ex}\n",
              "</style>\n",
              "<ol class=list-inline><li>'E'</li><li>'D'</li><li>'C'</li><li>'B'</li><li>'A'</li></ol>\n"
            ],
            "text/markdown": "1. 'E'\n2. 'D'\n3. 'C'\n4. 'B'\n5. 'A'\n\n\n",
            "text/latex": "\\begin{enumerate*}\n\\item 'E'\n\\item 'D'\n\\item 'C'\n\\item 'B'\n\\item 'A'\n\\end{enumerate*}\n",
            "text/plain": [
              "[1] \"E\" \"D\" \"C\" \"B\" \"A\""
            ]
          },
          "metadata": {}
        }
      ],
      "source": [
        "labels <- c('E','D','C','B','A')\n",
        "labels"
      ]
    },
    {
      "cell_type": "markdown",
      "metadata": {
        "id": "umFq1o-UTg1w"
      },
      "source": [
        "### 3º Construir a coluna de frequências"
      ]
    },
    {
      "cell_type": "code",
      "execution_count": null,
      "metadata": {
        "id": "uSztBoqOTg1x",
        "vscode": {
          "languageId": "r"
        },
        "colab": {
          "base_uri": "https://localhost:8080/",
          "height": 69
        },
        "outputId": "664ab000-3bd9-4250-b23d-31fe43ee27d0"
      },
      "outputs": [
        {
          "output_type": "display_data",
          "data": {
            "text/plain": [
              "\n",
              "    E     D     C     B     A \n",
              "49755 18602  7241   822   420 "
            ]
          },
          "metadata": {}
        }
      ],
      "source": [
        "frequencia <- table(\n",
        "  cut(\n",
        "    x = dados$Renda,\n",
        "    breaks = classes,\n",
        "    labels = labels,\n",
        "    include.lowest = TRUE\n",
        "  )\n",
        ")\n",
        "frequencia"
      ]
    },
    {
      "cell_type": "markdown",
      "metadata": {
        "id": "2k6nGUZKTg11"
      },
      "source": [
        "### 4º Construir a coluna de percentuais"
      ]
    },
    {
      "cell_type": "code",
      "execution_count": null,
      "metadata": {
        "vscode": {
          "languageId": "r"
        },
        "id": "K-3Da9sQ8gcc",
        "colab": {
          "base_uri": "https://localhost:8080/",
          "height": 69
        },
        "outputId": "1b84dff4-28df-4712-c0c1-eff5f49f88b9"
      },
      "outputs": [
        {
          "output_type": "display_data",
          "data": {
            "text/plain": [
              "\n",
              "         E          D          C          B          A \n",
              "64.7514315 24.2087454  9.4234774  1.0697553  0.5465903 "
            ]
          },
          "metadata": {}
        }
      ],
      "source": [
        "percentual <- prop.table(frequencia) * 100\n",
        "percentual"
      ]
    },
    {
      "cell_type": "markdown",
      "metadata": {
        "id": "9dvk6-9_Tg16"
      },
      "source": [
        "### 5º Juntar as colunas de frequência e percentuais e ordenar as linhas de acordo com os labels das classes"
      ]
    },
    {
      "cell_type": "code",
      "execution_count": null,
      "metadata": {
        "vscode": {
          "languageId": "r"
        },
        "id": "bH5729_Y8gcc",
        "colab": {
          "base_uri": "https://localhost:8080/",
          "height": 224
        },
        "outputId": "c959e88e-003e-4b23-b6e5-39ced2b9093a"
      },
      "outputs": [
        {
          "output_type": "display_data",
          "data": {
            "text/html": [
              "<table class=\"dataframe\">\n",
              "<caption>A matrix: 5 × 2 of type dbl</caption>\n",
              "<thead>\n",
              "\t<tr><th></th><th scope=col>Frequência</th><th scope=col>Porcentagem (%)</th></tr>\n",
              "</thead>\n",
              "<tbody>\n",
              "\t<tr><th scope=row>E</th><td>49755</td><td>64.7514315</td></tr>\n",
              "\t<tr><th scope=row>D</th><td>18602</td><td>24.2087454</td></tr>\n",
              "\t<tr><th scope=row>C</th><td> 7241</td><td> 9.4234774</td></tr>\n",
              "\t<tr><th scope=row>B</th><td>  822</td><td> 1.0697553</td></tr>\n",
              "\t<tr><th scope=row>A</th><td>  420</td><td> 0.5465903</td></tr>\n",
              "</tbody>\n",
              "</table>\n"
            ],
            "text/markdown": "\nA matrix: 5 × 2 of type dbl\n\n| <!--/--> | Frequência | Porcentagem (%) |\n|---|---|---|\n| E | 49755 | 64.7514315 |\n| D | 18602 | 24.2087454 |\n| C |  7241 |  9.4234774 |\n| B |   822 |  1.0697553 |\n| A |   420 |  0.5465903 |\n\n",
            "text/latex": "A matrix: 5 × 2 of type dbl\n\\begin{tabular}{r|ll}\n  & Frequência & Porcentagem (\\%)\\\\\n\\hline\n\tE & 49755 & 64.7514315\\\\\n\tD & 18602 & 24.2087454\\\\\n\tC &  7241 &  9.4234774\\\\\n\tB &   822 &  1.0697553\\\\\n\tA &   420 &  0.5465903\\\\\n\\end{tabular}\n",
            "text/plain": [
              "  Frequência Porcentagem (%)\n",
              "E 49755      64.7514315     \n",
              "D 18602      24.2087454     \n",
              "C  7241       9.4234774     \n",
              "B   822       1.0697553     \n",
              "A   420       0.5465903     "
            ]
          },
          "metadata": {}
        }
      ],
      "source": [
        "dist_freq_renda <- cbind('Frequência' = frequencia, 'Porcentagem (%)' = percentual)\n",
        "dist_freq_renda"
      ]
    },
    {
      "cell_type": "code",
      "execution_count": null,
      "metadata": {
        "vscode": {
          "languageId": "r"
        },
        "id": "KA9bQDVF8gcc",
        "colab": {
          "base_uri": "https://localhost:8080/",
          "height": 224
        },
        "outputId": "8ade298e-2056-4f00-8d32-b110bcd0a757"
      },
      "outputs": [
        {
          "output_type": "display_data",
          "data": {
            "text/html": [
              "<table class=\"dataframe\">\n",
              "<caption>A matrix: 5 × 2 of type dbl</caption>\n",
              "<thead>\n",
              "\t<tr><th></th><th scope=col>Frequência</th><th scope=col>Porcentagem (%)</th></tr>\n",
              "</thead>\n",
              "<tbody>\n",
              "\t<tr><th scope=row>A</th><td>  420</td><td> 0.5465903</td></tr>\n",
              "\t<tr><th scope=row>B</th><td>  822</td><td> 1.0697553</td></tr>\n",
              "\t<tr><th scope=row>C</th><td> 7241</td><td> 9.4234774</td></tr>\n",
              "\t<tr><th scope=row>D</th><td>18602</td><td>24.2087454</td></tr>\n",
              "\t<tr><th scope=row>E</th><td>49755</td><td>64.7514315</td></tr>\n",
              "</tbody>\n",
              "</table>\n"
            ],
            "text/markdown": "\nA matrix: 5 × 2 of type dbl\n\n| <!--/--> | Frequência | Porcentagem (%) |\n|---|---|---|\n| A |   420 |  0.5465903 |\n| B |   822 |  1.0697553 |\n| C |  7241 |  9.4234774 |\n| D | 18602 | 24.2087454 |\n| E | 49755 | 64.7514315 |\n\n",
            "text/latex": "A matrix: 5 × 2 of type dbl\n\\begin{tabular}{r|ll}\n  & Frequência & Porcentagem (\\%)\\\\\n\\hline\n\tA &   420 &  0.5465903\\\\\n\tB &   822 &  1.0697553\\\\\n\tC &  7241 &  9.4234774\\\\\n\tD & 18602 & 24.2087454\\\\\n\tE & 49755 & 64.7514315\\\\\n\\end{tabular}\n",
            "text/plain": [
              "  Frequência Porcentagem (%)\n",
              "A   420       0.5465903     \n",
              "B   822       1.0697553     \n",
              "C  7241       9.4234774     \n",
              "D 18602      24.2087454     \n",
              "E 49755      64.7514315     "
            ]
          },
          "metadata": {}
        }
      ],
      "source": [
        "dist_freq_renda[\n",
        "  order(row.names(dist_freq_renda)),\n",
        "]"
      ]
    },
    {
      "cell_type": "markdown",
      "metadata": {
        "id": "DOYtXuSbTg18"
      },
      "source": [
        "### Construa um gráfico de barras para visualizar as informações da tabela de frequências acima\n",
        "\n",
        "#### <font color='red'>Lembre-se de transformar a matriz de resultados em um data frame.</font>"
      ]
    },
    {
      "cell_type": "code",
      "execution_count": null,
      "metadata": {
        "vscode": {
          "languageId": "r"
        },
        "id": "9Er6vwrk8gcc",
        "colab": {
          "base_uri": "https://localhost:8080/",
          "height": 255
        },
        "outputId": "9b8a4d64-6648-4a3a-d767-eac05b3e7cf5"
      },
      "outputs": [
        {
          "output_type": "display_data",
          "data": {
            "text/html": [
              "<table class=\"dataframe\">\n",
              "<caption>A data.frame: 5 × 2</caption>\n",
              "<thead>\n",
              "\t<tr><th></th><th scope=col>Frequência</th><th scope=col>Porcentagem....</th></tr>\n",
              "\t<tr><th></th><th scope=col>&lt;dbl&gt;</th><th scope=col>&lt;dbl&gt;</th></tr>\n",
              "</thead>\n",
              "<tbody>\n",
              "\t<tr><th scope=row>E</th><td>49755</td><td>64.7514315</td></tr>\n",
              "\t<tr><th scope=row>D</th><td>18602</td><td>24.2087454</td></tr>\n",
              "\t<tr><th scope=row>C</th><td> 7241</td><td> 9.4234774</td></tr>\n",
              "\t<tr><th scope=row>B</th><td>  822</td><td> 1.0697553</td></tr>\n",
              "\t<tr><th scope=row>A</th><td>  420</td><td> 0.5465903</td></tr>\n",
              "</tbody>\n",
              "</table>\n"
            ],
            "text/markdown": "\nA data.frame: 5 × 2\n\n| <!--/--> | Frequência &lt;dbl&gt; | Porcentagem.... &lt;dbl&gt; |\n|---|---|---|\n| E | 49755 | 64.7514315 |\n| D | 18602 | 24.2087454 |\n| C |  7241 |  9.4234774 |\n| B |   822 |  1.0697553 |\n| A |   420 |  0.5465903 |\n\n",
            "text/latex": "A data.frame: 5 × 2\n\\begin{tabular}{r|ll}\n  & Frequência & Porcentagem....\\\\\n  & <dbl> & <dbl>\\\\\n\\hline\n\tE & 49755 & 64.7514315\\\\\n\tD & 18602 & 24.2087454\\\\\n\tC &  7241 &  9.4234774\\\\\n\tB &   822 &  1.0697553\\\\\n\tA &   420 &  0.5465903\\\\\n\\end{tabular}\n",
            "text/plain": [
              "  Frequência Porcentagem....\n",
              "E 49755      64.7514315     \n",
              "D 18602      24.2087454     \n",
              "C  7241       9.4234774     \n",
              "B   822       1.0697553     \n",
              "A   420       0.5465903     "
            ]
          },
          "metadata": {}
        }
      ],
      "source": [
        "bar_chart <- data.frame(dist_freq_renda)\n",
        "bar_chart"
      ]
    },
    {
      "cell_type": "code",
      "execution_count": null,
      "metadata": {
        "vscode": {
          "languageId": "r"
        },
        "id": "Gh1x9Nj98gcc",
        "colab": {
          "base_uri": "https://localhost:8080/",
          "height": 377
        },
        "outputId": "392b3617-a0a1-402d-f4b0-dbd62afe8789"
      },
      "outputs": [
        {
          "output_type": "display_data",
          "data": {
            "text/plain": [
              "plot without title"
            ],
            "image/png": "[encoded data removed]"
          },
          "metadata": {
            "image/png": {
              "width": 540,
              "height": 360
            }
          }
        }
      ],
      "source": [
        "ggplot(bar_chart, aes(x = row.names(bar_chart), y = bar_chart$`Frequência`)) +\n",
        "  geom_bar(stat = \"identity\") + \n",
        "  ylab(\"Frequência\") + \n",
        "  xlab(\"Classes de Renda\") +\n",
        "  ggtitle('Gráfico Classes de Renda') +\n",
        "  formatos"
      ]
    },
    {
      "cell_type": "markdown",
      "metadata": {
        "id": "9ppt5JevTg1-"
      },
      "source": [
        "> ### Conclusões\n",
        "\n",
        "Escreva suas conclusões aqui..."
      ]
    },
    {
      "cell_type": "markdown",
      "metadata": {
        "id": "yt-gFm93Tg1-"
      },
      "source": [
        "### Crie um histograma para as variáveis QUANTITATIVAS de nosso dataset\n",
        "#### <font color='blue'>Descreva os pontos mais relevantes que você observa nos gráficos (assimetrias e seus tipos, possíveis causas para determinados comportamentos etc.)</font>"
      ]
    },
    {
      "cell_type": "code",
      "execution_count": null,
      "metadata": {
        "vscode": {
          "languageId": "r"
        },
        "id": "wvZzzb4w8gcd",
        "colab": {
          "base_uri": "https://localhost:8080/",
          "height": 377
        },
        "outputId": "d55ba582-9143-490f-a4ec-e61bd10459b0"
      },
      "outputs": [
        {
          "output_type": "display_data",
          "data": {
            "text/plain": [
              "plot without title"
            ],
            "image/png": "[encoded data removed]"
          },
          "metadata": {
            "image/png": {
              "width": 540,
              "height": 360
            }
          }
        }
      ],
      "source": [
        "# Idade\n",
        "\n",
        "ggplot(dados, aes(x = Idade)) +\n",
        "  geom_histogram(bins = 50) + \n",
        "  ylab(\"Frequência\") + \n",
        "  xlab(\"Idades\") +\n",
        "  ggtitle('Histograma das Idades') +\n",
        "  formatos"
      ]
    },
    {
      "cell_type": "code",
      "execution_count": null,
      "metadata": {
        "vscode": {
          "languageId": "r"
        },
        "id": "yRQw3mIn8gcd",
        "colab": {
          "base_uri": "https://localhost:8080/",
          "height": 394
        },
        "outputId": "5c502d77-e902-45c4-9704-787c72311983"
      },
      "outputs": [
        {
          "output_type": "stream",
          "name": "stderr",
          "text": [
            "\u001b[1m\u001b[22m`stat_bin()` using `bins = 30`. Pick better value with `binwidth`.\n"
          ]
        },
        {
          "output_type": "display_data",
          "data": {
            "text/plain": [
              "plot without title"
            ],
            "image/png": "[encoded data removed]"
          },
          "metadata": {
            "image/png": {
              "width": 540,
              "height": 360
            }
          }
        }
      ],
      "source": [
        "# Altura\n",
        "\n",
        "ggplot(dados, aes(x = Altura)) +\n",
        "  geom_histogram() + \n",
        "  ylab(\"Frequência\") + \n",
        "  xlab(\"Altura\") +\n",
        "  ggtitle('Histograma das Alturas') +\n",
        "  formatos"
      ]
    },
    {
      "cell_type": "code",
      "execution_count": null,
      "metadata": {
        "id": "s55WPk1aTg2C",
        "vscode": {
          "languageId": "r"
        },
        "colab": {
          "base_uri": "https://localhost:8080/",
          "height": 377
        },
        "outputId": "64983f61-8016-4185-e422-5687a740fca4"
      },
      "outputs": [
        {
          "output_type": "display_data",
          "data": {
            "text/plain": [
              "plot without title"
            ],
            "image/png": "[encoded data removed]"
          },
          "metadata": {
            "image/png": {
              "width": 540,
              "height": 360
            }
          }
        }
      ],
      "source": [
        "# Renda\n",
        "\n",
        "ggplot(dados, aes(x = Renda)) +\n",
        "  geom_histogram(bins = 100) + \n",
        "  ylab(\"Frequência\") + \n",
        "  xlab(\"R$\") +\n",
        "  ggtitle('Histograma das Rendas') +\n",
        "  formatos"
      ]
    },
    {
      "cell_type": "markdown",
      "metadata": {
        "id": "w45i-qJ1Tg2E"
      },
      "source": [
        "> ### Conclusões\n",
        "\n",
        "Escreva suas conclusões aqui..."
      ]
    },
    {
      "cell_type": "markdown",
      "metadata": {
        "id": "pnAH1T5fTg2F"
      },
      "source": [
        "### Para a variável RENDA, construa um histograma somente com as informações das pessoas com rendimento até R$ 20.000,00"
      ]
    },
    {
      "cell_type": "code",
      "execution_count": null,
      "metadata": {
        "vscode": {
          "languageId": "r"
        },
        "id": "JzsWWzaM8gcd",
        "colab": {
          "base_uri": "https://localhost:8080/",
          "height": 394
        },
        "outputId": "22c38bb6-003a-4ced-edb4-fd33c291de15"
      },
      "outputs": [
        {
          "output_type": "stream",
          "name": "stderr",
          "text": [
            "\u001b[1m\u001b[22m`stat_bin()` using `bins = 30`. Pick better value with `binwidth`.\n"
          ]
        },
        {
          "output_type": "display_data",
          "data": {
            "text/plain": [
              "plot without title"
            ],
            "image/png": "[encoded data removed]"
          },
          "metadata": {
            "image/png": {
              "width": 540,
              "height": 360
            }
          }
        }
      ],
      "source": [
        "# Renda - Pessoas com renda até R$ 20.000,00\n",
        "\n",
        "ggplot(dados[dados$Renda < 20000, ], aes(x = Renda)) +\n",
        "  geom_histogram() + \n",
        "  ylab(\"Frequência\") + \n",
        "  xlab(\"R$\") +\n",
        "  ggtitle('Histograma das Rendas - Pessoas com renda até R$ 20.000,00') +\n",
        "  formatos"
      ]
    },
    {
      "cell_type": "markdown",
      "metadata": {
        "id": "vvtzLOUKTg2H"
      },
      "source": [
        "### Construa uma tabela de frequências e uma com os percentuais cruzando das variáveis SEXO e COR\n",
        "#### <font color='blue'>Avalie o resultado da tabela e escreva suas principais conclusões</font>\n",
        "#### <font color='red'>Utilize os vetores abaixo para renomear as linha e colunas das tabelas de frequências e dos gráficos em nosso projeto</font>"
      ]
    },
    {
      "cell_type": "code",
      "execution_count": null,
      "metadata": {
        "id": "sChJRo_qTg2I",
        "vscode": {
          "languageId": "r"
        }
      },
      "outputs": [],
      "source": [
        "sexo = c(\n",
        "    'Masculino', \n",
        "    'Feminino'\n",
        ")\n",
        "cor = c(\n",
        "    'Indígena', \n",
        "    'Branca', \n",
        "    'Preta', \n",
        "    'Amarela', \n",
        "    'Parda'\n",
        ")\n",
        "anos_de_estudo = c(\n",
        "    'Sem instrução e menos de 1 ano', \n",
        "    '1 ano', \n",
        "    '2 anos', \n",
        "    '3 anos', \n",
        "    '4 anos', \n",
        "    '5 anos', \n",
        "    '6 anos', \n",
        "    '7 anos', \n",
        "    '8 anos', \n",
        "    '9 anos', \n",
        "    '10 anos', \n",
        "    '11 anos', \n",
        "    '12 anos', \n",
        "    '13 anos', \n",
        "    '14 anos', \n",
        "    '15 anos ou mais', \n",
        "    'Não determinados'\n",
        ")"
      ]
    },
    {
      "cell_type": "code",
      "execution_count": null,
      "metadata": {
        "vscode": {
          "languageId": "r"
        },
        "id": "oOaJr7zy8gce"
      },
      "outputs": [],
      "source": [
        "# Sexo\n",
        "dados$Cat.Sexo <- factor(dados$Sexo)\n",
        "levels(dados$Cat.Sexo) <- sexo\n",
        "\n",
        "# Cor\n",
        "dados$Cat.Cor <- factor(dados$Cor)\n",
        "levels(dados$Cat.Cor) <- cor\n",
        "\n",
        "# Anos de Estudo\n",
        "dados$Cat.Anos.de.Estudo <- factor(dados$Anos.de.Estudo, order = TRUE)\n",
        "levels(dados$Cat.Anos.de.Estudo) <- anos_de_estudo"
      ]
    },
    {
      "cell_type": "code",
      "execution_count": null,
      "metadata": {
        "vscode": {
          "languageId": "r"
        },
        "id": "9zjul3xG8gce",
        "colab": {
          "base_uri": "https://localhost:8080/",
          "height": 286
        },
        "outputId": "c6726ccd-3111-4e90-afb6-939f33c08b2d"
      },
      "outputs": [
        {
          "output_type": "display_data",
          "data": {
            "text/html": [
              "<table class=\"dataframe\">\n",
              "<caption>A data.frame: 6 × 10</caption>\n",
              "<thead>\n",
              "\t<tr><th></th><th scope=col>UF</th><th scope=col>Sexo</th><th scope=col>Idade</th><th scope=col>Cor</th><th scope=col>Anos.de.Estudo</th><th scope=col>Renda</th><th scope=col>Altura</th><th scope=col>Cat.Sexo</th><th scope=col>Cat.Cor</th><th scope=col>Cat.Anos.de.Estudo</th></tr>\n",
              "\t<tr><th></th><th scope=col>&lt;int&gt;</th><th scope=col>&lt;int&gt;</th><th scope=col>&lt;int&gt;</th><th scope=col>&lt;int&gt;</th><th scope=col>&lt;int&gt;</th><th scope=col>&lt;int&gt;</th><th scope=col>&lt;dbl&gt;</th><th scope=col>&lt;fct&gt;</th><th scope=col>&lt;fct&gt;</th><th scope=col>&lt;ord&gt;</th></tr>\n",
              "</thead>\n",
              "<tbody>\n",
              "\t<tr><th scope=row>1</th><td>11</td><td>0</td><td>23</td><td>8</td><td>12</td><td> 800</td><td>1.603808</td><td>Masculino</td><td>Parda </td><td>11 anos</td></tr>\n",
              "\t<tr><th scope=row>2</th><td>11</td><td>1</td><td>23</td><td>2</td><td>12</td><td>1150</td><td>1.739790</td><td>Feminino </td><td>Branca</td><td>11 anos</td></tr>\n",
              "\t<tr><th scope=row>3</th><td>11</td><td>1</td><td>35</td><td>8</td><td>15</td><td> 880</td><td>1.760444</td><td>Feminino </td><td>Parda </td><td>14 anos</td></tr>\n",
              "\t<tr><th scope=row>4</th><td>11</td><td>0</td><td>46</td><td>2</td><td> 6</td><td>3500</td><td>1.783158</td><td>Masculino</td><td>Branca</td><td>5 anos </td></tr>\n",
              "\t<tr><th scope=row>5</th><td>11</td><td>1</td><td>47</td><td>8</td><td> 9</td><td> 150</td><td>1.690631</td><td>Feminino </td><td>Parda </td><td>8 anos </td></tr>\n",
              "\t<tr><th scope=row>6</th><td>11</td><td>1</td><td>34</td><td>8</td><td>12</td><td> 790</td><td>1.637906</td><td>Feminino </td><td>Parda </td><td>11 anos</td></tr>\n",
              "</tbody>\n",
              "</table>\n"
            ],
            "text/markdown": "\nA data.frame: 6 × 10\n\n| <!--/--> | UF &lt;int&gt; | Sexo &lt;int&gt; | Idade &lt;int&gt; | Cor &lt;int&gt; | Anos.de.Estudo &lt;int&gt; | Renda &lt;int&gt; | Altura &lt;dbl&gt; | Cat.Sexo &lt;fct&gt; | Cat.Cor &lt;fct&gt; | Cat.Anos.de.Estudo &lt;ord&gt; |\n|---|---|---|---|---|---|---|---|---|---|---|\n| 1 | 11 | 0 | 23 | 8 | 12 |  800 | 1.603808 | Masculino | Parda  | 11 anos |\n| 2 | 11 | 1 | 23 | 2 | 12 | 1150 | 1.739790 | Feminino  | Branca | 11 anos |\n| 3 | 11 | 1 | 35 | 8 | 15 |  880 | 1.760444 | Feminino  | Parda  | 14 anos |\n| 4 | 11 | 0 | 46 | 2 |  6 | 3500 | 1.783158 | Masculino | Branca | 5 anos  |\n| 5 | 11 | 1 | 47 | 8 |  9 |  150 | 1.690631 | Feminino  | Parda  | 8 anos  |\n| 6 | 11 | 1 | 34 | 8 | 12 |  790 | 1.637906 | Feminino  | Parda  | 11 anos |\n\n",
            "text/latex": "A data.frame: 6 × 10\n\\begin{tabular}{r|llllllllll}\n  & UF & Sexo & Idade & Cor & Anos.de.Estudo & Renda & Altura & Cat.Sexo & Cat.Cor & Cat.Anos.de.Estudo\\\\\n  & <int> & <int> & <int> & <int> & <int> & <int> & <dbl> & <fct> & <fct> & <ord>\\\\\n\\hline\n\t1 & 11 & 0 & 23 & 8 & 12 &  800 & 1.603808 & Masculino & Parda  & 11 anos\\\\\n\t2 & 11 & 1 & 23 & 2 & 12 & 1150 & 1.739790 & Feminino  & Branca & 11 anos\\\\\n\t3 & 11 & 1 & 35 & 8 & 15 &  880 & 1.760444 & Feminino  & Parda  & 14 anos\\\\\n\t4 & 11 & 0 & 46 & 2 &  6 & 3500 & 1.783158 & Masculino & Branca & 5 anos \\\\\n\t5 & 11 & 1 & 47 & 8 &  9 &  150 & 1.690631 & Feminino  & Parda  & 8 anos \\\\\n\t6 & 11 & 1 & 34 & 8 & 12 &  790 & 1.637906 & Feminino  & Parda  & 11 anos\\\\\n\\end{tabular}\n",
            "text/plain": [
              "  UF Sexo Idade Cor Anos.de.Estudo Renda Altura   Cat.Sexo  Cat.Cor\n",
              "1 11 0    23    8   12              800  1.603808 Masculino Parda  \n",
              "2 11 1    23    2   12             1150  1.739790 Feminino  Branca \n",
              "3 11 1    35    8   15              880  1.760444 Feminino  Parda  \n",
              "4 11 0    46    2    6             3500  1.783158 Masculino Branca \n",
              "5 11 1    47    8    9              150  1.690631 Feminino  Parda  \n",
              "6 11 1    34    8   12              790  1.637906 Feminino  Parda  \n",
              "  Cat.Anos.de.Estudo\n",
              "1 11 anos           \n",
              "2 11 anos           \n",
              "3 14 anos           \n",
              "4 5 anos            \n",
              "5 8 anos            \n",
              "6 11 anos           "
            ]
          },
          "metadata": {}
        }
      ],
      "source": [
        "head(dados)"
      ]
    },
    {
      "cell_type": "code",
      "execution_count": null,
      "metadata": {
        "id": "KbeFXAGSTg2K",
        "vscode": {
          "languageId": "r"
        },
        "colab": {
          "base_uri": "https://localhost:8080/",
          "height": 129
        },
        "outputId": "c61da21c-6441-4090-97ca-0834da116a3a"
      },
      "outputs": [
        {
          "output_type": "display_data",
          "data": {
            "text/html": [
              "<table class=\"dataframe\">\n",
              "<caption>A matrix: 2 × 5 of type int</caption>\n",
              "<thead>\n",
              "\t<tr><th></th><th scope=col>Indígena</th><th scope=col>Branca</th><th scope=col>Preta</th><th scope=col>Amarela</th><th scope=col>Parda</th></tr>\n",
              "</thead>\n",
              "<tbody>\n",
              "\t<tr><th scope=row>Masculino</th><td>256</td><td>22194</td><td>5502</td><td>235</td><td>25063</td></tr>\n",
              "\t<tr><th scope=row>Feminino</th><td>101</td><td> 9621</td><td>2889</td><td>117</td><td>10862</td></tr>\n",
              "</tbody>\n",
              "</table>\n"
            ],
            "text/markdown": "\nA matrix: 2 × 5 of type int\n\n| <!--/--> | Indígena | Branca | Preta | Amarela | Parda |\n|---|---|---|---|---|---|\n| Masculino | 256 | 22194 | 5502 | 235 | 25063 |\n| Feminino | 101 |  9621 | 2889 | 117 | 10862 |\n\n",
            "text/latex": "A matrix: 2 × 5 of type int\n\\begin{tabular}{r|lllll}\n  & Indígena & Branca & Preta & Amarela & Parda\\\\\n\\hline\n\tMasculino & 256 & 22194 & 5502 & 235 & 25063\\\\\n\tFeminino & 101 &  9621 & 2889 & 117 & 10862\\\\\n\\end{tabular}\n",
            "text/plain": [
              "          Indígena Branca Preta Amarela Parda\n",
              "Masculino 256      22194  5502  235     25063\n",
              "Feminino  101       9621  2889  117     10862"
            ]
          },
          "metadata": {}
        }
      ],
      "source": [
        "frequencia <- table(dados$Cat.Sexo, dados$Cat.Cor)\n",
        "frequencia <- cbind(frequencia)\n",
        "frequencia"
      ]
    },
    {
      "cell_type": "code",
      "execution_count": null,
      "metadata": {
        "id": "csL1jaeSTg2M",
        "vscode": {
          "languageId": "r"
        },
        "colab": {
          "base_uri": "https://localhost:8080/",
          "height": 129
        },
        "outputId": "137c7334-d69d-4a17-ce73-ee57baae6ec1"
      },
      "outputs": [
        {
          "output_type": "display_data",
          "data": {
            "text/html": [
              "<table class=\"dataframe\">\n",
              "<caption>A matrix: 2 × 5 of type dbl</caption>\n",
              "<thead>\n",
              "\t<tr><th></th><th scope=col>Indígena</th><th scope=col>Branca</th><th scope=col>Preta</th><th scope=col>Amarela</th><th scope=col>Parda</th></tr>\n",
              "</thead>\n",
              "<tbody>\n",
              "\t<tr><th scope=row>Masculino</th><td>0.3331598</td><td>28.88339</td><td>7.160333</td><td>0.3058303</td><td>32.61713</td></tr>\n",
              "\t<tr><th scope=row>Feminino</th><td>0.1314420</td><td>12.52082</td><td>3.759761</td><td>0.1522644</td><td>14.13587</td></tr>\n",
              "</tbody>\n",
              "</table>\n"
            ],
            "text/markdown": "\nA matrix: 2 × 5 of type dbl\n\n| <!--/--> | Indígena | Branca | Preta | Amarela | Parda |\n|---|---|---|---|---|---|\n| Masculino | 0.3331598 | 28.88339 | 7.160333 | 0.3058303 | 32.61713 |\n| Feminino | 0.1314420 | 12.52082 | 3.759761 | 0.1522644 | 14.13587 |\n\n",
            "text/latex": "A matrix: 2 × 5 of type dbl\n\\begin{tabular}{r|lllll}\n  & Indígena & Branca & Preta & Amarela & Parda\\\\\n\\hline\n\tMasculino & 0.3331598 & 28.88339 & 7.160333 & 0.3058303 & 32.61713\\\\\n\tFeminino & 0.1314420 & 12.52082 & 3.759761 & 0.1522644 & 14.13587\\\\\n\\end{tabular}\n",
            "text/plain": [
              "          Indígena  Branca   Preta    Amarela   Parda   \n",
              "Masculino 0.3331598 28.88339 7.160333 0.3058303 32.61713\n",
              "Feminino  0.1314420 12.52082 3.759761 0.1522644 14.13587"
            ]
          },
          "metadata": {}
        }
      ],
      "source": [
        "percentual <- cbind(prop.table(frequencia)) * 100\n",
        "percentual"
      ]
    },
    {
      "cell_type": "markdown",
      "metadata": {
        "id": "2jLZmww2Tg2O"
      },
      "source": [
        "> ### Conclusões\n",
        "\n",
        "Escreva suas conclusões aqui..."
      ]
    },
    {
      "cell_type": "markdown",
      "metadata": {
        "id": "Aoeayf6zTg2P"
      },
      "source": [
        "## Realize, para a variável RENDA, uma análise descritiva com as ferramentas que aprendemos em nosso treinamento"
      ]
    },
    {
      "cell_type": "markdown",
      "metadata": {
        "id": "c2CtT71oTg2P"
      },
      "source": [
        "### Obtenha a média aritimética"
      ]
    },
    {
      "cell_type": "code",
      "execution_count": null,
      "metadata": {
        "id": "qlJESCU6Tg2P",
        "vscode": {
          "languageId": "r"
        },
        "colab": {
          "base_uri": "https://localhost:8080/",
          "height": 34
        },
        "outputId": "d96a80fe-6cfd-4fc9-daba-2baec21e25a9"
      },
      "outputs": [
        {
          "output_type": "display_data",
          "data": {
            "text/html": [
              "2000.38319885476"
            ],
            "text/markdown": "2000.38319885476",
            "text/latex": "2000.38319885476",
            "text/plain": [
              "[1] 2000.383"
            ]
          },
          "metadata": {}
        }
      ],
      "source": [
        "mean(dados$Renda)"
      ]
    },
    {
      "cell_type": "markdown",
      "metadata": {
        "id": "Xd4saPBCTg2R"
      },
      "source": [
        "### Obtenha a mediana"
      ]
    },
    {
      "cell_type": "code",
      "execution_count": null,
      "metadata": {
        "id": "vHTqX-UATg2R",
        "vscode": {
          "languageId": "r"
        },
        "colab": {
          "base_uri": "https://localhost:8080/",
          "height": 34
        },
        "outputId": "cefc3ae3-28f7-45ba-edf1-87c015291270"
      },
      "outputs": [
        {
          "output_type": "display_data",
          "data": {
            "text/html": [
              "1200"
            ],
            "text/markdown": "1200",
            "text/latex": "1200",
            "text/plain": [
              "[1] 1200"
            ]
          },
          "metadata": {}
        }
      ],
      "source": [
        "median(dados$Renda)"
      ]
    },
    {
      "cell_type": "markdown",
      "metadata": {
        "id": "_e40rDSwTg2U"
      },
      "source": [
        "### Obtenha a moda"
      ]
    },
    {
      "cell_type": "code",
      "execution_count": null,
      "metadata": {
        "vscode": {
          "languageId": "r"
        },
        "id": "uoYTlg8M8gce"
      },
      "outputs": [],
      "source": [
        "Moda <- function(x) {\n",
        "  frequencias <- table(x)\n",
        "  return(names(frequencias)[frequencias == max(frequencias)])\n",
        "}"
      ]
    },
    {
      "cell_type": "code",
      "execution_count": null,
      "metadata": {
        "id": "BFOOdYOvTg2V",
        "vscode": {
          "languageId": "r"
        },
        "colab": {
          "base_uri": "https://localhost:8080/",
          "height": 34
        },
        "outputId": "3a2aa979-4019-45a7-c456-15d780103034"
      },
      "outputs": [
        {
          "output_type": "display_data",
          "data": {
            "text/html": [
              "788"
            ],
            "text/markdown": "788",
            "text/latex": "788",
            "text/plain": [
              "[1] 788"
            ]
          },
          "metadata": {}
        }
      ],
      "source": [
        "as.numeric(Moda(dados$Renda))"
      ]
    },
    {
      "cell_type": "markdown",
      "metadata": {
        "id": "hCgV_XaQTg2Z"
      },
      "source": [
        "### Obtenha a variância"
      ]
    },
    {
      "cell_type": "code",
      "execution_count": null,
      "metadata": {
        "id": "SwRgACeGTg2a",
        "vscode": {
          "languageId": "r"
        },
        "colab": {
          "base_uri": "https://localhost:8080/",
          "height": 34
        },
        "outputId": "800b7353-0d07-4eef-ad91-d4523b562ace"
      },
      "outputs": [
        {
          "output_type": "display_data",
          "data": {
            "text/html": [
              "11044906.006217"
            ],
            "text/markdown": "11044906.006217",
            "text/latex": "11044906.006217",
            "text/plain": [
              "[1] 11044906"
            ]
          },
          "metadata": {}
        }
      ],
      "source": [
        "var(dados$Renda)"
      ]
    },
    {
      "cell_type": "markdown",
      "metadata": {
        "id": "gsO6MKOcTg2c"
      },
      "source": [
        "### Obtenha o desvio-padrão"
      ]
    },
    {
      "cell_type": "code",
      "execution_count": null,
      "metadata": {
        "id": "gR-LVTRYTg2d",
        "vscode": {
          "languageId": "r"
        },
        "colab": {
          "base_uri": "https://localhost:8080/",
          "height": 34
        },
        "outputId": "31364301-3f44-40f0-a2be-ad181c9610b1"
      },
      "outputs": [
        {
          "output_type": "display_data",
          "data": {
            "text/html": [
              "3323.3877303464"
            ],
            "text/markdown": "3323.3877303464",
            "text/latex": "3323.3877303464",
            "text/plain": [
              "[1] 3323.388"
            ]
          },
          "metadata": {}
        }
      ],
      "source": [
        "sd(dados$Renda)"
      ]
    },
    {
      "cell_type": "markdown",
      "metadata": {
        "id": "vG-rdO5fTg2f"
      },
      "source": [
        "### Obtenha a média, mediana e valor máximo da variável RENDA segundo SEXO e COR\n",
        "#### <font color='blue'>Destaque os pontos mais importante que você observa nas tabulações</font>\n",
        "#### <font color='red'>Utilize *tapply* com as funções *mean*, *median* e *max*</font>"
      ]
    },
    {
      "cell_type": "code",
      "execution_count": null,
      "metadata": {
        "id": "VgxygKWXTg2g",
        "vscode": {
          "languageId": "r"
        },
        "colab": {
          "base_uri": "https://localhost:8080/",
          "height": 129
        },
        "outputId": "736d29d4-7924-4ee0-c5f7-35f2b4d0fe86"
      },
      "outputs": [
        {
          "output_type": "display_data",
          "data": {
            "text/html": [
              "<table class=\"dataframe\">\n",
              "<caption>A matrix: 2 × 5 of type dbl</caption>\n",
              "<thead>\n",
              "\t<tr><th></th><th scope=col>Indígena</th><th scope=col>Branca</th><th scope=col>Preta</th><th scope=col>Amarela</th><th scope=col>Parda</th></tr>\n",
              "</thead>\n",
              "<tbody>\n",
              "\t<tr><th scope=row>Masculino</th><td>1081.711</td><td>2925.744</td><td>1603.862</td><td>4758.251</td><td>1659.577</td></tr>\n",
              "\t<tr><th scope=row>Feminino</th><td>2464.386</td><td>2109.867</td><td>1134.596</td><td>3027.342</td><td>1176.759</td></tr>\n",
              "</tbody>\n",
              "</table>\n"
            ],
            "text/markdown": "\nA matrix: 2 × 5 of type dbl\n\n| <!--/--> | Indígena | Branca | Preta | Amarela | Parda |\n|---|---|---|---|---|---|\n| Masculino | 1081.711 | 2925.744 | 1603.862 | 4758.251 | 1659.577 |\n| Feminino | 2464.386 | 2109.867 | 1134.596 | 3027.342 | 1176.759 |\n\n",
            "text/latex": "A matrix: 2 × 5 of type dbl\n\\begin{tabular}{r|lllll}\n  & Indígena & Branca & Preta & Amarela & Parda\\\\\n\\hline\n\tMasculino & 1081.711 & 2925.744 & 1603.862 & 4758.251 & 1659.577\\\\\n\tFeminino & 2464.386 & 2109.867 & 1134.596 & 3027.342 & 1176.759\\\\\n\\end{tabular}\n",
            "text/plain": [
              "          Indígena Branca   Preta    Amarela  Parda   \n",
              "Masculino 1081.711 2925.744 1603.862 4758.251 1659.577\n",
              "Feminino  2464.386 2109.867 1134.596 3027.342 1176.759"
            ]
          },
          "metadata": {}
        }
      ],
      "source": [
        "medias <- tapply(dados$Renda, list(dados$Cat.Sexo, dados$Cat.Cor), mean)\n",
        "medias"
      ]
    },
    {
      "cell_type": "code",
      "execution_count": null,
      "metadata": {
        "vscode": {
          "languageId": "r"
        },
        "id": "57LSxTCX8gcf",
        "colab": {
          "base_uri": "https://localhost:8080/",
          "height": 129
        },
        "outputId": "f552212a-97b8-4804-9331-9edf0af2886d"
      },
      "outputs": [
        {
          "output_type": "display_data",
          "data": {
            "text/html": [
              "<table class=\"dataframe\">\n",
              "<caption>A matrix: 2 × 5 of type dbl</caption>\n",
              "<thead>\n",
              "\t<tr><th></th><th scope=col>Indígena</th><th scope=col>Branca</th><th scope=col>Preta</th><th scope=col>Amarela</th><th scope=col>Parda</th></tr>\n",
              "</thead>\n",
              "<tbody>\n",
              "\t<tr><th scope=row>Masculino</th><td>797.5</td><td>1700</td><td>1200</td><td>2800</td><td>1200</td></tr>\n",
              "\t<tr><th scope=row>Feminino</th><td>788.0</td><td>1200</td><td> 800</td><td>1500</td><td> 800</td></tr>\n",
              "</tbody>\n",
              "</table>\n"
            ],
            "text/markdown": "\nA matrix: 2 × 5 of type dbl\n\n| <!--/--> | Indígena | Branca | Preta | Amarela | Parda |\n|---|---|---|---|---|---|\n| Masculino | 797.5 | 1700 | 1200 | 2800 | 1200 |\n| Feminino | 788.0 | 1200 |  800 | 1500 |  800 |\n\n",
            "text/latex": "A matrix: 2 × 5 of type dbl\n\\begin{tabular}{r|lllll}\n  & Indígena & Branca & Preta & Amarela & Parda\\\\\n\\hline\n\tMasculino & 797.5 & 1700 & 1200 & 2800 & 1200\\\\\n\tFeminino & 788.0 & 1200 &  800 & 1500 &  800\\\\\n\\end{tabular}\n",
            "text/plain": [
              "          Indígena Branca Preta Amarela Parda\n",
              "Masculino 797.5    1700   1200  2800    1200 \n",
              "Feminino  788.0    1200    800  1500     800 "
            ]
          },
          "metadata": {}
        }
      ],
      "source": [
        "medianas <- tapply(dados$Renda, list(dados$Cat.Sexo, dados$Cat.Cor), median)\n",
        "medianas"
      ]
    },
    {
      "cell_type": "code",
      "execution_count": null,
      "metadata": {
        "vscode": {
          "languageId": "r"
        },
        "id": "5hLapmif8gcf",
        "colab": {
          "base_uri": "https://localhost:8080/",
          "height": 129
        },
        "outputId": "017e9c8e-9461-4900-ebe3-df36a6356c5f"
      },
      "outputs": [
        {
          "output_type": "display_data",
          "data": {
            "text/html": [
              "<table class=\"dataframe\">\n",
              "<caption>A matrix: 2 × 5 of type int</caption>\n",
              "<thead>\n",
              "\t<tr><th></th><th scope=col>Indígena</th><th scope=col>Branca</th><th scope=col>Preta</th><th scope=col>Amarela</th><th scope=col>Parda</th></tr>\n",
              "</thead>\n",
              "<tbody>\n",
              "\t<tr><th scope=row>Masculino</th><td> 10000</td><td>200000</td><td>50000</td><td>50000</td><td>100000</td></tr>\n",
              "\t<tr><th scope=row>Feminino</th><td>120000</td><td>100000</td><td>23000</td><td>20000</td><td> 30000</td></tr>\n",
              "</tbody>\n",
              "</table>\n"
            ],
            "text/markdown": "\nA matrix: 2 × 5 of type int\n\n| <!--/--> | Indígena | Branca | Preta | Amarela | Parda |\n|---|---|---|---|---|---|\n| Masculino |  10000 | 200000 | 50000 | 50000 | 100000 |\n| Feminino | 120000 | 100000 | 23000 | 20000 |  30000 |\n\n",
            "text/latex": "A matrix: 2 × 5 of type int\n\\begin{tabular}{r|lllll}\n  & Indígena & Branca & Preta & Amarela & Parda\\\\\n\\hline\n\tMasculino &  10000 & 200000 & 50000 & 50000 & 100000\\\\\n\tFeminino & 120000 & 100000 & 23000 & 20000 &  30000\\\\\n\\end{tabular}\n",
            "text/plain": [
              "          Indígena Branca Preta Amarela Parda \n",
              "Masculino  10000   200000 50000 50000   100000\n",
              "Feminino  120000   100000 23000 20000    30000"
            ]
          },
          "metadata": {}
        }
      ],
      "source": [
        "maximos <- tapply(dados$Renda, list(dados$Cat.Sexo, dados$Cat.Cor), max)\n",
        "maximos"
      ]
    },
    {
      "cell_type": "markdown",
      "metadata": {
        "id": "ibndm9iwTg2i"
      },
      "source": [
        "> ### Conclusões\n",
        "\n",
        "Escreva suas conclusões aqui..."
      ]
    },
    {
      "cell_type": "markdown",
      "metadata": {
        "id": "CleJ6c1rTg2i"
      },
      "source": [
        "### Obtenha as medidas de dispersão da variável RENDA segundo SEXO e COR\n",
        "#### <font color='blue'>Destaque os pontos mais importante que você observa nas tabulações</font>\n",
        "#### <font color='red'>Utilize *tapply* com as funções *var* e *sd*</font>"
      ]
    },
    {
      "cell_type": "code",
      "execution_count": null,
      "metadata": {
        "vscode": {
          "languageId": "r"
        },
        "id": "aRmbc3ep8gcg",
        "colab": {
          "base_uri": "https://localhost:8080/",
          "height": 129
        },
        "outputId": "c4cf513f-f70d-40f5-c5f4-d4510cdb1f65"
      },
      "outputs": [
        {
          "output_type": "display_data",
          "data": {
            "text/html": [
              "<table class=\"dataframe\">\n",
              "<caption>A matrix: 2 × 5 of type dbl</caption>\n",
              "<thead>\n",
              "\t<tr><th></th><th scope=col>Indígena</th><th scope=col>Branca</th><th scope=col>Preta</th><th scope=col>Amarela</th><th scope=col>Parda</th></tr>\n",
              "</thead>\n",
              "<tbody>\n",
              "\t<tr><th scope=row>Masculino</th><td>  1449841</td><td>22570023</td><td>3749294</td><td>32957070</td><td>5345747</td></tr>\n",
              "\t<tr><th scope=row>Feminino</th><td>142981765</td><td>10569087</td><td>1821960</td><td>13921657</td><td>2547960</td></tr>\n",
              "</tbody>\n",
              "</table>\n"
            ],
            "text/markdown": "\nA matrix: 2 × 5 of type dbl\n\n| <!--/--> | Indígena | Branca | Preta | Amarela | Parda |\n|---|---|---|---|---|---|\n| Masculino |   1449841 | 22570023 | 3749294 | 32957070 | 5345747 |\n| Feminino | 142981765 | 10569087 | 1821960 | 13921657 | 2547960 |\n\n",
            "text/latex": "A matrix: 2 × 5 of type dbl\n\\begin{tabular}{r|lllll}\n  & Indígena & Branca & Preta & Amarela & Parda\\\\\n\\hline\n\tMasculino &   1449841 & 22570023 & 3749294 & 32957070 & 5345747\\\\\n\tFeminino & 142981765 & 10569087 & 1821960 & 13921657 & 2547960\\\\\n\\end{tabular}\n",
            "text/plain": [
              "          Indígena  Branca   Preta   Amarela  Parda  \n",
              "Masculino   1449841 22570023 3749294 32957070 5345747\n",
              "Feminino  142981765 10569087 1821960 13921657 2547960"
            ]
          },
          "metadata": {}
        }
      ],
      "source": [
        "variancia <- tapply(dados$Renda, list(dados$Cat.Sexo, dados$Cat.Cor), var)\n",
        "variancia"
      ]
    },
    {
      "cell_type": "code",
      "execution_count": null,
      "metadata": {
        "id": "bNv-eWZ3Tg2j",
        "vscode": {
          "languageId": "r"
        },
        "colab": {
          "base_uri": "https://localhost:8080/",
          "height": 129
        },
        "outputId": "64c77c53-a47c-4a85-e1bf-50475736e81e"
      },
      "outputs": [
        {
          "output_type": "display_data",
          "data": {
            "text/html": [
              "<table class=\"dataframe\">\n",
              "<caption>A matrix: 2 × 5 of type dbl</caption>\n",
              "<thead>\n",
              "\t<tr><th></th><th scope=col>Indígena</th><th scope=col>Branca</th><th scope=col>Preta</th><th scope=col>Amarela</th><th scope=col>Parda</th></tr>\n",
              "</thead>\n",
              "<tbody>\n",
              "\t<tr><th scope=row>Masculino</th><td> 1204.093</td><td>4750.792</td><td>1936.309</td><td>5740.825</td><td>2312.087</td></tr>\n",
              "\t<tr><th scope=row>Feminino</th><td>11957.498</td><td>3251.013</td><td>1349.800</td><td>3731.174</td><td>1596.233</td></tr>\n",
              "</tbody>\n",
              "</table>\n"
            ],
            "text/markdown": "\nA matrix: 2 × 5 of type dbl\n\n| <!--/--> | Indígena | Branca | Preta | Amarela | Parda |\n|---|---|---|---|---|---|\n| Masculino |  1204.093 | 4750.792 | 1936.309 | 5740.825 | 2312.087 |\n| Feminino | 11957.498 | 3251.013 | 1349.800 | 3731.174 | 1596.233 |\n\n",
            "text/latex": "A matrix: 2 × 5 of type dbl\n\\begin{tabular}{r|lllll}\n  & Indígena & Branca & Preta & Amarela & Parda\\\\\n\\hline\n\tMasculino &  1204.093 & 4750.792 & 1936.309 & 5740.825 & 2312.087\\\\\n\tFeminino & 11957.498 & 3251.013 & 1349.800 & 3731.174 & 1596.233\\\\\n\\end{tabular}\n",
            "text/plain": [
              "          Indígena  Branca   Preta    Amarela  Parda   \n",
              "Masculino  1204.093 4750.792 1936.309 5740.825 2312.087\n",
              "Feminino  11957.498 3251.013 1349.800 3731.174 1596.233"
            ]
          },
          "metadata": {}
        }
      ],
      "source": [
        "desvio_padrao <- tapply(dados$Renda, list(dados$Cat.Sexo, dados$Cat.Cor), sd)\n",
        "desvio_padrao"
      ]
    },
    {
      "cell_type": "markdown",
      "metadata": {
        "id": "57aHvJMSTg2l"
      },
      "source": [
        "> ### Conclusões\n",
        "\n",
        "Escreva suas conclusões aqui..."
      ]
    },
    {
      "cell_type": "markdown",
      "metadata": {
        "id": "QSYjkdyOTg2l"
      },
      "source": [
        "### Construa um box plot da variável RENDA segundo SEXO e COR\n",
        "#### <font color='blue'>É possível verificar algum comportamento diferenciado no rendimento entre os grupos de pessoas analisados? Avalie o gráfico e destaque os pontos mais importantes;</font>\n",
        "#### <font color='red'>1º - Utilize somente as informações de pessoas com renda abaixo de R$ 10.000</font>\n",
        "#### <font color='red'>2º - Para incluir uma terceira variável na construção de um boxplot utilize o parâmetro *fill* da seguinte maneira: *aes(x = Cor, y = Renda, fill = Sexo)*.</font>"
      ]
    },
    {
      "cell_type": "code",
      "execution_count": null,
      "metadata": {
        "vscode": {
          "languageId": "r"
        },
        "id": "NGM_ke1j8gcg",
        "colab": {
          "base_uri": "https://localhost:8080/",
          "height": 377
        },
        "outputId": "2fe7dda0-0dae-4ec6-901a-9946001fd346"
      },
      "outputs": [
        {
          "output_type": "display_data",
          "data": {
            "text/plain": [
              "plot without title"
            ],
            "image/png": "[encoded data removed]"
          },
          "metadata": {
            "image/png": {
              "width": 540,
              "height": 360
            }
          }
        }
      ],
      "source": [
        "ggplot(data = dados[dados$Renda < 10000, ], aes(x = Cat.Cor, y = Renda, fill = Cat.Sexo)) +\n",
        "  geom_boxplot(size = 0.2) +\n",
        "  coord_flip() +\n",
        "  ylab(\"R$\") +\n",
        "  xlab(\"Cor\") +\n",
        "  guides(fill = guide_legend(title = 'Sexo')) +\n",
        "  ggtitle('Box-plot da RENDA por SEXO e COR') +\n",
        "  formatos"
      ]
    },
    {
      "cell_type": "markdown",
      "metadata": {
        "id": "ROiIQRFhTg2o"
      },
      "source": [
        "> ### Conclusões\n",
        "\n",
        "Escreva suas conclusões aqui..."
      ]
    },
    {
      "cell_type": "markdown",
      "metadata": {
        "id": "zi4BaGooTg2o"
      },
      "source": [
        "### Qual percentual de pessoas de nosso <i>dataset</i> ganham um salário mínimo (R$ 788,00) ou menos?"
      ]
    },
    {
      "cell_type": "code",
      "execution_count": null,
      "metadata": {
        "vscode": {
          "languageId": "r"
        },
        "id": "kEsSsetf8gcg",
        "colab": {
          "base_uri": "https://localhost:8080/",
          "height": 34
        },
        "outputId": "c7aa74cf-e2fc-4277-8d01-3b9cb0122824"
      },
      "outputs": [
        {
          "output_type": "display_data",
          "data": {
            "text/html": [
              "28.8677771993753"
            ],
            "text/markdown": "28.8677771993753",
            "text/latex": "28.8677771993753",
            "text/plain": [
              "[1] 28.86778"
            ]
          },
          "metadata": {}
        }
      ],
      "source": [
        "length(dados$Renda[dados$Renda <= 788]) / length(dados$Renda) * 100"
      ]
    },
    {
      "cell_type": "markdown",
      "metadata": {
        "id": "bl0fOMuKTg2q"
      },
      "source": [
        "### Qual o valor máximo ganho por 99% das pessoas de nosso <i>dataset</i>?\n",
        "#### <font color='red'>Utilize o método *quantile()* para realizar esta análise.</font>"
      ]
    },
    {
      "cell_type": "code",
      "execution_count": null,
      "metadata": {
        "id": "cIVwy8bKTg2q",
        "vscode": {
          "languageId": "r"
        },
        "colab": {
          "base_uri": "https://localhost:8080/",
          "height": 34
        },
        "outputId": "b7b98d1c-9df0-46d3-efb8-54aa3abd523b"
      },
      "outputs": [
        {
          "output_type": "display_data",
          "data": {
            "text/html": [
              "<strong>99%:</strong> 15000"
            ],
            "text/markdown": "**99%:** 15000",
            "text/latex": "\\textbf{99\\textbackslash{}\\%:} 15000",
            "text/plain": [
              "  99% \n",
              "15000 "
            ]
          },
          "metadata": {}
        }
      ],
      "source": [
        "quantile(dados$Renda, .99)"
      ]
    },
    {
      "cell_type": "markdown",
      "metadata": {
        "id": "zeRhvtngTg2r"
      },
      "source": [
        "### Obtenha a média, mediana, valor máximo e desvio-padrão da variável RENDA segundo ANOS DE ESTUDO e SEXO\n",
        "#### <font color='blue'>Destaque os pontos mais importante que você observa nas tabulações</font>"
      ]
    },
    {
      "cell_type": "code",
      "execution_count": null,
      "metadata": {
        "vscode": {
          "languageId": "r"
        },
        "id": "HFUCRrxz8gch",
        "colab": {
          "base_uri": "https://localhost:8080/",
          "height": 600
        },
        "outputId": "15f4b8f3-e84a-4aaa-a1cc-00f433313eaa"
      },
      "outputs": [
        {
          "output_type": "display_data",
          "data": {
            "text/html": [
              "<table class=\"dataframe\">\n",
              "<caption>A matrix: 17 × 2 of type dbl</caption>\n",
              "<thead>\n",
              "\t<tr><th></th><th scope=col>Masculino</th><th scope=col>Feminino</th></tr>\n",
              "</thead>\n",
              "<tbody>\n",
              "\t<tr><th scope=row>Sem instrução e menos de 1 ano</th><td> 799.4946</td><td> 516.2017</td></tr>\n",
              "\t<tr><th scope=row>1 ano</th><td> 895.6290</td><td> 492.7720</td></tr>\n",
              "\t<tr><th scope=row>2 anos</th><td> 931.1790</td><td> 529.9116</td></tr>\n",
              "\t<tr><th scope=row>3 anos</th><td>1109.2039</td><td> 546.8539</td></tr>\n",
              "\t<tr><th scope=row>4 anos</th><td>1302.3293</td><td> 704.2791</td></tr>\n",
              "\t<tr><th scope=row>5 anos</th><td>1338.6532</td><td> 781.3898</td></tr>\n",
              "\t<tr><th scope=row>6 anos</th><td>1448.8754</td><td> 833.7328</td></tr>\n",
              "\t<tr><th scope=row>7 anos</th><td>1465.4979</td><td> 830.7510</td></tr>\n",
              "\t<tr><th scope=row>8 anos</th><td>1639.3967</td><td> 933.6154</td></tr>\n",
              "\t<tr><th scope=row>9 anos</th><td>1508.0389</td><td> 868.0217</td></tr>\n",
              "\t<tr><th scope=row>10 anos</th><td>1731.2708</td><td> 925.9192</td></tr>\n",
              "\t<tr><th scope=row>11 anos</th><td>2117.0605</td><td>1286.7909</td></tr>\n",
              "\t<tr><th scope=row>12 anos</th><td>2470.3308</td><td>1682.3137</td></tr>\n",
              "\t<tr><th scope=row>13 anos</th><td>3195.0992</td><td>1911.7300</td></tr>\n",
              "\t<tr><th scope=row>14 anos</th><td>3706.6203</td><td>2226.4605</td></tr>\n",
              "\t<tr><th scope=row>15 anos ou mais</th><td>6134.2798</td><td>3899.5132</td></tr>\n",
              "\t<tr><th scope=row>Não determinados</th><td>1295.7619</td><td> 798.1744</td></tr>\n",
              "</tbody>\n",
              "</table>\n"
            ],
            "text/markdown": "\nA matrix: 17 × 2 of type dbl\n\n| <!--/--> | Masculino | Feminino |\n|---|---|---|\n| Sem instrução e menos de 1 ano |  799.4946 |  516.2017 |\n| 1 ano |  895.6290 |  492.7720 |\n| 2 anos |  931.1790 |  529.9116 |\n| 3 anos | 1109.2039 |  546.8539 |\n| 4 anos | 1302.3293 |  704.2791 |\n| 5 anos | 1338.6532 |  781.3898 |\n| 6 anos | 1448.8754 |  833.7328 |\n| 7 anos | 1465.4979 |  830.7510 |\n| 8 anos | 1639.3967 |  933.6154 |\n| 9 anos | 1508.0389 |  868.0217 |\n| 10 anos | 1731.2708 |  925.9192 |\n| 11 anos | 2117.0605 | 1286.7909 |\n| 12 anos | 2470.3308 | 1682.3137 |\n| 13 anos | 3195.0992 | 1911.7300 |\n| 14 anos | 3706.6203 | 2226.4605 |\n| 15 anos ou mais | 6134.2798 | 3899.5132 |\n| Não determinados | 1295.7619 |  798.1744 |\n\n",
            "text/latex": "A matrix: 17 × 2 of type dbl\n\\begin{tabular}{r|ll}\n  & Masculino & Feminino\\\\\n\\hline\n\tSem instrução e menos de 1 ano &  799.4946 &  516.2017\\\\\n\t1 ano &  895.6290 &  492.7720\\\\\n\t2 anos &  931.1790 &  529.9116\\\\\n\t3 anos & 1109.2039 &  546.8539\\\\\n\t4 anos & 1302.3293 &  704.2791\\\\\n\t5 anos & 1338.6532 &  781.3898\\\\\n\t6 anos & 1448.8754 &  833.7328\\\\\n\t7 anos & 1465.4979 &  830.7510\\\\\n\t8 anos & 1639.3967 &  933.6154\\\\\n\t9 anos & 1508.0389 &  868.0217\\\\\n\t10 anos & 1731.2708 &  925.9192\\\\\n\t11 anos & 2117.0605 & 1286.7909\\\\\n\t12 anos & 2470.3308 & 1682.3137\\\\\n\t13 anos & 3195.0992 & 1911.7300\\\\\n\t14 anos & 3706.6203 & 2226.4605\\\\\n\t15 anos ou mais & 6134.2798 & 3899.5132\\\\\n\tNão determinados & 1295.7619 &  798.1744\\\\\n\\end{tabular}\n",
            "text/plain": [
              "                               Masculino Feminino \n",
              "Sem instrução e menos de 1 ano  799.4946  516.2017\n",
              "1 ano                           895.6290  492.7720\n",
              "2 anos                          931.1790  529.9116\n",
              "3 anos                         1109.2039  546.8539\n",
              "4 anos                         1302.3293  704.2791\n",
              "5 anos                         1338.6532  781.3898\n",
              "6 anos                         1448.8754  833.7328\n",
              "7 anos                         1465.4979  830.7510\n",
              "8 anos                         1639.3967  933.6154\n",
              "9 anos                         1508.0389  868.0217\n",
              "10 anos                        1731.2708  925.9192\n",
              "11 anos                        2117.0605 1286.7909\n",
              "12 anos                        2470.3308 1682.3137\n",
              "13 anos                        3195.0992 1911.7300\n",
              "14 anos                        3706.6203 2226.4605\n",
              "15 anos ou mais                6134.2798 3899.5132\n",
              "Não determinados               1295.7619  798.1744"
            ]
          },
          "metadata": {}
        }
      ],
      "source": [
        "medias <- tapply(dados$Renda, list(dados$Cat.Anos.de.Estudo, dados$Cat.Sexo), mean)\n",
        "medias"
      ]
    },
    {
      "cell_type": "code",
      "execution_count": null,
      "metadata": {
        "vscode": {
          "languageId": "r"
        },
        "id": "SbI6lir48gch",
        "colab": {
          "base_uri": "https://localhost:8080/",
          "height": 600
        },
        "outputId": "2db7fbce-1b5e-4b1e-c422-b31165f439da"
      },
      "outputs": [
        {
          "output_type": "display_data",
          "data": {
            "text/html": [
              "<table class=\"dataframe\">\n",
              "<caption>A matrix: 17 × 2 of type dbl</caption>\n",
              "<thead>\n",
              "\t<tr><th></th><th scope=col>Masculino</th><th scope=col>Feminino</th></tr>\n",
              "</thead>\n",
              "<tbody>\n",
              "\t<tr><th scope=row>Sem instrução e menos de 1 ano</th><td> 700</td><td> 390</td></tr>\n",
              "\t<tr><th scope=row>1 ano</th><td> 788</td><td> 400</td></tr>\n",
              "\t<tr><th scope=row>2 anos</th><td> 788</td><td> 450</td></tr>\n",
              "\t<tr><th scope=row>3 anos</th><td> 800</td><td> 500</td></tr>\n",
              "\t<tr><th scope=row>4 anos</th><td>1000</td><td> 788</td></tr>\n",
              "\t<tr><th scope=row>5 anos</th><td>1045</td><td> 788</td></tr>\n",
              "\t<tr><th scope=row>6 anos</th><td>1200</td><td> 788</td></tr>\n",
              "\t<tr><th scope=row>7 anos</th><td>1200</td><td> 788</td></tr>\n",
              "\t<tr><th scope=row>8 anos</th><td>1300</td><td> 800</td></tr>\n",
              "\t<tr><th scope=row>9 anos</th><td>1200</td><td> 788</td></tr>\n",
              "\t<tr><th scope=row>10 anos</th><td>1218</td><td> 800</td></tr>\n",
              "\t<tr><th scope=row>11 anos</th><td>1500</td><td>1000</td></tr>\n",
              "\t<tr><th scope=row>12 anos</th><td>1800</td><td>1200</td></tr>\n",
              "\t<tr><th scope=row>13 anos</th><td>2400</td><td>1300</td></tr>\n",
              "\t<tr><th scope=row>14 anos</th><td>2500</td><td>1600</td></tr>\n",
              "\t<tr><th scope=row>15 anos ou mais</th><td>4000</td><td>2800</td></tr>\n",
              "\t<tr><th scope=row>Não determinados</th><td>1200</td><td> 788</td></tr>\n",
              "</tbody>\n",
              "</table>\n"
            ],
            "text/markdown": "\nA matrix: 17 × 2 of type dbl\n\n| <!--/--> | Masculino | Feminino |\n|---|---|---|\n| Sem instrução e menos de 1 ano |  700 |  390 |\n| 1 ano |  788 |  400 |\n| 2 anos |  788 |  450 |\n| 3 anos |  800 |  500 |\n| 4 anos | 1000 |  788 |\n| 5 anos | 1045 |  788 |\n| 6 anos | 1200 |  788 |\n| 7 anos | 1200 |  788 |\n| 8 anos | 1300 |  800 |\n| 9 anos | 1200 |  788 |\n| 10 anos | 1218 |  800 |\n| 11 anos | 1500 | 1000 |\n| 12 anos | 1800 | 1200 |\n| 13 anos | 2400 | 1300 |\n| 14 anos | 2500 | 1600 |\n| 15 anos ou mais | 4000 | 2800 |\n| Não determinados | 1200 |  788 |\n\n",
            "text/latex": "A matrix: 17 × 2 of type dbl\n\\begin{tabular}{r|ll}\n  & Masculino & Feminino\\\\\n\\hline\n\tSem instrução e menos de 1 ano &  700 &  390\\\\\n\t1 ano &  788 &  400\\\\\n\t2 anos &  788 &  450\\\\\n\t3 anos &  800 &  500\\\\\n\t4 anos & 1000 &  788\\\\\n\t5 anos & 1045 &  788\\\\\n\t6 anos & 1200 &  788\\\\\n\t7 anos & 1200 &  788\\\\\n\t8 anos & 1300 &  800\\\\\n\t9 anos & 1200 &  788\\\\\n\t10 anos & 1218 &  800\\\\\n\t11 anos & 1500 & 1000\\\\\n\t12 anos & 1800 & 1200\\\\\n\t13 anos & 2400 & 1300\\\\\n\t14 anos & 2500 & 1600\\\\\n\t15 anos ou mais & 4000 & 2800\\\\\n\tNão determinados & 1200 &  788\\\\\n\\end{tabular}\n",
            "text/plain": [
              "                               Masculino Feminino\n",
              "Sem instrução e menos de 1 ano  700       390    \n",
              "1 ano                           788       400    \n",
              "2 anos                          788       450    \n",
              "3 anos                          800       500    \n",
              "4 anos                         1000       788    \n",
              "5 anos                         1045       788    \n",
              "6 anos                         1200       788    \n",
              "7 anos                         1200       788    \n",
              "8 anos                         1300       800    \n",
              "9 anos                         1200       788    \n",
              "10 anos                        1218       800    \n",
              "11 anos                        1500      1000    \n",
              "12 anos                        1800      1200    \n",
              "13 anos                        2400      1300    \n",
              "14 anos                        2500      1600    \n",
              "15 anos ou mais                4000      2800    \n",
              "Não determinados               1200       788    "
            ]
          },
          "metadata": {}
        }
      ],
      "source": [
        "medianas <- tapply(dados$Renda, list(dados$Cat.Anos.de.Estudo, dados$Cat.Sexo), median)\n",
        "medianas"
      ]
    },
    {
      "cell_type": "code",
      "execution_count": null,
      "metadata": {
        "vscode": {
          "languageId": "r"
        },
        "id": "rZQgJICM8gch",
        "colab": {
          "base_uri": "https://localhost:8080/",
          "height": 600
        },
        "outputId": "c92ce611-bcd1-43e8-eb3b-6dddd1e391d6"
      },
      "outputs": [
        {
          "output_type": "display_data",
          "data": {
            "text/html": [
              "<table class=\"dataframe\">\n",
              "<caption>A matrix: 17 × 2 of type int</caption>\n",
              "<thead>\n",
              "\t<tr><th></th><th scope=col>Masculino</th><th scope=col>Feminino</th></tr>\n",
              "</thead>\n",
              "<tbody>\n",
              "\t<tr><th scope=row>Sem instrução e menos de 1 ano</th><td> 30000</td><td> 10000</td></tr>\n",
              "\t<tr><th scope=row>1 ano</th><td> 30000</td><td>  2000</td></tr>\n",
              "\t<tr><th scope=row>2 anos</th><td> 40000</td><td>  4000</td></tr>\n",
              "\t<tr><th scope=row>3 anos</th><td> 80000</td><td>  3500</td></tr>\n",
              "\t<tr><th scope=row>4 anos</th><td> 50000</td><td> 10000</td></tr>\n",
              "\t<tr><th scope=row>5 anos</th><td> 35000</td><td>  8000</td></tr>\n",
              "\t<tr><th scope=row>6 anos</th><td> 25000</td><td>  6000</td></tr>\n",
              "\t<tr><th scope=row>7 anos</th><td> 40000</td><td>  9000</td></tr>\n",
              "\t<tr><th scope=row>8 anos</th><td> 30000</td><td> 18000</td></tr>\n",
              "\t<tr><th scope=row>9 anos</th><td> 60000</td><td> 20000</td></tr>\n",
              "\t<tr><th scope=row>10 anos</th><td> 45000</td><td>  6000</td></tr>\n",
              "\t<tr><th scope=row>11 anos</th><td>200000</td><td>100000</td></tr>\n",
              "\t<tr><th scope=row>12 anos</th><td> 30000</td><td>120000</td></tr>\n",
              "\t<tr><th scope=row>13 anos</th><td> 25000</td><td> 20000</td></tr>\n",
              "\t<tr><th scope=row>14 anos</th><td> 50000</td><td> 20000</td></tr>\n",
              "\t<tr><th scope=row>15 anos ou mais</th><td>200000</td><td>100000</td></tr>\n",
              "\t<tr><th scope=row>Não determinados</th><td>  7000</td><td>  3000</td></tr>\n",
              "</tbody>\n",
              "</table>\n"
            ],
            "text/markdown": "\nA matrix: 17 × 2 of type int\n\n| <!--/--> | Masculino | Feminino |\n|---|---|---|\n| Sem instrução e menos de 1 ano |  30000 |  10000 |\n| 1 ano |  30000 |   2000 |\n| 2 anos |  40000 |   4000 |\n| 3 anos |  80000 |   3500 |\n| 4 anos |  50000 |  10000 |\n| 5 anos |  35000 |   8000 |\n| 6 anos |  25000 |   6000 |\n| 7 anos |  40000 |   9000 |\n| 8 anos |  30000 |  18000 |\n| 9 anos |  60000 |  20000 |\n| 10 anos |  45000 |   6000 |\n| 11 anos | 200000 | 100000 |\n| 12 anos |  30000 | 120000 |\n| 13 anos |  25000 |  20000 |\n| 14 anos |  50000 |  20000 |\n| 15 anos ou mais | 200000 | 100000 |\n| Não determinados |   7000 |   3000 |\n\n",
            "text/latex": "A matrix: 17 × 2 of type int\n\\begin{tabular}{r|ll}\n  & Masculino & Feminino\\\\\n\\hline\n\tSem instrução e menos de 1 ano &  30000 &  10000\\\\\n\t1 ano &  30000 &   2000\\\\\n\t2 anos &  40000 &   4000\\\\\n\t3 anos &  80000 &   3500\\\\\n\t4 anos &  50000 &  10000\\\\\n\t5 anos &  35000 &   8000\\\\\n\t6 anos &  25000 &   6000\\\\\n\t7 anos &  40000 &   9000\\\\\n\t8 anos &  30000 &  18000\\\\\n\t9 anos &  60000 &  20000\\\\\n\t10 anos &  45000 &   6000\\\\\n\t11 anos & 200000 & 100000\\\\\n\t12 anos &  30000 & 120000\\\\\n\t13 anos &  25000 &  20000\\\\\n\t14 anos &  50000 &  20000\\\\\n\t15 anos ou mais & 200000 & 100000\\\\\n\tNão determinados &   7000 &   3000\\\\\n\\end{tabular}\n",
            "text/plain": [
              "                               Masculino Feminino\n",
              "Sem instrução e menos de 1 ano  30000     10000  \n",
              "1 ano                           30000      2000  \n",
              "2 anos                          40000      4000  \n",
              "3 anos                          80000      3500  \n",
              "4 anos                          50000     10000  \n",
              "5 anos                          35000      8000  \n",
              "6 anos                          25000      6000  \n",
              "7 anos                          40000      9000  \n",
              "8 anos                          30000     18000  \n",
              "9 anos                          60000     20000  \n",
              "10 anos                         45000      6000  \n",
              "11 anos                        200000    100000  \n",
              "12 anos                         30000    120000  \n",
              "13 anos                         25000     20000  \n",
              "14 anos                         50000     20000  \n",
              "15 anos ou mais                200000    100000  \n",
              "Não determinados                 7000      3000  "
            ]
          },
          "metadata": {}
        }
      ],
      "source": [
        "maximos <- tapply(dados$Renda, list(dados$Cat.Anos.de.Estudo, dados$Cat.Sexo), max)\n",
        "maximos"
      ]
    },
    {
      "cell_type": "code",
      "execution_count": null,
      "metadata": {
        "vscode": {
          "languageId": "r"
        },
        "id": "RPZY1rN88gch",
        "colab": {
          "base_uri": "https://localhost:8080/",
          "height": 600
        },
        "outputId": "6755b1cb-55ad-4a0d-bdfc-d32e1fc4a980"
      },
      "outputs": [
        {
          "output_type": "display_data",
          "data": {
            "text/html": [
              "<table class=\"dataframe\">\n",
              "<caption>A matrix: 17 × 2 of type dbl</caption>\n",
              "<thead>\n",
              "\t<tr><th></th><th scope=col>Masculino</th><th scope=col>Feminino</th></tr>\n",
              "</thead>\n",
              "<tbody>\n",
              "\t<tr><th scope=row>Sem instrução e menos de 1 ano</th><td>1023.9049</td><td> 639.3115</td></tr>\n",
              "\t<tr><th scope=row>1 ano</th><td>1331.9506</td><td> 425.2918</td></tr>\n",
              "\t<tr><th scope=row>2 anos</th><td>1435.1738</td><td> 498.2342</td></tr>\n",
              "\t<tr><th scope=row>3 anos</th><td>2143.8001</td><td> 424.1244</td></tr>\n",
              "\t<tr><th scope=row>4 anos</th><td>1419.8218</td><td> 629.5534</td></tr>\n",
              "\t<tr><th scope=row>5 anos</th><td>1484.6506</td><td> 635.7826</td></tr>\n",
              "\t<tr><th scope=row>6 anos</th><td>1476.6286</td><td> 574.5470</td></tr>\n",
              "\t<tr><th scope=row>7 anos</th><td>1419.7087</td><td> 602.0380</td></tr>\n",
              "\t<tr><th scope=row>8 anos</th><td>1515.5837</td><td> 896.7812</td></tr>\n",
              "\t<tr><th scope=row>9 anos</th><td>2137.6648</td><td> 973.2217</td></tr>\n",
              "\t<tr><th scope=row>10 anos</th><td>2078.6097</td><td> 620.6119</td></tr>\n",
              "\t<tr><th scope=row>11 anos</th><td>2676.5389</td><td>1819.0404</td></tr>\n",
              "\t<tr><th scope=row>12 anos</th><td>2268.0815</td><td>4851.8335</td></tr>\n",
              "\t<tr><th scope=row>13 anos</th><td>2797.1168</td><td>2053.7898</td></tr>\n",
              "\t<tr><th scope=row>14 anos</th><td>3987.2150</td><td>2064.0833</td></tr>\n",
              "\t<tr><th scope=row>15 anos ou mais</th><td>7447.6136</td><td>4212.7707</td></tr>\n",
              "\t<tr><th scope=row>Não determinados</th><td> 979.6487</td><td> 459.9860</td></tr>\n",
              "</tbody>\n",
              "</table>\n"
            ],
            "text/markdown": "\nA matrix: 17 × 2 of type dbl\n\n| <!--/--> | Masculino | Feminino |\n|---|---|---|\n| Sem instrução e menos de 1 ano | 1023.9049 |  639.3115 |\n| 1 ano | 1331.9506 |  425.2918 |\n| 2 anos | 1435.1738 |  498.2342 |\n| 3 anos | 2143.8001 |  424.1244 |\n| 4 anos | 1419.8218 |  629.5534 |\n| 5 anos | 1484.6506 |  635.7826 |\n| 6 anos | 1476.6286 |  574.5470 |\n| 7 anos | 1419.7087 |  602.0380 |\n| 8 anos | 1515.5837 |  896.7812 |\n| 9 anos | 2137.6648 |  973.2217 |\n| 10 anos | 2078.6097 |  620.6119 |\n| 11 anos | 2676.5389 | 1819.0404 |\n| 12 anos | 2268.0815 | 4851.8335 |\n| 13 anos | 2797.1168 | 2053.7898 |\n| 14 anos | 3987.2150 | 2064.0833 |\n| 15 anos ou mais | 7447.6136 | 4212.7707 |\n| Não determinados |  979.6487 |  459.9860 |\n\n",
            "text/latex": "A matrix: 17 × 2 of type dbl\n\\begin{tabular}{r|ll}\n  & Masculino & Feminino\\\\\n\\hline\n\tSem instrução e menos de 1 ano & 1023.9049 &  639.3115\\\\\n\t1 ano & 1331.9506 &  425.2918\\\\\n\t2 anos & 1435.1738 &  498.2342\\\\\n\t3 anos & 2143.8001 &  424.1244\\\\\n\t4 anos & 1419.8218 &  629.5534\\\\\n\t5 anos & 1484.6506 &  635.7826\\\\\n\t6 anos & 1476.6286 &  574.5470\\\\\n\t7 anos & 1419.7087 &  602.0380\\\\\n\t8 anos & 1515.5837 &  896.7812\\\\\n\t9 anos & 2137.6648 &  973.2217\\\\\n\t10 anos & 2078.6097 &  620.6119\\\\\n\t11 anos & 2676.5389 & 1819.0404\\\\\n\t12 anos & 2268.0815 & 4851.8335\\\\\n\t13 anos & 2797.1168 & 2053.7898\\\\\n\t14 anos & 3987.2150 & 2064.0833\\\\\n\t15 anos ou mais & 7447.6136 & 4212.7707\\\\\n\tNão determinados &  979.6487 &  459.9860\\\\\n\\end{tabular}\n",
            "text/plain": [
              "                               Masculino Feminino \n",
              "Sem instrução e menos de 1 ano 1023.9049  639.3115\n",
              "1 ano                          1331.9506  425.2918\n",
              "2 anos                         1435.1738  498.2342\n",
              "3 anos                         2143.8001  424.1244\n",
              "4 anos                         1419.8218  629.5534\n",
              "5 anos                         1484.6506  635.7826\n",
              "6 anos                         1476.6286  574.5470\n",
              "7 anos                         1419.7087  602.0380\n",
              "8 anos                         1515.5837  896.7812\n",
              "9 anos                         2137.6648  973.2217\n",
              "10 anos                        2078.6097  620.6119\n",
              "11 anos                        2676.5389 1819.0404\n",
              "12 anos                        2268.0815 4851.8335\n",
              "13 anos                        2797.1168 2053.7898\n",
              "14 anos                        3987.2150 2064.0833\n",
              "15 anos ou mais                7447.6136 4212.7707\n",
              "Não determinados                979.6487  459.9860"
            ]
          },
          "metadata": {}
        }
      ],
      "source": [
        "desvio_padrao <- tapply(dados$Renda, list(dados$Cat.Anos.de.Estudo, dados$Cat.Sexo), sd)\n",
        "desvio_padrao"
      ]
    },
    {
      "cell_type": "markdown",
      "metadata": {
        "id": "1Rm1n7a_Tg2u"
      },
      "source": [
        "### Construa um box plot da variável RENDA segundo ANOS DE ESTUDO e SEXO\n",
        "#### <font color='blue'>É possível verificar algum comportamento diferenciado no rendimento entre os grupos de pessoas analisados? Avalie o gráfico e destaque os pontos mais importantes.</font>\n",
        "#### <font color='red'>1º - Utilize somente as informações de pessoas com renda abaixo de R$ 10.000</font>\n",
        "#### <font color='red'>2º - Para incluir uma terceira variável na construção de um boxplot utilize o parâmetro *fill* da seguinte maneira: *aes(x = Anos.de.Estudo, y = Renda, fill = Sexo)*.</font>"
      ]
    },
    {
      "cell_type": "code",
      "execution_count": null,
      "metadata": {
        "vscode": {
          "languageId": "r"
        },
        "id": "OAvY_hHO8gch",
        "colab": {
          "base_uri": "https://localhost:8080/",
          "height": 377
        },
        "outputId": "ca9bd0ea-4e21-45d9-b8dc-eda33844836f"
      },
      "outputs": [
        {
          "output_type": "display_data",
          "data": {
            "text/plain": [
              "plot without title"
            ],
            "image/png": "[encoded data removed]"
          },
          "metadata": {
            "image/png": {
              "width": 540,
              "height": 360
            }
          }
        }
      ],
      "source": [
        "ggplot(data = dados[dados$Renda < 10000, ], aes(x = Cat.Anos.de.Estudo, y = Renda, fill = Cat.Sexo)) +\n",
        "  geom_boxplot(size = 0.2) +\n",
        "  coord_flip() +\n",
        "  ylab(\"R$\") +\n",
        "  xlab(\"Cor\") +\n",
        "  guides(fill = guide_legend(title = 'Sexo')) +\n",
        "  ggtitle('Box-plot da RENDA por SEXO e COR') +\n",
        "  formatos"
      ]
    }
  ],
  "metadata": {
    "colab": {
      "provenance": []
    },
    "kernelspec": {
      "display_name": "R",
      "language": "R",
      "name": "ir"
    },
    "language_info": {
      "codemirror_mode": "r",
      "file_extension": ".r",
      "mimetype": "text/x-r-source",
      "name": "R",
      "pygments_lexer": "r",
      "version": "3.6.1"
    }
  },
  "nbformat": 4,
  "nbformat_minor": 0
}