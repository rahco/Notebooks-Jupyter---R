{
  "cells": [
    {
      "cell_type": "markdown",
      "metadata": {
        "id": "WvMflodMjQKe"
      },
      "source": [
        "# <font color=green size=10>CURSO DE ESTATÍSTICA - PARTE 3</font>\n",
        "\n",
        "***\n",
        "\n",
        "## Trabalho sobre testes de hipóteses\n",
        "\n",
        "Utilizando os conhecimentos adquiridos em nosso treinamento realize o teste de hipóteses proposto abaixo.\n",
        "\n",
        "Siga o roteiro proposto e vá completando as células vazias. Procure pensar em mais testes interessantes que podem ser realizados com o nosso dataset."
      ]
    },
    {
      "cell_type": "markdown",
      "source": [
        "***"
      ],
      "metadata": {
        "id": "w-rNbfLxCert"
      }
    },
    {
      "cell_type": "markdown",
      "source": [
        "## <font color='red'>Problema</font>"
      ],
      "metadata": {
        "id": "7bL7uBVgCkX_"
      }
    },
    {
      "cell_type": "markdown",
      "source": [
        "Você é um pesquisador que estuda o mercado de trabalho brasileiro e resolve estudar as diferenças salariais dos trabalhadores dos estados do Rio de Janeiro e de São Paulo. Durante sua pesquisa você verifica que, aparentemente, os rendimentos dos trabalhadores no estado do Rio de Janeiro são mais baixos que os rendimentos dos trabalhadores no estado de São Paulo. Para confirmar esta conclusão realize um teste de hipótese de comparação de médias em cima de duas amostras de trabalhadores dos dois estados. Siga as seguintes etapas:\n",
        "\n",
        "- Utilize o *dataset* 'dados_proj.csv' para rodar o teste. Este *dataset* tem uma amostra de **tamanho 500** dos rendimentos dos trabalhadores dos dois estados (RJ e SP).\n",
        "- Considere o **nível de significância de 5%**.\n",
        "- Teste a hipótese de que a **renda média dos trabalhadores do Rio de Janeiro é menor que a renda média dos trabalhadores de São Paulo**."
      ],
      "metadata": {
        "id": "3HEZF0RbCofS"
      }
    },
    {
      "cell_type": "markdown",
      "source": [
        "---"
      ],
      "metadata": {
        "id": "sLpuDfytCuTs"
      }
    },
    {
      "cell_type": "markdown",
      "source": [
        "### Importando o *dataset* 'dados_proj.csv'\n",
        "\n",
        "O *dataset* apresenta duas variáveis: **Renda_RJ** e **Renda_SP**."
      ],
      "metadata": {
        "id": "u3Z3Jl9ICxvm"
      }
    },
    {
      "cell_type": "code",
      "source": [
        "dados <- read.csv('dados_proj.csv')"
      ],
      "metadata": {
        "id": "PsSOiD_hC0en"
      },
      "execution_count": null,
      "outputs": []
    },
    {
      "cell_type": "code",
      "source": [
        "head(dados)"
      ],
      "metadata": {
        "colab": {
          "base_uri": "https://localhost:8080/",
          "height": 286
        },
        "id": "_uxjJXhvC0zG",
        "outputId": "4b80ad37-1256-48cb-f6b7-d1fb304e18eb"
      },
      "execution_count": null,
      "outputs": [
        {
          "output_type": "display_data",
          "data": {
            "text/html": [
              "<table class=\"dataframe\">\n",
              "<caption>A data.frame: 6 × 2</caption>\n",
              "<thead>\n",
              "\t<tr><th></th><th scope=col>Renda_RJ</th><th scope=col>Renda_SP</th></tr>\n",
              "\t<tr><th></th><th scope=col>&lt;int&gt;</th><th scope=col>&lt;int&gt;</th></tr>\n",
              "</thead>\n",
              "<tbody>\n",
              "\t<tr><th scope=row>1</th><td> 1300</td><td> 1800</td></tr>\n",
              "\t<tr><th scope=row>2</th><td>35000</td><td>  700</td></tr>\n",
              "\t<tr><th scope=row>3</th><td> 1300</td><td> 8000</td></tr>\n",
              "\t<tr><th scope=row>4</th><td> 2364</td><td> 1800</td></tr>\n",
              "\t<tr><th scope=row>5</th><td> 1500</td><td> 2364</td></tr>\n",
              "\t<tr><th scope=row>6</th><td> 2500</td><td>11000</td></tr>\n",
              "</tbody>\n",
              "</table>\n"
            ],
            "text/markdown": "\nA data.frame: 6 × 2\n\n| <!--/--> | Renda_RJ &lt;int&gt; | Renda_SP &lt;int&gt; |\n|---|---|---|\n| 1 |  1300 |  1800 |\n| 2 | 35000 |   700 |\n| 3 |  1300 |  8000 |\n| 4 |  2364 |  1800 |\n| 5 |  1500 |  2364 |\n| 6 |  2500 | 11000 |\n\n",
            "text/latex": "A data.frame: 6 × 2\n\\begin{tabular}{r|ll}\n  & Renda\\_RJ & Renda\\_SP\\\\\n  & <int> & <int>\\\\\n\\hline\n\t1 &  1300 &  1800\\\\\n\t2 & 35000 &   700\\\\\n\t3 &  1300 &  8000\\\\\n\t4 &  2364 &  1800\\\\\n\t5 &  1500 &  2364\\\\\n\t6 &  2500 & 11000\\\\\n\\end{tabular}\n",
            "text/plain": [
              "  Renda_RJ Renda_SP\n",
              "1  1300     1800   \n",
              "2 35000      700   \n",
              "3  1300     8000   \n",
              "4  2364     1800   \n",
              "5  1500     2364   \n",
              "6  2500    11000   "
            ]
          },
          "metadata": {}
        }
      ]
    },
    {
      "cell_type": "markdown",
      "source": [
        "### Dados do problema\n",
        "Obter média e desvio-padrão para as duas amostras"
      ],
      "metadata": {
        "id": "pO-rv7gUDAI0"
      }
    },
    {
      "cell_type": "code",
      "source": [
        "media_amostra_rj <- mean(dados$Renda_RJ)\n",
        "media_amostra_rj"
      ],
      "metadata": {
        "colab": {
          "base_uri": "https://localhost:8080/",
          "height": 34
        },
        "id": "xuEvgqC9DCPU",
        "outputId": "f1757a2e-a6e7-4f92-bbe1-3f08009088ce"
      },
      "execution_count": null,
      "outputs": [
        {
          "output_type": "display_data",
          "data": {
            "text/html": [
              "2240.518"
            ],
            "text/markdown": "2240.518",
            "text/latex": "2240.518",
            "text/plain": [
              "[1] 2240.518"
            ]
          },
          "metadata": {}
        }
      ]
    },
    {
      "cell_type": "code",
      "source": [
        "desvio_padrao_amostra_rj <-sd(dados$Renda_RJ)\n",
        "desvio_padrao_amostra_rj"
      ],
      "metadata": {
        "colab": {
          "base_uri": "https://localhost:8080/",
          "height": 34
        },
        "id": "eToBzgVhDEkF",
        "outputId": "918fccbc-b87f-40be-8fe4-5f1103b09483"
      },
      "execution_count": null,
      "outputs": [
        {
          "output_type": "display_data",
          "data": {
            "text/html": [
              "4643.83616186796"
            ],
            "text/markdown": "4643.83616186796",
            "text/latex": "4643.83616186796",
            "text/plain": [
              "[1] 4643.836"
            ]
          },
          "metadata": {}
        }
      ]
    },
    {
      "cell_type": "code",
      "source": [
        "media_amostra_sp <- mean(dados$Renda_SP)\n",
        "media_amostra_sp"
      ],
      "metadata": {
        "colab": {
          "base_uri": "https://localhost:8080/",
          "height": 34
        },
        "id": "I_G_3P1fDGOQ",
        "outputId": "c2042100-4f43-4bd2-a705-5bc84d90f2b8"
      },
      "execution_count": null,
      "outputs": [
        {
          "output_type": "display_data",
          "data": {
            "text/html": [
              "2839.352"
            ],
            "text/markdown": "2839.352",
            "text/latex": "2839.352",
            "text/plain": [
              "[1] 2839.352"
            ]
          },
          "metadata": {}
        }
      ]
    },
    {
      "cell_type": "code",
      "source": [
        "desvio_padrao_amostra_sp <- sd(dados$Renda_SP)\n",
        "desvio_padrao_amostra_sp"
      ],
      "metadata": {
        "colab": {
          "base_uri": "https://localhost:8080/",
          "height": 34
        },
        "id": "yrSqSNZkDIK_",
        "outputId": "54355645-5eac-43a5-9f0f-7ed1b3f04a4e"
      },
      "execution_count": null,
      "outputs": [
        {
          "output_type": "display_data",
          "data": {
            "text/html": [
              "3699.38422543412"
            ],
            "text/markdown": "3699.38422543412",
            "text/latex": "3699.38422543412",
            "text/plain": [
              "[1] 3699.384"
            ]
          },
          "metadata": {}
        }
      ]
    },
    {
      "cell_type": "markdown",
      "source": [
        "Variáveis com os dados do problema"
      ],
      "metadata": {
        "id": "swkJDvU8DSRr"
      }
    },
    {
      "cell_type": "code",
      "source": [
        "significancia <- 0.05\n",
        "confianca <- 1 - significancia\n",
        "n_rj <- nrow(dados)\n",
        "n_sp <- nrow(dados)\n",
        "D_0 <- 0"
      ],
      "metadata": {
        "id": "xRS5wjJxDUys"
      },
      "execution_count": null,
      "outputs": []
    },
    {
      "cell_type": "markdown",
      "source": [
        "## Lembre-se..."
      ],
      "metadata": {
        "id": "5zv6J3tLDW-G"
      }
    },
    {
      "cell_type": "markdown",
      "source": [
        "<img src='https://caelum-online-public.s3.amazonaws.com/1229-estatistica-parte3/01/img014.png' width=90%>"
      ],
      "metadata": {
        "id": "s7koI4TWDZdO"
      }
    },
    {
      "cell_type": "markdown",
      "source": [
        "---"
      ],
      "metadata": {
        "id": "g0KyoobEDe3D"
      }
    },
    {
      "metadata": {
        "id": "Ed6V6KOFDmyP"
      },
      "cell_type": "markdown",
      "source": [
        "### **Passo 1** - formulação das hipóteses $H_0$ e $H_1$\n",
        "\n",
        "#### <font color='red'>Lembre-se, a hipótese nula sempre contém a alegação de igualdade</font>"
      ]
    },
    {
      "metadata": {
        "id": "OfxYs9E2Dv3U"
      },
      "cell_type": "markdown",
      "source": [
        "### $\\mu_1 \\Rightarrow$ Rendimento médio no Rio de Janeiro\n",
        "### $\\mu_2 \\Rightarrow$ Rendimento médio em São Paulo\n",
        "\n",
        "### $\n",
        "\\begin{cases}\n",
        "H_0: \\mu_1 \\geq \\mu_2\\\\\n",
        "H_1: \\mu_1 < \\mu_2\n",
        "\\end{cases}\n",
        "$\n",
        "\n",
        "### ou\n",
        "\n",
        "### $\n",
        "\\begin{cases}\n",
        "H_0: \\mu_1 -\\mu_2 \\geq 0\\\\\n",
        "H_1: \\mu_1 -\\mu_2 < 0\n",
        "\\end{cases}\n",
        "$"
      ]
    },
    {
      "metadata": {
        "id": "6BpqKxrZDzCl"
      },
      "cell_type": "markdown",
      "source": [
        "---"
      ]
    },
    {
      "metadata": {
        "id": "vZYuQciND0Nt"
      },
      "cell_type": "markdown",
      "source": [
        "### **Passo 2** - escolha da distribuição amostral adequada"
      ]
    },
    {
      "metadata": {
        "id": "Hh5qJPwqPVic"
      },
      "cell_type": "markdown",
      "source": [
        "<img src='https://caelum-online-public.s3.amazonaws.com/1229-estatistica-parte3/01/img003.png' width=70%>"
      ]
    },
    {
      "metadata": {
        "id": "kFcUthGhD3om"
      },
      "cell_type": "markdown",
      "source": [
        "### O tamanho da amostra é maior que 30?\n",
        "#### Resp.: Sim\n",
        "\n",
        "### O desvio padrão populacional é conhecido?\n",
        "#### Resp.: Não"
      ]
    },
    {
      "metadata": {
        "id": "x4KX3S5wD513"
      },
      "cell_type": "markdown",
      "source": [
        "---"
      ]
    },
    {
      "metadata": {
        "id": "KDyBdaSLD7IX"
      },
      "cell_type": "markdown",
      "source": [
        "### **Passo 3** - fixação da significância do teste ($\\alpha$)"
      ]
    },
    {
      "metadata": {
        "colab": {
          "base_uri": "https://localhost:8080/",
          "height": 34
        },
        "id": "b3Y_CZmzpsls",
        "outputId": "76e3eb46-2531-4388-99c7-5f32674b5b60",
        "trusted": true
      },
      "cell_type": "code",
      "source": [
        "probabilidade <- significancia\n",
        "probabilidade"
      ],
      "execution_count": null,
      "outputs": [
        {
          "output_type": "display_data",
          "data": {
            "text/html": [
              "0.05"
            ],
            "text/markdown": "0.05",
            "text/latex": "0.05",
            "text/plain": [
              "[1] 0.05"
            ]
          },
          "metadata": {}
        }
      ]
    },
    {
      "metadata": {
        "colab": {
          "base_uri": "https://localhost:8080/",
          "height": 34
        },
        "id": "qNse2bFRpslu",
        "outputId": "d34d112a-4c47-4482-f261-9058f5de60d1",
        "trusted": true
      },
      "cell_type": "code",
      "source": [
        "z_alpha <- qnorm(probabilidade)\n",
        "round(z_alpha, 2)"
      ],
      "execution_count": null,
      "outputs": [
        {
          "output_type": "display_data",
          "data": {
            "text/html": [
              "-1.64"
            ],
            "text/markdown": "-1.64",
            "text/latex": "-1.64",
            "text/plain": [
              "[1] -1.64"
            ]
          },
          "metadata": {}
        }
      ]
    },
    {
      "metadata": {
        "id": "dwxf5zSWCVWi"
      },
      "cell_type": "markdown",
      "source": [
        "![Estatística-Teste](https://caelum-online-public.s3.amazonaws.com/1229-estatistica-parte3/01/img028.png)"
      ]
    },
    {
      "metadata": {
        "id": "xUhiEXRMpslv"
      },
      "cell_type": "markdown",
      "source": [
        "---"
      ]
    },
    {
      "metadata": {
        "id": "iooB1aPHpslv"
      },
      "cell_type": "markdown",
      "source": [
        "### **Passo 4** - cálculo da estatística-teste e verificação desse valor com as áreas de aceitação e rejeição do teste\n",
        "\n",
        "# $$z = \\frac{(\\bar{x_1} - \\bar{x_2})-D_0}{\\sqrt{\\frac{s_1^2}{n_1} + \\frac{s_2^2}{n_2}}}$$"
      ]
    },
    {
      "metadata": {
        "colab": {
          "base_uri": "https://localhost:8080/",
          "height": 34
        },
        "id": "AL2i9JOTpslw",
        "outputId": "b4576c90-6ba9-4e42-d7e6-49071d607020",
        "trusted": true
      },
      "cell_type": "code",
      "source": [
        "numerador <- (media_amostra_rj - media_amostra_sp) - D_0\n",
        "\n",
        "denominador <- sqrt((desvio_padrao_amostra_rj ** 2 / n_rj) + (desvio_padrao_amostra_sp ** 2 / n_sp))\n",
        "\n",
        "z <- numerador / denominador\n",
        "\n",
        "z"
      ],
      "execution_count": null,
      "outputs": [
        {
          "output_type": "display_data",
          "data": {
            "text/html": [
              "-2.25531827360856"
            ],
            "text/markdown": "-2.25531827360856",
            "text/latex": "-2.25531827360856",
            "text/plain": [
              "[1] -2.255318"
            ]
          },
          "metadata": {}
        }
      ]
    },
    {
      "metadata": {
        "id": "DX7qzAKCCVWj"
      },
      "cell_type": "markdown",
      "source": [
        "![Estatística-Teste](https://caelum-online-public.s3.amazonaws.com/1229-estatistica-parte3/01/img029.png)"
      ]
    },
    {
      "metadata": {
        "id": "4dn58Fc2pslx"
      },
      "cell_type": "markdown",
      "source": [
        "---"
      ]
    },
    {
      "metadata": {
        "id": "P-7NL33-pslx"
      },
      "cell_type": "markdown",
      "source": [
        "### **Passo 5** - Aceitação ou rejeição da hipótese nula"
      ]
    },
    {
      "metadata": {
        "id": "QrObW-BXpsly"
      },
      "cell_type": "markdown",
      "source": [
        "### <font color='red'>Critério do valor crítico</font>"
      ]
    },
    {
      "metadata": {
        "colab": {
          "base_uri": "https://localhost:8080/",
          "height": 34
        },
        "id": "tkJSji7gpsly",
        "outputId": "9da94550-b067-45f0-8e53-db87f53f7523",
        "trusted": true
      },
      "cell_type": "code",
      "source": [
        "z <= z_alpha"
      ],
      "execution_count": null,
      "outputs": [
        {
          "output_type": "display_data",
          "data": {
            "text/html": [
              "TRUE"
            ],
            "text/markdown": "TRUE",
            "text/latex": "TRUE",
            "text/plain": [
              "[1] TRUE"
            ]
          },
          "metadata": {}
        }
      ]
    },
    {
      "metadata": {
        "id": "cyuNEHfwpsl0"
      },
      "cell_type": "markdown",
      "source": [
        "### <font color='red'>Critério do valor $p$</font>"
      ]
    },
    {
      "metadata": {
        "trusted": true,
        "id": "b2Gkzms0CVWk",
        "outputId": "bda240b5-3901-44c3-9327-ab0424c2e5d3",
        "colab": {
          "base_uri": "https://localhost:8080/",
          "height": 34
        }
      },
      "cell_type": "code",
      "source": [
        "z"
      ],
      "execution_count": null,
      "outputs": [
        {
          "output_type": "display_data",
          "data": {
            "text/html": [
              "-2.25531827360856"
            ],
            "text/markdown": "-2.25531827360856",
            "text/latex": "-2.25531827360856",
            "text/plain": [
              "[1] -2.255318"
            ]
          },
          "metadata": {}
        }
      ]
    },
    {
      "metadata": {
        "trusted": true,
        "id": "uhRrKr_ACVWl",
        "outputId": "eae1796f-c037-453f-865c-3ae58a724ac3",
        "colab": {
          "base_uri": "https://localhost:8080/",
          "height": 34
        }
      },
      "cell_type": "code",
      "source": [
        "pnorm(z, lower.tail = T)"
      ],
      "execution_count": null,
      "outputs": [
        {
          "output_type": "display_data",
          "data": {
            "text/html": [
              "0.0120566792156934"
            ],
            "text/markdown": "0.0120566792156934",
            "text/latex": "0.0120566792156934",
            "text/plain": [
              "[1] 0.01205668"
            ]
          },
          "metadata": {}
        }
      ]
    },
    {
      "cell_type": "code",
      "source": [
        "p_valor <- pnorm(z, lower.tail = T)\n",
        "p_valor"
      ],
      "metadata": {
        "colab": {
          "base_uri": "https://localhost:8080/",
          "height": 34
        },
        "id": "TaqeYTC-E3F5",
        "outputId": "acfc5599-7d73-42d4-df70-38219b0bf833"
      },
      "execution_count": null,
      "outputs": [
        {
          "output_type": "display_data",
          "data": {
            "text/html": [
              "0.0120566792156934"
            ],
            "text/markdown": "0.0120566792156934",
            "text/latex": "0.0120566792156934",
            "text/plain": [
              "[1] 0.01205668"
            ]
          },
          "metadata": {}
        }
      ]
    },
    {
      "cell_type": "code",
      "source": [
        "p_valor <= significancia"
      ],
      "metadata": {
        "colab": {
          "base_uri": "https://localhost:8080/",
          "height": 34
        },
        "id": "bPH8rfWDE4UZ",
        "outputId": "31b2fb2b-c51d-41fc-96cc-52ee533dcfa0"
      },
      "execution_count": null,
      "outputs": [
        {
          "output_type": "display_data",
          "data": {
            "text/html": [
              "TRUE"
            ],
            "text/markdown": "TRUE",
            "text/latex": "TRUE",
            "text/plain": [
              "[1] TRUE"
            ]
          },
          "metadata": {}
        }
      ]
    },
    {
      "metadata": {
        "id": "UnBVO1uDpslz"
      },
      "cell_type": "markdown",
      "source": [
        "### <font color='green'>Conclusão: Com um nível de confiança de 95% rejeitamos $H_0$, isto é, concluímos que a renda média no estado do Rio de Janeiro é menor que a renda média no estado de São Paulo.</font>"
      ]
    }
  ],
  "metadata": {
    "colab": {
      "provenance": []
    },
    "kernelspec": {
      "display_name": "R",
      "language": "R",
      "name": "ir"
    },
    "language_info": {
      "codemirror_mode": "r",
      "file_extension": ".r",
      "mimetype": "text/x-r-source",
      "name": "R",
      "pygments_lexer": "r",
      "version": "3.6.1"
    }
  },
  "nbformat": 4,
  "nbformat_minor": 0
}