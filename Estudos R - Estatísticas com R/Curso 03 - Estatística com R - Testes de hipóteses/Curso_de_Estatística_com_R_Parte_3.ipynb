{
  "cells": [
    {
      "cell_type": "markdown",
      "metadata": {
        "id": "WvMflodMjQKe"
      },
      "source": [
        "# <font color=green size=10>CURSO DE ESTATÍSTICA - PARTE 3</font>\n",
        "\n",
        "***"
      ]
    },
    {
      "cell_type": "markdown",
      "metadata": {
        "id": "cVgsZ_E3jQKg"
      },
      "source": [
        "# <font color=green>1 CONHECENDO OS DADOS</font>\n",
        "***"
      ]
    },
    {
      "cell_type": "markdown",
      "metadata": {
        "id": "TDjqYYNojQKh"
      },
      "source": [
        "## <font color=green>1.1 Dataset do projeto</font>\n",
        "***"
      ]
    },
    {
      "cell_type": "markdown",
      "metadata": {
        "id": "iN1gIbaKjQKh"
      },
      "source": [
        "### Pesquisa Nacional por Amostra de Domicílios - 2015\n",
        "\n",
        "A <b>Pesquisa Nacional por Amostra de Domicílios - PNAD</b> investiga anualmente, de forma permanente, características gerais da população, de educação, trabalho, rendimento e habitação e outras, com periodicidade variável, de acordo com as necessidades de informação para o país, como as características sobre migração, fecundidade, nupcialidade, saúde, segurança alimentar, entre outros temas. O levantamento dessas estatísticas constitui, ao longo dos 49 anos de realização da pesquisa, um importante instrumento para formulação, validação e avaliação de políticas orientadas para o desenvolvimento socioeconômico e a melhoria das condições de vida no Brasil."
      ]
    },
    {
      "cell_type": "markdown",
      "metadata": {
        "id": "U6V7br1RjQKi"
      },
      "source": [
        "### Fonte dos Dados\n",
        "\n",
        "https://ww2.ibge.gov.br/home/estatistica/populacao/trabalhoerendimento/pnad2015/microdados.shtm"
      ]
    },
    {
      "cell_type": "markdown",
      "metadata": {
        "id": "r0Fe_qnzjQKj"
      },
      "source": [
        "### Variáveis utilizadas\n",
        "\n",
        "> ### Renda\n",
        "> ***\n",
        "\n",
        "Rendimento mensal do trabalho principal para pessoas de 10 anos ou mais de idade.\n",
        "\n",
        "> ### Idade\n",
        "> ***\n",
        "\n",
        "Idade do morador na data de referência em anos.\n",
        "\n",
        "> ### Altura (elaboração própria)\n",
        "> ***\n",
        "\n",
        "Altura do morador em metros.\n",
        "\n",
        "> ### UF\n",
        "> ***\n",
        "\n",
        "|Código|Descrição|\n",
        "|---|---|\n",
        "|11|Rondônia|\n",
        "|12|Acre|\n",
        "|13|Amazonas|\n",
        "|14|Roraima|\n",
        "|15|Pará|\n",
        "|16|Amapá|\n",
        "|17|Tocantins|\n",
        "|21|Maranhão|\n",
        "|22|Piauí|\n",
        "|23|Ceará|\n",
        "|24|Rio Grande do Norte|\n",
        "|25|Paraíba|\n",
        "|26|Pernambuco|\n",
        "|27|Alagoas|\n",
        "|28|Sergipe|\n",
        "|29|Bahia|\n",
        "|31|Minas Gerais|\n",
        "|32|Espírito Santo|\n",
        "|33|Rio de Janeiro|\n",
        "|35|São Paulo|\n",
        "|41|Paraná|\n",
        "|42|Santa Catarina|\n",
        "|43|Rio Grande do Sul|\n",
        "|50|Mato Grosso do Sul|\n",
        "|51|Mato Grosso|\n",
        "|52|Goiás|\n",
        "|53|Distrito Federal|\n",
        "\n",
        "> ### Sexo\t\n",
        "> ***\n",
        "\n",
        "|Código|Descrição|\n",
        "|---|---|\n",
        "|0|Masculino|\n",
        "|1|Feminino|\n",
        "\n",
        "> ### Anos de Estudo\n",
        "> ***\n",
        "\n",
        "|Código|Descrição|\n",
        "|---|---|\n",
        "|1|Sem instrução e menos de 1 ano|\n",
        "|2|1 ano|\n",
        "|3|2 anos|\n",
        "|4|3 anos|\n",
        "|5|4 anos|\n",
        "|6|5 anos|\n",
        "|7|6 anos|\n",
        "|8|7 anos|\n",
        "|9|8 anos|\n",
        "|10|9 anos|\n",
        "|11|10 anos|\n",
        "|12|11 anos|\n",
        "|13|12 anos|\n",
        "|14|13 anos|\n",
        "|15|14 anos|\n",
        "|16|15 anos ou mais|\n",
        "|17|Não determinados| \n",
        "||Não aplicável|\n",
        "\n",
        "> ### Cor\n",
        "> ***\n",
        "\n",
        "|Código|Descrição|\n",
        "|---|---|\n",
        "|0|Indígena|\n",
        "|2|Branca|\n",
        "|4|Preta|\n",
        "|6|Amarela|\n",
        "|8|Parda|\n",
        "|9|Sem declaração|"
      ]
    },
    {
      "cell_type": "markdown",
      "metadata": {
        "id": "OK1IQH5cX7Gb"
      },
      "source": [
        "#### <font color='red'>Observação</font>\n",
        "***\n",
        "> Os seguintes tratamentos foram realizados nos dados originais:\n",
        "> 1. Foram eliminados os registros onde a <b>Renda</b> era inválida (999 999 999 999);\n",
        "> 2. Foram eliminados os registros onde a <b>Renda</b> era missing;\n",
        "> 3. Foram considerados somente os registros das <b>Pessoas de Referência</b> de cada domicílio (responsável pelo domicílio)."
      ]
    },
    {
      "cell_type": "markdown",
      "metadata": {
        "id": "eB9VDZZl3u6N"
      },
      "source": [
        "### Configurações"
      ]
    },
    {
      "cell_type": "code",
      "execution_count": null,
      "metadata": {
        "id": "ZxPbQBn23u6O"
      },
      "outputs": [],
      "source": [
        "library(dplyr)\n",
        "library(ggplot2)"
      ]
    },
    {
      "cell_type": "code",
      "execution_count": null,
      "metadata": {
        "id": "6lb1la7g3u6P"
      },
      "outputs": [],
      "source": [
        "options(repr.plot.width = 7, repr.plot.height = 4)"
      ]
    },
    {
      "cell_type": "markdown",
      "metadata": {
        "id": "8Rw70V6ojQKk"
      },
      "source": [
        "### Importando dataset do projeto"
      ]
    },
    {
      "cell_type": "code",
      "execution_count": null,
      "metadata": {
        "id": "ufRZ7TLwjQKo"
      },
      "outputs": [],
      "source": [
        "dados <- read.csv('dados.csv')"
      ]
    },
    {
      "cell_type": "code",
      "execution_count": null,
      "metadata": {
        "colab": {
          "base_uri": "https://localhost:8080/",
          "height": 286
        },
        "id": "GsC_WhLFjQKq",
        "outputId": "7bad8f94-c7cd-4891-988b-2ca7c0c5dbff",
        "scrolled": true
      },
      "outputs": [
        {
          "output_type": "display_data",
          "data": {
            "text/html": [
              "<table class=\"dataframe\">\n",
              "<caption>A data.frame: 6 × 7</caption>\n",
              "<thead>\n",
              "\t<tr><th></th><th scope=col>UF</th><th scope=col>Sexo</th><th scope=col>Idade</th><th scope=col>Cor</th><th scope=col>Anos.de.Estudo</th><th scope=col>Renda</th><th scope=col>Altura</th></tr>\n",
              "\t<tr><th></th><th scope=col>&lt;int&gt;</th><th scope=col>&lt;int&gt;</th><th scope=col>&lt;int&gt;</th><th scope=col>&lt;int&gt;</th><th scope=col>&lt;int&gt;</th><th scope=col>&lt;int&gt;</th><th scope=col>&lt;dbl&gt;</th></tr>\n",
              "</thead>\n",
              "<tbody>\n",
              "\t<tr><th scope=row>1</th><td>11</td><td>0</td><td>23</td><td>8</td><td>12</td><td> 800</td><td>1.603808</td></tr>\n",
              "\t<tr><th scope=row>2</th><td>11</td><td>1</td><td>23</td><td>2</td><td>12</td><td>1150</td><td>1.739790</td></tr>\n",
              "\t<tr><th scope=row>3</th><td>11</td><td>1</td><td>35</td><td>8</td><td>15</td><td> 880</td><td>1.760444</td></tr>\n",
              "\t<tr><th scope=row>4</th><td>11</td><td>0</td><td>46</td><td>2</td><td> 6</td><td>3500</td><td>1.783158</td></tr>\n",
              "\t<tr><th scope=row>5</th><td>11</td><td>1</td><td>47</td><td>8</td><td> 9</td><td> 150</td><td>1.690631</td></tr>\n",
              "\t<tr><th scope=row>6</th><td>11</td><td>1</td><td>34</td><td>8</td><td>12</td><td> 790</td><td>1.637906</td></tr>\n",
              "</tbody>\n",
              "</table>\n"
            ],
            "text/markdown": "\nA data.frame: 6 × 7\n\n| <!--/--> | UF &lt;int&gt; | Sexo &lt;int&gt; | Idade &lt;int&gt; | Cor &lt;int&gt; | Anos.de.Estudo &lt;int&gt; | Renda &lt;int&gt; | Altura &lt;dbl&gt; |\n|---|---|---|---|---|---|---|---|\n| 1 | 11 | 0 | 23 | 8 | 12 |  800 | 1.603808 |\n| 2 | 11 | 1 | 23 | 2 | 12 | 1150 | 1.739790 |\n| 3 | 11 | 1 | 35 | 8 | 15 |  880 | 1.760444 |\n| 4 | 11 | 0 | 46 | 2 |  6 | 3500 | 1.783158 |\n| 5 | 11 | 1 | 47 | 8 |  9 |  150 | 1.690631 |\n| 6 | 11 | 1 | 34 | 8 | 12 |  790 | 1.637906 |\n\n",
            "text/latex": "A data.frame: 6 × 7\n\\begin{tabular}{r|lllllll}\n  & UF & Sexo & Idade & Cor & Anos.de.Estudo & Renda & Altura\\\\\n  & <int> & <int> & <int> & <int> & <int> & <int> & <dbl>\\\\\n\\hline\n\t1 & 11 & 0 & 23 & 8 & 12 &  800 & 1.603808\\\\\n\t2 & 11 & 1 & 23 & 2 & 12 & 1150 & 1.739790\\\\\n\t3 & 11 & 1 & 35 & 8 & 15 &  880 & 1.760444\\\\\n\t4 & 11 & 0 & 46 & 2 &  6 & 3500 & 1.783158\\\\\n\t5 & 11 & 1 & 47 & 8 &  9 &  150 & 1.690631\\\\\n\t6 & 11 & 1 & 34 & 8 & 12 &  790 & 1.637906\\\\\n\\end{tabular}\n",
            "text/plain": [
              "  UF Sexo Idade Cor Anos.de.Estudo Renda Altura  \n",
              "1 11 0    23    8   12              800  1.603808\n",
              "2 11 1    23    2   12             1150  1.739790\n",
              "3 11 1    35    8   15              880  1.760444\n",
              "4 11 0    46    2    6             3500  1.783158\n",
              "5 11 1    47    8    9              150  1.690631\n",
              "6 11 1    34    8   12              790  1.637906"
            ]
          },
          "metadata": {}
        }
      ],
      "source": [
        "head(dados)"
      ]
    },
    {
      "cell_type": "code",
      "execution_count": null,
      "metadata": {
        "colab": {
          "base_uri": "https://localhost:8080/",
          "height": 34
        },
        "id": "XovRvtjb3u6P",
        "outputId": "29bc91ae-d88d-42de-cac5-beece836e2b2"
      },
      "outputs": [
        {
          "output_type": "display_data",
          "data": {
            "text/html": [
              "76840"
            ],
            "text/markdown": "76840",
            "text/latex": "76840",
            "text/plain": [
              "[1] 76840"
            ]
          },
          "metadata": {}
        }
      ],
      "source": [
        "nrow(dados)"
      ]
    },
    {
      "cell_type": "markdown",
      "metadata": {
        "id": "nk65O0lepz57"
      },
      "source": [
        "# <font color=green>2 TESTES DE HIPÓTESES</font>\n",
        "***"
      ]
    },
    {
      "cell_type": "markdown",
      "metadata": {
        "id": "OjHpQHFHpsi3"
      },
      "source": [
        "Testes estatísticos são regras de decisão que permitem avaliar a razoabilidade das hipóteses feitas sobre os parâmetros populacionais e aceitá-las ou rejeitá-las como provavelmente verdadeiras ou falsas tendo como base uma amostra."
      ]
    },
    {
      "cell_type": "markdown",
      "metadata": {
        "id": "qjqWccNspsi4"
      },
      "source": [
        "## <font color=green>2.1 Teste de normalidade</font>\n",
        "***"
      ]
    },
    {
      "cell_type": "markdown",
      "metadata": {
        "id": "abDn-nKLpsi7"
      },
      "source": [
        "A função *shapiro.test* testa a hipótese nula $H_0$ de que a amostra é proveniente de uma distribuição normal, ou seja, os dados são normalmente distribuídos."
      ]
    },
    {
      "cell_type": "markdown",
      "metadata": {
        "id": "O79kHHwYpsi5"
      },
      "source": [
        "#### <font color=red>Documentações:\n",
        "\n",
        "- [**shapiro.test**](https://www.rdocumentation.org/packages/stats/versions/3.6.1/topics/shapiro.test)"
      ]
    },
    {
      "cell_type": "markdown",
      "metadata": {
        "id": "gRDJ86zTpsi8"
      },
      "source": [
        "### Definindo a significância do teste ($\\alpha$)"
      ]
    },
    {
      "cell_type": "code",
      "execution_count": null,
      "metadata": {
        "id": "3s6ZAdCOpsi9"
      },
      "outputs": [],
      "source": [
        "significancia <- 0.05"
      ]
    },
    {
      "cell_type": "markdown",
      "metadata": {
        "id": "sppYIE51psi_"
      },
      "source": [
        "### Testando a variável Renda"
      ]
    },
    {
      "cell_type": "code",
      "execution_count": null,
      "metadata": {
        "colab": {
          "base_uri": "https://localhost:8080/",
          "height": 274
        },
        "id": "IZpa91lHpsi_",
        "outputId": "7b01f562-1588-456e-a2dc-dba937743eb2"
      },
      "outputs": [
        {
          "output_type": "stream",
          "name": "stderr",
          "text": [
            "\u001b[1m\u001b[22m`stat_bin()` using `bins = 30`. Pick better value with `binwidth`.\n"
          ]
        },
        {
          "output_type": "display_data",
          "data": {
            "text/plain": [
              "plot without title"
            ],
            "image/png": "[encoded data removed]"
          },
          "metadata": {
            "image/png": {
              "width": 420,
              "height": 240
            }
          }
        }
      ],
      "source": [
        "ggplot(dados, aes(x = Renda)) + \n",
        "    geom_histogram() + \n",
        "    ylab(\"Frequência\") + \n",
        "    xlab(\"Renda\") + \n",
        "    ggtitle('Histograma Renda') +\n",
        "    theme(plot.title=element_text(hjust = 0.5))"
      ]
    },
    {
      "cell_type": "markdown",
      "metadata": {
        "id": "qKeNZ0PUpsjC"
      },
      "source": [
        "### <font color='red'>Critério do valor $p$</font>\n",
        "\n",
        "> ### Rejeitar $H_0$ se o valor $p\\leq \\alpha$"
      ]
    },
    {
      "cell_type": "code",
      "execution_count": null,
      "metadata": {
        "id": "Qm1pat4e3u6R"
      },
      "outputs": [],
      "source": [
        "set.seed(2911)\n",
        "amostra <- sample_n(dados, 5000)"
      ]
    },
    {
      "cell_type": "code",
      "execution_count": null,
      "metadata": {
        "colab": {
          "base_uri": "https://localhost:8080/",
          "height": 104
        },
        "id": "oCw4sPsG3u6R",
        "outputId": "c1645ceb-261d-4541-8ec8-b2d3a915f2ff"
      },
      "outputs": [
        {
          "output_type": "display_data",
          "data": {
            "text/plain": [
              "\n",
              "\tShapiro-Wilk normality test\n",
              "\n",
              "data:  amostra$Renda\n",
              "W = 0.52945, p-value < 2.2e-16\n"
            ]
          },
          "metadata": {}
        }
      ],
      "source": [
        "# Com a função shapiro.test obtemos o p-value de uma coluna do DF de amostra.\n",
        "\n",
        "resultado <- shapiro.test(amostra$Renda)\n",
        "resultado"
      ]
    },
    {
      "cell_type": "code",
      "source": [
        "resultado$p.value"
      ],
      "metadata": {
        "colab": {
          "base_uri": "https://localhost:8080/",
          "height": 34
        },
        "id": "aswolVoH5zJg",
        "outputId": "ded38bd6-3cb0-47db-98a6-2503e0b8df5c"
      },
      "execution_count": null,
      "outputs": [
        {
          "output_type": "display_data",
          "data": {
            "text/html": [
              "7.66107870913039e-79"
            ],
            "text/markdown": "7.66107870913039e-79",
            "text/latex": "7.66107870913039e-79",
            "text/plain": [
              "[1] 7.661079e-79"
            ]
          },
          "metadata": {}
        }
      ]
    },
    {
      "cell_type": "code",
      "execution_count": null,
      "metadata": {
        "colab": {
          "base_uri": "https://localhost:8080/",
          "height": 34
        },
        "id": "A0oRjttn3u6R",
        "outputId": "2b69b31f-5140-4e78-b0b3-b34bc9275bf9"
      },
      "outputs": [
        {
          "output_type": "display_data",
          "data": {
            "text/html": [
              "7.66107870913039e-79"
            ],
            "text/markdown": "7.66107870913039e-79",
            "text/latex": "7.66107870913039e-79",
            "text/plain": [
              "[1] 7.661079e-79"
            ]
          },
          "metadata": {}
        }
      ],
      "source": [
        "p_valor <- resultado$p.value\n",
        "p_valor"
      ]
    },
    {
      "cell_type": "code",
      "execution_count": null,
      "metadata": {
        "colab": {
          "base_uri": "https://localhost:8080/",
          "height": 34
        },
        "id": "OSnwIOb-3u6R",
        "outputId": "0e82ea90-9774-4549-b0c6-967976a10c0b"
      },
      "outputs": [
        {
          "output_type": "display_data",
          "data": {
            "text/html": [
              "<strong>W:</strong> 0.529447077702506"
            ],
            "text/markdown": "**W:** 0.529447077702506",
            "text/latex": "\\textbf{W:} 0.529447077702506",
            "text/plain": [
              "        W \n",
              "0.5294471 "
            ]
          },
          "metadata": {}
        }
      ],
      "source": [
        "resultado$statistic"
      ]
    },
    {
      "cell_type": "code",
      "execution_count": null,
      "metadata": {
        "colab": {
          "base_uri": "https://localhost:8080/",
          "height": 34
        },
        "id": "Q4eJFGsCpsjG",
        "outputId": "8f45a5c3-2ebe-4b86-c7c5-52305e53768a"
      },
      "outputs": [
        {
          "output_type": "display_data",
          "data": {
            "text/html": [
              "TRUE"
            ],
            "text/markdown": "TRUE",
            "text/latex": "TRUE",
            "text/plain": [
              "[1] TRUE"
            ]
          },
          "metadata": {}
        }
      ],
      "source": [
        "# Sendo o p-value <= a significancia, rejeitamos H0, ou seja, rejeitamos a hipótese de que essa variável possua uma distribuição normal.\n",
        "\n",
        "p_valor <= significancia"
      ]
    },
    {
      "cell_type": "markdown",
      "metadata": {
        "id": "JkAxa9PqpsjM"
      },
      "source": [
        "### Testando a variável Altura"
      ]
    },
    {
      "cell_type": "code",
      "execution_count": null,
      "metadata": {
        "colab": {
          "base_uri": "https://localhost:8080/",
          "height": 274
        },
        "id": "n9r88dMKpsjN",
        "outputId": "55b13f4a-ce11-48df-889c-ea5416da63f5"
      },
      "outputs": [
        {
          "output_type": "stream",
          "name": "stderr",
          "text": [
            "\u001b[1m\u001b[22m`stat_bin()` using `bins = 30`. Pick better value with `binwidth`.\n"
          ]
        },
        {
          "output_type": "display_data",
          "data": {
            "text/plain": [
              "plot without title"
            ],
            "image/png": "[encoded data removed]"
          },
          "metadata": {
            "image/png": {
              "width": 420,
              "height": 240
            }
          }
        }
      ],
      "source": [
        "ggplot(dados, aes(x = Altura)) + \n",
        "    geom_histogram() + \n",
        "    ylab(\"Frequência\") + \n",
        "    xlab(\"Altura\") + \n",
        "    ggtitle('Histograma Altura') +\n",
        "    theme(plot.title=element_text(hjust = 0.5))"
      ]
    },
    {
      "cell_type": "markdown",
      "metadata": {
        "id": "1ADrwGb5psjQ"
      },
      "source": [
        "### <font color='red'>Critério do valor $p$</font>\n",
        "\n",
        "> ### Rejeitar $H_0$ se o valor $p\\leq \\alpha$"
      ]
    },
    {
      "cell_type": "code",
      "execution_count": null,
      "metadata": {
        "colab": {
          "base_uri": "https://localhost:8080/",
          "height": 104
        },
        "id": "5BMojtS43u6S",
        "outputId": "899d68fc-2523-4dbb-8f7e-a69e4a321086"
      },
      "outputs": [
        {
          "output_type": "display_data",
          "data": {
            "text/plain": [
              "\n",
              "\tShapiro-Wilk normality test\n",
              "\n",
              "data:  amostra$Altura\n",
              "W = 0.99961, p-value = 0.4317\n"
            ]
          },
          "metadata": {}
        }
      ],
      "source": [
        "resultado <- shapiro.test(amostra$Altura)\n",
        "resultado"
      ]
    },
    {
      "cell_type": "code",
      "execution_count": null,
      "metadata": {
        "colab": {
          "base_uri": "https://localhost:8080/",
          "height": 34
        },
        "id": "ABqpqMpV3u6S",
        "outputId": "c5a90b2c-32fd-428a-cd91-8d851a340f5f"
      },
      "outputs": [
        {
          "output_type": "display_data",
          "data": {
            "text/html": [
              "0.431670292949361"
            ],
            "text/markdown": "0.431670292949361",
            "text/latex": "0.431670292949361",
            "text/plain": [
              "[1] 0.4316703"
            ]
          },
          "metadata": {}
        }
      ],
      "source": [
        "p_valor <- resultado$p.value\n",
        "p_valor"
      ]
    },
    {
      "cell_type": "code",
      "execution_count": null,
      "metadata": {
        "colab": {
          "base_uri": "https://localhost:8080/",
          "height": 34
        },
        "id": "YqNQI9sw3u6S",
        "outputId": "d95fa76a-0d6c-4806-b8b2-f2ef7589e6c0"
      },
      "outputs": [
        {
          "output_type": "display_data",
          "data": {
            "text/html": [
              "<strong>W:</strong> 0.999605909322313"
            ],
            "text/markdown": "**W:** 0.999605909322313",
            "text/latex": "\\textbf{W:} 0.999605909322313",
            "text/plain": [
              "        W \n",
              "0.9996059 "
            ]
          },
          "metadata": {}
        }
      ],
      "source": [
        "resultado$statistic"
      ]
    },
    {
      "cell_type": "code",
      "execution_count": null,
      "metadata": {
        "colab": {
          "base_uri": "https://localhost:8080/",
          "height": 34
        },
        "outputId": "8d7b5117-2284-41d6-ffd6-d5e8a2b7c1c7",
        "id": "Qbf6DoZR3u6S"
      },
      "outputs": [
        {
          "output_type": "display_data",
          "data": {
            "text/html": [
              "FALSE"
            ],
            "text/markdown": "FALSE",
            "text/latex": "FALSE",
            "text/plain": [
              "[1] FALSE"
            ]
          },
          "metadata": {}
        }
      ],
      "source": [
        "# Sendo o p-value > que a significancia, aceitamos H0, ou seja, aceitamos a hipótese de que essa variável possua uma distribuição normal.\n",
        "\n",
        "p_valor <= significancia"
      ]
    },
    {
      "cell_type": "markdown",
      "metadata": {
        "id": "rWh-HSd-psji"
      },
      "source": [
        "## <font color=green>2.2 Etapas Básicas de um Teste</font>\n",
        "***"
      ]
    },
    {
      "cell_type": "markdown",
      "metadata": {
        "id": "DQF30K2Cpsjj"
      },
      "source": [
        "### **Passo 1** - formulação das hipóteses $H_0$ e $H_1$;\n",
        "\n",
        "> ### <font color='red'>Pontos importantes</font>\n",
        "> - De maneira geral, o alvo do estudo deve ser formulado como a hipótese alternativa $H_1$.\n",
        "> - A hipótese nula sempre afirma uma igualdade ou propriedade populacional, e $H_1$ a desigualdade que nega $H_0$.\n",
        "> - No caso da hipótese nula $H_0$ a igualdade pode ser representada por uma igualdade simples \"$=$\" ou por \"$\\geq$\" e \"$\\leq$\". Sempre complementar ao estabelecido pela hipótese alternativa.\n",
        "> - A hipótese alternativa $H_1$ deve definir uma desigualdade que pode ser uma diferença simples \"$\\neq$\" ou dos tipos \"$>$\" e \"$<$\".\n",
        "\n",
        "\n",
        "### **Passo 2** - escolha da distribuição amostral adequada;\n",
        "\n",
        "> ### <font color='red'>Pontos importantes</font>\n",
        "> - Quando o tamanho da amostra tiver 30 elementos ou mais, deve-se utilizar a distribuição normal, como estabelecido pelo **teorema do limite central**.\n",
        "> - Para um tamanho de amostra menor que 30 elementos, e se pudermos afirmar que a população se distribui aproximadamente como uma normal e o desvio padrão populacional for conhecido, deve-se utilizar a distribuição normal.\n",
        "> - Para um tamanho de amostra menor que 30 elementos, e se pudermos afirmar que a população se distribui aproximadamente como uma normal e o desvio padrão populacional for desconhecido, deve-se utilizar a distribuição t de Student.\n",
        "\n",
        "<img src='https://caelum-online-public.s3.amazonaws.com/1229-estatistica-parte3/01/img003.png' width=70%>\n",
        "\n",
        "### **Passo 3** - fixação da significância do teste ($\\alpha$), que define as regiões de aceitação e rejeição das hipóteses (os valores mais freqüentes são 10%, 5% e 1%);\n",
        "\n",
        "> ### <font color='red'>Pontos importantes</font>\n",
        "> - O **nível de confiança** ($1 - \\alpha$) representa a probabilidade de acerto da estimativa. De forma complementar o **nível de significância** ($\\alpha$) expressa a probabilidade de erro da estimativa.\n",
        ">\n",
        "> ![Níveis de Confiança e significância](https://caelum-online-public.s3.amazonaws.com/1229-estatistica-parte3/01/img001.png)\n",
        ">\n",
        "> - O **nível de confiança** representa o grau de confiabilidade do resultado da estimativa estar dentro de determinado intervalo. Quando fixamos em uma pesquisa um **nível de confiança** de 95%, por exemplo, estamos assumindo que existe uma probabilidade de 95% dos resultados da pesquisa representarem bem a realidade, ou seja, estarem corretos.\n",
        ">\n",
        "> ![Áreas de Aceitação e Rejeição](https://caelum-online-public.s3.amazonaws.com/1229-estatistica-parte3/01/img002.png)\n",
        "\n",
        "### **Passo 4** - cálculo da estatística-teste e verificação desse valor com as áreas de aceitação e rejeição do teste;\n",
        "\n",
        "> ### <font color='red'>Pontos importantes</font>\n",
        "> - Nos testes paramétricos, distância relativa entre a estatística amostral e o valor alegado como provável.\n",
        "> - Neste passo são obtidas as estatísticas amostrais necessárias à execução do teste (média, desvio-padrão, graus de liberdade etc.)\n",
        "\n",
        "\n",
        "### **Passo 5** - Aceitação ou rejeição da hipótese nula.\n",
        "\n",
        "> ### <font color='red'>Pontos importantes</font>\n",
        "> - No caso de o intervalo de aceitação conter a estatística-teste, aceita-se $H_0$ como estatisticamente válido e rejeita-se $H_1$ como tal.\n",
        "> - No caso de o intervalo de aceitação não conter a estatística-teste, rejeita-se $H_0$ e aceita-se $H_1$ como provavelmente verdadeira. \n",
        "> - A aceitação também se verifica com a probabilidade de cauda (p-valor): se maior que $\\alpha$, aceita-se $H_0$."
      ]
    },
    {
      "cell_type": "markdown",
      "metadata": {
        "id": "TXdMM0dOpsjm"
      },
      "source": [
        "---"
      ]
    },
    {
      "cell_type": "markdown",
      "metadata": {
        "id": "miGOADKYpsjn"
      },
      "source": [
        "# <font color=green>3 TESTES PARAMÉTRICOS</font>\n",
        "***"
      ]
    },
    {
      "cell_type": "markdown",
      "metadata": {
        "id": "pIHY_4Sspsjn"
      },
      "source": [
        "Quando um teste assume determinadas premissas sobre como os parâmetros de uma população se distribuem, estamos trabalhando com **Testes Paramétricos**."
      ]
    },
    {
      "cell_type": "markdown",
      "metadata": {
        "id": "rUKgxZ7_psjp"
      },
      "source": [
        "## <font color=green>3.1 Teste Bicaudal</font>\n",
        "***"
      ]
    },
    {
      "cell_type": "markdown",
      "metadata": {
        "id": "i1PMIB5cpsjp"
      },
      "source": [
        "## <font color='red'>Problema</font>"
      ]
    },
    {
      "cell_type": "markdown",
      "metadata": {
        "id": "vellTWzJpsjq"
      },
      "source": [
        "A empresa **Suco Bom** produz **sucos de frutas em embalagens de 500 ml**. Seu processo de produção é quase todo automatizado e as embalagens de sucos são preenchidas por uma máquina que às vezes apresenta um certo desajuste, levando a erros no preenchimento das embalagens para mais ou menos conteúdo. Quando o volume médio cai abaixo de 500 ml, a empresa se preocupa em perder vendas e ter problemas com os orgãos fiscalizadores. Quando o volume passa de 500 ml, a empresa começa a se preocupar com prejuízos no processo de produção.\n",
        "\n",
        "O setor de controle de qualidade da empresa **Suco Bom** extrai, periodicamente, **amostras de 50 embalagens** para monitorar o processo de produção. Para cada amostra, é realizado um **teste de hipóteses** para avaliar se o maquinário se desajustou. A equipe de controle de qualidade assume um **nível de significância de 5%**.\n",
        "\n",
        "Suponha agora que uma **amostra de 50 embalagens** foi selecionada e que a **média amostral observada foi de 503,24 ml**. **Esse valor de média amostral é suficientemente maior que 500 ml para nos fazer rejeitar a hipótese de que a média do processo é de 500 ml ao nível de significância de 5%?**"
      ]
    },
    {
      "cell_type": "markdown",
      "metadata": {
        "id": "-J15nugOpsjq"
      },
      "source": [
        "---"
      ]
    },
    {
      "cell_type": "markdown",
      "metadata": {
        "id": "076qvKgapsjr"
      },
      "source": [
        "O **teste bicaudal** é muito utilizado em **testes de qualidade**, como o apresentado em nosso problema acima. Outro exemplo é a avaliação de peças que devem ter um encaixe perfeito (porcas e parafusos, chaves e fechaduras etc.)."
      ]
    },
    {
      "cell_type": "markdown",
      "metadata": {
        "id": "MyGUYz88psjr"
      },
      "source": [
        "![Teste Bicaudal](https://caelum-online-public.s3.amazonaws.com/1229-estatistica-parte3/01/img005.png)"
      ]
    },
    {
      "cell_type": "markdown",
      "metadata": {
        "id": "EOiKt64mpsjs"
      },
      "source": [
        "---"
      ]
    },
    {
      "cell_type": "markdown",
      "metadata": {
        "id": "011wNGXtpsjs"
      },
      "source": [
        "### Dados do problema"
      ]
    },
    {
      "cell_type": "code",
      "execution_count": null,
      "metadata": {
        "id": "lHLlGH7upsjt"
      },
      "outputs": [],
      "source": [
        "amostra <- c(509, 505, 495, 510, 496, 509, 497, 502, 503, 505, \n",
        "           501, 505, 510, 505, 504, 497, 506, 506, 508, 505, \n",
        "           497, 504, 500, 498, 506, 496, 508, 497, 503, 501, \n",
        "           503, 506, 499, 498, 509, 507, 503, 499, 509, 495, \n",
        "           502, 505, 504, 509, 508, 501, 505, 497, 508, 507)"
      ]
    },
    {
      "cell_type": "code",
      "execution_count": null,
      "metadata": {
        "id": "AJNH5RQtpsju",
        "scrolled": false,
        "colab": {
          "base_uri": "https://localhost:8080/",
          "height": 304
        },
        "outputId": "371f6d14-dd13-4325-c74a-b35fd8d34f18"
      },
      "outputs": [
        {
          "output_type": "display_data",
          "data": {
            "text/html": [
              "<table class=\"dataframe\">\n",
              "<caption>A data.frame: 6 × 1</caption>\n",
              "<thead>\n",
              "\t<tr><th></th><th scope=col>Amostra</th></tr>\n",
              "\t<tr><th></th><th scope=col>&lt;dbl&gt;</th></tr>\n",
              "</thead>\n",
              "<tbody>\n",
              "\t<tr><th scope=row>1</th><td>509</td></tr>\n",
              "\t<tr><th scope=row>2</th><td>505</td></tr>\n",
              "\t<tr><th scope=row>3</th><td>495</td></tr>\n",
              "\t<tr><th scope=row>4</th><td>510</td></tr>\n",
              "\t<tr><th scope=row>5</th><td>496</td></tr>\n",
              "\t<tr><th scope=row>6</th><td>509</td></tr>\n",
              "</tbody>\n",
              "</table>\n"
            ],
            "text/markdown": "\nA data.frame: 6 × 1\n\n| <!--/--> | Amostra &lt;dbl&gt; |\n|---|---|\n| 1 | 509 |\n| 2 | 505 |\n| 3 | 495 |\n| 4 | 510 |\n| 5 | 496 |\n| 6 | 509 |\n\n",
            "text/latex": "A data.frame: 6 × 1\n\\begin{tabular}{r|l}\n  & Amostra\\\\\n  & <dbl>\\\\\n\\hline\n\t1 & 509\\\\\n\t2 & 505\\\\\n\t3 & 495\\\\\n\t4 & 510\\\\\n\t5 & 496\\\\\n\t6 & 509\\\\\n\\end{tabular}\n",
            "text/plain": [
              "  Amostra\n",
              "1 509    \n",
              "2 505    \n",
              "3 495    \n",
              "4 510    \n",
              "5 496    \n",
              "6 509    "
            ]
          },
          "metadata": {}
        }
      ],
      "source": [
        "amostra <- data.frame(Amostra = amostra)\n",
        "head(amostra)"
      ]
    },
    {
      "cell_type": "code",
      "execution_count": null,
      "metadata": {
        "id": "tnjD0A_ppsjw",
        "colab": {
          "base_uri": "https://localhost:8080/",
          "height": 34
        },
        "outputId": "066cf6bf-c6d7-4e06-c00f-708a93a19ac5"
      },
      "outputs": [
        {
          "output_type": "display_data",
          "data": {
            "text/html": [
              "503.24"
            ],
            "text/markdown": "503.24",
            "text/latex": "503.24",
            "text/plain": [
              "[1] 503.24"
            ]
          },
          "metadata": {}
        }
      ],
      "source": [
        "media_amostra <- mean(amostra$Amostra)\n",
        "media_amostra"
      ]
    },
    {
      "cell_type": "code",
      "execution_count": null,
      "metadata": {
        "id": "JXz2IFCUpsjy",
        "colab": {
          "base_uri": "https://localhost:8080/",
          "height": 34
        },
        "outputId": "9f9214bc-cb3a-4be8-c77e-3553b077d07b"
      },
      "outputs": [
        {
          "output_type": "display_data",
          "data": {
            "text/html": [
              "4.48380305052735"
            ],
            "text/markdown": "4.48380305052735",
            "text/latex": "4.48380305052735",
            "text/plain": [
              "[1] 4.483803"
            ]
          },
          "metadata": {}
        }
      ],
      "source": [
        "desvio_padrao_amostra <- sd(amostra$Amostra)\n",
        "desvio_padrao_amostra"
      ]
    },
    {
      "cell_type": "code",
      "execution_count": null,
      "metadata": {
        "id": "PE99TXSfpsj0"
      },
      "outputs": [],
      "source": [
        "media <- 500\n",
        "significancia <- 0.05\n",
        "confianca <- 1 - significancia\n",
        "n <- 50"
      ]
    },
    {
      "cell_type": "markdown",
      "metadata": {
        "id": "nqmFpl7wpsj2"
      },
      "source": [
        "### **Passo 1** - formulação das hipóteses $H_0$ e $H_1$\n",
        "\n",
        "#### <font color='red'>Lembre-se, a hipótese nula sempre contém a alegação de igualdade</font>"
      ]
    },
    {
      "cell_type": "markdown",
      "metadata": {
        "id": "QVcqkHZhpsj3"
      },
      "source": [
        "### $H_0: \\mu = 500$\n",
        "\n",
        "### $H_1: \\mu \\neq 500$"
      ]
    },
    {
      "cell_type": "markdown",
      "metadata": {
        "id": "MShPuVL6psj3"
      },
      "source": [
        "---"
      ]
    },
    {
      "cell_type": "markdown",
      "metadata": {
        "id": "_rAz73fzpsj4"
      },
      "source": [
        "### **Passo 2** - escolha da distribuição amostral adequada\n",
        "<img src='https://caelum-online-public.s3.amazonaws.com/1229-estatistica-parte3/01/img003.png' width=70%>"
      ]
    },
    {
      "cell_type": "markdown",
      "metadata": {
        "id": "XC1JOtU9psj4"
      },
      "source": [
        "### O tamanho da amostra é maior que 30?\n",
        "#### Resp.: Sim\n",
        "\n",
        "### O desvio padrão populacional é conhecido?\n",
        "#### Resp.: Não"
      ]
    },
    {
      "cell_type": "markdown",
      "metadata": {
        "id": "Uq-Zq_Sxpsj5"
      },
      "source": [
        "---"
      ]
    },
    {
      "cell_type": "markdown",
      "metadata": {
        "id": "V3OT4caspsj5"
      },
      "source": [
        "### **Passo 3** - fixação da significância do teste ($\\alpha$)"
      ]
    },
    {
      "cell_type": "markdown",
      "metadata": {
        "id": "wI1Nhj_vpsj6"
      },
      "source": [
        "#### <font color=red>Documentações:\n",
        "\n",
        "- [**Normal**](https://www.rdocumentation.org/packages/stats/versions/3.6.1/topics/Normal)"
      ]
    },
    {
      "cell_type": "code",
      "execution_count": null,
      "metadata": {
        "id": "2JyYCHeQpsj8",
        "colab": {
          "base_uri": "https://localhost:8080/",
          "height": 34
        },
        "outputId": "0683252f-799d-4885-fa54-7f15ee716917"
      },
      "outputs": [
        {
          "output_type": "display_data",
          "data": {
            "text/html": [
              "0.975"
            ],
            "text/markdown": "0.975",
            "text/latex": "0.975",
            "text/plain": [
              "[1] 0.975"
            ]
          },
          "metadata": {}
        }
      ],
      "source": [
        "probabilidade <- (0.5 + (confianca / 2))\n",
        "probabilidade"
      ]
    },
    {
      "cell_type": "markdown",
      "metadata": {
        "id": "Fu4Wbd-ipsj-"
      },
      "source": [
        "### Obtendo $z_{\\alpha/2}$"
      ]
    },
    {
      "cell_type": "code",
      "execution_count": null,
      "metadata": {
        "id": "imc3GyDLpsj_",
        "colab": {
          "base_uri": "https://localhost:8080/",
          "height": 34
        },
        "outputId": "19853ce7-d7ec-4d3d-ce2b-4128307ebe77"
      },
      "outputs": [
        {
          "output_type": "display_data",
          "data": {
            "text/html": [
              "1.95996398454005"
            ],
            "text/markdown": "1.95996398454005",
            "text/latex": "1.95996398454005",
            "text/plain": [
              "[1] 1.959964"
            ]
          },
          "metadata": {}
        }
      ],
      "source": [
        "z_alpha_2 <- qnorm(probabilidade)\n",
        "z_alpha_2"
      ]
    },
    {
      "cell_type": "markdown",
      "metadata": {
        "id": "d98Z21yOpskB"
      },
      "source": [
        "![Região de Aceitação](https://caelum-online-public.s3.amazonaws.com/1229-estatistica-parte3/01/img006.png)"
      ]
    },
    {
      "cell_type": "markdown",
      "metadata": {
        "id": "eyfX7pYMpskC"
      },
      "source": [
        "---"
      ]
    },
    {
      "cell_type": "markdown",
      "metadata": {
        "id": "aaLCZs0ApskC"
      },
      "source": [
        "### **Passo 4** - cálculo da estatística-teste e verificação desse valor com as áreas de aceitação e rejeição do teste\n",
        "\n",
        "# $$z = \\frac{\\bar{x} - \\mu_0}{\\frac{s}{\\sqrt{n}}}$$"
      ]
    },
    {
      "cell_type": "code",
      "execution_count": null,
      "metadata": {
        "id": "a6zMj0YzpskC",
        "colab": {
          "base_uri": "https://localhost:8080/",
          "height": 34
        },
        "outputId": "77df3aec-e0ae-4405-c1c2-349667fc8548"
      },
      "outputs": [
        {
          "output_type": "display_data",
          "data": {
            "text/html": [
              "5.10955977599187"
            ],
            "text/markdown": "5.10955977599187",
            "text/latex": "5.10955977599187",
            "text/plain": [
              "[1] 5.10956"
            ]
          },
          "metadata": {}
        }
      ],
      "source": [
        "z <- (media_amostra - media) / (desvio_padrao_amostra / sqrt(n))\n",
        "z"
      ]
    },
    {
      "cell_type": "markdown",
      "metadata": {
        "id": "UMHqgrlupskE"
      },
      "source": [
        "![Estatística-Teste](https://caelum-online-public.s3.amazonaws.com/1229-estatistica-parte3/01/img007.png)"
      ]
    },
    {
      "cell_type": "markdown",
      "metadata": {
        "id": "tFfJX8G9pskF"
      },
      "source": [
        "---"
      ]
    },
    {
      "cell_type": "markdown",
      "metadata": {
        "id": "aqTnTTePpskF"
      },
      "source": [
        "### **Passo 5** - Aceitação ou rejeição da hipótese nula"
      ]
    },
    {
      "cell_type": "markdown",
      "metadata": {
        "id": "pD1cc4DHpskG"
      },
      "source": [
        "<img src='https://caelum-online-public.s3.amazonaws.com/1229-estatistica-parte3/01/img013.png' width=90%>"
      ]
    },
    {
      "cell_type": "markdown",
      "metadata": {
        "id": "qbnH6V15pskG"
      },
      "source": [
        "### <font color='red'>Critério do valor crítico</font>\n",
        "\n",
        "> ### Teste Bicaudal\n",
        "> ### Rejeitar $H_0$ se $z \\leq -z_{\\alpha / 2}$ ou se $z \\geq z_{\\alpha / 2}$"
      ]
    },
    {
      "cell_type": "code",
      "execution_count": null,
      "metadata": {
        "id": "-MkJyqSupskG",
        "colab": {
          "base_uri": "https://localhost:8080/",
          "height": 34
        },
        "outputId": "0ea58f5f-d1d8-48be-e170-69412b574fac"
      },
      "outputs": [
        {
          "output_type": "display_data",
          "data": {
            "text/html": [
              "FALSE"
            ],
            "text/markdown": "FALSE",
            "text/latex": "FALSE",
            "text/plain": [
              "[1] FALSE"
            ]
          },
          "metadata": {}
        }
      ],
      "source": [
        "z <= -z_alpha_2"
      ]
    },
    {
      "cell_type": "code",
      "execution_count": null,
      "metadata": {
        "id": "FVTIIXA3pskI",
        "colab": {
          "base_uri": "https://localhost:8080/",
          "height": 34
        },
        "outputId": "13726e1f-2778-4385-b310-cf7ff56446f1"
      },
      "outputs": [
        {
          "output_type": "display_data",
          "data": {
            "text/html": [
              "TRUE"
            ],
            "text/markdown": "TRUE",
            "text/latex": "TRUE",
            "text/plain": [
              "[1] TRUE"
            ]
          },
          "metadata": {}
        }
      ],
      "source": [
        "z >= z_alpha_2"
      ]
    },
    {
      "cell_type": "code",
      "execution_count": null,
      "metadata": {
        "id": "c0oaPBqM3u6W",
        "colab": {
          "base_uri": "https://localhost:8080/",
          "height": 34
        },
        "outputId": "2168079e-7de8-4556-c378-f04823d026d9"
      },
      "outputs": [
        {
          "output_type": "display_data",
          "data": {
            "text/html": [
              "'Rejeitar H0'"
            ],
            "text/markdown": "'Rejeitar H0'",
            "text/latex": "'Rejeitar H0'",
            "text/plain": [
              "[1] \"Rejeitar H0\""
            ]
          },
          "metadata": {}
        }
      ],
      "source": [
        "# Rejeitamos a hipótese de uma distribuição normal dados os limites.\n",
        "\n",
        "if(z <= -z_alpha_2 || z >= z_alpha_2){\n",
        "    'Rejeitar H0'\n",
        "}else{\n",
        "    'Aceitar H0'\n",
        "}"
      ]
    },
    {
      "cell_type": "markdown",
      "source": [
        "## Exercício - 01"
      ],
      "metadata": {
        "id": "8dB28Gxf7TMs"
      }
    },
    {
      "cell_type": "markdown",
      "source": [
        "Uma indústria de cimento afirma que a quantidade média de cimento nas embalagens de seu produto é de 25 kg. Um teste de pesagem em uma amostra de 45 embalagens apresentou um peso médio igual a 25,2 kg. Medições anteriores afirmam que a distribuição dos pesos segue uma normal e que o desvio padrão populacional é igual a 400 g. Considerando um nível de significância igual a 5%, responda as seguintes questões:\n",
        "\n",
        "1) Qual a hipótese nula a ser testada?\n",
        "\n",
        "2) Qual o valor da estatística de teste?\n",
        "\n",
        "3) Qual a conclusão do teste?"
      ],
      "metadata": {
        "id": "ptdvNbZ_cZjK"
      }
    },
    {
      "cell_type": "code",
      "source": [
        "media_ex01 <- 25\n",
        "n_ex01 <- 45\n",
        "media_amostra_ex01 <- 25.2\n",
        "desvio_padrao_ex01 <- 0.4\n",
        "significancia_ex01 <- 0.05\n",
        "confianca_ex01 <- 1 - significancia_ex01"
      ],
      "metadata": {
        "id": "Y5zdqeyB7T3r"
      },
      "execution_count": null,
      "outputs": []
    },
    {
      "cell_type": "code",
      "source": [
        "# 1) Qual a hipótese nula a ser testada?\n",
        "hipotese_ex01 <- 'H0: μ = 25'\n",
        "hipotese_ex01"
      ],
      "metadata": {
        "colab": {
          "base_uri": "https://localhost:8080/",
          "height": 34
        },
        "id": "uUKXpNdL8k8V",
        "outputId": "222551a0-1b3e-4ccd-bcca-18f59c3742e4"
      },
      "execution_count": null,
      "outputs": [
        {
          "output_type": "display_data",
          "data": {
            "text/html": [
              "'H0: μ = 25'"
            ],
            "text/markdown": "'H0: μ = 25'",
            "text/latex": "'H0: μ = 25'",
            "text/plain": [
              "[1] \"H0: μ = 25\""
            ]
          },
          "metadata": {}
        }
      ]
    },
    {
      "cell_type": "code",
      "source": [
        "probabilidade_ex01 <- (0.5 + (confianca_ex01 / 2))\n",
        "z_alpha_2_ex01 <- qnorm(probabilidade_ex01)"
      ],
      "metadata": {
        "id": "viZ6Pa217-4d"
      },
      "execution_count": null,
      "outputs": []
    },
    {
      "cell_type": "code",
      "source": [
        "# 2) Qual o valor da estatística de teste?\n",
        "z_ex01 <- (media_amostra_ex01 - media_ex01) / (desvio_padrao_ex01 / sqrt(n_ex01))\n",
        "z_ex01"
      ],
      "metadata": {
        "colab": {
          "base_uri": "https://localhost:8080/",
          "height": 34
        },
        "id": "5xD08dobcC_q",
        "outputId": "59f4447e-99f4-499f-9388-1fe501098d83"
      },
      "execution_count": null,
      "outputs": [
        {
          "output_type": "display_data",
          "data": {
            "text/html": [
              "3.35410196624967"
            ],
            "text/markdown": "3.35410196624967",
            "text/latex": "3.35410196624967",
            "text/plain": [
              "[1] 3.354102"
            ]
          },
          "metadata": {}
        }
      ]
    },
    {
      "cell_type": "code",
      "source": [
        "# 3) Qual a conclusão do teste?\n",
        "if (z_ex01 <= -z_alpha_2_ex01 || z_ex01 >= z_alpha_2_ex01) {\n",
        "    'Rejeitar H0'\n",
        "} else {\n",
        "    'Aceitar H0'\n",
        "}"
      ],
      "metadata": {
        "colab": {
          "base_uri": "https://localhost:8080/",
          "height": 34
        },
        "id": "LDzBW6Q4cIis",
        "outputId": "8bddc275-5616-475e-fb52-0a25dadf12a9"
      },
      "execution_count": null,
      "outputs": [
        {
          "output_type": "display_data",
          "data": {
            "text/html": [
              "'Rejeitar H0'"
            ],
            "text/markdown": "'Rejeitar H0'",
            "text/latex": "'Rejeitar H0'",
            "text/plain": [
              "[1] \"Rejeitar H0\""
            ]
          },
          "metadata": {}
        }
      ]
    },
    {
      "cell_type": "markdown",
      "metadata": {
        "id": "YX-xSnZFpskM"
      },
      "source": [
        "### <font color='green'>Conclusão: Como a média amostral $\\bar{x}$ é significativamente maior que 500 ml, rejeitamos $H_0$. Neste caso, devem ser tomadas providências para ajustar o maquinário que preenche as embalagens.</font>"
      ]
    },
    {
      "cell_type": "markdown",
      "metadata": {
        "id": "Aqv_KZoYpskN"
      },
      "source": [
        "### <font color='red'>Critério do $p-valor$</font>\n",
        "\n",
        "> ### Teste Bicaudal\n",
        "> ### Rejeitar $H_0$ se o valor $p\\leq\\alpha$"
      ]
    },
    {
      "cell_type": "code",
      "execution_count": null,
      "metadata": {
        "id": "96b2k2yr3u6X",
        "colab": {
          "base_uri": "https://localhost:8080/",
          "height": 34
        },
        "outputId": "acd40c12-aef8-4ea6-e4dc-dc7656d400c7"
      },
      "outputs": [
        {
          "output_type": "display_data",
          "data": {
            "text/html": [
              "3.22910317152036e-07"
            ],
            "text/markdown": "3.22910317152036e-07",
            "text/latex": "3.22910317152036e-07",
            "text/plain": [
              "[1] 3.229103e-07"
            ]
          },
          "metadata": {}
        }
      ],
      "source": [
        "p_valor <- 2 * (1 - pnorm(z))\n",
        "p_valor"
      ]
    },
    {
      "cell_type": "code",
      "execution_count": null,
      "metadata": {
        "id": "vUHgYIHqpskR",
        "scrolled": true,
        "colab": {
          "base_uri": "https://localhost:8080/",
          "height": 34
        },
        "outputId": "594e0599-9aa7-4648-bc8a-e0416d8de0dc"
      },
      "outputs": [
        {
          "output_type": "display_data",
          "data": {
            "text/html": [
              "TRUE"
            ],
            "text/markdown": "TRUE",
            "text/latex": "TRUE",
            "text/plain": [
              "[1] TRUE"
            ]
          },
          "metadata": {}
        }
      ],
      "source": [
        "# Sendo o p_valor <= a significancia também rejeitamos H0.\n",
        "\n",
        "p_valor <= significancia"
      ]
    },
    {
      "cell_type": "markdown",
      "metadata": {
        "id": "YRw1O5X8pskT"
      },
      "source": [
        "#### <font color=red>Documentações:\n",
        "\n",
        "- [**Normal**](https://www.rdocumentation.org/packages/stats/versions/3.6.1/topics/Normal)\n",
        "- [**ZTest**](https://www.rdocumentation.org/packages/DescTools/versions/0.99.19/topics/ZTest)"
      ]
    },
    {
      "cell_type": "code",
      "execution_count": null,
      "metadata": {
        "id": "kkWT21743u6X"
      },
      "outputs": [],
      "source": [
        "# install.packages('DescTools')\n",
        "\n",
        "# OU\n",
        "\n",
        "# packageurl <- \"https://cran.r-project.org/src/contrib/Archive/DescTools/DescTools_0.99.30.tar.gz\"\n",
        "# install.packages(packageurl, repos=NULL, type=\"source\")"
      ]
    },
    {
      "cell_type": "code",
      "source": [
        "install.packages('DescTools')"
      ],
      "metadata": {
        "colab": {
          "base_uri": "https://localhost:8080/"
        },
        "id": "_TYeR8W2dYN_",
        "outputId": "3c34b0f2-ea95-4dab-a2fd-605e516b6c55"
      },
      "execution_count": null,
      "outputs": [
        {
          "output_type": "stream",
          "name": "stderr",
          "text": [
            "Installing package into ‘/usr/local/lib/R/site-library’\n",
            "(as ‘lib’ is unspecified)\n",
            "\n",
            "also installing the dependencies ‘proxy’, ‘rootSolve’, ‘e1071’, ‘lmom’, ‘mvtnorm’, ‘expm’, ‘Rcpp’, ‘Exact’, ‘gld’, ‘BH’\n",
            "\n",
            "\n"
          ]
        }
      ]
    },
    {
      "cell_type": "code",
      "execution_count": null,
      "metadata": {
        "id": "RSa2uUZS3u6X"
      },
      "outputs": [],
      "source": [
        "library(DescTools)"
      ]
    },
    {
      "cell_type": "code",
      "execution_count": null,
      "metadata": {
        "id": "jKxMwMK73u6X",
        "colab": {
          "base_uri": "https://localhost:8080/",
          "height": 208
        },
        "outputId": "0d670639-2835-45d6-8a21-44480dc330b2"
      },
      "outputs": [
        {
          "output_type": "display_data",
          "data": {
            "text/plain": [
              "\n",
              "\tOne Sample z-test\n",
              "\n",
              "data:  amostra$Amostra\n",
              "z = 5.1096, Std. Dev. Population = 4.4838, p-value = 3.229e-07\n",
              "alternative hypothesis: true mean is not equal to 500\n",
              "95 percent confidence interval:\n",
              " 501.9972 504.4828\n",
              "sample estimates:\n",
              "mean of x \n",
              "   503.24 \n"
            ]
          },
          "metadata": {}
        }
      ],
      "source": [
        "# Utilizando a função ZTest do DescTools obtemos de forma simplificada os valores de z e do p_valor.\n",
        "\n",
        "ZTest(amostra$Amostra, mu = media, sd_pop = desvio_padrao_amostra)"
      ]
    },
    {
      "cell_type": "code",
      "execution_count": null,
      "metadata": {
        "id": "ufVjT7kt3u6X"
      },
      "outputs": [],
      "source": [
        "resultado <- ZTest(amostra$Amostra, mu = media, sd_pop = desvio_padrao_amostra)"
      ]
    },
    {
      "cell_type": "code",
      "execution_count": null,
      "metadata": {
        "id": "e1Vjs_103u6Y",
        "colab": {
          "base_uri": "https://localhost:8080/",
          "height": 34
        },
        "outputId": "61406327-08fb-4452-959a-c1cdf8ae236f"
      },
      "outputs": [
        {
          "output_type": "display_data",
          "data": {
            "text/html": [
              "<strong>z:</strong> 5.10955977599187"
            ],
            "text/markdown": "**z:** 5.10955977599187",
            "text/latex": "\\textbf{z:} 5.10955977599187",
            "text/plain": [
              "      z \n",
              "5.10956 "
            ]
          },
          "metadata": {}
        }
      ],
      "source": [
        "# Com o parâmetro $statistic retiramos somente o valor de z do ZTest.\n",
        "\n",
        "resultado$statistic"
      ]
    },
    {
      "cell_type": "code",
      "execution_count": null,
      "metadata": {
        "id": "e49faxhU3u6Y",
        "colab": {
          "base_uri": "https://localhost:8080/",
          "height": 34
        },
        "outputId": "22799017-de09-4db1-f89b-0de11ec9b9e1"
      },
      "outputs": [
        {
          "output_type": "display_data",
          "data": {
            "text/html": [
              "5.10955977599187"
            ],
            "text/markdown": "5.10955977599187",
            "text/latex": "5.10955977599187",
            "text/plain": [
              "[1] 5.10956"
            ]
          },
          "metadata": {}
        }
      ],
      "source": [
        "z"
      ]
    },
    {
      "cell_type": "code",
      "execution_count": null,
      "metadata": {
        "id": "tNiGgNx13u6Y",
        "colab": {
          "base_uri": "https://localhost:8080/",
          "height": 34
        },
        "outputId": "2d7db5de-1909-4592-deec-15fb533f00f2"
      },
      "outputs": [
        {
          "output_type": "display_data",
          "data": {
            "text/html": [
              "3.22910317244578e-07"
            ],
            "text/markdown": "3.22910317244578e-07",
            "text/latex": "3.22910317244578e-07",
            "text/plain": [
              "[1] 3.229103e-07"
            ]
          },
          "metadata": {}
        }
      ],
      "source": [
        "# Com o parâmetro $p.value retiramos somente o p_valor do ZTest.\n",
        "\n",
        "p_valor <- resultado$p.value\n",
        "p_valor"
      ]
    },
    {
      "cell_type": "code",
      "execution_count": null,
      "metadata": {
        "id": "sDuJatjW3u6Y",
        "colab": {
          "base_uri": "https://localhost:8080/",
          "height": 34
        },
        "outputId": "b309f904-b89e-473e-fcd3-3bc25459fa34"
      },
      "outputs": [
        {
          "output_type": "display_data",
          "data": {
            "text/html": [
              "TRUE"
            ],
            "text/markdown": "TRUE",
            "text/latex": "TRUE",
            "text/plain": [
              "[1] TRUE"
            ]
          },
          "metadata": {}
        }
      ],
      "source": [
        "# Podemos novamente confirmar a rejeição de H0.\n",
        "\n",
        "p_valor <= significancia"
      ]
    },
    {
      "cell_type": "markdown",
      "source": [
        "## Exercício - 02"
      ],
      "metadata": {
        "id": "sSc5ea4Ye3f3"
      }
    },
    {
      "cell_type": "markdown",
      "source": [
        "Considere novamente os dados do problema anterior. Uma indústria de cimento afirma que a quantidade média de cimento nas embalagens de seu produto é de 25 kg. Um teste de pesagem em uma amostra de 45 embalagens apresentou um peso médio igual a 25,2 kg. Medições anteriores afirmam que a distribuição dos pesos segue uma normal e que o desvio padrão populacional é igual a 400 g.\n",
        "\n",
        "Com um nível de significância igual a 5%, teste a hipótese nula de que a média do processo é igual a 25 kg e selecione a alternativa que indica o p-valor do teste aplicado (considere somente 5 casas decimais)."
      ],
      "metadata": {
        "id": "qM2hL8yfe4sO"
      }
    },
    {
      "cell_type": "code",
      "source": [
        "media_ex02 <- 25\n",
        "n_ex02 <- 45\n",
        "media_amostra_ex02 <- 25.2\n",
        "desvio_padrao_ex02 <- 0.4\n",
        "\n",
        "# Estatística de teste\n",
        "z_ex02 <- (media_amostra_ex02 - media_ex02) / (desvio_padrao_ex02 / sqrt(n_ex02))\n",
        "\n",
        "# p-valor\n",
        "p_valor_ex02 <- 2 * (1 - pnorm(z_ex02))\n",
        "p_valor_ex02"
      ],
      "metadata": {
        "colab": {
          "base_uri": "https://localhost:8080/",
          "height": 34
        },
        "id": "SjZR8747e5Zl",
        "outputId": "5acef2d0-aad2-401f-e776-ea4f2f84da66"
      },
      "execution_count": null,
      "outputs": [
        {
          "output_type": "display_data",
          "data": {
            "text/html": [
              "0.000796230157590783"
            ],
            "text/markdown": "0.000796230157590783",
            "text/latex": "0.000796230157590783",
            "text/plain": [
              "[1] 0.0007962302"
            ]
          },
          "metadata": {}
        }
      ]
    },
    {
      "cell_type": "markdown",
      "metadata": {
        "id": "YQQdl-Nepskv"
      },
      "source": [
        "---"
      ]
    },
    {
      "cell_type": "markdown",
      "metadata": {
        "id": "U8OWXeVtpskv"
      },
      "source": [
        "## <font color=green>3.2 Teste Unicaudal</font>\n",
        "***"
      ]
    },
    {
      "cell_type": "markdown",
      "metadata": {
        "id": "CPHPL4nWpskw"
      },
      "source": [
        "## <font color='red'>Problema</font>"
      ]
    },
    {
      "cell_type": "markdown",
      "metadata": {
        "id": "vDyxOXLvpskw"
      },
      "source": [
        "Um famoso fabricante de refrigerantes alega que uma lata de 350 ml de seu principal produto contém, **no máximo**, **37 gramas de açúcar**. Esta alegação nos leva a entender que a quantidade média de açúcar em uma lata de refrigerante deve ser **igual ou menor que 37 g**.\n",
        "\n",
        "Um consumidor desconfiado e com conhecimentos em inferência estatística resolve testar a alegação do fabricante e seleciona, aleatóriamente, em um conjunto de estabelecimentos distintos, **uma amostra de 25 latas** do refrigerante em questão. Utilizando o equipamento correto o consumidor obteve as quantidades de açúcar em todas as 25 latas de sua amostra. \n",
        "\n",
        "**Assumindo que essa população se distribua aproximadamente como uma normal e considerando um nível de significância de 5%, é possível aceitar como válida a alegação do fabricante?**"
      ]
    },
    {
      "cell_type": "markdown",
      "metadata": {
        "id": "5P5nWN0epsky"
      },
      "source": [
        "### Construindo tabela $t$ de Student\n",
        "\n",
        "#### <font color=red>Documentações:\n",
        "\n",
        "- [**TDist**](https://www.rdocumentation.org/packages/stats/versions/3.6.1/topics/TDist)"
      ]
    },
    {
      "cell_type": "code",
      "execution_count": null,
      "metadata": {
        "id": "lKuhGKPEpsky",
        "scrolled": false,
        "colab": {
          "base_uri": "https://localhost:8080/",
          "height": 1000
        },
        "outputId": "b4ec18ad-66a4-4ee0-a13c-3e467d9991c9"
      },
      "outputs": [
        {
          "output_type": "display_data",
          "data": {
            "text/html": [
              "<table class=\"dataframe\">\n",
              "<caption>A matrix: 30 × 10 of type dbl</caption>\n",
              "<thead>\n",
              "\t<tr><th></th><th scope=col>0.050</th><th scope=col>0.045</th><th scope=col>0.040</th><th scope=col>0.035</th><th scope=col>0.030</th><th scope=col>0.025</th><th scope=col>0.020</th><th scope=col>0.015</th><th scope=col>0.010</th><th scope=col>0.005</th></tr>\n",
              "</thead>\n",
              "<tbody>\n",
              "\t<tr><th scope=row> 1</th><td>6.313752</td><td>7.026366</td><td>7.915815</td><td>9.057887</td><td>10.578895</td><td>12.706205</td><td>15.894545</td><td>21.204949</td><td>31.820516</td><td>63.656741</td></tr>\n",
              "\t<tr><th scope=row> 2</th><td>2.919986</td><td>3.103977</td><td>3.319764</td><td>3.578247</td><td> 3.896425</td><td> 4.302653</td><td> 4.848732</td><td> 5.642778</td><td> 6.964557</td><td> 9.924843</td></tr>\n",
              "\t<tr><th scope=row> 3</th><td>2.353363</td><td>2.470807</td><td>2.605427</td><td>2.762599</td><td> 2.950510</td><td> 3.182446</td><td> 3.481909</td><td> 3.896046</td><td> 4.540703</td><td> 5.840909</td></tr>\n",
              "\t<tr><th scope=row> 4</th><td>2.131847</td><td>2.226100</td><td>2.332873</td><td>2.455892</td><td> 2.600762</td><td> 2.776445</td><td> 2.998528</td><td> 3.297630</td><td> 3.746947</td><td> 4.604095</td></tr>\n",
              "\t<tr><th scope=row> 5</th><td>2.015048</td><td>2.097837</td><td>2.190958</td><td>2.297392</td><td> 2.421585</td><td> 2.570582</td><td> 2.756509</td><td> 3.002875</td><td> 3.364930</td><td> 4.032143</td></tr>\n",
              "\t<tr><th scope=row> 6</th><td>1.943180</td><td>2.019201</td><td>2.104306</td><td>2.201059</td><td> 2.313263</td><td> 2.446912</td><td> 2.612242</td><td> 2.828928</td><td> 3.142668</td><td> 3.707428</td></tr>\n",
              "\t<tr><th scope=row> 7</th><td>1.894579</td><td>1.966153</td><td>2.046011</td><td>2.136453</td><td> 2.240879</td><td> 2.364624</td><td> 2.516752</td><td> 2.714573</td><td> 2.997952</td><td> 3.499483</td></tr>\n",
              "\t<tr><th scope=row> 8</th><td>1.859548</td><td>1.927986</td><td>2.004152</td><td>2.090166</td><td> 2.189155</td><td> 2.306004</td><td> 2.448985</td><td> 2.633814</td><td> 2.896459</td><td> 3.355387</td></tr>\n",
              "\t<tr><th scope=row> 9</th><td>1.833113</td><td>1.899222</td><td>1.972653</td><td>2.055395</td><td> 2.150375</td><td> 2.262157</td><td> 2.398441</td><td> 2.573804</td><td> 2.821438</td><td> 3.249836</td></tr>\n",
              "\t<tr><th scope=row>10</th><td>1.812461</td><td>1.876774</td><td>1.948099</td><td>2.028327</td><td> 2.120234</td><td> 2.228139</td><td> 2.359315</td><td> 2.527484</td><td> 2.763769</td><td> 3.169273</td></tr>\n",
              "\t<tr><th scope=row>11</th><td>1.795885</td><td>1.858772</td><td>1.928427</td><td>2.006663</td><td> 2.096139</td><td> 2.200985</td><td> 2.328140</td><td> 2.490664</td><td> 2.718079</td><td> 3.105807</td></tr>\n",
              "\t<tr><th scope=row>12</th><td>1.782288</td><td>1.844015</td><td>1.912313</td><td>1.988934</td><td> 2.076441</td><td> 2.178813</td><td> 2.302722</td><td> 2.460700</td><td> 2.680998</td><td> 3.054540</td></tr>\n",
              "\t<tr><th scope=row>13</th><td>1.770933</td><td>1.831700</td><td>1.898874</td><td>1.974158</td><td> 2.060038</td><td> 2.160369</td><td> 2.281604</td><td> 2.435845</td><td> 2.650309</td><td> 3.012276</td></tr>\n",
              "\t<tr><th scope=row>14</th><td>1.761310</td><td>1.821267</td><td>1.887496</td><td>1.961656</td><td> 2.046169</td><td> 2.144787</td><td> 2.263781</td><td> 2.414898</td><td> 2.624494</td><td> 2.976843</td></tr>\n",
              "\t<tr><th scope=row>15</th><td>1.753050</td><td>1.812316</td><td>1.877739</td><td>1.950940</td><td> 2.034289</td><td> 2.131450</td><td> 2.248540</td><td> 2.397005</td><td> 2.602480</td><td> 2.946713</td></tr>\n",
              "\t<tr><th scope=row>16</th><td>1.745884</td><td>1.804553</td><td>1.869279</td><td>1.941654</td><td> 2.024000</td><td> 2.119905</td><td> 2.235358</td><td> 2.381545</td><td> 2.583487</td><td> 2.920782</td></tr>\n",
              "\t<tr><th scope=row>17</th><td>1.739607</td><td>1.797755</td><td>1.861875</td><td>1.933530</td><td> 2.015002</td><td> 2.109816</td><td> 2.223845</td><td> 2.368055</td><td> 2.566934</td><td> 2.898231</td></tr>\n",
              "\t<tr><th scope=row>18</th><td>1.734064</td><td>1.791754</td><td>1.855340</td><td>1.926362</td><td> 2.007067</td><td> 2.100922</td><td> 2.213703</td><td> 2.356180</td><td> 2.552380</td><td> 2.878440</td></tr>\n",
              "\t<tr><th scope=row>19</th><td>1.729133</td><td>1.786417</td><td>1.849530</td><td>1.919992</td><td> 2.000017</td><td> 2.093024</td><td> 2.204701</td><td> 2.345648</td><td> 2.539483</td><td> 2.860935</td></tr>\n",
              "\t<tr><th scope=row>20</th><td>1.724718</td><td>1.781640</td><td>1.844331</td><td>1.914292</td><td> 1.993713</td><td> 2.085963</td><td> 2.196658</td><td> 2.336242</td><td> 2.527977</td><td> 2.845340</td></tr>\n",
              "\t<tr><th scope=row>21</th><td>1.720743</td><td>1.777339</td><td>1.839651</td><td>1.909164</td><td> 1.988041</td><td> 2.079614</td><td> 2.189427</td><td> 2.327792</td><td> 2.517648</td><td> 2.831360</td></tr>\n",
              "\t<tr><th scope=row>22</th><td>1.717144</td><td>1.773447</td><td>1.835417</td><td>1.904524</td><td> 1.982911</td><td> 2.073873</td><td> 2.182893</td><td> 2.320160</td><td> 2.508325</td><td> 2.818756</td></tr>\n",
              "\t<tr><th scope=row>23</th><td>1.713872</td><td>1.769907</td><td>1.831567</td><td>1.900307</td><td> 1.978249</td><td> 2.068658</td><td> 2.176958</td><td> 2.313231</td><td> 2.499867</td><td> 2.807336</td></tr>\n",
              "\t<tr><th scope=row>24</th><td>1.710882</td><td>1.766675</td><td>1.828051</td><td>1.896457</td><td> 1.973994</td><td> 2.063899</td><td> 2.171545</td><td> 2.306913</td><td> 2.492159</td><td> 2.796940</td></tr>\n",
              "\t<tr><th scope=row>25</th><td>1.708141</td><td>1.763711</td><td>1.824828</td><td>1.892928</td><td> 1.970095</td><td> 2.059539</td><td> 2.166587</td><td> 2.301130</td><td> 2.485107</td><td> 2.787436</td></tr>\n",
              "\t<tr><th scope=row>26</th><td>1.705618</td><td>1.760983</td><td>1.821863</td><td>1.889682</td><td> 1.966509</td><td> 2.055529</td><td> 2.162029</td><td> 2.295815</td><td> 2.478630</td><td> 2.778715</td></tr>\n",
              "\t<tr><th scope=row>27</th><td>1.703288</td><td>1.758466</td><td>1.819126</td><td>1.886686</td><td> 1.963200</td><td> 2.051831</td><td> 2.157825</td><td> 2.290914</td><td> 2.472660</td><td> 2.770683</td></tr>\n",
              "\t<tr><th scope=row>28</th><td>1.701131</td><td>1.756134</td><td>1.816592</td><td>1.883912</td><td> 1.960136</td><td> 2.048407</td><td> 2.153935</td><td> 2.286380</td><td> 2.467140</td><td> 2.763262</td></tr>\n",
              "\t<tr><th scope=row>29</th><td>1.699127</td><td>1.753968</td><td>1.814238</td><td>1.881336</td><td> 1.957293</td><td> 2.045230</td><td> 2.150325</td><td> 2.282175</td><td> 2.462021</td><td> 2.756386</td></tr>\n",
              "\t<tr><th scope=row>30</th><td>1.697261</td><td>1.751952</td><td>1.812047</td><td>1.878938</td><td> 1.954645</td><td> 2.042272</td><td> 2.146966</td><td> 2.278262</td><td> 2.457262</td><td> 2.749996</td></tr>\n",
              "</tbody>\n",
              "</table>\n"
            ],
            "text/markdown": "\nA matrix: 30 × 10 of type dbl\n\n| <!--/--> | 0.050 | 0.045 | 0.040 | 0.035 | 0.030 | 0.025 | 0.020 | 0.015 | 0.010 | 0.005 |\n|---|---|---|---|---|---|---|---|---|---|---|\n|  1 | 6.313752 | 7.026366 | 7.915815 | 9.057887 | 10.578895 | 12.706205 | 15.894545 | 21.204949 | 31.820516 | 63.656741 |\n|  2 | 2.919986 | 3.103977 | 3.319764 | 3.578247 |  3.896425 |  4.302653 |  4.848732 |  5.642778 |  6.964557 |  9.924843 |\n|  3 | 2.353363 | 2.470807 | 2.605427 | 2.762599 |  2.950510 |  3.182446 |  3.481909 |  3.896046 |  4.540703 |  5.840909 |\n|  4 | 2.131847 | 2.226100 | 2.332873 | 2.455892 |  2.600762 |  2.776445 |  2.998528 |  3.297630 |  3.746947 |  4.604095 |\n|  5 | 2.015048 | 2.097837 | 2.190958 | 2.297392 |  2.421585 |  2.570582 |  2.756509 |  3.002875 |  3.364930 |  4.032143 |\n|  6 | 1.943180 | 2.019201 | 2.104306 | 2.201059 |  2.313263 |  2.446912 |  2.612242 |  2.828928 |  3.142668 |  3.707428 |\n|  7 | 1.894579 | 1.966153 | 2.046011 | 2.136453 |  2.240879 |  2.364624 |  2.516752 |  2.714573 |  2.997952 |  3.499483 |\n|  8 | 1.859548 | 1.927986 | 2.004152 | 2.090166 |  2.189155 |  2.306004 |  2.448985 |  2.633814 |  2.896459 |  3.355387 |\n|  9 | 1.833113 | 1.899222 | 1.972653 | 2.055395 |  2.150375 |  2.262157 |  2.398441 |  2.573804 |  2.821438 |  3.249836 |\n| 10 | 1.812461 | 1.876774 | 1.948099 | 2.028327 |  2.120234 |  2.228139 |  2.359315 |  2.527484 |  2.763769 |  3.169273 |\n| 11 | 1.795885 | 1.858772 | 1.928427 | 2.006663 |  2.096139 |  2.200985 |  2.328140 |  2.490664 |  2.718079 |  3.105807 |\n| 12 | 1.782288 | 1.844015 | 1.912313 | 1.988934 |  2.076441 |  2.178813 |  2.302722 |  2.460700 |  2.680998 |  3.054540 |\n| 13 | 1.770933 | 1.831700 | 1.898874 | 1.974158 |  2.060038 |  2.160369 |  2.281604 |  2.435845 |  2.650309 |  3.012276 |\n| 14 | 1.761310 | 1.821267 | 1.887496 | 1.961656 |  2.046169 |  2.144787 |  2.263781 |  2.414898 |  2.624494 |  2.976843 |\n| 15 | 1.753050 | 1.812316 | 1.877739 | 1.950940 |  2.034289 |  2.131450 |  2.248540 |  2.397005 |  2.602480 |  2.946713 |\n| 16 | 1.745884 | 1.804553 | 1.869279 | 1.941654 |  2.024000 |  2.119905 |  2.235358 |  2.381545 |  2.583487 |  2.920782 |\n| 17 | 1.739607 | 1.797755 | 1.861875 | 1.933530 |  2.015002 |  2.109816 |  2.223845 |  2.368055 |  2.566934 |  2.898231 |\n| 18 | 1.734064 | 1.791754 | 1.855340 | 1.926362 |  2.007067 |  2.100922 |  2.213703 |  2.356180 |  2.552380 |  2.878440 |\n| 19 | 1.729133 | 1.786417 | 1.849530 | 1.919992 |  2.000017 |  2.093024 |  2.204701 |  2.345648 |  2.539483 |  2.860935 |\n| 20 | 1.724718 | 1.781640 | 1.844331 | 1.914292 |  1.993713 |  2.085963 |  2.196658 |  2.336242 |  2.527977 |  2.845340 |\n| 21 | 1.720743 | 1.777339 | 1.839651 | 1.909164 |  1.988041 |  2.079614 |  2.189427 |  2.327792 |  2.517648 |  2.831360 |\n| 22 | 1.717144 | 1.773447 | 1.835417 | 1.904524 |  1.982911 |  2.073873 |  2.182893 |  2.320160 |  2.508325 |  2.818756 |\n| 23 | 1.713872 | 1.769907 | 1.831567 | 1.900307 |  1.978249 |  2.068658 |  2.176958 |  2.313231 |  2.499867 |  2.807336 |\n| 24 | 1.710882 | 1.766675 | 1.828051 | 1.896457 |  1.973994 |  2.063899 |  2.171545 |  2.306913 |  2.492159 |  2.796940 |\n| 25 | 1.708141 | 1.763711 | 1.824828 | 1.892928 |  1.970095 |  2.059539 |  2.166587 |  2.301130 |  2.485107 |  2.787436 |\n| 26 | 1.705618 | 1.760983 | 1.821863 | 1.889682 |  1.966509 |  2.055529 |  2.162029 |  2.295815 |  2.478630 |  2.778715 |\n| 27 | 1.703288 | 1.758466 | 1.819126 | 1.886686 |  1.963200 |  2.051831 |  2.157825 |  2.290914 |  2.472660 |  2.770683 |\n| 28 | 1.701131 | 1.756134 | 1.816592 | 1.883912 |  1.960136 |  2.048407 |  2.153935 |  2.286380 |  2.467140 |  2.763262 |\n| 29 | 1.699127 | 1.753968 | 1.814238 | 1.881336 |  1.957293 |  2.045230 |  2.150325 |  2.282175 |  2.462021 |  2.756386 |\n| 30 | 1.697261 | 1.751952 | 1.812047 | 1.878938 |  1.954645 |  2.042272 |  2.146966 |  2.278262 |  2.457262 |  2.749996 |\n\n",
            "text/latex": "A matrix: 30 × 10 of type dbl\n\\begin{tabular}{r|llllllllll}\n  & 0.050 & 0.045 & 0.040 & 0.035 & 0.030 & 0.025 & 0.020 & 0.015 & 0.010 & 0.005\\\\\n\\hline\n\t 1 & 6.313752 & 7.026366 & 7.915815 & 9.057887 & 10.578895 & 12.706205 & 15.894545 & 21.204949 & 31.820516 & 63.656741\\\\\n\t 2 & 2.919986 & 3.103977 & 3.319764 & 3.578247 &  3.896425 &  4.302653 &  4.848732 &  5.642778 &  6.964557 &  9.924843\\\\\n\t 3 & 2.353363 & 2.470807 & 2.605427 & 2.762599 &  2.950510 &  3.182446 &  3.481909 &  3.896046 &  4.540703 &  5.840909\\\\\n\t 4 & 2.131847 & 2.226100 & 2.332873 & 2.455892 &  2.600762 &  2.776445 &  2.998528 &  3.297630 &  3.746947 &  4.604095\\\\\n\t 5 & 2.015048 & 2.097837 & 2.190958 & 2.297392 &  2.421585 &  2.570582 &  2.756509 &  3.002875 &  3.364930 &  4.032143\\\\\n\t 6 & 1.943180 & 2.019201 & 2.104306 & 2.201059 &  2.313263 &  2.446912 &  2.612242 &  2.828928 &  3.142668 &  3.707428\\\\\n\t 7 & 1.894579 & 1.966153 & 2.046011 & 2.136453 &  2.240879 &  2.364624 &  2.516752 &  2.714573 &  2.997952 &  3.499483\\\\\n\t 8 & 1.859548 & 1.927986 & 2.004152 & 2.090166 &  2.189155 &  2.306004 &  2.448985 &  2.633814 &  2.896459 &  3.355387\\\\\n\t 9 & 1.833113 & 1.899222 & 1.972653 & 2.055395 &  2.150375 &  2.262157 &  2.398441 &  2.573804 &  2.821438 &  3.249836\\\\\n\t10 & 1.812461 & 1.876774 & 1.948099 & 2.028327 &  2.120234 &  2.228139 &  2.359315 &  2.527484 &  2.763769 &  3.169273\\\\\n\t11 & 1.795885 & 1.858772 & 1.928427 & 2.006663 &  2.096139 &  2.200985 &  2.328140 &  2.490664 &  2.718079 &  3.105807\\\\\n\t12 & 1.782288 & 1.844015 & 1.912313 & 1.988934 &  2.076441 &  2.178813 &  2.302722 &  2.460700 &  2.680998 &  3.054540\\\\\n\t13 & 1.770933 & 1.831700 & 1.898874 & 1.974158 &  2.060038 &  2.160369 &  2.281604 &  2.435845 &  2.650309 &  3.012276\\\\\n\t14 & 1.761310 & 1.821267 & 1.887496 & 1.961656 &  2.046169 &  2.144787 &  2.263781 &  2.414898 &  2.624494 &  2.976843\\\\\n\t15 & 1.753050 & 1.812316 & 1.877739 & 1.950940 &  2.034289 &  2.131450 &  2.248540 &  2.397005 &  2.602480 &  2.946713\\\\\n\t16 & 1.745884 & 1.804553 & 1.869279 & 1.941654 &  2.024000 &  2.119905 &  2.235358 &  2.381545 &  2.583487 &  2.920782\\\\\n\t17 & 1.739607 & 1.797755 & 1.861875 & 1.933530 &  2.015002 &  2.109816 &  2.223845 &  2.368055 &  2.566934 &  2.898231\\\\\n\t18 & 1.734064 & 1.791754 & 1.855340 & 1.926362 &  2.007067 &  2.100922 &  2.213703 &  2.356180 &  2.552380 &  2.878440\\\\\n\t19 & 1.729133 & 1.786417 & 1.849530 & 1.919992 &  2.000017 &  2.093024 &  2.204701 &  2.345648 &  2.539483 &  2.860935\\\\\n\t20 & 1.724718 & 1.781640 & 1.844331 & 1.914292 &  1.993713 &  2.085963 &  2.196658 &  2.336242 &  2.527977 &  2.845340\\\\\n\t21 & 1.720743 & 1.777339 & 1.839651 & 1.909164 &  1.988041 &  2.079614 &  2.189427 &  2.327792 &  2.517648 &  2.831360\\\\\n\t22 & 1.717144 & 1.773447 & 1.835417 & 1.904524 &  1.982911 &  2.073873 &  2.182893 &  2.320160 &  2.508325 &  2.818756\\\\\n\t23 & 1.713872 & 1.769907 & 1.831567 & 1.900307 &  1.978249 &  2.068658 &  2.176958 &  2.313231 &  2.499867 &  2.807336\\\\\n\t24 & 1.710882 & 1.766675 & 1.828051 & 1.896457 &  1.973994 &  2.063899 &  2.171545 &  2.306913 &  2.492159 &  2.796940\\\\\n\t25 & 1.708141 & 1.763711 & 1.824828 & 1.892928 &  1.970095 &  2.059539 &  2.166587 &  2.301130 &  2.485107 &  2.787436\\\\\n\t26 & 1.705618 & 1.760983 & 1.821863 & 1.889682 &  1.966509 &  2.055529 &  2.162029 &  2.295815 &  2.478630 &  2.778715\\\\\n\t27 & 1.703288 & 1.758466 & 1.819126 & 1.886686 &  1.963200 &  2.051831 &  2.157825 &  2.290914 &  2.472660 &  2.770683\\\\\n\t28 & 1.701131 & 1.756134 & 1.816592 & 1.883912 &  1.960136 &  2.048407 &  2.153935 &  2.286380 &  2.467140 &  2.763262\\\\\n\t29 & 1.699127 & 1.753968 & 1.814238 & 1.881336 &  1.957293 &  2.045230 &  2.150325 &  2.282175 &  2.462021 &  2.756386\\\\\n\t30 & 1.697261 & 1.751952 & 1.812047 & 1.878938 &  1.954645 &  2.042272 &  2.146966 &  2.278262 &  2.457262 &  2.749996\\\\\n\\end{tabular}\n",
            "text/plain": [
              "   0.050    0.045    0.040    0.035    0.030     0.025     0.020     0.015    \n",
              " 1 6.313752 7.026366 7.915815 9.057887 10.578895 12.706205 15.894545 21.204949\n",
              " 2 2.919986 3.103977 3.319764 3.578247  3.896425  4.302653  4.848732  5.642778\n",
              " 3 2.353363 2.470807 2.605427 2.762599  2.950510  3.182446  3.481909  3.896046\n",
              " 4 2.131847 2.226100 2.332873 2.455892  2.600762  2.776445  2.998528  3.297630\n",
              " 5 2.015048 2.097837 2.190958 2.297392  2.421585  2.570582  2.756509  3.002875\n",
              " 6 1.943180 2.019201 2.104306 2.201059  2.313263  2.446912  2.612242  2.828928\n",
              " 7 1.894579 1.966153 2.046011 2.136453  2.240879  2.364624  2.516752  2.714573\n",
              " 8 1.859548 1.927986 2.004152 2.090166  2.189155  2.306004  2.448985  2.633814\n",
              " 9 1.833113 1.899222 1.972653 2.055395  2.150375  2.262157  2.398441  2.573804\n",
              "10 1.812461 1.876774 1.948099 2.028327  2.120234  2.228139  2.359315  2.527484\n",
              "11 1.795885 1.858772 1.928427 2.006663  2.096139  2.200985  2.328140  2.490664\n",
              "12 1.782288 1.844015 1.912313 1.988934  2.076441  2.178813  2.302722  2.460700\n",
              "13 1.770933 1.831700 1.898874 1.974158  2.060038  2.160369  2.281604  2.435845\n",
              "14 1.761310 1.821267 1.887496 1.961656  2.046169  2.144787  2.263781  2.414898\n",
              "15 1.753050 1.812316 1.877739 1.950940  2.034289  2.131450  2.248540  2.397005\n",
              "16 1.745884 1.804553 1.869279 1.941654  2.024000  2.119905  2.235358  2.381545\n",
              "17 1.739607 1.797755 1.861875 1.933530  2.015002  2.109816  2.223845  2.368055\n",
              "18 1.734064 1.791754 1.855340 1.926362  2.007067  2.100922  2.213703  2.356180\n",
              "19 1.729133 1.786417 1.849530 1.919992  2.000017  2.093024  2.204701  2.345648\n",
              "20 1.724718 1.781640 1.844331 1.914292  1.993713  2.085963  2.196658  2.336242\n",
              "21 1.720743 1.777339 1.839651 1.909164  1.988041  2.079614  2.189427  2.327792\n",
              "22 1.717144 1.773447 1.835417 1.904524  1.982911  2.073873  2.182893  2.320160\n",
              "23 1.713872 1.769907 1.831567 1.900307  1.978249  2.068658  2.176958  2.313231\n",
              "24 1.710882 1.766675 1.828051 1.896457  1.973994  2.063899  2.171545  2.306913\n",
              "25 1.708141 1.763711 1.824828 1.892928  1.970095  2.059539  2.166587  2.301130\n",
              "26 1.705618 1.760983 1.821863 1.889682  1.966509  2.055529  2.162029  2.295815\n",
              "27 1.703288 1.758466 1.819126 1.886686  1.963200  2.051831  2.157825  2.290914\n",
              "28 1.701131 1.756134 1.816592 1.883912  1.960136  2.048407  2.153935  2.286380\n",
              "29 1.699127 1.753968 1.814238 1.881336  1.957293  2.045230  2.150325  2.282175\n",
              "30 1.697261 1.751952 1.812047 1.878938  1.954645  2.042272  2.146966  2.278262\n",
              "   0.010     0.005    \n",
              " 1 31.820516 63.656741\n",
              " 2  6.964557  9.924843\n",
              " 3  4.540703  5.840909\n",
              " 4  3.746947  4.604095\n",
              " 5  3.364930  4.032143\n",
              " 6  3.142668  3.707428\n",
              " 7  2.997952  3.499483\n",
              " 8  2.896459  3.355387\n",
              " 9  2.821438  3.249836\n",
              "10  2.763769  3.169273\n",
              "11  2.718079  3.105807\n",
              "12  2.680998  3.054540\n",
              "13  2.650309  3.012276\n",
              "14  2.624494  2.976843\n",
              "15  2.602480  2.946713\n",
              "16  2.583487  2.920782\n",
              "17  2.566934  2.898231\n",
              "18  2.552380  2.878440\n",
              "19  2.539483  2.860935\n",
              "20  2.527977  2.845340\n",
              "21  2.517648  2.831360\n",
              "22  2.508325  2.818756\n",
              "23  2.499867  2.807336\n",
              "24  2.492159  2.796940\n",
              "25  2.485107  2.787436\n",
              "26  2.478630  2.778715\n",
              "27  2.472660  2.770683\n",
              "28  2.467140  2.763262\n",
              "29  2.462021  2.756386\n",
              "30  2.457262  2.749996"
            ]
          },
          "metadata": {}
        }
      ],
      "source": [
        "q <- seq(0.05, 0.005, by = -0.005)\n",
        "df <- seq(1, 30, by = 1)\n",
        "probabilidade <- c()\n",
        "for(i in df){\n",
        "    for(j in q){\n",
        "        probabilidade <- c(probabilidade, qt(j, i, lower.tail = F))\n",
        "    }\n",
        "}\n",
        "tabela_t_student <- matrix(probabilidade, ncol=10, byrow=TRUE)\n",
        "colnames(tabela_t_student) <- format(q)\n",
        "rownames(tabela_t_student) <- format(df)\n",
        "tabela_t_student"
      ]
    },
    {
      "cell_type": "markdown",
      "metadata": {
        "id": "MbVu6FdNpsk0"
      },
      "source": [
        "<img src='https://caelum-online-public.s3.amazonaws.com/1229-estatistica-parte3/01/img004.png' width='250px'>\n",
        "\n",
        "As células da tabela acima são valores de $t$ para uma área ou probabilidade na cauda superior da distribuição $t$."
      ]
    },
    {
      "cell_type": "markdown",
      "metadata": {
        "id": "UXM3qdYUpsk0"
      },
      "source": [
        "---"
      ]
    },
    {
      "cell_type": "markdown",
      "metadata": {
        "id": "dDbUKs7-psk0"
      },
      "source": [
        "Os **testes unicaudais** verificam as variáveis em relação a um piso ou a um teto e avaliam os valores máximos ou mínimos esperados para os parâmetros em estudo e a chance de as estatísticas amostrais serem inferiores ou superiores a dado limite."
      ]
    },
    {
      "cell_type": "markdown",
      "metadata": {
        "id": "AvnFJnUrpsk1"
      },
      "source": [
        "<img src='https://caelum-online-public.s3.amazonaws.com/1229-estatistica-parte3/01/img008.png' width='700px'>"
      ]
    },
    {
      "cell_type": "markdown",
      "metadata": {
        "id": "IgDg23Xppsk1"
      },
      "source": [
        "### Dados do problema"
      ]
    },
    {
      "cell_type": "code",
      "execution_count": null,
      "metadata": {
        "id": "IKvYICfEpsk2"
      },
      "outputs": [],
      "source": [
        "amostra <- c(37.27, 36.42, 34.84, 34.60, 37.49, \n",
        "           36.53, 35.49, 36.90, 34.52, 37.30, \n",
        "           34.99, 36.55, 36.29, 36.06, 37.42, \n",
        "           34.47, 36.70, 35.86, 36.80, 36.92, \n",
        "           37.04, 36.39, 37.32, 36.64, 35.45)"
      ]
    },
    {
      "cell_type": "code",
      "execution_count": null,
      "metadata": {
        "id": "CBuciT30psk3",
        "scrolled": false,
        "colab": {
          "base_uri": "https://localhost:8080/",
          "height": 917
        },
        "outputId": "3dba034f-c554-425c-8872-795c4f441e84"
      },
      "outputs": [
        {
          "output_type": "display_data",
          "data": {
            "text/html": [
              "<table class=\"dataframe\">\n",
              "<caption>A data.frame: 25 × 1</caption>\n",
              "<thead>\n",
              "\t<tr><th scope=col>Amostra</th></tr>\n",
              "\t<tr><th scope=col>&lt;dbl&gt;</th></tr>\n",
              "</thead>\n",
              "<tbody>\n",
              "\t<tr><td>37.27</td></tr>\n",
              "\t<tr><td>36.42</td></tr>\n",
              "\t<tr><td>34.84</td></tr>\n",
              "\t<tr><td>34.60</td></tr>\n",
              "\t<tr><td>37.49</td></tr>\n",
              "\t<tr><td>36.53</td></tr>\n",
              "\t<tr><td>35.49</td></tr>\n",
              "\t<tr><td>36.90</td></tr>\n",
              "\t<tr><td>34.52</td></tr>\n",
              "\t<tr><td>37.30</td></tr>\n",
              "\t<tr><td>34.99</td></tr>\n",
              "\t<tr><td>36.55</td></tr>\n",
              "\t<tr><td>36.29</td></tr>\n",
              "\t<tr><td>36.06</td></tr>\n",
              "\t<tr><td>37.42</td></tr>\n",
              "\t<tr><td>34.47</td></tr>\n",
              "\t<tr><td>36.70</td></tr>\n",
              "\t<tr><td>35.86</td></tr>\n",
              "\t<tr><td>36.80</td></tr>\n",
              "\t<tr><td>36.92</td></tr>\n",
              "\t<tr><td>37.04</td></tr>\n",
              "\t<tr><td>36.39</td></tr>\n",
              "\t<tr><td>37.32</td></tr>\n",
              "\t<tr><td>36.64</td></tr>\n",
              "\t<tr><td>35.45</td></tr>\n",
              "</tbody>\n",
              "</table>\n"
            ],
            "text/markdown": "\nA data.frame: 25 × 1\n\n| Amostra &lt;dbl&gt; |\n|---|\n| 37.27 |\n| 36.42 |\n| 34.84 |\n| 34.60 |\n| 37.49 |\n| 36.53 |\n| 35.49 |\n| 36.90 |\n| 34.52 |\n| 37.30 |\n| 34.99 |\n| 36.55 |\n| 36.29 |\n| 36.06 |\n| 37.42 |\n| 34.47 |\n| 36.70 |\n| 35.86 |\n| 36.80 |\n| 36.92 |\n| 37.04 |\n| 36.39 |\n| 37.32 |\n| 36.64 |\n| 35.45 |\n\n",
            "text/latex": "A data.frame: 25 × 1\n\\begin{tabular}{l}\n Amostra\\\\\n <dbl>\\\\\n\\hline\n\t 37.27\\\\\n\t 36.42\\\\\n\t 34.84\\\\\n\t 34.60\\\\\n\t 37.49\\\\\n\t 36.53\\\\\n\t 35.49\\\\\n\t 36.90\\\\\n\t 34.52\\\\\n\t 37.30\\\\\n\t 34.99\\\\\n\t 36.55\\\\\n\t 36.29\\\\\n\t 36.06\\\\\n\t 37.42\\\\\n\t 34.47\\\\\n\t 36.70\\\\\n\t 35.86\\\\\n\t 36.80\\\\\n\t 36.92\\\\\n\t 37.04\\\\\n\t 36.39\\\\\n\t 37.32\\\\\n\t 36.64\\\\\n\t 35.45\\\\\n\\end{tabular}\n",
            "text/plain": [
              "   Amostra\n",
              "1  37.27  \n",
              "2  36.42  \n",
              "3  34.84  \n",
              "4  34.60  \n",
              "5  37.49  \n",
              "6  36.53  \n",
              "7  35.49  \n",
              "8  36.90  \n",
              "9  34.52  \n",
              "10 37.30  \n",
              "11 34.99  \n",
              "12 36.55  \n",
              "13 36.29  \n",
              "14 36.06  \n",
              "15 37.42  \n",
              "16 34.47  \n",
              "17 36.70  \n",
              "18 35.86  \n",
              "19 36.80  \n",
              "20 36.92  \n",
              "21 37.04  \n",
              "22 36.39  \n",
              "23 37.32  \n",
              "24 36.64  \n",
              "25 35.45  "
            ]
          },
          "metadata": {}
        }
      ],
      "source": [
        "amostra <- data.frame(Amostra = amostra)\n",
        "amostra"
      ]
    },
    {
      "cell_type": "code",
      "execution_count": null,
      "metadata": {
        "id": "79TBzFsdpsk4",
        "colab": {
          "base_uri": "https://localhost:8080/",
          "height": 34
        },
        "outputId": "493cd054-931a-42e8-f285-2e2187dbedbf"
      },
      "outputs": [
        {
          "output_type": "display_data",
          "data": {
            "text/html": [
              "36.2504"
            ],
            "text/markdown": "36.2504",
            "text/latex": "36.2504",
            "text/plain": [
              "[1] 36.2504"
            ]
          },
          "metadata": {}
        }
      ],
      "source": [
        "media_amostra <- mean(amostra$Amostra)\n",
        "media_amostra"
      ]
    },
    {
      "cell_type": "code",
      "execution_count": null,
      "metadata": {
        "id": "S82xbyghpsk6",
        "scrolled": true,
        "colab": {
          "base_uri": "https://localhost:8080/",
          "height": 34
        },
        "outputId": "ac6d1b26-ac5b-4836-aec6-54d963910744"
      },
      "outputs": [
        {
          "output_type": "display_data",
          "data": {
            "text/html": [
              "0.966753501846946"
            ],
            "text/markdown": "0.966753501846946",
            "text/latex": "0.966753501846946",
            "text/plain": [
              "[1] 0.9667535"
            ]
          },
          "metadata": {}
        }
      ],
      "source": [
        "desvio_padrao_amostra <- sd(amostra$Amostra)\n",
        "desvio_padrao_amostra"
      ]
    },
    {
      "cell_type": "code",
      "execution_count": null,
      "metadata": {
        "id": "mvtiwLUWpsk8"
      },
      "outputs": [],
      "source": [
        "media <- 37\n",
        "significancia <- 0.05 \n",
        "confianca <- 1 - significancia\n",
        "n <- 25\n",
        "graus_de_liberdade <- 24 "
      ]
    },
    {
      "cell_type": "markdown",
      "metadata": {
        "id": "rpLOiPU2psk9"
      },
      "source": [
        "### **Passo 1** - formulação das hipóteses $H_0$ e $H_1$"
      ]
    },
    {
      "cell_type": "markdown",
      "metadata": {
        "id": "iMBi2jUfsc4s"
      },
      "source": [
        "\n",
        "#### <font color='red'>Lembre-se, a hipótese nula sempre contém a alegação de igualdade</font>"
      ]
    },
    {
      "cell_type": "markdown",
      "metadata": {
        "id": "8roeH10fpsk-"
      },
      "source": [
        "### $H_0: \\mu \\leq 37$\n",
        "\n",
        "### $H_1: \\mu > 37$"
      ]
    },
    {
      "cell_type": "markdown",
      "metadata": {
        "id": "uqE6JXGspsk-"
      },
      "source": [
        "---"
      ]
    },
    {
      "cell_type": "markdown",
      "metadata": {
        "id": "XsOkFtncpsk_"
      },
      "source": [
        "### **Passo 2** - escolha da distribuição amostral adequada\n",
        "<img src='https://caelum-online-public.s3.amazonaws.com/1229-estatistica-parte3/01/img003.png' width=70%>"
      ]
    },
    {
      "cell_type": "markdown",
      "metadata": {
        "id": "jpXjRqO2psk_"
      },
      "source": [
        "### O tamanho da amostra é maior que 30?\n",
        "#### Resp.: Não\n",
        "\n",
        "### Podemos afirmar que a população se distribui aproximadamente como uma normal?\n",
        "#### Resp.: Sim\n",
        "\n",
        "### O desvio padrão populacional é conhecido?\n",
        "#### Resp.: Não"
      ]
    },
    {
      "cell_type": "markdown",
      "metadata": {
        "id": "J14v2aXOpslA"
      },
      "source": [
        "---"
      ]
    },
    {
      "cell_type": "markdown",
      "metadata": {
        "id": "DQvwhQWnpslA"
      },
      "source": [
        "### **Passo 3** - fixação da significância do teste ($\\alpha$)\n",
        "\n",
        "#### <font color=red>Documentações:\n",
        "\n",
        "- [**TDist**](https://www.rdocumentation.org/packages/stats/versions/3.6.1/topics/TDist)"
      ]
    },
    {
      "cell_type": "code",
      "execution_count": null,
      "metadata": {
        "id": "12t8QJMzpslD",
        "scrolled": true,
        "colab": {
          "base_uri": "https://localhost:8080/",
          "height": 161
        },
        "outputId": "aa795372-831c-4e2d-ce4b-10abfe1cae41"
      },
      "outputs": [
        {
          "output_type": "display_data",
          "data": {
            "text/html": [
              "<table class=\"dataframe\">\n",
              "<caption>A matrix: 3 × 10 of type dbl</caption>\n",
              "<thead>\n",
              "\t<tr><th></th><th scope=col>0.050</th><th scope=col>0.045</th><th scope=col>0.040</th><th scope=col>0.035</th><th scope=col>0.030</th><th scope=col>0.025</th><th scope=col>0.020</th><th scope=col>0.015</th><th scope=col>0.010</th><th scope=col>0.005</th></tr>\n",
              "</thead>\n",
              "<tbody>\n",
              "\t<tr><th scope=row>23</th><td>1.713872</td><td>1.769907</td><td>1.831567</td><td>1.900307</td><td>1.978249</td><td>2.068658</td><td>2.176958</td><td>2.313231</td><td>2.499867</td><td>2.807336</td></tr>\n",
              "\t<tr><th scope=row>24</th><td>1.710882</td><td>1.766675</td><td>1.828051</td><td>1.896457</td><td>1.973994</td><td>2.063899</td><td>2.171545</td><td>2.306913</td><td>2.492159</td><td>2.796940</td></tr>\n",
              "\t<tr><th scope=row>25</th><td>1.708141</td><td>1.763711</td><td>1.824828</td><td>1.892928</td><td>1.970095</td><td>2.059539</td><td>2.166587</td><td>2.301130</td><td>2.485107</td><td>2.787436</td></tr>\n",
              "</tbody>\n",
              "</table>\n"
            ],
            "text/markdown": "\nA matrix: 3 × 10 of type dbl\n\n| <!--/--> | 0.050 | 0.045 | 0.040 | 0.035 | 0.030 | 0.025 | 0.020 | 0.015 | 0.010 | 0.005 |\n|---|---|---|---|---|---|---|---|---|---|---|\n| 23 | 1.713872 | 1.769907 | 1.831567 | 1.900307 | 1.978249 | 2.068658 | 2.176958 | 2.313231 | 2.499867 | 2.807336 |\n| 24 | 1.710882 | 1.766675 | 1.828051 | 1.896457 | 1.973994 | 2.063899 | 2.171545 | 2.306913 | 2.492159 | 2.796940 |\n| 25 | 1.708141 | 1.763711 | 1.824828 | 1.892928 | 1.970095 | 2.059539 | 2.166587 | 2.301130 | 2.485107 | 2.787436 |\n\n",
            "text/latex": "A matrix: 3 × 10 of type dbl\n\\begin{tabular}{r|llllllllll}\n  & 0.050 & 0.045 & 0.040 & 0.035 & 0.030 & 0.025 & 0.020 & 0.015 & 0.010 & 0.005\\\\\n\\hline\n\t23 & 1.713872 & 1.769907 & 1.831567 & 1.900307 & 1.978249 & 2.068658 & 2.176958 & 2.313231 & 2.499867 & 2.807336\\\\\n\t24 & 1.710882 & 1.766675 & 1.828051 & 1.896457 & 1.973994 & 2.063899 & 2.171545 & 2.306913 & 2.492159 & 2.796940\\\\\n\t25 & 1.708141 & 1.763711 & 1.824828 & 1.892928 & 1.970095 & 2.059539 & 2.166587 & 2.301130 & 2.485107 & 2.787436\\\\\n\\end{tabular}\n",
            "text/plain": [
              "   0.050    0.045    0.040    0.035    0.030    0.025    0.020    0.015   \n",
              "23 1.713872 1.769907 1.831567 1.900307 1.978249 2.068658 2.176958 2.313231\n",
              "24 1.710882 1.766675 1.828051 1.896457 1.973994 2.063899 2.171545 2.306913\n",
              "25 1.708141 1.763711 1.824828 1.892928 1.970095 2.059539 2.166587 2.301130\n",
              "   0.010    0.005   \n",
              "23 2.499867 2.807336\n",
              "24 2.492159 2.796940\n",
              "25 2.485107 2.787436"
            ]
          },
          "metadata": {}
        }
      ],
      "source": [
        "tabela_t_student[23:25, ]"
      ]
    },
    {
      "cell_type": "markdown",
      "metadata": {
        "id": "Brk3cI1npslE"
      },
      "source": [
        "### Obtendo $t_{\\alpha}$"
      ]
    },
    {
      "cell_type": "code",
      "execution_count": null,
      "metadata": {
        "id": "xXi0eYGYpslF",
        "colab": {
          "base_uri": "https://localhost:8080/",
          "height": 34
        },
        "outputId": "76c4632c-c625-4945-fd33-21ff43793e8e"
      },
      "outputs": [
        {
          "output_type": "display_data",
          "data": {
            "text/html": [
              "1.71088207990943"
            ],
            "text/markdown": "1.71088207990943",
            "text/latex": "1.71088207990943",
            "text/plain": [
              "[1] 1.710882"
            ]
          },
          "metadata": {}
        }
      ],
      "source": [
        "t_alpha <- qt(confianca, graus_de_liberdade)\n",
        "t_alpha"
      ]
    },
    {
      "cell_type": "markdown",
      "metadata": {
        "id": "xMnBzjxLpslH"
      },
      "source": [
        "![Região de Aceitação](https://caelum-online-public.s3.amazonaws.com/1229-estatistica-parte3/01/img009.png)"
      ]
    },
    {
      "cell_type": "markdown",
      "metadata": {
        "id": "Azy_uNSGpslI"
      },
      "source": [
        "---"
      ]
    },
    {
      "cell_type": "markdown",
      "metadata": {
        "id": "YN4weG-1pslI"
      },
      "source": [
        "### **Passo 4** - cálculo da estatística-teste e verificação desse valor com as áreas de aceitação e rejeição do teste\n",
        "\n",
        "# $$t = \\frac{\\bar{x} - \\mu_0}{\\frac{s}{\\sqrt{n}}}$$"
      ]
    },
    {
      "cell_type": "code",
      "execution_count": null,
      "metadata": {
        "id": "qY0DfIffpslI",
        "colab": {
          "base_uri": "https://localhost:8080/",
          "height": 34
        },
        "outputId": "88586606-95dd-4fd3-a3a9-92ecbcbe0d62"
      },
      "outputs": [
        {
          "output_type": "display_data",
          "data": {
            "text/html": [
              "-3.87689311995208"
            ],
            "text/markdown": "-3.87689311995208",
            "text/latex": "-3.87689311995208",
            "text/plain": [
              "[1] -3.876893"
            ]
          },
          "metadata": {}
        }
      ],
      "source": [
        "t <- (media_amostra- media) / (desvio_padrao_amostra / sqrt(n))\n",
        "t"
      ]
    },
    {
      "cell_type": "markdown",
      "metadata": {
        "id": "SCIchVxNpslK"
      },
      "source": [
        "![Estatística-Teste](https://caelum-online-public.s3.amazonaws.com/1229-estatistica-parte3/01/img010.png)"
      ]
    },
    {
      "cell_type": "markdown",
      "metadata": {
        "id": "NiheMfTopslK"
      },
      "source": [
        "---"
      ]
    },
    {
      "cell_type": "markdown",
      "metadata": {
        "id": "YCsJySBGpslK"
      },
      "source": [
        "### **Passo 5** - Aceitação ou rejeição da hipótese nula"
      ]
    },
    {
      "cell_type": "markdown",
      "metadata": {
        "id": "ioLyTpbWpslL"
      },
      "source": [
        "<img src='https://caelum-online-public.s3.amazonaws.com/1229-estatistica-parte3/01/img013.png' width=90%>"
      ]
    },
    {
      "cell_type": "markdown",
      "metadata": {
        "id": "TQcuPzbPpslL"
      },
      "source": [
        "### <font color='red'>Critério do valor crítico</font>\n",
        "\n",
        "> ### Teste Unicaudal Superior\n",
        "> ### Rejeitar $H_0$ se $t \\geq t_{\\alpha}$"
      ]
    },
    {
      "cell_type": "code",
      "execution_count": null,
      "metadata": {
        "id": "pkoDYMLIpslM",
        "colab": {
          "base_uri": "https://localhost:8080/",
          "height": 34
        },
        "outputId": "023a7e42-75b7-4930-ff12-6c7bb052cb14"
      },
      "outputs": [
        {
          "output_type": "display_data",
          "data": {
            "text/html": [
              "FALSE"
            ],
            "text/markdown": "FALSE",
            "text/latex": "FALSE",
            "text/plain": [
              "[1] FALSE"
            ]
          },
          "metadata": {}
        }
      ],
      "source": [
        "t >= t_alpha"
      ]
    },
    {
      "cell_type": "markdown",
      "metadata": {
        "id": "F-_AVTMJpslN"
      },
      "source": [
        "### <font color='green'>Conclusão: Com um nível de confiança de 95% não podemos rejeitar $H_0$, ou seja, a alegação do fabricante é verdadeira.</font>"
      ]
    },
    {
      "cell_type": "markdown",
      "source": [
        "## Exercício - 03"
      ],
      "metadata": {
        "id": "p4GiMfbskDD0"
      }
    },
    {
      "cell_type": "markdown",
      "source": [
        "A empresa Limpa Esgoto garante ser capaz de realizar o tratamento de esgoto e obter, no máximo, 150g de impurezas para cada mil litros de esgoto tratado. Vinte amostras de mil litros de esgoto apresentaram, em média, 230g de impurezas e desvio padrão amostral igual a 90 g. Assumindo alfa igual a 5% e população normalmente distribuída, seria possível discordar da empresa Limpa Esgoto?\n",
        "\n",
        "Selecione a alternativa que apresenta a estatística de teste e a decisão correta do teste."
      ],
      "metadata": {
        "id": "jqa_nL0OkEIC"
      }
    },
    {
      "cell_type": "code",
      "source": [
        "media_ex03 <- 150\n",
        "n_ex03 <- 20\n",
        "graus_de_liberdade_ex03 <- n_ex03 - 1\n",
        "media_amostra_ex03 <- 230\n",
        "desvio_padrao_ex03 <- 90\n",
        "significancia_ex03 <- 0.05\n",
        "confianca_ex03 <- 1 - significancia_ex03\n",
        "\n",
        "t_alpha_ex03 <- qt(confianca_ex03, graus_de_liberdade_ex03)\n",
        "t_ex03 <- (media_amostra_ex03 - media_ex03) / (desvio_padrao_ex03 / sqrt(n_ex03))\n",
        "t_ex03\n",
        "\n",
        "if (t_ex03 >= t_alpha_ex03) {\n",
        "    'Rejeitar H0'\n",
        "} else {\n",
        "    'Aceitar H0'\n",
        "}"
      ],
      "metadata": {
        "colab": {
          "base_uri": "https://localhost:8080/",
          "height": 52
        },
        "id": "1VAkAExrkDh6",
        "outputId": "169b9440-a6b6-45b8-f60f-a69e408d8022"
      },
      "execution_count": null,
      "outputs": [
        {
          "output_type": "display_data",
          "data": {
            "text/html": [
              "3.97523195999963"
            ],
            "text/markdown": "3.97523195999963",
            "text/latex": "3.97523195999963",
            "text/plain": [
              "[1] 3.975232"
            ]
          },
          "metadata": {}
        },
        {
          "output_type": "display_data",
          "data": {
            "text/html": [
              "'Rejeitar H0'"
            ],
            "text/markdown": "'Rejeitar H0'",
            "text/latex": "'Rejeitar H0'",
            "text/plain": [
              "[1] \"Rejeitar H0\""
            ]
          },
          "metadata": {}
        }
      ]
    },
    {
      "cell_type": "markdown",
      "source": [
        "## Exercício - 04"
      ],
      "metadata": {
        "id": "-E1Yn_Oekdzf"
      }
    },
    {
      "cell_type": "markdown",
      "source": [
        "A pizzaria Muito Queijo alega que a quantidade de queijo em suas pizzas tamanho família é de, no mínimo, 350g. Uma amostra de 35 pizzas tamanho família revelou uma média de 330 g de queijo por pizza. O desvio padrão amostral foi de 80g. Assumindo alfa igual a 5% e população normalmente distribuída, seria possível discordar da alegação da pizzaria?\n",
        "\n",
        "Selecione a alternativa que apresenta a estatística de teste e a decisão correta do teste."
      ],
      "metadata": {
        "id": "j3uBaznckeGo"
      }
    },
    {
      "cell_type": "code",
      "source": [
        "media_ex04 <- 350\n",
        "n_ex04 <- 35\n",
        "media_amostra_ex04 <- 330\n",
        "desvio_padrao_ex04 <- 80\n",
        "significancia_ex04 <- 0.05\n",
        "confianca_ex04 <- 1 - significancia_ex04\n",
        "\n",
        "z_alpha_ex04 <- qnorm(confianca_ex04)\n",
        "z_ex04 <- (media_amostra_ex04 - media_ex04) / (desvio_padrao_ex04 / sqrt(n_ex04))\n",
        "z_ex04\n",
        "\n",
        "if (z_ex04 <= -z_alpha_ex04) {\n",
        "    'Rejeitar H0'\n",
        "} else {\n",
        "    'Aceitar H0'\n",
        "}"
      ],
      "metadata": {
        "colab": {
          "base_uri": "https://localhost:8080/",
          "height": 52
        },
        "id": "Fa5e2gqAkemf",
        "outputId": "77237092-3497-494d-d1d4-1d9bfcbcf4ec"
      },
      "execution_count": null,
      "outputs": [
        {
          "output_type": "display_data",
          "data": {
            "text/html": [
              "-1.4790199457749"
            ],
            "text/markdown": "-1.4790199457749",
            "text/latex": "-1.4790199457749",
            "text/plain": [
              "[1] -1.47902"
            ]
          },
          "metadata": {}
        },
        {
          "output_type": "display_data",
          "data": {
            "text/html": [
              "'Aceitar H0'"
            ],
            "text/markdown": "'Aceitar H0'",
            "text/latex": "'Aceitar H0'",
            "text/plain": [
              "[1] \"Aceitar H0\""
            ]
          },
          "metadata": {}
        }
      ]
    },
    {
      "cell_type": "markdown",
      "metadata": {
        "id": "7ye3tS25pslO"
      },
      "source": [
        "### <font color='red'>Critério do valor $p$</font>\n",
        "\n",
        "> ### Teste Unicaudal Superior\n",
        "> ### Rejeitar $H_0$ se o valor $p\\leq\\alpha$"
      ]
    },
    {
      "cell_type": "code",
      "execution_count": null,
      "metadata": {
        "id": "AtPMeAz4pslQ",
        "colab": {
          "base_uri": "https://localhost:8080/",
          "height": 34
        },
        "outputId": "4a2cf56b-a615-495a-da5d-a6c05dc3cc80"
      },
      "outputs": [
        {
          "output_type": "display_data",
          "data": {
            "text/html": [
              "-3.87689311995208"
            ],
            "text/markdown": "-3.87689311995208",
            "text/latex": "-3.87689311995208",
            "text/plain": [
              "[1] -3.876893"
            ]
          },
          "metadata": {}
        }
      ],
      "source": [
        "t"
      ]
    },
    {
      "cell_type": "code",
      "execution_count": null,
      "metadata": {
        "id": "9o4rbN_83u6c",
        "colab": {
          "base_uri": "https://localhost:8080/",
          "height": 34
        },
        "outputId": "84c52d7a-717f-418a-cbfb-7f41e5055dbc"
      },
      "outputs": [
        {
          "output_type": "display_data",
          "data": {
            "text/html": [
              "0.999640617030382"
            ],
            "text/markdown": "0.999640617030382",
            "text/latex": "0.999640617030382",
            "text/plain": [
              "[1] 0.9996406"
            ]
          },
          "metadata": {}
        }
      ],
      "source": [
        "p_valor <- pt(t, graus_de_liberdade, lower.tail = F)\n",
        "p_valor"
      ]
    },
    {
      "cell_type": "code",
      "execution_count": null,
      "metadata": {
        "id": "_hfVEPQQpslU",
        "colab": {
          "base_uri": "https://localhost:8080/",
          "height": 34
        },
        "outputId": "e476e778-64d6-4ec8-f0fc-e0a3a98df6a1"
      },
      "outputs": [
        {
          "output_type": "display_data",
          "data": {
            "text/html": [
              "FALSE"
            ],
            "text/markdown": "FALSE",
            "text/latex": "FALSE",
            "text/plain": [
              "[1] FALSE"
            ]
          },
          "metadata": {}
        }
      ],
      "source": [
        "p_valor <= significancia"
      ]
    },
    {
      "cell_type": "markdown",
      "metadata": {
        "id": "4JxGeADypslW"
      },
      "source": [
        "#### <font color=red>Documentações:\n",
        "\n",
        "- [**t.test**](https://www.rdocumentation.org/packages/stats/versions/3.6.1/topics/t.test)"
      ]
    },
    {
      "cell_type": "code",
      "execution_count": null,
      "metadata": {
        "id": "Y1gP6yjvpslW",
        "colab": {
          "base_uri": "https://localhost:8080/",
          "height": 208
        },
        "outputId": "e562a132-560a-4208-e4fd-d53c5dacf1f4"
      },
      "outputs": [
        {
          "output_type": "display_data",
          "data": {
            "text/plain": [
              "\n",
              "\tOne Sample t-test\n",
              "\n",
              "data:  amostra$Amostra\n",
              "t = -3.8769, df = 24, p-value = 0.9996\n",
              "alternative hypothesis: true mean is greater than 37\n",
              "95 percent confidence interval:\n",
              " 35.9196     Inf\n",
              "sample estimates:\n",
              "mean of x \n",
              "  36.2504 \n"
            ]
          },
          "metadata": {}
        }
      ],
      "source": [
        "resultado <- t.test(amostra$Amostra, alternative = \"greater\", mu = media)\n",
        "resultado"
      ]
    },
    {
      "cell_type": "code",
      "execution_count": null,
      "metadata": {
        "id": "p06AuSBr3u6c",
        "colab": {
          "base_uri": "https://localhost:8080/",
          "height": 34
        },
        "outputId": "07103019-951c-460e-d598-8060f63515e3"
      },
      "outputs": [
        {
          "output_type": "display_data",
          "data": {
            "text/html": [
              "<strong>t:</strong> -3.87689311995208"
            ],
            "text/markdown": "**t:** -3.87689311995208",
            "text/latex": "\\textbf{t:} -3.87689311995208",
            "text/plain": [
              "        t \n",
              "-3.876893 "
            ]
          },
          "metadata": {}
        }
      ],
      "source": [
        "resultado$statistic"
      ]
    },
    {
      "cell_type": "code",
      "execution_count": null,
      "metadata": {
        "id": "RX_Dcsr63u6d",
        "colab": {
          "base_uri": "https://localhost:8080/",
          "height": 34
        },
        "outputId": "10c93de0-29b8-40eb-90a6-25e7de0a53db"
      },
      "outputs": [
        {
          "output_type": "display_data",
          "data": {
            "text/html": [
              "0.999640617030382"
            ],
            "text/markdown": "0.999640617030382",
            "text/latex": "0.999640617030382",
            "text/plain": [
              "[1] 0.9996406"
            ]
          },
          "metadata": {}
        }
      ],
      "source": [
        "p_valor <- resultado$p.value \n",
        "p_valor"
      ]
    },
    {
      "cell_type": "code",
      "execution_count": null,
      "metadata": {
        "id": "CMZcYUyiz0mr",
        "colab": {
          "base_uri": "https://localhost:8080/",
          "height": 34
        },
        "outputId": "a5199a65-3fcc-423d-b0da-d99089f043b3"
      },
      "outputs": [
        {
          "output_type": "display_data",
          "data": {
            "text/html": [
              "FALSE"
            ],
            "text/markdown": "FALSE",
            "text/latex": "FALSE",
            "text/plain": [
              "[1] FALSE"
            ]
          },
          "metadata": {}
        }
      ],
      "source": [
        "p_valor <= significancia"
      ]
    },
    {
      "cell_type": "markdown",
      "source": [
        "## Exercício - 05"
      ],
      "metadata": {
        "id": "JZK9M-aXUc42"
      }
    },
    {
      "cell_type": "markdown",
      "source": [
        "Considere o seguinte teste de hipóteses:\n",
        "\n",
        "\n",
        "\n",
        "Uma amostra aleatória de tamanho 23 foi selecionada e se sabe que o desvio padrão da amostra é 12. Obtenha o p-valor e a sua conclusão para os dados amostrais abaixo:\n",
        "\n",
        "1) Média amostral igual a 82\n",
        "\n",
        "2) Média amostral igual a 70\n",
        "\n",
        "Considere um nível de confiança de 95%."
      ],
      "metadata": {
        "id": "TrohApIkUdaO"
      }
    },
    {
      "cell_type": "code",
      "source": [
        "media_ex05 <- 75\n",
        "n_ex05 <- 23\n",
        "graus_de_liberdade_ex05 <- n_ex05 - 1\n",
        "desvio_padrao_ex05 <- 12\n",
        "significancia_ex05 <- 0.05\n",
        "\n",
        "# 1) Média amostral = 82\n",
        "t_ex05 <- (82 - media_ex05) / (desvio_padrao_ex05 / sqrt(n_ex05))\n",
        "\n",
        "p_valor_ex05 <- pt(t_ex05, graus_de_liberdade_ex05, lower.tail = T)\n",
        "p_valor_ex05\n",
        "\n",
        "if (p_valor_ex05 <= significancia_ex05) {\n",
        "    'Rejeitar H0'\n",
        "} else {\n",
        "    'Aceitar H0'\n",
        "}\n",
        "\n",
        "# 2) Média amostral = 70\n",
        "t_ex05 <- (70 - media_ex05) / (desvio_padrao_ex05 / sqrt(n_ex05))\n",
        "\n",
        "p_valor_ex05 <- pt(t_ex05, graus_de_liberdade_ex05, lower.tail = T)\n",
        "p_valor_ex05\n",
        "\n",
        "if (p_valor_ex05 <= significancia_ex05) {\n",
        "    'Rejeitar H0'\n",
        "} else {\n",
        "    'Aceitar H0'\n",
        "}"
      ],
      "metadata": {
        "colab": {
          "base_uri": "https://localhost:8080/",
          "height": 86
        },
        "id": "UQBI0KS1Ud6V",
        "outputId": "9185592e-3521-4cc0-e843-75dfb27b7b79"
      },
      "execution_count": null,
      "outputs": [
        {
          "output_type": "display_data",
          "data": {
            "text/html": [
              "0.994753331533983"
            ],
            "text/markdown": "0.994753331533983",
            "text/latex": "0.994753331533983",
            "text/plain": [
              "[1] 0.9947533"
            ]
          },
          "metadata": {}
        },
        {
          "output_type": "display_data",
          "data": {
            "text/html": [
              "'Aceitar H0'"
            ],
            "text/markdown": "'Aceitar H0'",
            "text/latex": "'Aceitar H0'",
            "text/plain": [
              "[1] \"Aceitar H0\""
            ]
          },
          "metadata": {}
        },
        {
          "output_type": "display_data",
          "data": {
            "text/html": [
              "0.0290983303295984"
            ],
            "text/markdown": "0.0290983303295984",
            "text/latex": "0.0290983303295984",
            "text/plain": [
              "[1] 0.02909833"
            ]
          },
          "metadata": {}
        },
        {
          "output_type": "display_data",
          "data": {
            "text/html": [
              "'Rejeitar H0'"
            ],
            "text/markdown": "'Rejeitar H0'",
            "text/latex": "'Rejeitar H0'",
            "text/plain": [
              "[1] \"Rejeitar H0\""
            ]
          },
          "metadata": {}
        }
      ]
    },
    {
      "cell_type": "markdown",
      "source": [
        "## Exercício - 06"
      ],
      "metadata": {
        "id": "dEXceM_4U9KD"
      }
    },
    {
      "cell_type": "markdown",
      "source": [
        "Uma lanchonete afirma que suas vendas médias são de exatamente R$ 32,00. Uma amostra aleatória de 20 vendas foi selecionada e os valores são apresentados no dataset abaixo:\n",
        "\n",
        "vendas <- c(32.45, 26.8, 27.81, 30.22, 30.88, 24.9, 31.94, 16.02, \n",
        "    24.39, 26.01, 21.83, 25.35, 22.46, 38.2, 29.86, 22.79, 28.83, 27.34, 32.22, 33.26)\n",
        "dataset <- data.frame(Amostra = vendas)COPIAR CÓDIGO\n",
        "Sabe-se que as vendas são normalmente distribuídas. Obtenha o valor da estatística de teste, o p-valor e a decisão para o teste. Assuma um nível de significância de 5%."
      ],
      "metadata": {
        "id": "RzsvQmO3U9iL"
      }
    },
    {
      "cell_type": "code",
      "source": [
        "vendas_ex06 <- c(32.45, 26.8, 27.81, 30.22, 30.88, 24.9, 31.94, 16.02, \n",
        "    24.39, 26.01, 21.83, 25.35, 22.46, 38.2, 29.86, 22.79, 28.83, 27.34, 32.22, 33.26)\n",
        "dataset_ex06 <- data.frame(Amostra = vendas_ex06)"
      ],
      "metadata": {
        "id": "DKvEC_BXU9-a"
      },
      "execution_count": null,
      "outputs": []
    },
    {
      "cell_type": "code",
      "source": [
        "media_ex06 <- 32\n",
        "significancia_ex06 <- 0.05\n",
        "\n",
        "resultado_ex06 <- t.test(dataset_ex06$Amostra, alternative = \"two.sided\", mu = media_ex06)\n",
        "t_ex06 <- resultado_ex06$statistic\n",
        "t_ex06\n",
        "\n",
        "p_valor_ex06 <- resultado_ex06$p.value\n",
        "p_valor_ex06\n",
        "\n",
        "if (p_valor_ex06 <= significancia_ex06) {\n",
        "    'Rejeitar H0'\n",
        "} else {\n",
        "    'Aceitar H0'\n",
        "}"
      ],
      "metadata": {
        "colab": {
          "base_uri": "https://localhost:8080/",
          "height": 69
        },
        "id": "zIZXohVHVMpn",
        "outputId": "a9169039-022d-436c-cba9-a783842f5523"
      },
      "execution_count": null,
      "outputs": [
        {
          "output_type": "display_data",
          "data": {
            "text/html": [
              "<strong>t:</strong> -3.86530291041683"
            ],
            "text/markdown": "**t:** -3.86530291041683",
            "text/latex": "\\textbf{t:} -3.86530291041683",
            "text/plain": [
              "        t \n",
              "-3.865303 "
            ]
          },
          "metadata": {}
        },
        {
          "output_type": "display_data",
          "data": {
            "text/html": [
              "0.00104220832393681"
            ],
            "text/markdown": "0.00104220832393681",
            "text/latex": "0.00104220832393681",
            "text/plain": [
              "[1] 0.001042208"
            ]
          },
          "metadata": {}
        },
        {
          "output_type": "display_data",
          "data": {
            "text/html": [
              "'Rejeitar H0'"
            ],
            "text/markdown": "'Rejeitar H0'",
            "text/latex": "'Rejeitar H0'",
            "text/plain": [
              "[1] \"Rejeitar H0\""
            ]
          },
          "metadata": {}
        }
      ]
    },
    {
      "cell_type": "markdown",
      "metadata": {
        "id": "wlUdcJnDpsla"
      },
      "source": [
        "---"
      ]
    },
    {
      "cell_type": "markdown",
      "metadata": {
        "id": "L7_ZbBBtpslb"
      },
      "source": [
        "## <font color=green>3.4 Testes para Duas Amostras</font>\n",
        "***"
      ]
    },
    {
      "cell_type": "markdown",
      "metadata": {
        "id": "lmAJLIu8pslb"
      },
      "source": [
        "## <font color='red'>Problema</font>"
      ]
    },
    {
      "cell_type": "markdown",
      "metadata": {
        "id": "0zUUY8klpslc"
      },
      "source": [
        "Em nosso dataset temos os rendimento dos chefes de domicílio obtidos da Pesquisa Nacional por Amostra de Domicílios - PNAD no ano de 2015. Um problema bastante conhecido em nosso país diz respeito a desigualdade de renda, principalmente entre homens e mulheres.\n",
        "\n",
        "Duas amostras aleatórias, uma de **500 homens** e outra com **500 mulheres**, foram selecionadas em nosso dataset. Com o objetivo de comprovar tal desigualdade, **teste a igualdade das médias** entre estas duas amostras com um nível de **significância de 1%**."
      ]
    },
    {
      "cell_type": "markdown",
      "metadata": {
        "id": "WUknTBZgpslc"
      },
      "source": [
        "---"
      ]
    },
    {
      "cell_type": "markdown",
      "metadata": {
        "id": "gFIUL8Hgpslc"
      },
      "source": [
        "É possível também utilizar testes de hipóteses para comparar duas diferentes amostras. Neste tipo de teste se deseja decidir se uma amostra é diferente da outra."
      ]
    },
    {
      "cell_type": "markdown",
      "metadata": {
        "id": "xzGuwM4xpslc"
      },
      "source": [
        "### Seleção das amostras"
      ]
    },
    {
      "cell_type": "code",
      "execution_count": null,
      "metadata": {
        "id": "BBW1gA8p3u6d"
      },
      "outputs": [],
      "source": [
        "homens <- matrix(c(300, 1000, 4000, 5000, 300, 350, 1200, 1200, 1100, 1800, 700, 5000, 250, 1560, 400, 5500, 3000, 0, 1100, 1500, 500, 500, 788, 500, 3000, 788, 2400, 788, 3300, 1350, 2500, 2000, 1300, 2430, 9000, 10120, 1380, 2000, 1400, 1000, 500, 1500, 2200, 2100, 4000, 1000, 1200, 2900, 1800, 2000, 788, 1576, 800, 2400, 788, 788, 788, 0, 12000, 7880, 850, 1000, 1000, 1600, 3800, 788, 1200, 300, 350, 700, 6000, 1500, 5000, 2000, 1200, 800, 250, 800, 1600, 400, 3000, 2304, 800, 1400, 450, 788, 2200, 6000, 1200, 4000, 6000, 1100, 1200, 1300, 3000, 3000, 1500, 1280, 788, 1400, 788, 4000, 0, 1000, 2500, 1300, 3000, 500, 1600, 2000, 1280, 150, 0, 0, 7000, 1061, 700, 788, 2000, 788, 10500, 788, 1600, 1050, 1100, 3000, 800, 1400, 1200, 2500, 1000, 1500, 1500, 900, 2000, 300, 3000, 788, 1400, 2000, 2000, 3000, 2600, 15000, 1500, 950, 1200, 1500, 7500, 1400, 350, 750, 1200, 788, 0, 2500, 1700, 788, 700, 1600, 1200, 320, 6000, 2000, 2000, 3000, 900, 2100, 0, 788, 1800, 1600, 4000, 1300, 1300, 1500, 8900, 1400, 788, 600, 1000, 950, 2000, 4000, 2300, 2000, 800, 2500, 1500, 1400, 800, 6000, 788, 900, 200, 1300, 788, 2600, 1500, 8000, 900, 2000, 2000, 350, 3000, 9580, 0, 400, 800, 1700, 1800, 1200, 18000, 9000, 3000, 1200, 700, 1200, 400, 987, 6000, 2000, 0, 0, 480, 500, 800, 1680, 10000, 1200, 1700, 788, 2200, 10000, 10000, 100, 1200, 1600, 2500, 1300, 1200, 1300, 2200, 200, 60, 1100, 1200, 6000, 4500, 100, 788, 2900, 2500, 900, 788, 2500, 4000, 788, 1400, 1000, 300, 788, 1000, 4000, 2200, 788, 1000, 1000, 600, 1600, 6000, 2500, 2500, 1000, 3000, 2200, 4500, 1500, 4300, 1500, 8500, 3200, 1200, 1200, 1500, 4000, 2000, 1350, 1500, 890, 5000, 2400, 13000, 800, 1500, 1500, 2000, 580, 500, 920, 1200, 2000, 788, 500, 20000, 1350, 1576, 500, 8000, 1800, 600, 1000, 3000, 4000, 1500, 788, 600, 2300, 1500, 500, 500, 800, 900, 8000, 1600, 3000, 788, 1500, 5200, 900, 3565, 650, 1700, 1600, 788, 1200, 788, 788, 100, 900, 1700, 10000, 1600, 200, 788, 1400, 1500, 400, 4200, 1400, 4000, 5516, 3500, 700, 1400, 1200, 0, 7000, 2000, 5000, 2000, 750, 3000, 2000, 1500, 200, 3000, 1700, 1500, 7000, 1500, 788, 2400, 2500, 1500, 2000, 1500, 2000, 1100, 800, 1800, 480, 3500, 700, 3400, 5000, 5000, 1300, 3000, 2000, 900, 2000, 1000, 1800, 0, 1500, 788, 3500, 875, 5000, 2000, 1300, 1600, 0, 750, 1200, 120, 1800, 1200, 788, 1000, 0, 1400, 2300, 7000, 4000, 5000, 788, 20000, 4000, 0, 1200, 1800, 500, 1000, 788, 1300, 5000, 50, 1700, 2000, 1600, 2000, 1350, 1500, 600, 1700, 780, 2446, 2100, 5000, 1700, 1200, 1000, 788, 4500, 1500, 788, 0, 1580, 1000, 4500, 2400, 788, 1100, 2000, 788, 100, 1200, 1200, 1200, 1000, 2000, 788, 2000, 15000, 600, 0, 1500, 3000, 4000, 900, 810, 600, 1500, 4000, 1200, 5000, 5300, 2500, 800, 0, 1400, 1500, 4000, 1200, 400, 1000, 820, 1000, 1000, 788, 1500, 2500, 1500, 220, 600, 788, 1750, 7000))\n",
        "mulheres <- matrix(c(788, 1200, 6000, 1000, 788, 1100, 1900, 1577, 900, 950, 1200, 788, 788, 1100, 30, 620, 900, 1000, 1200, 2000, 0, 500, 1200, 1500, 1200, 1120, 788, 788, 2300, 2400, 3000, 788, 4000, 1000, 500, 500, 1700, 200, 6000, 400, 950, 1100, 50, 930, 850, 1100, 3500, 1500, 1200, 900, 1100, 1500, 788, 1000, 788, 4500, 4000, 8000, 3500, 788, 1050, 1000, 1400, 3500, 600, 3000, 500, 930, 2660, 788, 360, 2364, 788, 160, 1100, 1085, 1050, 1500, 100, 0, 788, 250, 1700, 1300, 800, 0, 2000, 820, 910, 300, 2000, 200, 788, 788, 800, 1500, 1300, 1200, 0, 600, 1036, 400, 1100, 788, 400, 1500, 1200, 1800, 1000, 788, 850, 60, 1800, 3500, 600, 200, 500, 200, 1100, 1540, 1100, 900, 800, 500, 200, 1200, 1250, 788, 500, 200, 788, 200, 0, 1800, 2000, 1000, 900, 3000, 700, 1200, 788, 2800, 3300, 400, 0, 850, 1022, 6000, 750, 1000, 3500, 400, 1500, 1000, 800, 0, 980, 2400, 850, 1100, 788, 1100, 788, 1200, 788, 864, 1000, 500, 400, 3000, 1200, 100, 80, 900, 2000, 1250, 1000, 300, 400, 1500, 60, 8000, 1000, 600, 800, 350, 788, 0, 600, 788, 2500, 1300, 800, 8000, 1100, 800, 900, 2000, 0, 800, 1400, 1000, 1200, 788, 3840, 788, 3940, 788, 560, 800, 2000, 600, 2900, 0, 400, 800, 7000, 788, 788, 788, 788, 1250, 1500, 1386, 100, 300, 788, 788, 600, 600, 900, 2800, 788, 350, 900, 0, 150, 788, 788, 1000, 30, 788, 780, 900, 0, 0, 3000, 1800, 2000, 1100, 788, 0, 7500, 1800, 788, 788, 2000, 3000, 180, 2500, 800, 0, 1250, 200, 1100, 0, 1100, 400, 1300, 300, 0, 1312, 600, 200, 4000, 2400, 12000, 2150, 500, 400, 0, 600, 400, 788, 1200, 500, 2000, 1500, 70, 500, 2000, 1000, 100, 500, 2000, 100, 2115, 800, 5800, 2300, 750, 788, 0, 900, 1000, 600, 3000, 5500, 1600, 788, 4000, 0, 1100, 120, 320, 1100, 2500, 200, 800, 3000, 550, 4200, 7000, 720, 0, 2000, 5000, 2000, 788, 500, 788, 7000, 500, 788, 1760, 1200, 3500, 1500, 150, 800, 788, 3000, 400, 788, 1000, 2000, 2500, 0, 788, 5200, 788, 0, 600, 1300, 120, 850, 1576, 788, 2000, 1300, 788, 800, 1800, 655, 1580, 789, 788, 850, 788, 7000, 788, 430, 800, 788, 900, 10000, 1200, 300, 400, 788, 788, 3000, 900, 1300, 1300, 788, 800, 1000, 1890, 0, 788, 900, 4000, 788, 1010, 150, 450, 1700, 890, 1200, 2800, 1000, 788, 788, 700, 600, 800, 880, 6000, 800, 800, 820, 788, 1030, 560, 2100, 6500, 2500, 788, 400, 300, 788, 2300, 1000, 3500, 984, 1576, 420, 1700, 450, 1800, 400, 1500, 1500, 4256, 1200, 890, 1200, 300, 400, 850, 1500, 3800, 1800, 996, 2000, 1000, 788, 1500, 300, 600, 950, 1200, 788, 1200, 1500, 250, 788, 1200, 6000, 300, 789, 1500, 788, 3800, 780, 1200, 1200, 220, 788, 500, 200, 480, 1576, 1576, 1035, 900, 800, 1000, 805, 200, 1200, 2220, 1500, 880, 220, 2000, 788, 150, 0, 13000, 40, 5500, 788, 788, 1000, 400, 2000, 200, 1600))"
      ]
    },
    {
      "cell_type": "markdown",
      "metadata": {
        "id": "FOFa-cHwpslg"
      },
      "source": [
        "### Dados do problema"
      ]
    },
    {
      "cell_type": "code",
      "execution_count": null,
      "metadata": {
        "id": "BGyXCbompslh",
        "colab": {
          "base_uri": "https://localhost:8080/",
          "height": 34
        },
        "outputId": "399e572b-7d46-4110-90ef-dfa219493f75"
      },
      "outputs": [
        {
          "output_type": "display_data",
          "data": {
            "text/html": [
              "1357.528"
            ],
            "text/markdown": "1357.528",
            "text/latex": "1357.528",
            "text/plain": [
              "[1] 1357.528"
            ]
          },
          "metadata": {}
        }
      ],
      "source": [
        "media_amostra_M <- mean(mulheres)\n",
        "media_amostra_M"
      ]
    },
    {
      "cell_type": "code",
      "execution_count": null,
      "metadata": {
        "id": "RoxFOCA3pslk",
        "colab": {
          "base_uri": "https://localhost:8080/",
          "height": 34
        },
        "outputId": "0bd6b653-6804-46d4-9f10-d0a546dbb22b"
      },
      "outputs": [
        {
          "output_type": "display_data",
          "data": {
            "text/html": [
              "1569.90119074846"
            ],
            "text/markdown": "1569.90119074846",
            "text/latex": "1569.90119074846",
            "text/plain": [
              "[1] 1569.901"
            ]
          },
          "metadata": {}
        }
      ],
      "source": [
        "desvio_padrao_amostra_M <- sd(mulheres) \n",
        "desvio_padrao_amostra_M"
      ]
    },
    {
      "cell_type": "code",
      "execution_count": null,
      "metadata": {
        "id": "Of8L6Hygpsll",
        "colab": {
          "base_uri": "https://localhost:8080/",
          "height": 34
        },
        "outputId": "d02e2a9d-3de7-4b57-90f0-e520df365c1e"
      },
      "outputs": [
        {
          "output_type": "display_data",
          "data": {
            "text/html": [
              "2142.608"
            ],
            "text/markdown": "2142.608",
            "text/latex": "2142.608",
            "text/plain": [
              "[1] 2142.608"
            ]
          },
          "metadata": {}
        }
      ],
      "source": [
        "media_amostra_H <- mean(homens) \n",
        "media_amostra_H"
      ]
    },
    {
      "cell_type": "code",
      "execution_count": null,
      "metadata": {
        "id": "-cSpXXTepsln",
        "colab": {
          "base_uri": "https://localhost:8080/",
          "height": 34
        },
        "outputId": "aca5f13d-6836-4de3-a786-6ce27cdc6ee4"
      },
      "outputs": [
        {
          "output_type": "display_data",
          "data": {
            "text/html": [
              "2548.05080249987"
            ],
            "text/markdown": "2548.05080249987",
            "text/latex": "2548.05080249987",
            "text/plain": [
              "[1] 2548.051"
            ]
          },
          "metadata": {}
        }
      ],
      "source": [
        "desvio_padrao_amostra_H <- sd(homens) \n",
        "desvio_padrao_amostra_H"
      ]
    },
    {
      "cell_type": "code",
      "execution_count": null,
      "metadata": {
        "id": "Cl7kdxkUpslo"
      },
      "outputs": [],
      "source": [
        "significancia <- 0.01\n",
        "confianca <- 1 - significancia\n",
        "n_M <- 500\n",
        "n_H <- 500\n",
        "D_0 <- 0"
      ]
    },
    {
      "cell_type": "markdown",
      "metadata": {
        "id": "PGoWwWwjpslp"
      },
      "source": [
        "---"
      ]
    },
    {
      "cell_type": "markdown",
      "metadata": {
        "id": "tO597Oxgpslp"
      },
      "source": [
        "### **Passo 1** - formulação das hipóteses $H_0$ e $H_1$\n",
        "\n",
        "#### <font color='red'>Lembre-se, a hipótese nula sempre contém a alegação de igualdade</font>"
      ]
    },
    {
      "cell_type": "markdown",
      "metadata": {
        "id": "LysVU-7fpslr"
      },
      "source": [
        "### $\\mu_1 \\Rightarrow$ Média das rendas dos chefes de domicílios do sexo masculino\n",
        "### $\\mu_2 \\Rightarrow$ Média das rendas dos chefes de domicílios do sexo feminino\n",
        "\n",
        "### $\n",
        "\\begin{cases}\n",
        "H_0: \\mu_1 \\leq \\mu_2\\\\\n",
        "H_1: \\mu_1 > \\mu_2\n",
        "\\end{cases}\n",
        "$\n",
        "\n",
        "### ou\n",
        "\n",
        "### $\n",
        "\\begin{cases}\n",
        "H_0: \\mu_1 -\\mu_2 \\leq 0\\\\\n",
        "H_1: \\mu_1 -\\mu_2 > 0\n",
        "\\end{cases}\n",
        "$"
      ]
    },
    {
      "cell_type": "markdown",
      "metadata": {
        "id": "ENKqbCgQpslr"
      },
      "source": [
        "---"
      ]
    },
    {
      "cell_type": "markdown",
      "metadata": {
        "id": "dBA05Y3Zpslr"
      },
      "source": [
        "### **Passo 2** - escolha da distribuição amostral adequada\n",
        "<img src='https://caelum-online-public.s3.amazonaws.com/1229-estatistica-parte3/01/img003.png' width=70%>\n",
        "\n",
        "### <font color='red'>Observação importante</font>\n",
        "> Em testes que envolvam duas amostras com o emprego da tabela $t$ de Student, o número de graus de liberdade será sempre igual a $n_1 + n_2 - 2$"
      ]
    },
    {
      "cell_type": "markdown",
      "metadata": {
        "id": "6_Q_Wtjlpsls"
      },
      "source": [
        "### O tamanho da amostra é maior que 30?\n",
        "#### Resp.: Sim\n",
        "\n",
        "### O desvio padrão populacional é conhecido?\n",
        "#### Resp.: Não"
      ]
    },
    {
      "cell_type": "markdown",
      "metadata": {
        "id": "T6sVzVjVpsls"
      },
      "source": [
        "---"
      ]
    },
    {
      "cell_type": "markdown",
      "metadata": {
        "id": "SUN4yJqzpsls"
      },
      "source": [
        "### **Passo 3** - fixação da significância do teste ($\\alpha$)"
      ]
    },
    {
      "cell_type": "code",
      "execution_count": null,
      "metadata": {
        "id": "b3Y_CZmzpsls",
        "colab": {
          "base_uri": "https://localhost:8080/",
          "height": 34
        },
        "outputId": "614329dc-6abe-4008-bcab-179fadff727c"
      },
      "outputs": [
        {
          "output_type": "display_data",
          "data": {
            "text/html": [
              "0.99"
            ],
            "text/markdown": "0.99",
            "text/latex": "0.99",
            "text/plain": [
              "[1] 0.99"
            ]
          },
          "metadata": {}
        }
      ],
      "source": [
        "probabilidade <- confianca\n",
        "probabilidade"
      ]
    },
    {
      "cell_type": "code",
      "execution_count": null,
      "metadata": {
        "id": "qNse2bFRpslu",
        "colab": {
          "base_uri": "https://localhost:8080/",
          "height": 34
        },
        "outputId": "6659ef6f-bda4-450a-a961-847ee7d1f811"
      },
      "outputs": [
        {
          "output_type": "display_data",
          "data": {
            "text/html": [
              "2.32634787404084"
            ],
            "text/markdown": "2.32634787404084",
            "text/latex": "2.32634787404084",
            "text/plain": [
              "[1] 2.326348"
            ]
          },
          "metadata": {}
        }
      ],
      "source": [
        "z_alpha <- qnorm(probabilidade) \n",
        "z_alpha"
      ]
    },
    {
      "cell_type": "markdown",
      "metadata": {
        "id": "y9u_zd8Opslv"
      },
      "source": [
        "![Região de Aceitação](https://caelum-online-public.s3.amazonaws.com/1229-estatistica-parte3/01/img011.png)"
      ]
    },
    {
      "cell_type": "markdown",
      "metadata": {
        "id": "xUhiEXRMpslv"
      },
      "source": [
        "---"
      ]
    },
    {
      "cell_type": "markdown",
      "metadata": {
        "id": "iooB1aPHpslv"
      },
      "source": [
        "### **Passo 4** - cálculo da estatística-teste e verificação desse valor com as áreas de aceitação e rejeição do teste\n",
        "\n",
        "# $$z = \\frac{(\\bar{x_1} - \\bar{x_2})-D_0}{\\sqrt{\\frac{s_1^2}{n_1} + \\frac{s_2^2}{n_2}}}$$"
      ]
    },
    {
      "cell_type": "code",
      "execution_count": null,
      "metadata": {
        "id": "AL2i9JOTpslw",
        "colab": {
          "base_uri": "https://localhost:8080/",
          "height": 34
        },
        "outputId": "13ccdeef-ca92-4fc4-e3c9-ddacde02d1db"
      },
      "outputs": [
        {
          "output_type": "display_data",
          "data": {
            "text/html": [
              "5.86562005776475"
            ],
            "text/markdown": "5.86562005776475",
            "text/latex": "5.86562005776475",
            "text/plain": [
              "[1] 5.86562"
            ]
          },
          "metadata": {}
        }
      ],
      "source": [
        "numerador <- (media_amostra_H - media_amostra_M) - D_0\n",
        "\n",
        "denominador <- sqrt((desvio_padrao_amostra_H ** 2 / n_H) + (desvio_padrao_amostra_M ** 2 / n_M))\n",
        "\n",
        "z <- numerador / denominador\n",
        "\n",
        "z"
      ]
    },
    {
      "cell_type": "markdown",
      "metadata": {
        "id": "jXrfHvH5pslx"
      },
      "source": [
        "![Estatística-Teste](https://caelum-online-public.s3.amazonaws.com/1229-estatistica-parte3/01/img012.png)"
      ]
    },
    {
      "cell_type": "markdown",
      "metadata": {
        "id": "4dn58Fc2pslx"
      },
      "source": [
        "---"
      ]
    },
    {
      "cell_type": "markdown",
      "metadata": {
        "id": "P-7NL33-pslx"
      },
      "source": [
        "### **Passo 5** - Aceitação ou rejeição da hipótese nula"
      ]
    },
    {
      "cell_type": "markdown",
      "metadata": {
        "id": "n_djxfYtpslx"
      },
      "source": [
        "<img src='https://caelum-online-public.s3.amazonaws.com/1229-estatistica-parte3/01/img014.png' width=90%>"
      ]
    },
    {
      "cell_type": "markdown",
      "metadata": {
        "id": "QrObW-BXpsly"
      },
      "source": [
        "### <font color='red'>Critério do valor crítico</font>\n",
        "\n",
        "> ### Teste Unicaudal\n",
        "> ### Rejeitar $H_0$ se $z \\geq z_{\\alpha}$"
      ]
    },
    {
      "cell_type": "code",
      "execution_count": null,
      "metadata": {
        "id": "tkJSji7gpsly",
        "colab": {
          "base_uri": "https://localhost:8080/",
          "height": 34
        },
        "outputId": "18410133-5397-4063-c4fc-85df28a21cba"
      },
      "outputs": [
        {
          "output_type": "display_data",
          "data": {
            "text/html": [
              "TRUE"
            ],
            "text/markdown": "TRUE",
            "text/latex": "TRUE",
            "text/plain": [
              "[1] TRUE"
            ]
          },
          "metadata": {}
        }
      ],
      "source": [
        "z >= z_alpha"
      ]
    },
    {
      "cell_type": "markdown",
      "metadata": {
        "id": "UnBVO1uDpslz"
      },
      "source": [
        "### <font color='green'>Conclusão: Com um nível de confiança de 99% rejeitamos $H_0$, isto é, concluímos que a média das rendas dos chefes de domicílios do sexo masculino é maior que a média das rendas das chefes de domicílios do sexo feminino. Confirmando a alegação de desigualdade de renda entre os sexos.</font>"
      ]
    },
    {
      "cell_type": "markdown",
      "source": [
        "## Exercício - 07"
      ],
      "metadata": {
        "id": "UhMaGSZTY0IA"
      }
    },
    {
      "cell_type": "markdown",
      "source": [
        "Uma prova de estatística foi aplicada em duas salas de aula diferentes. Na sala A, tínhamos 50 alunos e a nota média foi de 5,3, com desvio padrão de 2,1. Na sala B eram 55 alunos, que alcançaram nota média de 7,6 pontos, com desvio padrão de 2,8. Considerando um nível de significância de 5% e que a distribuição das notas segue uma normal, é possível afirmar que as notas médias dessas duas salas foram diferentes?\n",
        "\n",
        "Indique a alternativa que apresenta a estatística de teste e a conclusão do teste."
      ],
      "metadata": {
        "id": "LbHGIeXBY0gI"
      }
    },
    {
      "cell_type": "code",
      "source": [
        "media_sala_A_ex07 <- 5.3\n",
        "desvio_padrao_sala_A_ex07 <- 2.1\n",
        "media_sala_B_ex07 <- 7.6\n",
        "desvio_padrao_sala_B_ex07 <- 2.8\n",
        "\n",
        "significancia_ex07 <- 0.05\n",
        "confianca_ex07 <- 1 - significancia_ex07\n",
        "n_sala_A_ex07 <- 50\n",
        "n_sala_B_ex07 <- 55\n",
        "D_0_ex07 <- 0\n",
        "\n",
        "probabilidade_ex07 <- 0.5 + (confianca_ex07 / 2)\n",
        "z_alpha_2_ex07 <- qnorm(probabilidade_ex07)\n",
        "\n",
        "numerador_ex07 <- (media_sala_A_ex07 - media_sala_B_ex07) - D_0_ex07\n",
        "denominador_ex07 <- sqrt((desvio_padrao_sala_A_ex07 ** 2 / n_sala_A_ex07) + (desvio_padrao_sala_B_ex07 ** 2 / n_sala_B_ex07))\n",
        "z_ex07 <- numerador_ex07 / denominador_ex07\n",
        "z_ex07\n",
        "\n",
        "if (z_ex07 <= -z_alpha_2_ex07 || z >= z_alpha_2_ex07) {\n",
        "    'Rejeitar H0'\n",
        "} else {\n",
        "    'Aceitar H0'\n",
        "}"
      ],
      "metadata": {
        "colab": {
          "base_uri": "https://localhost:8080/",
          "height": 52
        },
        "id": "wEQ-EReQY03g",
        "outputId": "83f85e11-54ed-4a5a-da6f-c701be74ce89"
      },
      "execution_count": null,
      "outputs": [
        {
          "output_type": "display_data",
          "data": {
            "text/html": [
              "-4.78807846371328"
            ],
            "text/markdown": "-4.78807846371328",
            "text/latex": "-4.78807846371328",
            "text/plain": [
              "[1] -4.788078"
            ]
          },
          "metadata": {}
        },
        {
          "output_type": "display_data",
          "data": {
            "text/html": [
              "'Rejeitar H0'"
            ],
            "text/markdown": "'Rejeitar H0'",
            "text/latex": "'Rejeitar H0'",
            "text/plain": [
              "[1] \"Rejeitar H0\""
            ]
          },
          "metadata": {}
        }
      ]
    },
    {
      "cell_type": "markdown",
      "source": [
        "## Exercício - 08"
      ],
      "metadata": {
        "id": "sWFdpg7_ZP58"
      }
    },
    {
      "cell_type": "markdown",
      "source": [
        "Uma imobiliária da cidade do Rio de Janeiro alega que o valor do m² no bairro do Leblon está avaliado em, no máximo, R$ 1000,00 a mais, quando comparado ao bairro de Ipanema. Uma pesquisa realizada com uma amostra de 13 imóveis de cada bairro revelou os seguintes parâmetros:\n",
        "\n",
        "Bairro\tMédia (R$ por m²)\tDesvio padrão (R$ por m²)\n",
        "Leblon\t21800\t450\n",
        "Ipanema\t20300\t320\n",
        "\n",
        "É possível concordar com a afirmação da imobiliária? Assuma um nível de significância de 5% e populações normalmente distribuídas. Indique a alternativa que apresenta a estatística de teste e a conclusão do teste.\n",
        "\n",
        "Um pouco mais de teoria: Como se trata de um problema um pouco diferente do apresentado no último vídeo, vamos esclarecer alguns pontos para ajudar na solução:\n",
        "\n",
        "Em testes entre duas amostras, quando realizamos a escolha da distribuição amostral adequada (passo 2) e perguntamos se n ≥ 30, temos que considerar que n = n1 + n2, onde n1 é o tamanho da primeira amostra e n2 o tamanho da segunda\n",
        "Quando n1 + n2 ≥ 30, utilizamos z (normal) e quando n1 + n2 < 30, σ não for conhecido e as populações forem normalmente distribuídas, utilizamos t (t-Student)\n",
        "Quando utilizamos a tabela t de Student, em testes de duas amostras, os graus de liberdade são obtidos da seguinte forma: n1 + n2 – 2"
      ],
      "metadata": {
        "id": "LF9MQLPmZQMt"
      }
    },
    {
      "cell_type": "code",
      "source": [
        "media_Leblon_ex08 <- 21800\n",
        "desvio_padrao_Leblon_ex08 <- 450\n",
        "media_Ipanema_ex08 <- 20300\n",
        "desvio_padrao_Ipanema_ex08 <- 320\n",
        "\n",
        "significancia_ex08 <- 0.05\n",
        "confianca_ex08 <- 1 - significancia_ex08\n",
        "n_Leblon_ex08 <- 13\n",
        "n_Ipanema_ex08 <- 13\n",
        "D_0_ex08 <- 1000\n",
        "\n",
        "t_alpha_ex08 <- qt(confianca_ex08, n_Leblon_ex08 + n_Ipanema_ex08 - 2)\n",
        "\n",
        "numerador_ex08 <- (media_Leblon_ex08 - media_Ipanema_ex08) - D_0_ex08\n",
        "denominador_ex08 <- sqrt((desvio_padrao_Leblon_ex08 ** 2 / n_Leblon_ex08) + (desvio_padrao_Ipanema_ex08 ** 2 / n_Ipanema_ex08))\n",
        "t_ex08 <- numerador_ex08 / denominador_ex08\n",
        "t_ex08\n",
        "\n",
        "if (t_ex08 >= t_alpha_ex08) {\n",
        "    'Rejeitar H0'\n",
        "} else {\n",
        "    'Aceitar H0'\n",
        "}"
      ],
      "metadata": {
        "colab": {
          "base_uri": "https://localhost:8080/",
          "height": 52
        },
        "id": "1kAFo8aYZQms",
        "outputId": "20757d70-8e6f-48e1-c9bc-64c052867ea4"
      },
      "execution_count": null,
      "outputs": [
        {
          "output_type": "display_data",
          "data": {
            "text/html": [
              "3.26484801105005"
            ],
            "text/markdown": "3.26484801105005",
            "text/latex": "3.26484801105005",
            "text/plain": [
              "[1] 3.264848"
            ]
          },
          "metadata": {}
        },
        {
          "output_type": "display_data",
          "data": {
            "text/html": [
              "'Rejeitar H0'"
            ],
            "text/markdown": "'Rejeitar H0'",
            "text/latex": "'Rejeitar H0'",
            "text/plain": [
              "[1] \"Rejeitar H0\""
            ]
          },
          "metadata": {}
        }
      ]
    },
    {
      "cell_type": "markdown",
      "metadata": {
        "id": "cyuNEHfwpsl0"
      },
      "source": [
        "### <font color='red'>Critério do valor $p$</font>\n",
        "\n",
        "> ### Teste Unicaudal\n",
        "> ### Rejeitar $H_0$ se o valor $p\\leq\\alpha$"
      ]
    },
    {
      "cell_type": "code",
      "execution_count": null,
      "metadata": {
        "id": "WsIkzJ1E3u6h",
        "colab": {
          "base_uri": "https://localhost:8080/",
          "height": 34
        },
        "outputId": "f22afee6-399c-4215-edf1-d190e2f7e9e5"
      },
      "outputs": [
        {
          "output_type": "display_data",
          "data": {
            "text/html": [
              "5.86562005776475"
            ],
            "text/markdown": "5.86562005776475",
            "text/latex": "5.86562005776475",
            "text/plain": [
              "[1] 5.86562"
            ]
          },
          "metadata": {}
        }
      ],
      "source": [
        "z"
      ]
    },
    {
      "cell_type": "code",
      "execution_count": null,
      "metadata": {
        "id": "tSbOZem9hLvs",
        "colab": {
          "base_uri": "https://localhost:8080/",
          "height": 34
        },
        "outputId": "d1471d2e-158b-4d3c-f32b-e8a935d1489e"
      },
      "outputs": [
        {
          "output_type": "display_data",
          "data": {
            "text/html": [
              "2.23728678594584e-09"
            ],
            "text/markdown": "2.23728678594584e-09",
            "text/latex": "2.23728678594584e-09",
            "text/plain": [
              "[1] 2.237287e-09"
            ]
          },
          "metadata": {}
        }
      ],
      "source": [
        "p_valor <- pnorm(z, lower.tail = F)\n",
        "p_valor"
      ]
    },
    {
      "cell_type": "code",
      "execution_count": null,
      "metadata": {
        "id": "E3NF1BzYpsl6",
        "colab": {
          "base_uri": "https://localhost:8080/",
          "height": 34
        },
        "outputId": "3180fea9-8575-4f06-ea2d-2792523cf75a"
      },
      "outputs": [
        {
          "output_type": "display_data",
          "data": {
            "text/html": [
              "TRUE"
            ],
            "text/markdown": "TRUE",
            "text/latex": "TRUE",
            "text/plain": [
              "[1] TRUE"
            ]
          },
          "metadata": {}
        }
      ],
      "source": [
        "p_valor <= significancia"
      ]
    },
    {
      "cell_type": "markdown",
      "metadata": {
        "id": "4sF8nIGE3u6h"
      },
      "source": [
        "#### <font color=red>Documentações:\n",
        "\n",
        "- [**BSDA**](https://www.rdocumentation.org/packages/BSDA/versions/1.01)\n",
        "- [**z.test**](https://www.rdocumentation.org/packages/BSDA/versions/1.01/topics/z.test)"
      ]
    },
    {
      "cell_type": "code",
      "execution_count": null,
      "metadata": {
        "id": "qEOSumuJ3u6h"
      },
      "outputs": [],
      "source": [
        "# install.packages(\"BSDA\")\n",
        "\n",
        "# OU\n",
        "\n",
        "# packageurl <- \"https://cran.r-project.org/src/contrib/Archive/BSDA/BSDA_1.01.tar.gz\"\n",
        "# install.packages(packageurl, repos=NULL, type=\"source\")"
      ]
    },
    {
      "cell_type": "markdown",
      "metadata": {
        "id": "2oVetyCs3u6h"
      },
      "source": [
        "### z.test()"
      ]
    },
    {
      "cell_type": "code",
      "source": [
        "install.packages(\"BSDA\")"
      ],
      "metadata": {
        "colab": {
          "base_uri": "https://localhost:8080/"
        },
        "id": "aZ7zos7eaeP3",
        "outputId": "9d268232-0fb1-4184-cf37-4d06a6d8d0e2"
      },
      "execution_count": null,
      "outputs": [
        {
          "output_type": "stream",
          "name": "stderr",
          "text": [
            "Installing package into ‘/usr/local/lib/R/site-library’\n",
            "(as ‘lib’ is unspecified)\n",
            "\n"
          ]
        }
      ]
    },
    {
      "cell_type": "code",
      "execution_count": null,
      "metadata": {
        "id": "awCqICqa3u6h",
        "colab": {
          "base_uri": "https://localhost:8080/"
        },
        "outputId": "08fad3fd-6c49-415f-d563-75343375271b"
      },
      "outputs": [
        {
          "output_type": "stream",
          "name": "stderr",
          "text": [
            "Loading required package: lattice\n",
            "\n",
            "\n",
            "Attaching package: ‘BSDA’\n",
            "\n",
            "\n",
            "The following object is masked from ‘package:datasets’:\n",
            "\n",
            "    Orange\n",
            "\n",
            "\n"
          ]
        }
      ],
      "source": [
        "library(BSDA)"
      ]
    },
    {
      "cell_type": "code",
      "execution_count": null,
      "metadata": {
        "id": "XoZcrNOG3u6h",
        "colab": {
          "base_uri": "https://localhost:8080/",
          "height": 208
        },
        "outputId": "e2930801-2fd6-461c-b166-57bce13e6672"
      },
      "outputs": [
        {
          "output_type": "display_data",
          "data": {
            "text/plain": [
              "\n",
              "\tTwo-sample z-Test\n",
              "\n",
              "data:  homens and mulheres\n",
              "z = 5.8656, p-value = 2.237e-09\n",
              "alternative hypothesis: true difference in means is greater than 0\n",
              "99 percent confidence interval:\n",
              " 473.7115       NA\n",
              "sample estimates:\n",
              "mean of x mean of y \n",
              " 2142.608  1357.528 \n"
            ]
          },
          "metadata": {}
        }
      ],
      "source": [
        "# Obtendo o p.value com o z.test.\n",
        "\n",
        "resultado <- z.test(x = homens,\n",
        "                    y = mulheres,\n",
        "                    alternative = 'greater',\n",
        "                    mu = 0,\n",
        "                    sigma.x = sd(homens),\n",
        "                    sigma.y = sd(mulheres),\n",
        "                    conf.level = 0.99)\n",
        "resultado"
      ]
    },
    {
      "cell_type": "code",
      "execution_count": null,
      "metadata": {
        "id": "VtsFJ0SQ3u6h",
        "colab": {
          "base_uri": "https://localhost:8080/",
          "height": 34
        },
        "outputId": "fa4771a2-a785-4ae4-c16e-49a23fce21c1"
      },
      "outputs": [
        {
          "output_type": "display_data",
          "data": {
            "text/html": [
              "2.23728680026625e-09"
            ],
            "text/markdown": "2.23728680026625e-09",
            "text/latex": "2.23728680026625e-09",
            "text/plain": [
              "[1] 2.237287e-09"
            ]
          },
          "metadata": {}
        }
      ],
      "source": [
        "p_valor <- resultado$p.value\n",
        "p_valor"
      ]
    },
    {
      "cell_type": "code",
      "execution_count": null,
      "metadata": {
        "id": "TVSUSfwX3u6h",
        "colab": {
          "base_uri": "https://localhost:8080/",
          "height": 34
        },
        "outputId": "12adcc53-87a8-4570-92ae-c09b7b14eea2"
      },
      "outputs": [
        {
          "output_type": "display_data",
          "data": {
            "text/html": [
              "TRUE"
            ],
            "text/markdown": "TRUE",
            "text/latex": "TRUE",
            "text/plain": [
              "[1] TRUE"
            ]
          },
          "metadata": {}
        }
      ],
      "source": [
        "p_valor <= significancia"
      ]
    },
    {
      "cell_type": "markdown",
      "metadata": {
        "id": "i-MaMqfO3u6h"
      },
      "source": [
        "### <font color=red>Somente como observação</font>\n",
        "### t.test()"
      ]
    },
    {
      "cell_type": "code",
      "execution_count": null,
      "metadata": {
        "id": "4-YLNnJS3u6i",
        "colab": {
          "base_uri": "https://localhost:8080/",
          "height": 208
        },
        "outputId": "f284b583-e220-4a5b-d2f8-03152c1b84b5"
      },
      "outputs": [
        {
          "output_type": "display_data",
          "data": {
            "text/plain": [
              "\n",
              "\tTwo Sample t-test\n",
              "\n",
              "data:  homens and mulheres\n",
              "t = 5.8656, df = 998, p-value = 3.04e-09\n",
              "alternative hypothesis: true difference in means is greater than 0\n",
              "95 percent confidence interval:\n",
              " 564.7211      Inf\n",
              "sample estimates:\n",
              "mean of x mean of y \n",
              " 2142.608  1357.528 \n"
            ]
          },
          "metadata": {}
        }
      ],
      "source": [
        "resultado <- t.test(x = homens,\n",
        "                    y = mulheres,\n",
        "                    alternative = 'greater',\n",
        "                    paired = F,\n",
        "                    var.equal = T)\n",
        "resultado"
      ]
    },
    {
      "cell_type": "code",
      "execution_count": null,
      "metadata": {
        "id": "MRmztvPM3u6i",
        "colab": {
          "base_uri": "https://localhost:8080/",
          "height": 34
        },
        "outputId": "ef0ab294-c82c-468b-a1e5-a63cfb99d611"
      },
      "outputs": [
        {
          "output_type": "display_data",
          "data": {
            "text/html": [
              "3.04010400943369e-09"
            ],
            "text/markdown": "3.04010400943369e-09",
            "text/latex": "3.04010400943369e-09",
            "text/plain": [
              "[1] 3.040104e-09"
            ]
          },
          "metadata": {}
        }
      ],
      "source": [
        "p_valor <- resultado$p.value\n",
        "p_valor"
      ]
    },
    {
      "cell_type": "code",
      "execution_count": null,
      "metadata": {
        "id": "1AFwEj9f3u6i",
        "colab": {
          "base_uri": "https://localhost:8080/",
          "height": 34
        },
        "outputId": "53dddc5f-4eec-402d-a814-073f1d7abe79"
      },
      "outputs": [
        {
          "output_type": "display_data",
          "data": {
            "text/html": [
              "TRUE"
            ],
            "text/markdown": "TRUE",
            "text/latex": "TRUE",
            "text/plain": [
              "[1] TRUE"
            ]
          },
          "metadata": {}
        }
      ],
      "source": [
        "p_valor <= significancia"
      ]
    },
    {
      "cell_type": "markdown",
      "metadata": {
        "id": "0gxk-t4jpsl8"
      },
      "source": [
        "---"
      ]
    },
    {
      "cell_type": "markdown",
      "metadata": {
        "id": "IEHa9ZC_psl8"
      },
      "source": [
        "# <font color=green>4 TESTES NÃO PARAMÉTRICOS</font>\n",
        "***"
      ]
    },
    {
      "cell_type": "markdown",
      "metadata": {
        "id": "8iRwKn9Wpsl8"
      },
      "source": [
        "O trabalho com pequenas amostras pode levar a não aceitação da validade do teorema central do limite e também na impossibilidade de fazer suposições sobre a distribuição da variável avaliada. Quando isso ocorre torna-se necessária a aplicação de testes não paramétricos. Nos testes não paramétricos, não fazemos hipóteses sobre a distribuição (de probabilidade) das quais as observações são extraídas."
      ]
    },
    {
      "cell_type": "markdown",
      "metadata": {
        "id": "ngqmtRxFpsl9"
      },
      "source": [
        "## <font color='red'>Problema</font>"
      ]
    },
    {
      "cell_type": "markdown",
      "metadata": {
        "id": "Al0BiC02psl9"
      },
      "source": [
        "Antes de cada partida do campeonato nacional de futebol, as moedas utilizadas pelos árbitros devem ser verificadas para se ter certeza de que não são viciadas, ou seja, que não tendam para determinado resultado. Para isso um teste simples deve ser realizado antes de cada partida. Este teste consiste em lançar a moeda do jogo **50 vezes** e contar as frequências de **CARAS** e **COROAS** obtidas. A tabela abaixo mostra o resultado obtido no experimento:\n",
        "\n",
        "||CARA|COROA|\n",
        "|-|-|-|\n",
        "|Observado|17|33|\n",
        "|Esperado|25|25|\n",
        "\n",
        "A um **nível de significância de 5%**, é possível afirmar que a moeda não é honesta, isto é, que a moeda apresenta uma probabilidade maior de cair com a face **CARA** voltada para cima?"
      ]
    },
    {
      "cell_type": "markdown",
      "metadata": {
        "id": "56KA3Hnupsl9"
      },
      "source": [
        "## <font color=green>4.1 Teste do Qui-Quadrado ( $\\chi^2$)</font>\n",
        "***"
      ]
    },
    {
      "cell_type": "markdown",
      "metadata": {
        "id": "GxTlvB4Zpsl9"
      },
      "source": [
        "Também conhecido como teste de adequação ao ajustamento, seu nome se deve ao fato de utilizar uma variável estatística padronizada, representada pela letra grega qui ( $\\chi$) elevada ao quadrado. A tabela com os valores padronizados e como obtê-la podem ser vistos logo abaixo.\n",
        "\n",
        "O teste do $\\chi^2$ testa a hipótese nula de não haver diferença entre as frequências observadas de um determinado evento e as frequências que são realmente esperadas para este evento.\n",
        "\n",
        "Os passos de aplicação do teste são bem parecidos aos vistos para os testes paramétricos.\n",
        "\n",
        "![Região de Aceitação](https://caelum-online-public.s3.amazonaws.com/1229-estatistica-parte3/01/img017.png)"
      ]
    },
    {
      "cell_type": "markdown",
      "metadata": {
        "id": "1lbHtKGfpsl9"
      },
      "source": [
        "### Construindo tabela $\\chi^2$\n",
        "\n",
        "#### <font color=red>Documentações:\n",
        "\n",
        "- [**Chisquare**](https://www.rdocumentation.org/packages/stats/versions/3.6.1/topics/Chisquare)"
      ]
    },
    {
      "cell_type": "code",
      "execution_count": null,
      "metadata": {
        "id": "VbiwK1_r3u6i",
        "colab": {
          "base_uri": "https://localhost:8080/",
          "height": 1000
        },
        "outputId": "26c257e4-3abf-4f71-864d-0a2b6acc584f"
      },
      "outputs": [
        {
          "output_type": "display_data",
          "data": {
            "text/html": [
              "<table class=\"dataframe\">\n",
              "<caption>A matrix: 30 × 13 of type dbl</caption>\n",
              "<thead>\n",
              "\t<tr><th></th><th scope=col>0.005</th><th scope=col>0.010</th><th scope=col>0.025</th><th scope=col>0.050</th><th scope=col>0.100</th><th scope=col>0.250</th><th scope=col>0.500</th><th scope=col>0.750</th><th scope=col>0.900</th><th scope=col>0.975</th><th scope=col>0.950</th><th scope=col>0.990</th><th scope=col>0.995</th></tr>\n",
              "</thead>\n",
              "<tbody>\n",
              "\t<tr><th scope=row> 1</th><td> 0.0000</td><td> 0.0002</td><td> 0.0010</td><td> 0.0039</td><td> 0.0158</td><td> 0.1015</td><td> 0.4549</td><td> 1.3233</td><td> 2.7055</td><td> 5.0239</td><td> 3.8415</td><td> 6.6349</td><td> 7.8794</td></tr>\n",
              "\t<tr><th scope=row> 2</th><td> 0.0100</td><td> 0.0201</td><td> 0.0506</td><td> 0.1026</td><td> 0.2107</td><td> 0.5754</td><td> 1.3863</td><td> 2.7726</td><td> 4.6052</td><td> 7.3778</td><td> 5.9915</td><td> 9.2103</td><td>10.5966</td></tr>\n",
              "\t<tr><th scope=row> 3</th><td> 0.0717</td><td> 0.1148</td><td> 0.2158</td><td> 0.3518</td><td> 0.5844</td><td> 1.2125</td><td> 2.3660</td><td> 4.1083</td><td> 6.2514</td><td> 9.3484</td><td> 7.8147</td><td>11.3449</td><td>12.8382</td></tr>\n",
              "\t<tr><th scope=row> 4</th><td> 0.2070</td><td> 0.2971</td><td> 0.4844</td><td> 0.7107</td><td> 1.0636</td><td> 1.9226</td><td> 3.3567</td><td> 5.3853</td><td> 7.7794</td><td>11.1433</td><td> 9.4877</td><td>13.2767</td><td>14.8603</td></tr>\n",
              "\t<tr><th scope=row> 5</th><td> 0.4117</td><td> 0.5543</td><td> 0.8312</td><td> 1.1455</td><td> 1.6103</td><td> 2.6746</td><td> 4.3515</td><td> 6.6257</td><td> 9.2364</td><td>12.8325</td><td>11.0705</td><td>15.0863</td><td>16.7496</td></tr>\n",
              "\t<tr><th scope=row> 6</th><td> 0.6757</td><td> 0.8721</td><td> 1.2373</td><td> 1.6354</td><td> 2.2041</td><td> 3.4546</td><td> 5.3481</td><td> 7.8408</td><td>10.6446</td><td>14.4494</td><td>12.5916</td><td>16.8119</td><td>18.5476</td></tr>\n",
              "\t<tr><th scope=row> 7</th><td> 0.9893</td><td> 1.2390</td><td> 1.6899</td><td> 2.1673</td><td> 2.8331</td><td> 4.2549</td><td> 6.3458</td><td> 9.0371</td><td>12.0170</td><td>16.0128</td><td>14.0671</td><td>18.4753</td><td>20.2777</td></tr>\n",
              "\t<tr><th scope=row> 8</th><td> 1.3444</td><td> 1.6465</td><td> 2.1797</td><td> 2.7326</td><td> 3.4895</td><td> 5.0706</td><td> 7.3441</td><td>10.2189</td><td>13.3616</td><td>17.5345</td><td>15.5073</td><td>20.0902</td><td>21.9550</td></tr>\n",
              "\t<tr><th scope=row> 9</th><td> 1.7349</td><td> 2.0879</td><td> 2.7004</td><td> 3.3251</td><td> 4.1682</td><td> 5.8988</td><td> 8.3428</td><td>11.3888</td><td>14.6837</td><td>19.0228</td><td>16.9190</td><td>21.6660</td><td>23.5894</td></tr>\n",
              "\t<tr><th scope=row>10</th><td> 2.1559</td><td> 2.5582</td><td> 3.2470</td><td> 3.9403</td><td> 4.8652</td><td> 6.7372</td><td> 9.3418</td><td>12.5489</td><td>15.9872</td><td>20.4832</td><td>18.3070</td><td>23.2093</td><td>25.1882</td></tr>\n",
              "\t<tr><th scope=row>11</th><td> 2.6032</td><td> 3.0535</td><td> 3.8157</td><td> 4.5748</td><td> 5.5778</td><td> 7.5841</td><td>10.3410</td><td>13.7007</td><td>17.2750</td><td>21.9200</td><td>19.6751</td><td>24.7250</td><td>26.7568</td></tr>\n",
              "\t<tr><th scope=row>12</th><td> 3.0738</td><td> 3.5706</td><td> 4.4038</td><td> 5.2260</td><td> 6.3038</td><td> 8.4384</td><td>11.3403</td><td>14.8454</td><td>18.5493</td><td>23.3367</td><td>21.0261</td><td>26.2170</td><td>28.2995</td></tr>\n",
              "\t<tr><th scope=row>13</th><td> 3.5650</td><td> 4.1069</td><td> 5.0088</td><td> 5.8919</td><td> 7.0415</td><td> 9.2991</td><td>12.3398</td><td>15.9839</td><td>19.8119</td><td>24.7356</td><td>22.3620</td><td>27.6882</td><td>29.8195</td></tr>\n",
              "\t<tr><th scope=row>14</th><td> 4.0747</td><td> 4.6604</td><td> 5.6287</td><td> 6.5706</td><td> 7.7895</td><td>10.1653</td><td>13.3393</td><td>17.1169</td><td>21.0641</td><td>26.1189</td><td>23.6848</td><td>29.1412</td><td>31.3193</td></tr>\n",
              "\t<tr><th scope=row>15</th><td> 4.6009</td><td> 5.2293</td><td> 6.2621</td><td> 7.2609</td><td> 8.5468</td><td>11.0365</td><td>14.3389</td><td>18.2451</td><td>22.3071</td><td>27.4884</td><td>24.9958</td><td>30.5779</td><td>32.8013</td></tr>\n",
              "\t<tr><th scope=row>16</th><td> 5.1422</td><td> 5.8122</td><td> 6.9077</td><td> 7.9616</td><td> 9.3122</td><td>11.9122</td><td>15.3385</td><td>19.3689</td><td>23.5418</td><td>28.8454</td><td>26.2962</td><td>31.9999</td><td>34.2672</td></tr>\n",
              "\t<tr><th scope=row>17</th><td> 5.6972</td><td> 6.4078</td><td> 7.5642</td><td> 8.6718</td><td>10.0852</td><td>12.7919</td><td>16.3382</td><td>20.4887</td><td>24.7690</td><td>30.1910</td><td>27.5871</td><td>33.4087</td><td>35.7185</td></tr>\n",
              "\t<tr><th scope=row>18</th><td> 6.2648</td><td> 7.0149</td><td> 8.2307</td><td> 9.3905</td><td>10.8649</td><td>13.6753</td><td>17.3379</td><td>21.6049</td><td>25.9894</td><td>31.5264</td><td>28.8693</td><td>34.8053</td><td>37.1565</td></tr>\n",
              "\t<tr><th scope=row>19</th><td> 6.8440</td><td> 7.6327</td><td> 8.9065</td><td>10.1170</td><td>11.6509</td><td>14.5620</td><td>18.3377</td><td>22.7178</td><td>27.2036</td><td>32.8523</td><td>30.1435</td><td>36.1909</td><td>38.5823</td></tr>\n",
              "\t<tr><th scope=row>20</th><td> 7.4338</td><td> 8.2604</td><td> 9.5908</td><td>10.8508</td><td>12.4426</td><td>15.4518</td><td>19.3374</td><td>23.8277</td><td>28.4120</td><td>34.1696</td><td>31.4104</td><td>37.5662</td><td>39.9968</td></tr>\n",
              "\t<tr><th scope=row>21</th><td> 8.0337</td><td> 8.8972</td><td>10.2829</td><td>11.5913</td><td>13.2396</td><td>16.3444</td><td>20.3372</td><td>24.9348</td><td>29.6151</td><td>35.4789</td><td>32.6706</td><td>38.9322</td><td>41.4011</td></tr>\n",
              "\t<tr><th scope=row>22</th><td> 8.6427</td><td> 9.5425</td><td>10.9823</td><td>12.3380</td><td>14.0415</td><td>17.2396</td><td>21.3370</td><td>26.0393</td><td>30.8133</td><td>36.7807</td><td>33.9244</td><td>40.2894</td><td>42.7957</td></tr>\n",
              "\t<tr><th scope=row>23</th><td> 9.2604</td><td>10.1957</td><td>11.6886</td><td>13.0905</td><td>14.8480</td><td>18.1373</td><td>22.3369</td><td>27.1413</td><td>32.0069</td><td>38.0756</td><td>35.1725</td><td>41.6384</td><td>44.1813</td></tr>\n",
              "\t<tr><th scope=row>24</th><td> 9.8862</td><td>10.8564</td><td>12.4012</td><td>13.8484</td><td>15.6587</td><td>19.0373</td><td>23.3367</td><td>28.2412</td><td>33.1962</td><td>39.3641</td><td>36.4150</td><td>42.9798</td><td>45.5585</td></tr>\n",
              "\t<tr><th scope=row>25</th><td>10.5197</td><td>11.5240</td><td>13.1197</td><td>14.6114</td><td>16.4734</td><td>19.9393</td><td>24.3366</td><td>29.3389</td><td>34.3816</td><td>40.6465</td><td>37.6525</td><td>44.3141</td><td>46.9279</td></tr>\n",
              "\t<tr><th scope=row>26</th><td>11.1602</td><td>12.1981</td><td>13.8439</td><td>15.3792</td><td>17.2919</td><td>20.8434</td><td>25.3365</td><td>30.4346</td><td>35.5632</td><td>41.9232</td><td>38.8851</td><td>45.6417</td><td>48.2899</td></tr>\n",
              "\t<tr><th scope=row>27</th><td>11.8076</td><td>12.8785</td><td>14.5734</td><td>16.1514</td><td>18.1139</td><td>21.7494</td><td>26.3363</td><td>31.5284</td><td>36.7412</td><td>43.1945</td><td>40.1133</td><td>46.9629</td><td>49.6449</td></tr>\n",
              "\t<tr><th scope=row>28</th><td>12.4613</td><td>13.5647</td><td>15.3079</td><td>16.9279</td><td>18.9392</td><td>22.6572</td><td>27.3362</td><td>32.6205</td><td>37.9159</td><td>44.4608</td><td>41.3371</td><td>48.2782</td><td>50.9934</td></tr>\n",
              "\t<tr><th scope=row>29</th><td>13.1211</td><td>14.2565</td><td>16.0471</td><td>17.7084</td><td>19.7677</td><td>23.5666</td><td>28.3361</td><td>33.7109</td><td>39.0875</td><td>45.7223</td><td>42.5570</td><td>49.5879</td><td>52.3356</td></tr>\n",
              "\t<tr><th scope=row>30</th><td>13.7867</td><td>14.9535</td><td>16.7908</td><td>18.4927</td><td>20.5992</td><td>24.4776</td><td>29.3360</td><td>34.7997</td><td>40.2560</td><td>46.9792</td><td>43.7730</td><td>50.8922</td><td>53.6720</td></tr>\n",
              "</tbody>\n",
              "</table>\n"
            ],
            "text/markdown": "\nA matrix: 30 × 13 of type dbl\n\n| <!--/--> | 0.005 | 0.010 | 0.025 | 0.050 | 0.100 | 0.250 | 0.500 | 0.750 | 0.900 | 0.975 | 0.950 | 0.990 | 0.995 |\n|---|---|---|---|---|---|---|---|---|---|---|---|---|---|\n|  1 |  0.0000 |  0.0002 |  0.0010 |  0.0039 |  0.0158 |  0.1015 |  0.4549 |  1.3233 |  2.7055 |  5.0239 |  3.8415 |  6.6349 |  7.8794 |\n|  2 |  0.0100 |  0.0201 |  0.0506 |  0.1026 |  0.2107 |  0.5754 |  1.3863 |  2.7726 |  4.6052 |  7.3778 |  5.9915 |  9.2103 | 10.5966 |\n|  3 |  0.0717 |  0.1148 |  0.2158 |  0.3518 |  0.5844 |  1.2125 |  2.3660 |  4.1083 |  6.2514 |  9.3484 |  7.8147 | 11.3449 | 12.8382 |\n|  4 |  0.2070 |  0.2971 |  0.4844 |  0.7107 |  1.0636 |  1.9226 |  3.3567 |  5.3853 |  7.7794 | 11.1433 |  9.4877 | 13.2767 | 14.8603 |\n|  5 |  0.4117 |  0.5543 |  0.8312 |  1.1455 |  1.6103 |  2.6746 |  4.3515 |  6.6257 |  9.2364 | 12.8325 | 11.0705 | 15.0863 | 16.7496 |\n|  6 |  0.6757 |  0.8721 |  1.2373 |  1.6354 |  2.2041 |  3.4546 |  5.3481 |  7.8408 | 10.6446 | 14.4494 | 12.5916 | 16.8119 | 18.5476 |\n|  7 |  0.9893 |  1.2390 |  1.6899 |  2.1673 |  2.8331 |  4.2549 |  6.3458 |  9.0371 | 12.0170 | 16.0128 | 14.0671 | 18.4753 | 20.2777 |\n|  8 |  1.3444 |  1.6465 |  2.1797 |  2.7326 |  3.4895 |  5.0706 |  7.3441 | 10.2189 | 13.3616 | 17.5345 | 15.5073 | 20.0902 | 21.9550 |\n|  9 |  1.7349 |  2.0879 |  2.7004 |  3.3251 |  4.1682 |  5.8988 |  8.3428 | 11.3888 | 14.6837 | 19.0228 | 16.9190 | 21.6660 | 23.5894 |\n| 10 |  2.1559 |  2.5582 |  3.2470 |  3.9403 |  4.8652 |  6.7372 |  9.3418 | 12.5489 | 15.9872 | 20.4832 | 18.3070 | 23.2093 | 25.1882 |\n| 11 |  2.6032 |  3.0535 |  3.8157 |  4.5748 |  5.5778 |  7.5841 | 10.3410 | 13.7007 | 17.2750 | 21.9200 | 19.6751 | 24.7250 | 26.7568 |\n| 12 |  3.0738 |  3.5706 |  4.4038 |  5.2260 |  6.3038 |  8.4384 | 11.3403 | 14.8454 | 18.5493 | 23.3367 | 21.0261 | 26.2170 | 28.2995 |\n| 13 |  3.5650 |  4.1069 |  5.0088 |  5.8919 |  7.0415 |  9.2991 | 12.3398 | 15.9839 | 19.8119 | 24.7356 | 22.3620 | 27.6882 | 29.8195 |\n| 14 |  4.0747 |  4.6604 |  5.6287 |  6.5706 |  7.7895 | 10.1653 | 13.3393 | 17.1169 | 21.0641 | 26.1189 | 23.6848 | 29.1412 | 31.3193 |\n| 15 |  4.6009 |  5.2293 |  6.2621 |  7.2609 |  8.5468 | 11.0365 | 14.3389 | 18.2451 | 22.3071 | 27.4884 | 24.9958 | 30.5779 | 32.8013 |\n| 16 |  5.1422 |  5.8122 |  6.9077 |  7.9616 |  9.3122 | 11.9122 | 15.3385 | 19.3689 | 23.5418 | 28.8454 | 26.2962 | 31.9999 | 34.2672 |\n| 17 |  5.6972 |  6.4078 |  7.5642 |  8.6718 | 10.0852 | 12.7919 | 16.3382 | 20.4887 | 24.7690 | 30.1910 | 27.5871 | 33.4087 | 35.7185 |\n| 18 |  6.2648 |  7.0149 |  8.2307 |  9.3905 | 10.8649 | 13.6753 | 17.3379 | 21.6049 | 25.9894 | 31.5264 | 28.8693 | 34.8053 | 37.1565 |\n| 19 |  6.8440 |  7.6327 |  8.9065 | 10.1170 | 11.6509 | 14.5620 | 18.3377 | 22.7178 | 27.2036 | 32.8523 | 30.1435 | 36.1909 | 38.5823 |\n| 20 |  7.4338 |  8.2604 |  9.5908 | 10.8508 | 12.4426 | 15.4518 | 19.3374 | 23.8277 | 28.4120 | 34.1696 | 31.4104 | 37.5662 | 39.9968 |\n| 21 |  8.0337 |  8.8972 | 10.2829 | 11.5913 | 13.2396 | 16.3444 | 20.3372 | 24.9348 | 29.6151 | 35.4789 | 32.6706 | 38.9322 | 41.4011 |\n| 22 |  8.6427 |  9.5425 | 10.9823 | 12.3380 | 14.0415 | 17.2396 | 21.3370 | 26.0393 | 30.8133 | 36.7807 | 33.9244 | 40.2894 | 42.7957 |\n| 23 |  9.2604 | 10.1957 | 11.6886 | 13.0905 | 14.8480 | 18.1373 | 22.3369 | 27.1413 | 32.0069 | 38.0756 | 35.1725 | 41.6384 | 44.1813 |\n| 24 |  9.8862 | 10.8564 | 12.4012 | 13.8484 | 15.6587 | 19.0373 | 23.3367 | 28.2412 | 33.1962 | 39.3641 | 36.4150 | 42.9798 | 45.5585 |\n| 25 | 10.5197 | 11.5240 | 13.1197 | 14.6114 | 16.4734 | 19.9393 | 24.3366 | 29.3389 | 34.3816 | 40.6465 | 37.6525 | 44.3141 | 46.9279 |\n| 26 | 11.1602 | 12.1981 | 13.8439 | 15.3792 | 17.2919 | 20.8434 | 25.3365 | 30.4346 | 35.5632 | 41.9232 | 38.8851 | 45.6417 | 48.2899 |\n| 27 | 11.8076 | 12.8785 | 14.5734 | 16.1514 | 18.1139 | 21.7494 | 26.3363 | 31.5284 | 36.7412 | 43.1945 | 40.1133 | 46.9629 | 49.6449 |\n| 28 | 12.4613 | 13.5647 | 15.3079 | 16.9279 | 18.9392 | 22.6572 | 27.3362 | 32.6205 | 37.9159 | 44.4608 | 41.3371 | 48.2782 | 50.9934 |\n| 29 | 13.1211 | 14.2565 | 16.0471 | 17.7084 | 19.7677 | 23.5666 | 28.3361 | 33.7109 | 39.0875 | 45.7223 | 42.5570 | 49.5879 | 52.3356 |\n| 30 | 13.7867 | 14.9535 | 16.7908 | 18.4927 | 20.5992 | 24.4776 | 29.3360 | 34.7997 | 40.2560 | 46.9792 | 43.7730 | 50.8922 | 53.6720 |\n\n",
            "text/latex": "A matrix: 30 × 13 of type dbl\n\\begin{tabular}{r|lllllllllllll}\n  & 0.005 & 0.010 & 0.025 & 0.050 & 0.100 & 0.250 & 0.500 & 0.750 & 0.900 & 0.975 & 0.950 & 0.990 & 0.995\\\\\n\\hline\n\t 1 &  0.0000 &  0.0002 &  0.0010 &  0.0039 &  0.0158 &  0.1015 &  0.4549 &  1.3233 &  2.7055 &  5.0239 &  3.8415 &  6.6349 &  7.8794\\\\\n\t 2 &  0.0100 &  0.0201 &  0.0506 &  0.1026 &  0.2107 &  0.5754 &  1.3863 &  2.7726 &  4.6052 &  7.3778 &  5.9915 &  9.2103 & 10.5966\\\\\n\t 3 &  0.0717 &  0.1148 &  0.2158 &  0.3518 &  0.5844 &  1.2125 &  2.3660 &  4.1083 &  6.2514 &  9.3484 &  7.8147 & 11.3449 & 12.8382\\\\\n\t 4 &  0.2070 &  0.2971 &  0.4844 &  0.7107 &  1.0636 &  1.9226 &  3.3567 &  5.3853 &  7.7794 & 11.1433 &  9.4877 & 13.2767 & 14.8603\\\\\n\t 5 &  0.4117 &  0.5543 &  0.8312 &  1.1455 &  1.6103 &  2.6746 &  4.3515 &  6.6257 &  9.2364 & 12.8325 & 11.0705 & 15.0863 & 16.7496\\\\\n\t 6 &  0.6757 &  0.8721 &  1.2373 &  1.6354 &  2.2041 &  3.4546 &  5.3481 &  7.8408 & 10.6446 & 14.4494 & 12.5916 & 16.8119 & 18.5476\\\\\n\t 7 &  0.9893 &  1.2390 &  1.6899 &  2.1673 &  2.8331 &  4.2549 &  6.3458 &  9.0371 & 12.0170 & 16.0128 & 14.0671 & 18.4753 & 20.2777\\\\\n\t 8 &  1.3444 &  1.6465 &  2.1797 &  2.7326 &  3.4895 &  5.0706 &  7.3441 & 10.2189 & 13.3616 & 17.5345 & 15.5073 & 20.0902 & 21.9550\\\\\n\t 9 &  1.7349 &  2.0879 &  2.7004 &  3.3251 &  4.1682 &  5.8988 &  8.3428 & 11.3888 & 14.6837 & 19.0228 & 16.9190 & 21.6660 & 23.5894\\\\\n\t10 &  2.1559 &  2.5582 &  3.2470 &  3.9403 &  4.8652 &  6.7372 &  9.3418 & 12.5489 & 15.9872 & 20.4832 & 18.3070 & 23.2093 & 25.1882\\\\\n\t11 &  2.6032 &  3.0535 &  3.8157 &  4.5748 &  5.5778 &  7.5841 & 10.3410 & 13.7007 & 17.2750 & 21.9200 & 19.6751 & 24.7250 & 26.7568\\\\\n\t12 &  3.0738 &  3.5706 &  4.4038 &  5.2260 &  6.3038 &  8.4384 & 11.3403 & 14.8454 & 18.5493 & 23.3367 & 21.0261 & 26.2170 & 28.2995\\\\\n\t13 &  3.5650 &  4.1069 &  5.0088 &  5.8919 &  7.0415 &  9.2991 & 12.3398 & 15.9839 & 19.8119 & 24.7356 & 22.3620 & 27.6882 & 29.8195\\\\\n\t14 &  4.0747 &  4.6604 &  5.6287 &  6.5706 &  7.7895 & 10.1653 & 13.3393 & 17.1169 & 21.0641 & 26.1189 & 23.6848 & 29.1412 & 31.3193\\\\\n\t15 &  4.6009 &  5.2293 &  6.2621 &  7.2609 &  8.5468 & 11.0365 & 14.3389 & 18.2451 & 22.3071 & 27.4884 & 24.9958 & 30.5779 & 32.8013\\\\\n\t16 &  5.1422 &  5.8122 &  6.9077 &  7.9616 &  9.3122 & 11.9122 & 15.3385 & 19.3689 & 23.5418 & 28.8454 & 26.2962 & 31.9999 & 34.2672\\\\\n\t17 &  5.6972 &  6.4078 &  7.5642 &  8.6718 & 10.0852 & 12.7919 & 16.3382 & 20.4887 & 24.7690 & 30.1910 & 27.5871 & 33.4087 & 35.7185\\\\\n\t18 &  6.2648 &  7.0149 &  8.2307 &  9.3905 & 10.8649 & 13.6753 & 17.3379 & 21.6049 & 25.9894 & 31.5264 & 28.8693 & 34.8053 & 37.1565\\\\\n\t19 &  6.8440 &  7.6327 &  8.9065 & 10.1170 & 11.6509 & 14.5620 & 18.3377 & 22.7178 & 27.2036 & 32.8523 & 30.1435 & 36.1909 & 38.5823\\\\\n\t20 &  7.4338 &  8.2604 &  9.5908 & 10.8508 & 12.4426 & 15.4518 & 19.3374 & 23.8277 & 28.4120 & 34.1696 & 31.4104 & 37.5662 & 39.9968\\\\\n\t21 &  8.0337 &  8.8972 & 10.2829 & 11.5913 & 13.2396 & 16.3444 & 20.3372 & 24.9348 & 29.6151 & 35.4789 & 32.6706 & 38.9322 & 41.4011\\\\\n\t22 &  8.6427 &  9.5425 & 10.9823 & 12.3380 & 14.0415 & 17.2396 & 21.3370 & 26.0393 & 30.8133 & 36.7807 & 33.9244 & 40.2894 & 42.7957\\\\\n\t23 &  9.2604 & 10.1957 & 11.6886 & 13.0905 & 14.8480 & 18.1373 & 22.3369 & 27.1413 & 32.0069 & 38.0756 & 35.1725 & 41.6384 & 44.1813\\\\\n\t24 &  9.8862 & 10.8564 & 12.4012 & 13.8484 & 15.6587 & 19.0373 & 23.3367 & 28.2412 & 33.1962 & 39.3641 & 36.4150 & 42.9798 & 45.5585\\\\\n\t25 & 10.5197 & 11.5240 & 13.1197 & 14.6114 & 16.4734 & 19.9393 & 24.3366 & 29.3389 & 34.3816 & 40.6465 & 37.6525 & 44.3141 & 46.9279\\\\\n\t26 & 11.1602 & 12.1981 & 13.8439 & 15.3792 & 17.2919 & 20.8434 & 25.3365 & 30.4346 & 35.5632 & 41.9232 & 38.8851 & 45.6417 & 48.2899\\\\\n\t27 & 11.8076 & 12.8785 & 14.5734 & 16.1514 & 18.1139 & 21.7494 & 26.3363 & 31.5284 & 36.7412 & 43.1945 & 40.1133 & 46.9629 & 49.6449\\\\\n\t28 & 12.4613 & 13.5647 & 15.3079 & 16.9279 & 18.9392 & 22.6572 & 27.3362 & 32.6205 & 37.9159 & 44.4608 & 41.3371 & 48.2782 & 50.9934\\\\\n\t29 & 13.1211 & 14.2565 & 16.0471 & 17.7084 & 19.7677 & 23.5666 & 28.3361 & 33.7109 & 39.0875 & 45.7223 & 42.5570 & 49.5879 & 52.3356\\\\\n\t30 & 13.7867 & 14.9535 & 16.7908 & 18.4927 & 20.5992 & 24.4776 & 29.3360 & 34.7997 & 40.2560 & 46.9792 & 43.7730 & 50.8922 & 53.6720\\\\\n\\end{tabular}\n",
            "text/plain": [
              "   0.005   0.010   0.025   0.050   0.100   0.250   0.500   0.750   0.900  \n",
              " 1  0.0000  0.0002  0.0010  0.0039  0.0158  0.1015  0.4549  1.3233  2.7055\n",
              " 2  0.0100  0.0201  0.0506  0.1026  0.2107  0.5754  1.3863  2.7726  4.6052\n",
              " 3  0.0717  0.1148  0.2158  0.3518  0.5844  1.2125  2.3660  4.1083  6.2514\n",
              " 4  0.2070  0.2971  0.4844  0.7107  1.0636  1.9226  3.3567  5.3853  7.7794\n",
              " 5  0.4117  0.5543  0.8312  1.1455  1.6103  2.6746  4.3515  6.6257  9.2364\n",
              " 6  0.6757  0.8721  1.2373  1.6354  2.2041  3.4546  5.3481  7.8408 10.6446\n",
              " 7  0.9893  1.2390  1.6899  2.1673  2.8331  4.2549  6.3458  9.0371 12.0170\n",
              " 8  1.3444  1.6465  2.1797  2.7326  3.4895  5.0706  7.3441 10.2189 13.3616\n",
              " 9  1.7349  2.0879  2.7004  3.3251  4.1682  5.8988  8.3428 11.3888 14.6837\n",
              "10  2.1559  2.5582  3.2470  3.9403  4.8652  6.7372  9.3418 12.5489 15.9872\n",
              "11  2.6032  3.0535  3.8157  4.5748  5.5778  7.5841 10.3410 13.7007 17.2750\n",
              "12  3.0738  3.5706  4.4038  5.2260  6.3038  8.4384 11.3403 14.8454 18.5493\n",
              "13  3.5650  4.1069  5.0088  5.8919  7.0415  9.2991 12.3398 15.9839 19.8119\n",
              "14  4.0747  4.6604  5.6287  6.5706  7.7895 10.1653 13.3393 17.1169 21.0641\n",
              "15  4.6009  5.2293  6.2621  7.2609  8.5468 11.0365 14.3389 18.2451 22.3071\n",
              "16  5.1422  5.8122  6.9077  7.9616  9.3122 11.9122 15.3385 19.3689 23.5418\n",
              "17  5.6972  6.4078  7.5642  8.6718 10.0852 12.7919 16.3382 20.4887 24.7690\n",
              "18  6.2648  7.0149  8.2307  9.3905 10.8649 13.6753 17.3379 21.6049 25.9894\n",
              "19  6.8440  7.6327  8.9065 10.1170 11.6509 14.5620 18.3377 22.7178 27.2036\n",
              "20  7.4338  8.2604  9.5908 10.8508 12.4426 15.4518 19.3374 23.8277 28.4120\n",
              "21  8.0337  8.8972 10.2829 11.5913 13.2396 16.3444 20.3372 24.9348 29.6151\n",
              "22  8.6427  9.5425 10.9823 12.3380 14.0415 17.2396 21.3370 26.0393 30.8133\n",
              "23  9.2604 10.1957 11.6886 13.0905 14.8480 18.1373 22.3369 27.1413 32.0069\n",
              "24  9.8862 10.8564 12.4012 13.8484 15.6587 19.0373 23.3367 28.2412 33.1962\n",
              "25 10.5197 11.5240 13.1197 14.6114 16.4734 19.9393 24.3366 29.3389 34.3816\n",
              "26 11.1602 12.1981 13.8439 15.3792 17.2919 20.8434 25.3365 30.4346 35.5632\n",
              "27 11.8076 12.8785 14.5734 16.1514 18.1139 21.7494 26.3363 31.5284 36.7412\n",
              "28 12.4613 13.5647 15.3079 16.9279 18.9392 22.6572 27.3362 32.6205 37.9159\n",
              "29 13.1211 14.2565 16.0471 17.7084 19.7677 23.5666 28.3361 33.7109 39.0875\n",
              "30 13.7867 14.9535 16.7908 18.4927 20.5992 24.4776 29.3360 34.7997 40.2560\n",
              "   0.975   0.950   0.990   0.995  \n",
              " 1  5.0239  3.8415  6.6349  7.8794\n",
              " 2  7.3778  5.9915  9.2103 10.5966\n",
              " 3  9.3484  7.8147 11.3449 12.8382\n",
              " 4 11.1433  9.4877 13.2767 14.8603\n",
              " 5 12.8325 11.0705 15.0863 16.7496\n",
              " 6 14.4494 12.5916 16.8119 18.5476\n",
              " 7 16.0128 14.0671 18.4753 20.2777\n",
              " 8 17.5345 15.5073 20.0902 21.9550\n",
              " 9 19.0228 16.9190 21.6660 23.5894\n",
              "10 20.4832 18.3070 23.2093 25.1882\n",
              "11 21.9200 19.6751 24.7250 26.7568\n",
              "12 23.3367 21.0261 26.2170 28.2995\n",
              "13 24.7356 22.3620 27.6882 29.8195\n",
              "14 26.1189 23.6848 29.1412 31.3193\n",
              "15 27.4884 24.9958 30.5779 32.8013\n",
              "16 28.8454 26.2962 31.9999 34.2672\n",
              "17 30.1910 27.5871 33.4087 35.7185\n",
              "18 31.5264 28.8693 34.8053 37.1565\n",
              "19 32.8523 30.1435 36.1909 38.5823\n",
              "20 34.1696 31.4104 37.5662 39.9968\n",
              "21 35.4789 32.6706 38.9322 41.4011\n",
              "22 36.7807 33.9244 40.2894 42.7957\n",
              "23 38.0756 35.1725 41.6384 44.1813\n",
              "24 39.3641 36.4150 42.9798 45.5585\n",
              "25 40.6465 37.6525 44.3141 46.9279\n",
              "26 41.9232 38.8851 45.6417 48.2899\n",
              "27 43.1945 40.1133 46.9629 49.6449\n",
              "28 44.4608 41.3371 48.2782 50.9934\n",
              "29 45.7223 42.5570 49.5879 52.3356\n",
              "30 46.9792 43.7730 50.8922 53.6720"
            ]
          },
          "metadata": {}
        }
      ],
      "source": [
        "p <- c(0.005, 0.01, 0.025, 0.05, 0.1, 0.25, 0.5, 0.75, 0.9, 0.975, 0.95, 0.99, 0.995)\n",
        "df <- seq(1, 30, by = 1)\n",
        "probabilidade <- c()\n",
        "for(i in df){\n",
        "    for(j in p){\n",
        "        probabilidade <- c(probabilidade, round(qchisq(j, i, lower.tail = T), 4))\n",
        "    }\n",
        "}\n",
        "tabela_chi_2 <- matrix(probabilidade, ncol=13, byrow=TRUE)\n",
        "colnames(tabela_chi_2) <- format(p)\n",
        "rownames(tabela_chi_2) <- format(df)\n",
        "tabela_chi_2"
      ]
    },
    {
      "cell_type": "markdown",
      "metadata": {
        "id": "UkzhYAPDpsl_"
      },
      "source": [
        "<img src='https://caelum-online-public.s3.amazonaws.com/1229-estatistica-parte3/01/img016.png' width='250px'>\n",
        "\n",
        "Tabela com os valores de $\\chi_p^2$ em função dos graus de liberdade $(n - 1)$ e de $p = P(\\chi^2 \\leq \\chi_p^2)$"
      ]
    },
    {
      "cell_type": "markdown",
      "metadata": {
        "id": "cCPOqVFKpsl_"
      },
      "source": [
        "## <font color='red'>Problema</font>"
      ]
    },
    {
      "cell_type": "markdown",
      "metadata": {
        "id": "GTq1wpkbpsl_"
      },
      "source": [
        "Antes de cada partida do campeonato nacional de futebol, as moedas utilizadas pelos árbitros devem ser verificadas para se ter certeza de que não são viciadas, ou seja, que não tendam para determinado resultado. Para isso um teste simples deve ser realizado antes de cada partida. Este teste consiste em lançar a moeda do jogo **50 vezes** e contar as frequências de **CARAS** e **COROAS** obtidas. A tabela abaixo mostra o resultado obtido no experimento:\n",
        "\n",
        "||CARA|COROA|\n",
        "|-|-|-|\n",
        "|Observado|17|33|\n",
        "|Esperado|25|25|\n",
        "\n",
        "A um **nível de significância de 5%**, é possível afirmar que a moeda não é honesta, isto é, que a moeda apresenta uma probabilidade maior de cair com a face **CARA** voltada para cima?"
      ]
    },
    {
      "cell_type": "markdown",
      "metadata": {
        "id": "CSlCI1wUpsl_"
      },
      "source": [
        "---"
      ]
    },
    {
      "cell_type": "markdown",
      "metadata": {
        "id": "Op26YDWnpsmA"
      },
      "source": [
        "### Dados do problema"
      ]
    },
    {
      "cell_type": "code",
      "execution_count": null,
      "metadata": {
        "id": "p5iOqxk2psmA"
      },
      "outputs": [],
      "source": [
        "F_Observada <- c(17, 33)\n",
        "F_Esperada <- c(25, 25)\n",
        "significancia <- 0.05\n",
        "confianca <- 1 - significancia\n",
        "k <- 2 # Número de eventos possíveis (cara ou coroa)\n",
        "graus_de_liberdade <- k - 1"
      ]
    },
    {
      "cell_type": "markdown",
      "metadata": {
        "id": "w6A74pM-psmB"
      },
      "source": [
        "### **Passo 1** - formulação das hipóteses $H_0$ e $H_1$\n",
        "\n",
        "#### <font color='red'>Lembre-se, a hipótese nula sempre contém a alegação de igualdade</font>"
      ]
    },
    {
      "cell_type": "markdown",
      "metadata": {
        "id": "zA4AD5_8psmB"
      },
      "source": [
        "### $H_0: F_{CARA} = F_{COROA}$\n",
        "\n",
        "### $H_1: F_{CARA} \\neq F_{COROA}$"
      ]
    },
    {
      "cell_type": "markdown",
      "metadata": {
        "id": "rUtuw6_bpsmB"
      },
      "source": [
        "---"
      ]
    },
    {
      "cell_type": "markdown",
      "metadata": {
        "id": "Zi2oE6ZbpsmB"
      },
      "source": [
        "### **Passo 2** - fixação da significância do teste ($\\alpha$)"
      ]
    },
    {
      "cell_type": "markdown",
      "metadata": {
        "id": "cCL8Wyy7psmC"
      },
      "source": [
        "https://docs.scipy.org/doc/scipy/reference/generated/scipy.stats.chi.html"
      ]
    },
    {
      "cell_type": "code",
      "execution_count": null,
      "metadata": {
        "id": "WRsJSXxGpsmE",
        "scrolled": true,
        "colab": {
          "base_uri": "https://localhost:8080/",
          "height": 161
        },
        "outputId": "1d64bae0-ad73-47c1-b209-6d1f4f5b06bf"
      },
      "outputs": [
        {
          "output_type": "display_data",
          "data": {
            "text/html": [
              "<table class=\"dataframe\">\n",
              "<caption>A matrix: 3 × 13 of type dbl</caption>\n",
              "<thead>\n",
              "\t<tr><th></th><th scope=col>0.005</th><th scope=col>0.010</th><th scope=col>0.025</th><th scope=col>0.050</th><th scope=col>0.100</th><th scope=col>0.250</th><th scope=col>0.500</th><th scope=col>0.750</th><th scope=col>0.900</th><th scope=col>0.975</th><th scope=col>0.950</th><th scope=col>0.990</th><th scope=col>0.995</th></tr>\n",
              "</thead>\n",
              "<tbody>\n",
              "\t<tr><th scope=row> 1</th><td>0.0000</td><td>0.0002</td><td>0.0010</td><td>0.0039</td><td>0.0158</td><td>0.1015</td><td>0.4549</td><td>1.3233</td><td>2.7055</td><td>5.0239</td><td>3.8415</td><td> 6.6349</td><td> 7.8794</td></tr>\n",
              "\t<tr><th scope=row> 2</th><td>0.0100</td><td>0.0201</td><td>0.0506</td><td>0.1026</td><td>0.2107</td><td>0.5754</td><td>1.3863</td><td>2.7726</td><td>4.6052</td><td>7.3778</td><td>5.9915</td><td> 9.2103</td><td>10.5966</td></tr>\n",
              "\t<tr><th scope=row> 3</th><td>0.0717</td><td>0.1148</td><td>0.2158</td><td>0.3518</td><td>0.5844</td><td>1.2125</td><td>2.3660</td><td>4.1083</td><td>6.2514</td><td>9.3484</td><td>7.8147</td><td>11.3449</td><td>12.8382</td></tr>\n",
              "</tbody>\n",
              "</table>\n"
            ],
            "text/markdown": "\nA matrix: 3 × 13 of type dbl\n\n| <!--/--> | 0.005 | 0.010 | 0.025 | 0.050 | 0.100 | 0.250 | 0.500 | 0.750 | 0.900 | 0.975 | 0.950 | 0.990 | 0.995 |\n|---|---|---|---|---|---|---|---|---|---|---|---|---|---|\n|  1 | 0.0000 | 0.0002 | 0.0010 | 0.0039 | 0.0158 | 0.1015 | 0.4549 | 1.3233 | 2.7055 | 5.0239 | 3.8415 |  6.6349 |  7.8794 |\n|  2 | 0.0100 | 0.0201 | 0.0506 | 0.1026 | 0.2107 | 0.5754 | 1.3863 | 2.7726 | 4.6052 | 7.3778 | 5.9915 |  9.2103 | 10.5966 |\n|  3 | 0.0717 | 0.1148 | 0.2158 | 0.3518 | 0.5844 | 1.2125 | 2.3660 | 4.1083 | 6.2514 | 9.3484 | 7.8147 | 11.3449 | 12.8382 |\n\n",
            "text/latex": "A matrix: 3 × 13 of type dbl\n\\begin{tabular}{r|lllllllllllll}\n  & 0.005 & 0.010 & 0.025 & 0.050 & 0.100 & 0.250 & 0.500 & 0.750 & 0.900 & 0.975 & 0.950 & 0.990 & 0.995\\\\\n\\hline\n\t 1 & 0.0000 & 0.0002 & 0.0010 & 0.0039 & 0.0158 & 0.1015 & 0.4549 & 1.3233 & 2.7055 & 5.0239 & 3.8415 &  6.6349 &  7.8794\\\\\n\t 2 & 0.0100 & 0.0201 & 0.0506 & 0.1026 & 0.2107 & 0.5754 & 1.3863 & 2.7726 & 4.6052 & 7.3778 & 5.9915 &  9.2103 & 10.5966\\\\\n\t 3 & 0.0717 & 0.1148 & 0.2158 & 0.3518 & 0.5844 & 1.2125 & 2.3660 & 4.1083 & 6.2514 & 9.3484 & 7.8147 & 11.3449 & 12.8382\\\\\n\\end{tabular}\n",
            "text/plain": [
              "   0.005  0.010  0.025  0.050  0.100  0.250  0.500  0.750  0.900  0.975  0.950 \n",
              " 1 0.0000 0.0002 0.0010 0.0039 0.0158 0.1015 0.4549 1.3233 2.7055 5.0239 3.8415\n",
              " 2 0.0100 0.0201 0.0506 0.1026 0.2107 0.5754 1.3863 2.7726 4.6052 7.3778 5.9915\n",
              " 3 0.0717 0.1148 0.2158 0.3518 0.5844 1.2125 2.3660 4.1083 6.2514 9.3484 7.8147\n",
              "   0.990   0.995  \n",
              " 1  6.6349  7.8794\n",
              " 2  9.2103 10.5966\n",
              " 3 11.3449 12.8382"
            ]
          },
          "metadata": {}
        }
      ],
      "source": [
        "tabela_chi_2[1:3, ]"
      ]
    },
    {
      "cell_type": "markdown",
      "metadata": {
        "id": "0RRjHQm7psmF"
      },
      "source": [
        "### Obtendo $\\chi_{\\alpha}^2$"
      ]
    },
    {
      "cell_type": "code",
      "execution_count": null,
      "metadata": {
        "id": "YEYg466h3u6m",
        "colab": {
          "base_uri": "https://localhost:8080/",
          "height": 34
        },
        "outputId": "f4f2a36e-01f2-4f5c-c79e-ac3127eb2ab8"
      },
      "outputs": [
        {
          "output_type": "display_data",
          "data": {
            "text/html": [
              "3.84145882069412"
            ],
            "text/markdown": "3.84145882069412",
            "text/latex": "3.84145882069412",
            "text/plain": [
              "[1] 3.841459"
            ]
          },
          "metadata": {}
        }
      ],
      "source": [
        "# Com a função qchisq temos o valor chi_2 de forma simplificada sem a necessidade de consulta a tabela\n",
        "\n",
        "chi_2_alpha <- qchisq(confianca, graus_de_liberdade)\n",
        "chi_2_alpha"
      ]
    },
    {
      "cell_type": "markdown",
      "metadata": {
        "id": "aHxm3ZCupsmJ"
      },
      "source": [
        "![Região de Aceitação](https://caelum-online-public.s3.amazonaws.com/1229-estatistica-parte3/01/img018.png)"
      ]
    },
    {
      "cell_type": "markdown",
      "metadata": {
        "id": "FxLr2OnDpsmJ"
      },
      "source": [
        "---"
      ]
    },
    {
      "cell_type": "markdown",
      "metadata": {
        "id": "JcUvBM5OpsmJ"
      },
      "source": [
        "### **Passo 3** - cálculo da estatística-teste e verificação desse valor com as áreas de aceitação e rejeição do teste\n",
        "\n",
        "# $$\\chi^2 = \\sum_{i=1}^{k}{\\frac{(F_{i}^{Obs} - F_{i}^{Esp})^2}{F_{i}^{Esp}}}$$\n",
        "\n",
        "Onde\n",
        "\n",
        "$F_{i}^{Obs}$ = frequência observada para o evento $i$\n",
        "\n",
        "$F_{i}^{Esp}$ = frequência esperada para o evento $i$\n",
        "\n",
        "$k$ = total de eventos possíveis"
      ]
    },
    {
      "cell_type": "code",
      "execution_count": null,
      "metadata": {
        "id": "2b32Y6HiuT-u",
        "colab": {
          "base_uri": "https://localhost:8080/",
          "height": 34
        },
        "outputId": "468bd211-7b30-4248-e69d-56ab949ce9aa"
      },
      "outputs": [
        {
          "output_type": "display_data",
          "data": {
            "text/html": [
              "5.12"
            ],
            "text/markdown": "5.12",
            "text/latex": "5.12",
            "text/plain": [
              "[1] 5.12"
            ]
          },
          "metadata": {}
        }
      ],
      "source": [
        "chi_2 <- ( (F_Observada[1] - F_Esperada[1]) ** 2 / F_Esperada[1] ) + ( (F_Observada[2] - F_Esperada[2]) ** 2 / F_Esperada[2] )\n",
        "chi_2"
      ]
    },
    {
      "cell_type": "code",
      "execution_count": null,
      "metadata": {
        "id": "7eL97ts8psmJ",
        "colab": {
          "base_uri": "https://localhost:8080/",
          "height": 34
        },
        "outputId": "cb1759c4-3f32-4a27-de69-85c9d38592ee"
      },
      "outputs": [
        {
          "output_type": "display_data",
          "data": {
            "text/html": [
              "5.12"
            ],
            "text/markdown": "5.12",
            "text/latex": "5.12",
            "text/plain": [
              "[1] 5.12"
            ]
          },
          "metadata": {}
        }
      ],
      "source": [
        "# Com o laço for podemos fazer o sum de n valores para k de forma mais simplificada\n",
        "\n",
        "chi_2 = 0\n",
        "for(i in 1:k){\n",
        "  chi_2 <- chi_2 + (F_Observada[i] - F_Esperada[i]) ** 2 / F_Esperada[i] \n",
        "}\n",
        "chi_2"
      ]
    },
    {
      "cell_type": "markdown",
      "metadata": {
        "id": "gdwiYn6ZpsmK"
      },
      "source": [
        "![Estatística-Teste](https://caelum-online-public.s3.amazonaws.com/1229-estatistica-parte3/01/img019.png)"
      ]
    },
    {
      "cell_type": "markdown",
      "metadata": {
        "id": "7v6msKABpsmK"
      },
      "source": [
        "---"
      ]
    },
    {
      "cell_type": "markdown",
      "metadata": {
        "id": "PHLhbZ3IpsmK"
      },
      "source": [
        "### **Passo 4** - Aceitação ou rejeição da hipótese nula"
      ]
    },
    {
      "cell_type": "markdown",
      "metadata": {
        "id": "tiQ0gAMGpsmL"
      },
      "source": [
        "<img src='https://caelum-online-public.s3.amazonaws.com/1229-estatistica-parte3/01/img020.png' width=80%>"
      ]
    },
    {
      "cell_type": "markdown",
      "metadata": {
        "id": "lhFLib7-psmM"
      },
      "source": [
        "### <font color='red'>Critério do valor crítico</font>\n",
        "\n",
        "> ### Rejeitar $H_0$ se $\\chi_{teste}^2 > \\chi_{\\alpha}^2$"
      ]
    },
    {
      "cell_type": "code",
      "execution_count": null,
      "metadata": {
        "id": "HSOhw7E7psmM",
        "colab": {
          "base_uri": "https://localhost:8080/",
          "height": 34
        },
        "outputId": "97b06c35-1704-4260-bd56-7c72649f671b"
      },
      "outputs": [
        {
          "output_type": "display_data",
          "data": {
            "text/html": [
              "TRUE"
            ],
            "text/markdown": "TRUE",
            "text/latex": "TRUE",
            "text/plain": [
              "[1] TRUE"
            ]
          },
          "metadata": {}
        }
      ],
      "source": [
        "chi_2 > chi_2_alpha"
      ]
    },
    {
      "cell_type": "markdown",
      "metadata": {
        "id": "hvHTGAOepsmN"
      },
      "source": [
        "### <font color='green'>Conclusão: Com um nível de confiança de 95% rejeitamos a hipótese nula ($H_0$) e concluímos que as frequências observadas e esperadas são discrepantes, ou seja, a moeda não é honesta e precisa ser substituída.</font>"
      ]
    },
    {
      "cell_type": "markdown",
      "metadata": {
        "id": "VcqxUxnopsmN"
      },
      "source": [
        "### <font color='red'>Critério do valor $p$</font>\n",
        "\n",
        "> ### Rejeitar $H_0$ se o valor $p\\leq\\alpha$"
      ]
    },
    {
      "cell_type": "code",
      "execution_count": null,
      "metadata": {
        "id": "fP8w-6MZpsmO",
        "colab": {
          "base_uri": "https://localhost:8080/",
          "height": 34
        },
        "outputId": "afd17769-3ab5-4ce0-aec6-d5d35101cce7"
      },
      "outputs": [
        {
          "output_type": "display_data",
          "data": {
            "text/html": [
              "5.12"
            ],
            "text/markdown": "5.12",
            "text/latex": "5.12",
            "text/plain": [
              "[1] 5.12"
            ]
          },
          "metadata": {}
        }
      ],
      "source": [
        "chi_2"
      ]
    },
    {
      "cell_type": "code",
      "execution_count": null,
      "metadata": {
        "id": "LWCqrM2rpsmP",
        "colab": {
          "base_uri": "https://localhost:8080/",
          "height": 34
        },
        "outputId": "ad28beaf-42e9-4302-a270-0c4328bcfb43"
      },
      "outputs": [
        {
          "output_type": "display_data",
          "data": {
            "text/html": [
              "0.023651616655356"
            ],
            "text/markdown": "0.023651616655356",
            "text/latex": "0.023651616655356",
            "text/plain": [
              "[1] 0.02365162"
            ]
          },
          "metadata": {}
        }
      ],
      "source": [
        "# Utilizando a função pchisq obtemos o p-value\n",
        "\n",
        "p_valor <- pchisq(chi_2, df = graus_de_liberdade, lower.tail = F)\n",
        "p_valor"
      ]
    },
    {
      "cell_type": "markdown",
      "metadata": {
        "id": "WpvavOAVpsmR"
      },
      "source": [
        "#### <font color=red>Documentações:\n",
        "\n",
        "- [**chisq.test**](https://www.rdocumentation.org/packages/stats/versions/3.6.1/topics/chisq.test)"
      ]
    },
    {
      "cell_type": "code",
      "execution_count": null,
      "metadata": {
        "id": "_tiudO6-3u6n",
        "colab": {
          "base_uri": "https://localhost:8080/",
          "height": 104
        },
        "outputId": "80216c6b-60a3-4768-9553-649eb71ddde6"
      },
      "outputs": [
        {
          "output_type": "display_data",
          "data": {
            "text/plain": [
              "\n",
              "\tChi-squared test for given probabilities\n",
              "\n",
              "data:  F_Observada\n",
              "X-squared = 5.12, df = 1, p-value = 0.02365\n"
            ]
          },
          "metadata": {}
        }
      ],
      "source": [
        "chisq.test(x = F_Observada)"
      ]
    },
    {
      "cell_type": "code",
      "execution_count": null,
      "metadata": {
        "id": "RGPF_GwS3u6n",
        "colab": {
          "base_uri": "https://localhost:8080/",
          "height": 104
        },
        "outputId": "27923a79-228e-413d-cc36-6c90d610a0af"
      },
      "outputs": [
        {
          "output_type": "display_data",
          "data": {
            "text/plain": [
              "\n",
              "\tChi-squared test for given probabilities\n",
              "\n",
              "data:  F_Observada\n",
              "X-squared = 5.12, df = 1, p-value = 0.02365\n"
            ]
          },
          "metadata": {}
        }
      ],
      "source": [
        "# Utilizando a função chisq.test com os parâmetros da frequência observada e das probabilidades de cada evento, obtemos de forma simplificada\n",
        "# os valores de X-squared e do p-value.\n",
        "\n",
        "resultado <- chisq.test(x = F_Observada, p = c(0.5, 0.5))\n",
        "resultado"
      ]
    },
    {
      "cell_type": "code",
      "execution_count": null,
      "metadata": {
        "id": "DGmAH7RB3u6n",
        "colab": {
          "base_uri": "https://localhost:8080/",
          "height": 34
        },
        "outputId": "2f4ea9c6-fae0-4a9f-b4f1-19eb62f0a28d"
      },
      "outputs": [
        {
          "output_type": "display_data",
          "data": {
            "text/html": [
              "<strong>X-squared:</strong> 5.12"
            ],
            "text/markdown": "**X-squared:** 5.12",
            "text/latex": "\\textbf{X-squared:} 5.12",
            "text/plain": [
              "X-squared \n",
              "     5.12 "
            ]
          },
          "metadata": {}
        }
      ],
      "source": [
        "# Com $statistic isolamos o valor de X-squared\n",
        "\n",
        "resultado$statistic"
      ]
    },
    {
      "cell_type": "code",
      "execution_count": null,
      "metadata": {
        "id": "UVSphcIf3u6n",
        "colab": {
          "base_uri": "https://localhost:8080/",
          "height": 34
        },
        "outputId": "eb09942b-c4ec-422a-84d2-04137d1afa84"
      },
      "outputs": [
        {
          "output_type": "display_data",
          "data": {
            "text/html": [
              "<strong>df:</strong> 1"
            ],
            "text/markdown": "**df:** 1",
            "text/latex": "\\textbf{df:} 1",
            "text/plain": [
              "df \n",
              " 1 "
            ]
          },
          "metadata": {}
        }
      ],
      "source": [
        "# Com $parameter isolamos o valor dos graus de liberdade\n",
        "\n",
        "resultado$parameter"
      ]
    },
    {
      "cell_type": "code",
      "execution_count": null,
      "metadata": {
        "id": "N2zhaAJ-3u6n",
        "colab": {
          "base_uri": "https://localhost:8080/",
          "height": 34
        },
        "outputId": "9c5b3372-91ba-418f-b780-88911f2f1b2b"
      },
      "outputs": [
        {
          "output_type": "display_data",
          "data": {
            "text/html": [
              "0.023651616655356"
            ],
            "text/markdown": "0.023651616655356",
            "text/latex": "0.023651616655356",
            "text/plain": [
              "[1] 0.02365162"
            ]
          },
          "metadata": {}
        }
      ],
      "source": [
        "# Com $p.value isolamos o valor do p.value\n",
        "\n",
        "p_valor <- resultado$p.value \n",
        "p_valor"
      ]
    },
    {
      "cell_type": "code",
      "execution_count": null,
      "metadata": {
        "id": "qLDPRYn63u6n",
        "colab": {
          "base_uri": "https://localhost:8080/",
          "height": 34
        },
        "outputId": "06e7fcae-ba61-42ac-d4cb-d38e22fd9843"
      },
      "outputs": [
        {
          "output_type": "display_data",
          "data": {
            "text/html": [
              "<style>\n",
              ".list-inline {list-style: none; margin:0; padding: 0}\n",
              ".list-inline>li {display: inline-block}\n",
              ".list-inline>li:not(:last-child)::after {content: \"\\00b7\"; padding: 0 .5ex}\n",
              "</style>\n",
              "<ol class=list-inline><li>17</li><li>33</li></ol>\n"
            ],
            "text/markdown": "1. 17\n2. 33\n\n\n",
            "text/latex": "\\begin{enumerate*}\n\\item 17\n\\item 33\n\\end{enumerate*}\n",
            "text/plain": [
              "[1] 17 33"
            ]
          },
          "metadata": {}
        }
      ],
      "source": [
        "# Com $observed isolamos o valor das frequências observadas\n",
        "\n",
        "resultado$observed"
      ]
    },
    {
      "cell_type": "code",
      "execution_count": null,
      "metadata": {
        "id": "ugv5CywE3u6n",
        "colab": {
          "base_uri": "https://localhost:8080/",
          "height": 34
        },
        "outputId": "947887a6-a6b6-403b-8cbc-d03c91554af2"
      },
      "outputs": [
        {
          "output_type": "display_data",
          "data": {
            "text/html": [
              "<style>\n",
              ".list-inline {list-style: none; margin:0; padding: 0}\n",
              ".list-inline>li {display: inline-block}\n",
              ".list-inline>li:not(:last-child)::after {content: \"\\00b7\"; padding: 0 .5ex}\n",
              "</style>\n",
              "<ol class=list-inline><li>25</li><li>25</li></ol>\n"
            ],
            "text/markdown": "1. 25\n2. 25\n\n\n",
            "text/latex": "\\begin{enumerate*}\n\\item 25\n\\item 25\n\\end{enumerate*}\n",
            "text/plain": [
              "[1] 25 25"
            ]
          },
          "metadata": {}
        }
      ],
      "source": [
        "# Com $expected isolamos o valor das frequências esperadas\n",
        "\n",
        "resultado$expected"
      ]
    },
    {
      "cell_type": "code",
      "execution_count": null,
      "metadata": {
        "id": "reKBubKWpsmT",
        "colab": {
          "base_uri": "https://localhost:8080/",
          "height": 69
        },
        "outputId": "96511980-3f24-4b2b-ae04-9e1f2ee16dc4"
      },
      "outputs": [
        {
          "output_type": "display_data",
          "data": {
            "text/html": [
              "0.023651616655356"
            ],
            "text/markdown": "0.023651616655356",
            "text/latex": "0.023651616655356",
            "text/plain": [
              "[1] 0.02365162"
            ]
          },
          "metadata": {}
        },
        {
          "output_type": "display_data",
          "data": {
            "text/html": [
              "0.05"
            ],
            "text/markdown": "0.05",
            "text/latex": "0.05",
            "text/plain": [
              "[1] 0.05"
            ]
          },
          "metadata": {}
        },
        {
          "output_type": "display_data",
          "data": {
            "text/html": [
              "TRUE"
            ],
            "text/markdown": "TRUE",
            "text/latex": "TRUE",
            "text/plain": [
              "[1] TRUE"
            ]
          },
          "metadata": {}
        }
      ],
      "source": [
        "# Na avaliação observamos que p-value é <= a significancia\n",
        "\n",
        "p_valor\n",
        "significancia\n",
        "p_valor <= significancia"
      ]
    },
    {
      "cell_type": "markdown",
      "source": [
        "## Exercício - 09"
      ],
      "metadata": {
        "id": "pt6W17wphpZZ"
      }
    },
    {
      "cell_type": "markdown",
      "source": [
        "Na realização de um teste não paramétrico Qui-quadrado, com apenas 5 graus de liberdade, obteve-se a estatística de teste no valor de 7,45. Qual seria o p-valor para este teste?"
      ],
      "metadata": {
        "id": "wmOp8hMlhp2X"
      }
    },
    {
      "cell_type": "code",
      "source": [
        "graus_de_liberdade_ex09 <- 5\n",
        "chi_2_ex09 <- 7.45\n",
        "\n",
        "p_valor_ex09 <- pchisq(chi_2_ex09, df = graus_de_liberdade_ex09, lower.tail = F)\n",
        "p_valor_ex09"
      ],
      "metadata": {
        "colab": {
          "base_uri": "https://localhost:8080/",
          "height": 34
        },
        "id": "v-6a_JlQhqIH",
        "outputId": "8eda159b-119a-43e2-f978-581386c42806"
      },
      "execution_count": null,
      "outputs": [
        {
          "output_type": "display_data",
          "data": {
            "text/html": [
              "0.189265791211716"
            ],
            "text/markdown": "0.189265791211716",
            "text/latex": "0.189265791211716",
            "text/plain": [
              "[1] 0.1892658"
            ]
          },
          "metadata": {}
        }
      ]
    },
    {
      "cell_type": "markdown",
      "source": [
        "## Exercício - 10"
      ],
      "metadata": {
        "id": "8RPhbGikiPMg"
      }
    },
    {
      "cell_type": "markdown",
      "source": [
        "Considerando o problema que resolvemos anteriormente, onde o resultado de 60 lançamentos de duas moedas apresentou a seguinte frequência de resultados:\n",
        "\n",
        "Resultados\tFrequências Observadas\n",
        "\n",
        "2 CARAS\t12\n",
        "\n",
        "1 CARA e 1 COROA\t34\n",
        "\n",
        "2 COROAS\t14\n",
        "\n",
        "Total\t60\n",
        "\n",
        "Considerando um nível de significância de 5%, seria possível dizer que as moedas estão bem equilibradas, ou seja, que apresentam probabilidades iguais de se obter CARA ou COROA?\n",
        "\n",
        "Selecione a alternativa que apresenta a forma correta de se resolver este problema utilizando a função chisq.test() do R."
      ],
      "metadata": {
        "id": "3aMc9VjkiPrA"
      }
    },
    {
      "cell_type": "code",
      "source": [
        "chisq.test(x = c(12, 34, 14), p = c(0.25, 0.5, 0.25))"
      ],
      "metadata": {
        "colab": {
          "base_uri": "https://localhost:8080/",
          "height": 104
        },
        "id": "6wu2d7IhiQAY",
        "outputId": "f70f6341-9b35-4ff3-b109-b794f88cf599"
      },
      "execution_count": null,
      "outputs": [
        {
          "output_type": "display_data",
          "data": {
            "text/plain": [
              "\n",
              "\tChi-squared test for given probabilities\n",
              "\n",
              "data:  c(12, 34, 14)\n",
              "X-squared = 1.2, df = 2, p-value = 0.5488\n"
            ]
          },
          "metadata": {}
        }
      ]
    },
    {
      "cell_type": "markdown",
      "metadata": {
        "id": "WlHU5fNNpsmU"
      },
      "source": [
        "---"
      ]
    },
    {
      "cell_type": "markdown",
      "metadata": {
        "id": "PUXdBJ9FpsmU"
      },
      "source": [
        "## <font color='red'>Problema</font>"
      ]
    },
    {
      "cell_type": "markdown",
      "metadata": {
        "id": "DXvJ2JnKpsmU"
      },
      "source": [
        "Um novo tratamento para acabar com o hábito de fumar está sendo empregado em um grupo de **35 pacientes** voluntários. De cada paciente testado foram obtidas as informações de quantidades de cigarros consumidos por dia antes e depois do término do tratamento. Assumindo um **nível de confiança de 95%** é possível concluir que, depois da aplicação do novo tratamento, houve uma mudança no hábito de fumar do grupo de pacientes testado?"
      ]
    },
    {
      "cell_type": "markdown",
      "metadata": {
        "id": "BqE_PN7IpsmU"
      },
      "source": [
        "## <font color=green>4.2 Teste Wilcoxon</font>\n",
        "### Comparação de duas populações - amostras dependentes\n",
        "***"
      ]
    },
    {
      "cell_type": "markdown",
      "metadata": {
        "id": "1MxFBYB-psmU"
      },
      "source": [
        "Empregado quando se deseja comparar duas amostras relacionadas, amostras emparelhadas. Pode ser aplicado quando se deseja testar a diferença de duas condições, isto é, quando um mesmo elemento é submetido a duas medidas."
      ]
    },
    {
      "cell_type": "markdown",
      "metadata": {
        "id": "1fnm4Q0l3u6o"
      },
      "source": [
        "#### <font color=red>Documentações:\n",
        "\n",
        "- [**aggregate**](https://www.rdocumentation.org/packages/stats/versions/3.6.1/topics/aggregate)\n",
        "- [**merge**](https://www.rdocumentation.org/packages/base/versions/3.6.1/topics/merge)\n",
        "- [**apply**](https://www.rdocumentation.org/packages/base/versions/3.6.1/topics/apply)\n",
        "- [**Extremes**](https://www.rdocumentation.org/packages/base/versions/3.6.1/topics/Extremes)\n",
        "- [**sum**](https://www.rdocumentation.org/packages/base/versions/3.6.1/topics/sum)"
      ]
    },
    {
      "cell_type": "markdown",
      "metadata": {
        "id": "3H67Y7P7psmV"
      },
      "source": [
        "### Dados do problema"
      ]
    },
    {
      "cell_type": "code",
      "execution_count": null,
      "metadata": {
        "id": "JBh5-HrnpsmV"
      },
      "outputs": [],
      "source": [
        "fumo <- data.frame(\n",
        "    Antes = c(39, 25, 24, 50, 13, 52, 21, 29, 10, 22, 50, 15, 36, 39, 52, 48, 24, 15, 40, 41, 17, 12, 21, 49, 14, 55, 46, 22, 28, 23, 37, 17, 31, 49, 49),\n",
        "    Depois = c(16, 8, 12, 0, 14, 16, 13, 12, 19, 17, 17, 2, 15, 10, 20, 13, 0, 4, 16, 18, 16, 16, 9, 9, 18, 4, 17, 0, 11, 14, 0, 19, 2, 9, 6)\n",
        ")\n",
        "significancia <- 0.05\n",
        "confianca <- 1 - significancia\n",
        "n <- 35"
      ]
    },
    {
      "cell_type": "code",
      "execution_count": null,
      "metadata": {
        "id": "AfEGWBp1psmW",
        "scrolled": true,
        "colab": {
          "base_uri": "https://localhost:8080/",
          "height": 286
        },
        "outputId": "62edf33d-eceb-4584-f24e-30562c20be90"
      },
      "outputs": [
        {
          "output_type": "display_data",
          "data": {
            "text/html": [
              "<table class=\"dataframe\">\n",
              "<caption>A data.frame: 6 × 2</caption>\n",
              "<thead>\n",
              "\t<tr><th></th><th scope=col>Antes</th><th scope=col>Depois</th></tr>\n",
              "\t<tr><th></th><th scope=col>&lt;dbl&gt;</th><th scope=col>&lt;dbl&gt;</th></tr>\n",
              "</thead>\n",
              "<tbody>\n",
              "\t<tr><th scope=row>1</th><td>39</td><td>16</td></tr>\n",
              "\t<tr><th scope=row>2</th><td>25</td><td> 8</td></tr>\n",
              "\t<tr><th scope=row>3</th><td>24</td><td>12</td></tr>\n",
              "\t<tr><th scope=row>4</th><td>50</td><td> 0</td></tr>\n",
              "\t<tr><th scope=row>5</th><td>13</td><td>14</td></tr>\n",
              "\t<tr><th scope=row>6</th><td>52</td><td>16</td></tr>\n",
              "</tbody>\n",
              "</table>\n"
            ],
            "text/markdown": "\nA data.frame: 6 × 2\n\n| <!--/--> | Antes &lt;dbl&gt; | Depois &lt;dbl&gt; |\n|---|---|---|\n| 1 | 39 | 16 |\n| 2 | 25 |  8 |\n| 3 | 24 | 12 |\n| 4 | 50 |  0 |\n| 5 | 13 | 14 |\n| 6 | 52 | 16 |\n\n",
            "text/latex": "A data.frame: 6 × 2\n\\begin{tabular}{r|ll}\n  & Antes & Depois\\\\\n  & <dbl> & <dbl>\\\\\n\\hline\n\t1 & 39 & 16\\\\\n\t2 & 25 &  8\\\\\n\t3 & 24 & 12\\\\\n\t4 & 50 &  0\\\\\n\t5 & 13 & 14\\\\\n\t6 & 52 & 16\\\\\n\\end{tabular}\n",
            "text/plain": [
              "  Antes Depois\n",
              "1 39    16    \n",
              "2 25     8    \n",
              "3 24    12    \n",
              "4 50     0    \n",
              "5 13    14    \n",
              "6 52    16    "
            ]
          },
          "metadata": {}
        }
      ],
      "source": [
        "head(fumo)"
      ]
    },
    {
      "cell_type": "code",
      "execution_count": null,
      "metadata": {
        "id": "oNQvLLR8psmX",
        "colab": {
          "base_uri": "https://localhost:8080/",
          "height": 34
        },
        "outputId": "4f1becc4-dca7-4a21-c20b-2bd5265f2ccd"
      },
      "outputs": [
        {
          "output_type": "display_data",
          "data": {
            "text/html": [
              "31.8571428571429"
            ],
            "text/markdown": "31.8571428571429",
            "text/latex": "31.8571428571429",
            "text/plain": [
              "[1] 31.85714"
            ]
          },
          "metadata": {}
        }
      ],
      "source": [
        "media_antes <- mean(fumo$Antes)\n",
        "media_antes"
      ]
    },
    {
      "cell_type": "code",
      "execution_count": null,
      "metadata": {
        "id": "wOgIYP0upsmZ",
        "colab": {
          "base_uri": "https://localhost:8080/",
          "height": 34
        },
        "outputId": "4552d994-6998-455f-ce60-faae1d0e6f35"
      },
      "outputs": [
        {
          "output_type": "display_data",
          "data": {
            "text/html": [
              "11.2"
            ],
            "text/markdown": "11.2",
            "text/latex": "11.2",
            "text/plain": [
              "[1] 11.2"
            ]
          },
          "metadata": {}
        }
      ],
      "source": [
        "media_depois <- mean(fumo$Depois)\n",
        "media_depois"
      ]
    },
    {
      "cell_type": "markdown",
      "metadata": {
        "id": "gvnOmelVpsma"
      },
      "source": [
        "### **Passo 1** - formulação das hipóteses $H_0$ e $H_1$\n",
        "\n",
        "#### <font color='red'>Lembre-se, a hipótese nula sempre contém a alegação de igualdade</font>"
      ]
    },
    {
      "cell_type": "markdown",
      "metadata": {
        "id": "1AXOiD_epsma"
      },
      "source": [
        "### $H_0: \\mu_{antes} = \\mu_{depois}$\n",
        "\n",
        "### $H_1: \\mu_{antes} > \\mu_{depois}$"
      ]
    },
    {
      "cell_type": "markdown",
      "metadata": {
        "id": "degUD6b2psmb"
      },
      "source": [
        "---"
      ]
    },
    {
      "cell_type": "markdown",
      "metadata": {
        "id": "3jrV_c2Opsmb"
      },
      "source": [
        "### **Passo 2** - escolha da distribuição amostral adequada"
      ]
    },
    {
      "cell_type": "markdown",
      "metadata": {
        "id": "vF-9xAPzpsmc"
      },
      "source": [
        "### O tamanho da amostra é maior que 30?\n",
        "#### Resp.: Sim"
      ]
    },
    {
      "cell_type": "markdown",
      "metadata": {
        "id": "tvxXutrGpsmc"
      },
      "source": [
        "---"
      ]
    },
    {
      "cell_type": "markdown",
      "metadata": {
        "id": "aihd76Wkpsmc"
      },
      "source": [
        "### **Passo 3** - fixação da significância do teste ($\\alpha$)"
      ]
    },
    {
      "cell_type": "markdown",
      "metadata": {
        "id": "XF6AA8qLpsmc"
      },
      "source": [
        "### Obtendo $z_{\\alpha/2}$"
      ]
    },
    {
      "cell_type": "code",
      "execution_count": null,
      "metadata": {
        "id": "UsRrnCnXpsmd",
        "colab": {
          "base_uri": "https://localhost:8080/",
          "height": 34
        },
        "outputId": "d21d43a7-1e32-46d1-fb41-df520f6dae80"
      },
      "outputs": [
        {
          "output_type": "display_data",
          "data": {
            "text/html": [
              "0.975"
            ],
            "text/markdown": "0.975",
            "text/latex": "0.975",
            "text/plain": [
              "[1] 0.975"
            ]
          },
          "metadata": {}
        }
      ],
      "source": [
        "probabilidade <- (0.5 + (confianca / 2))\n",
        "probabilidade"
      ]
    },
    {
      "cell_type": "code",
      "execution_count": null,
      "metadata": {
        "id": "_sm3yiQ23u6p",
        "colab": {
          "base_uri": "https://localhost:8080/",
          "height": 34
        },
        "outputId": "281ed9a0-a0f7-4baa-ec7c-4d17b2f5a2be"
      },
      "outputs": [
        {
          "output_type": "display_data",
          "data": {
            "text/html": [
              "1.95996398454005"
            ],
            "text/markdown": "1.95996398454005",
            "text/latex": "1.95996398454005",
            "text/plain": [
              "[1] 1.959964"
            ]
          },
          "metadata": {}
        }
      ],
      "source": [
        "z_alpha_2 <- qnorm(probabilidade)\n",
        "z_alpha_2"
      ]
    },
    {
      "cell_type": "markdown",
      "metadata": {
        "id": "S2dqQHQJpsmf"
      },
      "source": [
        "![Região de Aceitação](https://caelum-online-public.s3.amazonaws.com/1229-estatistica-parte3/01/img006.png)"
      ]
    },
    {
      "cell_type": "markdown",
      "metadata": {
        "id": "z0iEZ685psmf"
      },
      "source": [
        "---"
      ]
    },
    {
      "cell_type": "markdown",
      "metadata": {
        "id": "zpYLf-dZpsmg"
      },
      "source": [
        "### **Passo 4** - cálculo da estatística-teste e verificação desse valor com as áreas de aceitação e rejeição do teste\n",
        "\n",
        "# $$Z = \\frac{T - \\mu_T}{\\sigma_T}$$\n",
        "\n",
        "Onde\n",
        "\n",
        "## $T$ = menor das somas de postos de mesmo sinal\n",
        "\n",
        "# $$\\mu_T = \\frac{n(n+1)}{4}$$\n",
        "# $$\\sigma_T = \\sqrt{\\frac{n(n + 1)(2n + 1)}{24}}$$"
      ]
    },
    {
      "cell_type": "markdown",
      "metadata": {
        "id": "ZTY9IuIIpsmg"
      },
      "source": [
        "### Construindo a tabela com os postos"
      ]
    },
    {
      "cell_type": "code",
      "execution_count": null,
      "metadata": {
        "id": "o0fp6m3iqIlu",
        "scrolled": true,
        "colab": {
          "base_uri": "https://localhost:8080/",
          "height": 1000
        },
        "outputId": "58e4c1e5-c323-4ece-f736-a7782a22d254"
      },
      "outputs": [
        {
          "output_type": "display_data",
          "data": {
            "text/html": [
              "<table class=\"dataframe\">\n",
              "<caption>A data.frame: 35 × 2</caption>\n",
              "<thead>\n",
              "\t<tr><th scope=col>Antes</th><th scope=col>Depois</th></tr>\n",
              "\t<tr><th scope=col>&lt;dbl&gt;</th><th scope=col>&lt;dbl&gt;</th></tr>\n",
              "</thead>\n",
              "<tbody>\n",
              "\t<tr><td>39</td><td>16</td></tr>\n",
              "\t<tr><td>25</td><td> 8</td></tr>\n",
              "\t<tr><td>24</td><td>12</td></tr>\n",
              "\t<tr><td>50</td><td> 0</td></tr>\n",
              "\t<tr><td>13</td><td>14</td></tr>\n",
              "\t<tr><td>52</td><td>16</td></tr>\n",
              "\t<tr><td>21</td><td>13</td></tr>\n",
              "\t<tr><td>29</td><td>12</td></tr>\n",
              "\t<tr><td>10</td><td>19</td></tr>\n",
              "\t<tr><td>22</td><td>17</td></tr>\n",
              "\t<tr><td>50</td><td>17</td></tr>\n",
              "\t<tr><td>15</td><td> 2</td></tr>\n",
              "\t<tr><td>36</td><td>15</td></tr>\n",
              "\t<tr><td>39</td><td>10</td></tr>\n",
              "\t<tr><td>52</td><td>20</td></tr>\n",
              "\t<tr><td>48</td><td>13</td></tr>\n",
              "\t<tr><td>24</td><td> 0</td></tr>\n",
              "\t<tr><td>15</td><td> 4</td></tr>\n",
              "\t<tr><td>40</td><td>16</td></tr>\n",
              "\t<tr><td>41</td><td>18</td></tr>\n",
              "\t<tr><td>17</td><td>16</td></tr>\n",
              "\t<tr><td>12</td><td>16</td></tr>\n",
              "\t<tr><td>21</td><td> 9</td></tr>\n",
              "\t<tr><td>49</td><td> 9</td></tr>\n",
              "\t<tr><td>14</td><td>18</td></tr>\n",
              "\t<tr><td>55</td><td> 4</td></tr>\n",
              "\t<tr><td>46</td><td>17</td></tr>\n",
              "\t<tr><td>22</td><td> 0</td></tr>\n",
              "\t<tr><td>28</td><td>11</td></tr>\n",
              "\t<tr><td>23</td><td>14</td></tr>\n",
              "\t<tr><td>37</td><td> 0</td></tr>\n",
              "\t<tr><td>17</td><td>19</td></tr>\n",
              "\t<tr><td>31</td><td> 2</td></tr>\n",
              "\t<tr><td>49</td><td> 9</td></tr>\n",
              "\t<tr><td>49</td><td> 6</td></tr>\n",
              "</tbody>\n",
              "</table>\n"
            ],
            "text/markdown": "\nA data.frame: 35 × 2\n\n| Antes &lt;dbl&gt; | Depois &lt;dbl&gt; |\n|---|---|\n| 39 | 16 |\n| 25 |  8 |\n| 24 | 12 |\n| 50 |  0 |\n| 13 | 14 |\n| 52 | 16 |\n| 21 | 13 |\n| 29 | 12 |\n| 10 | 19 |\n| 22 | 17 |\n| 50 | 17 |\n| 15 |  2 |\n| 36 | 15 |\n| 39 | 10 |\n| 52 | 20 |\n| 48 | 13 |\n| 24 |  0 |\n| 15 |  4 |\n| 40 | 16 |\n| 41 | 18 |\n| 17 | 16 |\n| 12 | 16 |\n| 21 |  9 |\n| 49 |  9 |\n| 14 | 18 |\n| 55 |  4 |\n| 46 | 17 |\n| 22 |  0 |\n| 28 | 11 |\n| 23 | 14 |\n| 37 |  0 |\n| 17 | 19 |\n| 31 |  2 |\n| 49 |  9 |\n| 49 |  6 |\n\n",
            "text/latex": "A data.frame: 35 × 2\n\\begin{tabular}{ll}\n Antes & Depois\\\\\n <dbl> & <dbl>\\\\\n\\hline\n\t 39 & 16\\\\\n\t 25 &  8\\\\\n\t 24 & 12\\\\\n\t 50 &  0\\\\\n\t 13 & 14\\\\\n\t 52 & 16\\\\\n\t 21 & 13\\\\\n\t 29 & 12\\\\\n\t 10 & 19\\\\\n\t 22 & 17\\\\\n\t 50 & 17\\\\\n\t 15 &  2\\\\\n\t 36 & 15\\\\\n\t 39 & 10\\\\\n\t 52 & 20\\\\\n\t 48 & 13\\\\\n\t 24 &  0\\\\\n\t 15 &  4\\\\\n\t 40 & 16\\\\\n\t 41 & 18\\\\\n\t 17 & 16\\\\\n\t 12 & 16\\\\\n\t 21 &  9\\\\\n\t 49 &  9\\\\\n\t 14 & 18\\\\\n\t 55 &  4\\\\\n\t 46 & 17\\\\\n\t 22 &  0\\\\\n\t 28 & 11\\\\\n\t 23 & 14\\\\\n\t 37 &  0\\\\\n\t 17 & 19\\\\\n\t 31 &  2\\\\\n\t 49 &  9\\\\\n\t 49 &  6\\\\\n\\end{tabular}\n",
            "text/plain": [
              "   Antes Depois\n",
              "1  39    16    \n",
              "2  25     8    \n",
              "3  24    12    \n",
              "4  50     0    \n",
              "5  13    14    \n",
              "6  52    16    \n",
              "7  21    13    \n",
              "8  29    12    \n",
              "9  10    19    \n",
              "10 22    17    \n",
              "11 50    17    \n",
              "12 15     2    \n",
              "13 36    15    \n",
              "14 39    10    \n",
              "15 52    20    \n",
              "16 48    13    \n",
              "17 24     0    \n",
              "18 15     4    \n",
              "19 40    16    \n",
              "20 41    18    \n",
              "21 17    16    \n",
              "22 12    16    \n",
              "23 21     9    \n",
              "24 49     9    \n",
              "25 14    18    \n",
              "26 55     4    \n",
              "27 46    17    \n",
              "28 22     0    \n",
              "29 28    11    \n",
              "30 23    14    \n",
              "31 37     0    \n",
              "32 17    19    \n",
              "33 31     2    \n",
              "34 49     9    \n",
              "35 49     6    "
            ]
          },
          "metadata": {}
        }
      ],
      "source": [
        "fumo"
      ]
    },
    {
      "cell_type": "code",
      "execution_count": null,
      "metadata": {
        "id": "T4KmZijZotWj",
        "scrolled": true,
        "colab": {
          "base_uri": "https://localhost:8080/",
          "height": 1000
        },
        "outputId": "41be164c-0683-4c61-f4a5-db0a8ca1750a"
      },
      "outputs": [
        {
          "output_type": "display_data",
          "data": {
            "text/html": [
              "<table class=\"dataframe\">\n",
              "<caption>A data.frame: 35 × 3</caption>\n",
              "<thead>\n",
              "\t<tr><th scope=col>Antes</th><th scope=col>Depois</th><th scope=col>Dif</th></tr>\n",
              "\t<tr><th scope=col>&lt;dbl&gt;</th><th scope=col>&lt;dbl&gt;</th><th scope=col>&lt;dbl&gt;</th></tr>\n",
              "</thead>\n",
              "<tbody>\n",
              "\t<tr><td>39</td><td>16</td><td>-23</td></tr>\n",
              "\t<tr><td>25</td><td> 8</td><td>-17</td></tr>\n",
              "\t<tr><td>24</td><td>12</td><td>-12</td></tr>\n",
              "\t<tr><td>50</td><td> 0</td><td>-50</td></tr>\n",
              "\t<tr><td>13</td><td>14</td><td>  1</td></tr>\n",
              "\t<tr><td>52</td><td>16</td><td>-36</td></tr>\n",
              "\t<tr><td>21</td><td>13</td><td> -8</td></tr>\n",
              "\t<tr><td>29</td><td>12</td><td>-17</td></tr>\n",
              "\t<tr><td>10</td><td>19</td><td>  9</td></tr>\n",
              "\t<tr><td>22</td><td>17</td><td> -5</td></tr>\n",
              "\t<tr><td>50</td><td>17</td><td>-33</td></tr>\n",
              "\t<tr><td>15</td><td> 2</td><td>-13</td></tr>\n",
              "\t<tr><td>36</td><td>15</td><td>-21</td></tr>\n",
              "\t<tr><td>39</td><td>10</td><td>-29</td></tr>\n",
              "\t<tr><td>52</td><td>20</td><td>-32</td></tr>\n",
              "\t<tr><td>48</td><td>13</td><td>-35</td></tr>\n",
              "\t<tr><td>24</td><td> 0</td><td>-24</td></tr>\n",
              "\t<tr><td>15</td><td> 4</td><td>-11</td></tr>\n",
              "\t<tr><td>40</td><td>16</td><td>-24</td></tr>\n",
              "\t<tr><td>41</td><td>18</td><td>-23</td></tr>\n",
              "\t<tr><td>17</td><td>16</td><td> -1</td></tr>\n",
              "\t<tr><td>12</td><td>16</td><td>  4</td></tr>\n",
              "\t<tr><td>21</td><td> 9</td><td>-12</td></tr>\n",
              "\t<tr><td>49</td><td> 9</td><td>-40</td></tr>\n",
              "\t<tr><td>14</td><td>18</td><td>  4</td></tr>\n",
              "\t<tr><td>55</td><td> 4</td><td>-51</td></tr>\n",
              "\t<tr><td>46</td><td>17</td><td>-29</td></tr>\n",
              "\t<tr><td>22</td><td> 0</td><td>-22</td></tr>\n",
              "\t<tr><td>28</td><td>11</td><td>-17</td></tr>\n",
              "\t<tr><td>23</td><td>14</td><td> -9</td></tr>\n",
              "\t<tr><td>37</td><td> 0</td><td>-37</td></tr>\n",
              "\t<tr><td>17</td><td>19</td><td>  2</td></tr>\n",
              "\t<tr><td>31</td><td> 2</td><td>-29</td></tr>\n",
              "\t<tr><td>49</td><td> 9</td><td>-40</td></tr>\n",
              "\t<tr><td>49</td><td> 6</td><td>-43</td></tr>\n",
              "</tbody>\n",
              "</table>\n"
            ],
            "text/markdown": "\nA data.frame: 35 × 3\n\n| Antes &lt;dbl&gt; | Depois &lt;dbl&gt; | Dif &lt;dbl&gt; |\n|---|---|---|\n| 39 | 16 | -23 |\n| 25 |  8 | -17 |\n| 24 | 12 | -12 |\n| 50 |  0 | -50 |\n| 13 | 14 |   1 |\n| 52 | 16 | -36 |\n| 21 | 13 |  -8 |\n| 29 | 12 | -17 |\n| 10 | 19 |   9 |\n| 22 | 17 |  -5 |\n| 50 | 17 | -33 |\n| 15 |  2 | -13 |\n| 36 | 15 | -21 |\n| 39 | 10 | -29 |\n| 52 | 20 | -32 |\n| 48 | 13 | -35 |\n| 24 |  0 | -24 |\n| 15 |  4 | -11 |\n| 40 | 16 | -24 |\n| 41 | 18 | -23 |\n| 17 | 16 |  -1 |\n| 12 | 16 |   4 |\n| 21 |  9 | -12 |\n| 49 |  9 | -40 |\n| 14 | 18 |   4 |\n| 55 |  4 | -51 |\n| 46 | 17 | -29 |\n| 22 |  0 | -22 |\n| 28 | 11 | -17 |\n| 23 | 14 |  -9 |\n| 37 |  0 | -37 |\n| 17 | 19 |   2 |\n| 31 |  2 | -29 |\n| 49 |  9 | -40 |\n| 49 |  6 | -43 |\n\n",
            "text/latex": "A data.frame: 35 × 3\n\\begin{tabular}{lll}\n Antes & Depois & Dif\\\\\n <dbl> & <dbl> & <dbl>\\\\\n\\hline\n\t 39 & 16 & -23\\\\\n\t 25 &  8 & -17\\\\\n\t 24 & 12 & -12\\\\\n\t 50 &  0 & -50\\\\\n\t 13 & 14 &   1\\\\\n\t 52 & 16 & -36\\\\\n\t 21 & 13 &  -8\\\\\n\t 29 & 12 & -17\\\\\n\t 10 & 19 &   9\\\\\n\t 22 & 17 &  -5\\\\\n\t 50 & 17 & -33\\\\\n\t 15 &  2 & -13\\\\\n\t 36 & 15 & -21\\\\\n\t 39 & 10 & -29\\\\\n\t 52 & 20 & -32\\\\\n\t 48 & 13 & -35\\\\\n\t 24 &  0 & -24\\\\\n\t 15 &  4 & -11\\\\\n\t 40 & 16 & -24\\\\\n\t 41 & 18 & -23\\\\\n\t 17 & 16 &  -1\\\\\n\t 12 & 16 &   4\\\\\n\t 21 &  9 & -12\\\\\n\t 49 &  9 & -40\\\\\n\t 14 & 18 &   4\\\\\n\t 55 &  4 & -51\\\\\n\t 46 & 17 & -29\\\\\n\t 22 &  0 & -22\\\\\n\t 28 & 11 & -17\\\\\n\t 23 & 14 &  -9\\\\\n\t 37 &  0 & -37\\\\\n\t 17 & 19 &   2\\\\\n\t 31 &  2 & -29\\\\\n\t 49 &  9 & -40\\\\\n\t 49 &  6 & -43\\\\\n\\end{tabular}\n",
            "text/plain": [
              "   Antes Depois Dif\n",
              "1  39    16     -23\n",
              "2  25     8     -17\n",
              "3  24    12     -12\n",
              "4  50     0     -50\n",
              "5  13    14       1\n",
              "6  52    16     -36\n",
              "7  21    13      -8\n",
              "8  29    12     -17\n",
              "9  10    19       9\n",
              "10 22    17      -5\n",
              "11 50    17     -33\n",
              "12 15     2     -13\n",
              "13 36    15     -21\n",
              "14 39    10     -29\n",
              "15 52    20     -32\n",
              "16 48    13     -35\n",
              "17 24     0     -24\n",
              "18 15     4     -11\n",
              "19 40    16     -24\n",
              "20 41    18     -23\n",
              "21 17    16      -1\n",
              "22 12    16       4\n",
              "23 21     9     -12\n",
              "24 49     9     -40\n",
              "25 14    18       4\n",
              "26 55     4     -51\n",
              "27 46    17     -29\n",
              "28 22     0     -22\n",
              "29 28    11     -17\n",
              "30 23    14      -9\n",
              "31 37     0     -37\n",
              "32 17    19       2\n",
              "33 31     2     -29\n",
              "34 49     9     -40\n",
              "35 49     6     -43"
            ]
          },
          "metadata": {}
        }
      ],
      "source": [
        "# Adicionando uma coluna no df com a diferença entre as duas amostras\n",
        "\n",
        "fumo['Dif'] <- fumo$Depois - fumo$Antes\n",
        "fumo"
      ]
    },
    {
      "cell_type": "code",
      "execution_count": null,
      "metadata": {
        "id": "c4fvYVrdotTL",
        "scrolled": true,
        "colab": {
          "base_uri": "https://localhost:8080/",
          "height": 1000
        },
        "outputId": "bd373558-5240-4a07-ef8c-711d9e5bf751"
      },
      "outputs": [
        {
          "output_type": "display_data",
          "data": {
            "text/html": [
              "<table class=\"dataframe\">\n",
              "<caption>A data.frame: 35 × 4</caption>\n",
              "<thead>\n",
              "\t<tr><th scope=col>Antes</th><th scope=col>Depois</th><th scope=col>Dif</th><th scope=col>|Dif|</th></tr>\n",
              "\t<tr><th scope=col>&lt;dbl&gt;</th><th scope=col>&lt;dbl&gt;</th><th scope=col>&lt;dbl&gt;</th><th scope=col>&lt;dbl&gt;</th></tr>\n",
              "</thead>\n",
              "<tbody>\n",
              "\t<tr><td>39</td><td>16</td><td>-23</td><td>23</td></tr>\n",
              "\t<tr><td>25</td><td> 8</td><td>-17</td><td>17</td></tr>\n",
              "\t<tr><td>24</td><td>12</td><td>-12</td><td>12</td></tr>\n",
              "\t<tr><td>50</td><td> 0</td><td>-50</td><td>50</td></tr>\n",
              "\t<tr><td>13</td><td>14</td><td>  1</td><td> 1</td></tr>\n",
              "\t<tr><td>52</td><td>16</td><td>-36</td><td>36</td></tr>\n",
              "\t<tr><td>21</td><td>13</td><td> -8</td><td> 8</td></tr>\n",
              "\t<tr><td>29</td><td>12</td><td>-17</td><td>17</td></tr>\n",
              "\t<tr><td>10</td><td>19</td><td>  9</td><td> 9</td></tr>\n",
              "\t<tr><td>22</td><td>17</td><td> -5</td><td> 5</td></tr>\n",
              "\t<tr><td>50</td><td>17</td><td>-33</td><td>33</td></tr>\n",
              "\t<tr><td>15</td><td> 2</td><td>-13</td><td>13</td></tr>\n",
              "\t<tr><td>36</td><td>15</td><td>-21</td><td>21</td></tr>\n",
              "\t<tr><td>39</td><td>10</td><td>-29</td><td>29</td></tr>\n",
              "\t<tr><td>52</td><td>20</td><td>-32</td><td>32</td></tr>\n",
              "\t<tr><td>48</td><td>13</td><td>-35</td><td>35</td></tr>\n",
              "\t<tr><td>24</td><td> 0</td><td>-24</td><td>24</td></tr>\n",
              "\t<tr><td>15</td><td> 4</td><td>-11</td><td>11</td></tr>\n",
              "\t<tr><td>40</td><td>16</td><td>-24</td><td>24</td></tr>\n",
              "\t<tr><td>41</td><td>18</td><td>-23</td><td>23</td></tr>\n",
              "\t<tr><td>17</td><td>16</td><td> -1</td><td> 1</td></tr>\n",
              "\t<tr><td>12</td><td>16</td><td>  4</td><td> 4</td></tr>\n",
              "\t<tr><td>21</td><td> 9</td><td>-12</td><td>12</td></tr>\n",
              "\t<tr><td>49</td><td> 9</td><td>-40</td><td>40</td></tr>\n",
              "\t<tr><td>14</td><td>18</td><td>  4</td><td> 4</td></tr>\n",
              "\t<tr><td>55</td><td> 4</td><td>-51</td><td>51</td></tr>\n",
              "\t<tr><td>46</td><td>17</td><td>-29</td><td>29</td></tr>\n",
              "\t<tr><td>22</td><td> 0</td><td>-22</td><td>22</td></tr>\n",
              "\t<tr><td>28</td><td>11</td><td>-17</td><td>17</td></tr>\n",
              "\t<tr><td>23</td><td>14</td><td> -9</td><td> 9</td></tr>\n",
              "\t<tr><td>37</td><td> 0</td><td>-37</td><td>37</td></tr>\n",
              "\t<tr><td>17</td><td>19</td><td>  2</td><td> 2</td></tr>\n",
              "\t<tr><td>31</td><td> 2</td><td>-29</td><td>29</td></tr>\n",
              "\t<tr><td>49</td><td> 9</td><td>-40</td><td>40</td></tr>\n",
              "\t<tr><td>49</td><td> 6</td><td>-43</td><td>43</td></tr>\n",
              "</tbody>\n",
              "</table>\n"
            ],
            "text/markdown": "\nA data.frame: 35 × 4\n\n| Antes &lt;dbl&gt; | Depois &lt;dbl&gt; | Dif &lt;dbl&gt; | |Dif| &lt;dbl&gt; |\n|---|---|---|---|\n| 39 | 16 | -23 | 23 |\n| 25 |  8 | -17 | 17 |\n| 24 | 12 | -12 | 12 |\n| 50 |  0 | -50 | 50 |\n| 13 | 14 |   1 |  1 |\n| 52 | 16 | -36 | 36 |\n| 21 | 13 |  -8 |  8 |\n| 29 | 12 | -17 | 17 |\n| 10 | 19 |   9 |  9 |\n| 22 | 17 |  -5 |  5 |\n| 50 | 17 | -33 | 33 |\n| 15 |  2 | -13 | 13 |\n| 36 | 15 | -21 | 21 |\n| 39 | 10 | -29 | 29 |\n| 52 | 20 | -32 | 32 |\n| 48 | 13 | -35 | 35 |\n| 24 |  0 | -24 | 24 |\n| 15 |  4 | -11 | 11 |\n| 40 | 16 | -24 | 24 |\n| 41 | 18 | -23 | 23 |\n| 17 | 16 |  -1 |  1 |\n| 12 | 16 |   4 |  4 |\n| 21 |  9 | -12 | 12 |\n| 49 |  9 | -40 | 40 |\n| 14 | 18 |   4 |  4 |\n| 55 |  4 | -51 | 51 |\n| 46 | 17 | -29 | 29 |\n| 22 |  0 | -22 | 22 |\n| 28 | 11 | -17 | 17 |\n| 23 | 14 |  -9 |  9 |\n| 37 |  0 | -37 | 37 |\n| 17 | 19 |   2 |  2 |\n| 31 |  2 | -29 | 29 |\n| 49 |  9 | -40 | 40 |\n| 49 |  6 | -43 | 43 |\n\n",
            "text/latex": "A data.frame: 35 × 4\n\\begin{tabular}{llll}\n Antes & Depois & Dif & \\textbar{}Dif\\textbar{}\\\\\n <dbl> & <dbl> & <dbl> & <dbl>\\\\\n\\hline\n\t 39 & 16 & -23 & 23\\\\\n\t 25 &  8 & -17 & 17\\\\\n\t 24 & 12 & -12 & 12\\\\\n\t 50 &  0 & -50 & 50\\\\\n\t 13 & 14 &   1 &  1\\\\\n\t 52 & 16 & -36 & 36\\\\\n\t 21 & 13 &  -8 &  8\\\\\n\t 29 & 12 & -17 & 17\\\\\n\t 10 & 19 &   9 &  9\\\\\n\t 22 & 17 &  -5 &  5\\\\\n\t 50 & 17 & -33 & 33\\\\\n\t 15 &  2 & -13 & 13\\\\\n\t 36 & 15 & -21 & 21\\\\\n\t 39 & 10 & -29 & 29\\\\\n\t 52 & 20 & -32 & 32\\\\\n\t 48 & 13 & -35 & 35\\\\\n\t 24 &  0 & -24 & 24\\\\\n\t 15 &  4 & -11 & 11\\\\\n\t 40 & 16 & -24 & 24\\\\\n\t 41 & 18 & -23 & 23\\\\\n\t 17 & 16 &  -1 &  1\\\\\n\t 12 & 16 &   4 &  4\\\\\n\t 21 &  9 & -12 & 12\\\\\n\t 49 &  9 & -40 & 40\\\\\n\t 14 & 18 &   4 &  4\\\\\n\t 55 &  4 & -51 & 51\\\\\n\t 46 & 17 & -29 & 29\\\\\n\t 22 &  0 & -22 & 22\\\\\n\t 28 & 11 & -17 & 17\\\\\n\t 23 & 14 &  -9 &  9\\\\\n\t 37 &  0 & -37 & 37\\\\\n\t 17 & 19 &   2 &  2\\\\\n\t 31 &  2 & -29 & 29\\\\\n\t 49 &  9 & -40 & 40\\\\\n\t 49 &  6 & -43 & 43\\\\\n\\end{tabular}\n",
            "text/plain": [
              "   Antes Depois Dif |Dif|\n",
              "1  39    16     -23 23   \n",
              "2  25     8     -17 17   \n",
              "3  24    12     -12 12   \n",
              "4  50     0     -50 50   \n",
              "5  13    14       1  1   \n",
              "6  52    16     -36 36   \n",
              "7  21    13      -8  8   \n",
              "8  29    12     -17 17   \n",
              "9  10    19       9  9   \n",
              "10 22    17      -5  5   \n",
              "11 50    17     -33 33   \n",
              "12 15     2     -13 13   \n",
              "13 36    15     -21 21   \n",
              "14 39    10     -29 29   \n",
              "15 52    20     -32 32   \n",
              "16 48    13     -35 35   \n",
              "17 24     0     -24 24   \n",
              "18 15     4     -11 11   \n",
              "19 40    16     -24 24   \n",
              "20 41    18     -23 23   \n",
              "21 17    16      -1  1   \n",
              "22 12    16       4  4   \n",
              "23 21     9     -12 12   \n",
              "24 49     9     -40 40   \n",
              "25 14    18       4  4   \n",
              "26 55     4     -51 51   \n",
              "27 46    17     -29 29   \n",
              "28 22     0     -22 22   \n",
              "29 28    11     -17 17   \n",
              "30 23    14      -9  9   \n",
              "31 37     0     -37 37   \n",
              "32 17    19       2  2   \n",
              "33 31     2     -29 29   \n",
              "34 49     9     -40 40   \n",
              "35 49     6     -43 43   "
            ]
          },
          "metadata": {}
        }
      ],
      "source": [
        "# Criando uma nova coluna com o abs da coluna Dif\n",
        "\n",
        "fumo['|Dif|'] = abs(fumo$Dif)\n",
        "fumo"
      ]
    },
    {
      "cell_type": "code",
      "execution_count": null,
      "metadata": {
        "scrolled": true,
        "id": "L5NzRMVF3u6q",
        "colab": {
          "base_uri": "https://localhost:8080/",
          "height": 1000
        },
        "outputId": "d4548ee8-f713-4041-fe2f-3e4279d75524"
      },
      "outputs": [
        {
          "output_type": "display_data",
          "data": {
            "text/html": [
              "<table class=\"dataframe\">\n",
              "<caption>A data.frame: 35 × 4</caption>\n",
              "<thead>\n",
              "\t<tr><th></th><th scope=col>Antes</th><th scope=col>Depois</th><th scope=col>Dif</th><th scope=col>|Dif|</th></tr>\n",
              "\t<tr><th></th><th scope=col>&lt;dbl&gt;</th><th scope=col>&lt;dbl&gt;</th><th scope=col>&lt;dbl&gt;</th><th scope=col>&lt;dbl&gt;</th></tr>\n",
              "</thead>\n",
              "<tbody>\n",
              "\t<tr><th scope=row>5</th><td>13</td><td>14</td><td>  1</td><td> 1</td></tr>\n",
              "\t<tr><th scope=row>21</th><td>17</td><td>16</td><td> -1</td><td> 1</td></tr>\n",
              "\t<tr><th scope=row>32</th><td>17</td><td>19</td><td>  2</td><td> 2</td></tr>\n",
              "\t<tr><th scope=row>22</th><td>12</td><td>16</td><td>  4</td><td> 4</td></tr>\n",
              "\t<tr><th scope=row>25</th><td>14</td><td>18</td><td>  4</td><td> 4</td></tr>\n",
              "\t<tr><th scope=row>10</th><td>22</td><td>17</td><td> -5</td><td> 5</td></tr>\n",
              "\t<tr><th scope=row>7</th><td>21</td><td>13</td><td> -8</td><td> 8</td></tr>\n",
              "\t<tr><th scope=row>9</th><td>10</td><td>19</td><td>  9</td><td> 9</td></tr>\n",
              "\t<tr><th scope=row>30</th><td>23</td><td>14</td><td> -9</td><td> 9</td></tr>\n",
              "\t<tr><th scope=row>18</th><td>15</td><td> 4</td><td>-11</td><td>11</td></tr>\n",
              "\t<tr><th scope=row>3</th><td>24</td><td>12</td><td>-12</td><td>12</td></tr>\n",
              "\t<tr><th scope=row>23</th><td>21</td><td> 9</td><td>-12</td><td>12</td></tr>\n",
              "\t<tr><th scope=row>12</th><td>15</td><td> 2</td><td>-13</td><td>13</td></tr>\n",
              "\t<tr><th scope=row>2</th><td>25</td><td> 8</td><td>-17</td><td>17</td></tr>\n",
              "\t<tr><th scope=row>8</th><td>29</td><td>12</td><td>-17</td><td>17</td></tr>\n",
              "\t<tr><th scope=row>29</th><td>28</td><td>11</td><td>-17</td><td>17</td></tr>\n",
              "\t<tr><th scope=row>13</th><td>36</td><td>15</td><td>-21</td><td>21</td></tr>\n",
              "\t<tr><th scope=row>28</th><td>22</td><td> 0</td><td>-22</td><td>22</td></tr>\n",
              "\t<tr><th scope=row>1</th><td>39</td><td>16</td><td>-23</td><td>23</td></tr>\n",
              "\t<tr><th scope=row>20</th><td>41</td><td>18</td><td>-23</td><td>23</td></tr>\n",
              "\t<tr><th scope=row>17</th><td>24</td><td> 0</td><td>-24</td><td>24</td></tr>\n",
              "\t<tr><th scope=row>19</th><td>40</td><td>16</td><td>-24</td><td>24</td></tr>\n",
              "\t<tr><th scope=row>14</th><td>39</td><td>10</td><td>-29</td><td>29</td></tr>\n",
              "\t<tr><th scope=row>27</th><td>46</td><td>17</td><td>-29</td><td>29</td></tr>\n",
              "\t<tr><th scope=row>33</th><td>31</td><td> 2</td><td>-29</td><td>29</td></tr>\n",
              "\t<tr><th scope=row>15</th><td>52</td><td>20</td><td>-32</td><td>32</td></tr>\n",
              "\t<tr><th scope=row>11</th><td>50</td><td>17</td><td>-33</td><td>33</td></tr>\n",
              "\t<tr><th scope=row>16</th><td>48</td><td>13</td><td>-35</td><td>35</td></tr>\n",
              "\t<tr><th scope=row>6</th><td>52</td><td>16</td><td>-36</td><td>36</td></tr>\n",
              "\t<tr><th scope=row>31</th><td>37</td><td> 0</td><td>-37</td><td>37</td></tr>\n",
              "\t<tr><th scope=row>24</th><td>49</td><td> 9</td><td>-40</td><td>40</td></tr>\n",
              "\t<tr><th scope=row>34</th><td>49</td><td> 9</td><td>-40</td><td>40</td></tr>\n",
              "\t<tr><th scope=row>35</th><td>49</td><td> 6</td><td>-43</td><td>43</td></tr>\n",
              "\t<tr><th scope=row>4</th><td>50</td><td> 0</td><td>-50</td><td>50</td></tr>\n",
              "\t<tr><th scope=row>26</th><td>55</td><td> 4</td><td>-51</td><td>51</td></tr>\n",
              "</tbody>\n",
              "</table>\n"
            ],
            "text/markdown": "\nA data.frame: 35 × 4\n\n| <!--/--> | Antes &lt;dbl&gt; | Depois &lt;dbl&gt; | Dif &lt;dbl&gt; | |Dif| &lt;dbl&gt; |\n|---|---|---|---|---|\n| 5 | 13 | 14 |   1 |  1 |\n| 21 | 17 | 16 |  -1 |  1 |\n| 32 | 17 | 19 |   2 |  2 |\n| 22 | 12 | 16 |   4 |  4 |\n| 25 | 14 | 18 |   4 |  4 |\n| 10 | 22 | 17 |  -5 |  5 |\n| 7 | 21 | 13 |  -8 |  8 |\n| 9 | 10 | 19 |   9 |  9 |\n| 30 | 23 | 14 |  -9 |  9 |\n| 18 | 15 |  4 | -11 | 11 |\n| 3 | 24 | 12 | -12 | 12 |\n| 23 | 21 |  9 | -12 | 12 |\n| 12 | 15 |  2 | -13 | 13 |\n| 2 | 25 |  8 | -17 | 17 |\n| 8 | 29 | 12 | -17 | 17 |\n| 29 | 28 | 11 | -17 | 17 |\n| 13 | 36 | 15 | -21 | 21 |\n| 28 | 22 |  0 | -22 | 22 |\n| 1 | 39 | 16 | -23 | 23 |\n| 20 | 41 | 18 | -23 | 23 |\n| 17 | 24 |  0 | -24 | 24 |\n| 19 | 40 | 16 | -24 | 24 |\n| 14 | 39 | 10 | -29 | 29 |\n| 27 | 46 | 17 | -29 | 29 |\n| 33 | 31 |  2 | -29 | 29 |\n| 15 | 52 | 20 | -32 | 32 |\n| 11 | 50 | 17 | -33 | 33 |\n| 16 | 48 | 13 | -35 | 35 |\n| 6 | 52 | 16 | -36 | 36 |\n| 31 | 37 |  0 | -37 | 37 |\n| 24 | 49 |  9 | -40 | 40 |\n| 34 | 49 |  9 | -40 | 40 |\n| 35 | 49 |  6 | -43 | 43 |\n| 4 | 50 |  0 | -50 | 50 |\n| 26 | 55 |  4 | -51 | 51 |\n\n",
            "text/latex": "A data.frame: 35 × 4\n\\begin{tabular}{r|llll}\n  & Antes & Depois & Dif & \\textbar{}Dif\\textbar{}\\\\\n  & <dbl> & <dbl> & <dbl> & <dbl>\\\\\n\\hline\n\t5 & 13 & 14 &   1 &  1\\\\\n\t21 & 17 & 16 &  -1 &  1\\\\\n\t32 & 17 & 19 &   2 &  2\\\\\n\t22 & 12 & 16 &   4 &  4\\\\\n\t25 & 14 & 18 &   4 &  4\\\\\n\t10 & 22 & 17 &  -5 &  5\\\\\n\t7 & 21 & 13 &  -8 &  8\\\\\n\t9 & 10 & 19 &   9 &  9\\\\\n\t30 & 23 & 14 &  -9 &  9\\\\\n\t18 & 15 &  4 & -11 & 11\\\\\n\t3 & 24 & 12 & -12 & 12\\\\\n\t23 & 21 &  9 & -12 & 12\\\\\n\t12 & 15 &  2 & -13 & 13\\\\\n\t2 & 25 &  8 & -17 & 17\\\\\n\t8 & 29 & 12 & -17 & 17\\\\\n\t29 & 28 & 11 & -17 & 17\\\\\n\t13 & 36 & 15 & -21 & 21\\\\\n\t28 & 22 &  0 & -22 & 22\\\\\n\t1 & 39 & 16 & -23 & 23\\\\\n\t20 & 41 & 18 & -23 & 23\\\\\n\t17 & 24 &  0 & -24 & 24\\\\\n\t19 & 40 & 16 & -24 & 24\\\\\n\t14 & 39 & 10 & -29 & 29\\\\\n\t27 & 46 & 17 & -29 & 29\\\\\n\t33 & 31 &  2 & -29 & 29\\\\\n\t15 & 52 & 20 & -32 & 32\\\\\n\t11 & 50 & 17 & -33 & 33\\\\\n\t16 & 48 & 13 & -35 & 35\\\\\n\t6 & 52 & 16 & -36 & 36\\\\\n\t31 & 37 &  0 & -37 & 37\\\\\n\t24 & 49 &  9 & -40 & 40\\\\\n\t34 & 49 &  9 & -40 & 40\\\\\n\t35 & 49 &  6 & -43 & 43\\\\\n\t4 & 50 &  0 & -50 & 50\\\\\n\t26 & 55 &  4 & -51 & 51\\\\\n\\end{tabular}\n",
            "text/plain": [
              "   Antes Depois Dif |Dif|\n",
              "5  13    14       1  1   \n",
              "21 17    16      -1  1   \n",
              "32 17    19       2  2   \n",
              "22 12    16       4  4   \n",
              "25 14    18       4  4   \n",
              "10 22    17      -5  5   \n",
              "7  21    13      -8  8   \n",
              "9  10    19       9  9   \n",
              "30 23    14      -9  9   \n",
              "18 15     4     -11 11   \n",
              "3  24    12     -12 12   \n",
              "23 21     9     -12 12   \n",
              "12 15     2     -13 13   \n",
              "2  25     8     -17 17   \n",
              "8  29    12     -17 17   \n",
              "29 28    11     -17 17   \n",
              "13 36    15     -21 21   \n",
              "28 22     0     -22 22   \n",
              "1  39    16     -23 23   \n",
              "20 41    18     -23 23   \n",
              "17 24     0     -24 24   \n",
              "19 40    16     -24 24   \n",
              "14 39    10     -29 29   \n",
              "27 46    17     -29 29   \n",
              "33 31     2     -29 29   \n",
              "15 52    20     -32 32   \n",
              "11 50    17     -33 33   \n",
              "16 48    13     -35 35   \n",
              "6  52    16     -36 36   \n",
              "31 37     0     -37 37   \n",
              "24 49     9     -40 40   \n",
              "34 49     9     -40 40   \n",
              "35 49     6     -43 43   \n",
              "4  50     0     -50 50   \n",
              "26 55     4     -51 51   "
            ]
          },
          "metadata": {}
        }
      ],
      "source": [
        "# Ordenando o df segundo a coluna |Dif|\n",
        "\n",
        "fumo <- fumo[order(fumo$'|Dif|'),]\n",
        "fumo"
      ]
    },
    {
      "cell_type": "code",
      "execution_count": null,
      "metadata": {
        "id": "K_JKSwLHotMx",
        "scrolled": true,
        "colab": {
          "base_uri": "https://localhost:8080/",
          "height": 1000
        },
        "outputId": "cd0dc6ae-044a-461c-c255-b4d7c9c9415f"
      },
      "outputs": [
        {
          "output_type": "display_data",
          "data": {
            "text/html": [
              "<table class=\"dataframe\">\n",
              "<caption>A data.frame: 35 × 5</caption>\n",
              "<thead>\n",
              "\t<tr><th></th><th scope=col>Antes</th><th scope=col>Depois</th><th scope=col>Dif</th><th scope=col>|Dif|</th><th scope=col>Posto</th></tr>\n",
              "\t<tr><th></th><th scope=col>&lt;dbl&gt;</th><th scope=col>&lt;dbl&gt;</th><th scope=col>&lt;dbl&gt;</th><th scope=col>&lt;dbl&gt;</th><th scope=col>&lt;int&gt;</th></tr>\n",
              "</thead>\n",
              "<tbody>\n",
              "\t<tr><th scope=row>5</th><td>13</td><td>14</td><td>  1</td><td> 1</td><td> 1</td></tr>\n",
              "\t<tr><th scope=row>21</th><td>17</td><td>16</td><td> -1</td><td> 1</td><td> 2</td></tr>\n",
              "\t<tr><th scope=row>32</th><td>17</td><td>19</td><td>  2</td><td> 2</td><td> 3</td></tr>\n",
              "\t<tr><th scope=row>22</th><td>12</td><td>16</td><td>  4</td><td> 4</td><td> 4</td></tr>\n",
              "\t<tr><th scope=row>25</th><td>14</td><td>18</td><td>  4</td><td> 4</td><td> 5</td></tr>\n",
              "\t<tr><th scope=row>10</th><td>22</td><td>17</td><td> -5</td><td> 5</td><td> 6</td></tr>\n",
              "\t<tr><th scope=row>7</th><td>21</td><td>13</td><td> -8</td><td> 8</td><td> 7</td></tr>\n",
              "\t<tr><th scope=row>9</th><td>10</td><td>19</td><td>  9</td><td> 9</td><td> 8</td></tr>\n",
              "\t<tr><th scope=row>30</th><td>23</td><td>14</td><td> -9</td><td> 9</td><td> 9</td></tr>\n",
              "\t<tr><th scope=row>18</th><td>15</td><td> 4</td><td>-11</td><td>11</td><td>10</td></tr>\n",
              "\t<tr><th scope=row>3</th><td>24</td><td>12</td><td>-12</td><td>12</td><td>11</td></tr>\n",
              "\t<tr><th scope=row>23</th><td>21</td><td> 9</td><td>-12</td><td>12</td><td>12</td></tr>\n",
              "\t<tr><th scope=row>12</th><td>15</td><td> 2</td><td>-13</td><td>13</td><td>13</td></tr>\n",
              "\t<tr><th scope=row>2</th><td>25</td><td> 8</td><td>-17</td><td>17</td><td>14</td></tr>\n",
              "\t<tr><th scope=row>8</th><td>29</td><td>12</td><td>-17</td><td>17</td><td>15</td></tr>\n",
              "\t<tr><th scope=row>29</th><td>28</td><td>11</td><td>-17</td><td>17</td><td>16</td></tr>\n",
              "\t<tr><th scope=row>13</th><td>36</td><td>15</td><td>-21</td><td>21</td><td>17</td></tr>\n",
              "\t<tr><th scope=row>28</th><td>22</td><td> 0</td><td>-22</td><td>22</td><td>18</td></tr>\n",
              "\t<tr><th scope=row>1</th><td>39</td><td>16</td><td>-23</td><td>23</td><td>19</td></tr>\n",
              "\t<tr><th scope=row>20</th><td>41</td><td>18</td><td>-23</td><td>23</td><td>20</td></tr>\n",
              "\t<tr><th scope=row>17</th><td>24</td><td> 0</td><td>-24</td><td>24</td><td>21</td></tr>\n",
              "\t<tr><th scope=row>19</th><td>40</td><td>16</td><td>-24</td><td>24</td><td>22</td></tr>\n",
              "\t<tr><th scope=row>14</th><td>39</td><td>10</td><td>-29</td><td>29</td><td>23</td></tr>\n",
              "\t<tr><th scope=row>27</th><td>46</td><td>17</td><td>-29</td><td>29</td><td>24</td></tr>\n",
              "\t<tr><th scope=row>33</th><td>31</td><td> 2</td><td>-29</td><td>29</td><td>25</td></tr>\n",
              "\t<tr><th scope=row>15</th><td>52</td><td>20</td><td>-32</td><td>32</td><td>26</td></tr>\n",
              "\t<tr><th scope=row>11</th><td>50</td><td>17</td><td>-33</td><td>33</td><td>27</td></tr>\n",
              "\t<tr><th scope=row>16</th><td>48</td><td>13</td><td>-35</td><td>35</td><td>28</td></tr>\n",
              "\t<tr><th scope=row>6</th><td>52</td><td>16</td><td>-36</td><td>36</td><td>29</td></tr>\n",
              "\t<tr><th scope=row>31</th><td>37</td><td> 0</td><td>-37</td><td>37</td><td>30</td></tr>\n",
              "\t<tr><th scope=row>24</th><td>49</td><td> 9</td><td>-40</td><td>40</td><td>31</td></tr>\n",
              "\t<tr><th scope=row>34</th><td>49</td><td> 9</td><td>-40</td><td>40</td><td>32</td></tr>\n",
              "\t<tr><th scope=row>35</th><td>49</td><td> 6</td><td>-43</td><td>43</td><td>33</td></tr>\n",
              "\t<tr><th scope=row>4</th><td>50</td><td> 0</td><td>-50</td><td>50</td><td>34</td></tr>\n",
              "\t<tr><th scope=row>26</th><td>55</td><td> 4</td><td>-51</td><td>51</td><td>35</td></tr>\n",
              "</tbody>\n",
              "</table>\n"
            ],
            "text/markdown": "\nA data.frame: 35 × 5\n\n| <!--/--> | Antes &lt;dbl&gt; | Depois &lt;dbl&gt; | Dif &lt;dbl&gt; | |Dif| &lt;dbl&gt; | Posto &lt;int&gt; |\n|---|---|---|---|---|---|\n| 5 | 13 | 14 |   1 |  1 |  1 |\n| 21 | 17 | 16 |  -1 |  1 |  2 |\n| 32 | 17 | 19 |   2 |  2 |  3 |\n| 22 | 12 | 16 |   4 |  4 |  4 |\n| 25 | 14 | 18 |   4 |  4 |  5 |\n| 10 | 22 | 17 |  -5 |  5 |  6 |\n| 7 | 21 | 13 |  -8 |  8 |  7 |\n| 9 | 10 | 19 |   9 |  9 |  8 |\n| 30 | 23 | 14 |  -9 |  9 |  9 |\n| 18 | 15 |  4 | -11 | 11 | 10 |\n| 3 | 24 | 12 | -12 | 12 | 11 |\n| 23 | 21 |  9 | -12 | 12 | 12 |\n| 12 | 15 |  2 | -13 | 13 | 13 |\n| 2 | 25 |  8 | -17 | 17 | 14 |\n| 8 | 29 | 12 | -17 | 17 | 15 |\n| 29 | 28 | 11 | -17 | 17 | 16 |\n| 13 | 36 | 15 | -21 | 21 | 17 |\n| 28 | 22 |  0 | -22 | 22 | 18 |\n| 1 | 39 | 16 | -23 | 23 | 19 |\n| 20 | 41 | 18 | -23 | 23 | 20 |\n| 17 | 24 |  0 | -24 | 24 | 21 |\n| 19 | 40 | 16 | -24 | 24 | 22 |\n| 14 | 39 | 10 | -29 | 29 | 23 |\n| 27 | 46 | 17 | -29 | 29 | 24 |\n| 33 | 31 |  2 | -29 | 29 | 25 |\n| 15 | 52 | 20 | -32 | 32 | 26 |\n| 11 | 50 | 17 | -33 | 33 | 27 |\n| 16 | 48 | 13 | -35 | 35 | 28 |\n| 6 | 52 | 16 | -36 | 36 | 29 |\n| 31 | 37 |  0 | -37 | 37 | 30 |\n| 24 | 49 |  9 | -40 | 40 | 31 |\n| 34 | 49 |  9 | -40 | 40 | 32 |\n| 35 | 49 |  6 | -43 | 43 | 33 |\n| 4 | 50 |  0 | -50 | 50 | 34 |\n| 26 | 55 |  4 | -51 | 51 | 35 |\n\n",
            "text/latex": "A data.frame: 35 × 5\n\\begin{tabular}{r|lllll}\n  & Antes & Depois & Dif & \\textbar{}Dif\\textbar{} & Posto\\\\\n  & <dbl> & <dbl> & <dbl> & <dbl> & <int>\\\\\n\\hline\n\t5 & 13 & 14 &   1 &  1 &  1\\\\\n\t21 & 17 & 16 &  -1 &  1 &  2\\\\\n\t32 & 17 & 19 &   2 &  2 &  3\\\\\n\t22 & 12 & 16 &   4 &  4 &  4\\\\\n\t25 & 14 & 18 &   4 &  4 &  5\\\\\n\t10 & 22 & 17 &  -5 &  5 &  6\\\\\n\t7 & 21 & 13 &  -8 &  8 &  7\\\\\n\t9 & 10 & 19 &   9 &  9 &  8\\\\\n\t30 & 23 & 14 &  -9 &  9 &  9\\\\\n\t18 & 15 &  4 & -11 & 11 & 10\\\\\n\t3 & 24 & 12 & -12 & 12 & 11\\\\\n\t23 & 21 &  9 & -12 & 12 & 12\\\\\n\t12 & 15 &  2 & -13 & 13 & 13\\\\\n\t2 & 25 &  8 & -17 & 17 & 14\\\\\n\t8 & 29 & 12 & -17 & 17 & 15\\\\\n\t29 & 28 & 11 & -17 & 17 & 16\\\\\n\t13 & 36 & 15 & -21 & 21 & 17\\\\\n\t28 & 22 &  0 & -22 & 22 & 18\\\\\n\t1 & 39 & 16 & -23 & 23 & 19\\\\\n\t20 & 41 & 18 & -23 & 23 & 20\\\\\n\t17 & 24 &  0 & -24 & 24 & 21\\\\\n\t19 & 40 & 16 & -24 & 24 & 22\\\\\n\t14 & 39 & 10 & -29 & 29 & 23\\\\\n\t27 & 46 & 17 & -29 & 29 & 24\\\\\n\t33 & 31 &  2 & -29 & 29 & 25\\\\\n\t15 & 52 & 20 & -32 & 32 & 26\\\\\n\t11 & 50 & 17 & -33 & 33 & 27\\\\\n\t16 & 48 & 13 & -35 & 35 & 28\\\\\n\t6 & 52 & 16 & -36 & 36 & 29\\\\\n\t31 & 37 &  0 & -37 & 37 & 30\\\\\n\t24 & 49 &  9 & -40 & 40 & 31\\\\\n\t34 & 49 &  9 & -40 & 40 & 32\\\\\n\t35 & 49 &  6 & -43 & 43 & 33\\\\\n\t4 & 50 &  0 & -50 & 50 & 34\\\\\n\t26 & 55 &  4 & -51 & 51 & 35\\\\\n\\end{tabular}\n",
            "text/plain": [
              "   Antes Depois Dif |Dif| Posto\n",
              "5  13    14       1  1     1   \n",
              "21 17    16      -1  1     2   \n",
              "32 17    19       2  2     3   \n",
              "22 12    16       4  4     4   \n",
              "25 14    18       4  4     5   \n",
              "10 22    17      -5  5     6   \n",
              "7  21    13      -8  8     7   \n",
              "9  10    19       9  9     8   \n",
              "30 23    14      -9  9     9   \n",
              "18 15     4     -11 11    10   \n",
              "3  24    12     -12 12    11   \n",
              "23 21     9     -12 12    12   \n",
              "12 15     2     -13 13    13   \n",
              "2  25     8     -17 17    14   \n",
              "8  29    12     -17 17    15   \n",
              "29 28    11     -17 17    16   \n",
              "13 36    15     -21 21    17   \n",
              "28 22     0     -22 22    18   \n",
              "1  39    16     -23 23    19   \n",
              "20 41    18     -23 23    20   \n",
              "17 24     0     -24 24    21   \n",
              "19 40    16     -24 24    22   \n",
              "14 39    10     -29 29    23   \n",
              "27 46    17     -29 29    24   \n",
              "33 31     2     -29 29    25   \n",
              "15 52    20     -32 32    26   \n",
              "11 50    17     -33 33    27   \n",
              "16 48    13     -35 35    28   \n",
              "6  52    16     -36 36    29   \n",
              "31 37     0     -37 37    30   \n",
              "24 49     9     -40 40    31   \n",
              "34 49     9     -40 40    32   \n",
              "35 49     6     -43 43    33   \n",
              "4  50     0     -50 50    34   \n",
              "26 55     4     -51 51    35   "
            ]
          },
          "metadata": {}
        }
      ],
      "source": [
        "# Criando a coluna Posto no df com uma series de 1 até o tamanho da mostra\n",
        "\n",
        "fumo['Posto'] <- seq(1, nrow(fumo))\n",
        "fumo"
      ]
    },
    {
      "cell_type": "code",
      "execution_count": null,
      "metadata": {
        "scrolled": true,
        "id": "wjz8cR093u6q",
        "colab": {
          "base_uri": "https://localhost:8080/",
          "height": 868
        },
        "outputId": "6ff7913f-6f78-47ec-97ed-0837373009a7"
      },
      "outputs": [
        {
          "output_type": "display_data",
          "data": {
            "text/html": [
              "<table class=\"dataframe\">\n",
              "<caption>A data.frame: 24 × 2</caption>\n",
              "<thead>\n",
              "\t<tr><th scope=col>|Dif|</th><th scope=col>Posto</th></tr>\n",
              "\t<tr><th scope=col>&lt;dbl&gt;</th><th scope=col>&lt;dbl&gt;</th></tr>\n",
              "</thead>\n",
              "<tbody>\n",
              "\t<tr><td> 1</td><td> 1.5</td></tr>\n",
              "\t<tr><td> 2</td><td> 3.0</td></tr>\n",
              "\t<tr><td> 4</td><td> 4.5</td></tr>\n",
              "\t<tr><td> 5</td><td> 6.0</td></tr>\n",
              "\t<tr><td> 8</td><td> 7.0</td></tr>\n",
              "\t<tr><td> 9</td><td> 8.5</td></tr>\n",
              "\t<tr><td>11</td><td>10.0</td></tr>\n",
              "\t<tr><td>12</td><td>11.5</td></tr>\n",
              "\t<tr><td>13</td><td>13.0</td></tr>\n",
              "\t<tr><td>17</td><td>15.0</td></tr>\n",
              "\t<tr><td>21</td><td>17.0</td></tr>\n",
              "\t<tr><td>22</td><td>18.0</td></tr>\n",
              "\t<tr><td>23</td><td>19.5</td></tr>\n",
              "\t<tr><td>24</td><td>21.5</td></tr>\n",
              "\t<tr><td>29</td><td>24.0</td></tr>\n",
              "\t<tr><td>32</td><td>26.0</td></tr>\n",
              "\t<tr><td>33</td><td>27.0</td></tr>\n",
              "\t<tr><td>35</td><td>28.0</td></tr>\n",
              "\t<tr><td>36</td><td>29.0</td></tr>\n",
              "\t<tr><td>37</td><td>30.0</td></tr>\n",
              "\t<tr><td>40</td><td>31.5</td></tr>\n",
              "\t<tr><td>43</td><td>33.0</td></tr>\n",
              "\t<tr><td>50</td><td>34.0</td></tr>\n",
              "\t<tr><td>51</td><td>35.0</td></tr>\n",
              "</tbody>\n",
              "</table>\n"
            ],
            "text/markdown": "\nA data.frame: 24 × 2\n\n| |Dif| &lt;dbl&gt; | Posto &lt;dbl&gt; |\n|---|---|\n|  1 |  1.5 |\n|  2 |  3.0 |\n|  4 |  4.5 |\n|  5 |  6.0 |\n|  8 |  7.0 |\n|  9 |  8.5 |\n| 11 | 10.0 |\n| 12 | 11.5 |\n| 13 | 13.0 |\n| 17 | 15.0 |\n| 21 | 17.0 |\n| 22 | 18.0 |\n| 23 | 19.5 |\n| 24 | 21.5 |\n| 29 | 24.0 |\n| 32 | 26.0 |\n| 33 | 27.0 |\n| 35 | 28.0 |\n| 36 | 29.0 |\n| 37 | 30.0 |\n| 40 | 31.5 |\n| 43 | 33.0 |\n| 50 | 34.0 |\n| 51 | 35.0 |\n\n",
            "text/latex": "A data.frame: 24 × 2\n\\begin{tabular}{ll}\n \\textbar{}Dif\\textbar{} & Posto\\\\\n <dbl> & <dbl>\\\\\n\\hline\n\t  1 &  1.5\\\\\n\t  2 &  3.0\\\\\n\t  4 &  4.5\\\\\n\t  5 &  6.0\\\\\n\t  8 &  7.0\\\\\n\t  9 &  8.5\\\\\n\t 11 & 10.0\\\\\n\t 12 & 11.5\\\\\n\t 13 & 13.0\\\\\n\t 17 & 15.0\\\\\n\t 21 & 17.0\\\\\n\t 22 & 18.0\\\\\n\t 23 & 19.5\\\\\n\t 24 & 21.5\\\\\n\t 29 & 24.0\\\\\n\t 32 & 26.0\\\\\n\t 33 & 27.0\\\\\n\t 35 & 28.0\\\\\n\t 36 & 29.0\\\\\n\t 37 & 30.0\\\\\n\t 40 & 31.5\\\\\n\t 43 & 33.0\\\\\n\t 50 & 34.0\\\\\n\t 51 & 35.0\\\\\n\\end{tabular}\n",
            "text/plain": [
              "   |Dif| Posto\n",
              "1   1     1.5 \n",
              "2   2     3.0 \n",
              "3   4     4.5 \n",
              "4   5     6.0 \n",
              "5   8     7.0 \n",
              "6   9     8.5 \n",
              "7  11    10.0 \n",
              "8  12    11.5 \n",
              "9  13    13.0 \n",
              "10 17    15.0 \n",
              "11 21    17.0 \n",
              "12 22    18.0 \n",
              "13 23    19.5 \n",
              "14 24    21.5 \n",
              "15 29    24.0 \n",
              "16 32    26.0 \n",
              "17 33    27.0 \n",
              "18 35    28.0 \n",
              "19 36    29.0 \n",
              "20 37    30.0 \n",
              "21 40    31.5 \n",
              "22 43    33.0 \n",
              "23 50    34.0 \n",
              "24 51    35.0 "
            ]
          },
          "metadata": {}
        }
      ],
      "source": [
        "# Criando um novo df com a coluna |Dif| e a coluna Posto que foi modificada para gerar a média de |Dif| em postos iguais\n",
        "  \n",
        "posto <- aggregate(x = fumo$'Posto', by = list(fumo$'|Dif|'), FUN = mean)\n",
        "colnames(posto) <- c('|Dif|', 'Posto')\n",
        "posto"
      ]
    },
    {
      "cell_type": "code",
      "execution_count": null,
      "metadata": {
        "scrolled": true,
        "id": "9oAtddS73u6q",
        "colab": {
          "base_uri": "https://localhost:8080/",
          "height": 1000
        },
        "outputId": "76de6204-9637-4b8c-a39d-53eef045f5b0"
      },
      "outputs": [
        {
          "output_type": "display_data",
          "data": {
            "text/html": [
              "<table class=\"dataframe\">\n",
              "<caption>A data.frame: 35 × 4</caption>\n",
              "<thead>\n",
              "\t<tr><th></th><th scope=col>Antes</th><th scope=col>Depois</th><th scope=col>Dif</th><th scope=col>|Dif|</th></tr>\n",
              "\t<tr><th></th><th scope=col>&lt;dbl&gt;</th><th scope=col>&lt;dbl&gt;</th><th scope=col>&lt;dbl&gt;</th><th scope=col>&lt;dbl&gt;</th></tr>\n",
              "</thead>\n",
              "<tbody>\n",
              "\t<tr><th scope=row>5</th><td>13</td><td>14</td><td>  1</td><td> 1</td></tr>\n",
              "\t<tr><th scope=row>21</th><td>17</td><td>16</td><td> -1</td><td> 1</td></tr>\n",
              "\t<tr><th scope=row>32</th><td>17</td><td>19</td><td>  2</td><td> 2</td></tr>\n",
              "\t<tr><th scope=row>22</th><td>12</td><td>16</td><td>  4</td><td> 4</td></tr>\n",
              "\t<tr><th scope=row>25</th><td>14</td><td>18</td><td>  4</td><td> 4</td></tr>\n",
              "\t<tr><th scope=row>10</th><td>22</td><td>17</td><td> -5</td><td> 5</td></tr>\n",
              "\t<tr><th scope=row>7</th><td>21</td><td>13</td><td> -8</td><td> 8</td></tr>\n",
              "\t<tr><th scope=row>9</th><td>10</td><td>19</td><td>  9</td><td> 9</td></tr>\n",
              "\t<tr><th scope=row>30</th><td>23</td><td>14</td><td> -9</td><td> 9</td></tr>\n",
              "\t<tr><th scope=row>18</th><td>15</td><td> 4</td><td>-11</td><td>11</td></tr>\n",
              "\t<tr><th scope=row>3</th><td>24</td><td>12</td><td>-12</td><td>12</td></tr>\n",
              "\t<tr><th scope=row>23</th><td>21</td><td> 9</td><td>-12</td><td>12</td></tr>\n",
              "\t<tr><th scope=row>12</th><td>15</td><td> 2</td><td>-13</td><td>13</td></tr>\n",
              "\t<tr><th scope=row>2</th><td>25</td><td> 8</td><td>-17</td><td>17</td></tr>\n",
              "\t<tr><th scope=row>8</th><td>29</td><td>12</td><td>-17</td><td>17</td></tr>\n",
              "\t<tr><th scope=row>29</th><td>28</td><td>11</td><td>-17</td><td>17</td></tr>\n",
              "\t<tr><th scope=row>13</th><td>36</td><td>15</td><td>-21</td><td>21</td></tr>\n",
              "\t<tr><th scope=row>28</th><td>22</td><td> 0</td><td>-22</td><td>22</td></tr>\n",
              "\t<tr><th scope=row>1</th><td>39</td><td>16</td><td>-23</td><td>23</td></tr>\n",
              "\t<tr><th scope=row>20</th><td>41</td><td>18</td><td>-23</td><td>23</td></tr>\n",
              "\t<tr><th scope=row>17</th><td>24</td><td> 0</td><td>-24</td><td>24</td></tr>\n",
              "\t<tr><th scope=row>19</th><td>40</td><td>16</td><td>-24</td><td>24</td></tr>\n",
              "\t<tr><th scope=row>14</th><td>39</td><td>10</td><td>-29</td><td>29</td></tr>\n",
              "\t<tr><th scope=row>27</th><td>46</td><td>17</td><td>-29</td><td>29</td></tr>\n",
              "\t<tr><th scope=row>33</th><td>31</td><td> 2</td><td>-29</td><td>29</td></tr>\n",
              "\t<tr><th scope=row>15</th><td>52</td><td>20</td><td>-32</td><td>32</td></tr>\n",
              "\t<tr><th scope=row>11</th><td>50</td><td>17</td><td>-33</td><td>33</td></tr>\n",
              "\t<tr><th scope=row>16</th><td>48</td><td>13</td><td>-35</td><td>35</td></tr>\n",
              "\t<tr><th scope=row>6</th><td>52</td><td>16</td><td>-36</td><td>36</td></tr>\n",
              "\t<tr><th scope=row>31</th><td>37</td><td> 0</td><td>-37</td><td>37</td></tr>\n",
              "\t<tr><th scope=row>24</th><td>49</td><td> 9</td><td>-40</td><td>40</td></tr>\n",
              "\t<tr><th scope=row>34</th><td>49</td><td> 9</td><td>-40</td><td>40</td></tr>\n",
              "\t<tr><th scope=row>35</th><td>49</td><td> 6</td><td>-43</td><td>43</td></tr>\n",
              "\t<tr><th scope=row>4</th><td>50</td><td> 0</td><td>-50</td><td>50</td></tr>\n",
              "\t<tr><th scope=row>26</th><td>55</td><td> 4</td><td>-51</td><td>51</td></tr>\n",
              "</tbody>\n",
              "</table>\n"
            ],
            "text/markdown": "\nA data.frame: 35 × 4\n\n| <!--/--> | Antes &lt;dbl&gt; | Depois &lt;dbl&gt; | Dif &lt;dbl&gt; | |Dif| &lt;dbl&gt; |\n|---|---|---|---|---|\n| 5 | 13 | 14 |   1 |  1 |\n| 21 | 17 | 16 |  -1 |  1 |\n| 32 | 17 | 19 |   2 |  2 |\n| 22 | 12 | 16 |   4 |  4 |\n| 25 | 14 | 18 |   4 |  4 |\n| 10 | 22 | 17 |  -5 |  5 |\n| 7 | 21 | 13 |  -8 |  8 |\n| 9 | 10 | 19 |   9 |  9 |\n| 30 | 23 | 14 |  -9 |  9 |\n| 18 | 15 |  4 | -11 | 11 |\n| 3 | 24 | 12 | -12 | 12 |\n| 23 | 21 |  9 | -12 | 12 |\n| 12 | 15 |  2 | -13 | 13 |\n| 2 | 25 |  8 | -17 | 17 |\n| 8 | 29 | 12 | -17 | 17 |\n| 29 | 28 | 11 | -17 | 17 |\n| 13 | 36 | 15 | -21 | 21 |\n| 28 | 22 |  0 | -22 | 22 |\n| 1 | 39 | 16 | -23 | 23 |\n| 20 | 41 | 18 | -23 | 23 |\n| 17 | 24 |  0 | -24 | 24 |\n| 19 | 40 | 16 | -24 | 24 |\n| 14 | 39 | 10 | -29 | 29 |\n| 27 | 46 | 17 | -29 | 29 |\n| 33 | 31 |  2 | -29 | 29 |\n| 15 | 52 | 20 | -32 | 32 |\n| 11 | 50 | 17 | -33 | 33 |\n| 16 | 48 | 13 | -35 | 35 |\n| 6 | 52 | 16 | -36 | 36 |\n| 31 | 37 |  0 | -37 | 37 |\n| 24 | 49 |  9 | -40 | 40 |\n| 34 | 49 |  9 | -40 | 40 |\n| 35 | 49 |  6 | -43 | 43 |\n| 4 | 50 |  0 | -50 | 50 |\n| 26 | 55 |  4 | -51 | 51 |\n\n",
            "text/latex": "A data.frame: 35 × 4\n\\begin{tabular}{r|llll}\n  & Antes & Depois & Dif & \\textbar{}Dif\\textbar{}\\\\\n  & <dbl> & <dbl> & <dbl> & <dbl>\\\\\n\\hline\n\t5 & 13 & 14 &   1 &  1\\\\\n\t21 & 17 & 16 &  -1 &  1\\\\\n\t32 & 17 & 19 &   2 &  2\\\\\n\t22 & 12 & 16 &   4 &  4\\\\\n\t25 & 14 & 18 &   4 &  4\\\\\n\t10 & 22 & 17 &  -5 &  5\\\\\n\t7 & 21 & 13 &  -8 &  8\\\\\n\t9 & 10 & 19 &   9 &  9\\\\\n\t30 & 23 & 14 &  -9 &  9\\\\\n\t18 & 15 &  4 & -11 & 11\\\\\n\t3 & 24 & 12 & -12 & 12\\\\\n\t23 & 21 &  9 & -12 & 12\\\\\n\t12 & 15 &  2 & -13 & 13\\\\\n\t2 & 25 &  8 & -17 & 17\\\\\n\t8 & 29 & 12 & -17 & 17\\\\\n\t29 & 28 & 11 & -17 & 17\\\\\n\t13 & 36 & 15 & -21 & 21\\\\\n\t28 & 22 &  0 & -22 & 22\\\\\n\t1 & 39 & 16 & -23 & 23\\\\\n\t20 & 41 & 18 & -23 & 23\\\\\n\t17 & 24 &  0 & -24 & 24\\\\\n\t19 & 40 & 16 & -24 & 24\\\\\n\t14 & 39 & 10 & -29 & 29\\\\\n\t27 & 46 & 17 & -29 & 29\\\\\n\t33 & 31 &  2 & -29 & 29\\\\\n\t15 & 52 & 20 & -32 & 32\\\\\n\t11 & 50 & 17 & -33 & 33\\\\\n\t16 & 48 & 13 & -35 & 35\\\\\n\t6 & 52 & 16 & -36 & 36\\\\\n\t31 & 37 &  0 & -37 & 37\\\\\n\t24 & 49 &  9 & -40 & 40\\\\\n\t34 & 49 &  9 & -40 & 40\\\\\n\t35 & 49 &  6 & -43 & 43\\\\\n\t4 & 50 &  0 & -50 & 50\\\\\n\t26 & 55 &  4 & -51 & 51\\\\\n\\end{tabular}\n",
            "text/plain": [
              "   Antes Depois Dif |Dif|\n",
              "5  13    14       1  1   \n",
              "21 17    16      -1  1   \n",
              "32 17    19       2  2   \n",
              "22 12    16       4  4   \n",
              "25 14    18       4  4   \n",
              "10 22    17      -5  5   \n",
              "7  21    13      -8  8   \n",
              "9  10    19       9  9   \n",
              "30 23    14      -9  9   \n",
              "18 15     4     -11 11   \n",
              "3  24    12     -12 12   \n",
              "23 21     9     -12 12   \n",
              "12 15     2     -13 13   \n",
              "2  25     8     -17 17   \n",
              "8  29    12     -17 17   \n",
              "29 28    11     -17 17   \n",
              "13 36    15     -21 21   \n",
              "28 22     0     -22 22   \n",
              "1  39    16     -23 23   \n",
              "20 41    18     -23 23   \n",
              "17 24     0     -24 24   \n",
              "19 40    16     -24 24   \n",
              "14 39    10     -29 29   \n",
              "27 46    17     -29 29   \n",
              "33 31     2     -29 29   \n",
              "15 52    20     -32 32   \n",
              "11 50    17     -33 33   \n",
              "16 48    13     -35 35   \n",
              "6  52    16     -36 36   \n",
              "31 37     0     -37 37   \n",
              "24 49     9     -40 40   \n",
              "34 49     9     -40 40   \n",
              "35 49     6     -43 43   \n",
              "4  50     0     -50 50   \n",
              "26 55     4     -51 51   "
            ]
          },
          "metadata": {}
        }
      ],
      "source": [
        "# Removendo a coluna Posto do df fumo\n",
        "\n",
        "fumo$Posto <- NULL\n",
        "fumo"
      ]
    },
    {
      "cell_type": "code",
      "execution_count": null,
      "metadata": {
        "scrolled": true,
        "id": "VcMD_iw13u6q",
        "colab": {
          "base_uri": "https://localhost:8080/",
          "height": 1000
        },
        "outputId": "7b9d17e7-9276-4b3b-838c-f0a4176bba52"
      },
      "outputs": [
        {
          "output_type": "display_data",
          "data": {
            "text/html": [
              "<table class=\"dataframe\">\n",
              "<caption>A data.frame: 35 × 5</caption>\n",
              "<thead>\n",
              "\t<tr><th scope=col>|Dif|</th><th scope=col>Antes</th><th scope=col>Depois</th><th scope=col>Dif</th><th scope=col>Posto</th></tr>\n",
              "\t<tr><th scope=col>&lt;dbl&gt;</th><th scope=col>&lt;dbl&gt;</th><th scope=col>&lt;dbl&gt;</th><th scope=col>&lt;dbl&gt;</th><th scope=col>&lt;dbl&gt;</th></tr>\n",
              "</thead>\n",
              "<tbody>\n",
              "\t<tr><td> 1</td><td>13</td><td>14</td><td>  1</td><td> 1.5</td></tr>\n",
              "\t<tr><td> 1</td><td>17</td><td>16</td><td> -1</td><td> 1.5</td></tr>\n",
              "\t<tr><td> 2</td><td>17</td><td>19</td><td>  2</td><td> 3.0</td></tr>\n",
              "\t<tr><td> 4</td><td>12</td><td>16</td><td>  4</td><td> 4.5</td></tr>\n",
              "\t<tr><td> 4</td><td>14</td><td>18</td><td>  4</td><td> 4.5</td></tr>\n",
              "\t<tr><td> 5</td><td>22</td><td>17</td><td> -5</td><td> 6.0</td></tr>\n",
              "\t<tr><td> 8</td><td>21</td><td>13</td><td> -8</td><td> 7.0</td></tr>\n",
              "\t<tr><td> 9</td><td>10</td><td>19</td><td>  9</td><td> 8.5</td></tr>\n",
              "\t<tr><td> 9</td><td>23</td><td>14</td><td> -9</td><td> 8.5</td></tr>\n",
              "\t<tr><td>11</td><td>15</td><td> 4</td><td>-11</td><td>10.0</td></tr>\n",
              "\t<tr><td>12</td><td>24</td><td>12</td><td>-12</td><td>11.5</td></tr>\n",
              "\t<tr><td>12</td><td>21</td><td> 9</td><td>-12</td><td>11.5</td></tr>\n",
              "\t<tr><td>13</td><td>15</td><td> 2</td><td>-13</td><td>13.0</td></tr>\n",
              "\t<tr><td>17</td><td>25</td><td> 8</td><td>-17</td><td>15.0</td></tr>\n",
              "\t<tr><td>17</td><td>29</td><td>12</td><td>-17</td><td>15.0</td></tr>\n",
              "\t<tr><td>17</td><td>28</td><td>11</td><td>-17</td><td>15.0</td></tr>\n",
              "\t<tr><td>21</td><td>36</td><td>15</td><td>-21</td><td>17.0</td></tr>\n",
              "\t<tr><td>22</td><td>22</td><td> 0</td><td>-22</td><td>18.0</td></tr>\n",
              "\t<tr><td>23</td><td>39</td><td>16</td><td>-23</td><td>19.5</td></tr>\n",
              "\t<tr><td>23</td><td>41</td><td>18</td><td>-23</td><td>19.5</td></tr>\n",
              "\t<tr><td>24</td><td>24</td><td> 0</td><td>-24</td><td>21.5</td></tr>\n",
              "\t<tr><td>24</td><td>40</td><td>16</td><td>-24</td><td>21.5</td></tr>\n",
              "\t<tr><td>29</td><td>39</td><td>10</td><td>-29</td><td>24.0</td></tr>\n",
              "\t<tr><td>29</td><td>46</td><td>17</td><td>-29</td><td>24.0</td></tr>\n",
              "\t<tr><td>29</td><td>31</td><td> 2</td><td>-29</td><td>24.0</td></tr>\n",
              "\t<tr><td>32</td><td>52</td><td>20</td><td>-32</td><td>26.0</td></tr>\n",
              "\t<tr><td>33</td><td>50</td><td>17</td><td>-33</td><td>27.0</td></tr>\n",
              "\t<tr><td>35</td><td>48</td><td>13</td><td>-35</td><td>28.0</td></tr>\n",
              "\t<tr><td>36</td><td>52</td><td>16</td><td>-36</td><td>29.0</td></tr>\n",
              "\t<tr><td>37</td><td>37</td><td> 0</td><td>-37</td><td>30.0</td></tr>\n",
              "\t<tr><td>40</td><td>49</td><td> 9</td><td>-40</td><td>31.5</td></tr>\n",
              "\t<tr><td>40</td><td>49</td><td> 9</td><td>-40</td><td>31.5</td></tr>\n",
              "\t<tr><td>43</td><td>49</td><td> 6</td><td>-43</td><td>33.0</td></tr>\n",
              "\t<tr><td>50</td><td>50</td><td> 0</td><td>-50</td><td>34.0</td></tr>\n",
              "\t<tr><td>51</td><td>55</td><td> 4</td><td>-51</td><td>35.0</td></tr>\n",
              "</tbody>\n",
              "</table>\n"
            ],
            "text/markdown": "\nA data.frame: 35 × 5\n\n| |Dif| &lt;dbl&gt; | Antes &lt;dbl&gt; | Depois &lt;dbl&gt; | Dif &lt;dbl&gt; | Posto &lt;dbl&gt; |\n|---|---|---|---|---|\n|  1 | 13 | 14 |   1 |  1.5 |\n|  1 | 17 | 16 |  -1 |  1.5 |\n|  2 | 17 | 19 |   2 |  3.0 |\n|  4 | 12 | 16 |   4 |  4.5 |\n|  4 | 14 | 18 |   4 |  4.5 |\n|  5 | 22 | 17 |  -5 |  6.0 |\n|  8 | 21 | 13 |  -8 |  7.0 |\n|  9 | 10 | 19 |   9 |  8.5 |\n|  9 | 23 | 14 |  -9 |  8.5 |\n| 11 | 15 |  4 | -11 | 10.0 |\n| 12 | 24 | 12 | -12 | 11.5 |\n| 12 | 21 |  9 | -12 | 11.5 |\n| 13 | 15 |  2 | -13 | 13.0 |\n| 17 | 25 |  8 | -17 | 15.0 |\n| 17 | 29 | 12 | -17 | 15.0 |\n| 17 | 28 | 11 | -17 | 15.0 |\n| 21 | 36 | 15 | -21 | 17.0 |\n| 22 | 22 |  0 | -22 | 18.0 |\n| 23 | 39 | 16 | -23 | 19.5 |\n| 23 | 41 | 18 | -23 | 19.5 |\n| 24 | 24 |  0 | -24 | 21.5 |\n| 24 | 40 | 16 | -24 | 21.5 |\n| 29 | 39 | 10 | -29 | 24.0 |\n| 29 | 46 | 17 | -29 | 24.0 |\n| 29 | 31 |  2 | -29 | 24.0 |\n| 32 | 52 | 20 | -32 | 26.0 |\n| 33 | 50 | 17 | -33 | 27.0 |\n| 35 | 48 | 13 | -35 | 28.0 |\n| 36 | 52 | 16 | -36 | 29.0 |\n| 37 | 37 |  0 | -37 | 30.0 |\n| 40 | 49 |  9 | -40 | 31.5 |\n| 40 | 49 |  9 | -40 | 31.5 |\n| 43 | 49 |  6 | -43 | 33.0 |\n| 50 | 50 |  0 | -50 | 34.0 |\n| 51 | 55 |  4 | -51 | 35.0 |\n\n",
            "text/latex": "A data.frame: 35 × 5\n\\begin{tabular}{lllll}\n \\textbar{}Dif\\textbar{} & Antes & Depois & Dif & Posto\\\\\n <dbl> & <dbl> & <dbl> & <dbl> & <dbl>\\\\\n\\hline\n\t  1 & 13 & 14 &   1 &  1.5\\\\\n\t  1 & 17 & 16 &  -1 &  1.5\\\\\n\t  2 & 17 & 19 &   2 &  3.0\\\\\n\t  4 & 12 & 16 &   4 &  4.5\\\\\n\t  4 & 14 & 18 &   4 &  4.5\\\\\n\t  5 & 22 & 17 &  -5 &  6.0\\\\\n\t  8 & 21 & 13 &  -8 &  7.0\\\\\n\t  9 & 10 & 19 &   9 &  8.5\\\\\n\t  9 & 23 & 14 &  -9 &  8.5\\\\\n\t 11 & 15 &  4 & -11 & 10.0\\\\\n\t 12 & 24 & 12 & -12 & 11.5\\\\\n\t 12 & 21 &  9 & -12 & 11.5\\\\\n\t 13 & 15 &  2 & -13 & 13.0\\\\\n\t 17 & 25 &  8 & -17 & 15.0\\\\\n\t 17 & 29 & 12 & -17 & 15.0\\\\\n\t 17 & 28 & 11 & -17 & 15.0\\\\\n\t 21 & 36 & 15 & -21 & 17.0\\\\\n\t 22 & 22 &  0 & -22 & 18.0\\\\\n\t 23 & 39 & 16 & -23 & 19.5\\\\\n\t 23 & 41 & 18 & -23 & 19.5\\\\\n\t 24 & 24 &  0 & -24 & 21.5\\\\\n\t 24 & 40 & 16 & -24 & 21.5\\\\\n\t 29 & 39 & 10 & -29 & 24.0\\\\\n\t 29 & 46 & 17 & -29 & 24.0\\\\\n\t 29 & 31 &  2 & -29 & 24.0\\\\\n\t 32 & 52 & 20 & -32 & 26.0\\\\\n\t 33 & 50 & 17 & -33 & 27.0\\\\\n\t 35 & 48 & 13 & -35 & 28.0\\\\\n\t 36 & 52 & 16 & -36 & 29.0\\\\\n\t 37 & 37 &  0 & -37 & 30.0\\\\\n\t 40 & 49 &  9 & -40 & 31.5\\\\\n\t 40 & 49 &  9 & -40 & 31.5\\\\\n\t 43 & 49 &  6 & -43 & 33.0\\\\\n\t 50 & 50 &  0 & -50 & 34.0\\\\\n\t 51 & 55 &  4 & -51 & 35.0\\\\\n\\end{tabular}\n",
            "text/plain": [
              "   |Dif| Antes Depois Dif Posto\n",
              "1   1    13    14       1  1.5 \n",
              "2   1    17    16      -1  1.5 \n",
              "3   2    17    19       2  3.0 \n",
              "4   4    12    16       4  4.5 \n",
              "5   4    14    18       4  4.5 \n",
              "6   5    22    17      -5  6.0 \n",
              "7   8    21    13      -8  7.0 \n",
              "8   9    10    19       9  8.5 \n",
              "9   9    23    14      -9  8.5 \n",
              "10 11    15     4     -11 10.0 \n",
              "11 12    24    12     -12 11.5 \n",
              "12 12    21     9     -12 11.5 \n",
              "13 13    15     2     -13 13.0 \n",
              "14 17    25     8     -17 15.0 \n",
              "15 17    29    12     -17 15.0 \n",
              "16 17    28    11     -17 15.0 \n",
              "17 21    36    15     -21 17.0 \n",
              "18 22    22     0     -22 18.0 \n",
              "19 23    39    16     -23 19.5 \n",
              "20 23    41    18     -23 19.5 \n",
              "21 24    24     0     -24 21.5 \n",
              "22 24    40    16     -24 21.5 \n",
              "23 29    39    10     -29 24.0 \n",
              "24 29    46    17     -29 24.0 \n",
              "25 29    31     2     -29 24.0 \n",
              "26 32    52    20     -32 26.0 \n",
              "27 33    50    17     -33 27.0 \n",
              "28 35    48    13     -35 28.0 \n",
              "29 36    52    16     -36 29.0 \n",
              "30 37    37     0     -37 30.0 \n",
              "31 40    49     9     -40 31.5 \n",
              "32 40    49     9     -40 31.5 \n",
              "33 43    49     6     -43 33.0 \n",
              "34 50    50     0     -50 34.0 \n",
              "35 51    55     4     -51 35.0 "
            ]
          },
          "metadata": {}
        }
      ],
      "source": [
        "# Fazendo um merge dos df fumo e posto através da coluna |Dif| mantendo todos os valores do df fumo\n",
        "\n",
        "fumo <- merge(x = fumo, y = posto, by = '|Dif|', all.x = TRUE)\n",
        "fumo"
      ]
    },
    {
      "cell_type": "code",
      "execution_count": null,
      "metadata": {
        "scrolled": true,
        "id": "1-CtCflz3u6q",
        "colab": {
          "base_uri": "https://localhost:8080/",
          "height": 1000
        },
        "outputId": "66d5dfbd-d3bd-4b55-efb3-45c2631239be"
      },
      "outputs": [
        {
          "output_type": "display_data",
          "data": {
            "text/html": [
              "<table class=\"dataframe\">\n",
              "<caption>A data.frame: 35 × 6</caption>\n",
              "<thead>\n",
              "\t<tr><th scope=col>|Dif|</th><th scope=col>Antes</th><th scope=col>Depois</th><th scope=col>Dif</th><th scope=col>Posto</th><th scope=col>Posto (+)</th></tr>\n",
              "\t<tr><th scope=col>&lt;dbl&gt;</th><th scope=col>&lt;dbl&gt;</th><th scope=col>&lt;dbl&gt;</th><th scope=col>&lt;dbl&gt;</th><th scope=col>&lt;dbl&gt;</th><th scope=col>&lt;dbl&gt;</th></tr>\n",
              "</thead>\n",
              "<tbody>\n",
              "\t<tr><td> 1</td><td>13</td><td>14</td><td>  1</td><td> 1.5</td><td>1.5</td></tr>\n",
              "\t<tr><td> 1</td><td>17</td><td>16</td><td> -1</td><td> 1.5</td><td>0.0</td></tr>\n",
              "\t<tr><td> 2</td><td>17</td><td>19</td><td>  2</td><td> 3.0</td><td>3.0</td></tr>\n",
              "\t<tr><td> 4</td><td>12</td><td>16</td><td>  4</td><td> 4.5</td><td>4.5</td></tr>\n",
              "\t<tr><td> 4</td><td>14</td><td>18</td><td>  4</td><td> 4.5</td><td>4.5</td></tr>\n",
              "\t<tr><td> 5</td><td>22</td><td>17</td><td> -5</td><td> 6.0</td><td>0.0</td></tr>\n",
              "\t<tr><td> 8</td><td>21</td><td>13</td><td> -8</td><td> 7.0</td><td>0.0</td></tr>\n",
              "\t<tr><td> 9</td><td>10</td><td>19</td><td>  9</td><td> 8.5</td><td>8.5</td></tr>\n",
              "\t<tr><td> 9</td><td>23</td><td>14</td><td> -9</td><td> 8.5</td><td>0.0</td></tr>\n",
              "\t<tr><td>11</td><td>15</td><td> 4</td><td>-11</td><td>10.0</td><td>0.0</td></tr>\n",
              "\t<tr><td>12</td><td>24</td><td>12</td><td>-12</td><td>11.5</td><td>0.0</td></tr>\n",
              "\t<tr><td>12</td><td>21</td><td> 9</td><td>-12</td><td>11.5</td><td>0.0</td></tr>\n",
              "\t<tr><td>13</td><td>15</td><td> 2</td><td>-13</td><td>13.0</td><td>0.0</td></tr>\n",
              "\t<tr><td>17</td><td>25</td><td> 8</td><td>-17</td><td>15.0</td><td>0.0</td></tr>\n",
              "\t<tr><td>17</td><td>29</td><td>12</td><td>-17</td><td>15.0</td><td>0.0</td></tr>\n",
              "\t<tr><td>17</td><td>28</td><td>11</td><td>-17</td><td>15.0</td><td>0.0</td></tr>\n",
              "\t<tr><td>21</td><td>36</td><td>15</td><td>-21</td><td>17.0</td><td>0.0</td></tr>\n",
              "\t<tr><td>22</td><td>22</td><td> 0</td><td>-22</td><td>18.0</td><td>0.0</td></tr>\n",
              "\t<tr><td>23</td><td>39</td><td>16</td><td>-23</td><td>19.5</td><td>0.0</td></tr>\n",
              "\t<tr><td>23</td><td>41</td><td>18</td><td>-23</td><td>19.5</td><td>0.0</td></tr>\n",
              "\t<tr><td>24</td><td>24</td><td> 0</td><td>-24</td><td>21.5</td><td>0.0</td></tr>\n",
              "\t<tr><td>24</td><td>40</td><td>16</td><td>-24</td><td>21.5</td><td>0.0</td></tr>\n",
              "\t<tr><td>29</td><td>39</td><td>10</td><td>-29</td><td>24.0</td><td>0.0</td></tr>\n",
              "\t<tr><td>29</td><td>46</td><td>17</td><td>-29</td><td>24.0</td><td>0.0</td></tr>\n",
              "\t<tr><td>29</td><td>31</td><td> 2</td><td>-29</td><td>24.0</td><td>0.0</td></tr>\n",
              "\t<tr><td>32</td><td>52</td><td>20</td><td>-32</td><td>26.0</td><td>0.0</td></tr>\n",
              "\t<tr><td>33</td><td>50</td><td>17</td><td>-33</td><td>27.0</td><td>0.0</td></tr>\n",
              "\t<tr><td>35</td><td>48</td><td>13</td><td>-35</td><td>28.0</td><td>0.0</td></tr>\n",
              "\t<tr><td>36</td><td>52</td><td>16</td><td>-36</td><td>29.0</td><td>0.0</td></tr>\n",
              "\t<tr><td>37</td><td>37</td><td> 0</td><td>-37</td><td>30.0</td><td>0.0</td></tr>\n",
              "\t<tr><td>40</td><td>49</td><td> 9</td><td>-40</td><td>31.5</td><td>0.0</td></tr>\n",
              "\t<tr><td>40</td><td>49</td><td> 9</td><td>-40</td><td>31.5</td><td>0.0</td></tr>\n",
              "\t<tr><td>43</td><td>49</td><td> 6</td><td>-43</td><td>33.0</td><td>0.0</td></tr>\n",
              "\t<tr><td>50</td><td>50</td><td> 0</td><td>-50</td><td>34.0</td><td>0.0</td></tr>\n",
              "\t<tr><td>51</td><td>55</td><td> 4</td><td>-51</td><td>35.0</td><td>0.0</td></tr>\n",
              "</tbody>\n",
              "</table>\n"
            ],
            "text/markdown": "\nA data.frame: 35 × 6\n\n| |Dif| &lt;dbl&gt; | Antes &lt;dbl&gt; | Depois &lt;dbl&gt; | Dif &lt;dbl&gt; | Posto &lt;dbl&gt; | Posto (+) &lt;dbl&gt; |\n|---|---|---|---|---|---|\n|  1 | 13 | 14 |   1 |  1.5 | 1.5 |\n|  1 | 17 | 16 |  -1 |  1.5 | 0.0 |\n|  2 | 17 | 19 |   2 |  3.0 | 3.0 |\n|  4 | 12 | 16 |   4 |  4.5 | 4.5 |\n|  4 | 14 | 18 |   4 |  4.5 | 4.5 |\n|  5 | 22 | 17 |  -5 |  6.0 | 0.0 |\n|  8 | 21 | 13 |  -8 |  7.0 | 0.0 |\n|  9 | 10 | 19 |   9 |  8.5 | 8.5 |\n|  9 | 23 | 14 |  -9 |  8.5 | 0.0 |\n| 11 | 15 |  4 | -11 | 10.0 | 0.0 |\n| 12 | 24 | 12 | -12 | 11.5 | 0.0 |\n| 12 | 21 |  9 | -12 | 11.5 | 0.0 |\n| 13 | 15 |  2 | -13 | 13.0 | 0.0 |\n| 17 | 25 |  8 | -17 | 15.0 | 0.0 |\n| 17 | 29 | 12 | -17 | 15.0 | 0.0 |\n| 17 | 28 | 11 | -17 | 15.0 | 0.0 |\n| 21 | 36 | 15 | -21 | 17.0 | 0.0 |\n| 22 | 22 |  0 | -22 | 18.0 | 0.0 |\n| 23 | 39 | 16 | -23 | 19.5 | 0.0 |\n| 23 | 41 | 18 | -23 | 19.5 | 0.0 |\n| 24 | 24 |  0 | -24 | 21.5 | 0.0 |\n| 24 | 40 | 16 | -24 | 21.5 | 0.0 |\n| 29 | 39 | 10 | -29 | 24.0 | 0.0 |\n| 29 | 46 | 17 | -29 | 24.0 | 0.0 |\n| 29 | 31 |  2 | -29 | 24.0 | 0.0 |\n| 32 | 52 | 20 | -32 | 26.0 | 0.0 |\n| 33 | 50 | 17 | -33 | 27.0 | 0.0 |\n| 35 | 48 | 13 | -35 | 28.0 | 0.0 |\n| 36 | 52 | 16 | -36 | 29.0 | 0.0 |\n| 37 | 37 |  0 | -37 | 30.0 | 0.0 |\n| 40 | 49 |  9 | -40 | 31.5 | 0.0 |\n| 40 | 49 |  9 | -40 | 31.5 | 0.0 |\n| 43 | 49 |  6 | -43 | 33.0 | 0.0 |\n| 50 | 50 |  0 | -50 | 34.0 | 0.0 |\n| 51 | 55 |  4 | -51 | 35.0 | 0.0 |\n\n",
            "text/latex": "A data.frame: 35 × 6\n\\begin{tabular}{llllll}\n \\textbar{}Dif\\textbar{} & Antes & Depois & Dif & Posto & Posto (+)\\\\\n <dbl> & <dbl> & <dbl> & <dbl> & <dbl> & <dbl>\\\\\n\\hline\n\t  1 & 13 & 14 &   1 &  1.5 & 1.5\\\\\n\t  1 & 17 & 16 &  -1 &  1.5 & 0.0\\\\\n\t  2 & 17 & 19 &   2 &  3.0 & 3.0\\\\\n\t  4 & 12 & 16 &   4 &  4.5 & 4.5\\\\\n\t  4 & 14 & 18 &   4 &  4.5 & 4.5\\\\\n\t  5 & 22 & 17 &  -5 &  6.0 & 0.0\\\\\n\t  8 & 21 & 13 &  -8 &  7.0 & 0.0\\\\\n\t  9 & 10 & 19 &   9 &  8.5 & 8.5\\\\\n\t  9 & 23 & 14 &  -9 &  8.5 & 0.0\\\\\n\t 11 & 15 &  4 & -11 & 10.0 & 0.0\\\\\n\t 12 & 24 & 12 & -12 & 11.5 & 0.0\\\\\n\t 12 & 21 &  9 & -12 & 11.5 & 0.0\\\\\n\t 13 & 15 &  2 & -13 & 13.0 & 0.0\\\\\n\t 17 & 25 &  8 & -17 & 15.0 & 0.0\\\\\n\t 17 & 29 & 12 & -17 & 15.0 & 0.0\\\\\n\t 17 & 28 & 11 & -17 & 15.0 & 0.0\\\\\n\t 21 & 36 & 15 & -21 & 17.0 & 0.0\\\\\n\t 22 & 22 &  0 & -22 & 18.0 & 0.0\\\\\n\t 23 & 39 & 16 & -23 & 19.5 & 0.0\\\\\n\t 23 & 41 & 18 & -23 & 19.5 & 0.0\\\\\n\t 24 & 24 &  0 & -24 & 21.5 & 0.0\\\\\n\t 24 & 40 & 16 & -24 & 21.5 & 0.0\\\\\n\t 29 & 39 & 10 & -29 & 24.0 & 0.0\\\\\n\t 29 & 46 & 17 & -29 & 24.0 & 0.0\\\\\n\t 29 & 31 &  2 & -29 & 24.0 & 0.0\\\\\n\t 32 & 52 & 20 & -32 & 26.0 & 0.0\\\\\n\t 33 & 50 & 17 & -33 & 27.0 & 0.0\\\\\n\t 35 & 48 & 13 & -35 & 28.0 & 0.0\\\\\n\t 36 & 52 & 16 & -36 & 29.0 & 0.0\\\\\n\t 37 & 37 &  0 & -37 & 30.0 & 0.0\\\\\n\t 40 & 49 &  9 & -40 & 31.5 & 0.0\\\\\n\t 40 & 49 &  9 & -40 & 31.5 & 0.0\\\\\n\t 43 & 49 &  6 & -43 & 33.0 & 0.0\\\\\n\t 50 & 50 &  0 & -50 & 34.0 & 0.0\\\\\n\t 51 & 55 &  4 & -51 & 35.0 & 0.0\\\\\n\\end{tabular}\n",
            "text/plain": [
              "   |Dif| Antes Depois Dif Posto Posto (+)\n",
              "1   1    13    14       1  1.5  1.5      \n",
              "2   1    17    16      -1  1.5  0.0      \n",
              "3   2    17    19       2  3.0  3.0      \n",
              "4   4    12    16       4  4.5  4.5      \n",
              "5   4    14    18       4  4.5  4.5      \n",
              "6   5    22    17      -5  6.0  0.0      \n",
              "7   8    21    13      -8  7.0  0.0      \n",
              "8   9    10    19       9  8.5  8.5      \n",
              "9   9    23    14      -9  8.5  0.0      \n",
              "10 11    15     4     -11 10.0  0.0      \n",
              "11 12    24    12     -12 11.5  0.0      \n",
              "12 12    21     9     -12 11.5  0.0      \n",
              "13 13    15     2     -13 13.0  0.0      \n",
              "14 17    25     8     -17 15.0  0.0      \n",
              "15 17    29    12     -17 15.0  0.0      \n",
              "16 17    28    11     -17 15.0  0.0      \n",
              "17 21    36    15     -21 17.0  0.0      \n",
              "18 22    22     0     -22 18.0  0.0      \n",
              "19 23    39    16     -23 19.5  0.0      \n",
              "20 23    41    18     -23 19.5  0.0      \n",
              "21 24    24     0     -24 21.5  0.0      \n",
              "22 24    40    16     -24 21.5  0.0      \n",
              "23 29    39    10     -29 24.0  0.0      \n",
              "24 29    46    17     -29 24.0  0.0      \n",
              "25 29    31     2     -29 24.0  0.0      \n",
              "26 32    52    20     -32 26.0  0.0      \n",
              "27 33    50    17     -33 27.0  0.0      \n",
              "28 35    48    13     -35 28.0  0.0      \n",
              "29 36    52    16     -36 29.0  0.0      \n",
              "30 37    37     0     -37 30.0  0.0      \n",
              "31 40    49     9     -40 31.5  0.0      \n",
              "32 40    49     9     -40 31.5  0.0      \n",
              "33 43    49     6     -43 33.0  0.0      \n",
              "34 50    50     0     -50 34.0  0.0      \n",
              "35 51    55     4     -51 35.0  0.0      "
            ]
          },
          "metadata": {}
        }
      ],
      "source": [
        "# Criando a coluna Posto (+), mantendo somente os valores da coluna Posto cuja coluna Dif seja positivo\n",
        "\n",
        "fumo['Posto (+)'] <- apply(fumo[, c('Dif', 'Posto')], 1, function(x) if(x[1] > 0) x[2] else 0)\n",
        "fumo"
      ]
    },
    {
      "cell_type": "code",
      "execution_count": null,
      "metadata": {
        "scrolled": true,
        "id": "WUeNKr_k3u6q",
        "colab": {
          "base_uri": "https://localhost:8080/",
          "height": 1000
        },
        "outputId": "b63dabb1-21ba-4bfa-e615-d9679f12b5d1"
      },
      "outputs": [
        {
          "output_type": "display_data",
          "data": {
            "text/html": [
              "<table class=\"dataframe\">\n",
              "<caption>A data.frame: 35 × 7</caption>\n",
              "<thead>\n",
              "\t<tr><th scope=col>|Dif|</th><th scope=col>Antes</th><th scope=col>Depois</th><th scope=col>Dif</th><th scope=col>Posto</th><th scope=col>Posto (+)</th><th scope=col>Posto (-)</th></tr>\n",
              "\t<tr><th scope=col>&lt;dbl&gt;</th><th scope=col>&lt;dbl&gt;</th><th scope=col>&lt;dbl&gt;</th><th scope=col>&lt;dbl&gt;</th><th scope=col>&lt;dbl&gt;</th><th scope=col>&lt;dbl&gt;</th><th scope=col>&lt;dbl&gt;</th></tr>\n",
              "</thead>\n",
              "<tbody>\n",
              "\t<tr><td> 1</td><td>13</td><td>14</td><td>  1</td><td> 1.5</td><td>1.5</td><td> 0.0</td></tr>\n",
              "\t<tr><td> 1</td><td>17</td><td>16</td><td> -1</td><td> 1.5</td><td>0.0</td><td> 1.5</td></tr>\n",
              "\t<tr><td> 2</td><td>17</td><td>19</td><td>  2</td><td> 3.0</td><td>3.0</td><td> 0.0</td></tr>\n",
              "\t<tr><td> 4</td><td>12</td><td>16</td><td>  4</td><td> 4.5</td><td>4.5</td><td> 0.0</td></tr>\n",
              "\t<tr><td> 4</td><td>14</td><td>18</td><td>  4</td><td> 4.5</td><td>4.5</td><td> 0.0</td></tr>\n",
              "\t<tr><td> 5</td><td>22</td><td>17</td><td> -5</td><td> 6.0</td><td>0.0</td><td> 6.0</td></tr>\n",
              "\t<tr><td> 8</td><td>21</td><td>13</td><td> -8</td><td> 7.0</td><td>0.0</td><td> 7.0</td></tr>\n",
              "\t<tr><td> 9</td><td>10</td><td>19</td><td>  9</td><td> 8.5</td><td>8.5</td><td> 0.0</td></tr>\n",
              "\t<tr><td> 9</td><td>23</td><td>14</td><td> -9</td><td> 8.5</td><td>0.0</td><td> 8.5</td></tr>\n",
              "\t<tr><td>11</td><td>15</td><td> 4</td><td>-11</td><td>10.0</td><td>0.0</td><td>10.0</td></tr>\n",
              "\t<tr><td>12</td><td>24</td><td>12</td><td>-12</td><td>11.5</td><td>0.0</td><td>11.5</td></tr>\n",
              "\t<tr><td>12</td><td>21</td><td> 9</td><td>-12</td><td>11.5</td><td>0.0</td><td>11.5</td></tr>\n",
              "\t<tr><td>13</td><td>15</td><td> 2</td><td>-13</td><td>13.0</td><td>0.0</td><td>13.0</td></tr>\n",
              "\t<tr><td>17</td><td>25</td><td> 8</td><td>-17</td><td>15.0</td><td>0.0</td><td>15.0</td></tr>\n",
              "\t<tr><td>17</td><td>29</td><td>12</td><td>-17</td><td>15.0</td><td>0.0</td><td>15.0</td></tr>\n",
              "\t<tr><td>17</td><td>28</td><td>11</td><td>-17</td><td>15.0</td><td>0.0</td><td>15.0</td></tr>\n",
              "\t<tr><td>21</td><td>36</td><td>15</td><td>-21</td><td>17.0</td><td>0.0</td><td>17.0</td></tr>\n",
              "\t<tr><td>22</td><td>22</td><td> 0</td><td>-22</td><td>18.0</td><td>0.0</td><td>18.0</td></tr>\n",
              "\t<tr><td>23</td><td>39</td><td>16</td><td>-23</td><td>19.5</td><td>0.0</td><td>19.5</td></tr>\n",
              "\t<tr><td>23</td><td>41</td><td>18</td><td>-23</td><td>19.5</td><td>0.0</td><td>19.5</td></tr>\n",
              "\t<tr><td>24</td><td>24</td><td> 0</td><td>-24</td><td>21.5</td><td>0.0</td><td>21.5</td></tr>\n",
              "\t<tr><td>24</td><td>40</td><td>16</td><td>-24</td><td>21.5</td><td>0.0</td><td>21.5</td></tr>\n",
              "\t<tr><td>29</td><td>39</td><td>10</td><td>-29</td><td>24.0</td><td>0.0</td><td>24.0</td></tr>\n",
              "\t<tr><td>29</td><td>46</td><td>17</td><td>-29</td><td>24.0</td><td>0.0</td><td>24.0</td></tr>\n",
              "\t<tr><td>29</td><td>31</td><td> 2</td><td>-29</td><td>24.0</td><td>0.0</td><td>24.0</td></tr>\n",
              "\t<tr><td>32</td><td>52</td><td>20</td><td>-32</td><td>26.0</td><td>0.0</td><td>26.0</td></tr>\n",
              "\t<tr><td>33</td><td>50</td><td>17</td><td>-33</td><td>27.0</td><td>0.0</td><td>27.0</td></tr>\n",
              "\t<tr><td>35</td><td>48</td><td>13</td><td>-35</td><td>28.0</td><td>0.0</td><td>28.0</td></tr>\n",
              "\t<tr><td>36</td><td>52</td><td>16</td><td>-36</td><td>29.0</td><td>0.0</td><td>29.0</td></tr>\n",
              "\t<tr><td>37</td><td>37</td><td> 0</td><td>-37</td><td>30.0</td><td>0.0</td><td>30.0</td></tr>\n",
              "\t<tr><td>40</td><td>49</td><td> 9</td><td>-40</td><td>31.5</td><td>0.0</td><td>31.5</td></tr>\n",
              "\t<tr><td>40</td><td>49</td><td> 9</td><td>-40</td><td>31.5</td><td>0.0</td><td>31.5</td></tr>\n",
              "\t<tr><td>43</td><td>49</td><td> 6</td><td>-43</td><td>33.0</td><td>0.0</td><td>33.0</td></tr>\n",
              "\t<tr><td>50</td><td>50</td><td> 0</td><td>-50</td><td>34.0</td><td>0.0</td><td>34.0</td></tr>\n",
              "\t<tr><td>51</td><td>55</td><td> 4</td><td>-51</td><td>35.0</td><td>0.0</td><td>35.0</td></tr>\n",
              "</tbody>\n",
              "</table>\n"
            ],
            "text/markdown": "\nA data.frame: 35 × 7\n\n| |Dif| &lt;dbl&gt; | Antes &lt;dbl&gt; | Depois &lt;dbl&gt; | Dif &lt;dbl&gt; | Posto &lt;dbl&gt; | Posto (+) &lt;dbl&gt; | Posto (-) &lt;dbl&gt; |\n|---|---|---|---|---|---|---|\n|  1 | 13 | 14 |   1 |  1.5 | 1.5 |  0.0 |\n|  1 | 17 | 16 |  -1 |  1.5 | 0.0 |  1.5 |\n|  2 | 17 | 19 |   2 |  3.0 | 3.0 |  0.0 |\n|  4 | 12 | 16 |   4 |  4.5 | 4.5 |  0.0 |\n|  4 | 14 | 18 |   4 |  4.5 | 4.5 |  0.0 |\n|  5 | 22 | 17 |  -5 |  6.0 | 0.0 |  6.0 |\n|  8 | 21 | 13 |  -8 |  7.0 | 0.0 |  7.0 |\n|  9 | 10 | 19 |   9 |  8.5 | 8.5 |  0.0 |\n|  9 | 23 | 14 |  -9 |  8.5 | 0.0 |  8.5 |\n| 11 | 15 |  4 | -11 | 10.0 | 0.0 | 10.0 |\n| 12 | 24 | 12 | -12 | 11.5 | 0.0 | 11.5 |\n| 12 | 21 |  9 | -12 | 11.5 | 0.0 | 11.5 |\n| 13 | 15 |  2 | -13 | 13.0 | 0.0 | 13.0 |\n| 17 | 25 |  8 | -17 | 15.0 | 0.0 | 15.0 |\n| 17 | 29 | 12 | -17 | 15.0 | 0.0 | 15.0 |\n| 17 | 28 | 11 | -17 | 15.0 | 0.0 | 15.0 |\n| 21 | 36 | 15 | -21 | 17.0 | 0.0 | 17.0 |\n| 22 | 22 |  0 | -22 | 18.0 | 0.0 | 18.0 |\n| 23 | 39 | 16 | -23 | 19.5 | 0.0 | 19.5 |\n| 23 | 41 | 18 | -23 | 19.5 | 0.0 | 19.5 |\n| 24 | 24 |  0 | -24 | 21.5 | 0.0 | 21.5 |\n| 24 | 40 | 16 | -24 | 21.5 | 0.0 | 21.5 |\n| 29 | 39 | 10 | -29 | 24.0 | 0.0 | 24.0 |\n| 29 | 46 | 17 | -29 | 24.0 | 0.0 | 24.0 |\n| 29 | 31 |  2 | -29 | 24.0 | 0.0 | 24.0 |\n| 32 | 52 | 20 | -32 | 26.0 | 0.0 | 26.0 |\n| 33 | 50 | 17 | -33 | 27.0 | 0.0 | 27.0 |\n| 35 | 48 | 13 | -35 | 28.0 | 0.0 | 28.0 |\n| 36 | 52 | 16 | -36 | 29.0 | 0.0 | 29.0 |\n| 37 | 37 |  0 | -37 | 30.0 | 0.0 | 30.0 |\n| 40 | 49 |  9 | -40 | 31.5 | 0.0 | 31.5 |\n| 40 | 49 |  9 | -40 | 31.5 | 0.0 | 31.5 |\n| 43 | 49 |  6 | -43 | 33.0 | 0.0 | 33.0 |\n| 50 | 50 |  0 | -50 | 34.0 | 0.0 | 34.0 |\n| 51 | 55 |  4 | -51 | 35.0 | 0.0 | 35.0 |\n\n",
            "text/latex": "A data.frame: 35 × 7\n\\begin{tabular}{lllllll}\n \\textbar{}Dif\\textbar{} & Antes & Depois & Dif & Posto & Posto (+) & Posto (-)\\\\\n <dbl> & <dbl> & <dbl> & <dbl> & <dbl> & <dbl> & <dbl>\\\\\n\\hline\n\t  1 & 13 & 14 &   1 &  1.5 & 1.5 &  0.0\\\\\n\t  1 & 17 & 16 &  -1 &  1.5 & 0.0 &  1.5\\\\\n\t  2 & 17 & 19 &   2 &  3.0 & 3.0 &  0.0\\\\\n\t  4 & 12 & 16 &   4 &  4.5 & 4.5 &  0.0\\\\\n\t  4 & 14 & 18 &   4 &  4.5 & 4.5 &  0.0\\\\\n\t  5 & 22 & 17 &  -5 &  6.0 & 0.0 &  6.0\\\\\n\t  8 & 21 & 13 &  -8 &  7.0 & 0.0 &  7.0\\\\\n\t  9 & 10 & 19 &   9 &  8.5 & 8.5 &  0.0\\\\\n\t  9 & 23 & 14 &  -9 &  8.5 & 0.0 &  8.5\\\\\n\t 11 & 15 &  4 & -11 & 10.0 & 0.0 & 10.0\\\\\n\t 12 & 24 & 12 & -12 & 11.5 & 0.0 & 11.5\\\\\n\t 12 & 21 &  9 & -12 & 11.5 & 0.0 & 11.5\\\\\n\t 13 & 15 &  2 & -13 & 13.0 & 0.0 & 13.0\\\\\n\t 17 & 25 &  8 & -17 & 15.0 & 0.0 & 15.0\\\\\n\t 17 & 29 & 12 & -17 & 15.0 & 0.0 & 15.0\\\\\n\t 17 & 28 & 11 & -17 & 15.0 & 0.0 & 15.0\\\\\n\t 21 & 36 & 15 & -21 & 17.0 & 0.0 & 17.0\\\\\n\t 22 & 22 &  0 & -22 & 18.0 & 0.0 & 18.0\\\\\n\t 23 & 39 & 16 & -23 & 19.5 & 0.0 & 19.5\\\\\n\t 23 & 41 & 18 & -23 & 19.5 & 0.0 & 19.5\\\\\n\t 24 & 24 &  0 & -24 & 21.5 & 0.0 & 21.5\\\\\n\t 24 & 40 & 16 & -24 & 21.5 & 0.0 & 21.5\\\\\n\t 29 & 39 & 10 & -29 & 24.0 & 0.0 & 24.0\\\\\n\t 29 & 46 & 17 & -29 & 24.0 & 0.0 & 24.0\\\\\n\t 29 & 31 &  2 & -29 & 24.0 & 0.0 & 24.0\\\\\n\t 32 & 52 & 20 & -32 & 26.0 & 0.0 & 26.0\\\\\n\t 33 & 50 & 17 & -33 & 27.0 & 0.0 & 27.0\\\\\n\t 35 & 48 & 13 & -35 & 28.0 & 0.0 & 28.0\\\\\n\t 36 & 52 & 16 & -36 & 29.0 & 0.0 & 29.0\\\\\n\t 37 & 37 &  0 & -37 & 30.0 & 0.0 & 30.0\\\\\n\t 40 & 49 &  9 & -40 & 31.5 & 0.0 & 31.5\\\\\n\t 40 & 49 &  9 & -40 & 31.5 & 0.0 & 31.5\\\\\n\t 43 & 49 &  6 & -43 & 33.0 & 0.0 & 33.0\\\\\n\t 50 & 50 &  0 & -50 & 34.0 & 0.0 & 34.0\\\\\n\t 51 & 55 &  4 & -51 & 35.0 & 0.0 & 35.0\\\\\n\\end{tabular}\n",
            "text/plain": [
              "   |Dif| Antes Depois Dif Posto Posto (+) Posto (-)\n",
              "1   1    13    14       1  1.5  1.5        0.0     \n",
              "2   1    17    16      -1  1.5  0.0        1.5     \n",
              "3   2    17    19       2  3.0  3.0        0.0     \n",
              "4   4    12    16       4  4.5  4.5        0.0     \n",
              "5   4    14    18       4  4.5  4.5        0.0     \n",
              "6   5    22    17      -5  6.0  0.0        6.0     \n",
              "7   8    21    13      -8  7.0  0.0        7.0     \n",
              "8   9    10    19       9  8.5  8.5        0.0     \n",
              "9   9    23    14      -9  8.5  0.0        8.5     \n",
              "10 11    15     4     -11 10.0  0.0       10.0     \n",
              "11 12    24    12     -12 11.5  0.0       11.5     \n",
              "12 12    21     9     -12 11.5  0.0       11.5     \n",
              "13 13    15     2     -13 13.0  0.0       13.0     \n",
              "14 17    25     8     -17 15.0  0.0       15.0     \n",
              "15 17    29    12     -17 15.0  0.0       15.0     \n",
              "16 17    28    11     -17 15.0  0.0       15.0     \n",
              "17 21    36    15     -21 17.0  0.0       17.0     \n",
              "18 22    22     0     -22 18.0  0.0       18.0     \n",
              "19 23    39    16     -23 19.5  0.0       19.5     \n",
              "20 23    41    18     -23 19.5  0.0       19.5     \n",
              "21 24    24     0     -24 21.5  0.0       21.5     \n",
              "22 24    40    16     -24 21.5  0.0       21.5     \n",
              "23 29    39    10     -29 24.0  0.0       24.0     \n",
              "24 29    46    17     -29 24.0  0.0       24.0     \n",
              "25 29    31     2     -29 24.0  0.0       24.0     \n",
              "26 32    52    20     -32 26.0  0.0       26.0     \n",
              "27 33    50    17     -33 27.0  0.0       27.0     \n",
              "28 35    48    13     -35 28.0  0.0       28.0     \n",
              "29 36    52    16     -36 29.0  0.0       29.0     \n",
              "30 37    37     0     -37 30.0  0.0       30.0     \n",
              "31 40    49     9     -40 31.5  0.0       31.5     \n",
              "32 40    49     9     -40 31.5  0.0       31.5     \n",
              "33 43    49     6     -43 33.0  0.0       33.0     \n",
              "34 50    50     0     -50 34.0  0.0       34.0     \n",
              "35 51    55     4     -51 35.0  0.0       35.0     "
            ]
          },
          "metadata": {}
        }
      ],
      "source": [
        "# Criando a coluna Posto (-), mantendo somente os valores da coluna Posto cuja coluna Dif seja negativo\n",
        "\n",
        "fumo['Posto (-)'] <- apply(fumo[, c('Dif', 'Posto')], 1, function(x) if(x[1] < 0) x[2] else 0)\n",
        "fumo"
      ]
    },
    {
      "cell_type": "code",
      "execution_count": null,
      "metadata": {
        "id": "R2Nyk4E_os77",
        "scrolled": true,
        "colab": {
          "base_uri": "https://localhost:8080/",
          "height": 1000
        },
        "outputId": "d37b66ff-6944-43c7-928e-52e85ff4aaf2"
      },
      "outputs": [
        {
          "output_type": "display_data",
          "data": {
            "text/html": [
              "<table class=\"dataframe\">\n",
              "<caption>A data.frame: 35 × 6</caption>\n",
              "<thead>\n",
              "\t<tr><th scope=col>|Dif|</th><th scope=col>Antes</th><th scope=col>Depois</th><th scope=col>Dif</th><th scope=col>Posto (+)</th><th scope=col>Posto (-)</th></tr>\n",
              "\t<tr><th scope=col>&lt;dbl&gt;</th><th scope=col>&lt;dbl&gt;</th><th scope=col>&lt;dbl&gt;</th><th scope=col>&lt;dbl&gt;</th><th scope=col>&lt;dbl&gt;</th><th scope=col>&lt;dbl&gt;</th></tr>\n",
              "</thead>\n",
              "<tbody>\n",
              "\t<tr><td> 1</td><td>13</td><td>14</td><td>  1</td><td>1.5</td><td> 0.0</td></tr>\n",
              "\t<tr><td> 1</td><td>17</td><td>16</td><td> -1</td><td>0.0</td><td> 1.5</td></tr>\n",
              "\t<tr><td> 2</td><td>17</td><td>19</td><td>  2</td><td>3.0</td><td> 0.0</td></tr>\n",
              "\t<tr><td> 4</td><td>12</td><td>16</td><td>  4</td><td>4.5</td><td> 0.0</td></tr>\n",
              "\t<tr><td> 4</td><td>14</td><td>18</td><td>  4</td><td>4.5</td><td> 0.0</td></tr>\n",
              "\t<tr><td> 5</td><td>22</td><td>17</td><td> -5</td><td>0.0</td><td> 6.0</td></tr>\n",
              "\t<tr><td> 8</td><td>21</td><td>13</td><td> -8</td><td>0.0</td><td> 7.0</td></tr>\n",
              "\t<tr><td> 9</td><td>10</td><td>19</td><td>  9</td><td>8.5</td><td> 0.0</td></tr>\n",
              "\t<tr><td> 9</td><td>23</td><td>14</td><td> -9</td><td>0.0</td><td> 8.5</td></tr>\n",
              "\t<tr><td>11</td><td>15</td><td> 4</td><td>-11</td><td>0.0</td><td>10.0</td></tr>\n",
              "\t<tr><td>12</td><td>24</td><td>12</td><td>-12</td><td>0.0</td><td>11.5</td></tr>\n",
              "\t<tr><td>12</td><td>21</td><td> 9</td><td>-12</td><td>0.0</td><td>11.5</td></tr>\n",
              "\t<tr><td>13</td><td>15</td><td> 2</td><td>-13</td><td>0.0</td><td>13.0</td></tr>\n",
              "\t<tr><td>17</td><td>25</td><td> 8</td><td>-17</td><td>0.0</td><td>15.0</td></tr>\n",
              "\t<tr><td>17</td><td>29</td><td>12</td><td>-17</td><td>0.0</td><td>15.0</td></tr>\n",
              "\t<tr><td>17</td><td>28</td><td>11</td><td>-17</td><td>0.0</td><td>15.0</td></tr>\n",
              "\t<tr><td>21</td><td>36</td><td>15</td><td>-21</td><td>0.0</td><td>17.0</td></tr>\n",
              "\t<tr><td>22</td><td>22</td><td> 0</td><td>-22</td><td>0.0</td><td>18.0</td></tr>\n",
              "\t<tr><td>23</td><td>39</td><td>16</td><td>-23</td><td>0.0</td><td>19.5</td></tr>\n",
              "\t<tr><td>23</td><td>41</td><td>18</td><td>-23</td><td>0.0</td><td>19.5</td></tr>\n",
              "\t<tr><td>24</td><td>24</td><td> 0</td><td>-24</td><td>0.0</td><td>21.5</td></tr>\n",
              "\t<tr><td>24</td><td>40</td><td>16</td><td>-24</td><td>0.0</td><td>21.5</td></tr>\n",
              "\t<tr><td>29</td><td>39</td><td>10</td><td>-29</td><td>0.0</td><td>24.0</td></tr>\n",
              "\t<tr><td>29</td><td>46</td><td>17</td><td>-29</td><td>0.0</td><td>24.0</td></tr>\n",
              "\t<tr><td>29</td><td>31</td><td> 2</td><td>-29</td><td>0.0</td><td>24.0</td></tr>\n",
              "\t<tr><td>32</td><td>52</td><td>20</td><td>-32</td><td>0.0</td><td>26.0</td></tr>\n",
              "\t<tr><td>33</td><td>50</td><td>17</td><td>-33</td><td>0.0</td><td>27.0</td></tr>\n",
              "\t<tr><td>35</td><td>48</td><td>13</td><td>-35</td><td>0.0</td><td>28.0</td></tr>\n",
              "\t<tr><td>36</td><td>52</td><td>16</td><td>-36</td><td>0.0</td><td>29.0</td></tr>\n",
              "\t<tr><td>37</td><td>37</td><td> 0</td><td>-37</td><td>0.0</td><td>30.0</td></tr>\n",
              "\t<tr><td>40</td><td>49</td><td> 9</td><td>-40</td><td>0.0</td><td>31.5</td></tr>\n",
              "\t<tr><td>40</td><td>49</td><td> 9</td><td>-40</td><td>0.0</td><td>31.5</td></tr>\n",
              "\t<tr><td>43</td><td>49</td><td> 6</td><td>-43</td><td>0.0</td><td>33.0</td></tr>\n",
              "\t<tr><td>50</td><td>50</td><td> 0</td><td>-50</td><td>0.0</td><td>34.0</td></tr>\n",
              "\t<tr><td>51</td><td>55</td><td> 4</td><td>-51</td><td>0.0</td><td>35.0</td></tr>\n",
              "</tbody>\n",
              "</table>\n"
            ],
            "text/markdown": "\nA data.frame: 35 × 6\n\n| |Dif| &lt;dbl&gt; | Antes &lt;dbl&gt; | Depois &lt;dbl&gt; | Dif &lt;dbl&gt; | Posto (+) &lt;dbl&gt; | Posto (-) &lt;dbl&gt; |\n|---|---|---|---|---|---|\n|  1 | 13 | 14 |   1 | 1.5 |  0.0 |\n|  1 | 17 | 16 |  -1 | 0.0 |  1.5 |\n|  2 | 17 | 19 |   2 | 3.0 |  0.0 |\n|  4 | 12 | 16 |   4 | 4.5 |  0.0 |\n|  4 | 14 | 18 |   4 | 4.5 |  0.0 |\n|  5 | 22 | 17 |  -5 | 0.0 |  6.0 |\n|  8 | 21 | 13 |  -8 | 0.0 |  7.0 |\n|  9 | 10 | 19 |   9 | 8.5 |  0.0 |\n|  9 | 23 | 14 |  -9 | 0.0 |  8.5 |\n| 11 | 15 |  4 | -11 | 0.0 | 10.0 |\n| 12 | 24 | 12 | -12 | 0.0 | 11.5 |\n| 12 | 21 |  9 | -12 | 0.0 | 11.5 |\n| 13 | 15 |  2 | -13 | 0.0 | 13.0 |\n| 17 | 25 |  8 | -17 | 0.0 | 15.0 |\n| 17 | 29 | 12 | -17 | 0.0 | 15.0 |\n| 17 | 28 | 11 | -17 | 0.0 | 15.0 |\n| 21 | 36 | 15 | -21 | 0.0 | 17.0 |\n| 22 | 22 |  0 | -22 | 0.0 | 18.0 |\n| 23 | 39 | 16 | -23 | 0.0 | 19.5 |\n| 23 | 41 | 18 | -23 | 0.0 | 19.5 |\n| 24 | 24 |  0 | -24 | 0.0 | 21.5 |\n| 24 | 40 | 16 | -24 | 0.0 | 21.5 |\n| 29 | 39 | 10 | -29 | 0.0 | 24.0 |\n| 29 | 46 | 17 | -29 | 0.0 | 24.0 |\n| 29 | 31 |  2 | -29 | 0.0 | 24.0 |\n| 32 | 52 | 20 | -32 | 0.0 | 26.0 |\n| 33 | 50 | 17 | -33 | 0.0 | 27.0 |\n| 35 | 48 | 13 | -35 | 0.0 | 28.0 |\n| 36 | 52 | 16 | -36 | 0.0 | 29.0 |\n| 37 | 37 |  0 | -37 | 0.0 | 30.0 |\n| 40 | 49 |  9 | -40 | 0.0 | 31.5 |\n| 40 | 49 |  9 | -40 | 0.0 | 31.5 |\n| 43 | 49 |  6 | -43 | 0.0 | 33.0 |\n| 50 | 50 |  0 | -50 | 0.0 | 34.0 |\n| 51 | 55 |  4 | -51 | 0.0 | 35.0 |\n\n",
            "text/latex": "A data.frame: 35 × 6\n\\begin{tabular}{llllll}\n \\textbar{}Dif\\textbar{} & Antes & Depois & Dif & Posto (+) & Posto (-)\\\\\n <dbl> & <dbl> & <dbl> & <dbl> & <dbl> & <dbl>\\\\\n\\hline\n\t  1 & 13 & 14 &   1 & 1.5 &  0.0\\\\\n\t  1 & 17 & 16 &  -1 & 0.0 &  1.5\\\\\n\t  2 & 17 & 19 &   2 & 3.0 &  0.0\\\\\n\t  4 & 12 & 16 &   4 & 4.5 &  0.0\\\\\n\t  4 & 14 & 18 &   4 & 4.5 &  0.0\\\\\n\t  5 & 22 & 17 &  -5 & 0.0 &  6.0\\\\\n\t  8 & 21 & 13 &  -8 & 0.0 &  7.0\\\\\n\t  9 & 10 & 19 &   9 & 8.5 &  0.0\\\\\n\t  9 & 23 & 14 &  -9 & 0.0 &  8.5\\\\\n\t 11 & 15 &  4 & -11 & 0.0 & 10.0\\\\\n\t 12 & 24 & 12 & -12 & 0.0 & 11.5\\\\\n\t 12 & 21 &  9 & -12 & 0.0 & 11.5\\\\\n\t 13 & 15 &  2 & -13 & 0.0 & 13.0\\\\\n\t 17 & 25 &  8 & -17 & 0.0 & 15.0\\\\\n\t 17 & 29 & 12 & -17 & 0.0 & 15.0\\\\\n\t 17 & 28 & 11 & -17 & 0.0 & 15.0\\\\\n\t 21 & 36 & 15 & -21 & 0.0 & 17.0\\\\\n\t 22 & 22 &  0 & -22 & 0.0 & 18.0\\\\\n\t 23 & 39 & 16 & -23 & 0.0 & 19.5\\\\\n\t 23 & 41 & 18 & -23 & 0.0 & 19.5\\\\\n\t 24 & 24 &  0 & -24 & 0.0 & 21.5\\\\\n\t 24 & 40 & 16 & -24 & 0.0 & 21.5\\\\\n\t 29 & 39 & 10 & -29 & 0.0 & 24.0\\\\\n\t 29 & 46 & 17 & -29 & 0.0 & 24.0\\\\\n\t 29 & 31 &  2 & -29 & 0.0 & 24.0\\\\\n\t 32 & 52 & 20 & -32 & 0.0 & 26.0\\\\\n\t 33 & 50 & 17 & -33 & 0.0 & 27.0\\\\\n\t 35 & 48 & 13 & -35 & 0.0 & 28.0\\\\\n\t 36 & 52 & 16 & -36 & 0.0 & 29.0\\\\\n\t 37 & 37 &  0 & -37 & 0.0 & 30.0\\\\\n\t 40 & 49 &  9 & -40 & 0.0 & 31.5\\\\\n\t 40 & 49 &  9 & -40 & 0.0 & 31.5\\\\\n\t 43 & 49 &  6 & -43 & 0.0 & 33.0\\\\\n\t 50 & 50 &  0 & -50 & 0.0 & 34.0\\\\\n\t 51 & 55 &  4 & -51 & 0.0 & 35.0\\\\\n\\end{tabular}\n",
            "text/plain": [
              "   |Dif| Antes Depois Dif Posto (+) Posto (-)\n",
              "1   1    13    14       1 1.5        0.0     \n",
              "2   1    17    16      -1 0.0        1.5     \n",
              "3   2    17    19       2 3.0        0.0     \n",
              "4   4    12    16       4 4.5        0.0     \n",
              "5   4    14    18       4 4.5        0.0     \n",
              "6   5    22    17      -5 0.0        6.0     \n",
              "7   8    21    13      -8 0.0        7.0     \n",
              "8   9    10    19       9 8.5        0.0     \n",
              "9   9    23    14      -9 0.0        8.5     \n",
              "10 11    15     4     -11 0.0       10.0     \n",
              "11 12    24    12     -12 0.0       11.5     \n",
              "12 12    21     9     -12 0.0       11.5     \n",
              "13 13    15     2     -13 0.0       13.0     \n",
              "14 17    25     8     -17 0.0       15.0     \n",
              "15 17    29    12     -17 0.0       15.0     \n",
              "16 17    28    11     -17 0.0       15.0     \n",
              "17 21    36    15     -21 0.0       17.0     \n",
              "18 22    22     0     -22 0.0       18.0     \n",
              "19 23    39    16     -23 0.0       19.5     \n",
              "20 23    41    18     -23 0.0       19.5     \n",
              "21 24    24     0     -24 0.0       21.5     \n",
              "22 24    40    16     -24 0.0       21.5     \n",
              "23 29    39    10     -29 0.0       24.0     \n",
              "24 29    46    17     -29 0.0       24.0     \n",
              "25 29    31     2     -29 0.0       24.0     \n",
              "26 32    52    20     -32 0.0       26.0     \n",
              "27 33    50    17     -33 0.0       27.0     \n",
              "28 35    48    13     -35 0.0       28.0     \n",
              "29 36    52    16     -36 0.0       29.0     \n",
              "30 37    37     0     -37 0.0       30.0     \n",
              "31 40    49     9     -40 0.0       31.5     \n",
              "32 40    49     9     -40 0.0       31.5     \n",
              "33 43    49     6     -43 0.0       33.0     \n",
              "34 50    50     0     -50 0.0       34.0     \n",
              "35 51    55     4     -51 0.0       35.0     "
            ]
          },
          "metadata": {}
        }
      ],
      "source": [
        "# Removendo do df a coluna Posto\n",
        "\n",
        "fumo$Posto <- NULL\n",
        "fumo"
      ]
    },
    {
      "cell_type": "markdown",
      "metadata": {
        "id": "QrhSJfAipsmh"
      },
      "source": [
        "### Obter $T$\n",
        "\n",
        "## $T$ = menor das somas de postos de mesmo sinal"
      ]
    },
    {
      "cell_type": "code",
      "execution_count": null,
      "metadata": {
        "id": "TTWy-3OQpsmh",
        "colab": {
          "base_uri": "https://localhost:8080/",
          "height": 34
        },
        "outputId": "505814e1-bcfb-4238-fb30-36e5c93de75d"
      },
      "outputs": [
        {
          "output_type": "display_data",
          "data": {
            "text/html": [
              "22"
            ],
            "text/markdown": "22",
            "text/latex": "22",
            "text/plain": [
              "[1] 22"
            ]
          },
          "metadata": {}
        }
      ],
      "source": [
        "T <- min( sum( fumo['Posto (+)'] ), sum( fumo['Posto (-)'] ) )\n",
        "T"
      ]
    },
    {
      "cell_type": "markdown",
      "metadata": {
        "id": "3y4Tn1y4psmi"
      },
      "source": [
        "### Obter $\\mu_T$\n",
        "\n",
        "# $$\\mu_T = \\frac{n(n+1)}{4}$$\n"
      ]
    },
    {
      "cell_type": "code",
      "execution_count": null,
      "metadata": {
        "id": "0KhV5ph6psmi",
        "colab": {
          "base_uri": "https://localhost:8080/",
          "height": 34
        },
        "outputId": "7ddaadfd-e987-4ef4-a280-81470fcebc37"
      },
      "outputs": [
        {
          "output_type": "display_data",
          "data": {
            "text/html": [
              "315"
            ],
            "text/markdown": "315",
            "text/latex": "315",
            "text/plain": [
              "[1] 315"
            ]
          },
          "metadata": {}
        }
      ],
      "source": [
        "mu_T <- ( n * ( n + 1 ) ) / 4\n",
        "mu_T"
      ]
    },
    {
      "cell_type": "markdown",
      "metadata": {
        "id": "ZqFb-m08psmj"
      },
      "source": [
        "### Obter $\\sigma_T$\n",
        "\n",
        "# $$\\sigma_T = \\sqrt{\\frac{n(n + 1)(2n + 1)}{24}}$$"
      ]
    },
    {
      "cell_type": "code",
      "execution_count": null,
      "metadata": {
        "id": "c6dypGFSpsmj",
        "colab": {
          "base_uri": "https://localhost:8080/",
          "height": 34
        },
        "outputId": "2b1f450d-c882-438d-cc79-981dbb09db09"
      },
      "outputs": [
        {
          "output_type": "display_data",
          "data": {
            "text/html": [
              "61.0532554414586"
            ],
            "text/markdown": "61.0532554414586",
            "text/latex": "61.0532554414586",
            "text/plain": [
              "[1] 61.05326"
            ]
          },
          "metadata": {}
        }
      ],
      "source": [
        "sigma_T <- sqrt( ( n * ( n + 1 ) * ( ( 2 * n ) + 1 ) ) / 24 )\n",
        "sigma_T"
      ]
    },
    {
      "cell_type": "markdown",
      "metadata": {
        "id": "qEk2CUKApsmk"
      },
      "source": [
        "### Obter $Z_{teste}$\n",
        "\n",
        "# $$Z = \\frac{T - \\mu_T}{\\sigma_T}$$"
      ]
    },
    {
      "cell_type": "code",
      "execution_count": null,
      "metadata": {
        "id": "KqPQgbBEpsmk",
        "colab": {
          "base_uri": "https://localhost:8080/",
          "height": 34
        },
        "outputId": "9e4f4111-84f7-4951-dd8c-9794248c6cff"
      },
      "outputs": [
        {
          "output_type": "display_data",
          "data": {
            "text/html": [
              "-4.7990888918437"
            ],
            "text/markdown": "-4.7990888918437",
            "text/latex": "-4.7990888918437",
            "text/plain": [
              "[1] -4.799089"
            ]
          },
          "metadata": {}
        }
      ],
      "source": [
        "Z <- ( T - mu_T ) / sigma_T\n",
        "Z"
      ]
    },
    {
      "cell_type": "markdown",
      "metadata": {
        "id": "iMpU26IZpsmm"
      },
      "source": [
        "![Estatística-Teste](https://caelum-online-public.s3.amazonaws.com/1229-estatistica-parte3/01/img021.png)"
      ]
    },
    {
      "cell_type": "markdown",
      "metadata": {
        "id": "XFgoaLzSpsmm"
      },
      "source": [
        "---"
      ]
    },
    {
      "cell_type": "markdown",
      "metadata": {
        "id": "YYGhG-lSpsmm"
      },
      "source": [
        "### **Passo 5** - Aceitação ou rejeição da hipótese nula"
      ]
    },
    {
      "cell_type": "markdown",
      "metadata": {
        "id": "pDOdx-Vqpsmm"
      },
      "source": [
        "<img src='https://caelum-online-public.s3.amazonaws.com/1229-estatistica-parte3/01/img022.png' width='80%'>"
      ]
    },
    {
      "cell_type": "markdown",
      "metadata": {
        "id": "ODKOD-rkpsmm"
      },
      "source": [
        "### <font color='red'>Critério do valor crítico</font>\n",
        "\n",
        "> ### Rejeitar $H_0$ se $Z \\leq -z_{\\alpha / 2}$ ou se $Z \\geq z_{\\alpha / 2}$"
      ]
    },
    {
      "cell_type": "code",
      "execution_count": null,
      "metadata": {
        "id": "Gmp8dB6Apsmm",
        "colab": {
          "base_uri": "https://localhost:8080/",
          "height": 34
        },
        "outputId": "ceef7ded-4f22-4f17-f344-a83e68a045e3"
      },
      "outputs": [
        {
          "output_type": "display_data",
          "data": {
            "text/html": [
              "TRUE"
            ],
            "text/markdown": "TRUE",
            "text/latex": "TRUE",
            "text/plain": [
              "[1] TRUE"
            ]
          },
          "metadata": {}
        }
      ],
      "source": [
        "Z <= -z_alpha_2"
      ]
    },
    {
      "cell_type": "code",
      "execution_count": null,
      "metadata": {
        "id": "E9jxoexkpsmn",
        "colab": {
          "base_uri": "https://localhost:8080/",
          "height": 34
        },
        "outputId": "6f2ea4e5-c928-4014-b006-1c3f51b1ab06"
      },
      "outputs": [
        {
          "output_type": "display_data",
          "data": {
            "text/html": [
              "FALSE"
            ],
            "text/markdown": "FALSE",
            "text/latex": "FALSE",
            "text/plain": [
              "[1] FALSE"
            ]
          },
          "metadata": {}
        }
      ],
      "source": [
        "Z >= z_alpha_2"
      ]
    },
    {
      "cell_type": "markdown",
      "metadata": {
        "id": "n0gtzn53psmo"
      },
      "source": [
        "### <font color='green'>Conclusão: Rejeitamos a hipótese de que não existe diferença entre os grupos, isto é, existe uma diferença entre as médias de cigarros fumados pelos pacientes antes e depois do tratamento. E como é possível verificar através das médias de cigarros fumados por dia antes (31.86) e depois (11.2) do tratamento, podemos concluir que o tratamento apresentou resultado satisfatório.</font>"
      ]
    },
    {
      "cell_type": "markdown",
      "source": [
        "## Exercício - 10"
      ],
      "metadata": {
        "id": "itP53aUvt_xW"
      }
    },
    {
      "cell_type": "markdown",
      "source": [
        "Desconfiado da eficiência dos cursos e materiais de estudo on-line da Alura, um professor resolveu realizar um teste com um grupo de 30 alunos de sua classe. Para isso, ele submeteu esses alunos a duas etapas distintas e logo depois de cada etapa, aplicou uma avaliação. Na etapa inicial, foram oferecidas aulas normais, sem a utilização do material de apoio da Alura. Na segunda etapa, também foram oferecidas aulas normais, mas com a utilização do material de apoio da Alura. As notas obtidas pelos alunos nas duas etapas estão no data frame abaixo:\n",
        "\n",
        "alunos <- data.frame(\n",
        "    Sem_Alura = c(4, 3, 5, 4, 8, 6, 5, 7, 6, 7, 8, 7, 3, 7, 4, 7, 5, 7, 5, 7, 6, 4, 3, 3, 6, 3, 7, 4, 6, 6),\n",
        "    Com_Alura = c(8, 6, 10, 3, 9, 5, 8, 5, 4, 10, 5, 9, 8, 5, 10, 8, 7, 9, 9, 5, 5, 7, 8, 9, 8, 5, 5, 8, 5, 9)\n",
        ")\n",
        "\n",
        "Selecione a alternativa que apresenta o resultado do teste não paramétrico de Wilcoxon aplicado pelo professor (menor das somas de postos de mesmo sinal T, estatística de teste Z e decisão do teste). Considere um nível de significância de 10%."
      ],
      "metadata": {
        "id": "PGRwwkKFuAEX"
      }
    },
    {
      "cell_type": "code",
      "source": [
        "alunos_ex10 <- data.frame(\n",
        "    Sem_Alura = c(4, 3, 5, 4, 8, 6, 5, 7, 6, 7, 8, 7, 3, 7, 4, 7, 5, 7, 5, 7, 6, 4, 3, 3, 6, 3, 7, 4, 6, 6),\n",
        "    Com_Alura = c(8, 6, 10, 3, 9, 5, 8, 5, 4, 10, 5, 9, 8, 5, 10, 8, 7, 9, 9, 5, 5, 7, 8, 9, 8, 5, 5, 8, 5, 9)\n",
        ")"
      ],
      "metadata": {
        "id": "YsZvobUMuAZO"
      },
      "execution_count": null,
      "outputs": []
    },
    {
      "cell_type": "code",
      "source": [
        "head(alunos_ex10)"
      ],
      "metadata": {
        "colab": {
          "base_uri": "https://localhost:8080/",
          "height": 286
        },
        "id": "nVjJHuB_uNPT",
        "outputId": "5a9d80b6-8d2b-473a-8dc6-ddb3405a41cf"
      },
      "execution_count": null,
      "outputs": [
        {
          "output_type": "display_data",
          "data": {
            "text/html": [
              "<table class=\"dataframe\">\n",
              "<caption>A data.frame: 6 × 2</caption>\n",
              "<thead>\n",
              "\t<tr><th></th><th scope=col>Sem_Alura</th><th scope=col>Com_Alura</th></tr>\n",
              "\t<tr><th></th><th scope=col>&lt;dbl&gt;</th><th scope=col>&lt;dbl&gt;</th></tr>\n",
              "</thead>\n",
              "<tbody>\n",
              "\t<tr><th scope=row>1</th><td>4</td><td> 8</td></tr>\n",
              "\t<tr><th scope=row>2</th><td>3</td><td> 6</td></tr>\n",
              "\t<tr><th scope=row>3</th><td>5</td><td>10</td></tr>\n",
              "\t<tr><th scope=row>4</th><td>4</td><td> 3</td></tr>\n",
              "\t<tr><th scope=row>5</th><td>8</td><td> 9</td></tr>\n",
              "\t<tr><th scope=row>6</th><td>6</td><td> 5</td></tr>\n",
              "</tbody>\n",
              "</table>\n"
            ],
            "text/markdown": "\nA data.frame: 6 × 2\n\n| <!--/--> | Sem_Alura &lt;dbl&gt; | Com_Alura &lt;dbl&gt; |\n|---|---|---|\n| 1 | 4 |  8 |\n| 2 | 3 |  6 |\n| 3 | 5 | 10 |\n| 4 | 4 |  3 |\n| 5 | 8 |  9 |\n| 6 | 6 |  5 |\n\n",
            "text/latex": "A data.frame: 6 × 2\n\\begin{tabular}{r|ll}\n  & Sem\\_Alura & Com\\_Alura\\\\\n  & <dbl> & <dbl>\\\\\n\\hline\n\t1 & 4 &  8\\\\\n\t2 & 3 &  6\\\\\n\t3 & 5 & 10\\\\\n\t4 & 4 &  3\\\\\n\t5 & 8 &  9\\\\\n\t6 & 6 &  5\\\\\n\\end{tabular}\n",
            "text/plain": [
              "  Sem_Alura Com_Alura\n",
              "1 4          8       \n",
              "2 3          6       \n",
              "3 5         10       \n",
              "4 4          3       \n",
              "5 8          9       \n",
              "6 6          5       "
            ]
          },
          "metadata": {}
        }
      ]
    },
    {
      "cell_type": "code",
      "source": [
        "significancia_ex10 <- 0.1\n",
        "confianca_ex10 <- 1 - significancia_ex10\n",
        "n_ex10 <- 30\n",
        "\n",
        "probabilidade_ex10 <- (0.5 + (confianca_ex10 / 2))\n",
        "z_alpha_2_ex10 <- qnorm(probabilidade_ex10)\n",
        "\n",
        "alunos_ex10['Dif'] <- alunos_ex10$Com_Alura - alunos_ex10$Sem_Alura"
      ],
      "metadata": {
        "id": "45koPHyEvB0K"
      },
      "execution_count": null,
      "outputs": []
    },
    {
      "cell_type": "code",
      "source": [
        "alunos_ex10['|Dif|'] <- abs(alunos_ex10['Dif'])"
      ],
      "metadata": {
        "id": "zFviYUtrvO8H"
      },
      "execution_count": null,
      "outputs": []
    },
    {
      "cell_type": "code",
      "source": [
        "alunos_ex10 <- alunos_ex10[order(alunos_ex10$'|Dif|'),]"
      ],
      "metadata": {
        "id": "JXAbAQCZvRoR"
      },
      "execution_count": null,
      "outputs": []
    },
    {
      "cell_type": "code",
      "source": [
        "alunos_ex10['Posto'] <- seq(1, nrow(alunos_ex10))"
      ],
      "metadata": {
        "id": "Kyo9IbZCvT9a"
      },
      "execution_count": null,
      "outputs": []
    },
    {
      "cell_type": "code",
      "source": [
        "posto_ex10 <- aggregate(x = alunos_ex10$'Posto', by = list('|Dif|' = alunos_ex10$'|Dif|'), FUN = mean)"
      ],
      "metadata": {
        "id": "Euf-wig2vVyS"
      },
      "execution_count": null,
      "outputs": []
    },
    {
      "cell_type": "code",
      "source": [
        "colnames(posto_ex10) <- c('|Dif|', 'Posto')"
      ],
      "metadata": {
        "id": "5PYR4WmgvYg3"
      },
      "execution_count": null,
      "outputs": []
    },
    {
      "cell_type": "code",
      "source": [
        "alunos_ex10$Posto <- NULL"
      ],
      "metadata": {
        "id": "GGVe5Gbxva1G"
      },
      "execution_count": null,
      "outputs": []
    },
    {
      "cell_type": "code",
      "source": [
        "alunos_ex10 <- merge(x = alunos_ex10, y = posto_ex10, by = '|Dif|', all.x = TRUE)"
      ],
      "metadata": {
        "id": "DhAQJKMAvdf-"
      },
      "execution_count": null,
      "outputs": []
    },
    {
      "cell_type": "code",
      "source": [
        "alunos_ex10['Posto (+)'] <- apply(alunos_ex10[, c('Dif', 'Posto')], 1, function(x) if(x[1] > 0) x[2] else 0)"
      ],
      "metadata": {
        "id": "7bhh-qCpvfxv"
      },
      "execution_count": null,
      "outputs": []
    },
    {
      "cell_type": "code",
      "source": [
        "alunos_ex10['Posto (-)'] <- apply(alunos_ex10[, c('Dif', 'Posto')], 1, function(x) if(x[1] < 0) x[2] else 0)"
      ],
      "metadata": {
        "id": "BpPVoIqev6rj"
      },
      "execution_count": null,
      "outputs": []
    },
    {
      "cell_type": "code",
      "source": [
        "alunos_ex10$Posto <- NULL"
      ],
      "metadata": {
        "id": "XGa-hOvBv8UF"
      },
      "execution_count": null,
      "outputs": []
    },
    {
      "cell_type": "code",
      "source": [
        "T_ex10 <- min(sum(alunos_ex10['Posto (+)']), sum(alunos_ex10['Posto (-)']))\n",
        "T_ex10"
      ],
      "metadata": {
        "colab": {
          "base_uri": "https://localhost:8080/",
          "height": 34
        },
        "id": "_wialbpov-5t",
        "outputId": "658b2321-ecf1-4dd4-8049-af27b89300cd"
      },
      "execution_count": null,
      "outputs": [
        {
          "output_type": "display_data",
          "data": {
            "text/html": [
              "91"
            ],
            "text/markdown": "91",
            "text/latex": "91",
            "text/plain": [
              "[1] 91"
            ]
          },
          "metadata": {}
        }
      ]
    },
    {
      "cell_type": "code",
      "source": [
        "sigma_T_ex10 <- sqrt((n_ex10 * (n_ex10 + 1) * ((2 * n_ex10) + 1)) / 24)"
      ],
      "metadata": {
        "id": "gy_z3Cu3v_3f"
      },
      "execution_count": null,
      "outputs": []
    },
    {
      "cell_type": "code",
      "source": [
        "mu_T_ex10 <- (n_ex10 * (n_ex10 + 1)) / 4"
      ],
      "metadata": {
        "id": "-x8x7PtywL0B"
      },
      "execution_count": null,
      "outputs": []
    },
    {
      "cell_type": "code",
      "source": [
        "Z_ex10 <- (T_ex10 - mu_T_ex10) / sigma_T_ex10\n",
        "Z_ex10"
      ],
      "metadata": {
        "colab": {
          "base_uri": "https://localhost:8080/",
          "height": 34
        },
        "id": "hIOcitzowCC_",
        "outputId": "0a538829-3b62-46a5-bd42-267a31917b9c"
      },
      "execution_count": null,
      "outputs": [
        {
          "output_type": "display_data",
          "data": {
            "text/html": [
              "-2.91042001871752"
            ],
            "text/markdown": "-2.91042001871752",
            "text/latex": "-2.91042001871752",
            "text/plain": [
              "[1] -2.91042"
            ]
          },
          "metadata": {}
        }
      ]
    },
    {
      "cell_type": "code",
      "source": [
        "if (Z_ex10 <= -z_alpha_2 || Z >= z_alpha_2) {\n",
        "    'Rejeitar H0'\n",
        "} else {\n",
        "    'Aceitar H0'\n",
        "}"
      ],
      "metadata": {
        "colab": {
          "base_uri": "https://localhost:8080/",
          "height": 34
        },
        "id": "HdSEbXfFwOWj",
        "outputId": "742a60da-8037-49a2-abe8-baad167d3c19"
      },
      "execution_count": null,
      "outputs": [
        {
          "output_type": "display_data",
          "data": {
            "text/html": [
              "'Rejeitar H0'"
            ],
            "text/markdown": "'Rejeitar H0'",
            "text/latex": "'Rejeitar H0'",
            "text/plain": [
              "[1] \"Rejeitar H0\""
            ]
          },
          "metadata": {}
        }
      ]
    },
    {
      "cell_type": "markdown",
      "metadata": {
        "id": "8bP36mQ-psmp"
      },
      "source": [
        "### <font color='red'>Critério do valor $p$</font>\n",
        "\n",
        "> ### Rejeitar $H_0$ se o valor $p\\leq\\alpha$"
      ]
    },
    {
      "cell_type": "markdown",
      "metadata": {
        "id": "H8kFeqh1psmp"
      },
      "source": [
        "#### <font color=red>Documentações:\n",
        "\n",
        "- [**wilcox.test**](https://www.rdocumentation.org/packages/stats/versions/3.6.1/topics/wilcox.test)"
      ]
    },
    {
      "cell_type": "code",
      "execution_count": null,
      "metadata": {
        "id": "bgWrxnBmpsmp",
        "colab": {
          "base_uri": "https://localhost:8080/",
          "height": 156
        },
        "outputId": "e57b63ab-e2f8-4faa-fe82-483684014120"
      },
      "outputs": [
        {
          "output_type": "stream",
          "name": "stderr",
          "text": [
            "Warning message in wilcox.test.default(fumo$Depois, fumo$Antes, paired = T, correct = F):\n",
            "“cannot compute exact p-value with ties”\n"
          ]
        },
        {
          "output_type": "display_data",
          "data": {
            "text/plain": [
              "\n",
              "\tWilcoxon signed rank test\n",
              "\n",
              "data:  fumo$Depois and fumo$Antes\n",
              "V = 22, p-value = 1.584e-06\n",
              "alternative hypothesis: true location shift is not equal to 0\n"
            ]
          },
          "metadata": {}
        }
      ],
      "source": [
        "resultado <- wilcox.test(fumo$Depois, fumo$Antes, paired = T, correct = F)\n",
        "resultado"
      ]
    },
    {
      "cell_type": "code",
      "execution_count": null,
      "metadata": {
        "id": "usC4NQtt3u6s",
        "colab": {
          "base_uri": "https://localhost:8080/",
          "height": 34
        },
        "outputId": "d678f91f-d5d5-452c-8383-4986f7591a6c"
      },
      "outputs": [
        {
          "output_type": "display_data",
          "data": {
            "text/html": [
              "1.58431001850587e-06"
            ],
            "text/markdown": "1.58431001850587e-06",
            "text/latex": "1.58431001850587e-06",
            "text/plain": [
              "[1] 1.58431e-06"
            ]
          },
          "metadata": {}
        }
      ],
      "source": [
        "# Utilizando a função wilcox.test obtemos de forma direta o p-value para comparação com o valor de alpha=significancia\n",
        "\n",
        "p_valor <- resultado$p.value\n",
        "p_valor"
      ]
    },
    {
      "cell_type": "code",
      "execution_count": null,
      "metadata": {
        "id": "Qk13I21vpsmq",
        "scrolled": true,
        "colab": {
          "base_uri": "https://localhost:8080/",
          "height": 34
        },
        "outputId": "05e7388d-4185-44c0-9b63-923c809ebfe8"
      },
      "outputs": [
        {
          "output_type": "display_data",
          "data": {
            "text/html": [
              "TRUE"
            ],
            "text/markdown": "TRUE",
            "text/latex": "TRUE",
            "text/plain": [
              "[1] TRUE"
            ]
          },
          "metadata": {}
        }
      ],
      "source": [
        "p_valor <= significancia"
      ]
    },
    {
      "cell_type": "markdown",
      "source": [
        "## Exercício - 11"
      ],
      "metadata": {
        "id": "qUtK_E3hxJ5M"
      }
    },
    {
      "cell_type": "markdown",
      "source": [
        "Uma fábrica de rações para porcos gostaria de verificar se a adição de um determinado composto químico em um de seus produtos teria um efeito significativo no ganho de peso dos animais. Para isso, selecionou uma amostra de 35 porcos e testou este mesmo grupo em duas situações distintas. No primeiro teste, alimentou os suínos exclusivamente com a ração sem o composto por uma semana e registrou a variação de peso de cada animal do grupo. No segundo teste, alimentou o mesmo grupo de animais com a ração com o novo composto, por mais uma semana, e registrou novamente a variação dos pesos.\n",
        "\n",
        "Os dados de variação de peso de cada suíno testado estão no data frame abaixo (em gramas):\n",
        "\n",
        "pesos <- data.frame(\n",
        "    Sem_Composto = c(180, -39, 325, 303, 127, 149, 271, 163, 287, 255, 398, 324, 335, 421, \n",
        "        216, 274, 373, 116, 197, -37, 321, 431, 112, 304, 417, 362, 51, 187, 195, 304, 202, 158, 105, 90, 245),\n",
        "    Com_Composto = c(484, 187, 442, 108, 488, 283, 286, 419, 240, 266, 198, 130, 484, 424, \n",
        "        145, 133, 282, 386, 408, 290, 429, 386, 318, 390, 347, 442, 440, 356, 517, 454, 401, 108, 228, 471, 495)\n",
        ")\n",
        "\n",
        "Selecione a alternativa que apresenta o p-valor e a decisão correta do teste de Wilcoxon sobre a diferença entre as médias sem e com o composto na ração. Utilize a função wilcox.test() do R e considere um nível de significância de 5%."
      ],
      "metadata": {
        "id": "uu-yeilpxKRG"
      }
    },
    {
      "cell_type": "code",
      "source": [
        "pesos_ex11 <- data.frame(\n",
        "    Sem_Composto = c(180, -39, 325, 303, 127, 149, 271, 163, 287, 255, 398, 324, 335, 421, \n",
        "        216, 274, 373, 116, 197, -37, 321, 431, 112, 304, 417, 362, 51, 187, 195, 304, 202, 158, 105, 90, 245),\n",
        "    Com_Composto = c(484, 187, 442, 108, 488, 283, 286, 419, 240, 266, 198, 130, 484, 424, \n",
        "        145, 133, 282, 386, 408, 290, 429, 386, 318, 390, 347, 442, 440, 356, 517, 454, 401, 108, 228, 471, 495)\n",
        ")"
      ],
      "metadata": {
        "id": "HQCZLRByxKmW"
      },
      "execution_count": null,
      "outputs": []
    },
    {
      "cell_type": "code",
      "source": [
        "significancia_ex11 <- 0.05"
      ],
      "metadata": {
        "id": "-M5_r4QXxTVZ"
      },
      "execution_count": null,
      "outputs": []
    },
    {
      "cell_type": "code",
      "source": [
        "resultado_ex11 <- wilcox.test(pesos_ex11$Sem_Composto, pesos_ex11$Com_Composto, paired = T, correct = F)\n",
        "resultado_ex11"
      ],
      "metadata": {
        "colab": {
          "base_uri": "https://localhost:8080/",
          "height": 121
        },
        "id": "oj22gVdCxZGr",
        "outputId": "856dca45-15b1-4a3c-b494-9c6fdb737600"
      },
      "execution_count": null,
      "outputs": [
        {
          "output_type": "display_data",
          "data": {
            "text/plain": [
              "\n",
              "\tWilcoxon signed rank exact test\n",
              "\n",
              "data:  pesos_ex11$Sem_Composto and pesos_ex11$Com_Composto\n",
              "V = 121, p-value = 0.001027\n",
              "alternative hypothesis: true location shift is not equal to 0\n"
            ]
          },
          "metadata": {}
        }
      ]
    },
    {
      "cell_type": "code",
      "source": [
        "p_valor_ex11 <- resultado_ex11$p.value\n",
        "p_valor_ex11"
      ],
      "metadata": {
        "colab": {
          "base_uri": "https://localhost:8080/",
          "height": 34
        },
        "id": "so6XzGIaxmG2",
        "outputId": "bf73181f-022c-4e13-81e6-87288eb287cf"
      },
      "execution_count": null,
      "outputs": [
        {
          "output_type": "display_data",
          "data": {
            "text/html": [
              "0.00102708011399955"
            ],
            "text/markdown": "0.00102708011399955",
            "text/latex": "0.00102708011399955",
            "text/plain": [
              "[1] 0.00102708"
            ]
          },
          "metadata": {}
        }
      ]
    },
    {
      "cell_type": "code",
      "source": [
        "p_valor_ex11 <= significancia_ex11"
      ],
      "metadata": {
        "colab": {
          "base_uri": "https://localhost:8080/",
          "height": 34
        },
        "id": "Ta9QLrYlxqrL",
        "outputId": "0e77bdba-12fd-4f5b-b792-681f8c17dd82"
      },
      "execution_count": null,
      "outputs": [
        {
          "output_type": "display_data",
          "data": {
            "text/html": [
              "TRUE"
            ],
            "text/markdown": "TRUE",
            "text/latex": "TRUE",
            "text/plain": [
              "[1] TRUE"
            ]
          },
          "metadata": {}
        }
      ]
    }
  ],
  "metadata": {
    "colab": {
      "provenance": []
    },
    "kernelspec": {
      "display_name": "R",
      "language": "R",
      "name": "ir"
    },
    "language_info": {
      "codemirror_mode": "r",
      "file_extension": ".r",
      "mimetype": "text/x-r-source",
      "name": "R",
      "pygments_lexer": "r",
      "version": "3.6.1"
    }
  },
  "nbformat": 4,
  "nbformat_minor": 0
}