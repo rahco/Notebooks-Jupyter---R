{
  "cells": [
    {
      "cell_type": "markdown",
      "metadata": {
        "id": "WvMflodMjQKe"
      },
      "source": [
        "# <font color=green size=10>CURSO DE ESTATÍSTICA - PARTE 4</font>\n",
        "***\n",
        "\n",
        "## Trabalho sobre correlação e regressão\n",
        "\n",
        "Utilizando os conhecimentos adquiridos em nosso treinamento realize a análise de regressão proposta abaixo.\n",
        "\n",
        "Siga o roteiro proposto e vá completando as células vazias."
      ]
    },
    {
      "cell_type": "markdown",
      "metadata": {
        "id": "cVgsZ_E3jQKg"
      },
      "source": [
        "# <font color=green>DATASET DO PROJETO</font>\n",
        "***"
      ]
    },
    {
      "cell_type": "markdown",
      "metadata": {
        "id": "I4293oHyZTNh"
      },
      "source": [
        "### Fonte: https://www.kaggle.com/dongeorge/beer-consumption-sao-paulo\n",
        "\n",
        "### Descrição:\n",
        "A cerveja é uma das bebidas mais democráticas e consumidas no mundo. Não sem razão, é perfeito para quase todas as situações, desde o happy hour até grandes festas de casamento.\n",
        "\n",
        "Os dados (amostra) foram coletados em São Paulo - Brasil, em uma área universitária, onde existem algumas festas com grupos de alunos de 18 a 28 anos de idade (média).\n",
        "\n",
        "### Dados:\n",
        "- **X** - Temperatura Média (°C)\n",
        "- **Y** - Consumo de Cerveja (litros)\n"
      ]
    },
    {
      "cell_type": "markdown",
      "metadata": {
        "id": "ZIqLOffNTg1Y"
      },
      "source": [
        "---"
      ]
    },
    {
      "cell_type": "markdown",
      "metadata": {
        "id": "8Rw70V6ojQKk"
      },
      "source": [
        "### Utilize a célula abaixo para carregar os pacotes e/ou fazer configurações para o projeto"
      ]
    },
    {
      "cell_type": "code",
      "execution_count": null,
      "metadata": {
        "id": "fcTgimHBybMz"
      },
      "outputs": [],
      "source": [
        "library(ggplot2)\n",
        "options(repr.plot.width = 7, repr.plot.height = 4)"
      ]
    },
    {
      "cell_type": "markdown",
      "metadata": {
        "id": "Blpb0v-6ZTNv"
      },
      "source": [
        "### Importe o dataset\n",
        "\n",
        "#### <font color=red>Utilize o parâmetro **sep = ';'** da função **read.csv** para importar corretamente o conjunto de dados. O dataset do projeto utiliza como separador de colunas o caractere ';'."
      ]
    },
    {
      "cell_type": "code",
      "execution_count": null,
      "metadata": {
        "id": "vrf8BOm7ZTNw"
      },
      "outputs": [],
      "source": [
        "dataset <- read.csv('dados_projeto.csv', sep = ';')"
      ]
    },
    {
      "cell_type": "markdown",
      "metadata": {
        "id": "Oq3CKHCmTg1j"
      },
      "source": [
        "### Visualize o conteúdo do Data Frame"
      ]
    },
    {
      "cell_type": "code",
      "execution_count": null,
      "metadata": {
        "colab": {
          "base_uri": "https://localhost:8080/",
          "height": 34
        },
        "id": "bpj9gwIbZTNz",
        "outputId": "2c354ea1-9e66-4206-c6ea-808400fc81a7"
      },
      "outputs": [
        {
          "output_type": "display_data",
          "data": {
            "text/html": [
              "365"
            ],
            "text/markdown": "365",
            "text/latex": "365",
            "text/plain": [
              "[1] 365"
            ]
          },
          "metadata": {}
        }
      ],
      "source": [
        "nrow(dataset)"
      ]
    },
    {
      "cell_type": "code",
      "execution_count": null,
      "metadata": {
        "colab": {
          "base_uri": "https://localhost:8080/",
          "height": 286
        },
        "id": "GsC_WhLFjQKq",
        "outputId": "be3e3b77-10f1-4fa7-ed60-7d2ac169fd7b",
        "scrolled": true
      },
      "outputs": [
        {
          "output_type": "display_data",
          "data": {
            "text/html": [
              "<table class=\"dataframe\">\n",
              "<caption>A data.frame: 6 × 2</caption>\n",
              "<thead>\n",
              "\t<tr><th></th><th scope=col>Y</th><th scope=col>X</th></tr>\n",
              "\t<tr><th></th><th scope=col>&lt;int&gt;</th><th scope=col>&lt;dbl&gt;</th></tr>\n",
              "</thead>\n",
              "<tbody>\n",
              "\t<tr><th scope=row>1</th><td>25461</td><td>27.30</td></tr>\n",
              "\t<tr><th scope=row>2</th><td>28972</td><td>27.02</td></tr>\n",
              "\t<tr><th scope=row>3</th><td>30814</td><td>24.82</td></tr>\n",
              "\t<tr><th scope=row>4</th><td>29799</td><td>23.98</td></tr>\n",
              "\t<tr><th scope=row>5</th><td>28900</td><td>23.82</td></tr>\n",
              "\t<tr><th scope=row>6</th><td>28218</td><td>23.78</td></tr>\n",
              "</tbody>\n",
              "</table>\n"
            ],
            "text/markdown": "\nA data.frame: 6 × 2\n\n| <!--/--> | Y &lt;int&gt; | X &lt;dbl&gt; |\n|---|---|---|\n| 1 | 25461 | 27.30 |\n| 2 | 28972 | 27.02 |\n| 3 | 30814 | 24.82 |\n| 4 | 29799 | 23.98 |\n| 5 | 28900 | 23.82 |\n| 6 | 28218 | 23.78 |\n\n",
            "text/latex": "A data.frame: 6 × 2\n\\begin{tabular}{r|ll}\n  & Y & X\\\\\n  & <int> & <dbl>\\\\\n\\hline\n\t1 & 25461 & 27.30\\\\\n\t2 & 28972 & 27.02\\\\\n\t3 & 30814 & 24.82\\\\\n\t4 & 29799 & 23.98\\\\\n\t5 & 28900 & 23.82\\\\\n\t6 & 28218 & 23.78\\\\\n\\end{tabular}\n",
            "text/plain": [
              "  Y     X    \n",
              "1 25461 27.30\n",
              "2 28972 27.02\n",
              "3 30814 24.82\n",
              "4 29799 23.98\n",
              "5 28900 23.82\n",
              "6 28218 23.78"
            ]
          },
          "metadata": {}
        }
      ],
      "source": [
        "head(dataset)"
      ]
    },
    {
      "cell_type": "markdown",
      "metadata": {
        "id": "xzGuwM4xpslc"
      },
      "source": [
        "### Obtenha e avalie as estatísticas descritivas dos dados"
      ]
    },
    {
      "cell_type": "code",
      "execution_count": null,
      "metadata": {
        "colab": {
          "base_uri": "https://localhost:8080/",
          "height": 145
        },
        "id": "nuNSrzfYpsld",
        "outputId": "f7aa16ee-1cdf-4126-ccd0-a81c89ce49b8",
        "scrolled": true
      },
      "outputs": [
        {
          "output_type": "display_data",
          "data": {
            "text/plain": [
              "       Y               X        \n",
              " Min.   :14343   Min.   :12.90  \n",
              " 1st Qu.:22008   1st Qu.:19.02  \n",
              " Median :24867   Median :21.38  \n",
              " Mean   :25401   Mean   :21.23  \n",
              " 3rd Qu.:28631   3rd Qu.:23.28  \n",
              " Max.   :37937   Max.   :28.86  "
            ]
          },
          "metadata": {}
        }
      ],
      "source": [
        "summary(dataset)"
      ]
    },
    {
      "cell_type": "code",
      "execution_count": null,
      "metadata": {
        "colab": {
          "base_uri": "https://localhost:8080/",
          "height": 34
        },
        "id": "5P74we8KmLHg",
        "outputId": "f2e15816-ee58-4e17-d411-a370c1b48a65"
      },
      "outputs": [
        {
          "output_type": "display_data",
          "data": {
            "text/html": [
              "<style>\n",
              ".dl-inline {width: auto; margin:0; padding: 0}\n",
              ".dl-inline>dt, .dl-inline>dd {float: none; width: auto; display: inline-block}\n",
              ".dl-inline>dt::after {content: \":\\0020\"; padding-right: .5ex}\n",
              ".dl-inline>dt:not(:first-of-type) {padding-left: .5ex}\n",
              "</style><dl class=dl-inline><dt>Y</dt><dd>4399.14270332196</dd><dt>X</dt><dd>3.18010766530134</dd></dl>\n"
            ],
            "text/markdown": "Y\n:   4399.14270332196X\n:   3.18010766530134\n\n",
            "text/latex": "\\begin{description*}\n\\item[Y] 4399.14270332196\n\\item[X] 3.18010766530134\n\\end{description*}\n",
            "text/plain": [
              "          Y           X \n",
              "4399.142703    3.180108 "
            ]
          },
          "metadata": {}
        }
      ],
      "source": [
        "apply(dataset, 2, sd)"
      ]
    },
    {
      "cell_type": "markdown",
      "metadata": {
        "id": "SM6EQrsdZTN8"
      },
      "source": [
        "### Análise gráfica\n",
        "### Construa um box plot para cada variável do dataset"
      ]
    },
    {
      "cell_type": "code",
      "execution_count": null,
      "metadata": {
        "colab": {
          "base_uri": "https://localhost:8080/",
          "height": 257
        },
        "id": "olHVJwyWZTN9",
        "outputId": "f0c4642a-e1c7-454b-9b68-e634fe5be3b8"
      },
      "outputs": [
        {
          "output_type": "display_data",
          "data": {
            "text/plain": [
              "plot without title"
            ],
            "image/png": "[encoded data removed]"
          },
          "metadata": {
            "image/png": {
              "width": 420,
              "height": 240
            }
          }
        }
      ],
      "source": [
        "ggplot(dataset, aes(y = Y)) +\n",
        "  stat_boxplot(geom = 'errorbar', width = 0.4) +\n",
        "  geom_boxplot(fill = c('#3274A1')) +\n",
        "  coord_flip() +\n",
        "  ylab(\"Consumo de cerveja (litros)\") +\n",
        "  ggtitle('Box-plot') +\n",
        "  theme(\n",
        "    plot.title=element_text(size = 14, hjust = 0.5),\n",
        "    axis.title.x=element_text(size = 12, vjust = -0.2),\n",
        "    axis.text.y=element_text(size = 10),\n",
        "    axis.text.x=element_text(size = 10)\n",
        "  )"
      ]
    },
    {
      "cell_type": "code",
      "execution_count": null,
      "metadata": {
        "colab": {
          "base_uri": "https://localhost:8080/",
          "height": 257
        },
        "id": "W-W9IOs1psle",
        "outputId": "55425d2c-49a3-459f-aa90-bff65fb1d81b",
        "scrolled": false
      },
      "outputs": [
        {
          "output_type": "display_data",
          "data": {
            "text/plain": [
              "plot without title"
            ],
            "image/png": "[encoded data removed]"
          },
          "metadata": {
            "image/png": {
              "width": 420,
              "height": 240
            }
          }
        }
      ],
      "source": [
        "ggplot(dataset, aes(y = X)) +\n",
        "  stat_boxplot(geom = 'errorbar', width = 0.4) +\n",
        "  geom_boxplot(fill = c('#3274A1')) +\n",
        "  coord_flip() +\n",
        "  ylab(\"Consumo de cerveja (litros)\") +\n",
        "  ggtitle('Box-plot') +\n",
        "  theme(\n",
        "    plot.title=element_text(size = 14, hjust = 0.5),\n",
        "    axis.title.x=element_text(size = 12, vjust = -0.2),\n",
        "    axis.text.y=element_text(size = 10),\n",
        "    axis.text.x=element_text(size = 10)\n",
        "  )"
      ]
    },
    {
      "cell_type": "markdown",
      "metadata": {
        "id": "kcdTQNDtZTOC"
      },
      "source": [
        "### Identifique se existe uma relação linear entre as variáveis $Y$ e $X$\n",
        "### <font color='red'>Utilizando o método gráfico</font>"
      ]
    },
    {
      "cell_type": "code",
      "execution_count": null,
      "metadata": {
        "colab": {
          "base_uri": "https://localhost:8080/",
          "height": 275
        },
        "id": "bQ2tLs6OZTOD",
        "outputId": "7c7661f6-5e87-4d6f-f781-cda07992ff47"
      },
      "outputs": [
        {
          "output_type": "stream",
          "name": "stderr",
          "text": [
            "\u001b[1m\u001b[22m`geom_smooth()` using formula = 'y ~ x'\n"
          ]
        },
        {
          "output_type": "display_data",
          "data": {
            "text/plain": [
              "plot without title"
            ],
            "image/png": "[encoded data removed]"
          },
          "metadata": {
            "image/png": {
              "width": 420,
              "height": 240
            }
          }
        }
      ],
      "source": [
        "ggplot(data = dataset, aes(x = X, y = Y)) +\n",
        "  geom_point(size = 1.5, stroke = 0) +\n",
        "  geom_smooth(method = lm) +\n",
        "  xlab(\"Temperatura média\") +\n",
        "  ylab(\"Consumo de cerveja (litros)\") +\n",
        "  ggtitle('Reta de Regrassão - Consumo x Temperatura') +\n",
        "  theme(\n",
        "    plot.title=element_text(size = 12, hjust = 0.5),\n",
        "    axis.title.y=element_text(size = 10, vjust = +0.2),\n",
        "    axis.title.x=element_text(size = 10, vjust = -0.2),\n",
        "    axis.text.y=element_text(size = 10),\n",
        "    axis.text.x=element_text(size = 10)\n",
        "  )"
      ]
    },
    {
      "cell_type": "markdown",
      "metadata": {
        "id": "V3pRHkxrZTOG"
      },
      "source": [
        "### <font color='red'>Utilizando a matriz de correlação</font>"
      ]
    },
    {
      "cell_type": "code",
      "execution_count": null,
      "metadata": {
        "colab": {
          "base_uri": "https://localhost:8080/",
          "height": 129
        },
        "id": "szUKCsdNZTOG",
        "outputId": "43a2fc12-f9ea-4d9e-fefb-06d78e1c670e"
      },
      "outputs": [
        {
          "output_type": "display_data",
          "data": {
            "text/html": [
              "<table class=\"dataframe\">\n",
              "<caption>A matrix: 2 × 2 of type dbl</caption>\n",
              "<thead>\n",
              "\t<tr><th></th><th scope=col>Y</th><th scope=col>X</th></tr>\n",
              "</thead>\n",
              "<tbody>\n",
              "\t<tr><th scope=row>Y</th><td>1.0000000</td><td>0.5746147</td></tr>\n",
              "\t<tr><th scope=row>X</th><td>0.5746147</td><td>1.0000000</td></tr>\n",
              "</tbody>\n",
              "</table>\n"
            ],
            "text/markdown": "\nA matrix: 2 × 2 of type dbl\n\n| <!--/--> | Y | X |\n|---|---|---|\n| Y | 1.0000000 | 0.5746147 |\n| X | 0.5746147 | 1.0000000 |\n\n",
            "text/latex": "A matrix: 2 × 2 of type dbl\n\\begin{tabular}{r|ll}\n  & Y & X\\\\\n\\hline\n\tY & 1.0000000 & 0.5746147\\\\\n\tX & 0.5746147 & 1.0000000\\\\\n\\end{tabular}\n",
            "text/plain": [
              "  Y         X        \n",
              "Y 1.0000000 0.5746147\n",
              "X 0.5746147 1.0000000"
            ]
          },
          "metadata": {}
        }
      ],
      "source": [
        "cor(dataset)"
      ]
    },
    {
      "cell_type": "markdown",
      "metadata": {
        "id": "FqjloX9CZTOJ"
      },
      "source": [
        "### Avalie os resultados acima:\n",
        "\n",
        "É possível afirmar que existe uma relação linear entre as variáveis?\n",
        "\n",
        "Resp.: \n",
        "\n",
        "É possível quantificar a intensidade dessa relação?\n",
        "\n",
        "Resp.: \n",
        "\n",
        "É possível afirmar que existe uma relação de causalidade entre $Y$ e $X$ a partir dos resultados da matriz de correlação?\n",
        "\n",
        "Resp.: "
      ]
    },
    {
      "cell_type": "markdown",
      "metadata": {
        "id": "atGXG2cbZTON"
      },
      "source": [
        "### Estime o modelo de regressão linear simples"
      ]
    },
    {
      "cell_type": "code",
      "execution_count": null,
      "metadata": {
        "id": "RZj-LLWJZTOO"
      },
      "outputs": [],
      "source": [
        "resultado_regressao <- lm(formula = Y ~ X, data = dataset)"
      ]
    },
    {
      "cell_type": "markdown",
      "metadata": {
        "id": "brIOPkVsZTOT"
      },
      "source": [
        "### Visualize o resultado da regressão"
      ]
    },
    {
      "cell_type": "code",
      "execution_count": null,
      "metadata": {
        "colab": {
          "base_uri": "https://localhost:8080/",
          "height": 346
        },
        "id": "TEdY4WLIZTOU",
        "outputId": "460c2c23-7bae-44e8-9e7a-531ac7f7c616"
      },
      "outputs": [
        {
          "output_type": "display_data",
          "data": {
            "text/plain": [
              "\n",
              "Call:\n",
              "lm(formula = Y ~ X, data = dataset)\n",
              "\n",
              "Residuals:\n",
              "    Min      1Q  Median      3Q     Max \n",
              "-9221.4 -2845.5  -315.3  2409.0  9392.5 \n",
              "\n",
              "Coefficients:\n",
              "            Estimate Std. Error t value Pr(>|t|)    \n",
              "(Intercept)  8528.91    1275.36   6.687  8.6e-11 ***\n",
              "X             794.88      59.42  13.377  < 2e-16 ***\n",
              "---\n",
              "Signif. codes:  0 ‘***’ 0.001 ‘**’ 0.01 ‘*’ 0.05 ‘.’ 0.1 ‘ ’ 1\n",
              "\n",
              "Residual standard error: 3605 on 363 degrees of freedom\n",
              "Multiple R-squared:  0.3302,\tAdjusted R-squared:  0.3283 \n",
              "F-statistic: 178.9 on 1 and 363 DF,  p-value: < 2.2e-16\n"
            ]
          },
          "metadata": {}
        }
      ],
      "source": [
        "summary(resultado_regressao)"
      ]
    },
    {
      "cell_type": "markdown",
      "metadata": {
        "id": "qRYMfNCTZTOX"
      },
      "source": [
        "### Obtenha o $Y$ previsto"
      ]
    },
    {
      "cell_type": "code",
      "execution_count": null,
      "metadata": {
        "colab": {
          "base_uri": "https://localhost:8080/",
          "height": 286
        },
        "id": "5EvF5aPQZTOY",
        "outputId": "ab7b3a69-3aee-455b-8fed-41497311b083",
        "scrolled": true
      },
      "outputs": [
        {
          "output_type": "display_data",
          "data": {
            "text/html": [
              "<table class=\"dataframe\">\n",
              "<caption>A data.frame: 6 × 3</caption>\n",
              "<thead>\n",
              "\t<tr><th></th><th scope=col>Y</th><th scope=col>X</th><th scope=col>Y_previsto</th></tr>\n",
              "\t<tr><th></th><th scope=col>&lt;int&gt;</th><th scope=col>&lt;dbl&gt;</th><th scope=col>&lt;dbl&gt;</th></tr>\n",
              "</thead>\n",
              "<tbody>\n",
              "\t<tr><th scope=row>1</th><td>25461</td><td>27.30</td><td>30229.20</td></tr>\n",
              "\t<tr><th scope=row>2</th><td>28972</td><td>27.02</td><td>30006.63</td></tr>\n",
              "\t<tr><th scope=row>3</th><td>30814</td><td>24.82</td><td>28257.89</td></tr>\n",
              "\t<tr><th scope=row>4</th><td>29799</td><td>23.98</td><td>27590.19</td></tr>\n",
              "\t<tr><th scope=row>5</th><td>28900</td><td>23.82</td><td>27463.01</td></tr>\n",
              "\t<tr><th scope=row>6</th><td>28218</td><td>23.78</td><td>27431.21</td></tr>\n",
              "</tbody>\n",
              "</table>\n"
            ],
            "text/markdown": "\nA data.frame: 6 × 3\n\n| <!--/--> | Y &lt;int&gt; | X &lt;dbl&gt; | Y_previsto &lt;dbl&gt; |\n|---|---|---|---|\n| 1 | 25461 | 27.30 | 30229.20 |\n| 2 | 28972 | 27.02 | 30006.63 |\n| 3 | 30814 | 24.82 | 28257.89 |\n| 4 | 29799 | 23.98 | 27590.19 |\n| 5 | 28900 | 23.82 | 27463.01 |\n| 6 | 28218 | 23.78 | 27431.21 |\n\n",
            "text/latex": "A data.frame: 6 × 3\n\\begin{tabular}{r|lll}\n  & Y & X & Y\\_previsto\\\\\n  & <int> & <dbl> & <dbl>\\\\\n\\hline\n\t1 & 25461 & 27.30 & 30229.20\\\\\n\t2 & 28972 & 27.02 & 30006.63\\\\\n\t3 & 30814 & 24.82 & 28257.89\\\\\n\t4 & 29799 & 23.98 & 27590.19\\\\\n\t5 & 28900 & 23.82 & 27463.01\\\\\n\t6 & 28218 & 23.78 & 27431.21\\\\\n\\end{tabular}\n",
            "text/plain": [
              "  Y     X     Y_previsto\n",
              "1 25461 27.30 30229.20  \n",
              "2 28972 27.02 30006.63  \n",
              "3 30814 24.82 28257.89  \n",
              "4 29799 23.98 27590.19  \n",
              "5 28900 23.82 27463.01  \n",
              "6 28218 23.78 27431.21  "
            ]
          },
          "metadata": {}
        }
      ],
      "source": [
        "dataset['Y_previsto'] <- resultado_regressao$fitted.values\n",
        "head(dataset)"
      ]
    },
    {
      "cell_type": "markdown",
      "metadata": {
        "id": "nIpYDmr6ZTOb"
      },
      "source": [
        "### Utilizando nosso modelo estimado para fazer previsões.\n",
        "### Qual seria o consumo de cerveja para um dia com temperatura média de 42° C?"
      ]
    },
    {
      "cell_type": "code",
      "execution_count": null,
      "metadata": {
        "colab": {
          "base_uri": "https://localhost:8080/",
          "height": 34
        },
        "id": "Th2Akn3ZZTOb",
        "outputId": "2fdb25a7-2d5d-4dd8-b786-6051c38ae9dd"
      },
      "outputs": [
        {
          "output_type": "display_data",
          "data": {
            "text/html": [
              "<strong>1:</strong> 41913.9738381663"
            ],
            "text/markdown": "**1:** 41913.9738381663",
            "text/latex": "\\textbf{1:} 41913.9738381663",
            "text/plain": [
              "       1 \n",
              "41913.97 "
            ]
          },
          "metadata": {}
        }
      ],
      "source": [
        "predict(resultado_regressao, data.frame(X = 42))"
      ]
    },
    {
      "cell_type": "markdown",
      "metadata": {
        "id": "cRNbxk8EZTOd"
      },
      "source": [
        "### Obtenha os resíduos da regressão"
      ]
    },
    {
      "cell_type": "code",
      "execution_count": null,
      "metadata": {
        "colab": {
          "base_uri": "https://localhost:8080/",
          "height": 286
        },
        "id": "wBzSywQ-ZTOe",
        "outputId": "aead9850-39d0-41bf-fd8d-dc430ca04e50"
      },
      "outputs": [
        {
          "output_type": "display_data",
          "data": {
            "text/html": [
              "<table class=\"dataframe\">\n",
              "<caption>A data.frame: 6 × 4</caption>\n",
              "<thead>\n",
              "\t<tr><th></th><th scope=col>Y</th><th scope=col>X</th><th scope=col>Y_previsto</th><th scope=col>Residuos</th></tr>\n",
              "\t<tr><th></th><th scope=col>&lt;int&gt;</th><th scope=col>&lt;dbl&gt;</th><th scope=col>&lt;dbl&gt;</th><th scope=col>&lt;dbl&gt;</th></tr>\n",
              "</thead>\n",
              "<tbody>\n",
              "\t<tr><th scope=row>1</th><td>25461</td><td>27.30</td><td>30229.20</td><td>-4768.201</td></tr>\n",
              "\t<tr><th scope=row>2</th><td>28972</td><td>27.02</td><td>30006.63</td><td>-1034.633</td></tr>\n",
              "\t<tr><th scope=row>3</th><td>30814</td><td>24.82</td><td>28257.89</td><td> 2556.108</td></tr>\n",
              "\t<tr><th scope=row>4</th><td>29799</td><td>23.98</td><td>27590.19</td><td> 2208.809</td></tr>\n",
              "\t<tr><th scope=row>5</th><td>28900</td><td>23.82</td><td>27463.01</td><td> 1436.991</td></tr>\n",
              "\t<tr><th scope=row>6</th><td>28218</td><td>23.78</td><td>27431.21</td><td>  786.786</td></tr>\n",
              "</tbody>\n",
              "</table>\n"
            ],
            "text/markdown": "\nA data.frame: 6 × 4\n\n| <!--/--> | Y &lt;int&gt; | X &lt;dbl&gt; | Y_previsto &lt;dbl&gt; | Residuos &lt;dbl&gt; |\n|---|---|---|---|---|\n| 1 | 25461 | 27.30 | 30229.20 | -4768.201 |\n| 2 | 28972 | 27.02 | 30006.63 | -1034.633 |\n| 3 | 30814 | 24.82 | 28257.89 |  2556.108 |\n| 4 | 29799 | 23.98 | 27590.19 |  2208.809 |\n| 5 | 28900 | 23.82 | 27463.01 |  1436.991 |\n| 6 | 28218 | 23.78 | 27431.21 |   786.786 |\n\n",
            "text/latex": "A data.frame: 6 × 4\n\\begin{tabular}{r|llll}\n  & Y & X & Y\\_previsto & Residuos\\\\\n  & <int> & <dbl> & <dbl> & <dbl>\\\\\n\\hline\n\t1 & 25461 & 27.30 & 30229.20 & -4768.201\\\\\n\t2 & 28972 & 27.02 & 30006.63 & -1034.633\\\\\n\t3 & 30814 & 24.82 & 28257.89 &  2556.108\\\\\n\t4 & 29799 & 23.98 & 27590.19 &  2208.809\\\\\n\t5 & 28900 & 23.82 & 27463.01 &  1436.991\\\\\n\t6 & 28218 & 23.78 & 27431.21 &   786.786\\\\\n\\end{tabular}\n",
            "text/plain": [
              "  Y     X     Y_previsto Residuos \n",
              "1 25461 27.30 30229.20   -4768.201\n",
              "2 28972 27.02 30006.63   -1034.633\n",
              "3 30814 24.82 28257.89    2556.108\n",
              "4 29799 23.98 27590.19    2208.809\n",
              "5 28900 23.82 27463.01    1436.991\n",
              "6 28218 23.78 27431.21     786.786"
            ]
          },
          "metadata": {}
        }
      ],
      "source": [
        "dataset['Residuos'] <- resultado_regressao$residuals\n",
        "head(dataset)"
      ]
    },
    {
      "cell_type": "markdown",
      "metadata": {
        "id": "v1uM1N_UZTOg"
      },
      "source": [
        "### Plote um gráfico de dispersão dos resíduos da regressão contra o $Y$ previsto"
      ]
    },
    {
      "cell_type": "code",
      "execution_count": null,
      "metadata": {
        "colab": {
          "base_uri": "https://localhost:8080/",
          "height": 257
        },
        "id": "gyF8kMnzZTOh",
        "outputId": "dcc7d5a1-cecb-4bbd-ee87-e1a49ad291e1"
      },
      "outputs": [
        {
          "output_type": "display_data",
          "data": {
            "text/plain": [
              "plot without title"
            ],
            "image/png": "[encoded data removed]"
          },
          "metadata": {
            "image/png": {
              "width": 420,
              "height": 240
            }
          }
        }
      ],
      "source": [
        "ggplot(data = dataset, aes(x = Y_previsto, y = Residuos)) +\n",
        "  geom_hline(yintercept = 0, color = 'black') +\n",
        "  geom_point(size = 1.5, stroke = 0) +\n",
        "  xlab(\"Y_previsto\") +\n",
        "  ylab(\"Resíduos\") +\n",
        "  ggtitle('Resíduos vs Y_previsto') +\n",
        "  theme(\n",
        "    plot.title=element_text(size = 12, hjust = 0.5),\n",
        "    axis.title.y=element_text(size = 10, vjust = +0.2),\n",
        "    axis.title.x=element_text(size = 10, vjust = -0.2),\n",
        "    axis.text.y=element_text(size = 10),\n",
        "    axis.text.x=element_text(size = 10)\n",
        "  )"
      ]
    },
    {
      "cell_type": "markdown",
      "metadata": {
        "id": "XFr505IvZcR2"
      },
      "source": [
        "### Obtenha o R² da regressão pelo método da soma dos quadrados\n",
        "\n",
        "# $$R^2 = \\frac{SQR}{SQT}$$\n"
      ]
    },
    {
      "cell_type": "code",
      "execution_count": null,
      "metadata": {
        "colab": {
          "base_uri": "https://localhost:8080/",
          "height": 34
        },
        "id": "GxX3EpMfZTOn",
        "outputId": "ed8ef6d4-c4db-4735-dd8f-93db77303e9a"
      },
      "outputs": [
        {
          "output_type": "display_data",
          "data": {
            "text/html": [
              "4718394688.06769"
            ],
            "text/markdown": "4718394688.06769",
            "text/latex": "4718394688.06769",
            "text/plain": [
              "[1] 4718394688"
            ]
          },
          "metadata": {}
        }
      ],
      "source": [
        "SQE <- sum(apply(dataset, 1, function(x) x['Residuos'] ** 2))\n",
        "# Ou \n",
        "# SQE <- anova(resultado_regressao)$'Sum Sq'[2]\n",
        "SQE"
      ]
    },
    {
      "cell_type": "code",
      "execution_count": null,
      "metadata": {
        "colab": {
          "base_uri": "https://localhost:8080/",
          "height": 34
        },
        "id": "mNm5V2r8ZTOs",
        "outputId": "118bdb20-f21f-410c-aedd-bc9b974fc059"
      },
      "outputs": [
        {
          "output_type": "display_data",
          "data": {
            "text/html": [
              "2325899486.73779"
            ],
            "text/markdown": "2325899486.73779",
            "text/latex": "2325899486.73779",
            "text/plain": [
              "[1] 2325899487"
            ]
          },
          "metadata": {}
        }
      ],
      "source": [
        "SQR <- sum(apply(dataset, 1, function(x) (x['Y_previsto'] - mean(dataset$Y_previsto)) ** 2))\n",
        "# Ou\n",
        "# SQR <- anova(resultado_regressao)$'Sum Sq'[1]\n",
        "SQR"
      ]
    },
    {
      "cell_type": "code",
      "execution_count": null,
      "metadata": {
        "colab": {
          "base_uri": "https://localhost:8080/",
          "height": 34
        },
        "id": "4wnz--cwZTOu",
        "outputId": "3c36797e-61fb-470a-9d0f-bcf04e54d25a"
      },
      "outputs": [
        {
          "output_type": "display_data",
          "data": {
            "text/html": [
              "7044294174.80548"
            ],
            "text/markdown": "7044294174.80548",
            "text/latex": "7044294174.80548",
            "text/plain": [
              "[1] 7044294175"
            ]
          },
          "metadata": {}
        }
      ],
      "source": [
        "SQT = SQR + SQE\n",
        "SQT"
      ]
    },
    {
      "cell_type": "code",
      "execution_count": null,
      "metadata": {
        "colab": {
          "base_uri": "https://localhost:8080/",
          "height": 34
        },
        "id": "JgBLHvclZTOw",
        "outputId": "7d67c67e-4f6d-4b75-c525-945456ac9616"
      },
      "outputs": [
        {
          "output_type": "display_data",
          "data": {
            "text/html": [
              "0.330182049332432"
            ],
            "text/markdown": "0.330182049332432",
            "text/latex": "0.330182049332432",
            "text/plain": [
              "[1] 0.330182"
            ]
          },
          "metadata": {}
        }
      ],
      "source": [
        "R2 = SQR / SQT\n",
        "R2"
      ]
    },
    {
      "cell_type": "code",
      "source": [
        "summary(resultado_regressao)$r.squared"
      ],
      "metadata": {
        "colab": {
          "base_uri": "https://localhost:8080/",
          "height": 34
        },
        "id": "xTpks-pNrRGu",
        "outputId": "281052d9-9d59-4449-e6a8-e0c54dc76b22"
      },
      "execution_count": null,
      "outputs": [
        {
          "output_type": "display_data",
          "data": {
            "text/html": [
              "0.330182049332432"
            ],
            "text/markdown": "0.330182049332432",
            "text/latex": "0.330182049332432",
            "text/plain": [
              "[1] 0.330182"
            ]
          },
          "metadata": {}
        }
      ]
    }
  ],
  "metadata": {
    "kernelspec": {
      "display_name": "R",
      "language": "R",
      "name": "ir"
    },
    "language_info": {
      "codemirror_mode": "r",
      "file_extension": ".r",
      "mimetype": "text/x-r-source",
      "name": "R",
      "pygments_lexer": "r",
      "version": "3.6.1"
    },
    "colab": {
      "provenance": []
    }
  },
  "nbformat": 4,
  "nbformat_minor": 0
}