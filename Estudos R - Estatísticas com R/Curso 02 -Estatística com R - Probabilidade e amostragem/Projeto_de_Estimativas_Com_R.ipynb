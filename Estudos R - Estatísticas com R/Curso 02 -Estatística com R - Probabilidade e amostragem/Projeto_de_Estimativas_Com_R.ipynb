{
  "cells": [
    {
      "cell_type": "markdown",
      "metadata": {
        "id": "WvMflodMjQKe"
      },
      "source": [
        "***\n",
        "# <font color=green size=10>CURSO DE ESTATÍSTICA - PARTE 2</font>\n",
        "***\n",
        "\n",
        "## Trabalho sobre Probabilidades, Amostragem e Estimações\n",
        "\n",
        "Utilizando os conhecimentos adquiridos em nosso treinamento execute as tarefas abaixo. Siga o roteiro proposto e vá completando as células vazias."
      ]
    },
    {
      "cell_type": "markdown",
      "metadata": {
        "id": "cVgsZ_E3jQKg"
      },
      "source": [
        "# <font color=green>DATASET DO PROJETO</font>\n",
        "***"
      ]
    },
    {
      "cell_type": "markdown",
      "metadata": {
        "id": "iN1gIbaKjQKh"
      },
      "source": [
        "### Pesquisa Nacional por Amostra de Domicílios - 2015\n",
        "\n",
        "A <b>Pesquisa Nacional por Amostra de Domicílios - PNAD</b> investiga anualmente, de forma permanente, características gerais da população, de educação, trabalho, rendimento e habitação e outras, com periodicidade variável, de acordo com as necessidades de informação para o país, como as características sobre migração, fecundidade, nupcialidade, saúde, segurança alimentar, entre outros temas. O levantamento dessas estatísticas constitui, ao longo dos 49 anos de realização da pesquisa, um importante instrumento para formulação, validação e avaliação de políticas orientadas para o desenvolvimento socioeconômico e a melhoria das condições de vida no Brasil."
      ]
    },
    {
      "cell_type": "markdown",
      "metadata": {
        "id": "U6V7br1RjQKi"
      },
      "source": [
        "### Fonte dos Dados\n",
        "\n",
        "https://ww2.ibge.gov.br/home/estatistica/populacao/trabalhoerendimento/pnad2015/microdados.shtm"
      ]
    },
    {
      "cell_type": "markdown",
      "metadata": {
        "id": "r0Fe_qnzjQKj"
      },
      "source": [
        "### Variáveis utilizadas\n",
        "\n",
        "> ### Renda\n",
        "> ***\n",
        "\n",
        "Rendimento mensal do trabalho principal para pessoas de 10 anos ou mais de idade.\n",
        "\n",
        "> ### Idade\n",
        "> ***\n",
        "\n",
        "Idade do morador na data de referência em anos.\n",
        "\n",
        "> ### Altura (elaboração própria)\n",
        "> ***\n",
        "\n",
        "Altura do morador em metros.\n",
        "\n",
        "> ### UF\n",
        "> ***\n",
        "\n",
        "|Código|Descrição|\n",
        "|---|---|\n",
        "|11|Rondônia|\n",
        "|12|Acre|\n",
        "|13|Amazonas|\n",
        "|14|Roraima|\n",
        "|15|Pará|\n",
        "|16|Amapá|\n",
        "|17|Tocantins|\n",
        "|21|Maranhão|\n",
        "|22|Piauí|\n",
        "|23|Ceará|\n",
        "|24|Rio Grande do Norte|\n",
        "|25|Paraíba|\n",
        "|26|Pernambuco|\n",
        "|27|Alagoas|\n",
        "|28|Sergipe|\n",
        "|29|Bahia|\n",
        "|31|Minas Gerais|\n",
        "|32|Espírito Santo|\n",
        "|33|Rio de Janeiro|\n",
        "|35|São Paulo|\n",
        "|41|Paraná|\n",
        "|42|Santa Catarina|\n",
        "|43|Rio Grande do Sul|\n",
        "|50|Mato Grosso do Sul|\n",
        "|51|Mato Grosso|\n",
        "|52|Goiás|\n",
        "|53|Distrito Federal|\n",
        "\n",
        "> ### Sexo\t\n",
        "> ***\n",
        "\n",
        "|Código|Descrição|\n",
        "|---|---|\n",
        "|0|Masculino|\n",
        "|1|Feminino|\n",
        "\n",
        "> ### Anos de Estudo\n",
        "> ***\n",
        "\n",
        "|Código|Descrição|\n",
        "|---|---|\n",
        "|1|Sem instrução e menos de 1 ano|\n",
        "|2|1 ano|\n",
        "|3|2 anos|\n",
        "|4|3 anos|\n",
        "|5|4 anos|\n",
        "|6|5 anos|\n",
        "|7|6 anos|\n",
        "|8|7 anos|\n",
        "|9|8 anos|\n",
        "|10|9 anos|\n",
        "|11|10 anos|\n",
        "|12|11 anos|\n",
        "|13|12 anos|\n",
        "|14|13 anos|\n",
        "|15|14 anos|\n",
        "|16|15 anos ou mais|\n",
        "|17|Não determinados| \n",
        "||Não aplicável|\n",
        "\n",
        "> ### Cor\n",
        "> ***\n",
        "\n",
        "|Código|Descrição|\n",
        "|---|---|\n",
        "|0|Indígena|\n",
        "|2|Branca|\n",
        "|4|Preta|\n",
        "|6|Amarela|\n",
        "|8|Parda|\n",
        "|9|Sem declaração|"
      ]
    },
    {
      "cell_type": "markdown",
      "metadata": {
        "id": "OK1IQH5cX7Gb"
      },
      "source": [
        "#### <font color='red'>Observação</font>\n",
        "***\n",
        "> Os seguintes tratamentos foram realizados nos dados originais:\n",
        "> 1. Foram eliminados os registros onde a <b>Renda</b> era inválida (999 999 999 999);\n",
        "> 2. Foram eliminados os registros onde a <b>Renda</b> era missing;\n",
        "> 3. Foram considerados somente os registros das <b>Pessoas de Referência</b> de cada domicílio (responsável pelo domicílio)."
      ]
    },
    {
      "cell_type": "markdown",
      "metadata": {
        "id": "ZIqLOffNTg1Y"
      },
      "source": [
        "***\n",
        "***"
      ]
    },
    {
      "cell_type": "markdown",
      "metadata": {
        "id": "8Rw70V6ojQKk"
      },
      "source": [
        "### Utilize as células abaixo para importar as bibliotecas e configurações que precisar para executar as tarefas"
      ]
    },
    {
      "cell_type": "code",
      "execution_count": null,
      "metadata": {
        "colab": {
          "base_uri": "https://localhost:8080/"
        },
        "id": "fcTgimHBybMz",
        "outputId": "6cfa77ce-ccf7-4376-9191-5dbf787214a8"
      },
      "outputs": [
        {
          "output_type": "stream",
          "name": "stderr",
          "text": [
            "\n",
            "Attaching package: ‘dplyr’\n",
            "\n",
            "\n",
            "The following objects are masked from ‘package:stats’:\n",
            "\n",
            "    filter, lag\n",
            "\n",
            "\n",
            "The following objects are masked from ‘package:base’:\n",
            "\n",
            "    intersect, setdiff, setequal, union\n",
            "\n",
            "\n"
          ]
        }
      ],
      "source": [
        "library(dplyr)\n",
        "library(glue)"
      ]
    },
    {
      "cell_type": "markdown",
      "metadata": {
        "id": "2a-gvBvCULwt"
      },
      "source": [
        "### Importe o dataset e armazene o conteúdo em uma DataFrame"
      ]
    },
    {
      "cell_type": "code",
      "execution_count": null,
      "metadata": {
        "id": "ufRZ7TLwjQKo"
      },
      "outputs": [],
      "source": [
        "dados <- read.csv('dados.csv')"
      ]
    },
    {
      "cell_type": "markdown",
      "metadata": {
        "id": "Oq3CKHCmTg1j"
      },
      "source": [
        "### Visualize o conteúdo do DataFrame"
      ]
    },
    {
      "cell_type": "code",
      "execution_count": null,
      "metadata": {
        "colab": {
          "base_uri": "https://localhost:8080/",
          "height": 286
        },
        "id": "GsC_WhLFjQKq",
        "scrolled": true,
        "outputId": "465cf063-17dd-4615-ec28-4046237a6f72"
      },
      "outputs": [
        {
          "output_type": "display_data",
          "data": {
            "text/html": [
              "<table class=\"dataframe\">\n",
              "<caption>A data.frame: 6 × 7</caption>\n",
              "<thead>\n",
              "\t<tr><th></th><th scope=col>UF</th><th scope=col>Sexo</th><th scope=col>Idade</th><th scope=col>Cor</th><th scope=col>Anos.de.Estudo</th><th scope=col>Renda</th><th scope=col>Altura</th></tr>\n",
              "\t<tr><th></th><th scope=col>&lt;int&gt;</th><th scope=col>&lt;int&gt;</th><th scope=col>&lt;int&gt;</th><th scope=col>&lt;int&gt;</th><th scope=col>&lt;int&gt;</th><th scope=col>&lt;int&gt;</th><th scope=col>&lt;dbl&gt;</th></tr>\n",
              "</thead>\n",
              "<tbody>\n",
              "\t<tr><th scope=row>1</th><td>11</td><td>0</td><td>23</td><td>8</td><td>12</td><td> 800</td><td>1.603808</td></tr>\n",
              "\t<tr><th scope=row>2</th><td>11</td><td>1</td><td>23</td><td>2</td><td>12</td><td>1150</td><td>1.739790</td></tr>\n",
              "\t<tr><th scope=row>3</th><td>11</td><td>1</td><td>35</td><td>8</td><td>15</td><td> 880</td><td>1.760444</td></tr>\n",
              "\t<tr><th scope=row>4</th><td>11</td><td>0</td><td>46</td><td>2</td><td> 6</td><td>3500</td><td>1.783158</td></tr>\n",
              "\t<tr><th scope=row>5</th><td>11</td><td>1</td><td>47</td><td>8</td><td> 9</td><td> 150</td><td>1.690631</td></tr>\n",
              "\t<tr><th scope=row>6</th><td>11</td><td>1</td><td>34</td><td>8</td><td>12</td><td> 790</td><td>1.637906</td></tr>\n",
              "</tbody>\n",
              "</table>\n"
            ],
            "text/markdown": "\nA data.frame: 6 × 7\n\n| <!--/--> | UF &lt;int&gt; | Sexo &lt;int&gt; | Idade &lt;int&gt; | Cor &lt;int&gt; | Anos.de.Estudo &lt;int&gt; | Renda &lt;int&gt; | Altura &lt;dbl&gt; |\n|---|---|---|---|---|---|---|---|\n| 1 | 11 | 0 | 23 | 8 | 12 |  800 | 1.603808 |\n| 2 | 11 | 1 | 23 | 2 | 12 | 1150 | 1.739790 |\n| 3 | 11 | 1 | 35 | 8 | 15 |  880 | 1.760444 |\n| 4 | 11 | 0 | 46 | 2 |  6 | 3500 | 1.783158 |\n| 5 | 11 | 1 | 47 | 8 |  9 |  150 | 1.690631 |\n| 6 | 11 | 1 | 34 | 8 | 12 |  790 | 1.637906 |\n\n",
            "text/latex": "A data.frame: 6 × 7\n\\begin{tabular}{r|lllllll}\n  & UF & Sexo & Idade & Cor & Anos.de.Estudo & Renda & Altura\\\\\n  & <int> & <int> & <int> & <int> & <int> & <int> & <dbl>\\\\\n\\hline\n\t1 & 11 & 0 & 23 & 8 & 12 &  800 & 1.603808\\\\\n\t2 & 11 & 1 & 23 & 2 & 12 & 1150 & 1.739790\\\\\n\t3 & 11 & 1 & 35 & 8 & 15 &  880 & 1.760444\\\\\n\t4 & 11 & 0 & 46 & 2 &  6 & 3500 & 1.783158\\\\\n\t5 & 11 & 1 & 47 & 8 &  9 &  150 & 1.690631\\\\\n\t6 & 11 & 1 & 34 & 8 & 12 &  790 & 1.637906\\\\\n\\end{tabular}\n",
            "text/plain": [
              "  UF Sexo Idade Cor Anos.de.Estudo Renda Altura  \n",
              "1 11 0    23    8   12              800  1.603808\n",
              "2 11 1    23    2   12             1150  1.739790\n",
              "3 11 1    35    8   15              880  1.760444\n",
              "4 11 0    46    2    6             3500  1.783158\n",
              "5 11 1    47    8    9              150  1.690631\n",
              "6 11 1    34    8   12              790  1.637906"
            ]
          },
          "metadata": {}
        }
      ],
      "source": [
        "head(dados)"
      ]
    },
    {
      "cell_type": "markdown",
      "metadata": {
        "id": "o0DgGX1Gpi2-"
      },
      "source": [
        "# <font color='green'>Problema A</font>"
      ]
    },
    {
      "cell_type": "markdown",
      "metadata": {
        "id": "mVHvmj1vpi2_"
      },
      "source": [
        "Avaliando nosso dataset é possível verificar que a **proporção de homens** como chefes de domicílios é de quase **70%**. Precisamos **selecionar aleatoriamente grupos de 10 indivíduos** para verificar as diferenças entre os rendimentos em cada grupo. Qual a **probabilidade de selecionamos um grupo que apresente a mesma proporção da população**, ou seja, selecionarmos um grupo que seja **composto por 7 homens e 3 mulheres**?\n",
        "\n",
        "#### <font color='blue'>Como tarefa extra, verifique a real proporção de homens e mulheres em nosso dataset (vimos como fazer isso em nosso primeiro curso de estatística).</font>\n",
        "\n",
        "#### <font color='red'>Verifique que tipo de distribuição de probabilidade se encaixa neste experimento.</font>"
      ]
    },
    {
      "cell_type": "markdown",
      "metadata": {
        "id": "eRO0sYkbpi2_"
      },
      "source": [
        "### Solução"
      ]
    },
    {
      "cell_type": "code",
      "execution_count": null,
      "metadata": {
        "id": "YS0_OJA_pi2_"
      },
      "outputs": [],
      "source": [
        "k <- 7"
      ]
    },
    {
      "cell_type": "code",
      "execution_count": null,
      "metadata": {
        "id": "pdRbhzIcpi2_"
      },
      "outputs": [],
      "source": [
        "n <- 10"
      ]
    },
    {
      "cell_type": "code",
      "execution_count": null,
      "metadata": {
        "id": "DZA4qlLVpi2_"
      },
      "outputs": [],
      "source": [
        "p <- 0.70"
      ]
    },
    {
      "cell_type": "code",
      "execution_count": null,
      "metadata": {
        "colab": {
          "base_uri": "https://localhost:8080/",
          "height": 34
        },
        "id": "iy5Ugf1Epi2_",
        "outputId": "69fc00a0-c46f-4d96-892d-d0478d60bb17"
      },
      "outputs": [
        {
          "output_type": "display_data",
          "data": {
            "text/html": [
              "0.266827932"
            ],
            "text/markdown": "0.266827932",
            "text/latex": "0.266827932",
            "text/plain": [
              "[1] 0.2668279"
            ]
          },
          "metadata": {}
        }
      ],
      "source": [
        "probabilidade <- dbinom(k, n, p)\n",
        "probabilidade"
      ]
    },
    {
      "cell_type": "markdown",
      "metadata": {
        "id": "GHS-5567pi2_"
      },
      "source": [
        "# <font color='green'>Problema B</font>"
      ]
    },
    {
      "cell_type": "markdown",
      "metadata": {
        "id": "HHENbfDepi2_"
      },
      "source": [
        "Ainda sobre a questão anterior, **quantos grupos de 10 indivíduos** nós precisaríamos selecionar, de forma aleatória, para conseguir **100 grupos compostos por 7 homens e 3 mulheres**?\n",
        "\n",
        "#### <font color='red'>Lembre-se da forma de cálculo da média de uma distribuição binomial</font>"
      ]
    },
    {
      "cell_type": "markdown",
      "metadata": {
        "id": "1kVoAh3Api3A"
      },
      "source": [
        "### Solução"
      ]
    },
    {
      "cell_type": "markdown",
      "metadata": {
        "id": "UOTQFfUFpi3A"
      },
      "source": [
        "### Média da distribuição binomial\n",
        "\n",
        "# $$\\mu=n \\times p$$"
      ]
    },
    {
      "cell_type": "code",
      "execution_count": null,
      "metadata": {
        "colab": {
          "base_uri": "https://localhost:8080/",
          "height": 34
        },
        "id": "_bt7z6mHpi3A",
        "outputId": "89739d5a-e6d0-4903-92fb-44f07345ca08"
      },
      "outputs": [
        {
          "output_type": "display_data",
          "data": {
            "text/html": [
              "375"
            ],
            "text/markdown": "375",
            "text/latex": "375",
            "text/plain": [
              "[1] 375"
            ]
          },
          "metadata": {}
        }
      ],
      "source": [
        "# media = n * p\n",
        "# n = media / p\n",
        "\n",
        "n <- 100 / probabilidade\n",
        "n <- round(n)\n",
        "n"
      ]
    },
    {
      "cell_type": "markdown",
      "metadata": {
        "id": "A6XNWGaLpi3A"
      },
      "source": [
        "# <font color='green'>Problema C</font>"
      ]
    },
    {
      "cell_type": "markdown",
      "metadata": {
        "id": "dFNgs9mopi3A"
      },
      "source": [
        "Um cliente nos encomendou um estudo para avaliar o **rendimento dos chefes de domicílio no Brasil**. Para isso precisamos realizar uma nova coleta de dados, isto é, uma nova pesquisa de campo. Após reunião com o cliente foi possível elencar o seguinte conjunto de informações:\n",
        "\n",
        "> A. O resultado da pesquisa precisa estar pronto em **2 meses**;\n",
        "\n",
        "> B. Teremos somente **R$\\$$ 150.000,00** de recursos para realização da pesquisa de campo; e\n",
        "    \n",
        "> C. Seria interessante uma **margem de erro não superior a 10% em relação a média estimada**.\n",
        "\n",
        "Em nossa experiência com estudos deste tipo, sabemos que o **custo médio por indivíduo entrevistado fica em torno de R$\\$$ 100,00**. Com este conjunto de fatos avalie e obtenha o seguinte conjunto de informações para passar ao cliente:\n",
        "\n",
        "\n",
        "> 1. Para obter uma estimativa para os parâmetros da população (renda dos chefes de domicílio no Brasil), realize uma amostragem aleatória simples em nosso conjunto de dados. Essa amostra deve conter 200 elementos (utilize set.seed(100) para garantir que o mesmo experimento possa ser realizado novamente). Obtenha a média e o desvio-padrão dessa amostra.\n",
        "    \n",
        "> 2. Para a **margem de erro** especificada pelo cliente obtenha os **tamanhos de amostra** necessários para garantir os **níveis de confiança de 90%, 95% e 99%**.\n",
        "    \n",
        "> 3. Obtenha o **custo da pesquisa** para os três níveis de confiança.\n",
        "    \n",
        "> 4. Para o maior nível de confiança viável (dentro do orçamento disponível), obtenha um **intervalo de confiança para a média da população**.\n",
        "    \n",
        "> 5. Assumindo o **nível de confiança escolhido no item anterior**, qual **margem de erro** pode ser considerada utilizando todo o recurso disponibilizado pelo cliente?\n",
        "    \n",
        "> 6. Assumindo um **nível de confiança de 95%**, **quanto a pesquisa custaria ao cliente** caso fosse considerada uma **margem de erro de apenas 5%** em relação a média estimada?\n"
      ]
    },
    {
      "cell_type": "markdown",
      "metadata": {
        "id": "TaRsusNApi3A"
      },
      "source": [
        "# <font color='blue'>Solução do item 1</font>"
      ]
    },
    {
      "cell_type": "markdown",
      "metadata": {
        "id": "RdhDzcVlpi3A"
      },
      "source": [
        "### Seleção de uma amostra aleatório simples\n",
        "\n",
        "#### <font color='red'>Lembre-se de utilizar *set.seed(100)*</font>"
      ]
    },
    {
      "cell_type": "code",
      "execution_count": null,
      "metadata": {
        "id": "ycumne62pi3A"
      },
      "outputs": [],
      "source": [
        "set.seed(100)\n",
        "dataset = sample_n(dados, 200)$Renda"
      ]
    },
    {
      "cell_type": "code",
      "execution_count": null,
      "metadata": {
        "colab": {
          "base_uri": "https://localhost:8080/",
          "height": 34
        },
        "id": "_QgHzws3pi3B",
        "outputId": "890fd5a9-d5f9-4494-c34c-639a49043e16"
      },
      "outputs": [
        {
          "output_type": "display_data",
          "data": {
            "text/html": [
              "2181.56"
            ],
            "text/markdown": "2181.56",
            "text/latex": "2181.56",
            "text/plain": [
              "[1] 2181.56"
            ]
          },
          "metadata": {}
        }
      ],
      "source": [
        "mean(dataset)"
      ]
    },
    {
      "cell_type": "code",
      "execution_count": null,
      "metadata": {
        "colab": {
          "base_uri": "https://localhost:8080/",
          "height": 34
        },
        "id": "3o7fbTmQpi3B",
        "outputId": "4ab903f9-2203-40dc-d804-b580adb2c555"
      },
      "outputs": [
        {
          "output_type": "display_data",
          "data": {
            "text/html": [
              "3218.28770390803"
            ],
            "text/markdown": "3218.28770390803",
            "text/latex": "3218.28770390803",
            "text/plain": [
              "[1] 3218.288"
            ]
          },
          "metadata": {}
        }
      ],
      "source": [
        "sd(dataset)"
      ]
    },
    {
      "cell_type": "markdown",
      "metadata": {
        "id": "5tDmBHuXpi3B"
      },
      "source": [
        "### Dados do problema"
      ]
    },
    {
      "cell_type": "code",
      "execution_count": null,
      "metadata": {
        "id": "CqBN7Rb3pi3B"
      },
      "outputs": [],
      "source": [
        "media_amostra <- mean(dataset)\n",
        "desvio_padrao_amostra <- sd(dataset)\n",
        "recursos <- 150000\n",
        "custo_entrevista <- 100"
      ]
    },
    {
      "cell_type": "markdown",
      "metadata": {
        "id": "eueb3iQ-pi3B"
      },
      "source": [
        "# <font color='blue'>Solução do item 2</font>"
      ]
    },
    {
      "cell_type": "markdown",
      "metadata": {
        "id": "dOBOGxlhpi3B"
      },
      "source": [
        "### Obtenha a margem de erro\n",
        "\n",
        "#### <font color='red'>Lembre-se que a margem de erro deve estar na mesma unidade da variável que está sendo estudada (R$)</font>"
      ]
    },
    {
      "cell_type": "code",
      "execution_count": null,
      "metadata": {
        "colab": {
          "base_uri": "https://localhost:8080/",
          "height": 34
        },
        "id": "9pU1K4q5pi3B",
        "outputId": "e4a363df-0751-425c-8e26-e23bc4d015a2"
      },
      "outputs": [
        {
          "output_type": "display_data",
          "data": {
            "text/html": [
              "'A margem de erro é de R$ 218,16 para mais ou para menos'"
            ],
            "text/markdown": "'A margem de erro é de R$ 218,16 para mais ou para menos'",
            "text/latex": "'A margem de erro é de R\\$ 218,16 para mais ou para menos'",
            "text/plain": [
              "A margem de erro é de R$ 218,16 para mais ou para menos"
            ]
          },
          "metadata": {}
        }
      ],
      "source": [
        "e <- 0.10 * media_amostra\n",
        "glue('A margem de erro é de R$ {format(e, digits=2, decimal.mark=\",\", nsmall=2, big.mark=\".\", scientific=F)} para mais ou para menos')"
      ]
    },
    {
      "cell_type": "markdown",
      "metadata": {
        "id": "PfL9E6bCpi3B"
      },
      "source": [
        "### Tamanho da amostra ($1 - \\alpha = 90\\%$)"
      ]
    },
    {
      "cell_type": "code",
      "execution_count": null,
      "metadata": {
        "colab": {
          "base_uri": "https://localhost:8080/",
          "height": 34
        },
        "id": "0A4iRmKTpi3B",
        "outputId": "44bc4f16-2c76-4f0f-be87-1b41a6670792"
      },
      "outputs": [
        {
          "output_type": "display_data",
          "data": {
            "text/html": [
              "0.95"
            ],
            "text/markdown": "0.95",
            "text/latex": "0.95",
            "text/plain": [
              "[1] 0.95"
            ]
          },
          "metadata": {}
        }
      ],
      "source": [
        "0.5 + (0.9 / 2)"
      ]
    },
    {
      "cell_type": "code",
      "execution_count": null,
      "metadata": {
        "colab": {
          "base_uri": "https://localhost:8080/",
          "height": 34
        },
        "id": "2Cj7oEsbpi3C",
        "outputId": "b765c23c-09e3-44fa-86bd-181dc6ef4e9e"
      },
      "outputs": [
        {
          "output_type": "display_data",
          "data": {
            "text/html": [
              "'Para um nível de confiança de 90% devemos selecionar uma amostra de 589 elementos.'"
            ],
            "text/markdown": "'Para um nível de confiança de 90% devemos selecionar uma amostra de 589 elementos.'",
            "text/latex": "'Para um nível de confiança de 90\\% devemos selecionar uma amostra de 589 elementos.'",
            "text/plain": [
              "Para um nível de confiança de 90% devemos selecionar uma amostra de 589 elementos."
            ]
          },
          "metadata": {}
        }
      ],
      "source": [
        "z <- qnorm(.95)\n",
        "n_confianca_90 <- (z * (desvio_padrao_amostra / e)) ** 2\n",
        "n_confianca_90 <- round(n_confianca_90)\n",
        "glue('Para um nível de confiança de 90% devemos selecionar uma amostra de {n_confianca_90} elementos.')"
      ]
    },
    {
      "cell_type": "markdown",
      "metadata": {
        "id": "sUByM0R0pi3C"
      },
      "source": [
        "### Tamanho da amostra ($1 - \\alpha = 95\\%$)"
      ]
    },
    {
      "cell_type": "code",
      "execution_count": null,
      "metadata": {
        "colab": {
          "base_uri": "https://localhost:8080/",
          "height": 34
        },
        "id": "DzARHrgYpi3C",
        "outputId": "264f1186-e1ef-4b71-9e58-a55a6f9a1ab5"
      },
      "outputs": [
        {
          "output_type": "display_data",
          "data": {
            "text/html": [
              "0.975"
            ],
            "text/markdown": "0.975",
            "text/latex": "0.975",
            "text/plain": [
              "[1] 0.975"
            ]
          },
          "metadata": {}
        }
      ],
      "source": [
        "0.5 + (0.95 / 2)"
      ]
    },
    {
      "cell_type": "code",
      "execution_count": null,
      "metadata": {
        "colab": {
          "base_uri": "https://localhost:8080/",
          "height": 34
        },
        "id": "Ip1PPQMrpi3C",
        "outputId": "93d16bcd-ccad-41d6-cb85-9ddcd1dbcadd"
      },
      "outputs": [
        {
          "output_type": "display_data",
          "data": {
            "text/html": [
              "'Para um nível de confiança de 95% devemos selecionar uma amostra de 836 elementos.'"
            ],
            "text/markdown": "'Para um nível de confiança de 95% devemos selecionar uma amostra de 836 elementos.'",
            "text/latex": "'Para um nível de confiança de 95\\% devemos selecionar uma amostra de 836 elementos.'",
            "text/plain": [
              "Para um nível de confiança de 95% devemos selecionar uma amostra de 836 elementos."
            ]
          },
          "metadata": {}
        }
      ],
      "source": [
        "z <- qnorm(.975)\n",
        "n_confianca_95 <- (z * (desvio_padrao_amostra / e)) ** 2\n",
        "n_confianca_95 <- round(n_confianca_95)\n",
        "glue('Para um nível de confiança de 95% devemos selecionar uma amostra de {n_confianca_95} elementos.')"
      ]
    },
    {
      "cell_type": "markdown",
      "metadata": {
        "id": "eDg5THe6pi3C"
      },
      "source": [
        "### Tamanho da amostra ($1 - \\alpha = 99\\%$)"
      ]
    },
    {
      "cell_type": "code",
      "execution_count": null,
      "metadata": {
        "colab": {
          "base_uri": "https://localhost:8080/",
          "height": 34
        },
        "id": "BOZVrrq4pi3C",
        "outputId": "b92d4934-d09c-4476-ae45-60d29f261e5c"
      },
      "outputs": [
        {
          "output_type": "display_data",
          "data": {
            "text/html": [
              "0.995"
            ],
            "text/markdown": "0.995",
            "text/latex": "0.995",
            "text/plain": [
              "[1] 0.995"
            ]
          },
          "metadata": {}
        }
      ],
      "source": [
        "0.5 + (0.99 / 2)"
      ]
    },
    {
      "cell_type": "code",
      "execution_count": null,
      "metadata": {
        "colab": {
          "base_uri": "https://localhost:8080/",
          "height": 34
        },
        "id": "XAYDyxQ5pi3C",
        "outputId": "b7cfc99a-2f1a-4745-8aea-1e263a495293"
      },
      "outputs": [
        {
          "output_type": "display_data",
          "data": {
            "text/html": [
              "'Para um nível de confiança de 99% devemos selecionar uma amostra de 1444 elementos.'"
            ],
            "text/markdown": "'Para um nível de confiança de 99% devemos selecionar uma amostra de 1444 elementos.'",
            "text/latex": "'Para um nível de confiança de 99\\% devemos selecionar uma amostra de 1444 elementos.'",
            "text/plain": [
              "Para um nível de confiança de 99% devemos selecionar uma amostra de 1444 elementos."
            ]
          },
          "metadata": {}
        }
      ],
      "source": [
        "z <- qnorm(.995)\n",
        "n_confianca_99 <- (z * (desvio_padrao_amostra / e)) ** 2\n",
        "n_confianca_99 <- round(n_confianca_99)\n",
        "glue('Para um nível de confiança de 99% devemos selecionar uma amostra de {n_confianca_99} elementos.')"
      ]
    },
    {
      "cell_type": "markdown",
      "metadata": {
        "id": "Sy2KYMEgpi3C"
      },
      "source": [
        "# <font color='blue'>Solução do item 3</font>"
      ]
    },
    {
      "cell_type": "markdown",
      "metadata": {
        "id": "Tb07UQ2api3C"
      },
      "source": [
        "### Custo da pesquisa para o nível de confiança de 90%"
      ]
    },
    {
      "cell_type": "code",
      "execution_count": null,
      "metadata": {
        "colab": {
          "base_uri": "https://localhost:8080/",
          "height": 34
        },
        "id": "Xq3_dzXTpi3C",
        "outputId": "2170ae68-b8ae-4ee0-d0cd-7d3d061d8aa0"
      },
      "outputs": [
        {
          "output_type": "display_data",
          "data": {
            "text/html": [
              "'Para um nível de confiança de 90% o custo da pesquisa seria de R$ 58.900,00'"
            ],
            "text/markdown": "'Para um nível de confiança de 90% o custo da pesquisa seria de R$ 58.900,00'",
            "text/latex": "'Para um nível de confiança de 90\\% o custo da pesquisa seria de R\\$ 58.900,00'",
            "text/plain": [
              "Para um nível de confiança de 90% o custo da pesquisa seria de R$ 58.900,00"
            ]
          },
          "metadata": {}
        }
      ],
      "source": [
        "custo_confianca_90 <- n_confianca_90 * custo_entrevista\n",
        "glue('Para um nível de confiança de 90% o custo da pesquisa seria de R$ {format(custo_confianca_90, digits=2, decimal.mark=\",\", nsmall=2, big.mark=\".\", scientific=F)}')"
      ]
    },
    {
      "cell_type": "markdown",
      "metadata": {
        "id": "Yo_sgeWGpi3C"
      },
      "source": [
        "### Custo da pesquisa para o nível de confiança de 95%"
      ]
    },
    {
      "cell_type": "code",
      "execution_count": null,
      "metadata": {
        "colab": {
          "base_uri": "https://localhost:8080/",
          "height": 34
        },
        "id": "3fRUJAJOpi3D",
        "outputId": "be8e33cc-d135-478e-ca03-4095f56119aa"
      },
      "outputs": [
        {
          "output_type": "display_data",
          "data": {
            "text/html": [
              "'Para um nível de confiança de 95% o custo da pesquisa seria de R$ 83.600,00'"
            ],
            "text/markdown": "'Para um nível de confiança de 95% o custo da pesquisa seria de R$ 83.600,00'",
            "text/latex": "'Para um nível de confiança de 95\\% o custo da pesquisa seria de R\\$ 83.600,00'",
            "text/plain": [
              "Para um nível de confiança de 95% o custo da pesquisa seria de R$ 83.600,00"
            ]
          },
          "metadata": {}
        }
      ],
      "source": [
        "custo_confianca_95 <- n_confianca_95 * custo_entrevista\n",
        "glue('Para um nível de confiança de 95% o custo da pesquisa seria de R$ {format(custo_confianca_95, digits=2, decimal.mark=\",\", nsmall=2, big.mark=\".\", scientific=F)}')"
      ]
    },
    {
      "cell_type": "markdown",
      "metadata": {
        "id": "07jq2lcopi3D"
      },
      "source": [
        "### Custo da pesquisa para o nível de confiança de 99%"
      ]
    },
    {
      "cell_type": "code",
      "execution_count": null,
      "metadata": {
        "colab": {
          "base_uri": "https://localhost:8080/",
          "height": 34
        },
        "id": "Be_kpL6tpi3D",
        "outputId": "05f6794e-e649-4114-ad05-b395b7e7fd4f"
      },
      "outputs": [
        {
          "output_type": "display_data",
          "data": {
            "text/html": [
              "'Para um nível de confiança de 99% o custo da pesquisa seria de R$ 144.400,00'"
            ],
            "text/markdown": "'Para um nível de confiança de 99% o custo da pesquisa seria de R$ 144.400,00'",
            "text/latex": "'Para um nível de confiança de 99\\% o custo da pesquisa seria de R\\$ 144.400,00'",
            "text/plain": [
              "Para um nível de confiança de 99% o custo da pesquisa seria de R$ 144.400,00"
            ]
          },
          "metadata": {}
        }
      ],
      "source": [
        "custo_confianca_99 <- n_confianca_99 * custo_entrevista\n",
        "glue('Para um nível de confiança de 99% o custo da pesquisa seria de R$ {format(custo_confianca_99, digits=2, decimal.mark=\",\", nsmall=2, big.mark=\".\", scientific=F)}')"
      ]
    },
    {
      "cell_type": "markdown",
      "metadata": {
        "id": "753Wira8pi3D"
      },
      "source": [
        "# <font color='blue'>Solução do item 4</font>"
      ]
    },
    {
      "cell_type": "code",
      "execution_count": null,
      "metadata": {
        "colab": {
          "base_uri": "https://localhost:8080/",
          "height": 52
        },
        "id": "EO_Eg7hppi3D",
        "outputId": "30e0b59e-0a73-46c5-b85b-367bab04acbf"
      },
      "outputs": [
        {
          "output_type": "display_data",
          "data": {
            "text/html": [
              "1963.40266570567"
            ],
            "text/markdown": "1963.40266570567",
            "text/latex": "1963.40266570567",
            "text/plain": [
              "[1] 1963.403"
            ]
          },
          "metadata": {}
        },
        {
          "output_type": "display_data",
          "data": {
            "text/html": [
              "2399.71733429433"
            ],
            "text/markdown": "2399.71733429433",
            "text/latex": "2399.71733429433",
            "text/plain": [
              "[1] 2399.717"
            ]
          },
          "metadata": {}
        }
      ],
      "source": [
        "probabilidade <- 0.5 + (0.95 / 2)\n",
        "z <- qnorm(probabilidade)\n",
        "media_amostra - (z * ( desvio_padrao_amostra / sqrt(n_confianca_95) ))\n",
        "media_amostra + (z * ( desvio_padrao_amostra / sqrt(n_confianca_95) ))"
      ]
    },
    {
      "cell_type": "markdown",
      "metadata": {
        "id": "8KarQkmQpi3D"
      },
      "source": [
        "# <font color='blue'>Solução do item 5</font>"
      ]
    },
    {
      "cell_type": "code",
      "execution_count": null,
      "metadata": {
        "colab": {
          "base_uri": "https://localhost:8080/",
          "height": 34
        },
        "id": "ZvFb6YK0pi3D",
        "outputId": "d6d8c725-a77b-41a9-decc-8ffa3050aa83"
      },
      "outputs": [
        {
          "output_type": "display_data",
          "data": {
            "text/html": [
              "1500"
            ],
            "text/markdown": "1500",
            "text/latex": "1500",
            "text/plain": [
              "[1] 1500"
            ]
          },
          "metadata": {}
        }
      ],
      "source": [
        "n_confianca_95 <- recursos / custo_entrevista\n",
        "n_confianca_95"
      ]
    },
    {
      "cell_type": "code",
      "execution_count": null,
      "metadata": {
        "colab": {
          "base_uri": "https://localhost:8080/",
          "height": 34
        },
        "id": "7qB4gul6pi3D",
        "outputId": "98a47ab9-e499-4215-bd11-e1dfd14a340d"
      },
      "outputs": [
        {
          "output_type": "display_data",
          "data": {
            "text/html": [
              "162.864836424474"
            ],
            "text/markdown": "162.864836424474",
            "text/latex": "162.864836424474",
            "text/plain": [
              "[1] 162.8648"
            ]
          },
          "metadata": {}
        }
      ],
      "source": [
        "z <- qnorm(.975)\n",
        "e <- z * (desvio_padrao_amostra / sqrt(n_confianca_95))\n",
        "e"
      ]
    },
    {
      "cell_type": "code",
      "execution_count": null,
      "metadata": {
        "colab": {
          "base_uri": "https://localhost:8080/",
          "height": 34
        },
        "id": "l7f8pDmkpi3D",
        "outputId": "5fa17824-3fc1-4fae-edc7-8302417f0046"
      },
      "outputs": [
        {
          "output_type": "display_data",
          "data": {
            "text/html": [
              "'A nova margem de erro é 7,47%.'"
            ],
            "text/markdown": "'A nova margem de erro é 7,47%.'",
            "text/latex": "'A nova margem de erro é 7,47\\%.'",
            "text/plain": [
              "A nova margem de erro é 7,47%."
            ]
          },
          "metadata": {}
        }
      ],
      "source": [
        "e_percentual <- (e / media_amostra) * 100\n",
        "glue('A nova margem de erro é {format(e_percentual, digits = 2, nsmall = 2, decimal.mark = \",\")}%.')"
      ]
    },
    {
      "cell_type": "markdown",
      "metadata": {
        "id": "vtYydWMBpi3D"
      },
      "source": [
        "# <font color='blue'>Solução do item 6</font>"
      ]
    },
    {
      "cell_type": "code",
      "execution_count": null,
      "metadata": {
        "colab": {
          "base_uri": "https://localhost:8080/",
          "height": 34
        },
        "id": "ZWzyjVExpi3D",
        "outputId": "699e7eb1-e4b0-40ed-da25-796ef7a00286"
      },
      "outputs": [
        {
          "output_type": "display_data",
          "data": {
            "text/html": [
              "'A margem de erro é de R$ 109,08 para mais ou para menos'"
            ],
            "text/markdown": "'A margem de erro é de R$ 109,08 para mais ou para menos'",
            "text/latex": "'A margem de erro é de R\\$ 109,08 para mais ou para menos'",
            "text/plain": [
              "A margem de erro é de R$ 109,08 para mais ou para menos"
            ]
          },
          "metadata": {}
        }
      ],
      "source": [
        "e <- 0.05 * media_amostra\n",
        "glue('A margem de erro é de R$ {format(e, digits=2, decimal.mark=\",\", nsmall=2, big.mark=\".\", scientific=F)} para mais ou para menos')"
      ]
    },
    {
      "cell_type": "code",
      "execution_count": null,
      "metadata": {
        "colab": {
          "base_uri": "https://localhost:8080/",
          "height": 34
        },
        "id": "qmcEbAlgpi3E",
        "outputId": "619e1d1d-bd32-40a9-a787-185fab86b293"
      },
      "outputs": [
        {
          "output_type": "display_data",
          "data": {
            "text/html": [
              "'Para um nível de confiança de 95% devemos selecionar uma amostra de 3344 elementos.'"
            ],
            "text/markdown": "'Para um nível de confiança de 95% devemos selecionar uma amostra de 3344 elementos.'",
            "text/latex": "'Para um nível de confiança de 95\\% devemos selecionar uma amostra de 3344 elementos.'",
            "text/plain": [
              "Para um nível de confiança de 95% devemos selecionar uma amostra de 3344 elementos."
            ]
          },
          "metadata": {}
        }
      ],
      "source": [
        "z <- qnorm(.975)\n",
        "n_confianca_95 <- (z * (desvio_padrao_amostra / e)) ** 2\n",
        "n_confianca_95 <- round(n_confianca_95)\n",
        "glue('Para um nível de confiança de 95% devemos selecionar uma amostra de {n_confianca_95} elementos.')"
      ]
    },
    {
      "cell_type": "code",
      "execution_count": null,
      "metadata": {
        "colab": {
          "base_uri": "https://localhost:8080/",
          "height": 34
        },
        "id": "O_ZjKEsEpi3E",
        "outputId": "5556c13e-b379-4ce2-9c5c-77bdd3f019cc"
      },
      "outputs": [
        {
          "output_type": "display_data",
          "data": {
            "text/html": [
              "'Para um nível de confiança de 95% o custo da pesquisa seria de R$ 334.400,00'"
            ],
            "text/markdown": "'Para um nível de confiança de 95% o custo da pesquisa seria de R$ 334.400,00'",
            "text/latex": "'Para um nível de confiança de 95\\% o custo da pesquisa seria de R\\$ 334.400,00'",
            "text/plain": [
              "Para um nível de confiança de 95% o custo da pesquisa seria de R$ 334.400,00"
            ]
          },
          "metadata": {}
        }
      ],
      "source": [
        "custo_confianca_95 <- n_confianca_95 * custo_entrevista\n",
        "glue('Para um nível de confiança de 95% o custo da pesquisa seria de R$ {format(custo_confianca_95, digits=2, decimal.mark=\",\", nsmall=2, big.mark=\".\", scientific=F)}')"
      ]
    }
  ],
  "metadata": {
    "colab": {
      "provenance": []
    },
    "kernelspec": {
      "display_name": "R",
      "language": "R",
      "name": "ir"
    },
    "language_info": {
      "codemirror_mode": "r",
      "file_extension": ".r",
      "mimetype": "text/x-r-source",
      "name": "R",
      "pygments_lexer": "r",
      "version": "3.6.1"
    }
  },
  "nbformat": 4,
  "nbformat_minor": 0
}