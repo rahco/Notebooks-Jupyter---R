{
  "cells": [
    {
      "cell_type": "markdown",
      "metadata": {
        "id": "WvMflodMjQKe"
      },
      "source": [
        "***\n",
        "# <font color=green size=10>CURSO DE ESTATÍSTICA - PARTE 2</font>\n",
        "***"
      ]
    },
    {
      "cell_type": "markdown",
      "metadata": {
        "id": "cVgsZ_E3jQKg"
      },
      "source": [
        "# <font color=green>1 CONHECENDO OS DADOS</font>\n",
        "***"
      ]
    },
    {
      "cell_type": "markdown",
      "metadata": {
        "id": "TDjqYYNojQKh"
      },
      "source": [
        "## <font color=green>1.1 Dataset do projeto</font>\n",
        "***"
      ]
    },
    {
      "cell_type": "markdown",
      "metadata": {
        "id": "iN1gIbaKjQKh"
      },
      "source": [
        "### Pesquisa Nacional por Amostra de Domicílios - 2015\n",
        "\n",
        "A **Pesquisa Nacional por Amostra de Domicílios - PNAD** investiga anualmente, de forma permanente, características gerais da população, de educação, trabalho, rendimento e habitação e outras, com periodicidade variável, de acordo com as necessidades de informação para o país, como as características sobre migração, fecundidade, nupcialidade, saúde, segurança alimentar, entre outros temas. O levantamento dessas estatísticas constitui, ao longo dos 49 anos de realização da pesquisa, um importante instrumento para formulação, validação e avaliação de políticas orientadas para o desenvolvimento socioeconômico e a melhoria das condições de vida no Brasil."
      ]
    },
    {
      "cell_type": "markdown",
      "metadata": {
        "id": "U6V7br1RjQKi"
      },
      "source": [
        "### Fonte dos Dados\n",
        "\n",
        "https://ww2.ibge.gov.br/home/estatistica/populacao/trabalhoerendimento/pnad2015/microdados.shtm"
      ]
    },
    {
      "cell_type": "markdown",
      "metadata": {
        "id": "r0Fe_qnzjQKj"
      },
      "source": [
        "### Variáveis utilizadas\n",
        "\n",
        "> ### Renda\n",
        "> ***\n",
        "\n",
        "Rendimento mensal do trabalho principal para pessoas de 10 anos ou mais de idade.\n",
        "\n",
        "> ### Idade\n",
        "> ***\n",
        "\n",
        "Idade do morador na data de referência em anos.\n",
        "\n",
        "> ### Altura (elaboração própria)\n",
        "> ***\n",
        "\n",
        "Altura do morador em metros.\n",
        "\n",
        "> ### UF\n",
        "> ***\n",
        "\n",
        "|Código|Descrição|\n",
        "|---|---|\n",
        "|11|Rondônia|\n",
        "|12|Acre|\n",
        "|13|Amazonas|\n",
        "|14|Roraima|\n",
        "|15|Pará|\n",
        "|16|Amapá|\n",
        "|17|Tocantins|\n",
        "|21|Maranhão|\n",
        "|22|Piauí|\n",
        "|23|Ceará|\n",
        "|24|Rio Grande do Norte|\n",
        "|25|Paraíba|\n",
        "|26|Pernambuco|\n",
        "|27|Alagoas|\n",
        "|28|Sergipe|\n",
        "|29|Bahia|\n",
        "|31|Minas Gerais|\n",
        "|32|Espírito Santo|\n",
        "|33|Rio de Janeiro|\n",
        "|35|São Paulo|\n",
        "|41|Paraná|\n",
        "|42|Santa Catarina|\n",
        "|43|Rio Grande do Sul|\n",
        "|50|Mato Grosso do Sul|\n",
        "|51|Mato Grosso|\n",
        "|52|Goiás|\n",
        "|53|Distrito Federal|\n",
        "\n",
        "> ### Sexo\t\n",
        "> ***\n",
        "\n",
        "|Código|Descrição|\n",
        "|---|---|\n",
        "|0|Masculino|\n",
        "|1|Feminino|\n",
        "\n",
        "> ### Anos de Estudo\n",
        "> ***\n",
        "\n",
        "|Código|Descrição|\n",
        "|---|---|\n",
        "|1|Sem instrução e menos de 1 ano|\n",
        "|2|1 ano|\n",
        "|3|2 anos|\n",
        "|4|3 anos|\n",
        "|5|4 anos|\n",
        "|6|5 anos|\n",
        "|7|6 anos|\n",
        "|8|7 anos|\n",
        "|9|8 anos|\n",
        "|10|9 anos|\n",
        "|11|10 anos|\n",
        "|12|11 anos|\n",
        "|13|12 anos|\n",
        "|14|13 anos|\n",
        "|15|14 anos|\n",
        "|16|15 anos ou mais|\n",
        "|17|Não determinados| \n",
        "||Não aplicável|\n",
        "\n",
        "> ### Cor\n",
        "> ***\n",
        "\n",
        "|Código|Descrição|\n",
        "|---|---|\n",
        "|0|Indígena|\n",
        "|2|Branca|\n",
        "|4|Preta|\n",
        "|6|Amarela|\n",
        "|8|Parda|\n",
        "|9|Sem declaração|"
      ]
    },
    {
      "cell_type": "markdown",
      "metadata": {
        "id": "OK1IQH5cX7Gb"
      },
      "source": [
        "#### <font color='red'>Observação</font>\n",
        "***\n",
        "> Os seguintes tratamentos foram realizados nos dados originais:\n",
        "> 1. Foram eliminados os registros onde a **Renda** era inválida (999 999 999 999);\n",
        "> 2. Foram eliminados os registros onde a **Renda** era missing;\n",
        "> 3. Foram considerados somente os registros das **Pessoas de Referência** de cada domicílio (responsável pelo domicílio)."
      ]
    },
    {
      "cell_type": "markdown",
      "metadata": {
        "id": "hVqn12TlFDgV"
      },
      "source": [
        "### Configurações"
      ]
    },
    {
      "cell_type": "code",
      "execution_count": null,
      "metadata": {
        "id": "ycLk8YHIFDgW"
      },
      "outputs": [],
      "source": [
        "library(ggplot2)"
      ]
    },
    {
      "cell_type": "code",
      "execution_count": null,
      "metadata": {
        "id": "8wluIqznFDgX"
      },
      "outputs": [],
      "source": [
        "options(repr.plot.width = 7, repr.plot.height = 4)"
      ]
    },
    {
      "cell_type": "markdown",
      "metadata": {
        "id": "8Rw70V6ojQKk"
      },
      "source": [
        "### Importando dataset do projeto"
      ]
    },
    {
      "cell_type": "code",
      "execution_count": null,
      "metadata": {
        "id": "ufRZ7TLwjQKo"
      },
      "outputs": [],
      "source": [
        "dados <- read.csv('dados.csv')"
      ]
    },
    {
      "cell_type": "code",
      "execution_count": null,
      "metadata": {
        "colab": {
          "base_uri": "https://localhost:8080/",
          "height": 255
        },
        "id": "GsC_WhLFjQKq",
        "outputId": "ae97035f-22c2-490e-a269-758e84e5da98",
        "scrolled": true
      },
      "outputs": [
        {
          "output_type": "display_data",
          "data": {
            "text/html": [
              "<table class=\"dataframe\">\n",
              "<caption>A data.frame: 5 × 7</caption>\n",
              "<thead>\n",
              "\t<tr><th></th><th scope=col>UF</th><th scope=col>Sexo</th><th scope=col>Idade</th><th scope=col>Cor</th><th scope=col>Anos.de.Estudo</th><th scope=col>Renda</th><th scope=col>Altura</th></tr>\n",
              "\t<tr><th></th><th scope=col>&lt;int&gt;</th><th scope=col>&lt;int&gt;</th><th scope=col>&lt;int&gt;</th><th scope=col>&lt;int&gt;</th><th scope=col>&lt;int&gt;</th><th scope=col>&lt;int&gt;</th><th scope=col>&lt;dbl&gt;</th></tr>\n",
              "</thead>\n",
              "<tbody>\n",
              "\t<tr><th scope=row>1</th><td>11</td><td>0</td><td>23</td><td>8</td><td>12</td><td> 800</td><td>1.603808</td></tr>\n",
              "\t<tr><th scope=row>2</th><td>11</td><td>1</td><td>23</td><td>2</td><td>12</td><td>1150</td><td>1.739790</td></tr>\n",
              "\t<tr><th scope=row>3</th><td>11</td><td>1</td><td>35</td><td>8</td><td>15</td><td> 880</td><td>1.760444</td></tr>\n",
              "\t<tr><th scope=row>4</th><td>11</td><td>0</td><td>46</td><td>2</td><td> 6</td><td>3500</td><td>1.783158</td></tr>\n",
              "\t<tr><th scope=row>5</th><td>11</td><td>1</td><td>47</td><td>8</td><td> 9</td><td> 150</td><td>1.690631</td></tr>\n",
              "</tbody>\n",
              "</table>\n"
            ],
            "text/markdown": "\nA data.frame: 5 × 7\n\n| <!--/--> | UF &lt;int&gt; | Sexo &lt;int&gt; | Idade &lt;int&gt; | Cor &lt;int&gt; | Anos.de.Estudo &lt;int&gt; | Renda &lt;int&gt; | Altura &lt;dbl&gt; |\n|---|---|---|---|---|---|---|---|\n| 1 | 11 | 0 | 23 | 8 | 12 |  800 | 1.603808 |\n| 2 | 11 | 1 | 23 | 2 | 12 | 1150 | 1.739790 |\n| 3 | 11 | 1 | 35 | 8 | 15 |  880 | 1.760444 |\n| 4 | 11 | 0 | 46 | 2 |  6 | 3500 | 1.783158 |\n| 5 | 11 | 1 | 47 | 8 |  9 |  150 | 1.690631 |\n\n",
            "text/latex": "A data.frame: 5 × 7\n\\begin{tabular}{r|lllllll}\n  & UF & Sexo & Idade & Cor & Anos.de.Estudo & Renda & Altura\\\\\n  & <int> & <int> & <int> & <int> & <int> & <int> & <dbl>\\\\\n\\hline\n\t1 & 11 & 0 & 23 & 8 & 12 &  800 & 1.603808\\\\\n\t2 & 11 & 1 & 23 & 2 & 12 & 1150 & 1.739790\\\\\n\t3 & 11 & 1 & 35 & 8 & 15 &  880 & 1.760444\\\\\n\t4 & 11 & 0 & 46 & 2 &  6 & 3500 & 1.783158\\\\\n\t5 & 11 & 1 & 47 & 8 &  9 &  150 & 1.690631\\\\\n\\end{tabular}\n",
            "text/plain": [
              "  UF Sexo Idade Cor Anos.de.Estudo Renda Altura  \n",
              "1 11 0    23    8   12              800  1.603808\n",
              "2 11 1    23    2   12             1150  1.739790\n",
              "3 11 1    35    8   15              880  1.760444\n",
              "4 11 0    46    2    6             3500  1.783158\n",
              "5 11 1    47    8    9              150  1.690631"
            ]
          },
          "metadata": {}
        }
      ],
      "source": [
        "head(dados, 5)"
      ]
    },
    {
      "cell_type": "markdown",
      "metadata": {
        "id": "-z3bLQIUG3Hv"
      },
      "source": [
        "---"
      ]
    },
    {
      "cell_type": "markdown",
      "metadata": {
        "id": "tL9xVLwTX07g"
      },
      "source": [
        "# <font color=green>2 DISTRIBUIÇÕES DE PROBABILIDADE</font>\n",
        "***"
      ]
    },
    {
      "cell_type": "markdown",
      "metadata": {
        "id": "3nlvC-5qG3Bj"
      },
      "source": [
        "## <font color=red>Problema</font>\n",
        "***"
      ]
    },
    {
      "cell_type": "markdown",
      "metadata": {
        "id": "8CclIz9oG3Bk"
      },
      "source": [
        "Em um concurso para preencher uma vaga de cientista de dados temos um total de **10 questões** de múltipla escolha com **3 alternativas possíveis** em cada questão. **Cada questão tem o mesmo valor.** Suponha que um candidato resolva se aventurar sem ter estudado absolutamente nada. Ele resolve fazer a prova de olhos vendados e chutar todas as resposta. Assumindo que a prova **vale 10 pontos e a nota de corte seja 5**, obtenha a probabilidade deste candidato **acertar 5 questões** e também a probabilidade deste candidato **passar para a próxima etapa do processo seletivo**."
      ]
    },
    {
      "cell_type": "markdown",
      "metadata": {
        "id": "KJxd2KFSYLML"
      },
      "source": [
        "## <font color=green>2.1 Distribuição Binomial</font>\n",
        "***"
      ]
    },
    {
      "cell_type": "markdown",
      "metadata": {
        "id": "mcbl3KbnG3Bq"
      },
      "source": [
        "Um evento **binomial** é caracterizado pela possibilidade de ocorrência de apenas duas categorias. Estas categorias somadas representam todo o espaço amostral, sendo também mutuamente excludentes, ou seja, a ocorrência de uma implica na não ocorrência da outra.\n",
        "\n",
        "Em análises estatísticas o uso mais comum da distribuição binomial é na solução de problemas que envolvem situações de **sucesso** e **fracasso**."
      ]
    },
    {
      "cell_type": "markdown",
      "metadata": {
        "id": "iLoYAuJ9G3Bs"
      },
      "source": [
        "# $$P(k)=\\binom{n}{k} p^k q^{n-k}$$\n",
        "\n",
        "Onde:\n",
        "\n",
        "$p$ = probabilidade de sucesso\n",
        "\n",
        "$q = (1 - p)$ = probabilidade de fracasso\n",
        "\n",
        "$n$ = número de eventos estudados\n",
        "\n",
        "$k$ = número de eventos desejados que tenham sucesso"
      ]
    },
    {
      "cell_type": "markdown",
      "metadata": {
        "id": "PxEgWbFdG3Bt"
      },
      "source": [
        "### Experimento Binomial"
      ]
    },
    {
      "cell_type": "markdown",
      "metadata": {
        "id": "eqQK3Ny-G3Bv"
      },
      "source": [
        "1. Realização de $n$ ensaios idênticos.\n",
        "\n",
        "2. Os ensaios são independentes.\n",
        "\n",
        "3. Somente dois resultados são possíveis, exemplo: Verdadeiro ou falso; Cara ou coroa; Sucesso ou fracasso.\n",
        "\n",
        "4. A probabilidade de sucesso é representada por $p$ e a de fracasso por $1-p=q$. Estas probabilidades não se modificam de ensaio para ensaio."
      ]
    },
    {
      "cell_type": "markdown",
      "metadata": {
        "id": "mT77udQ0G3Bx"
      },
      "source": [
        "### Média da distribuição binomial"
      ]
    },
    {
      "cell_type": "markdown",
      "metadata": {
        "id": "EGiuemgqG3By"
      },
      "source": [
        "O valor esperado ou a média da distribuição binomial é igual ao número de experimentos realizados multiplicado pela chance de ocorrência do evento.\n",
        "\n",
        "# $$\\mu = n \\times p$$"
      ]
    },
    {
      "cell_type": "markdown",
      "metadata": {
        "id": "1fDLi96OG3Bz"
      },
      "source": [
        "### Desvio padrão da distribuição binomial"
      ]
    },
    {
      "cell_type": "markdown",
      "metadata": {
        "id": "EZojizotG3B1"
      },
      "source": [
        "O desvio padrão é o produto entre o número de experimentos, a probabilidade de sucesso e a probabilidade de fracasso.\n",
        "\n",
        "# $$\\sigma = \\sqrt{n \\times p \\times q}$$"
      ]
    },
    {
      "cell_type": "markdown",
      "metadata": {
        "id": "MxxuJNSwG3B7"
      },
      "source": [
        "### Combinações\n",
        "\n",
        "Número de combinações de $n$ objetos, tomados $k$ a cada vez, é:\n",
        "\n",
        "# $$C_{k}^{n} = \\binom{n}{k} = \\frac{n!}{k!(n - k)!}$$\n",
        "\n",
        "Onde\n",
        "\n",
        "## $$n! = n\\times(n-1)\\times(n-2)\\times...\\times(2)\\times(1)$$\n",
        "## $$k! = k\\times(k-1)\\times(k-2)\\times...\\times(2)\\times(1)$$\n",
        "\n",
        "Por definição\n",
        "\n",
        "## $$0! = 1$$\n",
        "\n",
        "#### <font color=red>Documentações:\n",
        "\n",
        "- [**choose**](https://www.rdocumentation.org/packages/base/versions/3.6.1/topics/Special)"
      ]
    },
    {
      "cell_type": "markdown",
      "metadata": {
        "id": "Udz87Pq3G3B8"
      },
      "source": [
        "## <font color='blue'>Exemplo: Mega Sena</font>"
      ]
    },
    {
      "cell_type": "markdown",
      "metadata": {
        "id": "h1Mo9AxyG3B8"
      },
      "source": [
        "Em um volante de loteria da Mega Sena temos um total de **60 números** para escolher onde a aposta mínima é de **seis números**. Você que é curiosa(o) resolve calcular a probabilidade de se acertar na Mega Sena com apenas **um jogo**. Para isso precisamos saber quantas **combinações de seis números podem ser formadas com os 60 números disponíveis**.\n",
        "\n",
        "### $$C_{6}^{60} = \\binom{60}{6} = \\frac{60!}{6!(60 - 6)!}$$"
      ]
    },
    {
      "cell_type": "code",
      "execution_count": null,
      "metadata": {
        "id": "ZDkONVZLFDga",
        "outputId": "8db4e6f7-5b1d-4611-e679-92e810f45b3a",
        "colab": {
          "base_uri": "https://localhost:8080/",
          "height": 34
        }
      },
      "outputs": [
        {
          "output_type": "display_data",
          "data": {
            "text/html": [
              "50063860"
            ],
            "text/markdown": "50063860",
            "text/latex": "50063860",
            "text/plain": [
              "[1] 50063860"
            ]
          },
          "metadata": {}
        }
      ],
      "source": [
        "# Com a função choose obtemos o número de combinações possíveis de serem formadas nos jogos\n",
        "\n",
        "combinacoes <- choose(60, 6)\n",
        "combinacoes"
      ]
    },
    {
      "cell_type": "code",
      "execution_count": null,
      "metadata": {
        "colab": {
          "base_uri": "https://localhost:8080/",
          "height": 34
        },
        "id": "LpioeTSXG3CB",
        "outputId": "0e74e896-c1c0-4897-87d0-9779cf4f6edc"
      },
      "outputs": [
        {
          "output_type": "display_data",
          "data": {
            "text/html": [
              "1.99744885831816e-08"
            ],
            "text/markdown": "1.99744885831816e-08",
            "text/latex": "1.99744885831816e-08",
            "text/plain": [
              "[1] 1.997449e-08"
            ]
          },
          "metadata": {}
        }
      ],
      "source": [
        "# Dividindo um jogo pela total de combinações chegamos ao percentual de probabilidade de se acertar um jogo\n",
        "\n",
        "probabilidade <- 1 / combinacoes\n",
        "probabilidade"
      ]
    },
    {
      "cell_type": "markdown",
      "source": [
        "## Exercídio - 01"
      ],
      "metadata": {
        "id": "mAEdMxG2i5tw"
      }
    },
    {
      "cell_type": "code",
      "source": [
        "combinacoes_e01 <- choose(25, 20)\n",
        "combinacoes_e01"
      ],
      "metadata": {
        "colab": {
          "base_uri": "https://localhost:8080/",
          "height": 34
        },
        "id": "PuW9OsZRi6O4",
        "outputId": "67327d99-6c4f-47ac-e307-f45bfc9af19a"
      },
      "execution_count": null,
      "outputs": [
        {
          "output_type": "display_data",
          "data": {
            "text/html": [
              "53130"
            ],
            "text/markdown": "53130",
            "text/latex": "53130",
            "text/plain": [
              "[1] 53130"
            ]
          },
          "metadata": {}
        }
      ]
    },
    {
      "cell_type": "code",
      "source": [
        "probabilidade_e01 <- 1 / combinacoes_e01\n",
        "probabilidade_e01"
      ],
      "metadata": {
        "colab": {
          "base_uri": "https://localhost:8080/",
          "height": 34
        },
        "id": "XsRZkyw7i_mz",
        "outputId": "693f2bb9-c2c9-447b-d462-bafde54062ae"
      },
      "execution_count": null,
      "outputs": [
        {
          "output_type": "display_data",
          "data": {
            "text/html": [
              "1.88217579521927e-05"
            ],
            "text/markdown": "1.88217579521927e-05",
            "text/latex": "1.88217579521927e-05",
            "text/plain": [
              "[1] 1.882176e-05"
            ]
          },
          "metadata": {}
        }
      ]
    },
    {
      "cell_type": "markdown",
      "metadata": {
        "id": "t1rA1yJpG3CF"
      },
      "source": [
        "## <font color='blue'>Exemplo: Concurso para cientista de dados</font>"
      ]
    },
    {
      "cell_type": "markdown",
      "metadata": {
        "id": "K0DPDD37G3CG"
      },
      "source": [
        "Em um concurso para preencher uma vaga de cientista de dados temos um total de **10 questões** de múltipla escolha com **3 alternativas possíveis** em cada questão. **Cada questão tem o mesmo valor.** Suponha que um candidato resolva se aventurar sem ter estudado absolutamente nada. Ele resolve fazer a prova de olhos vendados e chutar todas as resposta. Assumindo que a prova **vale 10 pontos e a nota de corte seja 5**, obtenha a probabilidade deste candidato **acertar 5 questões** e também a probabilidade deste candidato **passar para a próxima etapa do processo seletivo**."
      ]
    },
    {
      "cell_type": "markdown",
      "metadata": {
        "id": "sf-NMPfxG3CH"
      },
      "source": [
        "### Qual o número de ensaios ($n$)?"
      ]
    },
    {
      "cell_type": "code",
      "execution_count": null,
      "metadata": {
        "id": "WmnjMTnYG3CH",
        "colab": {
          "base_uri": "https://localhost:8080/",
          "height": 34
        },
        "outputId": "f031f3cf-613b-4a9a-e2ea-31fcd5a288ea"
      },
      "outputs": [
        {
          "output_type": "display_data",
          "data": {
            "text/html": [
              "10"
            ],
            "text/markdown": "10",
            "text/latex": "10",
            "text/plain": [
              "[1] 10"
            ]
          },
          "metadata": {}
        }
      ],
      "source": [
        "n <- 10\n",
        "n"
      ]
    },
    {
      "cell_type": "markdown",
      "metadata": {
        "id": "1USf9Ro8G3CK"
      },
      "source": [
        "### Os ensaios são independentes?"
      ]
    },
    {
      "cell_type": "markdown",
      "metadata": {
        "id": "82xf2XIkG3CM"
      },
      "source": [
        "Sim. A opção escolhida em uma questão não influencia em nada a opção escolhida em outra questão."
      ]
    },
    {
      "cell_type": "markdown",
      "metadata": {
        "id": "7jN0H5e7G3CN"
      },
      "source": [
        "### Somente dois resultados são possíveis em cada ensaio?"
      ]
    },
    {
      "cell_type": "markdown",
      "metadata": {
        "id": "gGxcY7K8G3CO"
      },
      "source": [
        "Sim. O candidato tem duas possibilidades, ACERTA ou ERRAR uma questão. "
      ]
    },
    {
      "cell_type": "markdown",
      "metadata": {
        "id": "MZw2LDQjG3CR"
      },
      "source": [
        "### Qual a probabilidade de sucesso ($p$)?"
      ]
    },
    {
      "cell_type": "code",
      "execution_count": null,
      "metadata": {
        "id": "AazGDtt0G3CS",
        "colab": {
          "base_uri": "https://localhost:8080/",
          "height": 34
        },
        "outputId": "a12afb56-c7e7-4c73-ad80-2884dff71245"
      },
      "outputs": [
        {
          "output_type": "display_data",
          "data": {
            "text/html": [
              "0.333333333333333"
            ],
            "text/markdown": "0.333333333333333",
            "text/latex": "0.333333333333333",
            "text/plain": [
              "[1] 0.3333333"
            ]
          },
          "metadata": {}
        }
      ],
      "source": [
        "numero_de_alternativas_por_questao <- 3\n",
        "p <- 1 / numero_de_alternativas_por_questao\n",
        "p"
      ]
    },
    {
      "cell_type": "markdown",
      "metadata": {
        "id": "KPCw41OlG3CX"
      },
      "source": [
        "### Qual a probabilidade de fracasso ($q$)?"
      ]
    },
    {
      "cell_type": "code",
      "execution_count": null,
      "metadata": {
        "id": "FRhmjCnpG3CZ",
        "colab": {
          "base_uri": "https://localhost:8080/",
          "height": 34
        },
        "outputId": "fab44134-e464-4d02-e244-496213394c20"
      },
      "outputs": [
        {
          "output_type": "display_data",
          "data": {
            "text/html": [
              "0.666666666666667"
            ],
            "text/markdown": "0.666666666666667",
            "text/latex": "0.666666666666667",
            "text/plain": [
              "[1] 0.6666667"
            ]
          },
          "metadata": {}
        }
      ],
      "source": [
        "q <- 1 - p\n",
        "q"
      ]
    },
    {
      "cell_type": "markdown",
      "metadata": {
        "id": "W2htpmzaG3Ce"
      },
      "source": [
        "### Qual o total de eventos que se deseja obter sucesso ($k$)?"
      ]
    },
    {
      "cell_type": "code",
      "execution_count": null,
      "metadata": {
        "id": "MmHpiIIuG3Cj",
        "colab": {
          "base_uri": "https://localhost:8080/",
          "height": 34
        },
        "outputId": "49a6ea68-db6c-461d-a9ac-7e308a4e1418"
      },
      "outputs": [
        {
          "output_type": "display_data",
          "data": {
            "text/html": [
              "5"
            ],
            "text/markdown": "5",
            "text/latex": "5",
            "text/plain": [
              "[1] 5"
            ]
          },
          "metadata": {}
        }
      ],
      "source": [
        "# O elemento k representa o número de sucessos que se deseja obter um resultado, devendo sempre ser um valor menor que o espaço amostral n\n",
        "\n",
        "k <- 5\n",
        "k"
      ]
    },
    {
      "cell_type": "markdown",
      "metadata": {
        "id": "r8TZ6DSuG3Cm"
      },
      "source": [
        "### Solução 1"
      ]
    },
    {
      "cell_type": "code",
      "execution_count": null,
      "metadata": {
        "id": "jL89dhDMFDgc",
        "colab": {
          "base_uri": "https://localhost:8080/",
          "height": 34
        },
        "outputId": "79bfdce4-20e2-4718-ebd3-25ec7fdebeb3"
      },
      "outputs": [
        {
          "output_type": "display_data",
          "data": {
            "text/html": [
              "0.136564548087182"
            ],
            "text/markdown": "0.136564548087182",
            "text/latex": "0.136564548087182",
            "text/plain": [
              "[1] 0.1365645"
            ]
          },
          "metadata": {}
        }
      ],
      "source": [
        "probabilidade <- choose(n, k) * (p ** k) * (q ** (n - k))\n",
        "probabilidade"
      ]
    },
    {
      "cell_type": "markdown",
      "metadata": {
        "id": "hvj2sYaSG3Ct"
      },
      "source": [
        "### Solução 2\n",
        "\n",
        "#### <font color=red>Documentações:\n",
        "\n",
        "- [**dbinom**](https://www.rdocumentation.org/packages/stats/versions/3.6.1/topics/Binomial)"
      ]
    },
    {
      "cell_type": "code",
      "execution_count": null,
      "metadata": {
        "id": "YwqHt6ELFDgd",
        "colab": {
          "base_uri": "https://localhost:8080/",
          "height": 34
        },
        "outputId": "f48abe44-d1fb-4204-d105-03f855ebb4f4"
      },
      "outputs": [
        {
          "output_type": "display_data",
          "data": {
            "text/html": [
              "0.136564548087182"
            ],
            "text/markdown": "0.136564548087182",
            "text/latex": "0.136564548087182",
            "text/plain": [
              "[1] 0.1365645"
            ]
          },
          "metadata": {}
        }
      ],
      "source": [
        "# A função dbinom gera de forma simplificada a probabilidade de sucesso de um evento baseado no espaço amostral e na probabilidade eventual do mesmo.\n",
        "\n",
        "dbinom(x = k, size = n, prob = p)"
      ]
    },
    {
      "cell_type": "markdown",
      "metadata": {
        "id": "h7n1hJVLFDgd"
      },
      "source": [
        "### Obter a probabilidade do candidato passar"
      ]
    },
    {
      "cell_type": "markdown",
      "metadata": {
        "id": "NVzy7b3RFDgd"
      },
      "source": [
        "### $$P(acertar > 4) = P(5) + P(6) + P(7) + P(8) + P(9) + P(10)$$"
      ]
    },
    {
      "cell_type": "code",
      "execution_count": null,
      "metadata": {
        "id": "KzKrbg6XFDgd",
        "colab": {
          "base_uri": "https://localhost:8080/",
          "height": 34
        },
        "outputId": "a3ffbd4d-eb2b-4c0f-ca54-a2b96e9b778d"
      },
      "outputs": [
        {
          "output_type": "display_data",
          "data": {
            "text/html": [
              "0.213128080069095"
            ],
            "text/markdown": "0.213128080069095",
            "text/latex": "0.213128080069095",
            "text/plain": [
              "[1] 0.2131281"
            ]
          },
          "metadata": {}
        }
      ],
      "source": [
        "# Somando as probabilidades temos a probabilidade final que é a soma das chances do candidato acerta um valor >= a 5 questões.\n",
        "\n",
        "dbinom(x = 5, size = n, prob = p) +\n",
        "dbinom(x = 6, size = n, prob = p) +\n",
        "dbinom(x = 7, size = n, prob = p) +\n",
        "dbinom(x = 8, size = n, prob = p) +\n",
        "dbinom(x = 9, size = n, prob = p) + \n",
        "dbinom(x = 10, size = n, prob = p)"
      ]
    },
    {
      "cell_type": "code",
      "execution_count": null,
      "metadata": {
        "id": "P5q75xCvFDgd",
        "colab": {
          "base_uri": "https://localhost:8080/",
          "height": 34
        },
        "outputId": "0ad4711e-f6a9-417f-d458-f95c303f8b4e"
      },
      "outputs": [
        {
          "output_type": "display_data",
          "data": {
            "text/html": [
              "<style>\n",
              ".list-inline {list-style: none; margin:0; padding: 0}\n",
              ".list-inline>li {display: inline-block}\n",
              ".list-inline>li:not(:last-child)::after {content: \"\\00b7\"; padding: 0 .5ex}\n",
              "</style>\n",
              "<ol class=list-inline><li>0.136564548087182</li><li>0.0569018950363257</li><li>0.0162576842960931</li><li>0.00304831580551744</li><li>0.000338701756168605</li><li>1.69350878084303e-05</li></ol>\n"
            ],
            "text/markdown": "1. 0.136564548087182\n2. 0.0569018950363257\n3. 0.0162576842960931\n4. 0.00304831580551744\n5. 0.000338701756168605\n6. 1.69350878084303e-05\n\n\n",
            "text/latex": "\\begin{enumerate*}\n\\item 0.136564548087182\n\\item 0.0569018950363257\n\\item 0.0162576842960931\n\\item 0.00304831580551744\n\\item 0.000338701756168605\n\\item 1.69350878084303e-05\n\\end{enumerate*}\n",
            "text/plain": [
              "[1] 1.365645e-01 5.690190e-02 1.625768e-02 3.048316e-03 3.387018e-04\n",
              "[6] 1.693509e-05"
            ]
          },
          "metadata": {}
        }
      ],
      "source": [
        "# A função dbinom pode ter no parâmetro x (chances de sucesso) uma series, gerando assim uma series com todas as probabilidades.\n",
        "\n",
        "dbinom(x = 5:10, size = n, prob = p)"
      ]
    },
    {
      "cell_type": "code",
      "execution_count": null,
      "metadata": {
        "id": "DsGvC7VCFDgd",
        "colab": {
          "base_uri": "https://localhost:8080/",
          "height": 34
        },
        "outputId": "04d1fb33-4cf8-46df-aebd-a15a718cb24d"
      },
      "outputs": [
        {
          "output_type": "display_data",
          "data": {
            "text/html": [
              "0.213128080069095"
            ],
            "text/markdown": "0.213128080069095",
            "text/latex": "0.213128080069095",
            "text/plain": [
              "[1] 0.2131281"
            ]
          },
          "metadata": {}
        }
      ],
      "source": [
        "# Fazendo a sum dessas probabilidades temos de forma mais simples a probabilidade da soma das probabilidades de acertos.\n",
        "\n",
        "sum(dbinom(x = 5:10, size = n, prob = p))"
      ]
    },
    {
      "cell_type": "code",
      "source": [
        "# Uma outra alternativa de se obter a probabilidade somada, é utiliza a função pbinom que substitui o valor x por q que representa a limite inferior de início das chances de sucesso (>=5  = > 4).\n",
        "# O parâmetro lower.tail como FALSE indica para função considerar a parte superior da calda de amostra, ou seja, [5,6,7,8,9,10].\n",
        "\n",
        "pbinom(q = 4, size = n, prob = p, lower.tail = FALSE)"
      ],
      "metadata": {
        "colab": {
          "base_uri": "https://localhost:8080/",
          "height": 34
        },
        "id": "oDfjNWQ7lJ9-",
        "outputId": "584df1fd-d0df-4152-c55e-739dbdf601c8"
      },
      "execution_count": null,
      "outputs": [
        {
          "output_type": "display_data",
          "data": {
            "text/html": [
              "0.213128080069095"
            ],
            "text/markdown": "0.213128080069095",
            "text/latex": "0.213128080069095",
            "text/plain": [
              "[1] 0.2131281"
            ]
          },
          "metadata": {}
        }
      ]
    },
    {
      "cell_type": "markdown",
      "source": [
        "## Exercício - 02"
      ],
      "metadata": {
        "id": "9a1fkUNUmDf-"
      }
    },
    {
      "cell_type": "code",
      "source": [
        "# Um dado de seis faces, não viciado, é lançado para o alto quatro vezes. Utilizando a distribuição binomial, \n",
        "# obtenha a probabilidade de o dado cair com um número par voltado para cima duas vezes.\n",
        "\n",
        "p_ex2 = 1 / 2   # Probabilidade de sair um número PAR\n",
        "n_ex2 = 4       # Total de lançamentos\n",
        "k_ex2 = 2       # Total de sucessos (número PAR voltado para cima)\n",
        "\n",
        "dbinom(x = k_ex2, size = n_ex2, prob = p_ex2)"
      ],
      "metadata": {
        "colab": {
          "base_uri": "https://localhost:8080/",
          "height": 34
        },
        "id": "X4GELFHBmEE9",
        "outputId": "f9436d66-69bd-4d92-cf14-ecae26f080ea"
      },
      "execution_count": null,
      "outputs": [
        {
          "output_type": "display_data",
          "data": {
            "text/html": [
              "0.375"
            ],
            "text/markdown": "0.375",
            "text/latex": "0.375",
            "text/plain": [
              "[1] 0.375"
            ]
          },
          "metadata": {}
        }
      ]
    },
    {
      "cell_type": "code",
      "source": [
        "# Um dado de seis faces, perfeitamente equilibrado, é lançado para o alto dez vezes. Utilizando a distribuição binomial, \n",
        "# obtenha a probabilidade de o dado cair com o número 5 voltado para cima pelo menos três vezes.\n",
        "\n",
        "p_ex2 = 1 / 6    # Probabilidade de sair o número CINCO\n",
        "n_ex2 = 10       # Total de lançamentos\n",
        "\n",
        "pbinom(q = 2, size = n_ex2, prob = p_ex2, lower.tail = F)"
      ],
      "metadata": {
        "colab": {
          "base_uri": "https://localhost:8080/",
          "height": 34
        },
        "id": "8S24j7mbnIcl",
        "outputId": "59a33ad6-b280-4b8a-f0e6-198574186fa2"
      },
      "execution_count": null,
      "outputs": [
        {
          "output_type": "display_data",
          "data": {
            "text/html": [
              "0.224773202128741"
            ],
            "text/markdown": "0.224773202128741",
            "text/latex": "0.224773202128741",
            "text/plain": [
              "[1] 0.2247732"
            ]
          },
          "metadata": {}
        }
      ]
    },
    {
      "cell_type": "markdown",
      "metadata": {
        "id": "7hAZ4XkMG3Cx"
      },
      "source": [
        "## <font color='blue'>Exemplo: Gincana</font>"
      ]
    },
    {
      "cell_type": "markdown",
      "metadata": {
        "id": "l42alRhOG3Cy"
      },
      "source": [
        "Uma cidade do interior realiza todos os anos uma gincana para arrecadar fundos para o hospital da cidade. Na última gincana se sabe que a **proporção de participantes do sexo feminino foi de 60%**. **O total de equipes, com 12 integrantes, inscritas na gincana deste ano é de 30**. Com as informações acima responda: Quantas equipes deverão ser formadas por **8 mulheres**?"
      ]
    },
    {
      "cell_type": "markdown",
      "metadata": {
        "id": "dqBGf6d7G3C0"
      },
      "source": [
        "### Solução"
      ]
    },
    {
      "cell_type": "code",
      "execution_count": null,
      "metadata": {
        "id": "Xw9b6ch3G3C1",
        "colab": {
          "base_uri": "https://localhost:8080/",
          "height": 34
        },
        "outputId": "cbbb75ec-95d4-407d-e9e6-ed475ebea59a"
      },
      "outputs": [
        {
          "output_type": "display_data",
          "data": {
            "text/html": [
              "0.6"
            ],
            "text/markdown": "0.6",
            "text/latex": "0.6",
            "text/plain": [
              "[1] 0.6"
            ]
          },
          "metadata": {}
        }
      ],
      "source": [
        "p <- 0.6\n",
        "p"
      ]
    },
    {
      "cell_type": "code",
      "execution_count": null,
      "metadata": {
        "id": "R3-RaxP5G3C3",
        "colab": {
          "base_uri": "https://localhost:8080/",
          "height": 34
        },
        "outputId": "e2d96988-ac07-411d-af87-63d0c3fa3cbc"
      },
      "outputs": [
        {
          "output_type": "display_data",
          "data": {
            "text/html": [
              "12"
            ],
            "text/markdown": "12",
            "text/latex": "12",
            "text/plain": [
              "[1] 12"
            ]
          },
          "metadata": {}
        }
      ],
      "source": [
        "n <- 12\n",
        "n"
      ]
    },
    {
      "cell_type": "code",
      "execution_count": null,
      "metadata": {
        "id": "otBHHyD0G3C6",
        "colab": {
          "base_uri": "https://localhost:8080/",
          "height": 34
        },
        "outputId": "c5f324ef-bbe1-407e-a22f-6814f6f5bb14"
      },
      "outputs": [
        {
          "output_type": "display_data",
          "data": {
            "text/html": [
              "8"
            ],
            "text/markdown": "8",
            "text/latex": "8",
            "text/plain": [
              "[1] 8"
            ]
          },
          "metadata": {}
        }
      ],
      "source": [
        "k <- 8 \n",
        "k"
      ]
    },
    {
      "cell_type": "code",
      "execution_count": null,
      "metadata": {
        "id": "FYDmoiCTFDge",
        "colab": {
          "base_uri": "https://localhost:8080/",
          "height": 34
        },
        "outputId": "e9404191-6631-497f-dab0-449dbb6876ce"
      },
      "outputs": [
        {
          "output_type": "display_data",
          "data": {
            "text/html": [
              "0.21284093952"
            ],
            "text/markdown": "0.21284093952",
            "text/latex": "0.21284093952",
            "text/plain": [
              "[1] 0.2128409"
            ]
          },
          "metadata": {}
        }
      ],
      "source": [
        "probabilidade <- dbinom(x = k, size = n, prob = p)\n",
        "probabilidade"
      ]
    },
    {
      "cell_type": "code",
      "execution_count": null,
      "metadata": {
        "id": "Tg53uGL4G3DA",
        "colab": {
          "base_uri": "https://localhost:8080/",
          "height": 34
        },
        "outputId": "fb5c051b-da2f-49f3-c993-d3cf39c6e035"
      },
      "outputs": [
        {
          "output_type": "display_data",
          "data": {
            "text/html": [
              "6.3852281856"
            ],
            "text/markdown": "6.3852281856",
            "text/latex": "6.3852281856",
            "text/plain": [
              "[1] 6.385228"
            ]
          },
          "metadata": {}
        }
      ],
      "source": [
        "# Multiplicando a probabilidade pelo número de equipes temos que o resultado.\n",
        "\n",
        "equipes <- 30 * probabilidade\n",
        "equipes"
      ]
    },
    {
      "cell_type": "markdown",
      "source": [
        "## Exercício - 03"
      ],
      "metadata": {
        "id": "Xi_FSKSxqSD4"
      }
    },
    {
      "cell_type": "code",
      "source": [
        "# Suponha que a probabilidade de se contrair o novo Coronavírus seja de 70%. Em um grupo de \n",
        "# 1500 famílias, com 5 pessoas cada, quantas podemos esperar que tenham apenas dois contaminados?\n",
        "\n",
        "p_ex3 = 0.7\n",
        "n_ex3 = 5\n",
        "k_ex3 = 2\n",
        "probabilidade_ex3 = dbinom(x = k_ex3, size = n_ex3, prob = p_ex3)\n",
        "familias_ex3 = 1500 * probabilidade_ex3\n",
        "familias_ex3"
      ],
      "metadata": {
        "colab": {
          "base_uri": "https://localhost:8080/",
          "height": 34
        },
        "id": "IBqqJBtIqSah",
        "outputId": "b9e875bd-8663-4b1d-d05e-d66d6d6b4412"
      },
      "execution_count": null,
      "outputs": [
        {
          "output_type": "display_data",
          "data": {
            "text/html": [
              "198.45"
            ],
            "text/markdown": "198.45",
            "text/latex": "198.45",
            "text/plain": [
              "[1] 198.45"
            ]
          },
          "metadata": {}
        }
      ]
    },
    {
      "cell_type": "markdown",
      "metadata": {
        "id": "49TiCQRvG3DC"
      },
      "source": [
        "---"
      ]
    },
    {
      "cell_type": "markdown",
      "metadata": {
        "id": "X6bYonAZG3DE"
      },
      "source": [
        "## <font color=red>Problema</font>\n",
        "***"
      ]
    },
    {
      "cell_type": "markdown",
      "metadata": {
        "id": "Ccx-Bc9oG3DH"
      },
      "source": [
        "Um restaurante recebe em média **20 pedidos por hora**. Qual a chance de que, em determinada hora escolhida ao acaso, o restaurante receba **15 pedidos**?"
      ]
    },
    {
      "cell_type": "markdown",
      "metadata": {
        "id": "k-uV7bgsmand"
      },
      "source": [
        "## <font color=green>2.2 Distribuição Poisson</font>\n",
        "***"
      ]
    },
    {
      "cell_type": "markdown",
      "metadata": {
        "id": "H0jPtJICG3DM"
      },
      "source": [
        "É empregada para descrever o número de ocorrências em um intervalo de tempo ou espaço específico. Os eventos são caracterizados pela possibilidade de contagem dos sucessos, mas a não possibilidade de contagem dos fracassos.\n",
        "\n",
        "Como exemplos de processos onde podemos aplicar a distribuição de Poisson temos a determinação do número de clientes que entram em uma loja em determinada hora, o número de carros que chegam em um drive-thru de uma lanchonete na hora do almoço, a determinação do número de acidentes registrados em um trecho de estrada etc."
      ]
    },
    {
      "cell_type": "markdown",
      "metadata": {
        "id": "O_XqwANJG3DN"
      },
      "source": [
        "# $$P(k) = \\frac{e^{-\\mu}(\\mu)^k}{k!}$$\n",
        "\n",
        "Onde:\n",
        "\n",
        "$e$ = constante cujo valor aproximado é 2,718281828459045\n",
        "\n",
        "$\\mu$ = representa o número médio de ocorrências em um determinado intervalo de tempo ou espaço\n",
        "\n",
        "$k$ = número de sucessos no intervalo desejado"
      ]
    },
    {
      "cell_type": "markdown",
      "metadata": {
        "id": "FqquU8wOG3DO"
      },
      "source": [
        "### Experimento Poisson"
      ]
    },
    {
      "cell_type": "markdown",
      "metadata": {
        "id": "ir2odEW3G3DO"
      },
      "source": [
        "1. A probabilidade de uma ocorrência é a mesma em todo o intervalo observado.\n",
        "\n",
        "2. O número de ocorrências em determinado intervalo é independente do número de ocorrências em outros intervalos.\n",
        "\n",
        "3. A probabilidade de uma ocorrência é a mesma em intervalos de igual comprimento."
      ]
    },
    {
      "cell_type": "markdown",
      "metadata": {
        "id": "2INlWMa0G3DP"
      },
      "source": [
        "### Média da distribuição Poisson"
      ]
    },
    {
      "cell_type": "markdown",
      "metadata": {
        "id": "xywTsniCG3DP"
      },
      "source": [
        "# $$\\mu$$"
      ]
    },
    {
      "cell_type": "markdown",
      "metadata": {
        "id": "7-Lh-LpfG3DQ"
      },
      "source": [
        "### Desvio padrão da distribuição Poisson"
      ]
    },
    {
      "cell_type": "markdown",
      "metadata": {
        "id": "61uStWUsG3DQ"
      },
      "source": [
        "# $$\\sigma = \\sqrt{\\mu}$$"
      ]
    },
    {
      "cell_type": "markdown",
      "metadata": {
        "id": "vniBmzIMG3DR"
      },
      "source": [
        "#### <font color=red>Documentações:\n",
        "\n",
        "- [**exp**](https://www.rdocumentation.org/packages/base/versions/3.6.1/topics/log)\n",
        "- [**factorial**](https://www.rdocumentation.org/packages/base/versions/3.6.1/topics/Special)"
      ]
    },
    {
      "cell_type": "code",
      "execution_count": null,
      "metadata": {
        "id": "kYHDx5vXFDgf",
        "colab": {
          "base_uri": "https://localhost:8080/",
          "height": 34
        },
        "outputId": "577ac52b-9df7-454d-fb4e-f49d36ae259d"
      },
      "outputs": [
        {
          "output_type": "display_data",
          "data": {
            "text/html": [
              "2.71828182845905"
            ],
            "text/markdown": "2.71828182845905",
            "text/latex": "2.71828182845905",
            "text/plain": [
              "[1] 2.718282"
            ]
          },
          "metadata": {}
        }
      ],
      "source": [
        "# Utilizando a função exp com o número 1 temos o número de Euler.\n",
        "\n",
        "exp(1)"
      ]
    },
    {
      "cell_type": "markdown",
      "metadata": {
        "id": "RKQWuVgMG3DW"
      },
      "source": [
        "## <font color='blue'>Exemplo: Delivery</font>"
      ]
    },
    {
      "cell_type": "markdown",
      "metadata": {
        "id": "ZKc__49bG3DX"
      },
      "source": [
        "Um restaurante recebe em média **20 pedidos por hora**. Qual a chance de que, em determinada hora escolhida ao acaso, o restaurante receba **15 pedidos**?"
      ]
    },
    {
      "cell_type": "markdown",
      "metadata": {
        "id": "W-MJ4XBkG3DX"
      },
      "source": [
        "### Qual o número médio de ocorrências por hora ($\\mu$)?"
      ]
    },
    {
      "cell_type": "code",
      "execution_count": null,
      "metadata": {
        "id": "2fVfJxdSG3DY",
        "colab": {
          "base_uri": "https://localhost:8080/",
          "height": 34
        },
        "outputId": "e85877ac-d508-44fa-c8d5-d42006c5fd0e"
      },
      "outputs": [
        {
          "output_type": "display_data",
          "data": {
            "text/html": [
              "20"
            ],
            "text/markdown": "20",
            "text/latex": "20",
            "text/plain": [
              "[1] 20"
            ]
          },
          "metadata": {}
        }
      ],
      "source": [
        "media <- 20\n",
        "media"
      ]
    },
    {
      "cell_type": "markdown",
      "metadata": {
        "id": "3SagRtPvG3Da"
      },
      "source": [
        "### Qual o número de ocorrências que queremos obter no período ($k$)?"
      ]
    },
    {
      "cell_type": "code",
      "execution_count": null,
      "metadata": {
        "id": "yXB3QhWyG3Da",
        "colab": {
          "base_uri": "https://localhost:8080/",
          "height": 34
        },
        "outputId": "de3493b4-8b11-4e76-c989-bb02e4b5d68b"
      },
      "outputs": [
        {
          "output_type": "display_data",
          "data": {
            "text/html": [
              "15"
            ],
            "text/markdown": "15",
            "text/latex": "15",
            "text/plain": [
              "[1] 15"
            ]
          },
          "metadata": {}
        }
      ],
      "source": [
        "k <- 15\n",
        "k"
      ]
    },
    {
      "cell_type": "markdown",
      "metadata": {
        "id": "3wFh3lFCG3De"
      },
      "source": [
        "### Solução 1"
      ]
    },
    {
      "cell_type": "code",
      "execution_count": null,
      "metadata": {
        "id": "Vnc_H3ZUFDgg",
        "colab": {
          "base_uri": "https://localhost:8080/",
          "height": 34
        },
        "outputId": "45082653-a246-4eec-9a3e-91fcb9765f3f"
      },
      "outputs": [
        {
          "output_type": "display_data",
          "data": {
            "text/html": [
              "0.0516488535317584"
            ],
            "text/markdown": "0.0516488535317584",
            "text/latex": "0.0516488535317584",
            "text/plain": [
              "[1] 0.05164885"
            ]
          },
          "metadata": {}
        }
      ],
      "source": [
        "probabilidade <- ((exp(1) ** (-media)) * (media ** k)) / (factorial(k))\n",
        "probabilidade"
      ]
    },
    {
      "cell_type": "markdown",
      "metadata": {
        "id": "yAyXh0euG3Dk"
      },
      "source": [
        "### Solução 2\n",
        "\n",
        "#### <font color=red>Documentações:\n",
        "\n",
        "- [**Poisson**](https://www.rdocumentation.org/packages/stats/versions/3.6.1/topics/Poisson)"
      ]
    },
    {
      "cell_type": "code",
      "execution_count": null,
      "metadata": {
        "id": "0q1g8b2RFDgh",
        "colab": {
          "base_uri": "https://localhost:8080/",
          "height": 34
        },
        "outputId": "7ba738c1-935c-4cd6-c6f7-78077ed6bd43"
      },
      "outputs": [
        {
          "output_type": "display_data",
          "data": {
            "text/html": [
              "0.0516488535317584"
            ],
            "text/markdown": "0.0516488535317584",
            "text/latex": "0.0516488535317584",
            "text/plain": [
              "[1] 0.05164885"
            ]
          },
          "metadata": {}
        }
      ],
      "source": [
        "# Com a função dpois obtemos de forma simplificada a probabilidade de uma questão envolvendo a distribuição de Poisson.\n",
        "# Na função entramos com os parâmetros x = números de sucessos e lambda = média dos eventos.\n",
        "\n",
        "probabilidade <- dpois(x = k, lambda = media)\n",
        "probabilidade"
      ]
    },
    {
      "cell_type": "markdown",
      "source": [
        "## Exercício - 04"
      ],
      "metadata": {
        "id": "G2VNDkdVtv-x"
      }
    },
    {
      "cell_type": "code",
      "source": [
        "probabilidade_ex4 <- dpois(x = 25, lambda = 20)\n",
        "sprintf(\"%0.2f%%\", probabilidade_ex4 * 100)"
      ],
      "metadata": {
        "colab": {
          "base_uri": "https://localhost:8080/",
          "height": 34
        },
        "id": "ptemcRD3twUK",
        "outputId": "1376e6f1-53b3-46ae-b015-0524cfe7793f"
      },
      "execution_count": null,
      "outputs": [
        {
          "output_type": "display_data",
          "data": {
            "text/html": [
              "'4.46%'"
            ],
            "text/markdown": "'4.46%'",
            "text/latex": "'4.46\\%'",
            "text/plain": [
              "[1] \"4.46%\""
            ]
          },
          "metadata": {}
        }
      ]
    },
    {
      "cell_type": "markdown",
      "metadata": {
        "id": "g3ng8tQFG3Do"
      },
      "source": [
        "---"
      ]
    },
    {
      "cell_type": "markdown",
      "metadata": {
        "id": "tVPUT9kEG3Dp"
      },
      "source": [
        "## <font color=red>Problema</font>\n",
        "***"
      ]
    },
    {
      "cell_type": "markdown",
      "metadata": {
        "id": "j7zVDN0kG3Dq"
      },
      "source": [
        "Em um estudo sobre as alturas dos moradores de uma cidade verificou-se que o conjunto de dados segue uma **distribuição aproximadamente normal**, com **média 1,70** e **desvio padrão de 0,1**. Com estas informações obtenha o seguinte conjunto de probabilidades:\n",
        "\n",
        "> **A.** probabilidade de uma pessoa, selecionada ao acaso, ter menos de 1,80 metros.\n",
        ">\n",
        "> **B.** probabilidade de uma pessoa, selecionada ao acaso, ter entre 1,60 metros e 1,80 metros.    \n",
        ">\n",
        "> **C.** probabilidade de uma pessoa, selecionada ao acaso, ter mais de 1,90 metros."
      ]
    },
    {
      "cell_type": "markdown",
      "metadata": {
        "id": "AowcVaKqpvf2"
      },
      "source": [
        "## <font color=green>2.3 Distribuição Normal</font>\n",
        "***"
      ]
    },
    {
      "cell_type": "markdown",
      "metadata": {
        "id": "YOBD21hGG3Dw"
      },
      "source": [
        "A distribuição normal é uma das mais utilizadas em estatística. É uma distribuição contínua, onde a distribuição de frequências de uma variável quantitativa apresenta a forma de sino e é simétrica em relação a sua média."
      ]
    },
    {
      "cell_type": "markdown",
      "metadata": {
        "id": "kbPy2ORqqKJA"
      },
      "source": [
        "![Normal](https://caelum-online-public.s3.amazonaws.com/1178-estatistica-parte2/01/img001.png)"
      ]
    },
    {
      "cell_type": "markdown",
      "metadata": {
        "id": "J3eKESHTG3Dx"
      },
      "source": [
        "### Características importantes"
      ]
    },
    {
      "cell_type": "markdown",
      "metadata": {
        "id": "z8GxAzWZG3Dx"
      },
      "source": [
        "1. É simétrica em torno da média;\n",
        "\n",
        "2. A área sob a curva corresponde à proporção 1 ou 100%;\n",
        "\n",
        "3. As medidas de tendência central (média, mediana e moda) apresentam o mesmo valor;\n",
        "\n",
        "4. Os extremos da curva tendem ao infinito em ambas as direções e, teoricamente, jamais tocam o eixo $x$;\n",
        "\n",
        "5. O desvio padrão define o achatamento e largura da distribuição. Curvas mais largas e mais achatadas apresentam valores maiores de desvio padrão;\n",
        "\n",
        "6. A distribuição é definida por sua média e desvio padrão;\n",
        "\n",
        "7. A probabilidade sempre será igual à área sob a curva, delimitada pelos limites inferior e superior."
      ]
    },
    {
      "cell_type": "markdown",
      "metadata": {
        "id": "hoWLlOiwG3Dy"
      },
      "source": [
        "# $$f(x) = \\frac{1}{\\sqrt{2\\pi\\sigma}}e^{-\\frac{1}{2}\\left(\\frac{x-\\mu}{\\sigma}\\right)^2}$$\n",
        "\n",
        "Onde:\n",
        "\n",
        "$x$ = variável normal\n",
        "\n",
        "$\\sigma$ = desvio padrão\n",
        "\n",
        "$\\mu$ = média"
      ]
    },
    {
      "cell_type": "markdown",
      "metadata": {
        "id": "8n03Z0VlG3Dz"
      },
      "source": [
        "A probabilidade é obtida a partir da área sob a curva, delimitada pelos limites inferior e superior especificados. Um exemplo pode ser visto na figura abaixo."
      ]
    },
    {
      "cell_type": "markdown",
      "metadata": {
        "id": "X1UgmFoxG3Dz"
      },
      "source": [
        "![alt text](https://caelum-online-public.s3.amazonaws.com/1178-estatistica-parte2/01/img002.png)\n"
      ]
    },
    {
      "cell_type": "markdown",
      "metadata": {
        "id": "rtKiApHLG3D0"
      },
      "source": [
        "Para obter a área acima basta calcular a integral da função para os intervalos determinados. Conforme equação abaixo:"
      ]
    },
    {
      "cell_type": "markdown",
      "metadata": {
        "id": "0r_9CbSOG3D0"
      },
      "source": [
        "# $$P(L_i<x<L_s) = \\int_{L_i}^{L_s}\\frac{1}{\\sqrt{2\\pi\\sigma}}e^{-\\frac{1}{2}\\left(\\frac{x-\\mu}{\\sigma}\\right)^2}$$\n",
        "\n",
        "Onde:\n",
        "\n",
        "$x$ = variável normal\n",
        "\n",
        "$\\sigma$ = desvio padrão\n",
        "\n",
        "$\\mu$ = média\n",
        "\n",
        "$L_i$ = limite inferior\n",
        "\n",
        "$L_s$ = limite superior"
      ]
    },
    {
      "cell_type": "markdown",
      "metadata": {
        "id": "qP-Ye-leG3D1"
      },
      "source": [
        "### Tabelas padronizadas"
      ]
    },
    {
      "cell_type": "markdown",
      "metadata": {
        "id": "Z1VnLK11G3D1"
      },
      "source": [
        "As tabelas padronizadas foram criadas para facilitar a obtenção dos valores das áreas sob a curva normal e eliminar a necessidade de solucionar integrais definidas.\n",
        "\n",
        "Para consultarmos os valores em uma tabela padronizada basta transformarmos nossa variável em uma variável padronizada $Z$.\n",
        "\n",
        "Esta variável $Z$ representa o afastamento em desvios padrões de um valor da variável original em relação à média."
      ]
    },
    {
      "cell_type": "markdown",
      "metadata": {
        "id": "HJcdgdsgG3D2"
      },
      "source": [
        "# $$Z = \\frac{x-\\mu}{\\sigma}$$\n",
        "\n",
        "Onde:\n",
        "\n",
        "$x$ = variável normal com média $\\mu$ e desvio padrão $\\sigma$\n",
        "\n",
        "$\\sigma$ = desvio padrão\n",
        "\n",
        "$\\mu$ = média"
      ]
    },
    {
      "cell_type": "markdown",
      "metadata": {
        "id": "-IjWoP5iFDgi"
      },
      "source": [
        "#### <font color=red>Documentações:\n",
        "\n",
        "- [**Normal**](https://www.rdocumentation.org/packages/stats/versions/3.6.1/topics/Normal)"
      ]
    },
    {
      "cell_type": "markdown",
      "metadata": {
        "id": "hUrVKJH3G3D2"
      },
      "source": [
        "### Construindo tabela normal padronizada"
      ]
    },
    {
      "cell_type": "code",
      "execution_count": null,
      "metadata": {
        "id": "CZ7DxYIpFDgi",
        "colab": {
          "base_uri": "https://localhost:8080/",
          "height": 1000
        },
        "outputId": "721a08ff-ca07-4d0b-8398-9aa4dc48f64f"
      },
      "outputs": [
        {
          "output_type": "display_data",
          "data": {
            "text/html": [
              "<table class=\"dataframe\">\n",
              "<caption>A matrix: 40 × 10 of type dbl</caption>\n",
              "<thead>\n",
              "\t<tr><th></th><th scope=col>0.00</th><th scope=col>0.01</th><th scope=col>0.02</th><th scope=col>0.03</th><th scope=col>0.04</th><th scope=col>0.05</th><th scope=col>0.06</th><th scope=col>0.07</th><th scope=col>0.08</th><th scope=col>0.09</th></tr>\n",
              "</thead>\n",
              "<tbody>\n",
              "\t<tr><th scope=row>0.00</th><td>0.5000000</td><td>0.5039894</td><td>0.5079783</td><td>0.5119665</td><td>0.5159534</td><td>0.5199388</td><td>0.5239222</td><td>0.5279032</td><td>0.5318814</td><td>0.5358564</td></tr>\n",
              "\t<tr><th scope=row>0.10</th><td>0.5398278</td><td>0.5437953</td><td>0.5477584</td><td>0.5517168</td><td>0.5556700</td><td>0.5596177</td><td>0.5635595</td><td>0.5674949</td><td>0.5714237</td><td>0.5753454</td></tr>\n",
              "\t<tr><th scope=row>0.20</th><td>0.5792597</td><td>0.5831662</td><td>0.5870644</td><td>0.5909541</td><td>0.5948349</td><td>0.5987063</td><td>0.6025681</td><td>0.6064199</td><td>0.6102612</td><td>0.6140919</td></tr>\n",
              "\t<tr><th scope=row>0.30</th><td>0.6179114</td><td>0.6217195</td><td>0.6255158</td><td>0.6293000</td><td>0.6330717</td><td>0.6368307</td><td>0.6405764</td><td>0.6443088</td><td>0.6480273</td><td>0.6517317</td></tr>\n",
              "\t<tr><th scope=row>0.40</th><td>0.6554217</td><td>0.6590970</td><td>0.6627573</td><td>0.6664022</td><td>0.6700314</td><td>0.6736448</td><td>0.6772419</td><td>0.6808225</td><td>0.6843863</td><td>0.6879331</td></tr>\n",
              "\t<tr><th scope=row>0.50</th><td>0.6914625</td><td>0.6949743</td><td>0.6984682</td><td>0.7019440</td><td>0.7054015</td><td>0.7088403</td><td>0.7122603</td><td>0.7156612</td><td>0.7190427</td><td>0.7224047</td></tr>\n",
              "\t<tr><th scope=row>0.60</th><td>0.7257469</td><td>0.7290691</td><td>0.7323711</td><td>0.7356527</td><td>0.7389137</td><td>0.7421539</td><td>0.7453731</td><td>0.7485711</td><td>0.7517478</td><td>0.7549029</td></tr>\n",
              "\t<tr><th scope=row>0.70</th><td>0.7580363</td><td>0.7611479</td><td>0.7642375</td><td>0.7673049</td><td>0.7703500</td><td>0.7733726</td><td>0.7763727</td><td>0.7793501</td><td>0.7823046</td><td>0.7852361</td></tr>\n",
              "\t<tr><th scope=row>0.80</th><td>0.7881446</td><td>0.7910299</td><td>0.7938919</td><td>0.7967306</td><td>0.7995458</td><td>0.8023375</td><td>0.8051055</td><td>0.8078498</td><td>0.8105703</td><td>0.8132671</td></tr>\n",
              "\t<tr><th scope=row>0.90</th><td>0.8159399</td><td>0.8185887</td><td>0.8212136</td><td>0.8238145</td><td>0.8263912</td><td>0.8289439</td><td>0.8314724</td><td>0.8339768</td><td>0.8364569</td><td>0.8389129</td></tr>\n",
              "\t<tr><th scope=row>1.00</th><td>0.8413447</td><td>0.8437524</td><td>0.8461358</td><td>0.8484950</td><td>0.8508300</td><td>0.8531409</td><td>0.8554277</td><td>0.8576903</td><td>0.8599289</td><td>0.8621434</td></tr>\n",
              "\t<tr><th scope=row>1.10</th><td>0.8643339</td><td>0.8665005</td><td>0.8686431</td><td>0.8707619</td><td>0.8728568</td><td>0.8749281</td><td>0.8769756</td><td>0.8789995</td><td>0.8809999</td><td>0.8829768</td></tr>\n",
              "\t<tr><th scope=row>1.20</th><td>0.8849303</td><td>0.8868606</td><td>0.8887676</td><td>0.8906514</td><td>0.8925123</td><td>0.8943502</td><td>0.8961653</td><td>0.8979577</td><td>0.8997274</td><td>0.9014747</td></tr>\n",
              "\t<tr><th scope=row>1.30</th><td>0.9031995</td><td>0.9049021</td><td>0.9065825</td><td>0.9082409</td><td>0.9098773</td><td>0.9114920</td><td>0.9130850</td><td>0.9146565</td><td>0.9162067</td><td>0.9177356</td></tr>\n",
              "\t<tr><th scope=row>1.40</th><td>0.9192433</td><td>0.9207302</td><td>0.9221962</td><td>0.9236415</td><td>0.9250663</td><td>0.9264707</td><td>0.9278550</td><td>0.9292191</td><td>0.9305634</td><td>0.9318879</td></tr>\n",
              "\t<tr><th scope=row>1.50</th><td>0.9331928</td><td>0.9344783</td><td>0.9357445</td><td>0.9369916</td><td>0.9382198</td><td>0.9394292</td><td>0.9406201</td><td>0.9417924</td><td>0.9429466</td><td>0.9440826</td></tr>\n",
              "\t<tr><th scope=row>1.60</th><td>0.9452007</td><td>0.9463011</td><td>0.9473839</td><td>0.9484493</td><td>0.9494974</td><td>0.9505285</td><td>0.9515428</td><td>0.9525403</td><td>0.9535213</td><td>0.9544860</td></tr>\n",
              "\t<tr><th scope=row>1.70</th><td>0.9554345</td><td>0.9563671</td><td>0.9572838</td><td>0.9581849</td><td>0.9590705</td><td>0.9599408</td><td>0.9607961</td><td>0.9616364</td><td>0.9624620</td><td>0.9632730</td></tr>\n",
              "\t<tr><th scope=row>1.80</th><td>0.9640697</td><td>0.9648521</td><td>0.9656205</td><td>0.9663750</td><td>0.9671159</td><td>0.9678432</td><td>0.9685572</td><td>0.9692581</td><td>0.9699460</td><td>0.9706210</td></tr>\n",
              "\t<tr><th scope=row>1.90</th><td>0.9712834</td><td>0.9719334</td><td>0.9725711</td><td>0.9731966</td><td>0.9738102</td><td>0.9744119</td><td>0.9750021</td><td>0.9755808</td><td>0.9761482</td><td>0.9767045</td></tr>\n",
              "\t<tr><th scope=row>2.00</th><td>0.9772499</td><td>0.9777844</td><td>0.9783083</td><td>0.9788217</td><td>0.9793248</td><td>0.9798178</td><td>0.9803007</td><td>0.9807738</td><td>0.9812372</td><td>0.9816911</td></tr>\n",
              "\t<tr><th scope=row>2.10</th><td>0.9821356</td><td>0.9825708</td><td>0.9829970</td><td>0.9834142</td><td>0.9838226</td><td>0.9842224</td><td>0.9846137</td><td>0.9849966</td><td>0.9853713</td><td>0.9857379</td></tr>\n",
              "\t<tr><th scope=row>2.20</th><td>0.9860966</td><td>0.9864474</td><td>0.9867906</td><td>0.9871263</td><td>0.9874545</td><td>0.9877755</td><td>0.9880894</td><td>0.9883962</td><td>0.9886962</td><td>0.9889893</td></tr>\n",
              "\t<tr><th scope=row>2.30</th><td>0.9892759</td><td>0.9895559</td><td>0.9898296</td><td>0.9900969</td><td>0.9903581</td><td>0.9906133</td><td>0.9908625</td><td>0.9911060</td><td>0.9913437</td><td>0.9915758</td></tr>\n",
              "\t<tr><th scope=row>2.40</th><td>0.9918025</td><td>0.9920237</td><td>0.9922397</td><td>0.9924506</td><td>0.9926564</td><td>0.9928572</td><td>0.9930531</td><td>0.9932443</td><td>0.9934309</td><td>0.9936128</td></tr>\n",
              "\t<tr><th scope=row>2.50</th><td>0.9937903</td><td>0.9939634</td><td>0.9941323</td><td>0.9942969</td><td>0.9944574</td><td>0.9946139</td><td>0.9947664</td><td>0.9949151</td><td>0.9950600</td><td>0.9952012</td></tr>\n",
              "\t<tr><th scope=row>2.60</th><td>0.9953388</td><td>0.9954729</td><td>0.9956035</td><td>0.9957308</td><td>0.9958547</td><td>0.9959754</td><td>0.9960930</td><td>0.9962074</td><td>0.9963189</td><td>0.9964274</td></tr>\n",
              "\t<tr><th scope=row>2.70</th><td>0.9965330</td><td>0.9966358</td><td>0.9967359</td><td>0.9968333</td><td>0.9969280</td><td>0.9970202</td><td>0.9971099</td><td>0.9971972</td><td>0.9972821</td><td>0.9973646</td></tr>\n",
              "\t<tr><th scope=row>2.80</th><td>0.9974449</td><td>0.9975229</td><td>0.9975988</td><td>0.9976726</td><td>0.9977443</td><td>0.9978140</td><td>0.9978818</td><td>0.9979476</td><td>0.9980116</td><td>0.9980738</td></tr>\n",
              "\t<tr><th scope=row>2.90</th><td>0.9981342</td><td>0.9981929</td><td>0.9982498</td><td>0.9983052</td><td>0.9983589</td><td>0.9984111</td><td>0.9984618</td><td>0.9985110</td><td>0.9985588</td><td>0.9986051</td></tr>\n",
              "\t<tr><th scope=row>3.00</th><td>0.9986501</td><td>0.9986938</td><td>0.9987361</td><td>0.9987772</td><td>0.9988171</td><td>0.9988558</td><td>0.9988933</td><td>0.9989297</td><td>0.9989650</td><td>0.9989992</td></tr>\n",
              "\t<tr><th scope=row>3.10</th><td>0.9990324</td><td>0.9990646</td><td>0.9990957</td><td>0.9991260</td><td>0.9991553</td><td>0.9991836</td><td>0.9992112</td><td>0.9992378</td><td>0.9992636</td><td>0.9992886</td></tr>\n",
              "\t<tr><th scope=row>3.20</th><td>0.9993129</td><td>0.9993363</td><td>0.9993590</td><td>0.9993810</td><td>0.9994024</td><td>0.9994230</td><td>0.9994429</td><td>0.9994623</td><td>0.9994810</td><td>0.9994991</td></tr>\n",
              "\t<tr><th scope=row>3.30</th><td>0.9995166</td><td>0.9995335</td><td>0.9995499</td><td>0.9995658</td><td>0.9995811</td><td>0.9995959</td><td>0.9996103</td><td>0.9996242</td><td>0.9996376</td><td>0.9996505</td></tr>\n",
              "\t<tr><th scope=row>3.40</th><td>0.9996631</td><td>0.9996752</td><td>0.9996869</td><td>0.9996982</td><td>0.9997091</td><td>0.9997197</td><td>0.9997299</td><td>0.9997398</td><td>0.9997493</td><td>0.9997585</td></tr>\n",
              "\t<tr><th scope=row>3.50</th><td>0.9997674</td><td>0.9997759</td><td>0.9997842</td><td>0.9997922</td><td>0.9997999</td><td>0.9998074</td><td>0.9998146</td><td>0.9998215</td><td>0.9998282</td><td>0.9998347</td></tr>\n",
              "\t<tr><th scope=row>3.60</th><td>0.9998409</td><td>0.9998469</td><td>0.9998527</td><td>0.9998583</td><td>0.9998637</td><td>0.9998689</td><td>0.9998739</td><td>0.9998787</td><td>0.9998834</td><td>0.9998879</td></tr>\n",
              "\t<tr><th scope=row>3.70</th><td>0.9998922</td><td>0.9998964</td><td>0.9999004</td><td>0.9999043</td><td>0.9999080</td><td>0.9999116</td><td>0.9999150</td><td>0.9999184</td><td>0.9999216</td><td>0.9999247</td></tr>\n",
              "\t<tr><th scope=row>3.80</th><td>0.9999277</td><td>0.9999305</td><td>0.9999333</td><td>0.9999359</td><td>0.9999385</td><td>0.9999409</td><td>0.9999433</td><td>0.9999456</td><td>0.9999478</td><td>0.9999499</td></tr>\n",
              "\t<tr><th scope=row>3.90</th><td>0.9999519</td><td>0.9999539</td><td>0.9999557</td><td>0.9999575</td><td>0.9999593</td><td>0.9999609</td><td>0.9999625</td><td>0.9999641</td><td>0.9999655</td><td>0.9999670</td></tr>\n",
              "</tbody>\n",
              "</table>\n"
            ],
            "text/markdown": "\nA matrix: 40 × 10 of type dbl\n\n| <!--/--> | 0.00 | 0.01 | 0.02 | 0.03 | 0.04 | 0.05 | 0.06 | 0.07 | 0.08 | 0.09 |\n|---|---|---|---|---|---|---|---|---|---|---|\n| 0.00 | 0.5000000 | 0.5039894 | 0.5079783 | 0.5119665 | 0.5159534 | 0.5199388 | 0.5239222 | 0.5279032 | 0.5318814 | 0.5358564 |\n| 0.10 | 0.5398278 | 0.5437953 | 0.5477584 | 0.5517168 | 0.5556700 | 0.5596177 | 0.5635595 | 0.5674949 | 0.5714237 | 0.5753454 |\n| 0.20 | 0.5792597 | 0.5831662 | 0.5870644 | 0.5909541 | 0.5948349 | 0.5987063 | 0.6025681 | 0.6064199 | 0.6102612 | 0.6140919 |\n| 0.30 | 0.6179114 | 0.6217195 | 0.6255158 | 0.6293000 | 0.6330717 | 0.6368307 | 0.6405764 | 0.6443088 | 0.6480273 | 0.6517317 |\n| 0.40 | 0.6554217 | 0.6590970 | 0.6627573 | 0.6664022 | 0.6700314 | 0.6736448 | 0.6772419 | 0.6808225 | 0.6843863 | 0.6879331 |\n| 0.50 | 0.6914625 | 0.6949743 | 0.6984682 | 0.7019440 | 0.7054015 | 0.7088403 | 0.7122603 | 0.7156612 | 0.7190427 | 0.7224047 |\n| 0.60 | 0.7257469 | 0.7290691 | 0.7323711 | 0.7356527 | 0.7389137 | 0.7421539 | 0.7453731 | 0.7485711 | 0.7517478 | 0.7549029 |\n| 0.70 | 0.7580363 | 0.7611479 | 0.7642375 | 0.7673049 | 0.7703500 | 0.7733726 | 0.7763727 | 0.7793501 | 0.7823046 | 0.7852361 |\n| 0.80 | 0.7881446 | 0.7910299 | 0.7938919 | 0.7967306 | 0.7995458 | 0.8023375 | 0.8051055 | 0.8078498 | 0.8105703 | 0.8132671 |\n| 0.90 | 0.8159399 | 0.8185887 | 0.8212136 | 0.8238145 | 0.8263912 | 0.8289439 | 0.8314724 | 0.8339768 | 0.8364569 | 0.8389129 |\n| 1.00 | 0.8413447 | 0.8437524 | 0.8461358 | 0.8484950 | 0.8508300 | 0.8531409 | 0.8554277 | 0.8576903 | 0.8599289 | 0.8621434 |\n| 1.10 | 0.8643339 | 0.8665005 | 0.8686431 | 0.8707619 | 0.8728568 | 0.8749281 | 0.8769756 | 0.8789995 | 0.8809999 | 0.8829768 |\n| 1.20 | 0.8849303 | 0.8868606 | 0.8887676 | 0.8906514 | 0.8925123 | 0.8943502 | 0.8961653 | 0.8979577 | 0.8997274 | 0.9014747 |\n| 1.30 | 0.9031995 | 0.9049021 | 0.9065825 | 0.9082409 | 0.9098773 | 0.9114920 | 0.9130850 | 0.9146565 | 0.9162067 | 0.9177356 |\n| 1.40 | 0.9192433 | 0.9207302 | 0.9221962 | 0.9236415 | 0.9250663 | 0.9264707 | 0.9278550 | 0.9292191 | 0.9305634 | 0.9318879 |\n| 1.50 | 0.9331928 | 0.9344783 | 0.9357445 | 0.9369916 | 0.9382198 | 0.9394292 | 0.9406201 | 0.9417924 | 0.9429466 | 0.9440826 |\n| 1.60 | 0.9452007 | 0.9463011 | 0.9473839 | 0.9484493 | 0.9494974 | 0.9505285 | 0.9515428 | 0.9525403 | 0.9535213 | 0.9544860 |\n| 1.70 | 0.9554345 | 0.9563671 | 0.9572838 | 0.9581849 | 0.9590705 | 0.9599408 | 0.9607961 | 0.9616364 | 0.9624620 | 0.9632730 |\n| 1.80 | 0.9640697 | 0.9648521 | 0.9656205 | 0.9663750 | 0.9671159 | 0.9678432 | 0.9685572 | 0.9692581 | 0.9699460 | 0.9706210 |\n| 1.90 | 0.9712834 | 0.9719334 | 0.9725711 | 0.9731966 | 0.9738102 | 0.9744119 | 0.9750021 | 0.9755808 | 0.9761482 | 0.9767045 |\n| 2.00 | 0.9772499 | 0.9777844 | 0.9783083 | 0.9788217 | 0.9793248 | 0.9798178 | 0.9803007 | 0.9807738 | 0.9812372 | 0.9816911 |\n| 2.10 | 0.9821356 | 0.9825708 | 0.9829970 | 0.9834142 | 0.9838226 | 0.9842224 | 0.9846137 | 0.9849966 | 0.9853713 | 0.9857379 |\n| 2.20 | 0.9860966 | 0.9864474 | 0.9867906 | 0.9871263 | 0.9874545 | 0.9877755 | 0.9880894 | 0.9883962 | 0.9886962 | 0.9889893 |\n| 2.30 | 0.9892759 | 0.9895559 | 0.9898296 | 0.9900969 | 0.9903581 | 0.9906133 | 0.9908625 | 0.9911060 | 0.9913437 | 0.9915758 |\n| 2.40 | 0.9918025 | 0.9920237 | 0.9922397 | 0.9924506 | 0.9926564 | 0.9928572 | 0.9930531 | 0.9932443 | 0.9934309 | 0.9936128 |\n| 2.50 | 0.9937903 | 0.9939634 | 0.9941323 | 0.9942969 | 0.9944574 | 0.9946139 | 0.9947664 | 0.9949151 | 0.9950600 | 0.9952012 |\n| 2.60 | 0.9953388 | 0.9954729 | 0.9956035 | 0.9957308 | 0.9958547 | 0.9959754 | 0.9960930 | 0.9962074 | 0.9963189 | 0.9964274 |\n| 2.70 | 0.9965330 | 0.9966358 | 0.9967359 | 0.9968333 | 0.9969280 | 0.9970202 | 0.9971099 | 0.9971972 | 0.9972821 | 0.9973646 |\n| 2.80 | 0.9974449 | 0.9975229 | 0.9975988 | 0.9976726 | 0.9977443 | 0.9978140 | 0.9978818 | 0.9979476 | 0.9980116 | 0.9980738 |\n| 2.90 | 0.9981342 | 0.9981929 | 0.9982498 | 0.9983052 | 0.9983589 | 0.9984111 | 0.9984618 | 0.9985110 | 0.9985588 | 0.9986051 |\n| 3.00 | 0.9986501 | 0.9986938 | 0.9987361 | 0.9987772 | 0.9988171 | 0.9988558 | 0.9988933 | 0.9989297 | 0.9989650 | 0.9989992 |\n| 3.10 | 0.9990324 | 0.9990646 | 0.9990957 | 0.9991260 | 0.9991553 | 0.9991836 | 0.9992112 | 0.9992378 | 0.9992636 | 0.9992886 |\n| 3.20 | 0.9993129 | 0.9993363 | 0.9993590 | 0.9993810 | 0.9994024 | 0.9994230 | 0.9994429 | 0.9994623 | 0.9994810 | 0.9994991 |\n| 3.30 | 0.9995166 | 0.9995335 | 0.9995499 | 0.9995658 | 0.9995811 | 0.9995959 | 0.9996103 | 0.9996242 | 0.9996376 | 0.9996505 |\n| 3.40 | 0.9996631 | 0.9996752 | 0.9996869 | 0.9996982 | 0.9997091 | 0.9997197 | 0.9997299 | 0.9997398 | 0.9997493 | 0.9997585 |\n| 3.50 | 0.9997674 | 0.9997759 | 0.9997842 | 0.9997922 | 0.9997999 | 0.9998074 | 0.9998146 | 0.9998215 | 0.9998282 | 0.9998347 |\n| 3.60 | 0.9998409 | 0.9998469 | 0.9998527 | 0.9998583 | 0.9998637 | 0.9998689 | 0.9998739 | 0.9998787 | 0.9998834 | 0.9998879 |\n| 3.70 | 0.9998922 | 0.9998964 | 0.9999004 | 0.9999043 | 0.9999080 | 0.9999116 | 0.9999150 | 0.9999184 | 0.9999216 | 0.9999247 |\n| 3.80 | 0.9999277 | 0.9999305 | 0.9999333 | 0.9999359 | 0.9999385 | 0.9999409 | 0.9999433 | 0.9999456 | 0.9999478 | 0.9999499 |\n| 3.90 | 0.9999519 | 0.9999539 | 0.9999557 | 0.9999575 | 0.9999593 | 0.9999609 | 0.9999625 | 0.9999641 | 0.9999655 | 0.9999670 |\n\n",
            "text/latex": "A matrix: 40 × 10 of type dbl\n\\begin{tabular}{r|llllllllll}\n  & 0.00 & 0.01 & 0.02 & 0.03 & 0.04 & 0.05 & 0.06 & 0.07 & 0.08 & 0.09\\\\\n\\hline\n\t0.00 & 0.5000000 & 0.5039894 & 0.5079783 & 0.5119665 & 0.5159534 & 0.5199388 & 0.5239222 & 0.5279032 & 0.5318814 & 0.5358564\\\\\n\t0.10 & 0.5398278 & 0.5437953 & 0.5477584 & 0.5517168 & 0.5556700 & 0.5596177 & 0.5635595 & 0.5674949 & 0.5714237 & 0.5753454\\\\\n\t0.20 & 0.5792597 & 0.5831662 & 0.5870644 & 0.5909541 & 0.5948349 & 0.5987063 & 0.6025681 & 0.6064199 & 0.6102612 & 0.6140919\\\\\n\t0.30 & 0.6179114 & 0.6217195 & 0.6255158 & 0.6293000 & 0.6330717 & 0.6368307 & 0.6405764 & 0.6443088 & 0.6480273 & 0.6517317\\\\\n\t0.40 & 0.6554217 & 0.6590970 & 0.6627573 & 0.6664022 & 0.6700314 & 0.6736448 & 0.6772419 & 0.6808225 & 0.6843863 & 0.6879331\\\\\n\t0.50 & 0.6914625 & 0.6949743 & 0.6984682 & 0.7019440 & 0.7054015 & 0.7088403 & 0.7122603 & 0.7156612 & 0.7190427 & 0.7224047\\\\\n\t0.60 & 0.7257469 & 0.7290691 & 0.7323711 & 0.7356527 & 0.7389137 & 0.7421539 & 0.7453731 & 0.7485711 & 0.7517478 & 0.7549029\\\\\n\t0.70 & 0.7580363 & 0.7611479 & 0.7642375 & 0.7673049 & 0.7703500 & 0.7733726 & 0.7763727 & 0.7793501 & 0.7823046 & 0.7852361\\\\\n\t0.80 & 0.7881446 & 0.7910299 & 0.7938919 & 0.7967306 & 0.7995458 & 0.8023375 & 0.8051055 & 0.8078498 & 0.8105703 & 0.8132671\\\\\n\t0.90 & 0.8159399 & 0.8185887 & 0.8212136 & 0.8238145 & 0.8263912 & 0.8289439 & 0.8314724 & 0.8339768 & 0.8364569 & 0.8389129\\\\\n\t1.00 & 0.8413447 & 0.8437524 & 0.8461358 & 0.8484950 & 0.8508300 & 0.8531409 & 0.8554277 & 0.8576903 & 0.8599289 & 0.8621434\\\\\n\t1.10 & 0.8643339 & 0.8665005 & 0.8686431 & 0.8707619 & 0.8728568 & 0.8749281 & 0.8769756 & 0.8789995 & 0.8809999 & 0.8829768\\\\\n\t1.20 & 0.8849303 & 0.8868606 & 0.8887676 & 0.8906514 & 0.8925123 & 0.8943502 & 0.8961653 & 0.8979577 & 0.8997274 & 0.9014747\\\\\n\t1.30 & 0.9031995 & 0.9049021 & 0.9065825 & 0.9082409 & 0.9098773 & 0.9114920 & 0.9130850 & 0.9146565 & 0.9162067 & 0.9177356\\\\\n\t1.40 & 0.9192433 & 0.9207302 & 0.9221962 & 0.9236415 & 0.9250663 & 0.9264707 & 0.9278550 & 0.9292191 & 0.9305634 & 0.9318879\\\\\n\t1.50 & 0.9331928 & 0.9344783 & 0.9357445 & 0.9369916 & 0.9382198 & 0.9394292 & 0.9406201 & 0.9417924 & 0.9429466 & 0.9440826\\\\\n\t1.60 & 0.9452007 & 0.9463011 & 0.9473839 & 0.9484493 & 0.9494974 & 0.9505285 & 0.9515428 & 0.9525403 & 0.9535213 & 0.9544860\\\\\n\t1.70 & 0.9554345 & 0.9563671 & 0.9572838 & 0.9581849 & 0.9590705 & 0.9599408 & 0.9607961 & 0.9616364 & 0.9624620 & 0.9632730\\\\\n\t1.80 & 0.9640697 & 0.9648521 & 0.9656205 & 0.9663750 & 0.9671159 & 0.9678432 & 0.9685572 & 0.9692581 & 0.9699460 & 0.9706210\\\\\n\t1.90 & 0.9712834 & 0.9719334 & 0.9725711 & 0.9731966 & 0.9738102 & 0.9744119 & 0.9750021 & 0.9755808 & 0.9761482 & 0.9767045\\\\\n\t2.00 & 0.9772499 & 0.9777844 & 0.9783083 & 0.9788217 & 0.9793248 & 0.9798178 & 0.9803007 & 0.9807738 & 0.9812372 & 0.9816911\\\\\n\t2.10 & 0.9821356 & 0.9825708 & 0.9829970 & 0.9834142 & 0.9838226 & 0.9842224 & 0.9846137 & 0.9849966 & 0.9853713 & 0.9857379\\\\\n\t2.20 & 0.9860966 & 0.9864474 & 0.9867906 & 0.9871263 & 0.9874545 & 0.9877755 & 0.9880894 & 0.9883962 & 0.9886962 & 0.9889893\\\\\n\t2.30 & 0.9892759 & 0.9895559 & 0.9898296 & 0.9900969 & 0.9903581 & 0.9906133 & 0.9908625 & 0.9911060 & 0.9913437 & 0.9915758\\\\\n\t2.40 & 0.9918025 & 0.9920237 & 0.9922397 & 0.9924506 & 0.9926564 & 0.9928572 & 0.9930531 & 0.9932443 & 0.9934309 & 0.9936128\\\\\n\t2.50 & 0.9937903 & 0.9939634 & 0.9941323 & 0.9942969 & 0.9944574 & 0.9946139 & 0.9947664 & 0.9949151 & 0.9950600 & 0.9952012\\\\\n\t2.60 & 0.9953388 & 0.9954729 & 0.9956035 & 0.9957308 & 0.9958547 & 0.9959754 & 0.9960930 & 0.9962074 & 0.9963189 & 0.9964274\\\\\n\t2.70 & 0.9965330 & 0.9966358 & 0.9967359 & 0.9968333 & 0.9969280 & 0.9970202 & 0.9971099 & 0.9971972 & 0.9972821 & 0.9973646\\\\\n\t2.80 & 0.9974449 & 0.9975229 & 0.9975988 & 0.9976726 & 0.9977443 & 0.9978140 & 0.9978818 & 0.9979476 & 0.9980116 & 0.9980738\\\\\n\t2.90 & 0.9981342 & 0.9981929 & 0.9982498 & 0.9983052 & 0.9983589 & 0.9984111 & 0.9984618 & 0.9985110 & 0.9985588 & 0.9986051\\\\\n\t3.00 & 0.9986501 & 0.9986938 & 0.9987361 & 0.9987772 & 0.9988171 & 0.9988558 & 0.9988933 & 0.9989297 & 0.9989650 & 0.9989992\\\\\n\t3.10 & 0.9990324 & 0.9990646 & 0.9990957 & 0.9991260 & 0.9991553 & 0.9991836 & 0.9992112 & 0.9992378 & 0.9992636 & 0.9992886\\\\\n\t3.20 & 0.9993129 & 0.9993363 & 0.9993590 & 0.9993810 & 0.9994024 & 0.9994230 & 0.9994429 & 0.9994623 & 0.9994810 & 0.9994991\\\\\n\t3.30 & 0.9995166 & 0.9995335 & 0.9995499 & 0.9995658 & 0.9995811 & 0.9995959 & 0.9996103 & 0.9996242 & 0.9996376 & 0.9996505\\\\\n\t3.40 & 0.9996631 & 0.9996752 & 0.9996869 & 0.9996982 & 0.9997091 & 0.9997197 & 0.9997299 & 0.9997398 & 0.9997493 & 0.9997585\\\\\n\t3.50 & 0.9997674 & 0.9997759 & 0.9997842 & 0.9997922 & 0.9997999 & 0.9998074 & 0.9998146 & 0.9998215 & 0.9998282 & 0.9998347\\\\\n\t3.60 & 0.9998409 & 0.9998469 & 0.9998527 & 0.9998583 & 0.9998637 & 0.9998689 & 0.9998739 & 0.9998787 & 0.9998834 & 0.9998879\\\\\n\t3.70 & 0.9998922 & 0.9998964 & 0.9999004 & 0.9999043 & 0.9999080 & 0.9999116 & 0.9999150 & 0.9999184 & 0.9999216 & 0.9999247\\\\\n\t3.80 & 0.9999277 & 0.9999305 & 0.9999333 & 0.9999359 & 0.9999385 & 0.9999409 & 0.9999433 & 0.9999456 & 0.9999478 & 0.9999499\\\\\n\t3.90 & 0.9999519 & 0.9999539 & 0.9999557 & 0.9999575 & 0.9999593 & 0.9999609 & 0.9999625 & 0.9999641 & 0.9999655 & 0.9999670\\\\\n\\end{tabular}\n",
            "text/plain": [
              "     0.00      0.01      0.02      0.03      0.04      0.05      0.06     \n",
              "0.00 0.5000000 0.5039894 0.5079783 0.5119665 0.5159534 0.5199388 0.5239222\n",
              "0.10 0.5398278 0.5437953 0.5477584 0.5517168 0.5556700 0.5596177 0.5635595\n",
              "0.20 0.5792597 0.5831662 0.5870644 0.5909541 0.5948349 0.5987063 0.6025681\n",
              "0.30 0.6179114 0.6217195 0.6255158 0.6293000 0.6330717 0.6368307 0.6405764\n",
              "0.40 0.6554217 0.6590970 0.6627573 0.6664022 0.6700314 0.6736448 0.6772419\n",
              "0.50 0.6914625 0.6949743 0.6984682 0.7019440 0.7054015 0.7088403 0.7122603\n",
              "0.60 0.7257469 0.7290691 0.7323711 0.7356527 0.7389137 0.7421539 0.7453731\n",
              "0.70 0.7580363 0.7611479 0.7642375 0.7673049 0.7703500 0.7733726 0.7763727\n",
              "0.80 0.7881446 0.7910299 0.7938919 0.7967306 0.7995458 0.8023375 0.8051055\n",
              "0.90 0.8159399 0.8185887 0.8212136 0.8238145 0.8263912 0.8289439 0.8314724\n",
              "1.00 0.8413447 0.8437524 0.8461358 0.8484950 0.8508300 0.8531409 0.8554277\n",
              "1.10 0.8643339 0.8665005 0.8686431 0.8707619 0.8728568 0.8749281 0.8769756\n",
              "1.20 0.8849303 0.8868606 0.8887676 0.8906514 0.8925123 0.8943502 0.8961653\n",
              "1.30 0.9031995 0.9049021 0.9065825 0.9082409 0.9098773 0.9114920 0.9130850\n",
              "1.40 0.9192433 0.9207302 0.9221962 0.9236415 0.9250663 0.9264707 0.9278550\n",
              "1.50 0.9331928 0.9344783 0.9357445 0.9369916 0.9382198 0.9394292 0.9406201\n",
              "1.60 0.9452007 0.9463011 0.9473839 0.9484493 0.9494974 0.9505285 0.9515428\n",
              "1.70 0.9554345 0.9563671 0.9572838 0.9581849 0.9590705 0.9599408 0.9607961\n",
              "1.80 0.9640697 0.9648521 0.9656205 0.9663750 0.9671159 0.9678432 0.9685572\n",
              "1.90 0.9712834 0.9719334 0.9725711 0.9731966 0.9738102 0.9744119 0.9750021\n",
              "2.00 0.9772499 0.9777844 0.9783083 0.9788217 0.9793248 0.9798178 0.9803007\n",
              "2.10 0.9821356 0.9825708 0.9829970 0.9834142 0.9838226 0.9842224 0.9846137\n",
              "2.20 0.9860966 0.9864474 0.9867906 0.9871263 0.9874545 0.9877755 0.9880894\n",
              "2.30 0.9892759 0.9895559 0.9898296 0.9900969 0.9903581 0.9906133 0.9908625\n",
              "2.40 0.9918025 0.9920237 0.9922397 0.9924506 0.9926564 0.9928572 0.9930531\n",
              "2.50 0.9937903 0.9939634 0.9941323 0.9942969 0.9944574 0.9946139 0.9947664\n",
              "2.60 0.9953388 0.9954729 0.9956035 0.9957308 0.9958547 0.9959754 0.9960930\n",
              "2.70 0.9965330 0.9966358 0.9967359 0.9968333 0.9969280 0.9970202 0.9971099\n",
              "2.80 0.9974449 0.9975229 0.9975988 0.9976726 0.9977443 0.9978140 0.9978818\n",
              "2.90 0.9981342 0.9981929 0.9982498 0.9983052 0.9983589 0.9984111 0.9984618\n",
              "3.00 0.9986501 0.9986938 0.9987361 0.9987772 0.9988171 0.9988558 0.9988933\n",
              "3.10 0.9990324 0.9990646 0.9990957 0.9991260 0.9991553 0.9991836 0.9992112\n",
              "3.20 0.9993129 0.9993363 0.9993590 0.9993810 0.9994024 0.9994230 0.9994429\n",
              "3.30 0.9995166 0.9995335 0.9995499 0.9995658 0.9995811 0.9995959 0.9996103\n",
              "3.40 0.9996631 0.9996752 0.9996869 0.9996982 0.9997091 0.9997197 0.9997299\n",
              "3.50 0.9997674 0.9997759 0.9997842 0.9997922 0.9997999 0.9998074 0.9998146\n",
              "3.60 0.9998409 0.9998469 0.9998527 0.9998583 0.9998637 0.9998689 0.9998739\n",
              "3.70 0.9998922 0.9998964 0.9999004 0.9999043 0.9999080 0.9999116 0.9999150\n",
              "3.80 0.9999277 0.9999305 0.9999333 0.9999359 0.9999385 0.9999409 0.9999433\n",
              "3.90 0.9999519 0.9999539 0.9999557 0.9999575 0.9999593 0.9999609 0.9999625\n",
              "     0.07      0.08      0.09     \n",
              "0.00 0.5279032 0.5318814 0.5358564\n",
              "0.10 0.5674949 0.5714237 0.5753454\n",
              "0.20 0.6064199 0.6102612 0.6140919\n",
              "0.30 0.6443088 0.6480273 0.6517317\n",
              "0.40 0.6808225 0.6843863 0.6879331\n",
              "0.50 0.7156612 0.7190427 0.7224047\n",
              "0.60 0.7485711 0.7517478 0.7549029\n",
              "0.70 0.7793501 0.7823046 0.7852361\n",
              "0.80 0.8078498 0.8105703 0.8132671\n",
              "0.90 0.8339768 0.8364569 0.8389129\n",
              "1.00 0.8576903 0.8599289 0.8621434\n",
              "1.10 0.8789995 0.8809999 0.8829768\n",
              "1.20 0.8979577 0.8997274 0.9014747\n",
              "1.30 0.9146565 0.9162067 0.9177356\n",
              "1.40 0.9292191 0.9305634 0.9318879\n",
              "1.50 0.9417924 0.9429466 0.9440826\n",
              "1.60 0.9525403 0.9535213 0.9544860\n",
              "1.70 0.9616364 0.9624620 0.9632730\n",
              "1.80 0.9692581 0.9699460 0.9706210\n",
              "1.90 0.9755808 0.9761482 0.9767045\n",
              "2.00 0.9807738 0.9812372 0.9816911\n",
              "2.10 0.9849966 0.9853713 0.9857379\n",
              "2.20 0.9883962 0.9886962 0.9889893\n",
              "2.30 0.9911060 0.9913437 0.9915758\n",
              "2.40 0.9932443 0.9934309 0.9936128\n",
              "2.50 0.9949151 0.9950600 0.9952012\n",
              "2.60 0.9962074 0.9963189 0.9964274\n",
              "2.70 0.9971972 0.9972821 0.9973646\n",
              "2.80 0.9979476 0.9980116 0.9980738\n",
              "2.90 0.9985110 0.9985588 0.9986051\n",
              "3.00 0.9989297 0.9989650 0.9989992\n",
              "3.10 0.9992378 0.9992636 0.9992886\n",
              "3.20 0.9994623 0.9994810 0.9994991\n",
              "3.30 0.9996242 0.9996376 0.9996505\n",
              "3.40 0.9997398 0.9997493 0.9997585\n",
              "3.50 0.9998215 0.9998282 0.9998347\n",
              "3.60 0.9998787 0.9998834 0.9998879\n",
              "3.70 0.9999184 0.9999216 0.9999247\n",
              "3.80 0.9999456 0.9999478 0.9999499\n",
              "3.90 0.9999641 0.9999655 0.9999670"
            ]
          },
          "metadata": {}
        }
      ],
      "source": [
        "# Gerando a tabela normal padronizada\n",
        "\n",
        "Z <- seq(0, 3.99, by=0.01)\n",
        "probabilidade <- pnorm(Z)\n",
        "tabela_normal_padronizada <- matrix(probabilidade, ncol=10, byrow=TRUE)\n",
        "colnames(tabela_normal_padronizada) <- format(seq(0.00, 0.09, by=0.01))\n",
        "rownames(tabela_normal_padronizada) <- format(seq(0.00, 3.90, by=0.10), digits = 2, nsmall = 2)\n",
        "tabela_normal_padronizada"
      ]
    },
    {
      "cell_type": "markdown",
      "metadata": {
        "id": "XHYeMaN3G3D9"
      },
      "source": [
        "<img src='https://caelum-online-public.s3.amazonaws.com/1178-estatistica-parte2/01/img003.png' width='250px'>\n",
        "\n",
        "A tabela acima fornece a área sob a curva entre $-\\infty$ e $Z$ desvios padrão acima da média. Lembrando que por se tratar de valores padronizados temos $\\mu = 0$."
      ]
    },
    {
      "cell_type": "markdown",
      "metadata": {
        "id": "Bs-KyZAJG3D-"
      },
      "source": [
        "## <font color='blue'>Exemplo: Qual sua altura?</font>"
      ]
    },
    {
      "cell_type": "markdown",
      "metadata": {
        "id": "8PFIjXejG3EA"
      },
      "source": [
        "Em um estudo sobre as alturas dos moradores de uma cidade verificou-se que o conjunto de dados segue uma **distribuição aproximadamente normal**, com **média 1,70** e **desvio padrão de 0,1**. Com estas informações obtenha o seguinte conjunto de probabilidades:\n",
        "\n",
        "> **A.** probabilidade de uma pessoa, selecionada ao acaso, ter menos de 1,80 metros.\n",
        ">\n",
        "> **B.** probabilidade de uma pessoa, selecionada ao acaso, ter entre 1,60 metros e 1,80 metros.    \n",
        ">\n",
        "> **C.** probabilidade de uma pessoa, selecionada ao acaso, ter mais de 1,90 metros."
      ]
    },
    {
      "cell_type": "markdown",
      "metadata": {
        "id": "aHpZLwt1G3EC"
      },
      "source": [
        "### Problema A - Identificação da área sob a curva"
      ]
    },
    {
      "cell_type": "markdown",
      "metadata": {
        "id": "V1eC7tydG3EF"
      },
      "source": [
        "<img style='float: left' src='https://caelum-online-public.s3.amazonaws.com/1178-estatistica-parte2/01/img004.png' width='350px'>"
      ]
    },
    {
      "cell_type": "markdown",
      "metadata": {
        "id": "X61wEuRrG3EI"
      },
      "source": [
        "### Obter a variável padronizada $Z$"
      ]
    },
    {
      "cell_type": "code",
      "execution_count": null,
      "metadata": {
        "id": "gNSNIMvZG3EK",
        "colab": {
          "base_uri": "https://localhost:8080/",
          "height": 34
        },
        "outputId": "ec7af5f1-3eb1-4a76-8936-97afb92a2de9"
      },
      "outputs": [
        {
          "output_type": "display_data",
          "data": {
            "text/html": [
              "1.7"
            ],
            "text/markdown": "1.7",
            "text/latex": "1.7",
            "text/plain": [
              "[1] 1.7"
            ]
          },
          "metadata": {}
        }
      ],
      "source": [
        "media <- 1.7\n",
        "media"
      ]
    },
    {
      "cell_type": "code",
      "execution_count": null,
      "metadata": {
        "id": "E_f2lycRG3ES",
        "colab": {
          "base_uri": "https://localhost:8080/",
          "height": 34
        },
        "outputId": "8e7251b1-c54a-499a-eb1f-d3453419cc7f"
      },
      "outputs": [
        {
          "output_type": "display_data",
          "data": {
            "text/html": [
              "0.1"
            ],
            "text/markdown": "0.1",
            "text/latex": "0.1",
            "text/plain": [
              "[1] 0.1"
            ]
          },
          "metadata": {}
        }
      ],
      "source": [
        "desvio_padrao <- 0.1\n",
        "desvio_padrao"
      ]
    },
    {
      "cell_type": "code",
      "execution_count": null,
      "metadata": {
        "id": "xnsCkUb6G3EX",
        "colab": {
          "base_uri": "https://localhost:8080/",
          "height": 34
        },
        "outputId": "1b38c211-4d38-4afb-c067-3dd7e4207fa9"
      },
      "outputs": [
        {
          "output_type": "display_data",
          "data": {
            "text/html": [
              "1"
            ],
            "text/markdown": "1",
            "text/latex": "1",
            "text/plain": [
              "[1] 1"
            ]
          },
          "metadata": {}
        }
      ],
      "source": [
        "# Obtendo a variável normalizada utilizando a média e o desvio padrão.\n",
        "\n",
        "Z <- (1.8 - media) / desvio_padrao\n",
        "Z"
      ]
    },
    {
      "cell_type": "markdown",
      "metadata": {
        "id": "oj9sgHbkG3Eb"
      },
      "source": [
        "### Solução 1 - Utilizando tabela"
      ]
    },
    {
      "cell_type": "code",
      "execution_count": null,
      "metadata": {
        "id": "ReDTH3WgG3Ec",
        "colab": {
          "base_uri": "https://localhost:8080/",
          "height": 34
        },
        "outputId": "dc2ccc8e-1876-4dec-c865-d6be0fb04439"
      },
      "outputs": [
        {
          "output_type": "display_data",
          "data": {
            "text/html": [
              "0.8413447"
            ],
            "text/markdown": "0.8413447",
            "text/latex": "0.8413447",
            "text/plain": [
              "[1] 0.8413447"
            ]
          },
          "metadata": {}
        }
      ],
      "source": [
        "# Consultando na tabela obtemos o valor.\n",
        "\n",
        "probabilidade <- 0.8413447\n",
        "probabilidade"
      ]
    },
    {
      "cell_type": "markdown",
      "metadata": {
        "id": "4ud0OnQOG3Eh"
      },
      "source": [
        "### Solução 2 - Utilizando função"
      ]
    },
    {
      "cell_type": "code",
      "execution_count": null,
      "metadata": {
        "id": "sx7riZVlG3Ei",
        "colab": {
          "base_uri": "https://localhost:8080/",
          "height": 34
        },
        "outputId": "63bef94e-900e-42f6-e683-b3d53d16232c"
      },
      "outputs": [
        {
          "output_type": "display_data",
          "data": {
            "text/html": [
              "0.841344746068543"
            ],
            "text/markdown": "0.841344746068543",
            "text/latex": "0.841344746068543",
            "text/plain": [
              "[1] 0.8413447"
            ]
          },
          "metadata": {}
        }
      ],
      "source": [
        "# Com a função pnorm da linguagem R e passando como parâmetro a variável normalizada Z temos a probabilidade de forma simplificada.\n",
        "\n",
        "pnorm(Z)"
      ]
    },
    {
      "cell_type": "markdown",
      "source": [
        "## Exercício - 05"
      ],
      "metadata": {
        "id": "Tx4nGxhI1zmN"
      }
    },
    {
      "cell_type": "code",
      "source": [
        "# A aplicação de uma prova de estatística em um concurso apresentou um conjunto de notas normalmente distribuídas. Verificou-se que o conjunto de notas \n",
        "# tinha média 70 e desvio padrão de 5 pontos. Qual a probabilidade de um aluno, selecionado ao acaso, ter nota menor que 85?\n",
        "\n",
        "Z_ex5 = (85 - 70) / 5\n",
        "probabilidade_ex5 = pnorm(Z_ex5)\n",
        "probabilidade_ex5"
      ],
      "metadata": {
        "colab": {
          "base_uri": "https://localhost:8080/",
          "height": 34
        },
        "id": "-UGdENmM1yCM",
        "outputId": "774638d1-a9d0-4625-b03b-e8750336a82b"
      },
      "execution_count": null,
      "outputs": [
        {
          "output_type": "display_data",
          "data": {
            "text/html": [
              "0.99865010196837"
            ],
            "text/markdown": "0.99865010196837",
            "text/latex": "0.99865010196837",
            "text/plain": [
              "[1] 0.9986501"
            ]
          },
          "metadata": {}
        }
      ]
    },
    {
      "cell_type": "markdown",
      "metadata": {
        "id": "ZsnMjGzJG3Ep"
      },
      "source": [
        "### Problema B - Identificação da área sob a curva"
      ]
    },
    {
      "cell_type": "markdown",
      "metadata": {
        "id": "LN2HY-UCG3Ep"
      },
      "source": [
        "<img style='float: left' src='https://caelum-online-public.s3.amazonaws.com/1178-estatistica-parte2/01/img005.png' width='350px'>"
      ]
    },
    {
      "cell_type": "markdown",
      "metadata": {
        "id": "FS6WNg88G3Eq"
      },
      "source": [
        "### Obter a variável padronizada $Z$"
      ]
    },
    {
      "cell_type": "code",
      "execution_count": null,
      "metadata": {
        "id": "mxPsPIOYG3Er",
        "colab": {
          "base_uri": "https://localhost:8080/",
          "height": 34
        },
        "outputId": "69a36a5c-66f1-4fa7-b6c9-5a2b7268f943"
      },
      "outputs": [
        {
          "output_type": "display_data",
          "data": {
            "text/html": [
              "-1"
            ],
            "text/markdown": "-1",
            "text/latex": "-1",
            "text/plain": [
              "[1] -1"
            ]
          },
          "metadata": {}
        }
      ],
      "source": [
        "Z_inferior <- (1.6 - media) / desvio_padrao\n",
        "round(Z_inferior, 2)"
      ]
    },
    {
      "cell_type": "code",
      "execution_count": null,
      "metadata": {
        "id": "s0Vf0GXHG3Et",
        "colab": {
          "base_uri": "https://localhost:8080/",
          "height": 34
        },
        "outputId": "37e5c078-e862-40e3-deff-8717dfcd2d1d"
      },
      "outputs": [
        {
          "output_type": "display_data",
          "data": {
            "text/html": [
              "1"
            ],
            "text/markdown": "1",
            "text/latex": "1",
            "text/plain": [
              "[1] 1"
            ]
          },
          "metadata": {}
        }
      ],
      "source": [
        "Z_superior <- (1.8 - media) / desvio_padrao\n",
        "round(Z_superior, 2)"
      ]
    },
    {
      "cell_type": "markdown",
      "metadata": {
        "id": "MseXjmZ7G3E0"
      },
      "source": [
        "### Solução 1 - Utilizando tabela"
      ]
    },
    {
      "cell_type": "code",
      "execution_count": null,
      "metadata": {
        "id": "swZ6SVQGG3E0",
        "colab": {
          "base_uri": "https://localhost:8080/",
          "height": 34
        },
        "outputId": "624261b6-c078-4461-8cda-1ba7a2408abf"
      },
      "outputs": [
        {
          "output_type": "display_data",
          "data": {
            "text/html": [
              "0.6826894"
            ],
            "text/markdown": "0.6826894",
            "text/latex": "0.6826894",
            "text/plain": [
              "[1] 0.6826894"
            ]
          },
          "metadata": {}
        }
      ],
      "source": [
        "probabilidade <- (0.8413447 - 0.5) * 2\n",
        "probabilidade"
      ]
    },
    {
      "cell_type": "code",
      "execution_count": null,
      "metadata": {
        "id": "oNfZZRBdGy2G",
        "colab": {
          "base_uri": "https://localhost:8080/",
          "height": 34
        },
        "outputId": "ba0540a9-1a56-42ca-c205-bfd326e8529d"
      },
      "outputs": [
        {
          "output_type": "display_data",
          "data": {
            "text/html": [
              "0.6826894"
            ],
            "text/markdown": "0.6826894",
            "text/latex": "0.6826894",
            "text/plain": [
              "[1] 0.6826894"
            ]
          },
          "metadata": {}
        }
      ],
      "source": [
        "probabilidade <- 0.8413447 - (1 - 0.8413447)\n",
        "probabilidade"
      ]
    },
    {
      "cell_type": "markdown",
      "metadata": {
        "id": "y5e4zAifG3E2"
      },
      "source": [
        "### Solução 2 - Utilizando função"
      ]
    },
    {
      "cell_type": "code",
      "execution_count": null,
      "metadata": {
        "id": "hcps6lkNG3E3",
        "colab": {
          "base_uri": "https://localhost:8080/",
          "height": 34
        },
        "outputId": "6f3a772f-b8bd-453c-c756-1a59a9c71014"
      },
      "outputs": [
        {
          "output_type": "display_data",
          "data": {
            "text/html": [
              "0.682689492137086"
            ],
            "text/markdown": "0.682689492137086",
            "text/latex": "0.682689492137086",
            "text/plain": [
              "[1] 0.6826895"
            ]
          },
          "metadata": {}
        }
      ],
      "source": [
        "probabilidade <- pnorm(Z_superior) - (1 - pnorm(Z_superior))\n",
        "probabilidade"
      ]
    },
    {
      "cell_type": "code",
      "execution_count": null,
      "metadata": {
        "id": "MjEfhnQEG3E5",
        "colab": {
          "base_uri": "https://localhost:8080/",
          "height": 34
        },
        "outputId": "1e25e54e-e48e-404d-c755-0f834a043285"
      },
      "outputs": [
        {
          "output_type": "display_data",
          "data": {
            "text/html": [
              "0.682689492137086"
            ],
            "text/markdown": "0.682689492137086",
            "text/latex": "0.682689492137086",
            "text/plain": [
              "[1] 0.6826895"
            ]
          },
          "metadata": {}
        }
      ],
      "source": [
        "probabilidade <- pnorm(Z_superior) - pnorm(Z_inferior)\n",
        "probabilidade"
      ]
    },
    {
      "cell_type": "markdown",
      "source": [
        "## Exercício - 06"
      ],
      "metadata": {
        "id": "Oj9oyhz538uU"
      }
    },
    {
      "cell_type": "code",
      "source": [
        "# O faturamento diário de um motorista de aplicativo segue uma distribuição aproximadamente normal, com média R$ 300,00 \n",
        "# e desvio padrão igual a R$ 50,00. Obtenha as probabilidades de que, em um dia aleatório, o motorista ganhe:\n",
        "\n",
        "# 1. Entre R$ 250,00 e R$ 350,00\n",
        "# 2. Entre R$ 400,00 e R$ 500,00\n",
        "\n",
        "Z_inferior_ex6 = (250 - 300) / 50\n",
        "Z_superior_ex6 = (350 - 300) / 50\n",
        "probabilidade_ex6 = pnorm(Z_superior_ex6) - pnorm(Z_inferior_ex6)\n",
        "probabilidade_ex6"
      ],
      "metadata": {
        "colab": {
          "base_uri": "https://localhost:8080/",
          "height": 34
        },
        "id": "KfHmDw5539GU",
        "outputId": "1064d43f-fe96-41c6-a9b6-24db7662be5b"
      },
      "execution_count": null,
      "outputs": [
        {
          "output_type": "display_data",
          "data": {
            "text/html": [
              "0.682689492137086"
            ],
            "text/markdown": "0.682689492137086",
            "text/latex": "0.682689492137086",
            "text/plain": [
              "[1] 0.6826895"
            ]
          },
          "metadata": {}
        }
      ]
    },
    {
      "cell_type": "code",
      "source": [
        "Z_inferior_ex6 = (400 - 300) / 50\n",
        "Z_superior_ex6 = (500 - 300) / 50\n",
        "probabilidade_ex6 = pnorm(Z_superior_ex6) - pnorm(Z_inferior_ex6)\n",
        "probabilidade_ex6"
      ],
      "metadata": {
        "colab": {
          "base_uri": "https://localhost:8080/",
          "height": 34
        },
        "id": "Y-xcAeiK4ixu",
        "outputId": "931b0097-2e77-4f2b-9b12-982d45ed8b48"
      },
      "execution_count": null,
      "outputs": [
        {
          "output_type": "display_data",
          "data": {
            "text/html": [
              "0.0227184607063461"
            ],
            "text/markdown": "0.0227184607063461",
            "text/latex": "0.0227184607063461",
            "text/plain": [
              "[1] 0.02271846"
            ]
          },
          "metadata": {}
        }
      ]
    },
    {
      "cell_type": "markdown",
      "source": [
        "## Exercício - 07"
      ],
      "metadata": {
        "id": "LMlJ2mXz43zO"
      }
    },
    {
      "cell_type": "code",
      "source": [
        "# Os pesos dos lutadores de uma academia de MMA, com 500 atletas, são normalmente distribuídos, com média igual a 80,5 kg e desvio padrão igual a 12,2 kg. Encontre o número \n",
        "# de atletas dessa academia que se enquadram na categoria peso leve, que vai de 65,7 kg até 70,3 kg.\n",
        "\n",
        "Z_inferior_ex7 = (65.7 - 80.5) / 12.2\n",
        "Z_superior_ex7 = (70.3 - 80.5) / 12.2\n",
        "probabilidade_ex7 = pnorm(Z_superior_ex7) - pnorm(Z_inferior_ex7)\n",
        "atletas_peso_leve = 500 * probabilidade_ex7\n",
        "round(atletas_peso_leve)"
      ],
      "metadata": {
        "colab": {
          "base_uri": "https://localhost:8080/",
          "height": 34
        },
        "id": "IVqdg53g44Mo",
        "outputId": "6bce770a-481b-4589-be82-fa37effd64bd"
      },
      "execution_count": null,
      "outputs": [
        {
          "output_type": "display_data",
          "data": {
            "text/html": [
              "45"
            ],
            "text/markdown": "45",
            "text/latex": "45",
            "text/plain": [
              "[1] 45"
            ]
          },
          "metadata": {}
        }
      ]
    },
    {
      "cell_type": "markdown",
      "metadata": {
        "id": "05sqVgdaG3E-"
      },
      "source": [
        "### Problema C - Identificação da área sob a curva"
      ]
    },
    {
      "cell_type": "markdown",
      "metadata": {
        "id": "EPKhGTEkG3E_"
      },
      "source": [
        "<img style='float: left' src='https://caelum-online-public.s3.amazonaws.com/1178-estatistica-parte2/01/img006.png' width='350px'>"
      ]
    },
    {
      "cell_type": "markdown",
      "metadata": {
        "id": "BA6jYbsSG3E_"
      },
      "source": [
        "### Obter a variável padronizada $Z$"
      ]
    },
    {
      "cell_type": "code",
      "execution_count": null,
      "metadata": {
        "id": "3OVj60MzG3E_",
        "colab": {
          "base_uri": "https://localhost:8080/",
          "height": 34
        },
        "outputId": "6601f8ea-c380-46dc-9884-47c55b2e1344"
      },
      "outputs": [
        {
          "output_type": "display_data",
          "data": {
            "text/html": [
              "2"
            ],
            "text/markdown": "2",
            "text/latex": "2",
            "text/plain": [
              "[1] 2"
            ]
          },
          "metadata": {}
        }
      ],
      "source": [
        "Z <- (1.9 - media) / desvio_padrao\n",
        "Z"
      ]
    },
    {
      "cell_type": "markdown",
      "metadata": {
        "id": "hCiiWAm_G3FC"
      },
      "source": [
        "### Solução 1 - Utilizando tabela"
      ]
    },
    {
      "cell_type": "code",
      "execution_count": null,
      "metadata": {
        "id": "pz27wE9aFDgl",
        "colab": {
          "base_uri": "https://localhost:8080/",
          "height": 34
        },
        "outputId": "83812bc2-0206-43ad-d0bb-b6f5fc7c79bd"
      },
      "outputs": [
        {
          "output_type": "display_data",
          "data": {
            "text/html": [
              "0.0227501"
            ],
            "text/markdown": "0.0227501",
            "text/latex": "0.0227501",
            "text/plain": [
              "[1] 0.0227501"
            ]
          },
          "metadata": {}
        }
      ],
      "source": [
        "# Como desejamos saber o valor acima de 1,9, subtraímos a probabilide de 1 (valor do gráfico completo).\n",
        "\n",
        "probabilidade <- 1 - 0.9772499\n",
        "probabilidade"
      ]
    },
    {
      "cell_type": "markdown",
      "metadata": {
        "id": "QCyoVXOdG3FF"
      },
      "source": [
        "### Solução 2 - Utilizando função"
      ]
    },
    {
      "cell_type": "code",
      "execution_count": null,
      "metadata": {
        "id": "caIE-t83G3FF",
        "colab": {
          "base_uri": "https://localhost:8080/",
          "height": 34
        },
        "outputId": "abf38bd9-75b7-4694-dbef-16bdbe4594d3"
      },
      "outputs": [
        {
          "output_type": "display_data",
          "data": {
            "text/html": [
              "0.0227501319481792"
            ],
            "text/markdown": "0.0227501319481792",
            "text/latex": "0.0227501319481792",
            "text/plain": [
              "[1] 0.02275013"
            ]
          },
          "metadata": {}
        }
      ],
      "source": [
        "# O mesmo processo pode ser obtido utilizando a função pnorm.\n",
        "\n",
        "probabilidade <- 1 - pnorm(Z)\n",
        "probabilidade"
      ]
    },
    {
      "cell_type": "code",
      "execution_count": null,
      "metadata": {
        "id": "wKjqQGgMG3FI",
        "colab": {
          "base_uri": "https://localhost:8080/",
          "height": 34
        },
        "outputId": "b58e24ab-5afe-49c0-d18e-0f7586ba95ab"
      },
      "outputs": [
        {
          "output_type": "display_data",
          "data": {
            "text/html": [
              "0.0227501319481792"
            ],
            "text/markdown": "0.0227501319481792",
            "text/latex": "0.0227501319481792",
            "text/plain": [
              "[1] 0.02275013"
            ]
          },
          "metadata": {}
        }
      ],
      "source": [
        "# Passando o valor de Z com um sinal de negativo, a função subtrai de forma automatica o valor de 1 do resultado.\n",
        "\n",
        "probabilidade <- pnorm(-Z)\n",
        "probabilidade"
      ]
    },
    {
      "cell_type": "markdown",
      "source": [
        "## Exercício - 08"
      ],
      "metadata": {
        "id": "m5wDlpZ564mt"
      }
    },
    {
      "cell_type": "code",
      "source": [
        "# O Inmetro verificou que as lâmpadas incandescentes da fabricante XPTO apresentam uma vida útil normalmente distribuída, com média \n",
        "# igual a 720 dias e desvio padrão igual a 30 dias. Calcule a probabilidade de uma lâmpada escolhida ao acaso durar:\n",
        "\n",
        "# 1. Entre 650 e 750 dias\n",
        "# 2. Mais que 800 dias\n",
        "# 3. Menos que 700 dias\n",
        "\n",
        "media_ex8 <- 720\n",
        "desvio_padrao_ex8 <- 30\n",
        "\n",
        "# 1. entre 650 e 750 dias\n",
        "\n",
        "Z_inferior_ex8 = (650 - media_ex8) / desvio_padrao_ex8\n",
        "Z_superior_ex8 = (750 - media_ex8) / desvio_padrao_ex8\n",
        "\n",
        "probabilidade_ex8 <- pnorm(Z_superior_ex8) - pnorm(Z_inferior_ex8)\n",
        "round(probabilidade_ex8, 4)\n",
        "\n",
        "# 2. mais que 800 dias\n",
        "\n",
        "Z_ex8 = (800 - media_ex8) / desvio_padrao_ex8\n",
        "\n",
        "probabilidade_ex8 <- pnorm(-Z_ex8)\n",
        "round(probabilidade_ex8, 4)\n",
        "\n",
        "# 3. menos que 700 dias\n",
        "\n",
        "Z_ex8 = (700 - media_ex8) / desvio_padrao_ex8\n",
        "\n",
        "probabilidade_ex8 <- pnorm(Z_ex8)\n",
        "round(probabilidade_ex8, 4)"
      ],
      "metadata": {
        "colab": {
          "base_uri": "https://localhost:8080/",
          "height": 69
        },
        "id": "NQZmapL265AF",
        "outputId": "ffbb3c8e-6df2-4723-c161-081ee44a77ee"
      },
      "execution_count": null,
      "outputs": [
        {
          "output_type": "display_data",
          "data": {
            "text/html": [
              "0.8315"
            ],
            "text/markdown": "0.8315",
            "text/latex": "0.8315",
            "text/plain": [
              "[1] 0.8315"
            ]
          },
          "metadata": {}
        },
        {
          "output_type": "display_data",
          "data": {
            "text/html": [
              "0.0038"
            ],
            "text/markdown": "0.0038",
            "text/latex": "0.0038",
            "text/plain": [
              "[1] 0.0038"
            ]
          },
          "metadata": {}
        },
        {
          "output_type": "display_data",
          "data": {
            "text/html": [
              "0.2525"
            ],
            "text/markdown": "0.2525",
            "text/latex": "0.2525",
            "text/plain": [
              "[1] 0.2525"
            ]
          },
          "metadata": {}
        }
      ]
    },
    {
      "cell_type": "markdown",
      "source": [
        "## Exercício - 09"
      ],
      "metadata": {
        "id": "_xpbGZc97ftg"
      }
    },
    {
      "cell_type": "code",
      "source": [
        "# Utilizando a tabela padronizada ou o ferramental disponibilizado pelo R, encontre a área sob a curva normal para os valores de Z abaixo:\n",
        "\n",
        "# 1. 0 < Z < 1,23\n",
        "# 2. Z > 2,14\n",
        "# 3. -1,56 < Z < 1,48\n",
        "# 4. Z < -0,78\n",
        "\n",
        "# 1. 0 < Z < 1,23\n",
        "round(pnorm(1.23), 4) - round(pnorm(0), 4)\n",
        "\n",
        "# 2. Z > 2,14\n",
        "1 - round(pnorm(2.14), 4)\n",
        "\n",
        "# 3. -1,56 < Z < 1,48\n",
        "round(pnorm(1.48), 4) - round(pnorm(-1.56), 4)\n",
        "\n",
        "# 4. Z < -0,78\n",
        "round(pnorm(-0.78), 4)"
      ],
      "metadata": {
        "colab": {
          "base_uri": "https://localhost:8080/",
          "height": 86
        },
        "id": "Nc5XDmIc7gHG",
        "outputId": "6cc128b8-a819-4e32-86cb-6d94b3902bc4"
      },
      "execution_count": null,
      "outputs": [
        {
          "output_type": "display_data",
          "data": {
            "text/html": [
              "0.3907"
            ],
            "text/markdown": "0.3907",
            "text/latex": "0.3907",
            "text/plain": [
              "[1] 0.3907"
            ]
          },
          "metadata": {}
        },
        {
          "output_type": "display_data",
          "data": {
            "text/html": [
              "0.0162"
            ],
            "text/markdown": "0.0162",
            "text/latex": "0.0162",
            "text/plain": [
              "[1] 0.0162"
            ]
          },
          "metadata": {}
        },
        {
          "output_type": "display_data",
          "data": {
            "text/html": [
              "0.8712"
            ],
            "text/markdown": "0.8712",
            "text/latex": "0.8712",
            "text/plain": [
              "[1] 0.8712"
            ]
          },
          "metadata": {}
        },
        {
          "output_type": "display_data",
          "data": {
            "text/html": [
              "0.2177"
            ],
            "text/markdown": "0.2177",
            "text/latex": "0.2177",
            "text/plain": [
              "[1] 0.2177"
            ]
          },
          "metadata": {}
        }
      ]
    },
    {
      "cell_type": "markdown",
      "source": [
        "## Exercício - 10"
      ],
      "metadata": {
        "id": "zqh29eSy74sB"
      }
    },
    {
      "cell_type": "code",
      "source": [
        "# O tempo para concluir uma prova de concurso público se distribui normalmente, com uma média de 80 minutos e desvio padrão de 10 minutos. \n",
        "# Suponha que uma das salas de prova tenha 60 candidatos e que a duração da prova seja de 90 minutos. Quantos candidatos você acha que não conseguirão \n",
        "# concluir a prova no tempo determinado?\n",
        "\n",
        "# Observação: Utilize a função round() para arredondar o resultado obtido.\n",
        "\n",
        "media <- 80\n",
        "desvio_padrao <- 10\n",
        "N <- 60\n",
        "\n",
        "Z = (90 - media) / desvio_padrao\n",
        "\n",
        "n <- pnorm(-Z) * N\n",
        "round(n)"
      ],
      "metadata": {
        "colab": {
          "base_uri": "https://localhost:8080/",
          "height": 34
        },
        "id": "AsTvxxRe75AI",
        "outputId": "6753b670-4688-4862-db01-a0de23442e29"
      },
      "execution_count": null,
      "outputs": [
        {
          "output_type": "display_data",
          "data": {
            "text/html": [
              "10"
            ],
            "text/markdown": "10",
            "text/latex": "10",
            "text/plain": [
              "[1] 10"
            ]
          },
          "metadata": {}
        }
      ]
    },
    {
      "cell_type": "markdown",
      "metadata": {
        "id": "GmmzChE2t4wW"
      },
      "source": [
        "# <font color=green>3 AMOSTRAGEM</font>\n",
        "***"
      ]
    },
    {
      "cell_type": "markdown",
      "metadata": {
        "id": "g8PbtmQZt4Wv"
      },
      "source": [
        "## <font color=green>3.1 População e Amostra</font>\n",
        "***"
      ]
    },
    {
      "cell_type": "markdown",
      "metadata": {
        "id": "sedD5gB9G3FV"
      },
      "source": [
        "### População\n",
        "Conjunto de todos os elementos de interesse em um estudo. Diversos elementos podem compor uma população, por exemplo: pessoas, idades, alturas, carros etc.\n",
        "\n",
        "Com relação ao tamanho, as populações podem ser limitadas (populações finitas) ou ilimitadas (populações infinitas)."
      ]
    },
    {
      "cell_type": "markdown",
      "metadata": {
        "id": "XBFhAWNcG3FW"
      },
      "source": [
        "### Populações finitas\n",
        "\n",
        "Permitem a contagem de seus elementos. Como exemplos temos o número de funcionário de uma empresa, a quantidade de alunos em uma escola etc."
      ]
    },
    {
      "cell_type": "markdown",
      "metadata": {
        "id": "YT8V2GB1G3FW"
      },
      "source": [
        "### Populações infinitas\n",
        "\n",
        "Não é possível contar seus elementos. Como exemplos temos a quantidade de porções que se pode extrair da água do mar para uma análise, temperatura medida em cada ponto de um território etc.\n",
        "\n",
        "<font color=red>Quando os elementos de uma população puderem ser contados, porém apresentando uma quantidade muito grande, assume-se a população como infinita.</font>."
      ]
    },
    {
      "cell_type": "markdown",
      "metadata": {
        "id": "a-WtAXv1G3FX"
      },
      "source": [
        "### Amostra\n",
        "Subconjunto representativo da população."
      ]
    },
    {
      "cell_type": "markdown",
      "metadata": {
        "id": "QWnDYpPSG3FX"
      },
      "source": [
        "Os atributos numéricos de uma população como sua média, variância e desvio padrão, são conhecidos como **parâmetros**. O principal foco da inferência estatística é justamente gerar estimativas e testar hipóteses sobre os parâmetros populacionais utilizando as informações de amostras."
      ]
    },
    {
      "cell_type": "markdown",
      "metadata": {
        "id": "dDz6vFbDG3FZ"
      },
      "source": [
        "## <font color=green>3.2 Quando utilizar uma amostra?</font>\n",
        "***"
      ]
    },
    {
      "cell_type": "markdown",
      "metadata": {
        "id": "5X1YwCGlG3Fe"
      },
      "source": [
        "### Populações infinitas\n",
        "\n",
        "O estudo não chegaria nunca ao fim. Não é possível investigar todos os elementos da população."
      ]
    },
    {
      "cell_type": "markdown",
      "metadata": {
        "id": "jHLtG8HSG3Ff"
      },
      "source": [
        "### Testes destrutivos\n",
        "\n",
        "Estudos onde os elementos avaliados são totalmente consumidos ou destruídos. Exemplo: testes de vida útil, testes de segurança contra colisões em automóveis."
      ]
    },
    {
      "cell_type": "markdown",
      "metadata": {
        "id": "lxYxepmdG3Ff"
      },
      "source": [
        "### Resultados rápidos\n",
        "\n",
        "Pesquisas que precisam de mais agilidade na divulgação. Exemplo: pesquisas de opinião, pesquisas que envolvam problemas de saúde pública."
      ]
    },
    {
      "cell_type": "markdown",
      "metadata": {
        "id": "PeUCGL5nG3Fj"
      },
      "source": [
        "### Custos elevados\n",
        "\n",
        "Quando a população é finita mas muito numerosa, o custo de um censo pode tornar o processo inviável."
      ]
    },
    {
      "cell_type": "markdown",
      "metadata": {
        "id": "1sbJeMpSG3Fj"
      },
      "source": [
        "## <font color=green>3.3 Amostragem Aleatória Simples</font>\n",
        "***"
      ]
    },
    {
      "cell_type": "markdown",
      "metadata": {
        "id": "Kiq9cYMYG3Fp"
      },
      "source": [
        "É uma das principais maneiras de se extrair uma amostra de uma população. A exigência fundamental deste tipo de abordagem é que cada elemeto da população tenha as mesmas chances de ser selecionado para fazer parte da amostra."
      ]
    },
    {
      "cell_type": "markdown",
      "metadata": {
        "id": "z9ZEBtO9FDgn"
      },
      "source": [
        "#### <font color=red>Documentações:\n",
        "\n",
        "- [**sample**](https://www.rdocumentation.org/packages/dplyr/versions/0.7.8/topics/sample)"
      ]
    },
    {
      "cell_type": "code",
      "execution_count": null,
      "metadata": {
        "id": "BGZ3NUQKFDgn",
        "colab": {
          "base_uri": "https://localhost:8080/"
        },
        "outputId": "9a4833b3-21a0-4544-b818-154c106d199a"
      },
      "outputs": [
        {
          "output_type": "stream",
          "name": "stderr",
          "text": [
            "\n",
            "Attaching package: ‘dplyr’\n",
            "\n",
            "\n",
            "The following objects are masked from ‘package:stats’:\n",
            "\n",
            "    filter, lag\n",
            "\n",
            "\n",
            "The following objects are masked from ‘package:base’:\n",
            "\n",
            "    intersect, setdiff, setequal, union\n",
            "\n",
            "\n"
          ]
        }
      ],
      "source": [
        "library(dplyr)"
      ]
    },
    {
      "cell_type": "code",
      "execution_count": null,
      "metadata": {
        "id": "NtQ8HOYdG3Fq",
        "colab": {
          "base_uri": "https://localhost:8080/",
          "height": 34
        },
        "outputId": "839f1b80-8708-43ad-9539-6354ae914d5f"
      },
      "outputs": [
        {
          "output_type": "display_data",
          "data": {
            "text/html": [
              "76840"
            ],
            "text/markdown": "76840",
            "text/latex": "76840",
            "text/plain": [
              "[1] 76840"
            ]
          },
          "metadata": {}
        }
      ],
      "source": [
        "nrow(dados)"
      ]
    },
    {
      "cell_type": "code",
      "execution_count": null,
      "metadata": {
        "id": "DsXJHWhMG3Fs",
        "colab": {
          "base_uri": "https://localhost:8080/",
          "height": 34
        },
        "outputId": "33f89529-805d-47e7-eff7-685a84d0e4d5"
      },
      "outputs": [
        {
          "output_type": "display_data",
          "data": {
            "text/html": [
              "2000.38319885476"
            ],
            "text/markdown": "2000.38319885476",
            "text/latex": "2000.38319885476",
            "text/plain": [
              "[1] 2000.383"
            ]
          },
          "metadata": {}
        }
      ],
      "source": [
        "mean(dados$Renda)"
      ]
    },
    {
      "cell_type": "code",
      "execution_count": null,
      "metadata": {
        "id": "TTGVCIS7FDgn"
      },
      "outputs": [],
      "source": [
        "# Com a função sample_n, podemos separar o BD em um amostral que é separado de forma aleatória.\n",
        "# Essa aleatoriedade pode ser fixa selecionando e fixando um número para a função set.seed.\n",
        "\n",
        "set.seed(2811)\n",
        "amostra <- sample_n(dados, 1000)"
      ]
    },
    {
      "cell_type": "code",
      "execution_count": null,
      "metadata": {
        "id": "USL3xqx5FDgo",
        "colab": {
          "base_uri": "https://localhost:8080/",
          "height": 34
        },
        "outputId": "07053646-ccd8-4b45-b529-656e224d75ec"
      },
      "outputs": [
        {
          "output_type": "display_data",
          "data": {
            "text/html": [
              "1000"
            ],
            "text/markdown": "1000",
            "text/latex": "1000",
            "text/plain": [
              "[1] 1000"
            ]
          },
          "metadata": {}
        }
      ],
      "source": [
        "nrow(amostra)"
      ]
    },
    {
      "cell_type": "code",
      "execution_count": null,
      "metadata": {
        "id": "GYoH__jNFDgo",
        "colab": {
          "base_uri": "https://localhost:8080/",
          "height": 34
        },
        "outputId": "a2641205-6a6c-4331-a044-6c092975965a"
      },
      "outputs": [
        {
          "output_type": "display_data",
          "data": {
            "text/html": [
              "1884.602"
            ],
            "text/markdown": "1884.602",
            "text/latex": "1884.602",
            "text/plain": [
              "[1] 1884.602"
            ]
          },
          "metadata": {}
        }
      ],
      "source": [
        "# Abaixo observamos que os valores de média e percentual de frequência por sexo ficaram diferentes do BD original,\n",
        "# o que destaca a importância da seleção da amostra com cautela para que a mesma represente a população como um todo.\n",
        "\n",
        "mean(amostra$Renda)"
      ]
    },
    {
      "cell_type": "code",
      "execution_count": null,
      "metadata": {
        "id": "Fn8JfNxVFDgo",
        "colab": {
          "base_uri": "https://localhost:8080/",
          "height": 69
        },
        "outputId": "6a72076b-972c-4978-b0cf-49ba1e9d3e15"
      },
      "outputs": [
        {
          "output_type": "display_data",
          "data": {
            "text/plain": [
              "\n",
              "        0         1 \n",
              "0.6929984 0.3070016 "
            ]
          },
          "metadata": {}
        }
      ],
      "source": [
        "prop.table(table(dados$Sexo))"
      ]
    },
    {
      "cell_type": "code",
      "execution_count": null,
      "metadata": {
        "id": "WGZT_wnjSgPy",
        "colab": {
          "base_uri": "https://localhost:8080/",
          "height": 69
        },
        "outputId": "a268b7b1-e3e8-47c2-ed5d-f6a10c336a5a"
      },
      "outputs": [
        {
          "output_type": "display_data",
          "data": {
            "text/plain": [
              "\n",
              "    0     1 \n",
              "0.679 0.321 "
            ]
          },
          "metadata": {}
        }
      ],
      "source": [
        "prop.table(table(amostra$Sexo))"
      ]
    },
    {
      "cell_type": "markdown",
      "metadata": {
        "id": "stcKhnJBG3F7"
      },
      "source": [
        "## <font color=green>3.4 Amostragem Estratificada</font>\n",
        "***"
      ]
    },
    {
      "cell_type": "markdown",
      "metadata": {
        "id": "W1uEZMRIG3GA"
      },
      "source": [
        "É uma melhoria do processo de amostragem aleatória simples. Neste método é proposta a divisão da população em subgrupos de elementos com características similares, ou seja, grupos mais homogêneos. Com estes subgrupos separados, aplica-se a técnica de amostragem aleatória simples dentro de cada subgrupo individualmente."
      ]
    },
    {
      "cell_type": "markdown",
      "metadata": {
        "id": "xRjUHDAbG3GB"
      },
      "source": [
        "## <font color=green>3.5 Amostragem por Conglomerados</font>\n",
        "***"
      ]
    },
    {
      "cell_type": "markdown",
      "metadata": {
        "id": "sW9IuaL9G3GH"
      },
      "source": [
        "Também visa melhorar o critério de amostragem aleatória simples. Na amostragem por conglomerados são também criados subgrupos, porém não serão homogêneas como na amostragem estratificada. Na amostragem por conglomerados os subgrupos serão heterogêneos, onde, em seguida, serão aplicadas a amostragem aleatória simples ou estratificada.\n",
        "\n",
        "Um exemplo bastante comum de aplicação deste tipo de técnica é na divisão da população em grupos territoriais, onde os elementos investigados terão características bastante variadas."
      ]
    },
    {
      "cell_type": "markdown",
      "metadata": {
        "id": "2LNJT4FEuzO4"
      },
      "source": [
        "# <font color=green>4 ESTIMAÇÃO</font>\n",
        "***"
      ]
    },
    {
      "cell_type": "markdown",
      "metadata": {
        "id": "z69W2sVGmybS"
      },
      "source": [
        "## <font color='red'>Problema </font>"
      ]
    },
    {
      "cell_type": "markdown",
      "metadata": {
        "id": "ytP6VpismwDY"
      },
      "source": [
        "Suponha que os pesos dos sacos de arroz de uma indústria alimentícia se distribuem aproximadamente como uma normal de **desvio padrão populacional igual a 150 g**. Selecionada uma **amostra aleatório de 20 sacos** de um lote específico, obteve-se um **peso médio de 5.050 g**. Construa um **intervalo de confiança para a média populacional** assumindo um **nível de significância de 5%**."
      ]
    },
    {
      "cell_type": "markdown",
      "metadata": {
        "id": "PCqEvJMOwvUf"
      },
      "source": [
        "---"
      ]
    },
    {
      "cell_type": "markdown",
      "metadata": {
        "id": "HU578SXBG3GN"
      },
      "source": [
        "É a forma de se fazer suposições generalizadas sobre os parâmetros de uma população tendo como base as informações de uma amostra.\n",
        "\n",
        "- **Parâmetros** são os atributos numéricos de uma população, tal como a média, desvio padrão etc.\n",
        "\n",
        "- **Estimativa** é o valor obtido para determinado parâmetro a partir dos dados de uma amostra da população."
      ]
    },
    {
      "cell_type": "markdown",
      "metadata": {
        "id": "klWVkoUDG3GR"
      },
      "source": [
        "## <font color=green>4.1 Teorema do limite central</font>\n",
        "***"
      ]
    },
    {
      "cell_type": "markdown",
      "metadata": {
        "id": "QpgTvbISG3GU"
      },
      "source": [
        "> O **Teorema do Limite Central** afirma que, com o aumento do tamanho da amostra, a distribuição das médias amostrais se aproxima de uma distribuição normal com média igual à média da população e desvio padrão igual ao desvio padrão da variável original dividido pela raiz quadrada do tamanho da amostra. Este fato é assegurado para $n$ maior ou igual a 30."
      ]
    },
    {
      "cell_type": "markdown",
      "metadata": {
        "id": "ZIAr6is3wEMp"
      },
      "source": [
        "# $$\\sigma_\\bar{x} = \\frac{\\sigma}{\\sqrt{n}}$$\n",
        "\n",
        "O desvio padrão das médias amostrais é conhecido como **erro padrão da média**\n",
        "\n",
        "#### <font color=red>Documentações:\n",
        "\n",
        "- [**colMeans**](https://www.rdocumentation.org/packages/base/versions/3.6.1/topics/colSums)"
      ]
    },
    {
      "cell_type": "markdown",
      "metadata": {
        "id": "eFtSo6H0iz7z"
      },
      "source": [
        "### Entendendo o Teorema do Limite Central"
      ]
    },
    {
      "cell_type": "code",
      "execution_count": null,
      "metadata": {
        "id": "S3q73XpnizTi"
      },
      "outputs": [],
      "source": [
        "n <- 2000\n",
        "total_de_amostras <- 1500"
      ]
    },
    {
      "cell_type": "code",
      "execution_count": null,
      "metadata": {
        "id": "tXa7XKhKTyMu",
        "scrolled": true,
        "colab": {
          "base_uri": "https://localhost:8080/",
          "height": 1000
        },
        "outputId": "a454ee19-d77c-423f-84d6-fca820c2bd2a"
      },
      "outputs": [
        {
          "output_type": "display_data",
          "data": {
            "text/html": [
              "<table class=\"dataframe\">\n",
              "<caption>A data.frame: 2000 × 1500</caption>\n",
              "<thead>\n",
              "\t<tr><th scope=col>Amostra_1</th><th scope=col>Amostra_ 2</th><th scope=col>Amostra_ 3</th><th scope=col>Amostra_ 4</th><th scope=col>Amostra_ 5</th><th scope=col>Amostra_ 6</th><th scope=col>Amostra_ 7</th><th scope=col>Amostra_ 8</th><th scope=col>Amostra_ 9</th><th scope=col>Amostra_ 10</th><th scope=col>⋯</th><th scope=col>Amostra_ 1491</th><th scope=col>Amostra_ 1492</th><th scope=col>Amostra_ 1493</th><th scope=col>Amostra_ 1494</th><th scope=col>Amostra_ 1495</th><th scope=col>Amostra_ 1496</th><th scope=col>Amostra_ 1497</th><th scope=col>Amostra_ 1498</th><th scope=col>Amostra_ 1499</th><th scope=col>Amostra_ 1500</th></tr>\n",
              "\t<tr><th scope=col>&lt;int&gt;</th><th scope=col>&lt;int&gt;</th><th scope=col>&lt;int&gt;</th><th scope=col>&lt;int&gt;</th><th scope=col>&lt;int&gt;</th><th scope=col>&lt;int&gt;</th><th scope=col>&lt;int&gt;</th><th scope=col>&lt;int&gt;</th><th scope=col>&lt;int&gt;</th><th scope=col>&lt;int&gt;</th><th scope=col>⋯</th><th scope=col>&lt;int&gt;</th><th scope=col>&lt;int&gt;</th><th scope=col>&lt;int&gt;</th><th scope=col>&lt;int&gt;</th><th scope=col>&lt;int&gt;</th><th scope=col>&lt;int&gt;</th><th scope=col>&lt;int&gt;</th><th scope=col>&lt;int&gt;</th><th scope=col>&lt;int&gt;</th><th scope=col>&lt;int&gt;</th></tr>\n",
              "</thead>\n",
              "<tbody>\n",
              "\t<tr><td>41</td><td>57</td><td>31</td><td>37</td><td>49</td><td>22</td><td>64</td><td>56</td><td>68</td><td>29</td><td>⋯</td><td>32</td><td>51</td><td>58</td><td>62</td><td>29</td><td>65</td><td>20</td><td>65</td><td>56</td><td>45</td></tr>\n",
              "\t<tr><td>51</td><td>45</td><td>49</td><td>21</td><td>38</td><td>56</td><td>55</td><td>26</td><td>50</td><td>66</td><td>⋯</td><td>39</td><td>42</td><td>50</td><td>34</td><td>61</td><td>28</td><td>54</td><td>64</td><td>43</td><td>39</td></tr>\n",
              "\t<tr><td>23</td><td>39</td><td>49</td><td>37</td><td>40</td><td>45</td><td>44</td><td>30</td><td>31</td><td>28</td><td>⋯</td><td>43</td><td>28</td><td>25</td><td>36</td><td>56</td><td>47</td><td>30</td><td>49</td><td>68</td><td>46</td></tr>\n",
              "\t<tr><td>28</td><td>42</td><td>23</td><td>30</td><td>36</td><td>39</td><td>45</td><td>39</td><td>37</td><td>28</td><td>⋯</td><td>43</td><td>47</td><td>44</td><td>60</td><td>37</td><td>26</td><td>32</td><td>61</td><td>38</td><td>65</td></tr>\n",
              "\t<tr><td>25</td><td>42</td><td>57</td><td>38</td><td>57</td><td>46</td><td>37</td><td>35</td><td>45</td><td>65</td><td>⋯</td><td>44</td><td>65</td><td>45</td><td>46</td><td>18</td><td>54</td><td>58</td><td>41</td><td>37</td><td>45</td></tr>\n",
              "\t<tr><td>44</td><td>39</td><td>59</td><td>49</td><td>32</td><td>54</td><td>59</td><td>29</td><td>31</td><td>22</td><td>⋯</td><td>40</td><td>54</td><td>38</td><td>29</td><td>38</td><td>62</td><td>65</td><td>55</td><td>36</td><td>49</td></tr>\n",
              "\t<tr><td>28</td><td>70</td><td>40</td><td>27</td><td>64</td><td>49</td><td>53</td><td>38</td><td>40</td><td>46</td><td>⋯</td><td>53</td><td>47</td><td>37</td><td>51</td><td>41</td><td>59</td><td>40</td><td>50</td><td>33</td><td>58</td></tr>\n",
              "\t<tr><td>28</td><td>59</td><td>37</td><td>32</td><td>40</td><td>42</td><td>43</td><td>45</td><td>50</td><td>39</td><td>⋯</td><td>53</td><td>33</td><td>54</td><td>35</td><td>33</td><td>69</td><td>42</td><td>38</td><td>65</td><td>40</td></tr>\n",
              "\t<tr><td>36</td><td>62</td><td>27</td><td>47</td><td>53</td><td>58</td><td>54</td><td>49</td><td>36</td><td>41</td><td>⋯</td><td>32</td><td>23</td><td>55</td><td>23</td><td>29</td><td>42</td><td>40</td><td>35</td><td>54</td><td>32</td></tr>\n",
              "\t<tr><td>55</td><td>36</td><td>43</td><td>37</td><td>49</td><td>23</td><td>36</td><td>33</td><td>47</td><td>48</td><td>⋯</td><td>56</td><td>35</td><td>48</td><td>67</td><td>44</td><td>51</td><td>30</td><td>49</td><td>68</td><td>49</td></tr>\n",
              "\t<tr><td>47</td><td>30</td><td>57</td><td>53</td><td>22</td><td>45</td><td>48</td><td>62</td><td>50</td><td>57</td><td>⋯</td><td>52</td><td>55</td><td>55</td><td>32</td><td>23</td><td>47</td><td>26</td><td>44</td><td>31</td><td>50</td></tr>\n",
              "\t<tr><td>50</td><td>65</td><td>41</td><td>56</td><td>50</td><td>34</td><td>37</td><td>36</td><td>24</td><td>27</td><td>⋯</td><td>31</td><td>42</td><td>28</td><td>24</td><td>33</td><td>36</td><td>32</td><td>54</td><td>55</td><td>53</td></tr>\n",
              "\t<tr><td>36</td><td>48</td><td>59</td><td>41</td><td>57</td><td>29</td><td>58</td><td>31</td><td>33</td><td>29</td><td>⋯</td><td>57</td><td>51</td><td>33</td><td>47</td><td>50</td><td>33</td><td>48</td><td>37</td><td>35</td><td>37</td></tr>\n",
              "\t<tr><td>62</td><td>24</td><td>55</td><td>55</td><td>47</td><td>40</td><td>64</td><td>32</td><td>81</td><td>28</td><td>⋯</td><td>65</td><td>38</td><td>37</td><td>51</td><td>56</td><td>47</td><td>67</td><td>30</td><td>49</td><td>41</td></tr>\n",
              "\t<tr><td>40</td><td>57</td><td>48</td><td>29</td><td>61</td><td>56</td><td>43</td><td>42</td><td>37</td><td>54</td><td>⋯</td><td>32</td><td>32</td><td>41</td><td>45</td><td>50</td><td>40</td><td>84</td><td>53</td><td>46</td><td>28</td></tr>\n",
              "\t<tr><td>28</td><td>21</td><td>47</td><td>41</td><td>44</td><td>56</td><td>41</td><td>71</td><td>78</td><td>75</td><td>⋯</td><td>25</td><td>27</td><td>73</td><td>51</td><td>60</td><td>62</td><td>50</td><td>46</td><td>58</td><td>37</td></tr>\n",
              "\t<tr><td>30</td><td>33</td><td>58</td><td>46</td><td>65</td><td>55</td><td>40</td><td>48</td><td>53</td><td>34</td><td>⋯</td><td>47</td><td>72</td><td>37</td><td>62</td><td>39</td><td>48</td><td>30</td><td>29</td><td>74</td><td>43</td></tr>\n",
              "\t<tr><td>31</td><td>51</td><td>73</td><td>52</td><td>51</td><td>46</td><td>39</td><td>59</td><td>22</td><td>46</td><td>⋯</td><td>64</td><td>34</td><td>43</td><td>20</td><td>53</td><td>33</td><td>42</td><td>53</td><td>40</td><td>54</td></tr>\n",
              "\t<tr><td>32</td><td>27</td><td>53</td><td>23</td><td>62</td><td>40</td><td>60</td><td>58</td><td>48</td><td>37</td><td>⋯</td><td>52</td><td>39</td><td>55</td><td>63</td><td>33</td><td>62</td><td>40</td><td>32</td><td>30</td><td>32</td></tr>\n",
              "\t<tr><td>60</td><td>70</td><td>53</td><td>37</td><td>32</td><td>50</td><td>28</td><td>50</td><td>44</td><td>69</td><td>⋯</td><td>41</td><td>45</td><td>56</td><td>26</td><td>43</td><td>55</td><td>73</td><td>67</td><td>50</td><td>56</td></tr>\n",
              "\t<tr><td>41</td><td>42</td><td>31</td><td>51</td><td>55</td><td>54</td><td>38</td><td>31</td><td>43</td><td>58</td><td>⋯</td><td>34</td><td>34</td><td>62</td><td>31</td><td>56</td><td>55</td><td>48</td><td>37</td><td>63</td><td>48</td></tr>\n",
              "\t<tr><td>35</td><td>59</td><td>29</td><td>49</td><td>46</td><td>37</td><td>24</td><td>29</td><td>43</td><td>36</td><td>⋯</td><td>44</td><td>55</td><td>38</td><td>56</td><td>45</td><td>21</td><td>68</td><td>36</td><td>61</td><td>42</td></tr>\n",
              "\t<tr><td>43</td><td>44</td><td>58</td><td>32</td><td>32</td><td>35</td><td>31</td><td>63</td><td>29</td><td>50</td><td>⋯</td><td>42</td><td>53</td><td>32</td><td>56</td><td>38</td><td>47</td><td>31</td><td>36</td><td>46</td><td>67</td></tr>\n",
              "\t<tr><td>51</td><td>40</td><td>67</td><td>30</td><td>21</td><td>45</td><td>30</td><td>65</td><td>46</td><td>56</td><td>⋯</td><td>46</td><td>59</td><td>59</td><td>41</td><td>67</td><td>51</td><td>46</td><td>38</td><td>47</td><td>38</td></tr>\n",
              "\t<tr><td>74</td><td>48</td><td>59</td><td>30</td><td>43</td><td>29</td><td>37</td><td>41</td><td>25</td><td>49</td><td>⋯</td><td>38</td><td>36</td><td>80</td><td>42</td><td>43</td><td>29</td><td>64</td><td>42</td><td>53</td><td>44</td></tr>\n",
              "\t<tr><td>60</td><td>54</td><td>34</td><td>53</td><td>28</td><td>38</td><td>51</td><td>24</td><td>45</td><td>26</td><td>⋯</td><td>33</td><td>37</td><td>28</td><td>22</td><td>40</td><td>31</td><td>50</td><td>35</td><td>25</td><td>33</td></tr>\n",
              "\t<tr><td>27</td><td>47</td><td>41</td><td>43</td><td>47</td><td>47</td><td>33</td><td>43</td><td>61</td><td>57</td><td>⋯</td><td>48</td><td>39</td><td>54</td><td>27</td><td>43</td><td>28</td><td>38</td><td>24</td><td>48</td><td>39</td></tr>\n",
              "\t<tr><td>69</td><td>52</td><td>26</td><td>35</td><td>45</td><td>63</td><td>65</td><td>28</td><td>35</td><td>39</td><td>⋯</td><td>49</td><td>55</td><td>45</td><td>52</td><td>55</td><td>30</td><td>31</td><td>43</td><td>41</td><td>37</td></tr>\n",
              "\t<tr><td>36</td><td>45</td><td>45</td><td>32</td><td>91</td><td>71</td><td>39</td><td>40</td><td>51</td><td>40</td><td>⋯</td><td>50</td><td>57</td><td>41</td><td>49</td><td>44</td><td>51</td><td>54</td><td>54</td><td>57</td><td>27</td></tr>\n",
              "\t<tr><td>53</td><td>22</td><td>62</td><td>58</td><td>26</td><td>32</td><td>54</td><td>41</td><td>51</td><td>63</td><td>⋯</td><td>25</td><td>34</td><td>56</td><td>53</td><td>51</td><td>54</td><td>39</td><td>30</td><td>67</td><td>36</td></tr>\n",
              "\t<tr><td>⋮</td><td>⋮</td><td>⋮</td><td>⋮</td><td>⋮</td><td>⋮</td><td>⋮</td><td>⋮</td><td>⋮</td><td>⋮</td><td>⋱</td><td>⋮</td><td>⋮</td><td>⋮</td><td>⋮</td><td>⋮</td><td>⋮</td><td>⋮</td><td>⋮</td><td>⋮</td><td>⋮</td></tr>\n",
              "\t<tr><td>35</td><td>67</td><td>38</td><td>45</td><td>47</td><td>27</td><td>42</td><td>65</td><td>44</td><td>50</td><td>⋯</td><td>37</td><td>35</td><td>18</td><td>58</td><td>31</td><td>61</td><td>37</td><td>68</td><td>35</td><td>52</td></tr>\n",
              "\t<tr><td>22</td><td>62</td><td>42</td><td>69</td><td>57</td><td>50</td><td>55</td><td>57</td><td>62</td><td>46</td><td>⋯</td><td>36</td><td>46</td><td>26</td><td>22</td><td>62</td><td>34</td><td>68</td><td>53</td><td>38</td><td>33</td></tr>\n",
              "\t<tr><td>24</td><td>52</td><td>46</td><td>42</td><td>32</td><td>39</td><td>40</td><td>45</td><td>52</td><td>49</td><td>⋯</td><td>72</td><td>53</td><td>41</td><td>34</td><td>48</td><td>35</td><td>47</td><td>77</td><td>24</td><td>49</td></tr>\n",
              "\t<tr><td>36</td><td>54</td><td>48</td><td>60</td><td>44</td><td>41</td><td>60</td><td>40</td><td>40</td><td>25</td><td>⋯</td><td>42</td><td>42</td><td>57</td><td>29</td><td>51</td><td>49</td><td>28</td><td>43</td><td>49</td><td>62</td></tr>\n",
              "\t<tr><td>58</td><td>44</td><td>39</td><td>64</td><td>25</td><td>44</td><td>28</td><td>36</td><td>35</td><td>41</td><td>⋯</td><td>75</td><td>63</td><td>52</td><td>41</td><td>50</td><td>30</td><td>41</td><td>48</td><td>40</td><td>56</td></tr>\n",
              "\t<tr><td>19</td><td>67</td><td>56</td><td>25</td><td>45</td><td>28</td><td>43</td><td>45</td><td>51</td><td>17</td><td>⋯</td><td>46</td><td>36</td><td>35</td><td>49</td><td>55</td><td>53</td><td>39</td><td>58</td><td>54</td><td>52</td></tr>\n",
              "\t<tr><td>52</td><td>40</td><td>50</td><td>51</td><td>18</td><td>54</td><td>64</td><td>44</td><td>59</td><td>29</td><td>⋯</td><td>39</td><td>56</td><td>56</td><td>26</td><td>44</td><td>62</td><td>39</td><td>42</td><td>49</td><td>32</td></tr>\n",
              "\t<tr><td>58</td><td>57</td><td>67</td><td>39</td><td>30</td><td>53</td><td>43</td><td>45</td><td>32</td><td>40</td><td>⋯</td><td>31</td><td>37</td><td>55</td><td>41</td><td>31</td><td>27</td><td>37</td><td>29</td><td>49</td><td>40</td></tr>\n",
              "\t<tr><td>34</td><td>29</td><td>41</td><td>29</td><td>38</td><td>70</td><td>67</td><td>55</td><td>31</td><td>43</td><td>⋯</td><td>20</td><td>44</td><td>30</td><td>51</td><td>39</td><td>54</td><td>44</td><td>42</td><td>77</td><td>52</td></tr>\n",
              "\t<tr><td>40</td><td>37</td><td>53</td><td>48</td><td>55</td><td>33</td><td>24</td><td>37</td><td>54</td><td>26</td><td>⋯</td><td>59</td><td>50</td><td>48</td><td>44</td><td>49</td><td>22</td><td>38</td><td>34</td><td>35</td><td>63</td></tr>\n",
              "\t<tr><td>53</td><td>43</td><td>62</td><td>68</td><td>34</td><td>52</td><td>28</td><td>31</td><td>38</td><td>30</td><td>⋯</td><td>42</td><td>40</td><td>38</td><td>45</td><td>46</td><td>42</td><td>36</td><td>46</td><td>66</td><td>51</td></tr>\n",
              "\t<tr><td>60</td><td>61</td><td>52</td><td>56</td><td>38</td><td>46</td><td>38</td><td>27</td><td>40</td><td>67</td><td>⋯</td><td>34</td><td>52</td><td>62</td><td>25</td><td>52</td><td>30</td><td>67</td><td>51</td><td>61</td><td>48</td></tr>\n",
              "\t<tr><td>40</td><td>58</td><td>41</td><td>29</td><td>30</td><td>49</td><td>23</td><td>57</td><td>41</td><td>41</td><td>⋯</td><td>50</td><td>50</td><td>59</td><td>41</td><td>63</td><td>46</td><td>70</td><td>52</td><td>57</td><td>48</td></tr>\n",
              "\t<tr><td>38</td><td>26</td><td>34</td><td>51</td><td>42</td><td>33</td><td>72</td><td>26</td><td>38</td><td>32</td><td>⋯</td><td>53</td><td>25</td><td>45</td><td>31</td><td>40</td><td>29</td><td>49</td><td>60</td><td>26</td><td>44</td></tr>\n",
              "\t<tr><td>56</td><td>54</td><td>32</td><td>30</td><td>57</td><td>48</td><td>45</td><td>49</td><td>65</td><td>55</td><td>⋯</td><td>28</td><td>22</td><td>60</td><td>28</td><td>58</td><td>20</td><td>52</td><td>54</td><td>64</td><td>48</td></tr>\n",
              "\t<tr><td>24</td><td>52</td><td>58</td><td>50</td><td>55</td><td>39</td><td>45</td><td>50</td><td>59</td><td>30</td><td>⋯</td><td>56</td><td>44</td><td>25</td><td>49</td><td>55</td><td>28</td><td>57</td><td>56</td><td>46</td><td>44</td></tr>\n",
              "\t<tr><td>29</td><td>27</td><td>57</td><td>55</td><td>49</td><td>68</td><td>32</td><td>25</td><td>27</td><td>47</td><td>⋯</td><td>51</td><td>23</td><td>54</td><td>49</td><td>37</td><td>32</td><td>30</td><td>58</td><td>45</td><td>38</td></tr>\n",
              "\t<tr><td>41</td><td>32</td><td>44</td><td>36</td><td>27</td><td>58</td><td>47</td><td>30</td><td>25</td><td>48</td><td>⋯</td><td>43</td><td>24</td><td>29</td><td>30</td><td>56</td><td>57</td><td>36</td><td>35</td><td>36</td><td>36</td></tr>\n",
              "\t<tr><td>41</td><td>52</td><td>41</td><td>33</td><td>44</td><td>46</td><td>80</td><td>33</td><td>36</td><td>43</td><td>⋯</td><td>64</td><td>27</td><td>48</td><td>59</td><td>53</td><td>38</td><td>48</td><td>63</td><td>55</td><td>47</td></tr>\n",
              "\t<tr><td>43</td><td>28</td><td>41</td><td>45</td><td>57</td><td>71</td><td>60</td><td>66</td><td>67</td><td>39</td><td>⋯</td><td>64</td><td>41</td><td>43</td><td>51</td><td>48</td><td>26</td><td>36</td><td>47</td><td>61</td><td>37</td></tr>\n",
              "\t<tr><td>47</td><td>33</td><td>55</td><td>52</td><td>28</td><td>44</td><td>28</td><td>35</td><td>43</td><td>34</td><td>⋯</td><td>27</td><td>51</td><td>34</td><td>43</td><td>58</td><td>53</td><td>45</td><td>50</td><td>44</td><td>45</td></tr>\n",
              "\t<tr><td>60</td><td>49</td><td>32</td><td>40</td><td>51</td><td>36</td><td>49</td><td>48</td><td>52</td><td>40</td><td>⋯</td><td>58</td><td>30</td><td>51</td><td>58</td><td>41</td><td>52</td><td>80</td><td>65</td><td>54</td><td>23</td></tr>\n",
              "\t<tr><td>36</td><td>69</td><td>51</td><td>37</td><td>37</td><td>30</td><td>48</td><td>54</td><td>45</td><td>42</td><td>⋯</td><td>23</td><td>25</td><td>56</td><td>37</td><td>31</td><td>22</td><td>44</td><td>59</td><td>27</td><td>40</td></tr>\n",
              "\t<tr><td>58</td><td>43</td><td>42</td><td>32</td><td>42</td><td>27</td><td>35</td><td>62</td><td>52</td><td>37</td><td>⋯</td><td>47</td><td>27</td><td>35</td><td>38</td><td>28</td><td>30</td><td>37</td><td>54</td><td>20</td><td>43</td></tr>\n",
              "\t<tr><td>38</td><td>44</td><td>49</td><td>33</td><td>37</td><td>24</td><td>33</td><td>48</td><td>36</td><td>23</td><td>⋯</td><td>45</td><td>48</td><td>45</td><td>30</td><td>51</td><td>29</td><td>36</td><td>39</td><td>37</td><td>53</td></tr>\n",
              "\t<tr><td>41</td><td>56</td><td>45</td><td>57</td><td>42</td><td>46</td><td>29</td><td>35</td><td>28</td><td>30</td><td>⋯</td><td>50</td><td>52</td><td>46</td><td>36</td><td>24</td><td>49</td><td>50</td><td>42</td><td>58</td><td>42</td></tr>\n",
              "\t<tr><td>33</td><td>53</td><td>36</td><td>28</td><td>35</td><td>38</td><td>46</td><td>38</td><td>48</td><td>31</td><td>⋯</td><td>35</td><td>62</td><td>34</td><td>48</td><td>48</td><td>27</td><td>28</td><td>47</td><td>32</td><td>35</td></tr>\n",
              "\t<tr><td>42</td><td>30</td><td>52</td><td>57</td><td>51</td><td>41</td><td>57</td><td>56</td><td>60</td><td>58</td><td>⋯</td><td>74</td><td>46</td><td>73</td><td>48</td><td>67</td><td>26</td><td>47</td><td>60</td><td>36</td><td>39</td></tr>\n",
              "\t<tr><td>47</td><td>39</td><td>54</td><td>50</td><td>45</td><td>64</td><td>50</td><td>54</td><td>30</td><td>49</td><td>⋯</td><td>45</td><td>59</td><td>44</td><td>37</td><td>43</td><td>49</td><td>32</td><td>42</td><td>32</td><td>61</td></tr>\n",
              "\t<tr><td>41</td><td>33</td><td>55</td><td>35</td><td>64</td><td>57</td><td>57</td><td>38</td><td>58</td><td>36</td><td>⋯</td><td>27</td><td>27</td><td>19</td><td>37</td><td>44</td><td>47</td><td>48</td><td>41</td><td>56</td><td>33</td></tr>\n",
              "</tbody>\n",
              "</table>\n"
            ],
            "text/markdown": "\nA data.frame: 2000 × 1500\n\n| Amostra_1 &lt;int&gt; | Amostra_ 2 &lt;int&gt; | Amostra_ 3 &lt;int&gt; | Amostra_ 4 &lt;int&gt; | Amostra_ 5 &lt;int&gt; | Amostra_ 6 &lt;int&gt; | Amostra_ 7 &lt;int&gt; | Amostra_ 8 &lt;int&gt; | Amostra_ 9 &lt;int&gt; | Amostra_ 10 &lt;int&gt; | ⋯ ⋯ | Amostra_ 1491 &lt;int&gt; | Amostra_ 1492 &lt;int&gt; | Amostra_ 1493 &lt;int&gt; | Amostra_ 1494 &lt;int&gt; | Amostra_ 1495 &lt;int&gt; | Amostra_ 1496 &lt;int&gt; | Amostra_ 1497 &lt;int&gt; | Amostra_ 1498 &lt;int&gt; | Amostra_ 1499 &lt;int&gt; | Amostra_ 1500 &lt;int&gt; |\n|---|---|---|---|---|---|---|---|---|---|---|---|---|---|---|---|---|---|---|---|---|\n| 41 | 57 | 31 | 37 | 49 | 22 | 64 | 56 | 68 | 29 | ⋯ | 32 | 51 | 58 | 62 | 29 | 65 | 20 | 65 | 56 | 45 |\n| 51 | 45 | 49 | 21 | 38 | 56 | 55 | 26 | 50 | 66 | ⋯ | 39 | 42 | 50 | 34 | 61 | 28 | 54 | 64 | 43 | 39 |\n| 23 | 39 | 49 | 37 | 40 | 45 | 44 | 30 | 31 | 28 | ⋯ | 43 | 28 | 25 | 36 | 56 | 47 | 30 | 49 | 68 | 46 |\n| 28 | 42 | 23 | 30 | 36 | 39 | 45 | 39 | 37 | 28 | ⋯ | 43 | 47 | 44 | 60 | 37 | 26 | 32 | 61 | 38 | 65 |\n| 25 | 42 | 57 | 38 | 57 | 46 | 37 | 35 | 45 | 65 | ⋯ | 44 | 65 | 45 | 46 | 18 | 54 | 58 | 41 | 37 | 45 |\n| 44 | 39 | 59 | 49 | 32 | 54 | 59 | 29 | 31 | 22 | ⋯ | 40 | 54 | 38 | 29 | 38 | 62 | 65 | 55 | 36 | 49 |\n| 28 | 70 | 40 | 27 | 64 | 49 | 53 | 38 | 40 | 46 | ⋯ | 53 | 47 | 37 | 51 | 41 | 59 | 40 | 50 | 33 | 58 |\n| 28 | 59 | 37 | 32 | 40 | 42 | 43 | 45 | 50 | 39 | ⋯ | 53 | 33 | 54 | 35 | 33 | 69 | 42 | 38 | 65 | 40 |\n| 36 | 62 | 27 | 47 | 53 | 58 | 54 | 49 | 36 | 41 | ⋯ | 32 | 23 | 55 | 23 | 29 | 42 | 40 | 35 | 54 | 32 |\n| 55 | 36 | 43 | 37 | 49 | 23 | 36 | 33 | 47 | 48 | ⋯ | 56 | 35 | 48 | 67 | 44 | 51 | 30 | 49 | 68 | 49 |\n| 47 | 30 | 57 | 53 | 22 | 45 | 48 | 62 | 50 | 57 | ⋯ | 52 | 55 | 55 | 32 | 23 | 47 | 26 | 44 | 31 | 50 |\n| 50 | 65 | 41 | 56 | 50 | 34 | 37 | 36 | 24 | 27 | ⋯ | 31 | 42 | 28 | 24 | 33 | 36 | 32 | 54 | 55 | 53 |\n| 36 | 48 | 59 | 41 | 57 | 29 | 58 | 31 | 33 | 29 | ⋯ | 57 | 51 | 33 | 47 | 50 | 33 | 48 | 37 | 35 | 37 |\n| 62 | 24 | 55 | 55 | 47 | 40 | 64 | 32 | 81 | 28 | ⋯ | 65 | 38 | 37 | 51 | 56 | 47 | 67 | 30 | 49 | 41 |\n| 40 | 57 | 48 | 29 | 61 | 56 | 43 | 42 | 37 | 54 | ⋯ | 32 | 32 | 41 | 45 | 50 | 40 | 84 | 53 | 46 | 28 |\n| 28 | 21 | 47 | 41 | 44 | 56 | 41 | 71 | 78 | 75 | ⋯ | 25 | 27 | 73 | 51 | 60 | 62 | 50 | 46 | 58 | 37 |\n| 30 | 33 | 58 | 46 | 65 | 55 | 40 | 48 | 53 | 34 | ⋯ | 47 | 72 | 37 | 62 | 39 | 48 | 30 | 29 | 74 | 43 |\n| 31 | 51 | 73 | 52 | 51 | 46 | 39 | 59 | 22 | 46 | ⋯ | 64 | 34 | 43 | 20 | 53 | 33 | 42 | 53 | 40 | 54 |\n| 32 | 27 | 53 | 23 | 62 | 40 | 60 | 58 | 48 | 37 | ⋯ | 52 | 39 | 55 | 63 | 33 | 62 | 40 | 32 | 30 | 32 |\n| 60 | 70 | 53 | 37 | 32 | 50 | 28 | 50 | 44 | 69 | ⋯ | 41 | 45 | 56 | 26 | 43 | 55 | 73 | 67 | 50 | 56 |\n| 41 | 42 | 31 | 51 | 55 | 54 | 38 | 31 | 43 | 58 | ⋯ | 34 | 34 | 62 | 31 | 56 | 55 | 48 | 37 | 63 | 48 |\n| 35 | 59 | 29 | 49 | 46 | 37 | 24 | 29 | 43 | 36 | ⋯ | 44 | 55 | 38 | 56 | 45 | 21 | 68 | 36 | 61 | 42 |\n| 43 | 44 | 58 | 32 | 32 | 35 | 31 | 63 | 29 | 50 | ⋯ | 42 | 53 | 32 | 56 | 38 | 47 | 31 | 36 | 46 | 67 |\n| 51 | 40 | 67 | 30 | 21 | 45 | 30 | 65 | 46 | 56 | ⋯ | 46 | 59 | 59 | 41 | 67 | 51 | 46 | 38 | 47 | 38 |\n| 74 | 48 | 59 | 30 | 43 | 29 | 37 | 41 | 25 | 49 | ⋯ | 38 | 36 | 80 | 42 | 43 | 29 | 64 | 42 | 53 | 44 |\n| 60 | 54 | 34 | 53 | 28 | 38 | 51 | 24 | 45 | 26 | ⋯ | 33 | 37 | 28 | 22 | 40 | 31 | 50 | 35 | 25 | 33 |\n| 27 | 47 | 41 | 43 | 47 | 47 | 33 | 43 | 61 | 57 | ⋯ | 48 | 39 | 54 | 27 | 43 | 28 | 38 | 24 | 48 | 39 |\n| 69 | 52 | 26 | 35 | 45 | 63 | 65 | 28 | 35 | 39 | ⋯ | 49 | 55 | 45 | 52 | 55 | 30 | 31 | 43 | 41 | 37 |\n| 36 | 45 | 45 | 32 | 91 | 71 | 39 | 40 | 51 | 40 | ⋯ | 50 | 57 | 41 | 49 | 44 | 51 | 54 | 54 | 57 | 27 |\n| 53 | 22 | 62 | 58 | 26 | 32 | 54 | 41 | 51 | 63 | ⋯ | 25 | 34 | 56 | 53 | 51 | 54 | 39 | 30 | 67 | 36 |\n| ⋮ | ⋮ | ⋮ | ⋮ | ⋮ | ⋮ | ⋮ | ⋮ | ⋮ | ⋮ | ⋱ | ⋮ | ⋮ | ⋮ | ⋮ | ⋮ | ⋮ | ⋮ | ⋮ | ⋮ | ⋮ |\n| 35 | 67 | 38 | 45 | 47 | 27 | 42 | 65 | 44 | 50 | ⋯ | 37 | 35 | 18 | 58 | 31 | 61 | 37 | 68 | 35 | 52 |\n| 22 | 62 | 42 | 69 | 57 | 50 | 55 | 57 | 62 | 46 | ⋯ | 36 | 46 | 26 | 22 | 62 | 34 | 68 | 53 | 38 | 33 |\n| 24 | 52 | 46 | 42 | 32 | 39 | 40 | 45 | 52 | 49 | ⋯ | 72 | 53 | 41 | 34 | 48 | 35 | 47 | 77 | 24 | 49 |\n| 36 | 54 | 48 | 60 | 44 | 41 | 60 | 40 | 40 | 25 | ⋯ | 42 | 42 | 57 | 29 | 51 | 49 | 28 | 43 | 49 | 62 |\n| 58 | 44 | 39 | 64 | 25 | 44 | 28 | 36 | 35 | 41 | ⋯ | 75 | 63 | 52 | 41 | 50 | 30 | 41 | 48 | 40 | 56 |\n| 19 | 67 | 56 | 25 | 45 | 28 | 43 | 45 | 51 | 17 | ⋯ | 46 | 36 | 35 | 49 | 55 | 53 | 39 | 58 | 54 | 52 |\n| 52 | 40 | 50 | 51 | 18 | 54 | 64 | 44 | 59 | 29 | ⋯ | 39 | 56 | 56 | 26 | 44 | 62 | 39 | 42 | 49 | 32 |\n| 58 | 57 | 67 | 39 | 30 | 53 | 43 | 45 | 32 | 40 | ⋯ | 31 | 37 | 55 | 41 | 31 | 27 | 37 | 29 | 49 | 40 |\n| 34 | 29 | 41 | 29 | 38 | 70 | 67 | 55 | 31 | 43 | ⋯ | 20 | 44 | 30 | 51 | 39 | 54 | 44 | 42 | 77 | 52 |\n| 40 | 37 | 53 | 48 | 55 | 33 | 24 | 37 | 54 | 26 | ⋯ | 59 | 50 | 48 | 44 | 49 | 22 | 38 | 34 | 35 | 63 |\n| 53 | 43 | 62 | 68 | 34 | 52 | 28 | 31 | 38 | 30 | ⋯ | 42 | 40 | 38 | 45 | 46 | 42 | 36 | 46 | 66 | 51 |\n| 60 | 61 | 52 | 56 | 38 | 46 | 38 | 27 | 40 | 67 | ⋯ | 34 | 52 | 62 | 25 | 52 | 30 | 67 | 51 | 61 | 48 |\n| 40 | 58 | 41 | 29 | 30 | 49 | 23 | 57 | 41 | 41 | ⋯ | 50 | 50 | 59 | 41 | 63 | 46 | 70 | 52 | 57 | 48 |\n| 38 | 26 | 34 | 51 | 42 | 33 | 72 | 26 | 38 | 32 | ⋯ | 53 | 25 | 45 | 31 | 40 | 29 | 49 | 60 | 26 | 44 |\n| 56 | 54 | 32 | 30 | 57 | 48 | 45 | 49 | 65 | 55 | ⋯ | 28 | 22 | 60 | 28 | 58 | 20 | 52 | 54 | 64 | 48 |\n| 24 | 52 | 58 | 50 | 55 | 39 | 45 | 50 | 59 | 30 | ⋯ | 56 | 44 | 25 | 49 | 55 | 28 | 57 | 56 | 46 | 44 |\n| 29 | 27 | 57 | 55 | 49 | 68 | 32 | 25 | 27 | 47 | ⋯ | 51 | 23 | 54 | 49 | 37 | 32 | 30 | 58 | 45 | 38 |\n| 41 | 32 | 44 | 36 | 27 | 58 | 47 | 30 | 25 | 48 | ⋯ | 43 | 24 | 29 | 30 | 56 | 57 | 36 | 35 | 36 | 36 |\n| 41 | 52 | 41 | 33 | 44 | 46 | 80 | 33 | 36 | 43 | ⋯ | 64 | 27 | 48 | 59 | 53 | 38 | 48 | 63 | 55 | 47 |\n| 43 | 28 | 41 | 45 | 57 | 71 | 60 | 66 | 67 | 39 | ⋯ | 64 | 41 | 43 | 51 | 48 | 26 | 36 | 47 | 61 | 37 |\n| 47 | 33 | 55 | 52 | 28 | 44 | 28 | 35 | 43 | 34 | ⋯ | 27 | 51 | 34 | 43 | 58 | 53 | 45 | 50 | 44 | 45 |\n| 60 | 49 | 32 | 40 | 51 | 36 | 49 | 48 | 52 | 40 | ⋯ | 58 | 30 | 51 | 58 | 41 | 52 | 80 | 65 | 54 | 23 |\n| 36 | 69 | 51 | 37 | 37 | 30 | 48 | 54 | 45 | 42 | ⋯ | 23 | 25 | 56 | 37 | 31 | 22 | 44 | 59 | 27 | 40 |\n| 58 | 43 | 42 | 32 | 42 | 27 | 35 | 62 | 52 | 37 | ⋯ | 47 | 27 | 35 | 38 | 28 | 30 | 37 | 54 | 20 | 43 |\n| 38 | 44 | 49 | 33 | 37 | 24 | 33 | 48 | 36 | 23 | ⋯ | 45 | 48 | 45 | 30 | 51 | 29 | 36 | 39 | 37 | 53 |\n| 41 | 56 | 45 | 57 | 42 | 46 | 29 | 35 | 28 | 30 | ⋯ | 50 | 52 | 46 | 36 | 24 | 49 | 50 | 42 | 58 | 42 |\n| 33 | 53 | 36 | 28 | 35 | 38 | 46 | 38 | 48 | 31 | ⋯ | 35 | 62 | 34 | 48 | 48 | 27 | 28 | 47 | 32 | 35 |\n| 42 | 30 | 52 | 57 | 51 | 41 | 57 | 56 | 60 | 58 | ⋯ | 74 | 46 | 73 | 48 | 67 | 26 | 47 | 60 | 36 | 39 |\n| 47 | 39 | 54 | 50 | 45 | 64 | 50 | 54 | 30 | 49 | ⋯ | 45 | 59 | 44 | 37 | 43 | 49 | 32 | 42 | 32 | 61 |\n| 41 | 33 | 55 | 35 | 64 | 57 | 57 | 38 | 58 | 36 | ⋯ | 27 | 27 | 19 | 37 | 44 | 47 | 48 | 41 | 56 | 33 |\n\n",
            "text/latex": "A data.frame: 2000 × 1500\n\\begin{tabular}{lllllllllllllllllllll}\n Amostra\\_1 & Amostra\\_ 2 & Amostra\\_ 3 & Amostra\\_ 4 & Amostra\\_ 5 & Amostra\\_ 6 & Amostra\\_ 7 & Amostra\\_ 8 & Amostra\\_ 9 & Amostra\\_ 10 & ⋯ & Amostra\\_ 1491 & Amostra\\_ 1492 & Amostra\\_ 1493 & Amostra\\_ 1494 & Amostra\\_ 1495 & Amostra\\_ 1496 & Amostra\\_ 1497 & Amostra\\_ 1498 & Amostra\\_ 1499 & Amostra\\_ 1500\\\\\n <int> & <int> & <int> & <int> & <int> & <int> & <int> & <int> & <int> & <int> & ⋯ & <int> & <int> & <int> & <int> & <int> & <int> & <int> & <int> & <int> & <int>\\\\\n\\hline\n\t 41 & 57 & 31 & 37 & 49 & 22 & 64 & 56 & 68 & 29 & ⋯ & 32 & 51 & 58 & 62 & 29 & 65 & 20 & 65 & 56 & 45\\\\\n\t 51 & 45 & 49 & 21 & 38 & 56 & 55 & 26 & 50 & 66 & ⋯ & 39 & 42 & 50 & 34 & 61 & 28 & 54 & 64 & 43 & 39\\\\\n\t 23 & 39 & 49 & 37 & 40 & 45 & 44 & 30 & 31 & 28 & ⋯ & 43 & 28 & 25 & 36 & 56 & 47 & 30 & 49 & 68 & 46\\\\\n\t 28 & 42 & 23 & 30 & 36 & 39 & 45 & 39 & 37 & 28 & ⋯ & 43 & 47 & 44 & 60 & 37 & 26 & 32 & 61 & 38 & 65\\\\\n\t 25 & 42 & 57 & 38 & 57 & 46 & 37 & 35 & 45 & 65 & ⋯ & 44 & 65 & 45 & 46 & 18 & 54 & 58 & 41 & 37 & 45\\\\\n\t 44 & 39 & 59 & 49 & 32 & 54 & 59 & 29 & 31 & 22 & ⋯ & 40 & 54 & 38 & 29 & 38 & 62 & 65 & 55 & 36 & 49\\\\\n\t 28 & 70 & 40 & 27 & 64 & 49 & 53 & 38 & 40 & 46 & ⋯ & 53 & 47 & 37 & 51 & 41 & 59 & 40 & 50 & 33 & 58\\\\\n\t 28 & 59 & 37 & 32 & 40 & 42 & 43 & 45 & 50 & 39 & ⋯ & 53 & 33 & 54 & 35 & 33 & 69 & 42 & 38 & 65 & 40\\\\\n\t 36 & 62 & 27 & 47 & 53 & 58 & 54 & 49 & 36 & 41 & ⋯ & 32 & 23 & 55 & 23 & 29 & 42 & 40 & 35 & 54 & 32\\\\\n\t 55 & 36 & 43 & 37 & 49 & 23 & 36 & 33 & 47 & 48 & ⋯ & 56 & 35 & 48 & 67 & 44 & 51 & 30 & 49 & 68 & 49\\\\\n\t 47 & 30 & 57 & 53 & 22 & 45 & 48 & 62 & 50 & 57 & ⋯ & 52 & 55 & 55 & 32 & 23 & 47 & 26 & 44 & 31 & 50\\\\\n\t 50 & 65 & 41 & 56 & 50 & 34 & 37 & 36 & 24 & 27 & ⋯ & 31 & 42 & 28 & 24 & 33 & 36 & 32 & 54 & 55 & 53\\\\\n\t 36 & 48 & 59 & 41 & 57 & 29 & 58 & 31 & 33 & 29 & ⋯ & 57 & 51 & 33 & 47 & 50 & 33 & 48 & 37 & 35 & 37\\\\\n\t 62 & 24 & 55 & 55 & 47 & 40 & 64 & 32 & 81 & 28 & ⋯ & 65 & 38 & 37 & 51 & 56 & 47 & 67 & 30 & 49 & 41\\\\\n\t 40 & 57 & 48 & 29 & 61 & 56 & 43 & 42 & 37 & 54 & ⋯ & 32 & 32 & 41 & 45 & 50 & 40 & 84 & 53 & 46 & 28\\\\\n\t 28 & 21 & 47 & 41 & 44 & 56 & 41 & 71 & 78 & 75 & ⋯ & 25 & 27 & 73 & 51 & 60 & 62 & 50 & 46 & 58 & 37\\\\\n\t 30 & 33 & 58 & 46 & 65 & 55 & 40 & 48 & 53 & 34 & ⋯ & 47 & 72 & 37 & 62 & 39 & 48 & 30 & 29 & 74 & 43\\\\\n\t 31 & 51 & 73 & 52 & 51 & 46 & 39 & 59 & 22 & 46 & ⋯ & 64 & 34 & 43 & 20 & 53 & 33 & 42 & 53 & 40 & 54\\\\\n\t 32 & 27 & 53 & 23 & 62 & 40 & 60 & 58 & 48 & 37 & ⋯ & 52 & 39 & 55 & 63 & 33 & 62 & 40 & 32 & 30 & 32\\\\\n\t 60 & 70 & 53 & 37 & 32 & 50 & 28 & 50 & 44 & 69 & ⋯ & 41 & 45 & 56 & 26 & 43 & 55 & 73 & 67 & 50 & 56\\\\\n\t 41 & 42 & 31 & 51 & 55 & 54 & 38 & 31 & 43 & 58 & ⋯ & 34 & 34 & 62 & 31 & 56 & 55 & 48 & 37 & 63 & 48\\\\\n\t 35 & 59 & 29 & 49 & 46 & 37 & 24 & 29 & 43 & 36 & ⋯ & 44 & 55 & 38 & 56 & 45 & 21 & 68 & 36 & 61 & 42\\\\\n\t 43 & 44 & 58 & 32 & 32 & 35 & 31 & 63 & 29 & 50 & ⋯ & 42 & 53 & 32 & 56 & 38 & 47 & 31 & 36 & 46 & 67\\\\\n\t 51 & 40 & 67 & 30 & 21 & 45 & 30 & 65 & 46 & 56 & ⋯ & 46 & 59 & 59 & 41 & 67 & 51 & 46 & 38 & 47 & 38\\\\\n\t 74 & 48 & 59 & 30 & 43 & 29 & 37 & 41 & 25 & 49 & ⋯ & 38 & 36 & 80 & 42 & 43 & 29 & 64 & 42 & 53 & 44\\\\\n\t 60 & 54 & 34 & 53 & 28 & 38 & 51 & 24 & 45 & 26 & ⋯ & 33 & 37 & 28 & 22 & 40 & 31 & 50 & 35 & 25 & 33\\\\\n\t 27 & 47 & 41 & 43 & 47 & 47 & 33 & 43 & 61 & 57 & ⋯ & 48 & 39 & 54 & 27 & 43 & 28 & 38 & 24 & 48 & 39\\\\\n\t 69 & 52 & 26 & 35 & 45 & 63 & 65 & 28 & 35 & 39 & ⋯ & 49 & 55 & 45 & 52 & 55 & 30 & 31 & 43 & 41 & 37\\\\\n\t 36 & 45 & 45 & 32 & 91 & 71 & 39 & 40 & 51 & 40 & ⋯ & 50 & 57 & 41 & 49 & 44 & 51 & 54 & 54 & 57 & 27\\\\\n\t 53 & 22 & 62 & 58 & 26 & 32 & 54 & 41 & 51 & 63 & ⋯ & 25 & 34 & 56 & 53 & 51 & 54 & 39 & 30 & 67 & 36\\\\\n\t ⋮ & ⋮ & ⋮ & ⋮ & ⋮ & ⋮ & ⋮ & ⋮ & ⋮ & ⋮ & ⋱ & ⋮ & ⋮ & ⋮ & ⋮ & ⋮ & ⋮ & ⋮ & ⋮ & ⋮ & ⋮\\\\\n\t 35 & 67 & 38 & 45 & 47 & 27 & 42 & 65 & 44 & 50 & ⋯ & 37 & 35 & 18 & 58 & 31 & 61 & 37 & 68 & 35 & 52\\\\\n\t 22 & 62 & 42 & 69 & 57 & 50 & 55 & 57 & 62 & 46 & ⋯ & 36 & 46 & 26 & 22 & 62 & 34 & 68 & 53 & 38 & 33\\\\\n\t 24 & 52 & 46 & 42 & 32 & 39 & 40 & 45 & 52 & 49 & ⋯ & 72 & 53 & 41 & 34 & 48 & 35 & 47 & 77 & 24 & 49\\\\\n\t 36 & 54 & 48 & 60 & 44 & 41 & 60 & 40 & 40 & 25 & ⋯ & 42 & 42 & 57 & 29 & 51 & 49 & 28 & 43 & 49 & 62\\\\\n\t 58 & 44 & 39 & 64 & 25 & 44 & 28 & 36 & 35 & 41 & ⋯ & 75 & 63 & 52 & 41 & 50 & 30 & 41 & 48 & 40 & 56\\\\\n\t 19 & 67 & 56 & 25 & 45 & 28 & 43 & 45 & 51 & 17 & ⋯ & 46 & 36 & 35 & 49 & 55 & 53 & 39 & 58 & 54 & 52\\\\\n\t 52 & 40 & 50 & 51 & 18 & 54 & 64 & 44 & 59 & 29 & ⋯ & 39 & 56 & 56 & 26 & 44 & 62 & 39 & 42 & 49 & 32\\\\\n\t 58 & 57 & 67 & 39 & 30 & 53 & 43 & 45 & 32 & 40 & ⋯ & 31 & 37 & 55 & 41 & 31 & 27 & 37 & 29 & 49 & 40\\\\\n\t 34 & 29 & 41 & 29 & 38 & 70 & 67 & 55 & 31 & 43 & ⋯ & 20 & 44 & 30 & 51 & 39 & 54 & 44 & 42 & 77 & 52\\\\\n\t 40 & 37 & 53 & 48 & 55 & 33 & 24 & 37 & 54 & 26 & ⋯ & 59 & 50 & 48 & 44 & 49 & 22 & 38 & 34 & 35 & 63\\\\\n\t 53 & 43 & 62 & 68 & 34 & 52 & 28 & 31 & 38 & 30 & ⋯ & 42 & 40 & 38 & 45 & 46 & 42 & 36 & 46 & 66 & 51\\\\\n\t 60 & 61 & 52 & 56 & 38 & 46 & 38 & 27 & 40 & 67 & ⋯ & 34 & 52 & 62 & 25 & 52 & 30 & 67 & 51 & 61 & 48\\\\\n\t 40 & 58 & 41 & 29 & 30 & 49 & 23 & 57 & 41 & 41 & ⋯ & 50 & 50 & 59 & 41 & 63 & 46 & 70 & 52 & 57 & 48\\\\\n\t 38 & 26 & 34 & 51 & 42 & 33 & 72 & 26 & 38 & 32 & ⋯ & 53 & 25 & 45 & 31 & 40 & 29 & 49 & 60 & 26 & 44\\\\\n\t 56 & 54 & 32 & 30 & 57 & 48 & 45 & 49 & 65 & 55 & ⋯ & 28 & 22 & 60 & 28 & 58 & 20 & 52 & 54 & 64 & 48\\\\\n\t 24 & 52 & 58 & 50 & 55 & 39 & 45 & 50 & 59 & 30 & ⋯ & 56 & 44 & 25 & 49 & 55 & 28 & 57 & 56 & 46 & 44\\\\\n\t 29 & 27 & 57 & 55 & 49 & 68 & 32 & 25 & 27 & 47 & ⋯ & 51 & 23 & 54 & 49 & 37 & 32 & 30 & 58 & 45 & 38\\\\\n\t 41 & 32 & 44 & 36 & 27 & 58 & 47 & 30 & 25 & 48 & ⋯ & 43 & 24 & 29 & 30 & 56 & 57 & 36 & 35 & 36 & 36\\\\\n\t 41 & 52 & 41 & 33 & 44 & 46 & 80 & 33 & 36 & 43 & ⋯ & 64 & 27 & 48 & 59 & 53 & 38 & 48 & 63 & 55 & 47\\\\\n\t 43 & 28 & 41 & 45 & 57 & 71 & 60 & 66 & 67 & 39 & ⋯ & 64 & 41 & 43 & 51 & 48 & 26 & 36 & 47 & 61 & 37\\\\\n\t 47 & 33 & 55 & 52 & 28 & 44 & 28 & 35 & 43 & 34 & ⋯ & 27 & 51 & 34 & 43 & 58 & 53 & 45 & 50 & 44 & 45\\\\\n\t 60 & 49 & 32 & 40 & 51 & 36 & 49 & 48 & 52 & 40 & ⋯ & 58 & 30 & 51 & 58 & 41 & 52 & 80 & 65 & 54 & 23\\\\\n\t 36 & 69 & 51 & 37 & 37 & 30 & 48 & 54 & 45 & 42 & ⋯ & 23 & 25 & 56 & 37 & 31 & 22 & 44 & 59 & 27 & 40\\\\\n\t 58 & 43 & 42 & 32 & 42 & 27 & 35 & 62 & 52 & 37 & ⋯ & 47 & 27 & 35 & 38 & 28 & 30 & 37 & 54 & 20 & 43\\\\\n\t 38 & 44 & 49 & 33 & 37 & 24 & 33 & 48 & 36 & 23 & ⋯ & 45 & 48 & 45 & 30 & 51 & 29 & 36 & 39 & 37 & 53\\\\\n\t 41 & 56 & 45 & 57 & 42 & 46 & 29 & 35 & 28 & 30 & ⋯ & 50 & 52 & 46 & 36 & 24 & 49 & 50 & 42 & 58 & 42\\\\\n\t 33 & 53 & 36 & 28 & 35 & 38 & 46 & 38 & 48 & 31 & ⋯ & 35 & 62 & 34 & 48 & 48 & 27 & 28 & 47 & 32 & 35\\\\\n\t 42 & 30 & 52 & 57 & 51 & 41 & 57 & 56 & 60 & 58 & ⋯ & 74 & 46 & 73 & 48 & 67 & 26 & 47 & 60 & 36 & 39\\\\\n\t 47 & 39 & 54 & 50 & 45 & 64 & 50 & 54 & 30 & 49 & ⋯ & 45 & 59 & 44 & 37 & 43 & 49 & 32 & 42 & 32 & 61\\\\\n\t 41 & 33 & 55 & 35 & 64 & 57 & 57 & 38 & 58 & 36 & ⋯ & 27 & 27 & 19 & 37 & 44 & 47 & 48 & 41 & 56 & 33\\\\\n\\end{tabular}\n",
            "text/plain": [
              "     Amostra_1 Amostra_ 2 Amostra_ 3 Amostra_ 4 Amostra_ 5 Amostra_ 6\n",
              "1    41        57         31         37         49         22        \n",
              "2    51        45         49         21         38         56        \n",
              "3    23        39         49         37         40         45        \n",
              "4    28        42         23         30         36         39        \n",
              "5    25        42         57         38         57         46        \n",
              "6    44        39         59         49         32         54        \n",
              "7    28        70         40         27         64         49        \n",
              "8    28        59         37         32         40         42        \n",
              "9    36        62         27         47         53         58        \n",
              "10   55        36         43         37         49         23        \n",
              "11   47        30         57         53         22         45        \n",
              "12   50        65         41         56         50         34        \n",
              "13   36        48         59         41         57         29        \n",
              "14   62        24         55         55         47         40        \n",
              "15   40        57         48         29         61         56        \n",
              "16   28        21         47         41         44         56        \n",
              "17   30        33         58         46         65         55        \n",
              "18   31        51         73         52         51         46        \n",
              "19   32        27         53         23         62         40        \n",
              "20   60        70         53         37         32         50        \n",
              "21   41        42         31         51         55         54        \n",
              "22   35        59         29         49         46         37        \n",
              "23   43        44         58         32         32         35        \n",
              "24   51        40         67         30         21         45        \n",
              "25   74        48         59         30         43         29        \n",
              "26   60        54         34         53         28         38        \n",
              "27   27        47         41         43         47         47        \n",
              "28   69        52         26         35         45         63        \n",
              "29   36        45         45         32         91         71        \n",
              "30   53        22         62         58         26         32        \n",
              "⋮    ⋮         ⋮          ⋮          ⋮          ⋮          ⋮         \n",
              "1971 35        67         38         45         47         27        \n",
              "1972 22        62         42         69         57         50        \n",
              "1973 24        52         46         42         32         39        \n",
              "1974 36        54         48         60         44         41        \n",
              "1975 58        44         39         64         25         44        \n",
              "1976 19        67         56         25         45         28        \n",
              "1977 52        40         50         51         18         54        \n",
              "1978 58        57         67         39         30         53        \n",
              "1979 34        29         41         29         38         70        \n",
              "1980 40        37         53         48         55         33        \n",
              "1981 53        43         62         68         34         52        \n",
              "1982 60        61         52         56         38         46        \n",
              "1983 40        58         41         29         30         49        \n",
              "1984 38        26         34         51         42         33        \n",
              "1985 56        54         32         30         57         48        \n",
              "1986 24        52         58         50         55         39        \n",
              "1987 29        27         57         55         49         68        \n",
              "1988 41        32         44         36         27         58        \n",
              "1989 41        52         41         33         44         46        \n",
              "1990 43        28         41         45         57         71        \n",
              "1991 47        33         55         52         28         44        \n",
              "1992 60        49         32         40         51         36        \n",
              "1993 36        69         51         37         37         30        \n",
              "1994 58        43         42         32         42         27        \n",
              "1995 38        44         49         33         37         24        \n",
              "1996 41        56         45         57         42         46        \n",
              "1997 33        53         36         28         35         38        \n",
              "1998 42        30         52         57         51         41        \n",
              "1999 47        39         54         50         45         64        \n",
              "2000 41        33         55         35         64         57        \n",
              "     Amostra_ 7 Amostra_ 8 Amostra_ 9 Amostra_ 10 ⋯ Amostra_ 1491 Amostra_ 1492\n",
              "1    64         56         68         29          ⋯ 32            51           \n",
              "2    55         26         50         66          ⋯ 39            42           \n",
              "3    44         30         31         28          ⋯ 43            28           \n",
              "4    45         39         37         28          ⋯ 43            47           \n",
              "5    37         35         45         65          ⋯ 44            65           \n",
              "6    59         29         31         22          ⋯ 40            54           \n",
              "7    53         38         40         46          ⋯ 53            47           \n",
              "8    43         45         50         39          ⋯ 53            33           \n",
              "9    54         49         36         41          ⋯ 32            23           \n",
              "10   36         33         47         48          ⋯ 56            35           \n",
              "11   48         62         50         57          ⋯ 52            55           \n",
              "12   37         36         24         27          ⋯ 31            42           \n",
              "13   58         31         33         29          ⋯ 57            51           \n",
              "14   64         32         81         28          ⋯ 65            38           \n",
              "15   43         42         37         54          ⋯ 32            32           \n",
              "16   41         71         78         75          ⋯ 25            27           \n",
              "17   40         48         53         34          ⋯ 47            72           \n",
              "18   39         59         22         46          ⋯ 64            34           \n",
              "19   60         58         48         37          ⋯ 52            39           \n",
              "20   28         50         44         69          ⋯ 41            45           \n",
              "21   38         31         43         58          ⋯ 34            34           \n",
              "22   24         29         43         36          ⋯ 44            55           \n",
              "23   31         63         29         50          ⋯ 42            53           \n",
              "24   30         65         46         56          ⋯ 46            59           \n",
              "25   37         41         25         49          ⋯ 38            36           \n",
              "26   51         24         45         26          ⋯ 33            37           \n",
              "27   33         43         61         57          ⋯ 48            39           \n",
              "28   65         28         35         39          ⋯ 49            55           \n",
              "29   39         40         51         40          ⋯ 50            57           \n",
              "30   54         41         51         63          ⋯ 25            34           \n",
              "⋮    ⋮          ⋮          ⋮          ⋮           ⋱ ⋮             ⋮            \n",
              "1971 42         65         44         50          ⋯ 37            35           \n",
              "1972 55         57         62         46          ⋯ 36            46           \n",
              "1973 40         45         52         49          ⋯ 72            53           \n",
              "1974 60         40         40         25          ⋯ 42            42           \n",
              "1975 28         36         35         41          ⋯ 75            63           \n",
              "1976 43         45         51         17          ⋯ 46            36           \n",
              "1977 64         44         59         29          ⋯ 39            56           \n",
              "1978 43         45         32         40          ⋯ 31            37           \n",
              "1979 67         55         31         43          ⋯ 20            44           \n",
              "1980 24         37         54         26          ⋯ 59            50           \n",
              "1981 28         31         38         30          ⋯ 42            40           \n",
              "1982 38         27         40         67          ⋯ 34            52           \n",
              "1983 23         57         41         41          ⋯ 50            50           \n",
              "1984 72         26         38         32          ⋯ 53            25           \n",
              "1985 45         49         65         55          ⋯ 28            22           \n",
              "1986 45         50         59         30          ⋯ 56            44           \n",
              "1987 32         25         27         47          ⋯ 51            23           \n",
              "1988 47         30         25         48          ⋯ 43            24           \n",
              "1989 80         33         36         43          ⋯ 64            27           \n",
              "1990 60         66         67         39          ⋯ 64            41           \n",
              "1991 28         35         43         34          ⋯ 27            51           \n",
              "1992 49         48         52         40          ⋯ 58            30           \n",
              "1993 48         54         45         42          ⋯ 23            25           \n",
              "1994 35         62         52         37          ⋯ 47            27           \n",
              "1995 33         48         36         23          ⋯ 45            48           \n",
              "1996 29         35         28         30          ⋯ 50            52           \n",
              "1997 46         38         48         31          ⋯ 35            62           \n",
              "1998 57         56         60         58          ⋯ 74            46           \n",
              "1999 50         54         30         49          ⋯ 45            59           \n",
              "2000 57         38         58         36          ⋯ 27            27           \n",
              "     Amostra_ 1493 Amostra_ 1494 Amostra_ 1495 Amostra_ 1496 Amostra_ 1497\n",
              "1    58            62            29            65            20           \n",
              "2    50            34            61            28            54           \n",
              "3    25            36            56            47            30           \n",
              "4    44            60            37            26            32           \n",
              "5    45            46            18            54            58           \n",
              "6    38            29            38            62            65           \n",
              "7    37            51            41            59            40           \n",
              "8    54            35            33            69            42           \n",
              "9    55            23            29            42            40           \n",
              "10   48            67            44            51            30           \n",
              "11   55            32            23            47            26           \n",
              "12   28            24            33            36            32           \n",
              "13   33            47            50            33            48           \n",
              "14   37            51            56            47            67           \n",
              "15   41            45            50            40            84           \n",
              "16   73            51            60            62            50           \n",
              "17   37            62            39            48            30           \n",
              "18   43            20            53            33            42           \n",
              "19   55            63            33            62            40           \n",
              "20   56            26            43            55            73           \n",
              "21   62            31            56            55            48           \n",
              "22   38            56            45            21            68           \n",
              "23   32            56            38            47            31           \n",
              "24   59            41            67            51            46           \n",
              "25   80            42            43            29            64           \n",
              "26   28            22            40            31            50           \n",
              "27   54            27            43            28            38           \n",
              "28   45            52            55            30            31           \n",
              "29   41            49            44            51            54           \n",
              "30   56            53            51            54            39           \n",
              "⋮    ⋮             ⋮             ⋮             ⋮             ⋮            \n",
              "1971 18            58            31            61            37           \n",
              "1972 26            22            62            34            68           \n",
              "1973 41            34            48            35            47           \n",
              "1974 57            29            51            49            28           \n",
              "1975 52            41            50            30            41           \n",
              "1976 35            49            55            53            39           \n",
              "1977 56            26            44            62            39           \n",
              "1978 55            41            31            27            37           \n",
              "1979 30            51            39            54            44           \n",
              "1980 48            44            49            22            38           \n",
              "1981 38            45            46            42            36           \n",
              "1982 62            25            52            30            67           \n",
              "1983 59            41            63            46            70           \n",
              "1984 45            31            40            29            49           \n",
              "1985 60            28            58            20            52           \n",
              "1986 25            49            55            28            57           \n",
              "1987 54            49            37            32            30           \n",
              "1988 29            30            56            57            36           \n",
              "1989 48            59            53            38            48           \n",
              "1990 43            51            48            26            36           \n",
              "1991 34            43            58            53            45           \n",
              "1992 51            58            41            52            80           \n",
              "1993 56            37            31            22            44           \n",
              "1994 35            38            28            30            37           \n",
              "1995 45            30            51            29            36           \n",
              "1996 46            36            24            49            50           \n",
              "1997 34            48            48            27            28           \n",
              "1998 73            48            67            26            47           \n",
              "1999 44            37            43            49            32           \n",
              "2000 19            37            44            47            48           \n",
              "     Amostra_ 1498 Amostra_ 1499 Amostra_ 1500\n",
              "1    65            56            45           \n",
              "2    64            43            39           \n",
              "3    49            68            46           \n",
              "4    61            38            65           \n",
              "5    41            37            45           \n",
              "6    55            36            49           \n",
              "7    50            33            58           \n",
              "8    38            65            40           \n",
              "9    35            54            32           \n",
              "10   49            68            49           \n",
              "11   44            31            50           \n",
              "12   54            55            53           \n",
              "13   37            35            37           \n",
              "14   30            49            41           \n",
              "15   53            46            28           \n",
              "16   46            58            37           \n",
              "17   29            74            43           \n",
              "18   53            40            54           \n",
              "19   32            30            32           \n",
              "20   67            50            56           \n",
              "21   37            63            48           \n",
              "22   36            61            42           \n",
              "23   36            46            67           \n",
              "24   38            47            38           \n",
              "25   42            53            44           \n",
              "26   35            25            33           \n",
              "27   24            48            39           \n",
              "28   43            41            37           \n",
              "29   54            57            27           \n",
              "30   30            67            36           \n",
              "⋮    ⋮             ⋮             ⋮            \n",
              "1971 68            35            52           \n",
              "1972 53            38            33           \n",
              "1973 77            24            49           \n",
              "1974 43            49            62           \n",
              "1975 48            40            56           \n",
              "1976 58            54            52           \n",
              "1977 42            49            32           \n",
              "1978 29            49            40           \n",
              "1979 42            77            52           \n",
              "1980 34            35            63           \n",
              "1981 46            66            51           \n",
              "1982 51            61            48           \n",
              "1983 52            57            48           \n",
              "1984 60            26            44           \n",
              "1985 54            64            48           \n",
              "1986 56            46            44           \n",
              "1987 58            45            38           \n",
              "1988 35            36            36           \n",
              "1989 63            55            47           \n",
              "1990 47            61            37           \n",
              "1991 50            44            45           \n",
              "1992 65            54            23           \n",
              "1993 59            27            40           \n",
              "1994 54            20            43           \n",
              "1995 39            37            53           \n",
              "1996 42            58            42           \n",
              "1997 47            32            35           \n",
              "1998 60            36            39           \n",
              "1999 42            32            61           \n",
              "2000 41            56            33           "
            ]
          },
          "metadata": {}
        }
      ],
      "source": [
        "# Gerando um DF com 1500 amostras de 2000 registros.\n",
        "\n",
        "for (i in 1:total_de_amostras){\n",
        "    if(i==1){\n",
        "        amostras <- data.frame('Amostra_1' = sample(dados$Idade, n))\n",
        "    }else{\n",
        "        amostras[paste('Amostra_', i)] <- sample(dados$Idade, n)\n",
        "    }\n",
        "}\n",
        "amostras"
      ]
    },
    {
      "cell_type": "code",
      "execution_count": null,
      "metadata": {
        "id": "v5Q-rnS_izNd",
        "scrolled": true,
        "colab": {
          "base_uri": "https://localhost:8080/",
          "height": 1000
        },
        "outputId": "586c8f39-3961-44ba-8f35-37ed8aecd564"
      },
      "outputs": [
        {
          "output_type": "display_data",
          "data": {
            "text/html": [
              "<table class=\"dataframe\">\n",
              "<caption>A data.frame: 1500 × 1</caption>\n",
              "<thead>\n",
              "\t<tr><th></th><th scope=col>colMeans.amostras.</th></tr>\n",
              "\t<tr><th></th><th scope=col>&lt;dbl&gt;</th></tr>\n",
              "</thead>\n",
              "<tbody>\n",
              "\t<tr><th scope=row>Amostra_1</th><td>43.8630</td></tr>\n",
              "\t<tr><th scope=row>Amostra_ 2</th><td>44.5210</td></tr>\n",
              "\t<tr><th scope=row>Amostra_ 3</th><td>43.7675</td></tr>\n",
              "\t<tr><th scope=row>Amostra_ 4</th><td>43.4315</td></tr>\n",
              "\t<tr><th scope=row>Amostra_ 5</th><td>43.9250</td></tr>\n",
              "\t<tr><th scope=row>Amostra_ 6</th><td>43.9130</td></tr>\n",
              "\t<tr><th scope=row>Amostra_ 7</th><td>44.3235</td></tr>\n",
              "\t<tr><th scope=row>Amostra_ 8</th><td>44.6070</td></tr>\n",
              "\t<tr><th scope=row>Amostra_ 9</th><td>43.9155</td></tr>\n",
              "\t<tr><th scope=row>Amostra_ 10</th><td>43.5045</td></tr>\n",
              "\t<tr><th scope=row>Amostra_ 11</th><td>43.8375</td></tr>\n",
              "\t<tr><th scope=row>Amostra_ 12</th><td>43.9435</td></tr>\n",
              "\t<tr><th scope=row>Amostra_ 13</th><td>43.6700</td></tr>\n",
              "\t<tr><th scope=row>Amostra_ 14</th><td>44.1435</td></tr>\n",
              "\t<tr><th scope=row>Amostra_ 15</th><td>44.0400</td></tr>\n",
              "\t<tr><th scope=row>Amostra_ 16</th><td>44.4050</td></tr>\n",
              "\t<tr><th scope=row>Amostra_ 17</th><td>43.9625</td></tr>\n",
              "\t<tr><th scope=row>Amostra_ 18</th><td>43.8730</td></tr>\n",
              "\t<tr><th scope=row>Amostra_ 19</th><td>44.0850</td></tr>\n",
              "\t<tr><th scope=row>Amostra_ 20</th><td>44.3590</td></tr>\n",
              "\t<tr><th scope=row>Amostra_ 21</th><td>43.7365</td></tr>\n",
              "\t<tr><th scope=row>Amostra_ 22</th><td>43.7530</td></tr>\n",
              "\t<tr><th scope=row>Amostra_ 23</th><td>43.8630</td></tr>\n",
              "\t<tr><th scope=row>Amostra_ 24</th><td>44.4740</td></tr>\n",
              "\t<tr><th scope=row>Amostra_ 25</th><td>44.0940</td></tr>\n",
              "\t<tr><th scope=row>Amostra_ 26</th><td>44.4615</td></tr>\n",
              "\t<tr><th scope=row>Amostra_ 27</th><td>44.1990</td></tr>\n",
              "\t<tr><th scope=row>Amostra_ 28</th><td>44.0075</td></tr>\n",
              "\t<tr><th scope=row>Amostra_ 29</th><td>43.8310</td></tr>\n",
              "\t<tr><th scope=row>Amostra_ 30</th><td>44.0135</td></tr>\n",
              "\t<tr><th scope=row>⋮</th><td>⋮</td></tr>\n",
              "\t<tr><th scope=row>Amostra_ 1471</th><td>43.4445</td></tr>\n",
              "\t<tr><th scope=row>Amostra_ 1472</th><td>44.0845</td></tr>\n",
              "\t<tr><th scope=row>Amostra_ 1473</th><td>44.2205</td></tr>\n",
              "\t<tr><th scope=row>Amostra_ 1474</th><td>43.7395</td></tr>\n",
              "\t<tr><th scope=row>Amostra_ 1475</th><td>44.3750</td></tr>\n",
              "\t<tr><th scope=row>Amostra_ 1476</th><td>44.0740</td></tr>\n",
              "\t<tr><th scope=row>Amostra_ 1477</th><td>44.0460</td></tr>\n",
              "\t<tr><th scope=row>Amostra_ 1478</th><td>44.2415</td></tr>\n",
              "\t<tr><th scope=row>Amostra_ 1479</th><td>43.8260</td></tr>\n",
              "\t<tr><th scope=row>Amostra_ 1480</th><td>43.8750</td></tr>\n",
              "\t<tr><th scope=row>Amostra_ 1481</th><td>44.0400</td></tr>\n",
              "\t<tr><th scope=row>Amostra_ 1482</th><td>44.3605</td></tr>\n",
              "\t<tr><th scope=row>Amostra_ 1483</th><td>43.6715</td></tr>\n",
              "\t<tr><th scope=row>Amostra_ 1484</th><td>44.1300</td></tr>\n",
              "\t<tr><th scope=row>Amostra_ 1485</th><td>44.4770</td></tr>\n",
              "\t<tr><th scope=row>Amostra_ 1486</th><td>43.9395</td></tr>\n",
              "\t<tr><th scope=row>Amostra_ 1487</th><td>44.3985</td></tr>\n",
              "\t<tr><th scope=row>Amostra_ 1488</th><td>44.1135</td></tr>\n",
              "\t<tr><th scope=row>Amostra_ 1489</th><td>43.7225</td></tr>\n",
              "\t<tr><th scope=row>Amostra_ 1490</th><td>44.0750</td></tr>\n",
              "\t<tr><th scope=row>Amostra_ 1491</th><td>43.6755</td></tr>\n",
              "\t<tr><th scope=row>Amostra_ 1492</th><td>44.2945</td></tr>\n",
              "\t<tr><th scope=row>Amostra_ 1493</th><td>43.4865</td></tr>\n",
              "\t<tr><th scope=row>Amostra_ 1494</th><td>44.1700</td></tr>\n",
              "\t<tr><th scope=row>Amostra_ 1495</th><td>44.1165</td></tr>\n",
              "\t<tr><th scope=row>Amostra_ 1496</th><td>43.7065</td></tr>\n",
              "\t<tr><th scope=row>Amostra_ 1497</th><td>44.2105</td></tr>\n",
              "\t<tr><th scope=row>Amostra_ 1498</th><td>44.4430</td></tr>\n",
              "\t<tr><th scope=row>Amostra_ 1499</th><td>44.4730</td></tr>\n",
              "\t<tr><th scope=row>Amostra_ 1500</th><td>43.9480</td></tr>\n",
              "</tbody>\n",
              "</table>\n"
            ],
            "text/markdown": "\nA data.frame: 1500 × 1\n\n| <!--/--> | colMeans.amostras. &lt;dbl&gt; |\n|---|---|\n| Amostra_1 | 43.8630 |\n| Amostra_ 2 | 44.5210 |\n| Amostra_ 3 | 43.7675 |\n| Amostra_ 4 | 43.4315 |\n| Amostra_ 5 | 43.9250 |\n| Amostra_ 6 | 43.9130 |\n| Amostra_ 7 | 44.3235 |\n| Amostra_ 8 | 44.6070 |\n| Amostra_ 9 | 43.9155 |\n| Amostra_ 10 | 43.5045 |\n| Amostra_ 11 | 43.8375 |\n| Amostra_ 12 | 43.9435 |\n| Amostra_ 13 | 43.6700 |\n| Amostra_ 14 | 44.1435 |\n| Amostra_ 15 | 44.0400 |\n| Amostra_ 16 | 44.4050 |\n| Amostra_ 17 | 43.9625 |\n| Amostra_ 18 | 43.8730 |\n| Amostra_ 19 | 44.0850 |\n| Amostra_ 20 | 44.3590 |\n| Amostra_ 21 | 43.7365 |\n| Amostra_ 22 | 43.7530 |\n| Amostra_ 23 | 43.8630 |\n| Amostra_ 24 | 44.4740 |\n| Amostra_ 25 | 44.0940 |\n| Amostra_ 26 | 44.4615 |\n| Amostra_ 27 | 44.1990 |\n| Amostra_ 28 | 44.0075 |\n| Amostra_ 29 | 43.8310 |\n| Amostra_ 30 | 44.0135 |\n| ⋮ | ⋮ |\n| Amostra_ 1471 | 43.4445 |\n| Amostra_ 1472 | 44.0845 |\n| Amostra_ 1473 | 44.2205 |\n| Amostra_ 1474 | 43.7395 |\n| Amostra_ 1475 | 44.3750 |\n| Amostra_ 1476 | 44.0740 |\n| Amostra_ 1477 | 44.0460 |\n| Amostra_ 1478 | 44.2415 |\n| Amostra_ 1479 | 43.8260 |\n| Amostra_ 1480 | 43.8750 |\n| Amostra_ 1481 | 44.0400 |\n| Amostra_ 1482 | 44.3605 |\n| Amostra_ 1483 | 43.6715 |\n| Amostra_ 1484 | 44.1300 |\n| Amostra_ 1485 | 44.4770 |\n| Amostra_ 1486 | 43.9395 |\n| Amostra_ 1487 | 44.3985 |\n| Amostra_ 1488 | 44.1135 |\n| Amostra_ 1489 | 43.7225 |\n| Amostra_ 1490 | 44.0750 |\n| Amostra_ 1491 | 43.6755 |\n| Amostra_ 1492 | 44.2945 |\n| Amostra_ 1493 | 43.4865 |\n| Amostra_ 1494 | 44.1700 |\n| Amostra_ 1495 | 44.1165 |\n| Amostra_ 1496 | 43.7065 |\n| Amostra_ 1497 | 44.2105 |\n| Amostra_ 1498 | 44.4430 |\n| Amostra_ 1499 | 44.4730 |\n| Amostra_ 1500 | 43.9480 |\n\n",
            "text/latex": "A data.frame: 1500 × 1\n\\begin{tabular}{r|l}\n  & colMeans.amostras.\\\\\n  & <dbl>\\\\\n\\hline\n\tAmostra\\_1 & 43.8630\\\\\n\tAmostra\\_ 2 & 44.5210\\\\\n\tAmostra\\_ 3 & 43.7675\\\\\n\tAmostra\\_ 4 & 43.4315\\\\\n\tAmostra\\_ 5 & 43.9250\\\\\n\tAmostra\\_ 6 & 43.9130\\\\\n\tAmostra\\_ 7 & 44.3235\\\\\n\tAmostra\\_ 8 & 44.6070\\\\\n\tAmostra\\_ 9 & 43.9155\\\\\n\tAmostra\\_ 10 & 43.5045\\\\\n\tAmostra\\_ 11 & 43.8375\\\\\n\tAmostra\\_ 12 & 43.9435\\\\\n\tAmostra\\_ 13 & 43.6700\\\\\n\tAmostra\\_ 14 & 44.1435\\\\\n\tAmostra\\_ 15 & 44.0400\\\\\n\tAmostra\\_ 16 & 44.4050\\\\\n\tAmostra\\_ 17 & 43.9625\\\\\n\tAmostra\\_ 18 & 43.8730\\\\\n\tAmostra\\_ 19 & 44.0850\\\\\n\tAmostra\\_ 20 & 44.3590\\\\\n\tAmostra\\_ 21 & 43.7365\\\\\n\tAmostra\\_ 22 & 43.7530\\\\\n\tAmostra\\_ 23 & 43.8630\\\\\n\tAmostra\\_ 24 & 44.4740\\\\\n\tAmostra\\_ 25 & 44.0940\\\\\n\tAmostra\\_ 26 & 44.4615\\\\\n\tAmostra\\_ 27 & 44.1990\\\\\n\tAmostra\\_ 28 & 44.0075\\\\\n\tAmostra\\_ 29 & 43.8310\\\\\n\tAmostra\\_ 30 & 44.0135\\\\\n\t⋮ & ⋮\\\\\n\tAmostra\\_ 1471 & 43.4445\\\\\n\tAmostra\\_ 1472 & 44.0845\\\\\n\tAmostra\\_ 1473 & 44.2205\\\\\n\tAmostra\\_ 1474 & 43.7395\\\\\n\tAmostra\\_ 1475 & 44.3750\\\\\n\tAmostra\\_ 1476 & 44.0740\\\\\n\tAmostra\\_ 1477 & 44.0460\\\\\n\tAmostra\\_ 1478 & 44.2415\\\\\n\tAmostra\\_ 1479 & 43.8260\\\\\n\tAmostra\\_ 1480 & 43.8750\\\\\n\tAmostra\\_ 1481 & 44.0400\\\\\n\tAmostra\\_ 1482 & 44.3605\\\\\n\tAmostra\\_ 1483 & 43.6715\\\\\n\tAmostra\\_ 1484 & 44.1300\\\\\n\tAmostra\\_ 1485 & 44.4770\\\\\n\tAmostra\\_ 1486 & 43.9395\\\\\n\tAmostra\\_ 1487 & 44.3985\\\\\n\tAmostra\\_ 1488 & 44.1135\\\\\n\tAmostra\\_ 1489 & 43.7225\\\\\n\tAmostra\\_ 1490 & 44.0750\\\\\n\tAmostra\\_ 1491 & 43.6755\\\\\n\tAmostra\\_ 1492 & 44.2945\\\\\n\tAmostra\\_ 1493 & 43.4865\\\\\n\tAmostra\\_ 1494 & 44.1700\\\\\n\tAmostra\\_ 1495 & 44.1165\\\\\n\tAmostra\\_ 1496 & 43.7065\\\\\n\tAmostra\\_ 1497 & 44.2105\\\\\n\tAmostra\\_ 1498 & 44.4430\\\\\n\tAmostra\\_ 1499 & 44.4730\\\\\n\tAmostra\\_ 1500 & 43.9480\\\\\n\\end{tabular}\n",
            "text/plain": [
              "              colMeans.amostras.\n",
              "Amostra_1     43.8630           \n",
              "Amostra_ 2    44.5210           \n",
              "Amostra_ 3    43.7675           \n",
              "Amostra_ 4    43.4315           \n",
              "Amostra_ 5    43.9250           \n",
              "Amostra_ 6    43.9130           \n",
              "Amostra_ 7    44.3235           \n",
              "Amostra_ 8    44.6070           \n",
              "Amostra_ 9    43.9155           \n",
              "Amostra_ 10   43.5045           \n",
              "Amostra_ 11   43.8375           \n",
              "Amostra_ 12   43.9435           \n",
              "Amostra_ 13   43.6700           \n",
              "Amostra_ 14   44.1435           \n",
              "Amostra_ 15   44.0400           \n",
              "Amostra_ 16   44.4050           \n",
              "Amostra_ 17   43.9625           \n",
              "Amostra_ 18   43.8730           \n",
              "Amostra_ 19   44.0850           \n",
              "Amostra_ 20   44.3590           \n",
              "Amostra_ 21   43.7365           \n",
              "Amostra_ 22   43.7530           \n",
              "Amostra_ 23   43.8630           \n",
              "Amostra_ 24   44.4740           \n",
              "Amostra_ 25   44.0940           \n",
              "Amostra_ 26   44.4615           \n",
              "Amostra_ 27   44.1990           \n",
              "Amostra_ 28   44.0075           \n",
              "Amostra_ 29   43.8310           \n",
              "Amostra_ 30   44.0135           \n",
              "⋮             ⋮                 \n",
              "Amostra_ 1471 43.4445           \n",
              "Amostra_ 1472 44.0845           \n",
              "Amostra_ 1473 44.2205           \n",
              "Amostra_ 1474 43.7395           \n",
              "Amostra_ 1475 44.3750           \n",
              "Amostra_ 1476 44.0740           \n",
              "Amostra_ 1477 44.0460           \n",
              "Amostra_ 1478 44.2415           \n",
              "Amostra_ 1479 43.8260           \n",
              "Amostra_ 1480 43.8750           \n",
              "Amostra_ 1481 44.0400           \n",
              "Amostra_ 1482 44.3605           \n",
              "Amostra_ 1483 43.6715           \n",
              "Amostra_ 1484 44.1300           \n",
              "Amostra_ 1485 44.4770           \n",
              "Amostra_ 1486 43.9395           \n",
              "Amostra_ 1487 44.3985           \n",
              "Amostra_ 1488 44.1135           \n",
              "Amostra_ 1489 43.7225           \n",
              "Amostra_ 1490 44.0750           \n",
              "Amostra_ 1491 43.6755           \n",
              "Amostra_ 1492 44.2945           \n",
              "Amostra_ 1493 43.4865           \n",
              "Amostra_ 1494 44.1700           \n",
              "Amostra_ 1495 44.1165           \n",
              "Amostra_ 1496 43.7065           \n",
              "Amostra_ 1497 44.2105           \n",
              "Amostra_ 1498 44.4430           \n",
              "Amostra_ 1499 44.4730           \n",
              "Amostra_ 1500 43.9480           "
            ]
          },
          "metadata": {}
        }
      ],
      "source": [
        "# Medias das amostras.\n",
        "\n",
        "data.frame(colMeans(amostras))"
      ]
    },
    {
      "cell_type": "markdown",
      "metadata": {
        "id": "JfgEBDx0jDzf"
      },
      "source": [
        "> O Teorema do Limite Central afirma que, **com o aumento do tamanho da amostra, a distribuição das médias amostrais se aproxima de uma distribuição normal** com média igual à média da população e desvio padrão igual ao desvio padrão da variável original dividido pela raiz quadrada do tamanho da amostra. Este fato é assegurado para n maior ou igual a 30."
      ]
    },
    {
      "cell_type": "code",
      "execution_count": null,
      "metadata": {
        "id": "giJKqa_9izKF",
        "colab": {
          "base_uri": "https://localhost:8080/",
          "height": 257
        },
        "outputId": "b7433384-251d-438e-df62-dda346845a7d"
      },
      "outputs": [
        {
          "output_type": "display_data",
          "data": {
            "text/plain": [
              "Plot with title “Histograma das Idades Médias”"
            ],
            "image/png": "[encoded data removed]"
          },
          "metadata": {
            "image/png": {
              "width": 420,
              "height": 240
            }
          }
        }
      ],
      "source": [
        "hist(\n",
        "    x = colMeans(amostras),\n",
        "    main = 'Histograma das Idades Médias',\n",
        "    xlab = 'Idades',\n",
        "    ylab = 'Frequências'\n",
        ")"
      ]
    },
    {
      "cell_type": "markdown",
      "metadata": {
        "id": "_A4RKStwjkLI"
      },
      "source": [
        "> O Teorema do Limite Central afirma que, com o aumento do tamanho da amostra, a distribuição das médias amostrais se aproxima de uma distribuição normal **com média igual à média da população** e desvio padrão igual ao desvio padrão da variável original dividido pela raiz quadrada do tamanho da amostra. Este fato é assegurado para n maior ou igual a 30."
      ]
    },
    {
      "cell_type": "code",
      "execution_count": null,
      "metadata": {
        "id": "0fI5JXEkFDgp",
        "colab": {
          "base_uri": "https://localhost:8080/",
          "height": 34
        },
        "outputId": "96b025c3-62b9-4ae7-e22c-d25b705fc7b4"
      },
      "outputs": [
        {
          "output_type": "display_data",
          "data": {
            "text/html": [
              "44.0714211348256"
            ],
            "text/markdown": "44.0714211348256",
            "text/latex": "44.0714211348256",
            "text/plain": [
              "[1] 44.07142"
            ]
          },
          "metadata": {}
        }
      ],
      "source": [
        "# Temos que a média da população é parecida com a média da amostra.\n",
        "\n",
        "mean(dados$Idade)"
      ]
    },
    {
      "cell_type": "code",
      "execution_count": null,
      "metadata": {
        "id": "vXE-UOj_izGZ",
        "colab": {
          "base_uri": "https://localhost:8080/",
          "height": 34
        },
        "outputId": "809c5116-c892-4309-81eb-718a743e7eaa"
      },
      "outputs": [
        {
          "output_type": "display_data",
          "data": {
            "text/html": [
              "44.0693096666667"
            ],
            "text/markdown": "44.0693096666667",
            "text/latex": "44.0693096666667",
            "text/plain": [
              "[1] 44.06931"
            ]
          },
          "metadata": {}
        }
      ],
      "source": [
        "mean(colMeans(amostras))"
      ]
    },
    {
      "cell_type": "markdown",
      "metadata": {
        "id": "7lIWJCAKlPmA"
      },
      "source": [
        "> O Teorema do Limite Central afirma que, com o aumento do tamanho da amostra, a distribuição das médias amostrais se aproxima de uma distribuição normal com média igual à média da população e **desvio padrão igual ao desvio padrão da variável original dividido pela raiz quadrada do tamanho da amostra**. Este fato é assegurado para n maior ou igual a 30.\n",
        "\n",
        "# $$\\sigma_\\bar{x} = \\frac{\\sigma}{\\sqrt{n}}$$"
      ]
    },
    {
      "cell_type": "code",
      "execution_count": null,
      "metadata": {
        "id": "vYD3vwKQFDgq",
        "colab": {
          "base_uri": "https://localhost:8080/",
          "height": 34
        },
        "outputId": "2d3ec084-e950-4dcf-afa7-804e97fb2ea4"
      },
      "outputs": [
        {
          "output_type": "display_data",
          "data": {
            "text/html": [
              "0.276936594171572"
            ],
            "text/markdown": "0.276936594171572",
            "text/latex": "0.276936594171572",
            "text/plain": [
              "[1] 0.2769366"
            ]
          },
          "metadata": {}
        }
      ],
      "source": [
        "# Temos que o desvio padrão da amostra se parece ao da população.\n",
        "\n",
        "sd(colMeans(amostras))"
      ]
    },
    {
      "cell_type": "code",
      "execution_count": null,
      "metadata": {
        "id": "8MEeCFMAFDgq",
        "colab": {
          "base_uri": "https://localhost:8080/",
          "height": 34
        },
        "outputId": "64489bd1-74e1-410c-f254-58f0127d6a0b"
      },
      "outputs": [
        {
          "output_type": "display_data",
          "data": {
            "text/html": [
              "0.279074330274043"
            ],
            "text/markdown": "0.279074330274043",
            "text/latex": "0.279074330274043",
            "text/plain": [
              "[1] 0.2790743"
            ]
          },
          "metadata": {}
        }
      ],
      "source": [
        "sd(dados$Idade) / sqrt(n)"
      ]
    },
    {
      "cell_type": "markdown",
      "metadata": {
        "id": "ku8CE67iG3Ge"
      },
      "source": [
        "## <font color=green>4.2 Níveis de confiança e significância</font>\n",
        "***"
      ]
    },
    {
      "cell_type": "markdown",
      "metadata": {
        "id": "mk6ZsvgyG3Gf"
      },
      "source": [
        "O **nível de confiança** ($1 - \\alpha$) representa a probabilidade de acerto da estimativa. De forma complementar o **nível de significância** ($\\alpha$) expressa a probabilidade de erro da estimativa.\n",
        "\n",
        "O **nível de confiança** representa o grau de confiabilidade do resultado da estimativa estar dentro de determinado intervalo. Quando fixamos em uma pesquisa um **nível de confiança** de 95%, por exemplo, estamos assumindo que existe uma probabilidade de 95% dos resultados da pesquisa representarem bem a realidade, ou seja, estarem corretos.\n",
        "\n",
        "O **nível de confiança** de uma estimativa pode ser obtido a partir da área sob a curva normal como ilustrado na figura abaixo."
      ]
    },
    {
      "cell_type": "markdown",
      "metadata": {
        "id": "WeGyDfvaG3Gg"
      },
      "source": [
        "![alt text](https://caelum-online-public.s3.amazonaws.com/1178-estatistica-parte2/01/img007.png)"
      ]
    },
    {
      "cell_type": "markdown",
      "metadata": {
        "id": "AN8WDZ-HG3Gi"
      },
      "source": [
        "## <font color=green>4.3 Erro inferencial</font>\n",
        "***"
      ]
    },
    {
      "cell_type": "markdown",
      "metadata": {
        "id": "tk-TwhhfG3Gi"
      },
      "source": [
        "O **erro inferencial** é definido pelo **desvio padrão das médias amostrais** $\\sigma_\\bar{x}$ e pelo **nível de confiança** determinado para o processo."
      ]
    },
    {
      "cell_type": "markdown",
      "metadata": {
        "id": "FKOQUPYHG3Gk"
      },
      "source": [
        "# $$e = z \\frac{\\sigma}{\\sqrt{n}}$$"
      ]
    },
    {
      "cell_type": "markdown",
      "metadata": {
        "id": "ELbWQW4sG3HS"
      },
      "source": [
        "## <font color=green>4.4 Intervalos de confiança</font>\n",
        "***"
      ]
    },
    {
      "cell_type": "markdown",
      "metadata": {
        "id": "-r6EMnH-G3HT"
      },
      "source": [
        "### Intevalo de confiança para a média da população"
      ]
    },
    {
      "cell_type": "markdown",
      "metadata": {
        "id": "QWgBFeRnG3HT"
      },
      "source": [
        "#### Com desvio padrão populacional conhecido\n",
        "\n",
        "## $$\\mu = \\bar{x} \\pm z\\frac{\\sigma}{\\sqrt{n}}$$\n",
        "\n",
        "#### Com desvio padrão populacional desconhecido\n",
        "\n",
        "## $$\\mu = \\bar{x} \\pm z\\frac{s}{\\sqrt{n}}$$"
      ]
    },
    {
      "cell_type": "markdown",
      "metadata": {
        "id": "R2qqLneeG3HT"
      },
      "source": [
        "## <font color='blue'>Exemplo: </font>"
      ]
    },
    {
      "cell_type": "markdown",
      "metadata": {
        "id": "AgnrFjdMG3HT"
      },
      "source": [
        "Suponha que os pesos dos sacos de arroz de uma indústria alimentícia se distribuem aproximadamente como uma normal de **desvio padrão populacional igual a 150 g**. Selecionada uma **amostra aleatório de 20 sacos** de um lote específico, obteve-se um **peso médio de 5.050 g**. Construa um intervalo de confiança para a **média populacional** assumindo um **nível de significância de 5%**."
      ]
    },
    {
      "cell_type": "markdown",
      "metadata": {
        "id": "LpGQGksTG3HU"
      },
      "source": [
        "### Média amostral"
      ]
    },
    {
      "cell_type": "code",
      "execution_count": null,
      "metadata": {
        "id": "aF2QQ0z3G3HU",
        "colab": {
          "base_uri": "https://localhost:8080/",
          "height": 34
        },
        "outputId": "cde510b9-56d3-45be-b75c-7e6c4e432e79"
      },
      "outputs": [
        {
          "output_type": "display_data",
          "data": {
            "text/html": [
              "5050"
            ],
            "text/markdown": "5050",
            "text/latex": "5050",
            "text/plain": [
              "[1] 5050"
            ]
          },
          "metadata": {}
        }
      ],
      "source": [
        "media_amostral <- 5050\n",
        "media_amostral"
      ]
    },
    {
      "cell_type": "markdown",
      "metadata": {
        "id": "Jly1bVP9G3HY"
      },
      "source": [
        "### Nível de significância ($\\alpha$)"
      ]
    },
    {
      "cell_type": "code",
      "execution_count": null,
      "metadata": {
        "id": "BzIgN3C7G3HY",
        "colab": {
          "base_uri": "https://localhost:8080/",
          "height": 34
        },
        "outputId": "26a6da3f-2ba2-4fe5-a33b-235c0baca6df"
      },
      "outputs": [
        {
          "output_type": "display_data",
          "data": {
            "text/html": [
              "0.05"
            ],
            "text/markdown": "0.05",
            "text/latex": "0.05",
            "text/plain": [
              "[1] 0.05"
            ]
          },
          "metadata": {}
        }
      ],
      "source": [
        "significancia <- 0.05\n",
        "significancia"
      ]
    },
    {
      "cell_type": "markdown",
      "metadata": {
        "id": "SrZAbQRKG3Ha"
      },
      "source": [
        "### Nível de confiança ($1 - \\alpha$)"
      ]
    },
    {
      "cell_type": "code",
      "execution_count": null,
      "metadata": {
        "id": "1JeWXwA6G3Ha",
        "colab": {
          "base_uri": "https://localhost:8080/",
          "height": 34
        },
        "outputId": "caf68e3a-8cf8-49bd-ec84-e7d47d1c251d"
      },
      "outputs": [
        {
          "output_type": "display_data",
          "data": {
            "text/html": [
              "0.95"
            ],
            "text/markdown": "0.95",
            "text/latex": "0.95",
            "text/plain": [
              "[1] 0.95"
            ]
          },
          "metadata": {}
        }
      ],
      "source": [
        "confianca <- 1 - significancia\n",
        "confianca"
      ]
    },
    {
      "cell_type": "markdown",
      "metadata": {
        "id": "mZoUFr1nG3Hf"
      },
      "source": [
        "### Obtendo $z$"
      ]
    },
    {
      "cell_type": "code",
      "execution_count": null,
      "metadata": {
        "id": "mGc8EMJGFDgr",
        "colab": {
          "base_uri": "https://localhost:8080/",
          "height": 380
        },
        "outputId": "798c6616-1401-425b-edb6-d466c30e365d"
      },
      "outputs": [
        {
          "output_type": "display_data",
          "data": {
            "text/html": [
              "<table class=\"dataframe\">\n",
              "<caption>A matrix: 10 × 10 of type dbl</caption>\n",
              "<thead>\n",
              "\t<tr><th></th><th scope=col>0.00</th><th scope=col>0.01</th><th scope=col>0.02</th><th scope=col>0.03</th><th scope=col>0.04</th><th scope=col>0.05</th><th scope=col>0.06</th><th scope=col>0.07</th><th scope=col>0.08</th><th scope=col>0.09</th></tr>\n",
              "</thead>\n",
              "<tbody>\n",
              "\t<tr><th scope=row>1.60</th><td>0.9452007</td><td>0.9463011</td><td>0.9473839</td><td>0.9484493</td><td>0.9494974</td><td>0.9505285</td><td>0.9515428</td><td>0.9525403</td><td>0.9535213</td><td>0.9544860</td></tr>\n",
              "\t<tr><th scope=row>1.70</th><td>0.9554345</td><td>0.9563671</td><td>0.9572838</td><td>0.9581849</td><td>0.9590705</td><td>0.9599408</td><td>0.9607961</td><td>0.9616364</td><td>0.9624620</td><td>0.9632730</td></tr>\n",
              "\t<tr><th scope=row>1.80</th><td>0.9640697</td><td>0.9648521</td><td>0.9656205</td><td>0.9663750</td><td>0.9671159</td><td>0.9678432</td><td>0.9685572</td><td>0.9692581</td><td>0.9699460</td><td>0.9706210</td></tr>\n",
              "\t<tr><th scope=row>1.90</th><td>0.9712834</td><td>0.9719334</td><td>0.9725711</td><td>0.9731966</td><td>0.9738102</td><td>0.9744119</td><td>0.9750021</td><td>0.9755808</td><td>0.9761482</td><td>0.9767045</td></tr>\n",
              "\t<tr><th scope=row>2.00</th><td>0.9772499</td><td>0.9777844</td><td>0.9783083</td><td>0.9788217</td><td>0.9793248</td><td>0.9798178</td><td>0.9803007</td><td>0.9807738</td><td>0.9812372</td><td>0.9816911</td></tr>\n",
              "\t<tr><th scope=row>2.10</th><td>0.9821356</td><td>0.9825708</td><td>0.9829970</td><td>0.9834142</td><td>0.9838226</td><td>0.9842224</td><td>0.9846137</td><td>0.9849966</td><td>0.9853713</td><td>0.9857379</td></tr>\n",
              "\t<tr><th scope=row>2.20</th><td>0.9860966</td><td>0.9864474</td><td>0.9867906</td><td>0.9871263</td><td>0.9874545</td><td>0.9877755</td><td>0.9880894</td><td>0.9883962</td><td>0.9886962</td><td>0.9889893</td></tr>\n",
              "\t<tr><th scope=row>2.30</th><td>0.9892759</td><td>0.9895559</td><td>0.9898296</td><td>0.9900969</td><td>0.9903581</td><td>0.9906133</td><td>0.9908625</td><td>0.9911060</td><td>0.9913437</td><td>0.9915758</td></tr>\n",
              "\t<tr><th scope=row>2.40</th><td>0.9918025</td><td>0.9920237</td><td>0.9922397</td><td>0.9924506</td><td>0.9926564</td><td>0.9928572</td><td>0.9930531</td><td>0.9932443</td><td>0.9934309</td><td>0.9936128</td></tr>\n",
              "\t<tr><th scope=row>2.50</th><td>0.9937903</td><td>0.9939634</td><td>0.9941323</td><td>0.9942969</td><td>0.9944574</td><td>0.9946139</td><td>0.9947664</td><td>0.9949151</td><td>0.9950600</td><td>0.9952012</td></tr>\n",
              "</tbody>\n",
              "</table>\n"
            ],
            "text/markdown": "\nA matrix: 10 × 10 of type dbl\n\n| <!--/--> | 0.00 | 0.01 | 0.02 | 0.03 | 0.04 | 0.05 | 0.06 | 0.07 | 0.08 | 0.09 |\n|---|---|---|---|---|---|---|---|---|---|---|\n| 1.60 | 0.9452007 | 0.9463011 | 0.9473839 | 0.9484493 | 0.9494974 | 0.9505285 | 0.9515428 | 0.9525403 | 0.9535213 | 0.9544860 |\n| 1.70 | 0.9554345 | 0.9563671 | 0.9572838 | 0.9581849 | 0.9590705 | 0.9599408 | 0.9607961 | 0.9616364 | 0.9624620 | 0.9632730 |\n| 1.80 | 0.9640697 | 0.9648521 | 0.9656205 | 0.9663750 | 0.9671159 | 0.9678432 | 0.9685572 | 0.9692581 | 0.9699460 | 0.9706210 |\n| 1.90 | 0.9712834 | 0.9719334 | 0.9725711 | 0.9731966 | 0.9738102 | 0.9744119 | 0.9750021 | 0.9755808 | 0.9761482 | 0.9767045 |\n| 2.00 | 0.9772499 | 0.9777844 | 0.9783083 | 0.9788217 | 0.9793248 | 0.9798178 | 0.9803007 | 0.9807738 | 0.9812372 | 0.9816911 |\n| 2.10 | 0.9821356 | 0.9825708 | 0.9829970 | 0.9834142 | 0.9838226 | 0.9842224 | 0.9846137 | 0.9849966 | 0.9853713 | 0.9857379 |\n| 2.20 | 0.9860966 | 0.9864474 | 0.9867906 | 0.9871263 | 0.9874545 | 0.9877755 | 0.9880894 | 0.9883962 | 0.9886962 | 0.9889893 |\n| 2.30 | 0.9892759 | 0.9895559 | 0.9898296 | 0.9900969 | 0.9903581 | 0.9906133 | 0.9908625 | 0.9911060 | 0.9913437 | 0.9915758 |\n| 2.40 | 0.9918025 | 0.9920237 | 0.9922397 | 0.9924506 | 0.9926564 | 0.9928572 | 0.9930531 | 0.9932443 | 0.9934309 | 0.9936128 |\n| 2.50 | 0.9937903 | 0.9939634 | 0.9941323 | 0.9942969 | 0.9944574 | 0.9946139 | 0.9947664 | 0.9949151 | 0.9950600 | 0.9952012 |\n\n",
            "text/latex": "A matrix: 10 × 10 of type dbl\n\\begin{tabular}{r|llllllllll}\n  & 0.00 & 0.01 & 0.02 & 0.03 & 0.04 & 0.05 & 0.06 & 0.07 & 0.08 & 0.09\\\\\n\\hline\n\t1.60 & 0.9452007 & 0.9463011 & 0.9473839 & 0.9484493 & 0.9494974 & 0.9505285 & 0.9515428 & 0.9525403 & 0.9535213 & 0.9544860\\\\\n\t1.70 & 0.9554345 & 0.9563671 & 0.9572838 & 0.9581849 & 0.9590705 & 0.9599408 & 0.9607961 & 0.9616364 & 0.9624620 & 0.9632730\\\\\n\t1.80 & 0.9640697 & 0.9648521 & 0.9656205 & 0.9663750 & 0.9671159 & 0.9678432 & 0.9685572 & 0.9692581 & 0.9699460 & 0.9706210\\\\\n\t1.90 & 0.9712834 & 0.9719334 & 0.9725711 & 0.9731966 & 0.9738102 & 0.9744119 & 0.9750021 & 0.9755808 & 0.9761482 & 0.9767045\\\\\n\t2.00 & 0.9772499 & 0.9777844 & 0.9783083 & 0.9788217 & 0.9793248 & 0.9798178 & 0.9803007 & 0.9807738 & 0.9812372 & 0.9816911\\\\\n\t2.10 & 0.9821356 & 0.9825708 & 0.9829970 & 0.9834142 & 0.9838226 & 0.9842224 & 0.9846137 & 0.9849966 & 0.9853713 & 0.9857379\\\\\n\t2.20 & 0.9860966 & 0.9864474 & 0.9867906 & 0.9871263 & 0.9874545 & 0.9877755 & 0.9880894 & 0.9883962 & 0.9886962 & 0.9889893\\\\\n\t2.30 & 0.9892759 & 0.9895559 & 0.9898296 & 0.9900969 & 0.9903581 & 0.9906133 & 0.9908625 & 0.9911060 & 0.9913437 & 0.9915758\\\\\n\t2.40 & 0.9918025 & 0.9920237 & 0.9922397 & 0.9924506 & 0.9926564 & 0.9928572 & 0.9930531 & 0.9932443 & 0.9934309 & 0.9936128\\\\\n\t2.50 & 0.9937903 & 0.9939634 & 0.9941323 & 0.9942969 & 0.9944574 & 0.9946139 & 0.9947664 & 0.9949151 & 0.9950600 & 0.9952012\\\\\n\\end{tabular}\n",
            "text/plain": [
              "     0.00      0.01      0.02      0.03      0.04      0.05      0.06     \n",
              "1.60 0.9452007 0.9463011 0.9473839 0.9484493 0.9494974 0.9505285 0.9515428\n",
              "1.70 0.9554345 0.9563671 0.9572838 0.9581849 0.9590705 0.9599408 0.9607961\n",
              "1.80 0.9640697 0.9648521 0.9656205 0.9663750 0.9671159 0.9678432 0.9685572\n",
              "1.90 0.9712834 0.9719334 0.9725711 0.9731966 0.9738102 0.9744119 0.9750021\n",
              "2.00 0.9772499 0.9777844 0.9783083 0.9788217 0.9793248 0.9798178 0.9803007\n",
              "2.10 0.9821356 0.9825708 0.9829970 0.9834142 0.9838226 0.9842224 0.9846137\n",
              "2.20 0.9860966 0.9864474 0.9867906 0.9871263 0.9874545 0.9877755 0.9880894\n",
              "2.30 0.9892759 0.9895559 0.9898296 0.9900969 0.9903581 0.9906133 0.9908625\n",
              "2.40 0.9918025 0.9920237 0.9922397 0.9924506 0.9926564 0.9928572 0.9930531\n",
              "2.50 0.9937903 0.9939634 0.9941323 0.9942969 0.9944574 0.9946139 0.9947664\n",
              "     0.07      0.08      0.09     \n",
              "1.60 0.9525403 0.9535213 0.9544860\n",
              "1.70 0.9616364 0.9624620 0.9632730\n",
              "1.80 0.9692581 0.9699460 0.9706210\n",
              "1.90 0.9755808 0.9761482 0.9767045\n",
              "2.00 0.9807738 0.9812372 0.9816911\n",
              "2.10 0.9849966 0.9853713 0.9857379\n",
              "2.20 0.9883962 0.9886962 0.9889893\n",
              "2.30 0.9911060 0.9913437 0.9915758\n",
              "2.40 0.9932443 0.9934309 0.9936128\n",
              "2.50 0.9949151 0.9950600 0.9952012"
            ]
          },
          "metadata": {}
        }
      ],
      "source": [
        "tabela_normal_padronizada[17:26, ]"
      ]
    },
    {
      "cell_type": "markdown",
      "metadata": {
        "id": "rMRmnaNPG3Go"
      },
      "source": [
        "### Obtendo $z$"
      ]
    },
    {
      "cell_type": "markdown",
      "metadata": {
        "id": "T-3mV1qlUj1t"
      },
      "source": [
        "![alt text](https://caelum-online-public.s3.amazonaws.com/1178-estatistica-parte2/01/img008.png)"
      ]
    },
    {
      "cell_type": "code",
      "execution_count": null,
      "metadata": {
        "id": "nT5ZTwjOG3Go",
        "colab": {
          "base_uri": "https://localhost:8080/",
          "height": 34
        },
        "outputId": "d0791cef-472c-4e3d-f608-263142eeb00e"
      },
      "outputs": [
        {
          "output_type": "display_data",
          "data": {
            "text/html": [
              "0.475"
            ],
            "text/markdown": "0.475",
            "text/latex": "0.475",
            "text/plain": [
              "[1] 0.475"
            ]
          },
          "metadata": {}
        }
      ],
      "source": [
        "0.95 / 2"
      ]
    },
    {
      "cell_type": "code",
      "execution_count": null,
      "metadata": {
        "id": "vMjck-3ZU_sz",
        "colab": {
          "base_uri": "https://localhost:8080/",
          "height": 34
        },
        "outputId": "567d45da-7378-4c35-bed1-9f59189a2376"
      },
      "outputs": [
        {
          "output_type": "display_data",
          "data": {
            "text/html": [
              "0.975"
            ],
            "text/markdown": "0.975",
            "text/latex": "0.975",
            "text/plain": [
              "[1] 0.975"
            ]
          },
          "metadata": {}
        }
      ],
      "source": [
        "0.5 + (0.95 / 2)"
      ]
    },
    {
      "cell_type": "code",
      "execution_count": null,
      "metadata": {
        "id": "L4CMGZ3oVHLX",
        "colab": {
          "base_uri": "https://localhost:8080/",
          "height": 34
        },
        "outputId": "9345244b-f60f-45ae-9bcf-84930d4cd171"
      },
      "outputs": [
        {
          "output_type": "display_data",
          "data": {
            "text/html": [
              "1.96"
            ],
            "text/markdown": "1.96",
            "text/latex": "1.96",
            "text/plain": [
              "[1] 1.96"
            ]
          },
          "metadata": {}
        }
      ],
      "source": [
        "# Com o valor da área (0.975) localizamos os índices das colunas e linhas que somados representam o valor de z.\n",
        "\n",
        "1.9 + 0.06"
      ]
    },
    {
      "cell_type": "code",
      "execution_count": null,
      "metadata": {
        "id": "amXB7CXnFDgs",
        "colab": {
          "base_uri": "https://localhost:8080/",
          "height": 34
        },
        "outputId": "b4ee994d-5a58-4b3e-f8f1-662ad11f902a"
      },
      "outputs": [
        {
          "output_type": "display_data",
          "data": {
            "text/html": [
              "1.95996398454005"
            ],
            "text/markdown": "1.95996398454005",
            "text/latex": "1.95996398454005",
            "text/plain": [
              "[1] 1.959964"
            ]
          },
          "metadata": {}
        }
      ],
      "source": [
        "# Uma outra forma se de obter o valor de z é utilizando a fórmula qnorm.\n",
        "\n",
        "z <- qnorm(0.975)\n",
        "z"
      ]
    },
    {
      "cell_type": "markdown",
      "metadata": {
        "id": "ggXXP8QqTyNA"
      },
      "source": [
        "### Valores de $z$ para os níveis de confiança mais utilizados\n",
        "\n",
        "|Nível de<br>confiança|Valor da área sob<br>a curva normal| $z$ |\n",
        "|:----------------:|:---------------------------------:|:---:|\n",
        "|90%               |0,95                               |1,645|\n",
        "|95%               |0,975                              |1,96 |\n",
        "|99%               |0,995                              |2,575|"
      ]
    },
    {
      "cell_type": "markdown",
      "metadata": {
        "id": "MfE1ru0AG3Hg"
      },
      "source": [
        "### Obtendo $\\sigma_\\bar{x}$"
      ]
    },
    {
      "cell_type": "code",
      "execution_count": null,
      "metadata": {
        "id": "LyQ6UUYtG3Hh",
        "colab": {
          "base_uri": "https://localhost:8080/",
          "height": 34
        },
        "outputId": "4be2ee4e-4901-4d24-ec75-585e23c42edd"
      },
      "outputs": [
        {
          "output_type": "display_data",
          "data": {
            "text/html": [
              "150"
            ],
            "text/markdown": "150",
            "text/latex": "150",
            "text/plain": [
              "[1] 150"
            ]
          },
          "metadata": {}
        }
      ],
      "source": [
        "desvio_padrao <- 150\n",
        "desvio_padrao"
      ]
    },
    {
      "cell_type": "code",
      "execution_count": null,
      "metadata": {
        "id": "ebvikT95G3Hi",
        "colab": {
          "base_uri": "https://localhost:8080/",
          "height": 34
        },
        "outputId": "dfe8c267-4a49-4b7b-f559-3f1ad572129b"
      },
      "outputs": [
        {
          "output_type": "display_data",
          "data": {
            "text/html": [
              "20"
            ],
            "text/markdown": "20",
            "text/latex": "20",
            "text/plain": [
              "[1] 20"
            ]
          },
          "metadata": {}
        }
      ],
      "source": [
        "n <- 20\n",
        "n"
      ]
    },
    {
      "cell_type": "code",
      "execution_count": null,
      "metadata": {
        "id": "TxM3yTpjG3Hk",
        "colab": {
          "base_uri": "https://localhost:8080/",
          "height": 34
        },
        "outputId": "cd0bae13-966b-43dd-a8fa-02b9d383214b"
      },
      "outputs": [
        {
          "output_type": "display_data",
          "data": {
            "text/html": [
              "4.47213595499958"
            ],
            "text/markdown": "4.47213595499958",
            "text/latex": "4.47213595499958",
            "text/plain": [
              "[1] 4.472136"
            ]
          },
          "metadata": {}
        }
      ],
      "source": [
        "raiz_de_n <- sqrt(20)\n",
        "raiz_de_n"
      ]
    },
    {
      "cell_type": "code",
      "execution_count": null,
      "metadata": {
        "id": "HNAcOpl0G3Hl",
        "colab": {
          "base_uri": "https://localhost:8080/",
          "height": 34
        },
        "outputId": "bf3c0902-b895-404f-b9c8-e7a8da427015"
      },
      "outputs": [
        {
          "output_type": "display_data",
          "data": {
            "text/html": [
              "33.5410196624968"
            ],
            "text/markdown": "33.5410196624968",
            "text/latex": "33.5410196624968",
            "text/plain": [
              "[1] 33.54102"
            ]
          },
          "metadata": {}
        }
      ],
      "source": [
        "sigma <- desvio_padrao / raiz_de_n\n",
        "sigma"
      ]
    },
    {
      "cell_type": "markdown",
      "metadata": {
        "id": "NHbXlLk-G3Hn"
      },
      "source": [
        "### Obtendo $e$"
      ]
    },
    {
      "cell_type": "code",
      "execution_count": null,
      "metadata": {
        "id": "gAfakih5G3Ho",
        "colab": {
          "base_uri": "https://localhost:8080/",
          "height": 34
        },
        "outputId": "c713d265-8719-409f-e704-dda053a1d189"
      },
      "outputs": [
        {
          "output_type": "display_data",
          "data": {
            "text/html": [
              "65.7391905432436"
            ],
            "text/markdown": "65.7391905432436",
            "text/latex": "65.7391905432436",
            "text/plain": [
              "[1] 65.73919"
            ]
          },
          "metadata": {}
        }
      ],
      "source": [
        "e <- z * sigma\n",
        "e"
      ]
    },
    {
      "cell_type": "markdown",
      "metadata": {
        "id": "sx1QTfNrG3Hq"
      },
      "source": [
        "### Solução 1 - Calculando o intervalo de confiança para a média"
      ]
    },
    {
      "cell_type": "code",
      "execution_count": null,
      "metadata": {
        "id": "NlJCcPZnG3Hq",
        "colab": {
          "base_uri": "https://localhost:8080/",
          "height": 34
        },
        "outputId": "be39694f-a832-40e1-ad42-3e711f98f1a0"
      },
      "outputs": [
        {
          "output_type": "display_data",
          "data": {
            "text/html": [
              "<style>\n",
              ".list-inline {list-style: none; margin:0; padding: 0}\n",
              ".list-inline>li {display: inline-block}\n",
              ".list-inline>li:not(:last-child)::after {content: \"\\00b7\"; padding: 0 .5ex}\n",
              "</style>\n",
              "<ol class=list-inline><li>4984.26080945676</li><li>5115.73919054324</li></ol>\n"
            ],
            "text/markdown": "1. 4984.26080945676\n2. 5115.73919054324\n\n\n",
            "text/latex": "\\begin{enumerate*}\n\\item 4984.26080945676\n\\item 5115.73919054324\n\\end{enumerate*}\n",
            "text/plain": [
              "[1] 4984.261 5115.739"
            ]
          },
          "metadata": {}
        }
      ],
      "source": [
        "intervalo <- c(\n",
        "  media_amostral - e,\n",
        "  media_amostral + e\n",
        ")\n",
        "intervalo"
      ]
    },
    {
      "cell_type": "markdown",
      "metadata": {
        "id": "DkFJL7fcG3Ht"
      },
      "source": [
        "### Solução 2 - Calculando o intervalo de confiança para a média\n",
        "\n",
        "#### <font color=red>Documentações:\n",
        "\n",
        "- [**MeanCI**](https://www.rdocumentation.org/packages/DescTools/versions/0.99.30/topics/MeanCI)"
      ]
    },
    {
      "cell_type": "markdown",
      "metadata": {
        "id": "wi_ZFycWFDgt"
      },
      "source": [
        "#### Instalação do pacote DescTools\n",
        "\n",
        "https://cran.r-project.org"
      ]
    },
    {
      "cell_type": "code",
      "execution_count": null,
      "metadata": {
        "scrolled": true,
        "id": "AqFYGtOxFDgt"
      },
      "outputs": [],
      "source": [
        "# install.packages('DescTools')\n",
        "\n",
        "# OU\n",
        "\n",
        "# packageurl <- \"https://cran.r-project.org/src/contrib/Archive/DescTools/DescTools_0.99.30.tar.gz\"\n",
        "# install.packages(packageurl, repos=NULL, type=\"source\")"
      ]
    },
    {
      "cell_type": "code",
      "source": [
        "install.packages('DescTools')"
      ],
      "metadata": {
        "colab": {
          "base_uri": "https://localhost:8080/"
        },
        "id": "LAsRGGt3YQts",
        "outputId": "d127d875-131d-4d37-94a0-dbcd284a4361"
      },
      "execution_count": null,
      "outputs": [
        {
          "output_type": "stream",
          "name": "stderr",
          "text": [
            "Installing package into ‘/usr/local/lib/R/site-library’\n",
            "(as ‘lib’ is unspecified)\n",
            "\n",
            "also installing the dependencies ‘proxy’, ‘rootSolve’, ‘e1071’, ‘lmom’, ‘mvtnorm’, ‘expm’, ‘Rcpp’, ‘Exact’, ‘gld’, ‘BH’\n",
            "\n",
            "\n"
          ]
        }
      ]
    },
    {
      "cell_type": "code",
      "execution_count": null,
      "metadata": {
        "id": "hEqwqp27FDgt"
      },
      "outputs": [],
      "source": [
        "library(DescTools)"
      ]
    },
    {
      "cell_type": "code",
      "execution_count": null,
      "metadata": {
        "id": "W_EIsKg3FDgt",
        "colab": {
          "base_uri": "https://localhost:8080/",
          "height": 192
        },
        "outputId": "eb6682f9-15c3-472b-c13a-347a0b6ad3a9"
      },
      "outputs": [
        {
          "output_type": "display_data",
          "data": {
            "text/html": [
              "<table class=\"dataframe\">\n",
              "<caption>A data.frame: 3 × 1</caption>\n",
              "<thead>\n",
              "\t<tr><th></th><th scope=col>MeanCI.x...5050..sd...sigma..type....norm...conf.level...0.95..</th></tr>\n",
              "\t<tr><th></th><th scope=col>&lt;dbl&gt;</th></tr>\n",
              "</thead>\n",
              "<tbody>\n",
              "\t<tr><th scope=row>mean</th><td>5050.000</td></tr>\n",
              "\t<tr><th scope=row>lwr.ci</th><td>4984.261</td></tr>\n",
              "\t<tr><th scope=row>upr.ci</th><td>5115.739</td></tr>\n",
              "</tbody>\n",
              "</table>\n"
            ],
            "text/markdown": "\nA data.frame: 3 × 1\n\n| <!--/--> | MeanCI.x...5050..sd...sigma..type....norm...conf.level...0.95.. &lt;dbl&gt; |\n|---|---|\n| mean | 5050.000 |\n| lwr.ci | 4984.261 |\n| upr.ci | 5115.739 |\n\n",
            "text/latex": "A data.frame: 3 × 1\n\\begin{tabular}{r|l}\n  & MeanCI.x...5050..sd...sigma..type....norm...conf.level...0.95..\\\\\n  & <dbl>\\\\\n\\hline\n\tmean & 5050.000\\\\\n\tlwr.ci & 4984.261\\\\\n\tupr.ci & 5115.739\\\\\n\\end{tabular}\n",
            "text/plain": [
              "       MeanCI.x...5050..sd...sigma..type....norm...conf.level...0.95..\n",
              "mean   5050.000                                                       \n",
              "lwr.ci 4984.261                                                       \n",
              "upr.ci 5115.739                                                       "
            ]
          },
          "metadata": {}
        }
      ],
      "source": [
        "# Utilizando a função MeanCI do DescTools obtemos os valores do intervalo de confiança para a média de forma mais simplificada.\n",
        "\n",
        "data.frame(MeanCI(x = 5050, sd = sigma, type = 'norm', conf.level = 0.95, sides = 'two.sided'))"
      ]
    },
    {
      "cell_type": "code",
      "source": [
        "mean(dados$Idade) - (z * (sd(dados$Idade) / sqrt(nrow(dados))))\n",
        "mean(dados$Idade) + (z * (sd(dados$Idade) / sqrt(nrow(dados))))"
      ],
      "metadata": {
        "colab": {
          "base_uri": "https://localhost:8080/",
          "height": 52
        },
        "id": "PUrtGxc_cBUq",
        "outputId": "429e8f34-d633-4464-a307-325b98eac636"
      },
      "execution_count": null,
      "outputs": [
        {
          "output_type": "display_data",
          "data": {
            "text/html": [
              "43.9831762984956"
            ],
            "text/markdown": "43.9831762984956",
            "text/latex": "43.9831762984956",
            "text/plain": [
              "[1] 43.98318"
            ]
          },
          "metadata": {}
        },
        {
          "output_type": "display_data",
          "data": {
            "text/html": [
              "44.1596659711556"
            ],
            "text/markdown": "44.1596659711556",
            "text/latex": "44.1596659711556",
            "text/plain": [
              "[1] 44.15967"
            ]
          },
          "metadata": {}
        }
      ]
    },
    {
      "cell_type": "code",
      "source": [
        "sigma <- sd(dados$Idade) / sqrt(nrow(dados))"
      ],
      "metadata": {
        "id": "AUVKuEpdcFq8"
      },
      "execution_count": null,
      "outputs": []
    },
    {
      "cell_type": "code",
      "source": [
        "data.frame(MeanCI(x = mean(dados$Idade), sd = sigma, type = 'norm', conf.level = 0.95, sides = 'two.sided'))"
      ],
      "metadata": {
        "colab": {
          "base_uri": "https://localhost:8080/",
          "height": 192
        },
        "id": "GIWzb-JWcoLS",
        "outputId": "be14ef42-2d8d-4408-c56d-9804641ed70d"
      },
      "execution_count": null,
      "outputs": [
        {
          "output_type": "display_data",
          "data": {
            "text/html": [
              "<table class=\"dataframe\">\n",
              "<caption>A data.frame: 3 × 1</caption>\n",
              "<thead>\n",
              "\t<tr><th></th><th scope=col>MeanCI.x...mean.dados.Idade...sd...sigma..type....norm...conf.level...0.95..</th></tr>\n",
              "\t<tr><th></th><th scope=col>&lt;dbl&gt;</th></tr>\n",
              "</thead>\n",
              "<tbody>\n",
              "\t<tr><th scope=row>mean</th><td>44.07142</td></tr>\n",
              "\t<tr><th scope=row>lwr.ci</th><td>43.98318</td></tr>\n",
              "\t<tr><th scope=row>upr.ci</th><td>44.15967</td></tr>\n",
              "</tbody>\n",
              "</table>\n"
            ],
            "text/markdown": "\nA data.frame: 3 × 1\n\n| <!--/--> | MeanCI.x...mean.dados.Idade...sd...sigma..type....norm...conf.level...0.95.. &lt;dbl&gt; |\n|---|---|\n| mean | 44.07142 |\n| lwr.ci | 43.98318 |\n| upr.ci | 44.15967 |\n\n",
            "text/latex": "A data.frame: 3 × 1\n\\begin{tabular}{r|l}\n  & MeanCI.x...mean.dados.Idade...sd...sigma..type....norm...conf.level...0.95..\\\\\n  & <dbl>\\\\\n\\hline\n\tmean & 44.07142\\\\\n\tlwr.ci & 43.98318\\\\\n\tupr.ci & 44.15967\\\\\n\\end{tabular}\n",
            "text/plain": [
              "       MeanCI.x...mean.dados.Idade...sd...sigma..type....norm...conf.level...0.95..\n",
              "mean   44.07142                                                                    \n",
              "lwr.ci 43.98318                                                                    \n",
              "upr.ci 44.15967                                                                    "
            ]
          },
          "metadata": {}
        }
      ]
    },
    {
      "cell_type": "markdown",
      "source": [
        "## Exercício - 09"
      ],
      "metadata": {
        "id": "aP7RgKXtc-Ir"
      }
    },
    {
      "cell_type": "code",
      "source": [
        "# Para estimar o valor médio gasto por cada cliente de uma grande rede de fast food, foi selecionada uma amostra de 50 clientes. \n",
        "# Assumindo que o valor do desvio padrão da população seja de R$ 6,00 e que essa população se distribui normalmente, obtenha a \n",
        "# margem de erro desta estimativa, para um nível de confiança de 95%.\n",
        "\n",
        "n_ex9 <- 50\n",
        "desvio_padrao_ex9 <- 6\n",
        "nivel_confianca_ex9 <- 0.95\n",
        "probabilidade_ex9 <- 0.5 + (nivel_confianca_ex9 / 2)\n",
        "Z_ex9 <- qnorm(probabilidade_ex9)\n",
        "\n",
        "e_ex9 <- Z_ex9 * (desvio_padrao_ex9 / sqrt(n_ex9))\n",
        "round(e_ex9, 2)"
      ],
      "metadata": {
        "colab": {
          "base_uri": "https://localhost:8080/",
          "height": 34
        },
        "id": "xm_qMbenc-t9",
        "outputId": "72d5ea8f-b284-4d49-92f7-35b45bd25306"
      },
      "execution_count": null,
      "outputs": [
        {
          "output_type": "display_data",
          "data": {
            "text/html": [
              "1.66"
            ],
            "text/markdown": "1.66",
            "text/latex": "1.66",
            "text/plain": [
              "[1] 1.66"
            ]
          },
          "metadata": {}
        }
      ]
    },
    {
      "cell_type": "markdown",
      "source": [
        "## Exercício - 10"
      ],
      "metadata": {
        "id": "zgtBhK1-dpXA"
      }
    },
    {
      "cell_type": "code",
      "source": [
        "# Uma amostra aleatória simples de 1976 itens de uma população normalmente distribuída, com desvio padrão igual a 11, resultou em \n",
        "# uma média amostral de 28. Qual o intervalo de confiança de 90% para a média populacional?\n",
        "\n",
        "n_ex10 <- 1976\n",
        "desvio_padrao_ex10 <- 11\n",
        "media_amostral_ex10 <- 28\n",
        "nivel_confianca_ex10 <- 0.9\n",
        "p_ex10 <- 0.5 + (nivel_confianca_ex10 / 2)\n",
        "Z_ex10 <- qnorm(p_ex10)\n",
        "\n",
        "round( media_amostral_ex10 - ( Z_ex10 * ( desvio_padrao_ex10 / sqrt(n_ex10) ) ), 2 )\n",
        "round( media_amostral_ex10 + ( Z_ex10 * ( desvio_padrao_ex10 / sqrt(n_ex10) ) ), 2 )"
      ],
      "metadata": {
        "colab": {
          "base_uri": "https://localhost:8080/",
          "height": 52
        },
        "id": "ShbH8dRTdp1X",
        "outputId": "77a209ba-1d6e-42e8-b3c9-2b7b3ca692f1"
      },
      "execution_count": null,
      "outputs": [
        {
          "output_type": "display_data",
          "data": {
            "text/html": [
              "27.59"
            ],
            "text/markdown": "27.59",
            "text/latex": "27.59",
            "text/plain": [
              "[1] 27.59"
            ]
          },
          "metadata": {}
        },
        {
          "output_type": "display_data",
          "data": {
            "text/html": [
              "28.41"
            ],
            "text/markdown": "28.41",
            "text/latex": "28.41",
            "text/plain": [
              "[1] 28.41"
            ]
          },
          "metadata": {}
        }
      ]
    },
    {
      "cell_type": "markdown",
      "source": [
        "## Exercício - 11"
      ],
      "metadata": {
        "id": "uw_6xG2NeCyJ"
      }
    },
    {
      "cell_type": "code",
      "source": [
        "# Os voos de determinada ponte aérea apresentam duração normalmente distribuída, com média igual a 120 minutos e desvio padrão igual a \n",
        "# 20 minutos. Responda as seguintes perguntas:\n",
        "\n",
        "# 1. Qual a probabilidade de um voo durar menos de 110 minutos?\n",
        "# 2. Qual a probabilidade de um voo durar mais de 90 minutos?\n",
        "# 3. Qual a duração mínima de 80% das viagens?\n",
        "\n",
        "media <- 120\n",
        "desvio_padrao <- 20\n",
        "\n",
        "# 1. Qual a probabilidade de um voo durar menos de 110 min?\n",
        "Z = (110 - media) / desvio_padrao\n",
        "\n",
        "probabilidade <- pnorm(Z)\n",
        "round(probabilidade, 4)\n",
        "\n",
        "# 2. Qual a probabilidade de um voo durar mais de 90 min?\n",
        "Z = (90 - media) / desvio_padrao\n",
        "\n",
        "probabilidade <- pnorm(-Z)\n",
        "round(probabilidade, 4)\n",
        "\n",
        "# 3. Qual a duração mínima de 80% das viagens?\n",
        "Z <- -qnorm(0.80)\n",
        "x <- Z * desvio_padrao + media\n",
        "\n",
        "round(x, 1)"
      ],
      "metadata": {
        "colab": {
          "base_uri": "https://localhost:8080/",
          "height": 69
        },
        "id": "EicYStpTeDKx",
        "outputId": "8119b034-f339-4986-b5a4-aa06dd432db6"
      },
      "execution_count": null,
      "outputs": [
        {
          "output_type": "display_data",
          "data": {
            "text/html": [
              "0.3085"
            ],
            "text/markdown": "0.3085",
            "text/latex": "0.3085",
            "text/plain": [
              "[1] 0.3085"
            ]
          },
          "metadata": {}
        },
        {
          "output_type": "display_data",
          "data": {
            "text/html": [
              "0.9332"
            ],
            "text/markdown": "0.9332",
            "text/latex": "0.9332",
            "text/plain": [
              "[1] 0.9332"
            ]
          },
          "metadata": {}
        },
        {
          "output_type": "display_data",
          "data": {
            "text/html": [
              "103.2"
            ],
            "text/markdown": "103.2",
            "text/latex": "103.2",
            "text/plain": [
              "[1] 103.2"
            ]
          },
          "metadata": {}
        }
      ]
    },
    {
      "cell_type": "markdown",
      "metadata": {
        "id": "aF9jAC6yG3Gl"
      },
      "source": [
        "# <font color=green>5 CÁLCULO DO TAMANHO DA AMOSTRA</font>\n",
        "***"
      ]
    },
    {
      "cell_type": "markdown",
      "metadata": {
        "id": "BwiygaNqnjrr"
      },
      "source": [
        "## <font color='red'>Problema </font>"
      ]
    },
    {
      "cell_type": "markdown",
      "metadata": {
        "id": "a7RjjVVUnlI3"
      },
      "source": [
        "Estamos estudando o rendimento mensal dos chefes de domicílios com renda até R$\\$$ 5.000,00 no Brasil. Nosso supervisor determinou que o **erro máximo em relação a média seja de R$\\$$ 10,00**. Sabemos que o **desvio padrão populacional** deste grupo de trabalhadores é de **R$\\$$ 1.082,79**. Para um **nível de confiança de 95%**, qual deve ser o tamanho da amostra de nosso estudo?"
      ]
    },
    {
      "cell_type": "markdown",
      "metadata": {
        "id": "za2sGJt6G3Gm"
      },
      "source": [
        "## <font color=green>5.1 Variáveis quantitativas e população infinita</font>\n",
        "***"
      ]
    },
    {
      "cell_type": "markdown",
      "metadata": {
        "id": "3wqMjJWR5sVq"
      },
      "source": [
        "# $$e = z \\frac{\\sigma}{\\sqrt{n}}$$"
      ]
    },
    {
      "cell_type": "markdown",
      "metadata": {
        "id": "X1AxpKtIG3Gn"
      },
      "source": [
        "#### Com desvio padrão conhecido\n",
        "\n",
        "## $$n = \\left(z\\frac{\\sigma}{e}\\right)^2$$\n",
        "\n",
        "#### Com desvio padrão desconhecido\n",
        "\n",
        "## $$n = \\left(z\\frac{s}{e}\\right)^2$$\n",
        "\n",
        "Onde:\n",
        "\n",
        "$z$ = variável normal padronizada\n",
        "\n",
        "$\\sigma$ = desvio padrão populacional\n",
        "\n",
        "$s$ = desvio padrão amostral\n",
        "\n",
        "$e$ = erro inferencial"
      ]
    },
    {
      "cell_type": "markdown",
      "metadata": {
        "id": "T0fysCyDG3Gn"
      },
      "source": [
        "### <font color='red'>Observações</font>\n",
        "\n",
        "1. O desvio padrão ($\\sigma$ ou $s$) e o erro ($e$) devem estar na mesma unidade de medida.\n",
        "\n",
        "2. Quando o erro ($e$) for representado em termos percentuais, deve ser interpretado como um percentual relacionado à média."
      ]
    },
    {
      "cell_type": "markdown",
      "metadata": {
        "id": "WHYBTaupG3Gn"
      },
      "source": [
        "## <font color='blue'>Exemplo: Rendimento médio</font>"
      ]
    },
    {
      "cell_type": "markdown",
      "metadata": {
        "id": "dcdzo7EgG3Go"
      },
      "source": [
        "Estamos estudando o rendimento mensal dos chefes de domicílios no Brasil. Nosso supervisor determinou que o **erro máximo em relação a média seja de R$\\$$ 100,00**. Sabemos que o **desvio padrão populacional** deste grupo de trabalhadores é de **R$\\$$ 3.323,39**. Para um **nível de confiança de 95%**, qual deve ser o tamanho da amostra de nosso estudo?"
      ]
    },
    {
      "cell_type": "code",
      "execution_count": null,
      "metadata": {
        "id": "XtJ5I_kaKDN3",
        "colab": {
          "base_uri": "https://localhost:8080/",
          "height": 34
        },
        "outputId": "050b477a-d0b4-4b40-d074-2fee58df3c3a"
      },
      "outputs": [
        {
          "output_type": "display_data",
          "data": {
            "text/html": [
              "0.475"
            ],
            "text/markdown": "0.475",
            "text/latex": "0.475",
            "text/plain": [
              "[1] 0.475"
            ]
          },
          "metadata": {}
        }
      ],
      "source": [
        "0.95 / 2"
      ]
    },
    {
      "cell_type": "code",
      "execution_count": null,
      "metadata": {
        "id": "-4TLCgNLKC95",
        "colab": {
          "base_uri": "https://localhost:8080/",
          "height": 34
        },
        "outputId": "41439bba-4296-4b77-e0ac-1b9801478868"
      },
      "outputs": [
        {
          "output_type": "display_data",
          "data": {
            "text/html": [
              "0.975"
            ],
            "text/markdown": "0.975",
            "text/latex": "0.975",
            "text/plain": [
              "[1] 0.975"
            ]
          },
          "metadata": {}
        }
      ],
      "source": [
        "0.5 + (0.95 / 2)"
      ]
    },
    {
      "cell_type": "code",
      "execution_count": null,
      "metadata": {
        "id": "7XDT12I4ViYN",
        "colab": {
          "base_uri": "https://localhost:8080/",
          "height": 34
        },
        "outputId": "27789812-3d8d-48fd-8c5c-2256192d1168"
      },
      "outputs": [
        {
          "output_type": "display_data",
          "data": {
            "text/html": [
              "1.95996398454005"
            ],
            "text/markdown": "1.95996398454005",
            "text/latex": "1.95996398454005",
            "text/plain": [
              "[1] 1.959964"
            ]
          },
          "metadata": {}
        }
      ],
      "source": [
        "z <- qnorm(0.975)\n",
        "z"
      ]
    },
    {
      "cell_type": "markdown",
      "metadata": {
        "id": "6uCkW4KlG3Gr"
      },
      "source": [
        "### Obtendo $\\sigma$"
      ]
    },
    {
      "cell_type": "code",
      "execution_count": null,
      "metadata": {
        "id": "1RmtZfj-G3Gr",
        "colab": {
          "base_uri": "https://localhost:8080/",
          "height": 34
        },
        "outputId": "44cf8608-877d-49a9-f667-278dd756b016"
      },
      "outputs": [
        {
          "output_type": "display_data",
          "data": {
            "text/html": [
              "3323.39"
            ],
            "text/markdown": "3323.39",
            "text/latex": "3323.39",
            "text/plain": [
              "[1] 3323.39"
            ]
          },
          "metadata": {}
        }
      ],
      "source": [
        "sigma <- 3323.39\n",
        "sigma"
      ]
    },
    {
      "cell_type": "markdown",
      "metadata": {
        "id": "Cl39PIZ2G3Gt"
      },
      "source": [
        "### Obtendo $e$"
      ]
    },
    {
      "cell_type": "code",
      "execution_count": null,
      "metadata": {
        "id": "NTRMt2gWG3Gt",
        "colab": {
          "base_uri": "https://localhost:8080/",
          "height": 34
        },
        "outputId": "65837dcf-b5cb-4090-e9a0-c9ef18956005"
      },
      "outputs": [
        {
          "output_type": "display_data",
          "data": {
            "text/html": [
              "100"
            ],
            "text/markdown": "100",
            "text/latex": "100",
            "text/plain": [
              "[1] 100"
            ]
          },
          "metadata": {}
        }
      ],
      "source": [
        "e <- 100\n",
        "e"
      ]
    },
    {
      "cell_type": "markdown",
      "metadata": {
        "id": "OlAX3Gj6G3Gv"
      },
      "source": [
        "### Obtendo $n$"
      ]
    },
    {
      "cell_type": "code",
      "execution_count": null,
      "metadata": {
        "id": "0MjluwHPG3Gv",
        "scrolled": true,
        "colab": {
          "base_uri": "https://localhost:8080/",
          "height": 34
        },
        "outputId": "2c5204ee-fcf4-46da-9ccb-297a36bf941f"
      },
      "outputs": [
        {
          "output_type": "display_data",
          "data": {
            "text/html": [
              "4243"
            ],
            "text/markdown": "4243",
            "text/latex": "4243",
            "text/plain": [
              "[1] 4243"
            ]
          },
          "metadata": {}
        }
      ],
      "source": [
        "# Isolando o valor de n na equação determinamos o tamanho que deve ter a amostra para atingir os parâmetros estabelecidos.\n",
        "# Cálculos utilizados para determinar o tamanho de uma amostra em uma população infinita.\n",
        "\n",
        "n <- (z * (sigma / e)) ** 2\n",
        "round(n)"
      ]
    },
    {
      "cell_type": "markdown",
      "source": [
        "## Exercício - 11"
      ],
      "metadata": {
        "id": "vVsyM5aLfX8u"
      }
    },
    {
      "cell_type": "code",
      "source": [
        "# O valor do gasto médio dos clientes de uma loja de conveniência é de R$ 45,50. Assumindo que o\n",
        "# desvio padrão dos gastos é igual a R$ 15,00, qual deve ser o tamanho da amostra para estimarmos \n",
        "# a média populacional, com um nível de significância de 10%? Considere que o erro máximo aceitável seja de 10%.\n",
        "\n",
        "media_ex11 <- 45.5\n",
        "desvio_padrao_ex11 <- 15\n",
        "e_ex11 <- 0.1\n",
        "significancia_ex11 <- 0.1\n",
        "confianca_ex11 <- 1 - significancia_ex11\n",
        "\n",
        "Z_ex11 <- qnorm(0.5 + (confianca_ex11 / 2))\n",
        "e_ex11 <- e_ex11 * media_ex11\n",
        "\n",
        "n_ex11 = ( Z_ex11 * ( desvio_padrao_ex11 / e_ex11 ) ) ** 2\n",
        "round(n_ex11)"
      ],
      "metadata": {
        "colab": {
          "base_uri": "https://localhost:8080/",
          "height": 34
        },
        "id": "bkiIp5WjfYYV",
        "outputId": "97b6e6dc-135a-42f0-985a-73e847a1eee1"
      },
      "execution_count": null,
      "outputs": [
        {
          "output_type": "display_data",
          "data": {
            "text/html": [
              "29"
            ],
            "text/markdown": "29",
            "text/latex": "29",
            "text/plain": [
              "[1] 29"
            ]
          },
          "metadata": {}
        }
      ]
    },
    {
      "cell_type": "markdown",
      "source": [
        "## Exercício - 12"
      ],
      "metadata": {
        "id": "JxqUAFo8f0fa"
      }
    },
    {
      "cell_type": "code",
      "source": [
        "# Uma amostra com 40 cupons fiscais, coletados aleatoriamente em um shopping center, apresentou um \n",
        "# desvio padrão do total pago igual a R$ 42,00. A associação de lojistas precisa estimar a média populacional \n",
        "# das vendas, com um erro máximo igual a R$ 6,00 e empregando um nível de confiança igual a 90%. Qual o tamanho da amostra a analisar?\n",
        "\n",
        "desvio_padrao_ex12 <- 42\n",
        "e_ex12 <- 6\n",
        "confianca_ex12 <- 0.9\n",
        "\n",
        "Z_ex12 <- qnorm(0.5 + (confianca_ex12 / 2))\n",
        "\n",
        "n_ex12 = ( Z_ex12 * ( desvio_padrao_ex12 / e_ex12 ) ) ** 2\n",
        "round(n_ex12)"
      ],
      "metadata": {
        "colab": {
          "base_uri": "https://localhost:8080/",
          "height": 34
        },
        "id": "amrNLdmcf04x",
        "outputId": "4d63b8ff-bfca-494a-80fe-65173869357f"
      },
      "execution_count": null,
      "outputs": [
        {
          "output_type": "display_data",
          "data": {
            "text/html": [
              "133"
            ],
            "text/markdown": "133",
            "text/latex": "133",
            "text/plain": [
              "[1] 133"
            ]
          },
          "metadata": {}
        }
      ]
    },
    {
      "cell_type": "markdown",
      "metadata": {
        "id": "MjP0xsqyTyNO"
      },
      "source": [
        "---"
      ]
    },
    {
      "cell_type": "markdown",
      "metadata": {
        "id": "dx2vyLC-TyNP"
      },
      "source": [
        "## <font color='red'>Problema</font>"
      ]
    },
    {
      "cell_type": "markdown",
      "metadata": {
        "id": "uzK2fAOFTyNP"
      },
      "source": [
        "Em um lote de **10.000 latas** de refrigerante foi realizada uma amostra aleatória simples de **100 latas** e foi obtido o **desvio padrão amostral do conteúdo das latas igual a 12 ml**. O fabricante estipula um **erro máximo sobre a média populacional de apenas 5 ml**. Para garantir um **nível de confiança de 95%** qual o tamanho de amostra deve ser selecionado para este estudo?"
      ]
    },
    {
      "cell_type": "markdown",
      "metadata": {
        "id": "FlAz5kycTyNQ"
      },
      "source": [
        "## <font color=green>5.2 Variáveis quantitativas e população finita</font>\n",
        "***"
      ]
    },
    {
      "cell_type": "markdown",
      "metadata": {
        "id": "UOe02McSTyNR"
      },
      "source": [
        "#### Com desvio padrão conhecido\n",
        "\n",
        "## $$n = \\frac{z^2 \\sigma^2 N}{z^2 \\sigma^2 + e^2(N-1)}$$\n",
        "\n",
        "#### Com desvio padrão desconhecido\n",
        "\n",
        "## $$n = \\frac{z^2 s^2 N}{z^2 s^2 + e^2(N-1)}$$\n",
        "\n",
        "Onde:\n",
        "\n",
        "$N$ = tamanho da população\n",
        "\n",
        "$z$ = variável normal padronizada\n",
        "\n",
        "$\\sigma$ = desvio padrão populacional\n",
        "\n",
        "$s$ = desvio padrão amostral\n",
        "\n",
        "$e$ = erro inferencial"
      ]
    },
    {
      "cell_type": "markdown",
      "metadata": {
        "id": "cUELtYTKTyNS"
      },
      "source": [
        "## <font color='blue'>Exemplo: Indústria de refrigerantes</font>"
      ]
    },
    {
      "cell_type": "markdown",
      "metadata": {
        "id": "upv1mM7fTyNS"
      },
      "source": [
        "Em um lote de **10.000 latas** de refrigerante foi realizada uma amostra aleatória simples de **100 latas** e foi obtido o **desvio padrão amostral do conteúdo das latas igual a 12 ml**. O fabricante estipula um **erro máximo sobre a média populacional de apenas 5 ml**. Para garantir um **nível de confiança de 95%** qual o tamanho de amostra deve ser selecionado para este estudo?"
      ]
    },
    {
      "cell_type": "markdown",
      "metadata": {
        "id": "_y3-3VIBTyNS"
      },
      "source": [
        "### Obtendo $N$"
      ]
    },
    {
      "cell_type": "code",
      "execution_count": null,
      "metadata": {
        "id": "gXWn9zTETyNS",
        "colab": {
          "base_uri": "https://localhost:8080/",
          "height": 34
        },
        "outputId": "488d15d4-2208-4bfa-ae75-9147f5f23aa5"
      },
      "outputs": [
        {
          "output_type": "display_data",
          "data": {
            "text/html": [
              "10000"
            ],
            "text/markdown": "10000",
            "text/latex": "10000",
            "text/plain": [
              "[1] 10000"
            ]
          },
          "metadata": {}
        }
      ],
      "source": [
        "N <- 10000\n",
        "N"
      ]
    },
    {
      "cell_type": "markdown",
      "metadata": {
        "id": "xCgZ1JSjTyNT"
      },
      "source": [
        "### Obtendo $z$"
      ]
    },
    {
      "cell_type": "code",
      "execution_count": null,
      "metadata": {
        "id": "ZUs9aYJRTyNT",
        "colab": {
          "base_uri": "https://localhost:8080/",
          "height": 34
        },
        "outputId": "29da4a65-9c0c-4cec-c2f1-a30e4334a595"
      },
      "outputs": [
        {
          "output_type": "display_data",
          "data": {
            "text/html": [
              "1.95996398454005"
            ],
            "text/markdown": "1.95996398454005",
            "text/latex": "1.95996398454005",
            "text/plain": [
              "[1] 1.959964"
            ]
          },
          "metadata": {}
        }
      ],
      "source": [
        "z <- qnorm((0.5 + (0.95 / 2)))\n",
        "z"
      ]
    },
    {
      "cell_type": "markdown",
      "metadata": {
        "id": "KCnigJd8TyNU"
      },
      "source": [
        "### Obtendo $s$"
      ]
    },
    {
      "cell_type": "code",
      "execution_count": null,
      "metadata": {
        "id": "fKqFI_TZTyNU",
        "colab": {
          "base_uri": "https://localhost:8080/",
          "height": 34
        },
        "outputId": "9aac2a16-979a-4dd0-8605-b2ebd947f58b"
      },
      "outputs": [
        {
          "output_type": "display_data",
          "data": {
            "text/html": [
              "12"
            ],
            "text/markdown": "12",
            "text/latex": "12",
            "text/plain": [
              "[1] 12"
            ]
          },
          "metadata": {}
        }
      ],
      "source": [
        "s <- 12\n",
        "s"
      ]
    },
    {
      "cell_type": "markdown",
      "metadata": {
        "id": "K9gDEIUdTyNX"
      },
      "source": [
        "### Obtendo $e$"
      ]
    },
    {
      "cell_type": "code",
      "execution_count": null,
      "metadata": {
        "id": "hyhJ3MQKTyNX",
        "colab": {
          "base_uri": "https://localhost:8080/",
          "height": 34
        },
        "outputId": "71298cd2-d9c5-4e48-9d98-66b27afa5eca"
      },
      "outputs": [
        {
          "output_type": "display_data",
          "data": {
            "text/html": [
              "5"
            ],
            "text/markdown": "5",
            "text/latex": "5",
            "text/plain": [
              "[1] 5"
            ]
          },
          "metadata": {}
        }
      ],
      "source": [
        "e <- 5\n",
        "e"
      ]
    },
    {
      "cell_type": "markdown",
      "metadata": {
        "id": "Dsm3bg9gTyNX"
      },
      "source": [
        "### Obtendo $n$\n",
        "\n",
        "## $$n = \\frac{z^2 s^2 N}{z^2 s^2 + e^2(N-1)}$$"
      ]
    },
    {
      "cell_type": "code",
      "execution_count": null,
      "metadata": {
        "id": "0XxWfaPdTyNY",
        "scrolled": true,
        "colab": {
          "base_uri": "https://localhost:8080/",
          "height": 34
        },
        "outputId": "88e7264f-ace5-4897-c8b5-76209d35302e"
      },
      "outputs": [
        {
          "output_type": "display_data",
          "data": {
            "text/html": [
              "22"
            ],
            "text/markdown": "22",
            "text/latex": "22",
            "text/plain": [
              "[1] 22"
            ]
          },
          "metadata": {}
        }
      ],
      "source": [
        "n <- ((z ** 2) * (s ** 2) * (N)) / (((z ** 2) * (s ** 2)) + ((e ** 2) * (N - 1)))\n",
        "round(n)"
      ]
    },
    {
      "cell_type": "markdown",
      "source": [
        "## Exercício - 13"
      ],
      "metadata": {
        "id": "43gQP7e7j9ky"
      }
    },
    {
      "cell_type": "code",
      "source": [
        "# Um fabricante de farinha verificou em uma amostra aleatória formada por 200 sacos de 25 kg de um lote \n",
        "# formado por 2.000 sacos apresentou um desvio padrão amostral do peso igual a 480 g. Considerando um erro \n",
        "# máximo associado à média populacional igual a 0,3 kg e um nível de confiança igual a 95%, qual o tamanho \n",
        "# de amostra deveria ser selecionado para obtermos uma estimativa confiável do parâmetro populacional?\n",
        "\n",
        "N_ex13 <- 2000\n",
        "Z_ex13 <- qnorm(0.5 + (0.95 / 2))\n",
        "s_ex13 <- 480\n",
        "e_ex13 <- 0.3 * 1000   # Convertendo kg para g\n",
        "n_ex13 <- ((Z_ex13**2) * (s_ex13**2) * (N_ex13)) / (((Z_ex13**2) * (s_ex13**2)) + ((e_ex13**2) * (N_ex13 - 1)))\n",
        "\n",
        "round(n_ex13)"
      ],
      "metadata": {
        "colab": {
          "base_uri": "https://localhost:8080/",
          "height": 34
        },
        "id": "Wzvi-0yCj98q",
        "outputId": "a376640f-767f-4b2f-fea6-2a965a30525f"
      },
      "execution_count": null,
      "outputs": [
        {
          "output_type": "display_data",
          "data": {
            "text/html": [
              "10"
            ],
            "text/markdown": "10",
            "text/latex": "10",
            "text/plain": [
              "[1] 10"
            ]
          },
          "metadata": {}
        }
      ]
    },
    {
      "cell_type": "markdown",
      "metadata": {
        "id": "XNH7CMglG3Hv"
      },
      "source": [
        "# <font color=green>6 FIXANDO O CONTEÚDO</font>\n",
        "***"
      ]
    },
    {
      "cell_type": "markdown",
      "metadata": {
        "id": "iRYqVAxuG3Hv"
      },
      "source": [
        "## <font color='blue'>Exemplo: Rendimento médio</font>"
      ]
    },
    {
      "cell_type": "markdown",
      "metadata": {
        "id": "ggloHI5sG3Hw"
      },
      "source": [
        "Estamos estudando o **rendimento mensal dos chefes de domicílios com renda até R$\\$$ 5.000,00 no Brasil**. Nosso supervisor determinou que o **erro máximo em relação a média seja de R$\\$$ 10,00**. Sabemos que o **desvio padrão populacional** deste grupo de trabalhadores é de **R$\\$$ 1.082,79** e que a **média populacional** é de **R$\\$$ 1.426,54**. Para um **nível de confiança de 95%**, qual deve ser o tamanho da amostra de nosso estudo? Qual o intervalo de confiança para a média considerando o tamanho de amostra obtido?"
      ]
    },
    {
      "cell_type": "markdown",
      "metadata": {
        "id": "JZDvLD-NG3Hw"
      },
      "source": [
        "### Construindo o dataset conforme especificado pelo problema"
      ]
    },
    {
      "cell_type": "code",
      "execution_count": null,
      "metadata": {
        "id": "qlnYQeaKG3Hw"
      },
      "outputs": [],
      "source": [
        "renda_5000 <- dados[dados$Renda <= 5000, ]"
      ]
    },
    {
      "cell_type": "code",
      "source": [
        "head(renda_5000, 5)"
      ],
      "metadata": {
        "colab": {
          "base_uri": "https://localhost:8080/",
          "height": 255
        },
        "id": "Dk3PbwR4Vtxk",
        "outputId": "4207848a-290d-4237-8d34-7b4cc8258d02"
      },
      "execution_count": null,
      "outputs": [
        {
          "output_type": "display_data",
          "data": {
            "text/html": [
              "<table class=\"dataframe\">\n",
              "<caption>A data.frame: 5 × 7</caption>\n",
              "<thead>\n",
              "\t<tr><th></th><th scope=col>UF</th><th scope=col>Sexo</th><th scope=col>Idade</th><th scope=col>Cor</th><th scope=col>Anos.de.Estudo</th><th scope=col>Renda</th><th scope=col>Altura</th></tr>\n",
              "\t<tr><th></th><th scope=col>&lt;int&gt;</th><th scope=col>&lt;int&gt;</th><th scope=col>&lt;int&gt;</th><th scope=col>&lt;int&gt;</th><th scope=col>&lt;int&gt;</th><th scope=col>&lt;int&gt;</th><th scope=col>&lt;dbl&gt;</th></tr>\n",
              "</thead>\n",
              "<tbody>\n",
              "\t<tr><th scope=row>1</th><td>11</td><td>0</td><td>23</td><td>8</td><td>12</td><td> 800</td><td>1.603808</td></tr>\n",
              "\t<tr><th scope=row>2</th><td>11</td><td>1</td><td>23</td><td>2</td><td>12</td><td>1150</td><td>1.739790</td></tr>\n",
              "\t<tr><th scope=row>3</th><td>11</td><td>1</td><td>35</td><td>8</td><td>15</td><td> 880</td><td>1.760444</td></tr>\n",
              "\t<tr><th scope=row>4</th><td>11</td><td>0</td><td>46</td><td>2</td><td> 6</td><td>3500</td><td>1.783158</td></tr>\n",
              "\t<tr><th scope=row>5</th><td>11</td><td>1</td><td>47</td><td>8</td><td> 9</td><td> 150</td><td>1.690631</td></tr>\n",
              "</tbody>\n",
              "</table>\n"
            ],
            "text/markdown": "\nA data.frame: 5 × 7\n\n| <!--/--> | UF &lt;int&gt; | Sexo &lt;int&gt; | Idade &lt;int&gt; | Cor &lt;int&gt; | Anos.de.Estudo &lt;int&gt; | Renda &lt;int&gt; | Altura &lt;dbl&gt; |\n|---|---|---|---|---|---|---|---|\n| 1 | 11 | 0 | 23 | 8 | 12 |  800 | 1.603808 |\n| 2 | 11 | 1 | 23 | 2 | 12 | 1150 | 1.739790 |\n| 3 | 11 | 1 | 35 | 8 | 15 |  880 | 1.760444 |\n| 4 | 11 | 0 | 46 | 2 |  6 | 3500 | 1.783158 |\n| 5 | 11 | 1 | 47 | 8 |  9 |  150 | 1.690631 |\n\n",
            "text/latex": "A data.frame: 5 × 7\n\\begin{tabular}{r|lllllll}\n  & UF & Sexo & Idade & Cor & Anos.de.Estudo & Renda & Altura\\\\\n  & <int> & <int> & <int> & <int> & <int> & <int> & <dbl>\\\\\n\\hline\n\t1 & 11 & 0 & 23 & 8 & 12 &  800 & 1.603808\\\\\n\t2 & 11 & 1 & 23 & 2 & 12 & 1150 & 1.739790\\\\\n\t3 & 11 & 1 & 35 & 8 & 15 &  880 & 1.760444\\\\\n\t4 & 11 & 0 & 46 & 2 &  6 & 3500 & 1.783158\\\\\n\t5 & 11 & 1 & 47 & 8 &  9 &  150 & 1.690631\\\\\n\\end{tabular}\n",
            "text/plain": [
              "  UF Sexo Idade Cor Anos.de.Estudo Renda Altura  \n",
              "1 11 0    23    8   12              800  1.603808\n",
              "2 11 1    23    2   12             1150  1.739790\n",
              "3 11 1    35    8   15              880  1.760444\n",
              "4 11 0    46    2    6             3500  1.783158\n",
              "5 11 1    47    8    9              150  1.690631"
            ]
          },
          "metadata": {}
        }
      ]
    },
    {
      "cell_type": "code",
      "execution_count": null,
      "metadata": {
        "id": "aZFQRbxfFDgw",
        "colab": {
          "base_uri": "https://localhost:8080/",
          "height": 34
        },
        "outputId": "491b9157-cf1a-4d8d-830f-a8c6754fd633"
      },
      "outputs": [
        {
          "output_type": "display_data",
          "data": {
            "text/html": [
              "1082.79454903068"
            ],
            "text/markdown": "1082.79454903068",
            "text/latex": "1082.79454903068",
            "text/plain": [
              "[1] 1082.795"
            ]
          },
          "metadata": {}
        }
      ],
      "source": [
        "sigma <- sd(renda_5000$Renda)\n",
        "sigma"
      ]
    },
    {
      "cell_type": "code",
      "execution_count": null,
      "metadata": {
        "id": "VKuxbygIG3Hy",
        "colab": {
          "base_uri": "https://localhost:8080/",
          "height": 34
        },
        "outputId": "8dc4d491-66cf-4f3b-e0d3-c00a4261be24"
      },
      "outputs": [
        {
          "output_type": "display_data",
          "data": {
            "text/html": [
              "1426.53721449472"
            ],
            "text/markdown": "1426.53721449472",
            "text/latex": "1426.53721449472",
            "text/plain": [
              "[1] 1426.537"
            ]
          },
          "metadata": {}
        }
      ],
      "source": [
        "media <- mean(renda_5000$Renda)\n",
        "media"
      ]
    },
    {
      "cell_type": "markdown",
      "metadata": {
        "id": "F33TdkXdG3H2"
      },
      "source": [
        "### Calculando o tamanho da amostra"
      ]
    },
    {
      "cell_type": "code",
      "execution_count": null,
      "metadata": {
        "id": "sWIvnmygG3H2",
        "colab": {
          "base_uri": "https://localhost:8080/",
          "height": 34
        },
        "outputId": "01329a58-cb8d-4784-92a9-17cdf97d005c"
      },
      "outputs": [
        {
          "output_type": "display_data",
          "data": {
            "text/html": [
              "45039"
            ],
            "text/markdown": "45039",
            "text/latex": "45039",
            "text/plain": [
              "[1] 45039"
            ]
          },
          "metadata": {}
        }
      ],
      "source": [
        "z <- qnorm(0.975)\n",
        "e <- 10\n",
        "n <- (z * (sigma / e)) ** 2\n",
        "round(n)"
      ]
    },
    {
      "cell_type": "markdown",
      "metadata": {
        "id": "xRN_gmmLG3H6"
      },
      "source": [
        "### Calculando o intervalo de confiança para a média"
      ]
    },
    {
      "cell_type": "code",
      "execution_count": null,
      "metadata": {
        "id": "Lc6FnQpJFDgw"
      },
      "outputs": [],
      "source": [
        "limite_inferior <- mean(renda_5000$Renda) - (z * (sd(renda_5000$Renda) / sqrt(n)))\n",
        "limite_superior <- mean(renda_5000$Renda) + (z * (sd(renda_5000$Renda) / sqrt(n)))"
      ]
    },
    {
      "cell_type": "code",
      "execution_count": null,
      "metadata": {
        "id": "xHsqn6WlFDgw",
        "colab": {
          "base_uri": "https://localhost:8080/",
          "height": 34
        },
        "outputId": "8f88f126-515d-41bc-dbc8-6770f15e13f8"
      },
      "outputs": [
        {
          "output_type": "display_data",
          "data": {
            "text/html": [
              "1416.53721449472"
            ],
            "text/markdown": "1416.53721449472",
            "text/latex": "1416.53721449472",
            "text/plain": [
              "[1] 1416.537"
            ]
          },
          "metadata": {}
        }
      ],
      "source": [
        "limite_inferior"
      ]
    },
    {
      "cell_type": "code",
      "execution_count": null,
      "metadata": {
        "id": "utfupcu6FDgw",
        "colab": {
          "base_uri": "https://localhost:8080/",
          "height": 34
        },
        "outputId": "3c7cffa8-1aba-492a-cf9a-0e52ae58a2cf"
      },
      "outputs": [
        {
          "output_type": "display_data",
          "data": {
            "text/html": [
              "1426.53721449472"
            ],
            "text/markdown": "1426.53721449472",
            "text/latex": "1426.53721449472",
            "text/plain": [
              "[1] 1426.537"
            ]
          },
          "metadata": {}
        }
      ],
      "source": [
        "media"
      ]
    },
    {
      "cell_type": "code",
      "execution_count": null,
      "metadata": {
        "id": "MjbpsutxFDgw",
        "colab": {
          "base_uri": "https://localhost:8080/",
          "height": 34
        },
        "outputId": "c48dafb0-9ad3-43e1-ce83-3545afbf38b5"
      },
      "outputs": [
        {
          "output_type": "display_data",
          "data": {
            "text/html": [
              "1436.53721449472"
            ],
            "text/markdown": "1436.53721449472",
            "text/latex": "1436.53721449472",
            "text/plain": [
              "[1] 1436.537"
            ]
          },
          "metadata": {}
        }
      ],
      "source": [
        "limite_superior"
      ]
    },
    {
      "cell_type": "markdown",
      "metadata": {
        "id": "xWAG8q8oG3H8"
      },
      "source": [
        "### Realizando uma prova gráfica"
      ]
    },
    {
      "cell_type": "code",
      "execution_count": null,
      "metadata": {
        "id": "AzLEsCgfFDgx",
        "colab": {
          "base_uri": "https://localhost:8080/",
          "height": 257
        },
        "outputId": "b7353e31-be9d-4d3a-f2c0-0e31d092f379"
      },
      "outputs": [
        {
          "output_type": "display_data",
          "data": {
            "text/plain": [
              "plot without title"
            ],
            "image/png": "[encoded data removed]"
          },
          "metadata": {
            "image/png": {
              "width": 420,
              "height": 240
            }
          }
        }
      ],
      "source": [
        "# No gráfico podemos identificar que todos os pontos de médias das amostras selecionadas estão dentro do limite inferior e superior de 95%,\n",
        "# ficando fora apenas alguns pontos que representam os 5% de limite de erro.\n",
        "\n",
        "tamanho_simulacao = 1000\n",
        "medias <- c()\n",
        "\n",
        "for(i in 1:tamanho_simulacao){\n",
        "    medias <- c(medias, mean(sample_n(renda_5000, n)$Renda))\n",
        "}\n",
        "medias <- data.frame(medias)\n",
        "\n",
        "ggplot(data = medias, aes(x = c(1:tamanho_simulacao), y = medias)) + \n",
        "    geom_point(size = 1.5, stroke = 0) + \n",
        "    geom_hline(yintercept = media, color = 'green') + \n",
        "    geom_hline(yintercept = limite_inferior, color = 'red') + \n",
        "    geom_hline(yintercept = limite_superior, color = 'red')"
      ]
    },
    {
      "cell_type": "markdown",
      "source": [
        "## Exercício - 014"
      ],
      "metadata": {
        "id": "A4Jfccnzg3eH"
      }
    },
    {
      "cell_type": "code",
      "source": [
        "# Uma concessionária tem suas vendas distribuídas de acordo com uma distribuição de Poisson. Sabendo-se que a concessionária \n",
        "# vende em média 12 carros por mês (30 dias) e avaliando apenas uma quinzena de vendas (15 dias), qual a probabilidade de a empresa vender apenas 7 carros?\n",
        "\n",
        "media_ex14 <- 12 / 2\n",
        "k_ex14 <- 7\n",
        "\n",
        "probabilidade_ex14 <- dpois(x = k_ex14, lambda = media_ex14)\n",
        "round(probabilidade_ex14, 6)"
      ],
      "metadata": {
        "colab": {
          "base_uri": "https://localhost:8080/",
          "height": 34
        },
        "id": "wKHKK_77g3zM",
        "outputId": "0def3ef7-bb99-4fe5-8d29-7144c670ef30"
      },
      "execution_count": null,
      "outputs": [
        {
          "output_type": "display_data",
          "data": {
            "text/html": [
              "0.137677"
            ],
            "text/markdown": "0.137677",
            "text/latex": "0.137677",
            "text/plain": [
              "[1] 0.137677"
            ]
          },
          "metadata": {}
        }
      ]
    }
  ],
  "metadata": {
    "colab": {
      "provenance": []
    },
    "kernelspec": {
      "display_name": "R",
      "language": "R",
      "name": "ir"
    },
    "language_info": {
      "codemirror_mode": "r",
      "file_extension": ".r",
      "mimetype": "text/x-r-source",
      "name": "R",
      "pygments_lexer": "r",
      "version": "3.6.1"
    }
  },
  "nbformat": 4,
  "nbformat_minor": 0
}